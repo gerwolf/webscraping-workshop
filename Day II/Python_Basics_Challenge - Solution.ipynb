{
 "cells": [
  {
   "cell_type": "markdown",
   "metadata": {
    "slideshow": {
     "slide_type": "slide"
    }
   },
   "source": [
    "## Python Basics - Challenge"
   ]
  },
  {
   "cell_type": "markdown",
   "metadata": {
    "slideshow": {
     "slide_type": "fragment"
    }
   },
   "source": [
    "\n",
    "\n",
    "- The file `guardian_articles_corona.json` contains utf-8 encoded articles for the search term *coronavirus* in the year 2020 from the [The Guardian API](http://open-platform.theguardian.com/)  (retrieved 13/05/2020)\n",
    "- The objective is to simplify the data structure such that analyses can be run afterwards\n",
    "- Make use of the exercises and notebooks we have discussed previously\n",
    "- The challenge is much more comprehensive than the other tasks. It's OK if the solution takes more time. You might also want to tackle the challenge in your groups."
   ]
  },
  {
   "cell_type": "markdown",
   "metadata": {
    "slideshow": {
     "slide_type": "skip"
    }
   },
   "source": [
    "### 1.\n",
    "\n",
    "Download the `JSON` file, read it into Python and familiarise yourself with the data structure. How many artciles does the file contain? \n",
    "\n",
    "### 2. \n",
    "\n",
    "Write a function to process the list with articles. Simplify the data structure according to the following Input / Output example:\n",
    "\n",
    "**Input:**\n",
    "\n",
    "```\n",
    "{\n",
    "    'id': 'world/2020/may/08/coronavirus-the-week-explained',\n",
    "    'type\": 'article',\n",
    "    'sectionId': \"world',\n",
    "    'sectionName': 'World news',\n",
    "    'webPublicationDate': '2020-05-08T10:54:45Z',\n",
    "    'webTitle': 'Coronavirus: the week explained',\n",
    "    'webUrl': 'https://www.theguardian.com/world/2020/may/08/coronavirus-the-week-explained',\n",
    "    'apiUrl': 'https://content.guardianapis.com/world/2020/may/08/coronavirus-the-week-explained',\n",
    "    'fields': {\n",
    "      'bodyText': 'Welcome to our weekly roundup of developments in the coronavirus pandemic, which continues ...',\n",
    "      'charCount': '6139'},     \n",
    "   'tags': \n",
    "   [{'id': 'world/coronavirus-outbreak',\n",
    "   'type': 'keyword',\n",
    "   'sectionId': 'world',\n",
    "   'sectionName': 'World news',\n",
    "   'webTitle': 'Coronavirus outbreak',\n",
    "   'webUrl': 'https://www.theguardian.com/world/coronavirus-outbreak',\n",
    "   'apiUrl': 'https://content.guardianapis.com/world/coronavirus-outbreak',\n",
    "   'references': []},\n",
    "  {'id': 'science/science',\n",
    "   'type': 'keyword',\n",
    "   'sectionId': 'science',\n",
    "   'sectionName': 'Science',\n",
    "   'webTitle': 'Science',\n",
    "   'webUrl': 'https://www.theguardian.com/science/science',\n",
    "   'apiUrl': 'https://content.guardianapis.com/science/science',\n",
    "   'references': []}]\n",
    "   ...\n",
    "\n",
    "```\n",
    "\n",
    "**Output:**\n",
    "\n",
    "```\n",
    "{'chars': 6139,\n",
    " 'id': 'world/2020/may/08/coronavirus-the-week-explained',\n",
    " 'section': 'World news',\n",
    " 'tags': 'world/coronavirus-outbreak, science/science',\n",
    " 'text': 'Welcome to our weekly roundup of developments in the coronavirus pandemic, which continues ...',\n",
    " 'title': 'Coronavirus: the week explained',\n",
    " 'url': 'https://www.theguardian.com/world/2020/may/08/coronavirus-the-week-explained',\n",
    " 'month': 5}\n",
    "```\n",
    "\n",
    "### 3.\n",
    "The variable `chars` in your processed articles contains the particular number of characters in the text. Check by a sample article whether this result is correct.\n",
    "      \n",
    "### 4.\n",
    "Find out in which month most articles were published.\n",
    "\n",
    "### 5.\n",
    "Find the three most frequently used tags from all articles.\n",
    "\n",
    "### 6.\n",
    "Return the titles of the five longest articles (= number of characters).\n",
    "\n",
    "### 7.\n",
    "Store the processed articles in a `JSON` file. Be careful to specify the text encoding as `utf-8`."
   ]
  },
  {
   "cell_type": "code",
   "execution_count": 1,
   "metadata": {
    "slideshow": {
     "slide_type": "subslide"
    }
   },
   "outputs": [],
   "source": [
    "# Code for Python challenge\n",
    "\n",
    "# Preamble\n",
    "\n",
    "import zipfile\n",
    "import json\n",
    "import os\n",
    "import datetime\n",
    "import pandas as pd\n",
    "from tqdm.notebook import tqdm\n",
    "\n",
    "# Reading in the .zip file to avoid temporary extraction\n",
    "\n",
    "zip_file_path = os.getcwd() + '\\\\guardian_articles_corona.zip'\n",
    "zf = zipfile.ZipFile(zip_file_path, \"r\")\n",
    "\n",
    "for name in zf.namelist():\n",
    "    \n",
    "    with zf.open(name) as f:\n",
    "        \n",
    "        data = f.read()  \n",
    "        d = json.loads(data)"
   ]
  },
  {
   "cell_type": "code",
   "execution_count": 2,
   "metadata": {},
   "outputs": [],
   "source": [
    "# Function to parse JSON objects from a list\n",
    "\n",
    "def parse_tweets(json_object):\n",
    "    \n",
    "    tweet_list = []\n",
    "\n",
    "    for tweet in tqdm(json_object):\n",
    "    \n",
    "        empty_dict = {}\n",
    "    \n",
    "        empty_dict['chars'] = tweet['fields']['charCount']\n",
    "        empty_dict['id'] = tweet['id']\n",
    "        empty_dict['section'] = tweet['sectionName']\n",
    "    \n",
    "        tags_list = [tag['id'] for tag in tweet['tags']]\n",
    "        one_string = ', '.join([s for s in tags_list])\n",
    "        empty_dict['tags'] = one_string\n",
    "        empty_dict['text'] = tweet['fields']['bodyText']\n",
    "        empty_dict['title'] = tweet['webTitle']\n",
    "        empty_dict['url'] = tweet['webUrl']\n",
    "        empty_dict['month'] = datetime.datetime.strptime(tweet['webPublicationDate'][:10], \"%Y-%m-%d\").month\n",
    "    \n",
    "        tweet_list.append(empty_dict)\n",
    "        \n",
    "    return tweet_list"
   ]
  },
  {
   "cell_type": "code",
   "execution_count": 3,
   "metadata": {},
   "outputs": [
    {
     "data": {
      "application/vnd.jupyter.widget-view+json": {
       "model_id": "c2419b36640a42a3b673d5adc3fcacd3",
       "version_major": 2,
       "version_minor": 0
      },
      "text/plain": [
       "  0%|          | 0/10801 [00:00<?, ?it/s]"
      ]
     },
     "metadata": {},
     "output_type": "display_data"
    }
   ],
   "source": [
    "data = parse_tweets(d)"
   ]
  },
  {
   "cell_type": "code",
   "execution_count": 4,
   "metadata": {},
   "outputs": [
    {
     "data": {
      "text/plain": [
       "True"
      ]
     },
     "execution_count": 4,
     "metadata": {},
     "output_type": "execute_result"
    }
   ],
   "source": [
    "# Checking whether the extracted information on number of characters in text coincides with our computation of the length of\n",
    "# the articles length\n",
    "\n",
    "sample_index = 0\n",
    "data[sample_index]['chars'] == str(len(data[sample_index]['text']))"
   ]
  },
  {
   "cell_type": "code",
   "execution_count": 6,
   "metadata": {},
   "outputs": [
    {
     "data": {
      "text/html": [
       "<div>\n",
       "<style scoped>\n",
       "    .dataframe tbody tr th:only-of-type {\n",
       "        vertical-align: middle;\n",
       "    }\n",
       "\n",
       "    .dataframe tbody tr th {\n",
       "        vertical-align: top;\n",
       "    }\n",
       "\n",
       "    .dataframe thead th {\n",
       "        text-align: right;\n",
       "    }\n",
       "</style>\n",
       "<table border=\"1\" class=\"dataframe\">\n",
       "  <thead>\n",
       "    <tr style=\"text-align: right;\">\n",
       "      <th></th>\n",
       "      <th>chars</th>\n",
       "      <th>id</th>\n",
       "      <th>section</th>\n",
       "      <th>tags</th>\n",
       "      <th>text</th>\n",
       "      <th>title</th>\n",
       "      <th>url</th>\n",
       "      <th>month</th>\n",
       "    </tr>\n",
       "  </thead>\n",
       "  <tbody>\n",
       "    <tr>\n",
       "      <th>0</th>\n",
       "      <td>6139</td>\n",
       "      <td>world/2020/may/08/coronavirus-the-week-explained</td>\n",
       "      <td>World news</td>\n",
       "      <td>world/coronavirus-outbreak, science/science, w...</td>\n",
       "      <td>Welcome to our weekly roundup of developments ...</td>\n",
       "      <td>Coronavirus: the week explained</td>\n",
       "      <td>https://www.theguardian.com/world/2020/may/08/...</td>\n",
       "      <td>5</td>\n",
       "    </tr>\n",
       "    <tr>\n",
       "      <th>1</th>\n",
       "      <td>2196</td>\n",
       "      <td>world/2020/apr/14/coronavirus-latest-at-a-glance</td>\n",
       "      <td>World news</td>\n",
       "      <td>world/world, world/coronavirus-outbreak</td>\n",
       "      <td>Key developments in the global coronavirus out...</td>\n",
       "      <td>Coronavirus: at a glance</td>\n",
       "      <td>https://www.theguardian.com/world/2020/apr/14/...</td>\n",
       "      <td>4</td>\n",
       "    </tr>\n",
       "    <tr>\n",
       "      <th>2</th>\n",
       "      <td>2469</td>\n",
       "      <td>world/2020/apr/17/coronavirus-contact-tracing-...</td>\n",
       "      <td>World news</td>\n",
       "      <td>world/coronavirus-outbreak, science/infectious...</td>\n",
       "      <td>What is contact tracing? This is one of the mo...</td>\n",
       "      <td>Coronavirus: contact tracing explained</td>\n",
       "      <td>https://www.theguardian.com/world/2020/apr/17/...</td>\n",
       "      <td>4</td>\n",
       "    </tr>\n",
       "    <tr>\n",
       "      <th>3</th>\n",
       "      <td>3356</td>\n",
       "      <td>world/2020/may/12/coronavirus-latest-at-a-glan...</td>\n",
       "      <td>World news</td>\n",
       "      <td>world/world, world/coronavirus-outbreak</td>\n",
       "      <td>Key developments in the global coronavirus out...</td>\n",
       "      <td>Coronavirus latest: at a glance</td>\n",
       "      <td>https://www.theguardian.com/world/2020/may/12/...</td>\n",
       "      <td>5</td>\n",
       "    </tr>\n",
       "    <tr>\n",
       "      <th>4</th>\n",
       "      <td>3483</td>\n",
       "      <td>world/2020/may/12/coronavirus-latest-at-a-glan...</td>\n",
       "      <td>World news</td>\n",
       "      <td>world/world, world/coronavirus-outbreak</td>\n",
       "      <td>Key developments in the global coronavirus out...</td>\n",
       "      <td>Coronavirus latest: at a glance</td>\n",
       "      <td>https://www.theguardian.com/world/2020/may/12/...</td>\n",
       "      <td>5</td>\n",
       "    </tr>\n",
       "  </tbody>\n",
       "</table>\n",
       "</div>"
      ],
      "text/plain": [
       "  chars                                                 id     section  \\\n",
       "0  6139   world/2020/may/08/coronavirus-the-week-explained  World news   \n",
       "1  2196   world/2020/apr/14/coronavirus-latest-at-a-glance  World news   \n",
       "2  2469  world/2020/apr/17/coronavirus-contact-tracing-...  World news   \n",
       "3  3356  world/2020/may/12/coronavirus-latest-at-a-glan...  World news   \n",
       "4  3483  world/2020/may/12/coronavirus-latest-at-a-glan...  World news   \n",
       "\n",
       "                                                tags  \\\n",
       "0  world/coronavirus-outbreak, science/science, w...   \n",
       "1            world/world, world/coronavirus-outbreak   \n",
       "2  world/coronavirus-outbreak, science/infectious...   \n",
       "3            world/world, world/coronavirus-outbreak   \n",
       "4            world/world, world/coronavirus-outbreak   \n",
       "\n",
       "                                                text  \\\n",
       "0  Welcome to our weekly roundup of developments ...   \n",
       "1  Key developments in the global coronavirus out...   \n",
       "2  What is contact tracing? This is one of the mo...   \n",
       "3  Key developments in the global coronavirus out...   \n",
       "4  Key developments in the global coronavirus out...   \n",
       "\n",
       "                                    title  \\\n",
       "0         Coronavirus: the week explained   \n",
       "1                Coronavirus: at a glance   \n",
       "2  Coronavirus: contact tracing explained   \n",
       "3         Coronavirus latest: at a glance   \n",
       "4         Coronavirus latest: at a glance   \n",
       "\n",
       "                                                 url  month  \n",
       "0  https://www.theguardian.com/world/2020/may/08/...      5  \n",
       "1  https://www.theguardian.com/world/2020/apr/14/...      4  \n",
       "2  https://www.theguardian.com/world/2020/apr/17/...      4  \n",
       "3  https://www.theguardian.com/world/2020/may/12/...      5  \n",
       "4  https://www.theguardian.com/world/2020/may/12/...      5  "
      ]
     },
     "execution_count": 6,
     "metadata": {},
     "output_type": "execute_result"
    }
   ],
   "source": [
    "# Converting the list of dictionaries into a pandas dataframe and counting the frequency of unique values\n",
    "\n",
    "df = pd.DataFrame(data)\n",
    "df.head()"
   ]
  },
  {
   "cell_type": "code",
   "execution_count": 7,
   "metadata": {},
   "outputs": [
    {
     "data": {
      "text/plain": [
       "4    4307\n",
       "3    4076\n",
       "5    1479\n",
       "2     744\n",
       "1     195\n",
       "Name: month, dtype: int64"
      ]
     },
     "execution_count": 7,
     "metadata": {},
     "output_type": "execute_result"
    }
   ],
   "source": [
    "df['month'].value_counts()"
   ]
  },
  {
   "cell_type": "code",
   "execution_count": 8,
   "metadata": {},
   "outputs": [],
   "source": [
    "tags_list = []\n",
    "\n",
    "for i in range(len(df)):\n",
    "    \n",
    "    tags_list.append(df.iloc[i]['tags'])\n",
    "    \n",
    "one_string = ' '.join([s for s in tags_list])\n",
    "\n",
    "tags = one_string.split(', ')"
   ]
  },
  {
   "cell_type": "code",
   "execution_count": 9,
   "metadata": {},
   "outputs": [],
   "source": [
    "empty_list = []\n",
    "\n",
    "for tag in set(tags):\n",
    "    \n",
    "    empty_dict = {}\n",
    "    \n",
    "    empty_dict['tag'] = tag\n",
    "    empty_dict['count'] = tags.count(tag)\n",
    "    empty_list.append(empty_dict)   "
   ]
  },
  {
   "cell_type": "code",
   "execution_count": 10,
   "metadata": {},
   "outputs": [
    {
     "data": {
      "text/html": [
       "<div>\n",
       "<style scoped>\n",
       "    .dataframe tbody tr th:only-of-type {\n",
       "        vertical-align: middle;\n",
       "    }\n",
       "\n",
       "    .dataframe tbody tr th {\n",
       "        vertical-align: top;\n",
       "    }\n",
       "\n",
       "    .dataframe thead th {\n",
       "        text-align: right;\n",
       "    }\n",
       "</style>\n",
       "<table border=\"1\" class=\"dataframe\">\n",
       "  <thead>\n",
       "    <tr style=\"text-align: right;\">\n",
       "      <th></th>\n",
       "      <th>tag</th>\n",
       "      <th>count</th>\n",
       "    </tr>\n",
       "  </thead>\n",
       "  <tbody>\n",
       "    <tr>\n",
       "      <th>6681</th>\n",
       "      <td>world/coronavirus-outbreak</td>\n",
       "      <td>3696</td>\n",
       "    </tr>\n",
       "    <tr>\n",
       "      <th>1908</th>\n",
       "      <td>uk/uk</td>\n",
       "      <td>2568</td>\n",
       "    </tr>\n",
       "    <tr>\n",
       "      <th>2207</th>\n",
       "      <td>science/infectiousdiseases</td>\n",
       "      <td>2200</td>\n",
       "    </tr>\n",
       "    <tr>\n",
       "      <th>3275</th>\n",
       "      <td>world/world</td>\n",
       "      <td>2003</td>\n",
       "    </tr>\n",
       "    <tr>\n",
       "      <th>3723</th>\n",
       "      <td>business/business</td>\n",
       "      <td>1196</td>\n",
       "    </tr>\n",
       "    <tr>\n",
       "      <th>...</th>\n",
       "      <td>...</td>\n",
       "      <td>...</td>\n",
       "    </tr>\n",
       "    <tr>\n",
       "      <th>3485</th>\n",
       "      <td>world/sri-lanka-attacks</td>\n",
       "      <td>1</td>\n",
       "    </tr>\n",
       "    <tr>\n",
       "      <th>3482</th>\n",
       "      <td>sport/us-sport books/history</td>\n",
       "      <td>1</td>\n",
       "    </tr>\n",
       "    <tr>\n",
       "      <th>3481</th>\n",
       "      <td>australia-news/scott-morrison business/economics</td>\n",
       "      <td>1</td>\n",
       "    </tr>\n",
       "    <tr>\n",
       "      <th>3479</th>\n",
       "      <td>politics/health uk/uk</td>\n",
       "      <td>1</td>\n",
       "    </tr>\n",
       "    <tr>\n",
       "      <th>8733</th>\n",
       "      <td>food/fish</td>\n",
       "      <td>1</td>\n",
       "    </tr>\n",
       "  </tbody>\n",
       "</table>\n",
       "<p>8734 rows × 2 columns</p>\n",
       "</div>"
      ],
      "text/plain": [
       "                                                   tag  count\n",
       "6681                        world/coronavirus-outbreak   3696\n",
       "1908                                             uk/uk   2568\n",
       "2207                        science/infectiousdiseases   2200\n",
       "3275                                       world/world   2003\n",
       "3723                                 business/business   1196\n",
       "...                                                ...    ...\n",
       "3485                           world/sri-lanka-attacks      1\n",
       "3482                      sport/us-sport books/history      1\n",
       "3481  australia-news/scott-morrison business/economics      1\n",
       "3479                             politics/health uk/uk      1\n",
       "8733                                         food/fish      1\n",
       "\n",
       "[8734 rows x 2 columns]"
      ]
     },
     "execution_count": 10,
     "metadata": {},
     "output_type": "execute_result"
    }
   ],
   "source": [
    "pd.DataFrame(empty_list).sort_values(by=['count'], ascending=False)"
   ]
  },
  {
   "cell_type": "markdown",
   "metadata": {},
   "source": [
    "<br>\n",
    "<br>\n",
    "\n",
    "\n",
    "___\n",
    "\n",
    "                \n",
    "**Contact: Gerome Wolf** (Email: wolfgerome@gmail.com)"
   ]
  }
 ],
 "metadata": {
  "kernelspec": {
   "display_name": "Webscraping Workshop",
   "language": "python",
   "name": "webscraping"
  },
  "language_info": {
   "codemirror_mode": {
    "name": "ipython",
    "version": 3
   },
   "file_extension": ".py",
   "mimetype": "text/x-python",
   "name": "python",
   "nbconvert_exporter": "python",
   "pygments_lexer": "ipython3",
   "version": "3.8.8"
  }
 },
 "nbformat": 4,
 "nbformat_minor": 2
}
