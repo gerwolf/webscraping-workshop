{
 "cells": [
  {
   "cell_type": "code",
   "execution_count": 1,
   "id": "1a6f92a4",
   "metadata": {},
   "outputs": [
    {
     "data": {
      "text/html": [
       "        <script type=\"text/javascript\">\n",
       "        window.PlotlyConfig = {MathJaxConfig: 'local'};\n",
       "        if (window.MathJax) {MathJax.Hub.Config({SVG: {font: \"STIX-Web\"}});}\n",
       "        if (typeof require !== 'undefined') {\n",
       "        require.undef(\"plotly\");\n",
       "        requirejs.config({\n",
       "            paths: {\n",
       "                'plotly': ['https://cdn.plot.ly/plotly-latest.min']\n",
       "            }\n",
       "        });\n",
       "        require(['plotly'], function(Plotly) {\n",
       "            window._Plotly = Plotly;\n",
       "        });\n",
       "        }\n",
       "        </script>\n",
       "        "
      ]
     },
     "metadata": {},
     "output_type": "display_data"
    }
   ],
   "source": [
    "import pandas as pd\n",
    "import requests\n",
    "from bs4 import BeautifulSoup\n",
    "\n",
    "import plotly.graph_objs as go\n",
    "import plotly.figure_factory as ff\n",
    "from plotly.offline import download_plotlyjs, init_notebook_mode, plot, iplot\n",
    "init_notebook_mode(connected=True)\n",
    "\n",
    "import geopandas as gpd\n",
    "import matplotlib.pyplot as plt\n",
    "plt.rcParams[\"figure.figsize\"] = [16,9]\n",
    "\n",
    "import numpy as np\n",
    "import json"
   ]
  },
  {
   "cell_type": "markdown",
   "id": "b4989f97",
   "metadata": {},
   "source": [
    "1. Obtain the [current dataset](https://npgeo-corona-npgeo-de.hub.arcgis.com/datasets/dd4580c810204019a7b8eb3e0b329dd6_0) provided by the RKI (you can directly read in the `.geojson`). Which Python library can handle geospatial data well?"
   ]
  },
  {
   "cell_type": "code",
   "execution_count": 2,
   "id": "1ad776d0",
   "metadata": {},
   "outputs": [],
   "source": [
    "corona_data = gpd.read_file(\"https://opendata.arcgis.com/datasets/dd4580c810204019a7b8eb3e0b329dd6_0.geojson\") # can take a while (~5 mins) to load..."
   ]
  },
  {
   "cell_type": "code",
   "execution_count": 3,
   "id": "660020dd",
   "metadata": {},
   "outputs": [
    {
     "data": {
      "text/plain": [
       "1641234"
      ]
     },
     "execution_count": 3,
     "metadata": {},
     "output_type": "execute_result"
    }
   ],
   "source": [
    "len(corona_data)"
   ]
  },
  {
   "cell_type": "code",
   "execution_count": 151,
   "id": "4bb6bec0",
   "metadata": {},
   "outputs": [
    {
     "data": {
      "text/html": [
       "<div>\n",
       "<style scoped>\n",
       "    .dataframe tbody tr th:only-of-type {\n",
       "        vertical-align: middle;\n",
       "    }\n",
       "\n",
       "    .dataframe tbody tr th {\n",
       "        vertical-align: top;\n",
       "    }\n",
       "\n",
       "    .dataframe thead th {\n",
       "        text-align: right;\n",
       "    }\n",
       "</style>\n",
       "<table border=\"1\" class=\"dataframe\">\n",
       "  <thead>\n",
       "    <tr style=\"text-align: right;\">\n",
       "      <th></th>\n",
       "      <th>ObjectId</th>\n",
       "      <th>IdBundesland</th>\n",
       "      <th>Bundesland</th>\n",
       "      <th>Landkreis</th>\n",
       "      <th>Altersgruppe</th>\n",
       "      <th>Geschlecht</th>\n",
       "      <th>AnzahlFall</th>\n",
       "      <th>AnzahlTodesfall</th>\n",
       "      <th>Meldedatum</th>\n",
       "      <th>IdLandkreis</th>\n",
       "      <th>Datenstand</th>\n",
       "      <th>NeuerFall</th>\n",
       "      <th>NeuerTodesfall</th>\n",
       "      <th>Refdatum</th>\n",
       "      <th>NeuGenesen</th>\n",
       "      <th>AnzahlGenesen</th>\n",
       "      <th>IstErkrankungsbeginn</th>\n",
       "      <th>Altersgruppe2</th>\n",
       "      <th>geometry</th>\n",
       "      <th>MeldedatumISO</th>\n",
       "    </tr>\n",
       "  </thead>\n",
       "  <tbody>\n",
       "    <tr>\n",
       "      <th>0</th>\n",
       "      <td>1</td>\n",
       "      <td>1</td>\n",
       "      <td>Schleswig-Holstein</td>\n",
       "      <td>SK Flensburg</td>\n",
       "      <td>A00-A04</td>\n",
       "      <td>M</td>\n",
       "      <td>1</td>\n",
       "      <td>0</td>\n",
       "      <td>2020-09-30 00:00:00+00:00</td>\n",
       "      <td>01001</td>\n",
       "      <td>13.04.2021, 00:00 Uhr</td>\n",
       "      <td>0</td>\n",
       "      <td>-9</td>\n",
       "      <td>2020-09-30T00:00:00+00:00</td>\n",
       "      <td>0</td>\n",
       "      <td>1</td>\n",
       "      <td>0</td>\n",
       "      <td>Nicht übermittelt</td>\n",
       "      <td>None</td>\n",
       "      <td>2020-09-30</td>\n",
       "    </tr>\n",
       "    <tr>\n",
       "      <th>1</th>\n",
       "      <td>2</td>\n",
       "      <td>1</td>\n",
       "      <td>Schleswig-Holstein</td>\n",
       "      <td>SK Flensburg</td>\n",
       "      <td>A00-A04</td>\n",
       "      <td>M</td>\n",
       "      <td>1</td>\n",
       "      <td>0</td>\n",
       "      <td>2020-10-29 00:00:00+00:00</td>\n",
       "      <td>01001</td>\n",
       "      <td>13.04.2021, 00:00 Uhr</td>\n",
       "      <td>0</td>\n",
       "      <td>-9</td>\n",
       "      <td>2020-10-29T00:00:00+00:00</td>\n",
       "      <td>0</td>\n",
       "      <td>1</td>\n",
       "      <td>0</td>\n",
       "      <td>Nicht übermittelt</td>\n",
       "      <td>None</td>\n",
       "      <td>2020-10-29</td>\n",
       "    </tr>\n",
       "    <tr>\n",
       "      <th>2</th>\n",
       "      <td>3</td>\n",
       "      <td>1</td>\n",
       "      <td>Schleswig-Holstein</td>\n",
       "      <td>SK Flensburg</td>\n",
       "      <td>A00-A04</td>\n",
       "      <td>M</td>\n",
       "      <td>1</td>\n",
       "      <td>0</td>\n",
       "      <td>2020-11-03 00:00:00+00:00</td>\n",
       "      <td>01001</td>\n",
       "      <td>13.04.2021, 00:00 Uhr</td>\n",
       "      <td>0</td>\n",
       "      <td>-9</td>\n",
       "      <td>2020-11-03T00:00:00+00:00</td>\n",
       "      <td>0</td>\n",
       "      <td>1</td>\n",
       "      <td>0</td>\n",
       "      <td>Nicht übermittelt</td>\n",
       "      <td>None</td>\n",
       "      <td>2020-11-03</td>\n",
       "    </tr>\n",
       "    <tr>\n",
       "      <th>3</th>\n",
       "      <td>4</td>\n",
       "      <td>1</td>\n",
       "      <td>Schleswig-Holstein</td>\n",
       "      <td>SK Flensburg</td>\n",
       "      <td>A00-A04</td>\n",
       "      <td>M</td>\n",
       "      <td>1</td>\n",
       "      <td>0</td>\n",
       "      <td>2020-11-20 00:00:00+00:00</td>\n",
       "      <td>01001</td>\n",
       "      <td>13.04.2021, 00:00 Uhr</td>\n",
       "      <td>0</td>\n",
       "      <td>-9</td>\n",
       "      <td>2020-11-19T00:00:00+00:00</td>\n",
       "      <td>0</td>\n",
       "      <td>1</td>\n",
       "      <td>1</td>\n",
       "      <td>Nicht übermittelt</td>\n",
       "      <td>None</td>\n",
       "      <td>2020-11-20</td>\n",
       "    </tr>\n",
       "    <tr>\n",
       "      <th>4</th>\n",
       "      <td>5</td>\n",
       "      <td>1</td>\n",
       "      <td>Schleswig-Holstein</td>\n",
       "      <td>SK Flensburg</td>\n",
       "      <td>A00-A04</td>\n",
       "      <td>M</td>\n",
       "      <td>1</td>\n",
       "      <td>0</td>\n",
       "      <td>2020-11-23 00:00:00+00:00</td>\n",
       "      <td>01001</td>\n",
       "      <td>13.04.2021, 00:00 Uhr</td>\n",
       "      <td>0</td>\n",
       "      <td>-9</td>\n",
       "      <td>2020-11-18T00:00:00+00:00</td>\n",
       "      <td>0</td>\n",
       "      <td>1</td>\n",
       "      <td>1</td>\n",
       "      <td>Nicht übermittelt</td>\n",
       "      <td>None</td>\n",
       "      <td>2020-11-23</td>\n",
       "    </tr>\n",
       "  </tbody>\n",
       "</table>\n",
       "</div>"
      ],
      "text/plain": [
       "   ObjectId  IdBundesland          Bundesland     Landkreis Altersgruppe  \\\n",
       "0         1             1  Schleswig-Holstein  SK Flensburg      A00-A04   \n",
       "1         2             1  Schleswig-Holstein  SK Flensburg      A00-A04   \n",
       "2         3             1  Schleswig-Holstein  SK Flensburg      A00-A04   \n",
       "3         4             1  Schleswig-Holstein  SK Flensburg      A00-A04   \n",
       "4         5             1  Schleswig-Holstein  SK Flensburg      A00-A04   \n",
       "\n",
       "  Geschlecht  AnzahlFall  AnzahlTodesfall                Meldedatum  \\\n",
       "0          M           1                0 2020-09-30 00:00:00+00:00   \n",
       "1          M           1                0 2020-10-29 00:00:00+00:00   \n",
       "2          M           1                0 2020-11-03 00:00:00+00:00   \n",
       "3          M           1                0 2020-11-20 00:00:00+00:00   \n",
       "4          M           1                0 2020-11-23 00:00:00+00:00   \n",
       "\n",
       "  IdLandkreis             Datenstand  NeuerFall  NeuerTodesfall  \\\n",
       "0       01001  13.04.2021, 00:00 Uhr          0              -9   \n",
       "1       01001  13.04.2021, 00:00 Uhr          0              -9   \n",
       "2       01001  13.04.2021, 00:00 Uhr          0              -9   \n",
       "3       01001  13.04.2021, 00:00 Uhr          0              -9   \n",
       "4       01001  13.04.2021, 00:00 Uhr          0              -9   \n",
       "\n",
       "                    Refdatum  NeuGenesen  AnzahlGenesen  IstErkrankungsbeginn  \\\n",
       "0  2020-09-30T00:00:00+00:00           0              1                     0   \n",
       "1  2020-10-29T00:00:00+00:00           0              1                     0   \n",
       "2  2020-11-03T00:00:00+00:00           0              1                     0   \n",
       "3  2020-11-19T00:00:00+00:00           0              1                     1   \n",
       "4  2020-11-18T00:00:00+00:00           0              1                     1   \n",
       "\n",
       "       Altersgruppe2 geometry MeldedatumISO  \n",
       "0  Nicht übermittelt     None    2020-09-30  \n",
       "1  Nicht übermittelt     None    2020-10-29  \n",
       "2  Nicht übermittelt     None    2020-11-03  \n",
       "3  Nicht übermittelt     None    2020-11-20  \n",
       "4  Nicht übermittelt     None    2020-11-23  "
      ]
     },
     "execution_count": 151,
     "metadata": {},
     "output_type": "execute_result"
    }
   ],
   "source": [
    "corona_data.head()"
   ]
  },
  {
   "cell_type": "code",
   "execution_count": 4,
   "id": "900ec7f3",
   "metadata": {},
   "outputs": [],
   "source": [
    "corona_data['MeldedatumISO'] = pd.to_datetime(corona_data['Meldedatum']).dt.strftime('%Y-%m-%d')"
   ]
  },
  {
   "cell_type": "code",
   "execution_count": 5,
   "id": "f3f9f9d1",
   "metadata": {},
   "outputs": [],
   "source": [
    "corona_data['Meldedatum'] = pd.to_datetime(corona_data['Meldedatum'])"
   ]
  },
  {
   "cell_type": "markdown",
   "id": "b3e46357",
   "metadata": {},
   "source": [
    "1. Aggregate `AnzahlFall` by day on Landkreis level and store it in a Pandas DataFrame object `landkreis_df`."
   ]
  },
  {
   "cell_type": "code",
   "execution_count": 152,
   "id": "717ca580",
   "metadata": {},
   "outputs": [],
   "source": [
    "landkreis_df = corona_data.groupby(['IdLandkreis', 'MeldedatumISO'])[['AnzahlFall']].agg('sum')\n",
    "landkreis_df = landkreis_df.stack().to_frame().reset_index()\n",
    "landkreis_df.columns = ['IdLandkreis', 'MeldedatumISO', 'Indicator', 'Anzahl']"
   ]
  },
  {
   "cell_type": "code",
   "execution_count": 153,
   "id": "3cd59971",
   "metadata": {},
   "outputs": [
    {
     "data": {
      "text/html": [
       "<div>\n",
       "<style scoped>\n",
       "    .dataframe tbody tr th:only-of-type {\n",
       "        vertical-align: middle;\n",
       "    }\n",
       "\n",
       "    .dataframe tbody tr th {\n",
       "        vertical-align: top;\n",
       "    }\n",
       "\n",
       "    .dataframe thead th {\n",
       "        text-align: right;\n",
       "    }\n",
       "</style>\n",
       "<table border=\"1\" class=\"dataframe\">\n",
       "  <thead>\n",
       "    <tr style=\"text-align: right;\">\n",
       "      <th></th>\n",
       "      <th>IdLandkreis</th>\n",
       "      <th>MeldedatumISO</th>\n",
       "      <th>Indicator</th>\n",
       "      <th>Anzahl</th>\n",
       "    </tr>\n",
       "  </thead>\n",
       "  <tbody>\n",
       "    <tr>\n",
       "      <th>0</th>\n",
       "      <td>01001</td>\n",
       "      <td>2020-03-14</td>\n",
       "      <td>AnzahlFall</td>\n",
       "      <td>4</td>\n",
       "    </tr>\n",
       "    <tr>\n",
       "      <th>1</th>\n",
       "      <td>01001</td>\n",
       "      <td>2020-03-18</td>\n",
       "      <td>AnzahlFall</td>\n",
       "      <td>2</td>\n",
       "    </tr>\n",
       "    <tr>\n",
       "      <th>2</th>\n",
       "      <td>01001</td>\n",
       "      <td>2020-03-19</td>\n",
       "      <td>AnzahlFall</td>\n",
       "      <td>4</td>\n",
       "    </tr>\n",
       "    <tr>\n",
       "      <th>3</th>\n",
       "      <td>01001</td>\n",
       "      <td>2020-03-20</td>\n",
       "      <td>AnzahlFall</td>\n",
       "      <td>2</td>\n",
       "    </tr>\n",
       "    <tr>\n",
       "      <th>4</th>\n",
       "      <td>01001</td>\n",
       "      <td>2020-03-21</td>\n",
       "      <td>AnzahlFall</td>\n",
       "      <td>1</td>\n",
       "    </tr>\n",
       "  </tbody>\n",
       "</table>\n",
       "</div>"
      ],
      "text/plain": [
       "  IdLandkreis MeldedatumISO   Indicator  Anzahl\n",
       "0       01001    2020-03-14  AnzahlFall       4\n",
       "1       01001    2020-03-18  AnzahlFall       2\n",
       "2       01001    2020-03-19  AnzahlFall       4\n",
       "3       01001    2020-03-20  AnzahlFall       2\n",
       "4       01001    2020-03-21  AnzahlFall       1"
      ]
     },
     "execution_count": 153,
     "metadata": {},
     "output_type": "execute_result"
    }
   ],
   "source": [
    "landkreis_df.head()"
   ]
  },
  {
   "cell_type": "markdown",
   "id": "133c8e20",
   "metadata": {},
   "source": [
    "2. Obtain `geometries` (i.e. polygons) of `Landkreis` and store it in a Pandas DataFrame object `landkreis_data`."
   ]
  },
  {
   "cell_type": "code",
   "execution_count": 155,
   "id": "94d23d30",
   "metadata": {},
   "outputs": [
    {
     "data": {
      "text/html": [
       "<div>\n",
       "<style scoped>\n",
       "    .dataframe tbody tr th:only-of-type {\n",
       "        vertical-align: middle;\n",
       "    }\n",
       "\n",
       "    .dataframe tbody tr th {\n",
       "        vertical-align: top;\n",
       "    }\n",
       "\n",
       "    .dataframe thead th {\n",
       "        text-align: right;\n",
       "    }\n",
       "</style>\n",
       "<table border=\"1\" class=\"dataframe\">\n",
       "  <thead>\n",
       "    <tr style=\"text-align: right;\">\n",
       "      <th></th>\n",
       "      <th>OBJECTID</th>\n",
       "      <th>ADE</th>\n",
       "      <th>GF</th>\n",
       "      <th>BSG</th>\n",
       "      <th>RS</th>\n",
       "      <th>AGS</th>\n",
       "      <th>SDV_RS</th>\n",
       "      <th>GEN</th>\n",
       "      <th>BEZ</th>\n",
       "      <th>IBZ</th>\n",
       "      <th>...</th>\n",
       "      <th>cases7_bl_per_100k</th>\n",
       "      <th>cases7_bl</th>\n",
       "      <th>death7_bl</th>\n",
       "      <th>cases7_lk</th>\n",
       "      <th>death7_lk</th>\n",
       "      <th>cases7_per_100k_txt</th>\n",
       "      <th>AdmUnitId</th>\n",
       "      <th>SHAPE_Length</th>\n",
       "      <th>SHAPE_Area</th>\n",
       "      <th>geometry</th>\n",
       "    </tr>\n",
       "  </thead>\n",
       "  <tbody>\n",
       "    <tr>\n",
       "      <th>0</th>\n",
       "      <td>1</td>\n",
       "      <td>4.0</td>\n",
       "      <td>4.0</td>\n",
       "      <td>1.0</td>\n",
       "      <td>01001</td>\n",
       "      <td>01001</td>\n",
       "      <td>010010000000</td>\n",
       "      <td>Flensburg</td>\n",
       "      <td>Kreisfreie Stadt</td>\n",
       "      <td>40.0</td>\n",
       "      <td>...</td>\n",
       "      <td>70.769995</td>\n",
       "      <td>2055</td>\n",
       "      <td>0</td>\n",
       "      <td>49</td>\n",
       "      <td>0</td>\n",
       "      <td>54,3</td>\n",
       "      <td>1001</td>\n",
       "      <td>0.524721</td>\n",
       "      <td>0.006873</td>\n",
       "      <td>MULTIPOLYGON (((9.41266 54.82264, 9.41318 54.8...</td>\n",
       "    </tr>\n",
       "    <tr>\n",
       "      <th>1</th>\n",
       "      <td>2</td>\n",
       "      <td>4.0</td>\n",
       "      <td>4.0</td>\n",
       "      <td>1.0</td>\n",
       "      <td>01002</td>\n",
       "      <td>01002</td>\n",
       "      <td>010020000000</td>\n",
       "      <td>Kiel</td>\n",
       "      <td>Kreisfreie Stadt</td>\n",
       "      <td>40.0</td>\n",
       "      <td>...</td>\n",
       "      <td>70.769995</td>\n",
       "      <td>2055</td>\n",
       "      <td>0</td>\n",
       "      <td>188</td>\n",
       "      <td>0</td>\n",
       "      <td>76,2</td>\n",
       "      <td>1002</td>\n",
       "      <td>1.274684</td>\n",
       "      <td>0.015507</td>\n",
       "      <td>MULTIPOLYGON (((10.16916 54.43138, 10.16957 54...</td>\n",
       "    </tr>\n",
       "    <tr>\n",
       "      <th>2</th>\n",
       "      <td>3</td>\n",
       "      <td>4.0</td>\n",
       "      <td>4.0</td>\n",
       "      <td>1.0</td>\n",
       "      <td>01003</td>\n",
       "      <td>01003</td>\n",
       "      <td>010030000000</td>\n",
       "      <td>Lübeck</td>\n",
       "      <td>Kreisfreie Stadt</td>\n",
       "      <td>40.0</td>\n",
       "      <td>...</td>\n",
       "      <td>70.769995</td>\n",
       "      <td>2055</td>\n",
       "      <td>0</td>\n",
       "      <td>154</td>\n",
       "      <td>0</td>\n",
       "      <td>71,1</td>\n",
       "      <td>1003</td>\n",
       "      <td>1.834534</td>\n",
       "      <td>0.028928</td>\n",
       "      <td>MULTIPOLYGON (((10.87683 53.98737, 10.87884 53...</td>\n",
       "    </tr>\n",
       "    <tr>\n",
       "      <th>3</th>\n",
       "      <td>4</td>\n",
       "      <td>4.0</td>\n",
       "      <td>4.0</td>\n",
       "      <td>1.0</td>\n",
       "      <td>01004</td>\n",
       "      <td>01004</td>\n",
       "      <td>010040000000</td>\n",
       "      <td>Neumünster</td>\n",
       "      <td>Kreisfreie Stadt</td>\n",
       "      <td>40.0</td>\n",
       "      <td>...</td>\n",
       "      <td>70.769995</td>\n",
       "      <td>2055</td>\n",
       "      <td>0</td>\n",
       "      <td>65</td>\n",
       "      <td>0</td>\n",
       "      <td>81,1</td>\n",
       "      <td>1004</td>\n",
       "      <td>0.663262</td>\n",
       "      <td>0.009808</td>\n",
       "      <td>MULTIPOLYGON (((9.99545 54.14972, 9.99713 54.1...</td>\n",
       "    </tr>\n",
       "    <tr>\n",
       "      <th>4</th>\n",
       "      <td>5</td>\n",
       "      <td>4.0</td>\n",
       "      <td>4.0</td>\n",
       "      <td>1.0</td>\n",
       "      <td>01051</td>\n",
       "      <td>01051</td>\n",
       "      <td>010510044044</td>\n",
       "      <td>Dithmarschen</td>\n",
       "      <td>Kreis</td>\n",
       "      <td>42.0</td>\n",
       "      <td>...</td>\n",
       "      <td>70.769995</td>\n",
       "      <td>2055</td>\n",
       "      <td>0</td>\n",
       "      <td>71</td>\n",
       "      <td>0</td>\n",
       "      <td>53,3</td>\n",
       "      <td>1051</td>\n",
       "      <td>3.073353</td>\n",
       "      <td>0.196087</td>\n",
       "      <td>MULTIPOLYGON (((8.69258 54.06045, 8.69364 54.0...</td>\n",
       "    </tr>\n",
       "  </tbody>\n",
       "</table>\n",
       "<p>5 rows × 48 columns</p>\n",
       "</div>"
      ],
      "text/plain": [
       "   OBJECTID  ADE   GF  BSG     RS    AGS        SDV_RS           GEN  \\\n",
       "0         1  4.0  4.0  1.0  01001  01001  010010000000     Flensburg   \n",
       "1         2  4.0  4.0  1.0  01002  01002  010020000000          Kiel   \n",
       "2         3  4.0  4.0  1.0  01003  01003  010030000000        Lübeck   \n",
       "3         4  4.0  4.0  1.0  01004  01004  010040000000    Neumünster   \n",
       "4         5  4.0  4.0  1.0  01051  01051  010510044044  Dithmarschen   \n",
       "\n",
       "                BEZ   IBZ  ... cases7_bl_per_100k cases7_bl death7_bl  \\\n",
       "0  Kreisfreie Stadt  40.0  ...          70.769995      2055         0   \n",
       "1  Kreisfreie Stadt  40.0  ...          70.769995      2055         0   \n",
       "2  Kreisfreie Stadt  40.0  ...          70.769995      2055         0   \n",
       "3  Kreisfreie Stadt  40.0  ...          70.769995      2055         0   \n",
       "4             Kreis  42.0  ...          70.769995      2055         0   \n",
       "\n",
       "  cases7_lk death7_lk cases7_per_100k_txt AdmUnitId SHAPE_Length SHAPE_Area  \\\n",
       "0        49         0                54,3      1001     0.524721   0.006873   \n",
       "1       188         0                76,2      1002     1.274684   0.015507   \n",
       "2       154         0                71,1      1003     1.834534   0.028928   \n",
       "3        65         0                81,1      1004     0.663262   0.009808   \n",
       "4        71         0                53,3      1051     3.073353   0.196087   \n",
       "\n",
       "                                            geometry  \n",
       "0  MULTIPOLYGON (((9.41266 54.82264, 9.41318 54.8...  \n",
       "1  MULTIPOLYGON (((10.16916 54.43138, 10.16957 54...  \n",
       "2  MULTIPOLYGON (((10.87683 53.98737, 10.87884 53...  \n",
       "3  MULTIPOLYGON (((9.99545 54.14972, 9.99713 54.1...  \n",
       "4  MULTIPOLYGON (((8.69258 54.06045, 8.69364 54.0...  \n",
       "\n",
       "[5 rows x 48 columns]"
      ]
     },
     "execution_count": 155,
     "metadata": {},
     "output_type": "execute_result"
    }
   ],
   "source": [
    "landkreis_data = gpd.read_file(\"https://opendata.arcgis.com/datasets/917fc37a709542548cc3be077a786c17_0.geojson\")\n",
    "landkreis_data.head()"
   ]
  },
  {
   "cell_type": "markdown",
   "id": "0c8af442",
   "metadata": {},
   "source": [
    "3. Drop all columns except `RS` and `geometry`."
   ]
  },
  {
   "cell_type": "code",
   "execution_count": 156,
   "id": "a60eebce",
   "metadata": {},
   "outputs": [],
   "source": [
    "landkreis_shapes = landkreis_data[['RS', 'geometry']]"
   ]
  },
  {
   "cell_type": "markdown",
   "id": "dcd711ca",
   "metadata": {},
   "source": [
    "4. Join the Landkreis `geometry` from left to the aggregated daily cases and store the resulting table in a Pandas DataFrame object `landkreis_merged_df`."
   ]
  },
  {
   "cell_type": "code",
   "execution_count": 157,
   "id": "b61d8ab3",
   "metadata": {},
   "outputs": [],
   "source": [
    "landkreis_merged_df = landkreis_df.merge(landkreis_shapes, left_on='IdLandkreis', right_on = 'RS', how = 'left')"
   ]
  },
  {
   "cell_type": "markdown",
   "id": "f2d6a83c",
   "metadata": {},
   "source": [
    "5. Convert the `MeldedatumISO` column into a Pandas `datetime` object (if it's not already - how can you check?) and assign it as the index for the object `landkreis_merged_df`."
   ]
  },
  {
   "cell_type": "code",
   "execution_count": 158,
   "id": "a3afce0e",
   "metadata": {},
   "outputs": [],
   "source": [
    "landkreis_merged_df['MeldedatumISO'] = pd.to_datetime(landkreis_merged_df['MeldedatumISO'])\n",
    "landkreis_merged_df.set_index(landkreis_merged_df['MeldedatumISO'], inplace=True)\n",
    "del landkreis_merged_df['MeldedatumISO']"
   ]
  },
  {
   "cell_type": "markdown",
   "id": "48fa0b13",
   "metadata": {},
   "source": [
    "6. On which day was the first Corona case recorded? Where?"
   ]
  },
  {
   "cell_type": "code",
   "execution_count": 159,
   "id": "86a00273",
   "metadata": {},
   "outputs": [
    {
     "data": {
      "text/plain": [
       "IdLandkreis                                                05315\n",
       "Indicator                                             AnzahlFall\n",
       "Anzahl                                                         1\n",
       "RS                                                         05315\n",
       "geometry       (POLYGON ((6.914502590000041 51.05635779700003...\n",
       "Name: 2020-01-07 00:00:00, dtype: object"
      ]
     },
     "execution_count": 159,
     "metadata": {},
     "output_type": "execute_result"
    }
   ],
   "source": [
    "first_date = landkreis_merged_df.index.min()\n",
    "landkreis_merged_df.loc[first_date]"
   ]
  },
  {
   "cell_type": "markdown",
   "id": "87633494",
   "metadata": {},
   "source": [
    "7. How many distinct values for `IdLandkreis` are in the dataset?"
   ]
  },
  {
   "cell_type": "code",
   "execution_count": 160,
   "id": "176246e0",
   "metadata": {},
   "outputs": [
    {
     "data": {
      "text/plain": [
       "412"
      ]
     },
     "execution_count": 160,
     "metadata": {},
     "output_type": "execute_result"
    }
   ],
   "source": [
    "len(landkreis_merged_df['IdLandkreis'].unique())"
   ]
  },
  {
   "cell_type": "markdown",
   "id": "3f382412",
   "metadata": {},
   "source": [
    "8. For each `IdLandkreis` compute the date of first occurrence of a Corona case. Find the date from which on the Corona virus was spread over all Landkreise. How long did it take from the first registered case to spread over all Landkreise?"
   ]
  },
  {
   "cell_type": "code",
   "execution_count": 161,
   "id": "925c3957",
   "metadata": {},
   "outputs": [],
   "source": [
    "first_record_list = []\n",
    "\n",
    "for landkreis in landkreis_merged_df['IdLandkreis'].unique():\n",
    "    \n",
    "    empty_dict = {}\n",
    "    \n",
    "    sub_df = landkreis_merged_df[landkreis_merged_df['IdLandkreis'] == landkreis]\n",
    "    first_case_recorded_landkreis = sub_df.index.min()\n",
    "    \n",
    "    empty_dict['IdLandkreis'] = landkreis\n",
    "    empty_dict['First case on'] = first_case_recorded_landkreis\n",
    "    \n",
    "    first_record_list.append(empty_dict) "
   ]
  },
  {
   "cell_type": "code",
   "execution_count": 162,
   "id": "433b1f03",
   "metadata": {},
   "outputs": [
    {
     "data": {
      "text/plain": [
       "Timedelta('73 days 00:00:00')"
      ]
     },
     "execution_count": 162,
     "metadata": {},
     "output_type": "execute_result"
    }
   ],
   "source": [
    "first_record_df = pd.DataFrame(first_record_list)\n",
    "\n",
    "max_date = first_record_df['First case on'].max()\n",
    "\n",
    "min_date = first_record_df['First case on'].min()\n",
    "\n",
    "max_date - min_date"
   ]
  },
  {
   "cell_type": "markdown",
   "id": "9374cbc3",
   "metadata": {},
   "source": [
    "9. Create a subset of `landkreis_merged_df` that includes only dates since the day the virus was spread over all Landkreise."
   ]
  },
  {
   "cell_type": "code",
   "execution_count": 163,
   "id": "28451c3e",
   "metadata": {},
   "outputs": [
    {
     "data": {
      "text/html": [
       "<div>\n",
       "<style scoped>\n",
       "    .dataframe tbody tr th:only-of-type {\n",
       "        vertical-align: middle;\n",
       "    }\n",
       "\n",
       "    .dataframe tbody tr th {\n",
       "        vertical-align: top;\n",
       "    }\n",
       "\n",
       "    .dataframe thead th {\n",
       "        text-align: right;\n",
       "    }\n",
       "</style>\n",
       "<table border=\"1\" class=\"dataframe\">\n",
       "  <thead>\n",
       "    <tr style=\"text-align: right;\">\n",
       "      <th></th>\n",
       "      <th>IdLandkreis</th>\n",
       "      <th>Indicator</th>\n",
       "      <th>Anzahl</th>\n",
       "      <th>RS</th>\n",
       "      <th>geometry</th>\n",
       "    </tr>\n",
       "    <tr>\n",
       "      <th>MeldedatumISO</th>\n",
       "      <th></th>\n",
       "      <th></th>\n",
       "      <th></th>\n",
       "      <th></th>\n",
       "      <th></th>\n",
       "    </tr>\n",
       "  </thead>\n",
       "  <tbody>\n",
       "    <tr>\n",
       "      <th>2020-03-20</th>\n",
       "      <td>01001</td>\n",
       "      <td>AnzahlFall</td>\n",
       "      <td>2</td>\n",
       "      <td>01001</td>\n",
       "      <td>MULTIPOLYGON (((9.41266 54.82264, 9.41318 54.8...</td>\n",
       "    </tr>\n",
       "    <tr>\n",
       "      <th>2020-03-21</th>\n",
       "      <td>01001</td>\n",
       "      <td>AnzahlFall</td>\n",
       "      <td>1</td>\n",
       "      <td>01001</td>\n",
       "      <td>MULTIPOLYGON (((9.41266 54.82264, 9.41318 54.8...</td>\n",
       "    </tr>\n",
       "    <tr>\n",
       "      <th>2020-03-24</th>\n",
       "      <td>01001</td>\n",
       "      <td>AnzahlFall</td>\n",
       "      <td>1</td>\n",
       "      <td>01001</td>\n",
       "      <td>MULTIPOLYGON (((9.41266 54.82264, 9.41318 54.8...</td>\n",
       "    </tr>\n",
       "    <tr>\n",
       "      <th>2020-03-26</th>\n",
       "      <td>01001</td>\n",
       "      <td>AnzahlFall</td>\n",
       "      <td>4</td>\n",
       "      <td>01001</td>\n",
       "      <td>MULTIPOLYGON (((9.41266 54.82264, 9.41318 54.8...</td>\n",
       "    </tr>\n",
       "    <tr>\n",
       "      <th>2020-03-27</th>\n",
       "      <td>01001</td>\n",
       "      <td>AnzahlFall</td>\n",
       "      <td>1</td>\n",
       "      <td>01001</td>\n",
       "      <td>MULTIPOLYGON (((9.41266 54.82264, 9.41318 54.8...</td>\n",
       "    </tr>\n",
       "  </tbody>\n",
       "</table>\n",
       "</div>"
      ],
      "text/plain": [
       "              IdLandkreis   Indicator  Anzahl     RS  \\\n",
       "MeldedatumISO                                          \n",
       "2020-03-20          01001  AnzahlFall       2  01001   \n",
       "2020-03-21          01001  AnzahlFall       1  01001   \n",
       "2020-03-24          01001  AnzahlFall       1  01001   \n",
       "2020-03-26          01001  AnzahlFall       4  01001   \n",
       "2020-03-27          01001  AnzahlFall       1  01001   \n",
       "\n",
       "                                                        geometry  \n",
       "MeldedatumISO                                                     \n",
       "2020-03-20     MULTIPOLYGON (((9.41266 54.82264, 9.41318 54.8...  \n",
       "2020-03-21     MULTIPOLYGON (((9.41266 54.82264, 9.41318 54.8...  \n",
       "2020-03-24     MULTIPOLYGON (((9.41266 54.82264, 9.41318 54.8...  \n",
       "2020-03-26     MULTIPOLYGON (((9.41266 54.82264, 9.41318 54.8...  \n",
       "2020-03-27     MULTIPOLYGON (((9.41266 54.82264, 9.41318 54.8...  "
      ]
     },
     "execution_count": 163,
     "metadata": {},
     "output_type": "execute_result"
    }
   ],
   "source": [
    "final_landkreis_df = landkreis_merged_df.loc[landkreis_merged_df.index >=max_date]\n",
    "final_landkreis_df.head()"
   ]
  },
  {
   "cell_type": "code",
   "execution_count": 164,
   "id": "59814615",
   "metadata": {},
   "outputs": [],
   "source": [
    "date_placeholder = pd.DataFrame(pd.date_range(start=max_date, end=landkreis_merged_df.index.max(), freq='D'))\n",
    "date_placeholder.columns = ['Date']"
   ]
  },
  {
   "cell_type": "code",
   "execution_count": 165,
   "id": "f53cd44c",
   "metadata": {},
   "outputs": [
    {
     "data": {
      "text/html": [
       "<div>\n",
       "<style scoped>\n",
       "    .dataframe tbody tr th:only-of-type {\n",
       "        vertical-align: middle;\n",
       "    }\n",
       "\n",
       "    .dataframe tbody tr th {\n",
       "        vertical-align: top;\n",
       "    }\n",
       "\n",
       "    .dataframe thead th {\n",
       "        text-align: right;\n",
       "    }\n",
       "</style>\n",
       "<table border=\"1\" class=\"dataframe\">\n",
       "  <thead>\n",
       "    <tr style=\"text-align: right;\">\n",
       "      <th></th>\n",
       "      <th>Date</th>\n",
       "    </tr>\n",
       "  </thead>\n",
       "  <tbody>\n",
       "    <tr>\n",
       "      <th>0</th>\n",
       "      <td>2020-03-20</td>\n",
       "    </tr>\n",
       "    <tr>\n",
       "      <th>1</th>\n",
       "      <td>2020-03-21</td>\n",
       "    </tr>\n",
       "    <tr>\n",
       "      <th>2</th>\n",
       "      <td>2020-03-22</td>\n",
       "    </tr>\n",
       "    <tr>\n",
       "      <th>3</th>\n",
       "      <td>2020-03-23</td>\n",
       "    </tr>\n",
       "    <tr>\n",
       "      <th>4</th>\n",
       "      <td>2020-03-24</td>\n",
       "    </tr>\n",
       "    <tr>\n",
       "      <th>...</th>\n",
       "      <td>...</td>\n",
       "    </tr>\n",
       "    <tr>\n",
       "      <th>384</th>\n",
       "      <td>2021-04-08</td>\n",
       "    </tr>\n",
       "    <tr>\n",
       "      <th>385</th>\n",
       "      <td>2021-04-09</td>\n",
       "    </tr>\n",
       "    <tr>\n",
       "      <th>386</th>\n",
       "      <td>2021-04-10</td>\n",
       "    </tr>\n",
       "    <tr>\n",
       "      <th>387</th>\n",
       "      <td>2021-04-11</td>\n",
       "    </tr>\n",
       "    <tr>\n",
       "      <th>388</th>\n",
       "      <td>2021-04-12</td>\n",
       "    </tr>\n",
       "  </tbody>\n",
       "</table>\n",
       "<p>389 rows × 1 columns</p>\n",
       "</div>"
      ],
      "text/plain": [
       "          Date\n",
       "0   2020-03-20\n",
       "1   2020-03-21\n",
       "2   2020-03-22\n",
       "3   2020-03-23\n",
       "4   2020-03-24\n",
       "..         ...\n",
       "384 2021-04-08\n",
       "385 2021-04-09\n",
       "386 2021-04-10\n",
       "387 2021-04-11\n",
       "388 2021-04-12\n",
       "\n",
       "[389 rows x 1 columns]"
      ]
     },
     "execution_count": 165,
     "metadata": {},
     "output_type": "execute_result"
    }
   ],
   "source": [
    "date_placeholder"
   ]
  },
  {
   "cell_type": "code",
   "execution_count": 175,
   "id": "00240056",
   "metadata": {},
   "outputs": [
    {
     "name": "stdout",
     "output_type": "stream",
     "text": [
      "Checking date: 2020-03-20 00:00:00\n",
      "Checking date: 2020-03-21 00:00:00\n",
      "Checking date: 2020-03-22 00:00:00\n",
      "Checking date: 2020-03-23 00:00:00\n",
      "Checking date: 2020-03-24 00:00:00\n",
      "Checking date: 2020-03-25 00:00:00\n",
      "Checking date: 2020-03-26 00:00:00\n",
      "Checking date: 2020-03-27 00:00:00\n",
      "Checking date: 2020-03-28 00:00:00\n",
      "Checking date: 2020-03-29 00:00:00\n",
      "Checking date: 2020-03-30 00:00:00\n",
      "Checking date: 2020-03-31 00:00:00\n",
      "Checking date: 2020-04-01 00:00:00\n",
      "Checking date: 2020-04-02 00:00:00\n",
      "Checking date: 2020-04-03 00:00:00\n",
      "Checking date: 2020-04-04 00:00:00\n",
      "Checking date: 2020-04-05 00:00:00\n",
      "Checking date: 2020-04-06 00:00:00\n",
      "Checking date: 2020-04-07 00:00:00\n",
      "Checking date: 2020-04-08 00:00:00\n",
      "Checking date: 2020-04-09 00:00:00\n",
      "Checking date: 2020-04-10 00:00:00\n",
      "Checking date: 2020-04-11 00:00:00\n",
      "Checking date: 2020-04-12 00:00:00\n",
      "Checking date: 2020-04-13 00:00:00\n",
      "Checking date: 2020-04-14 00:00:00\n",
      "Checking date: 2020-04-15 00:00:00\n",
      "Checking date: 2020-04-16 00:00:00\n",
      "Checking date: 2020-04-17 00:00:00\n",
      "Checking date: 2020-04-18 00:00:00\n",
      "Checking date: 2020-04-19 00:00:00\n",
      "Checking date: 2020-04-20 00:00:00\n",
      "Checking date: 2020-04-21 00:00:00\n",
      "Checking date: 2020-04-22 00:00:00\n",
      "Checking date: 2020-04-23 00:00:00\n",
      "Checking date: 2020-04-24 00:00:00\n",
      "Checking date: 2020-04-25 00:00:00\n",
      "Checking date: 2020-04-26 00:00:00\n",
      "Checking date: 2020-04-27 00:00:00\n",
      "Checking date: 2020-04-28 00:00:00\n",
      "Checking date: 2020-04-29 00:00:00\n",
      "Checking date: 2020-04-30 00:00:00\n",
      "Checking date: 2020-05-01 00:00:00\n",
      "Checking date: 2020-05-02 00:00:00\n",
      "Checking date: 2020-05-03 00:00:00\n",
      "Checking date: 2020-05-04 00:00:00\n",
      "Checking date: 2020-05-05 00:00:00\n",
      "Checking date: 2020-05-06 00:00:00\n",
      "Checking date: 2020-05-07 00:00:00\n",
      "Checking date: 2020-05-08 00:00:00\n",
      "Checking date: 2020-05-09 00:00:00\n",
      "Checking date: 2020-05-10 00:00:00\n",
      "Checking date: 2020-05-11 00:00:00\n",
      "Checking date: 2020-05-12 00:00:00\n",
      "Checking date: 2020-05-13 00:00:00\n",
      "Checking date: 2020-05-14 00:00:00\n",
      "Checking date: 2020-05-15 00:00:00\n",
      "Checking date: 2020-05-16 00:00:00\n",
      "Checking date: 2020-05-17 00:00:00\n",
      "Checking date: 2020-05-18 00:00:00\n",
      "Checking date: 2020-05-19 00:00:00\n",
      "Checking date: 2020-05-20 00:00:00\n",
      "Checking date: 2020-05-21 00:00:00\n",
      "Checking date: 2020-05-22 00:00:00\n",
      "Checking date: 2020-05-23 00:00:00\n",
      "Checking date: 2020-05-24 00:00:00\n",
      "Checking date: 2020-05-25 00:00:00\n",
      "Checking date: 2020-05-26 00:00:00\n",
      "Checking date: 2020-05-27 00:00:00\n",
      "Checking date: 2020-05-28 00:00:00\n",
      "Checking date: 2020-05-29 00:00:00\n",
      "Checking date: 2020-05-30 00:00:00\n",
      "Checking date: 2020-05-31 00:00:00\n",
      "Checking date: 2020-06-01 00:00:00\n",
      "Checking date: 2020-06-02 00:00:00\n",
      "Checking date: 2020-06-03 00:00:00\n",
      "Checking date: 2020-06-04 00:00:00\n",
      "Checking date: 2020-06-05 00:00:00\n",
      "Checking date: 2020-06-06 00:00:00\n",
      "Checking date: 2020-06-07 00:00:00\n",
      "Checking date: 2020-06-08 00:00:00\n",
      "Checking date: 2020-06-09 00:00:00\n",
      "Checking date: 2020-06-10 00:00:00\n",
      "Checking date: 2020-06-11 00:00:00\n",
      "Checking date: 2020-06-12 00:00:00\n",
      "Checking date: 2020-06-13 00:00:00\n",
      "Checking date: 2020-06-14 00:00:00\n",
      "Checking date: 2020-06-15 00:00:00\n",
      "Checking date: 2020-06-16 00:00:00\n",
      "Checking date: 2020-06-17 00:00:00\n",
      "Checking date: 2020-06-18 00:00:00\n",
      "Checking date: 2020-06-19 00:00:00\n",
      "Checking date: 2020-06-20 00:00:00\n",
      "Checking date: 2020-06-21 00:00:00\n",
      "Checking date: 2020-06-22 00:00:00\n",
      "Checking date: 2020-06-23 00:00:00\n",
      "Checking date: 2020-06-24 00:00:00\n",
      "Checking date: 2020-06-25 00:00:00\n",
      "Checking date: 2020-06-26 00:00:00\n",
      "Checking date: 2020-06-27 00:00:00\n",
      "Checking date: 2020-06-28 00:00:00\n",
      "Checking date: 2020-06-29 00:00:00\n",
      "Checking date: 2020-06-30 00:00:00\n",
      "Checking date: 2020-07-01 00:00:00\n",
      "Checking date: 2020-07-02 00:00:00\n",
      "Checking date: 2020-07-03 00:00:00\n",
      "Checking date: 2020-07-04 00:00:00\n",
      "Checking date: 2020-07-05 00:00:00\n",
      "Checking date: 2020-07-06 00:00:00\n",
      "Checking date: 2020-07-07 00:00:00\n",
      "Checking date: 2020-07-08 00:00:00\n",
      "Checking date: 2020-07-09 00:00:00\n",
      "Checking date: 2020-07-10 00:00:00\n",
      "Checking date: 2020-07-11 00:00:00\n",
      "Checking date: 2020-07-12 00:00:00\n",
      "Checking date: 2020-07-13 00:00:00\n",
      "Checking date: 2020-07-14 00:00:00\n",
      "Checking date: 2020-07-15 00:00:00\n",
      "Checking date: 2020-07-16 00:00:00\n",
      "Checking date: 2020-07-17 00:00:00\n",
      "Checking date: 2020-07-18 00:00:00\n",
      "Checking date: 2020-07-19 00:00:00\n",
      "Checking date: 2020-07-20 00:00:00\n",
      "Checking date: 2020-07-21 00:00:00\n",
      "Checking date: 2020-07-22 00:00:00\n",
      "Checking date: 2020-07-23 00:00:00\n",
      "Checking date: 2020-07-24 00:00:00\n",
      "Checking date: 2020-07-25 00:00:00\n",
      "Checking date: 2020-07-26 00:00:00\n",
      "Checking date: 2020-07-27 00:00:00\n",
      "Checking date: 2020-07-28 00:00:00\n",
      "Checking date: 2020-07-29 00:00:00\n",
      "Checking date: 2020-07-30 00:00:00\n",
      "Checking date: 2020-07-31 00:00:00\n",
      "Checking date: 2020-08-01 00:00:00\n",
      "Checking date: 2020-08-02 00:00:00\n",
      "Checking date: 2020-08-03 00:00:00\n",
      "Checking date: 2020-08-04 00:00:00\n",
      "Checking date: 2020-08-05 00:00:00\n",
      "Checking date: 2020-08-06 00:00:00\n",
      "Checking date: 2020-08-07 00:00:00\n",
      "Checking date: 2020-08-08 00:00:00\n",
      "Checking date: 2020-08-09 00:00:00\n",
      "Checking date: 2020-08-10 00:00:00\n",
      "Checking date: 2020-08-11 00:00:00\n",
      "Checking date: 2020-08-12 00:00:00\n",
      "Checking date: 2020-08-13 00:00:00\n",
      "Checking date: 2020-08-14 00:00:00\n",
      "Checking date: 2020-08-15 00:00:00\n",
      "Checking date: 2020-08-16 00:00:00\n",
      "Checking date: 2020-08-17 00:00:00\n",
      "Checking date: 2020-08-18 00:00:00\n",
      "Checking date: 2020-08-19 00:00:00\n",
      "Checking date: 2020-08-20 00:00:00\n",
      "Checking date: 2020-08-21 00:00:00\n",
      "Checking date: 2020-08-22 00:00:00\n",
      "Checking date: 2020-08-23 00:00:00\n",
      "Checking date: 2020-08-24 00:00:00\n",
      "Checking date: 2020-08-25 00:00:00\n",
      "Checking date: 2020-08-26 00:00:00\n",
      "Checking date: 2020-08-27 00:00:00\n",
      "Checking date: 2020-08-28 00:00:00\n",
      "Checking date: 2020-08-29 00:00:00\n",
      "Checking date: 2020-08-30 00:00:00\n",
      "Checking date: 2020-08-31 00:00:00\n",
      "Checking date: 2020-09-01 00:00:00\n",
      "Checking date: 2020-09-02 00:00:00\n",
      "Checking date: 2020-09-03 00:00:00\n",
      "Checking date: 2020-09-04 00:00:00\n",
      "Checking date: 2020-09-05 00:00:00\n",
      "Checking date: 2020-09-06 00:00:00\n",
      "Checking date: 2020-09-07 00:00:00\n",
      "Checking date: 2020-09-08 00:00:00\n",
      "Checking date: 2020-09-09 00:00:00\n",
      "Checking date: 2020-09-10 00:00:00\n",
      "Checking date: 2020-09-11 00:00:00\n",
      "Checking date: 2020-09-12 00:00:00\n",
      "Checking date: 2020-09-13 00:00:00\n",
      "Checking date: 2020-09-14 00:00:00\n",
      "Checking date: 2020-09-15 00:00:00\n",
      "Checking date: 2020-09-16 00:00:00\n",
      "Checking date: 2020-09-17 00:00:00\n",
      "Checking date: 2020-09-18 00:00:00\n",
      "Checking date: 2020-09-19 00:00:00\n",
      "Checking date: 2020-09-20 00:00:00\n",
      "Checking date: 2020-09-21 00:00:00\n",
      "Checking date: 2020-09-22 00:00:00\n",
      "Checking date: 2020-09-23 00:00:00\n",
      "Checking date: 2020-09-24 00:00:00\n",
      "Checking date: 2020-09-25 00:00:00\n",
      "Checking date: 2020-09-26 00:00:00\n",
      "Checking date: 2020-09-27 00:00:00\n",
      "Checking date: 2020-09-28 00:00:00\n",
      "Checking date: 2020-09-29 00:00:00\n",
      "Checking date: 2020-09-30 00:00:00\n",
      "Checking date: 2020-10-01 00:00:00\n",
      "Checking date: 2020-10-02 00:00:00\n",
      "Checking date: 2020-10-03 00:00:00\n",
      "Checking date: 2020-10-04 00:00:00\n",
      "Checking date: 2020-10-05 00:00:00\n",
      "Checking date: 2020-10-06 00:00:00\n",
      "Checking date: 2020-10-07 00:00:00\n",
      "Checking date: 2020-10-08 00:00:00\n",
      "Checking date: 2020-10-09 00:00:00\n",
      "Checking date: 2020-10-10 00:00:00\n",
      "Checking date: 2020-10-11 00:00:00\n",
      "Checking date: 2020-10-12 00:00:00\n",
      "Checking date: 2020-10-13 00:00:00\n",
      "Checking date: 2020-10-14 00:00:00\n",
      "Checking date: 2020-10-15 00:00:00\n",
      "Checking date: 2020-10-16 00:00:00\n",
      "Checking date: 2020-10-17 00:00:00\n",
      "Checking date: 2020-10-18 00:00:00\n",
      "Checking date: 2020-10-19 00:00:00\n",
      "Checking date: 2020-10-20 00:00:00\n",
      "Checking date: 2020-10-21 00:00:00\n",
      "Checking date: 2020-10-22 00:00:00\n",
      "Checking date: 2020-10-23 00:00:00\n",
      "Checking date: 2020-10-24 00:00:00\n",
      "Checking date: 2020-10-25 00:00:00\n",
      "Checking date: 2020-10-26 00:00:00\n",
      "Checking date: 2020-10-27 00:00:00\n",
      "Checking date: 2020-10-28 00:00:00\n",
      "Checking date: 2020-10-29 00:00:00\n",
      "Checking date: 2020-10-30 00:00:00\n",
      "Checking date: 2020-10-31 00:00:00\n",
      "Checking date: 2020-11-01 00:00:00\n",
      "Checking date: 2020-11-02 00:00:00\n",
      "Checking date: 2020-11-03 00:00:00\n",
      "Checking date: 2020-11-04 00:00:00\n",
      "Checking date: 2020-11-05 00:00:00\n"
     ]
    },
    {
     "ename": "KeyError",
     "evalue": "'Date'",
     "output_type": "error",
     "traceback": [
      "\u001b[1;31m---------------------------------------------------------------------------\u001b[0m",
      "\u001b[1;31mKeyError\u001b[0m                                  Traceback (most recent call last)",
      "\u001b[1;32m~\\Anaconda3\\envs\\webscraping\\lib\\site-packages\\pandas\\core\\indexes\\base.py\u001b[0m in \u001b[0;36mget_loc\u001b[1;34m(self, key, method, tolerance)\u001b[0m\n\u001b[0;32m   3079\u001b[0m             \u001b[1;32mtry\u001b[0m\u001b[1;33m:\u001b[0m\u001b[1;33m\u001b[0m\u001b[1;33m\u001b[0m\u001b[0m\n\u001b[1;32m-> 3080\u001b[1;33m                 \u001b[1;32mreturn\u001b[0m \u001b[0mself\u001b[0m\u001b[1;33m.\u001b[0m\u001b[0m_engine\u001b[0m\u001b[1;33m.\u001b[0m\u001b[0mget_loc\u001b[0m\u001b[1;33m(\u001b[0m\u001b[0mcasted_key\u001b[0m\u001b[1;33m)\u001b[0m\u001b[1;33m\u001b[0m\u001b[1;33m\u001b[0m\u001b[0m\n\u001b[0m\u001b[0;32m   3081\u001b[0m             \u001b[1;32mexcept\u001b[0m \u001b[0mKeyError\u001b[0m \u001b[1;32mas\u001b[0m \u001b[0merr\u001b[0m\u001b[1;33m:\u001b[0m\u001b[1;33m\u001b[0m\u001b[1;33m\u001b[0m\u001b[0m\n",
      "\u001b[1;32mpandas\\_libs\\index.pyx\u001b[0m in \u001b[0;36mpandas._libs.index.IndexEngine.get_loc\u001b[1;34m()\u001b[0m\n",
      "\u001b[1;32mpandas\\_libs\\index.pyx\u001b[0m in \u001b[0;36mpandas._libs.index.IndexEngine.get_loc\u001b[1;34m()\u001b[0m\n",
      "\u001b[1;32mpandas\\_libs\\hashtable_class_helper.pxi\u001b[0m in \u001b[0;36mpandas._libs.hashtable.PyObjectHashTable.get_item\u001b[1;34m()\u001b[0m\n",
      "\u001b[1;32mpandas\\_libs\\hashtable_class_helper.pxi\u001b[0m in \u001b[0;36mpandas._libs.hashtable.PyObjectHashTable.get_item\u001b[1;34m()\u001b[0m\n",
      "\u001b[1;31mKeyError\u001b[0m: 'Date'",
      "\nThe above exception was the direct cause of the following exception:\n",
      "\u001b[1;31mKeyError\u001b[0m                                  Traceback (most recent call last)",
      "\u001b[1;32m<ipython-input-175-2c2dd0ab44f9>\u001b[0m in \u001b[0;36m<module>\u001b[1;34m\u001b[0m\n\u001b[0;32m     29\u001b[0m \u001b[1;33m\u001b[0m\u001b[0m\n\u001b[0;32m     30\u001b[0m     \u001b[0mmissing_df\u001b[0m \u001b[1;33m=\u001b[0m \u001b[0mpd\u001b[0m\u001b[1;33m.\u001b[0m\u001b[0mDataFrame\u001b[0m\u001b[1;33m(\u001b[0m\u001b[0mmissing_list\u001b[0m\u001b[1;33m)\u001b[0m\u001b[1;33m\u001b[0m\u001b[1;33m\u001b[0m\u001b[0m\n\u001b[1;32m---> 31\u001b[1;33m     \u001b[0mmissing_df\u001b[0m\u001b[1;33m.\u001b[0m\u001b[0mset_index\u001b[0m\u001b[1;33m(\u001b[0m\u001b[0mmissing_df\u001b[0m\u001b[1;33m[\u001b[0m\u001b[1;34m'Date'\u001b[0m\u001b[1;33m]\u001b[0m\u001b[1;33m,\u001b[0m \u001b[0minplace\u001b[0m \u001b[1;33m=\u001b[0m \u001b[1;32mTrue\u001b[0m\u001b[1;33m)\u001b[0m\u001b[1;33m\u001b[0m\u001b[1;33m\u001b[0m\u001b[0m\n\u001b[0m\u001b[0;32m     32\u001b[0m     \u001b[1;32mdel\u001b[0m \u001b[0mmissing_df\u001b[0m\u001b[1;33m[\u001b[0m\u001b[1;34m'Date'\u001b[0m\u001b[1;33m]\u001b[0m\u001b[1;33m\u001b[0m\u001b[1;33m\u001b[0m\u001b[0m\n\u001b[0;32m     33\u001b[0m \u001b[1;33m\u001b[0m\u001b[0m\n",
      "\u001b[1;32m~\\Anaconda3\\envs\\webscraping\\lib\\site-packages\\pandas\\core\\frame.py\u001b[0m in \u001b[0;36m__getitem__\u001b[1;34m(self, key)\u001b[0m\n\u001b[0;32m   3022\u001b[0m             \u001b[1;32mif\u001b[0m \u001b[0mself\u001b[0m\u001b[1;33m.\u001b[0m\u001b[0mcolumns\u001b[0m\u001b[1;33m.\u001b[0m\u001b[0mnlevels\u001b[0m \u001b[1;33m>\u001b[0m \u001b[1;36m1\u001b[0m\u001b[1;33m:\u001b[0m\u001b[1;33m\u001b[0m\u001b[1;33m\u001b[0m\u001b[0m\n\u001b[0;32m   3023\u001b[0m                 \u001b[1;32mreturn\u001b[0m \u001b[0mself\u001b[0m\u001b[1;33m.\u001b[0m\u001b[0m_getitem_multilevel\u001b[0m\u001b[1;33m(\u001b[0m\u001b[0mkey\u001b[0m\u001b[1;33m)\u001b[0m\u001b[1;33m\u001b[0m\u001b[1;33m\u001b[0m\u001b[0m\n\u001b[1;32m-> 3024\u001b[1;33m             \u001b[0mindexer\u001b[0m \u001b[1;33m=\u001b[0m \u001b[0mself\u001b[0m\u001b[1;33m.\u001b[0m\u001b[0mcolumns\u001b[0m\u001b[1;33m.\u001b[0m\u001b[0mget_loc\u001b[0m\u001b[1;33m(\u001b[0m\u001b[0mkey\u001b[0m\u001b[1;33m)\u001b[0m\u001b[1;33m\u001b[0m\u001b[1;33m\u001b[0m\u001b[0m\n\u001b[0m\u001b[0;32m   3025\u001b[0m             \u001b[1;32mif\u001b[0m \u001b[0mis_integer\u001b[0m\u001b[1;33m(\u001b[0m\u001b[0mindexer\u001b[0m\u001b[1;33m)\u001b[0m\u001b[1;33m:\u001b[0m\u001b[1;33m\u001b[0m\u001b[1;33m\u001b[0m\u001b[0m\n\u001b[0;32m   3026\u001b[0m                 \u001b[0mindexer\u001b[0m \u001b[1;33m=\u001b[0m \u001b[1;33m[\u001b[0m\u001b[0mindexer\u001b[0m\u001b[1;33m]\u001b[0m\u001b[1;33m\u001b[0m\u001b[1;33m\u001b[0m\u001b[0m\n",
      "\u001b[1;32m~\\Anaconda3\\envs\\webscraping\\lib\\site-packages\\pandas\\core\\indexes\\base.py\u001b[0m in \u001b[0;36mget_loc\u001b[1;34m(self, key, method, tolerance)\u001b[0m\n\u001b[0;32m   3080\u001b[0m                 \u001b[1;32mreturn\u001b[0m \u001b[0mself\u001b[0m\u001b[1;33m.\u001b[0m\u001b[0m_engine\u001b[0m\u001b[1;33m.\u001b[0m\u001b[0mget_loc\u001b[0m\u001b[1;33m(\u001b[0m\u001b[0mcasted_key\u001b[0m\u001b[1;33m)\u001b[0m\u001b[1;33m\u001b[0m\u001b[1;33m\u001b[0m\u001b[0m\n\u001b[0;32m   3081\u001b[0m             \u001b[1;32mexcept\u001b[0m \u001b[0mKeyError\u001b[0m \u001b[1;32mas\u001b[0m \u001b[0merr\u001b[0m\u001b[1;33m:\u001b[0m\u001b[1;33m\u001b[0m\u001b[1;33m\u001b[0m\u001b[0m\n\u001b[1;32m-> 3082\u001b[1;33m                 \u001b[1;32mraise\u001b[0m \u001b[0mKeyError\u001b[0m\u001b[1;33m(\u001b[0m\u001b[0mkey\u001b[0m\u001b[1;33m)\u001b[0m \u001b[1;32mfrom\u001b[0m \u001b[0merr\u001b[0m\u001b[1;33m\u001b[0m\u001b[1;33m\u001b[0m\u001b[0m\n\u001b[0m\u001b[0;32m   3083\u001b[0m \u001b[1;33m\u001b[0m\u001b[0m\n\u001b[0;32m   3084\u001b[0m         \u001b[1;32mif\u001b[0m \u001b[0mtolerance\u001b[0m \u001b[1;32mis\u001b[0m \u001b[1;32mnot\u001b[0m \u001b[1;32mNone\u001b[0m\u001b[1;33m:\u001b[0m\u001b[1;33m\u001b[0m\u001b[1;33m\u001b[0m\u001b[0m\n",
      "\u001b[1;31mKeyError\u001b[0m: 'Date'"
     ]
    }
   ],
   "source": [
    "complete_df_list = []\n",
    "\n",
    "for i in range(len(date_placeholder)):\n",
    "    \n",
    "    date = date_placeholder.loc[i]['Date']\n",
    "    \n",
    "    print(\"Checking date: \" + str(date))\n",
    "    \n",
    "    sub_df = final_landkreis_df.loc[date]\n",
    "    sub_df['was_missing'] = 0\n",
    "    \n",
    "    missing_landkreise = [landkreis for landkreis in landkreis_merged_df['RS'].unique() if landkreis not in sub_df['IdLandkreis'].unique()]\n",
    "    \n",
    "    missing_list = []\n",
    "    \n",
    "    for missing_landkreis in missing_landkreise:\n",
    "        \n",
    "        empty_dict = {}\n",
    "        \n",
    "        empty_dict['IdLandkreis'] = missing_landkreis\n",
    "        empty_dict['Indicator'] = 'AnzahlFall'\n",
    "        empty_dict['Anzahl'] = 0\n",
    "        empty_dict['RS'] = missing_landkreis\n",
    "        empty_dict['geometry'] = landkreis_merged_df[landkreis_merged_df['RS'] == missing_landkreis]['geometry'].unique()[0]\n",
    "        empty_dict['was_missing'] = 1\n",
    "        empty_dict['Date'] = date\n",
    "        \n",
    "        missing_list.append(empty_dict)\n",
    "        \n",
    "    missing_df = pd.DataFrame(missing_list)\n",
    "    missing_df.set_index(missing_df['Date'], inplace = True)\n",
    "    del missing_df['Date']\n",
    "    \n",
    "    sub_df_complete = sub_df.append(missing_df)\n",
    "    \n",
    "    complete_df_list.append(sub_df_complete)"
   ]
  },
  {
   "cell_type": "code",
   "execution_count": 178,
   "id": "456ba0de",
   "metadata": {},
   "outputs": [
    {
     "data": {
      "text/plain": [
       "[]"
      ]
     },
     "execution_count": 178,
     "metadata": {},
     "output_type": "execute_result"
    }
   ],
   "source": [
    "missing_list"
   ]
  },
  {
   "cell_type": "code",
   "execution_count": 144,
   "id": "b0ef69d0",
   "metadata": {},
   "outputs": [
    {
     "data": {
      "text/html": [
       "<div>\n",
       "<style scoped>\n",
       "    .dataframe tbody tr th:only-of-type {\n",
       "        vertical-align: middle;\n",
       "    }\n",
       "\n",
       "    .dataframe tbody tr th {\n",
       "        vertical-align: top;\n",
       "    }\n",
       "\n",
       "    .dataframe thead th {\n",
       "        text-align: right;\n",
       "    }\n",
       "</style>\n",
       "<table border=\"1\" class=\"dataframe\">\n",
       "  <thead>\n",
       "    <tr style=\"text-align: right;\">\n",
       "      <th></th>\n",
       "      <th>county</th>\n",
       "      <th>geometry</th>\n",
       "    </tr>\n",
       "  </thead>\n",
       "  <tbody>\n",
       "    <tr>\n",
       "      <th>322</th>\n",
       "      <td>LK Saar-Pfalz-Kreis</td>\n",
       "      <td>MULTIPOLYGON (((7.29722 49.40458, 7.29424 49.4...</td>\n",
       "    </tr>\n",
       "  </tbody>\n",
       "</table>\n",
       "</div>"
      ],
      "text/plain": [
       "                  county                                           geometry\n",
       "322  LK Saar-Pfalz-Kreis  MULTIPOLYGON (((7.29722 49.40458, 7.29424 49.4..."
      ]
     },
     "execution_count": 144,
     "metadata": {},
     "output_type": "execute_result"
    }
   ],
   "source": [
    "landkreis_shapes[landkreis_shapes['county'] == 'LK Saar-Pfalz-Kreis']"
   ]
  },
  {
   "cell_type": "code",
   "execution_count": 140,
   "id": "893affad",
   "metadata": {},
   "outputs": [
    {
     "data": {
      "text/html": [
       "<div>\n",
       "<style scoped>\n",
       "    .dataframe tbody tr th:only-of-type {\n",
       "        vertical-align: middle;\n",
       "    }\n",
       "\n",
       "    .dataframe tbody tr th {\n",
       "        vertical-align: top;\n",
       "    }\n",
       "\n",
       "    .dataframe thead th {\n",
       "        text-align: right;\n",
       "    }\n",
       "</style>\n",
       "<table border=\"1\" class=\"dataframe\">\n",
       "  <thead>\n",
       "    <tr style=\"text-align: right;\">\n",
       "      <th></th>\n",
       "      <th>Landkreis</th>\n",
       "      <th>Indicator</th>\n",
       "      <th>Anzahl</th>\n",
       "      <th>county</th>\n",
       "      <th>geometry</th>\n",
       "    </tr>\n",
       "    <tr>\n",
       "      <th>MeldedatumISO</th>\n",
       "      <th></th>\n",
       "      <th></th>\n",
       "      <th></th>\n",
       "      <th></th>\n",
       "      <th></th>\n",
       "    </tr>\n",
       "  </thead>\n",
       "  <tbody>\n",
       "    <tr>\n",
       "      <th>2020-02-27</th>\n",
       "      <td>LK Saarpfalz-Kreis</td>\n",
       "      <td>AnzahlFall</td>\n",
       "      <td>1</td>\n",
       "      <td>NaN</td>\n",
       "      <td>None</td>\n",
       "    </tr>\n",
       "    <tr>\n",
       "      <th>2020-03-09</th>\n",
       "      <td>LK Saarpfalz-Kreis</td>\n",
       "      <td>AnzahlFall</td>\n",
       "      <td>2</td>\n",
       "      <td>NaN</td>\n",
       "      <td>None</td>\n",
       "    </tr>\n",
       "    <tr>\n",
       "      <th>2020-03-11</th>\n",
       "      <td>LK Saarpfalz-Kreis</td>\n",
       "      <td>AnzahlFall</td>\n",
       "      <td>1</td>\n",
       "      <td>NaN</td>\n",
       "      <td>None</td>\n",
       "    </tr>\n",
       "    <tr>\n",
       "      <th>2020-03-13</th>\n",
       "      <td>LK Saarpfalz-Kreis</td>\n",
       "      <td>AnzahlFall</td>\n",
       "      <td>2</td>\n",
       "      <td>NaN</td>\n",
       "      <td>None</td>\n",
       "    </tr>\n",
       "    <tr>\n",
       "      <th>2020-03-15</th>\n",
       "      <td>LK Saarpfalz-Kreis</td>\n",
       "      <td>AnzahlFall</td>\n",
       "      <td>7</td>\n",
       "      <td>NaN</td>\n",
       "      <td>None</td>\n",
       "    </tr>\n",
       "    <tr>\n",
       "      <th>...</th>\n",
       "      <td>...</td>\n",
       "      <td>...</td>\n",
       "      <td>...</td>\n",
       "      <td>...</td>\n",
       "      <td>...</td>\n",
       "    </tr>\n",
       "    <tr>\n",
       "      <th>2021-04-08</th>\n",
       "      <td>LK Saarpfalz-Kreis</td>\n",
       "      <td>AnzahlFall</td>\n",
       "      <td>47</td>\n",
       "      <td>NaN</td>\n",
       "      <td>None</td>\n",
       "    </tr>\n",
       "    <tr>\n",
       "      <th>2021-04-09</th>\n",
       "      <td>LK Saarpfalz-Kreis</td>\n",
       "      <td>AnzahlFall</td>\n",
       "      <td>37</td>\n",
       "      <td>NaN</td>\n",
       "      <td>None</td>\n",
       "    </tr>\n",
       "    <tr>\n",
       "      <th>2021-04-10</th>\n",
       "      <td>LK Saarpfalz-Kreis</td>\n",
       "      <td>AnzahlFall</td>\n",
       "      <td>23</td>\n",
       "      <td>NaN</td>\n",
       "      <td>None</td>\n",
       "    </tr>\n",
       "    <tr>\n",
       "      <th>2021-04-11</th>\n",
       "      <td>LK Saarpfalz-Kreis</td>\n",
       "      <td>AnzahlFall</td>\n",
       "      <td>6</td>\n",
       "      <td>NaN</td>\n",
       "      <td>None</td>\n",
       "    </tr>\n",
       "    <tr>\n",
       "      <th>2021-04-12</th>\n",
       "      <td>LK Saarpfalz-Kreis</td>\n",
       "      <td>AnzahlFall</td>\n",
       "      <td>1</td>\n",
       "      <td>NaN</td>\n",
       "      <td>None</td>\n",
       "    </tr>\n",
       "  </tbody>\n",
       "</table>\n",
       "<p>302 rows × 5 columns</p>\n",
       "</div>"
      ],
      "text/plain": [
       "                        Landkreis   Indicator  Anzahl county geometry\n",
       "MeldedatumISO                                                        \n",
       "2020-02-27     LK Saarpfalz-Kreis  AnzahlFall       1    NaN     None\n",
       "2020-03-09     LK Saarpfalz-Kreis  AnzahlFall       2    NaN     None\n",
       "2020-03-11     LK Saarpfalz-Kreis  AnzahlFall       1    NaN     None\n",
       "2020-03-13     LK Saarpfalz-Kreis  AnzahlFall       2    NaN     None\n",
       "2020-03-15     LK Saarpfalz-Kreis  AnzahlFall       7    NaN     None\n",
       "...                           ...         ...     ...    ...      ...\n",
       "2021-04-08     LK Saarpfalz-Kreis  AnzahlFall      47    NaN     None\n",
       "2021-04-09     LK Saarpfalz-Kreis  AnzahlFall      37    NaN     None\n",
       "2021-04-10     LK Saarpfalz-Kreis  AnzahlFall      23    NaN     None\n",
       "2021-04-11     LK Saarpfalz-Kreis  AnzahlFall       6    NaN     None\n",
       "2021-04-12     LK Saarpfalz-Kreis  AnzahlFall       1    NaN     None\n",
       "\n",
       "[302 rows x 5 columns]"
      ]
     },
     "execution_count": 140,
     "metadata": {},
     "output_type": "execute_result"
    }
   ],
   "source": [
    "landkreis_merged_df[landkreis_merged_df['Landkreis'] == missing_landkreis]"
   ]
  },
  {
   "cell_type": "code",
   "execution_count": 147,
   "id": "6454f90d",
   "metadata": {},
   "outputs": [
    {
     "data": {
      "text/html": [
       "<div>\n",
       "<style scoped>\n",
       "    .dataframe tbody tr th:only-of-type {\n",
       "        vertical-align: middle;\n",
       "    }\n",
       "\n",
       "    .dataframe tbody tr th {\n",
       "        vertical-align: top;\n",
       "    }\n",
       "\n",
       "    .dataframe thead th {\n",
       "        text-align: right;\n",
       "    }\n",
       "</style>\n",
       "<table border=\"1\" class=\"dataframe\">\n",
       "  <thead>\n",
       "    <tr style=\"text-align: right;\">\n",
       "      <th></th>\n",
       "      <th>ObjectId</th>\n",
       "      <th>IdBundesland</th>\n",
       "      <th>Bundesland</th>\n",
       "      <th>Landkreis</th>\n",
       "      <th>Altersgruppe</th>\n",
       "      <th>Geschlecht</th>\n",
       "      <th>AnzahlFall</th>\n",
       "      <th>AnzahlTodesfall</th>\n",
       "      <th>Meldedatum</th>\n",
       "      <th>IdLandkreis</th>\n",
       "      <th>Datenstand</th>\n",
       "      <th>NeuerFall</th>\n",
       "      <th>NeuerTodesfall</th>\n",
       "      <th>Refdatum</th>\n",
       "      <th>NeuGenesen</th>\n",
       "      <th>AnzahlGenesen</th>\n",
       "      <th>IstErkrankungsbeginn</th>\n",
       "      <th>Altersgruppe2</th>\n",
       "      <th>geometry</th>\n",
       "      <th>MeldedatumISO</th>\n",
       "    </tr>\n",
       "  </thead>\n",
       "  <tbody>\n",
       "    <tr>\n",
       "      <th>0</th>\n",
       "      <td>1</td>\n",
       "      <td>1</td>\n",
       "      <td>Schleswig-Holstein</td>\n",
       "      <td>SK Flensburg</td>\n",
       "      <td>A00-A04</td>\n",
       "      <td>M</td>\n",
       "      <td>1</td>\n",
       "      <td>0</td>\n",
       "      <td>2020-09-30 00:00:00+00:00</td>\n",
       "      <td>01001</td>\n",
       "      <td>13.04.2021, 00:00 Uhr</td>\n",
       "      <td>0</td>\n",
       "      <td>-9</td>\n",
       "      <td>2020-09-30T00:00:00+00:00</td>\n",
       "      <td>0</td>\n",
       "      <td>1</td>\n",
       "      <td>0</td>\n",
       "      <td>Nicht übermittelt</td>\n",
       "      <td>None</td>\n",
       "      <td>2020-09-30</td>\n",
       "    </tr>\n",
       "    <tr>\n",
       "      <th>1</th>\n",
       "      <td>2</td>\n",
       "      <td>1</td>\n",
       "      <td>Schleswig-Holstein</td>\n",
       "      <td>SK Flensburg</td>\n",
       "      <td>A00-A04</td>\n",
       "      <td>M</td>\n",
       "      <td>1</td>\n",
       "      <td>0</td>\n",
       "      <td>2020-10-29 00:00:00+00:00</td>\n",
       "      <td>01001</td>\n",
       "      <td>13.04.2021, 00:00 Uhr</td>\n",
       "      <td>0</td>\n",
       "      <td>-9</td>\n",
       "      <td>2020-10-29T00:00:00+00:00</td>\n",
       "      <td>0</td>\n",
       "      <td>1</td>\n",
       "      <td>0</td>\n",
       "      <td>Nicht übermittelt</td>\n",
       "      <td>None</td>\n",
       "      <td>2020-10-29</td>\n",
       "    </tr>\n",
       "    <tr>\n",
       "      <th>2</th>\n",
       "      <td>3</td>\n",
       "      <td>1</td>\n",
       "      <td>Schleswig-Holstein</td>\n",
       "      <td>SK Flensburg</td>\n",
       "      <td>A00-A04</td>\n",
       "      <td>M</td>\n",
       "      <td>1</td>\n",
       "      <td>0</td>\n",
       "      <td>2020-11-03 00:00:00+00:00</td>\n",
       "      <td>01001</td>\n",
       "      <td>13.04.2021, 00:00 Uhr</td>\n",
       "      <td>0</td>\n",
       "      <td>-9</td>\n",
       "      <td>2020-11-03T00:00:00+00:00</td>\n",
       "      <td>0</td>\n",
       "      <td>1</td>\n",
       "      <td>0</td>\n",
       "      <td>Nicht übermittelt</td>\n",
       "      <td>None</td>\n",
       "      <td>2020-11-03</td>\n",
       "    </tr>\n",
       "    <tr>\n",
       "      <th>3</th>\n",
       "      <td>4</td>\n",
       "      <td>1</td>\n",
       "      <td>Schleswig-Holstein</td>\n",
       "      <td>SK Flensburg</td>\n",
       "      <td>A00-A04</td>\n",
       "      <td>M</td>\n",
       "      <td>1</td>\n",
       "      <td>0</td>\n",
       "      <td>2020-11-20 00:00:00+00:00</td>\n",
       "      <td>01001</td>\n",
       "      <td>13.04.2021, 00:00 Uhr</td>\n",
       "      <td>0</td>\n",
       "      <td>-9</td>\n",
       "      <td>2020-11-19T00:00:00+00:00</td>\n",
       "      <td>0</td>\n",
       "      <td>1</td>\n",
       "      <td>1</td>\n",
       "      <td>Nicht übermittelt</td>\n",
       "      <td>None</td>\n",
       "      <td>2020-11-20</td>\n",
       "    </tr>\n",
       "    <tr>\n",
       "      <th>4</th>\n",
       "      <td>5</td>\n",
       "      <td>1</td>\n",
       "      <td>Schleswig-Holstein</td>\n",
       "      <td>SK Flensburg</td>\n",
       "      <td>A00-A04</td>\n",
       "      <td>M</td>\n",
       "      <td>1</td>\n",
       "      <td>0</td>\n",
       "      <td>2020-11-23 00:00:00+00:00</td>\n",
       "      <td>01001</td>\n",
       "      <td>13.04.2021, 00:00 Uhr</td>\n",
       "      <td>0</td>\n",
       "      <td>-9</td>\n",
       "      <td>2020-11-18T00:00:00+00:00</td>\n",
       "      <td>0</td>\n",
       "      <td>1</td>\n",
       "      <td>1</td>\n",
       "      <td>Nicht übermittelt</td>\n",
       "      <td>None</td>\n",
       "      <td>2020-11-23</td>\n",
       "    </tr>\n",
       "  </tbody>\n",
       "</table>\n",
       "</div>"
      ],
      "text/plain": [
       "   ObjectId  IdBundesland          Bundesland     Landkreis Altersgruppe  \\\n",
       "0         1             1  Schleswig-Holstein  SK Flensburg      A00-A04   \n",
       "1         2             1  Schleswig-Holstein  SK Flensburg      A00-A04   \n",
       "2         3             1  Schleswig-Holstein  SK Flensburg      A00-A04   \n",
       "3         4             1  Schleswig-Holstein  SK Flensburg      A00-A04   \n",
       "4         5             1  Schleswig-Holstein  SK Flensburg      A00-A04   \n",
       "\n",
       "  Geschlecht  AnzahlFall  AnzahlTodesfall                Meldedatum  \\\n",
       "0          M           1                0 2020-09-30 00:00:00+00:00   \n",
       "1          M           1                0 2020-10-29 00:00:00+00:00   \n",
       "2          M           1                0 2020-11-03 00:00:00+00:00   \n",
       "3          M           1                0 2020-11-20 00:00:00+00:00   \n",
       "4          M           1                0 2020-11-23 00:00:00+00:00   \n",
       "\n",
       "  IdLandkreis             Datenstand  NeuerFall  NeuerTodesfall  \\\n",
       "0       01001  13.04.2021, 00:00 Uhr          0              -9   \n",
       "1       01001  13.04.2021, 00:00 Uhr          0              -9   \n",
       "2       01001  13.04.2021, 00:00 Uhr          0              -9   \n",
       "3       01001  13.04.2021, 00:00 Uhr          0              -9   \n",
       "4       01001  13.04.2021, 00:00 Uhr          0              -9   \n",
       "\n",
       "                    Refdatum  NeuGenesen  AnzahlGenesen  IstErkrankungsbeginn  \\\n",
       "0  2020-09-30T00:00:00+00:00           0              1                     0   \n",
       "1  2020-10-29T00:00:00+00:00           0              1                     0   \n",
       "2  2020-11-03T00:00:00+00:00           0              1                     0   \n",
       "3  2020-11-19T00:00:00+00:00           0              1                     1   \n",
       "4  2020-11-18T00:00:00+00:00           0              1                     1   \n",
       "\n",
       "       Altersgruppe2 geometry MeldedatumISO  \n",
       "0  Nicht übermittelt     None    2020-09-30  \n",
       "1  Nicht übermittelt     None    2020-10-29  \n",
       "2  Nicht übermittelt     None    2020-11-03  \n",
       "3  Nicht übermittelt     None    2020-11-20  \n",
       "4  Nicht übermittelt     None    2020-11-23  "
      ]
     },
     "execution_count": 147,
     "metadata": {},
     "output_type": "execute_result"
    }
   ],
   "source": [
    "corona_data.head()"
   ]
  },
  {
   "cell_type": "code",
   "execution_count": 150,
   "id": "29bc4dbb",
   "metadata": {},
   "outputs": [
    {
     "data": {
      "text/plain": [
       "OBJECTID                                                                2\n",
       "ADE                                                                   4.0\n",
       "GF                                                                    4.0\n",
       "BSG                                                                   1.0\n",
       "RS                                                                  01002\n",
       "AGS                                                                 01002\n",
       "SDV_RS                                                       010020000000\n",
       "GEN                                                                  Kiel\n",
       "BEZ                                                      Kreisfreie Stadt\n",
       "IBZ                                                                  40.0\n",
       "BEM                                                                    --\n",
       "NBD                                                                    ja\n",
       "SN_L                                                                   01\n",
       "SN_R                                                                    0\n",
       "SN_K                                                                   02\n",
       "SN_V1                                                                  00\n",
       "SN_V2                                                                  00\n",
       "SN_G                                                                  000\n",
       "FK_S3                                                                   R\n",
       "NUTS                                                                DEF02\n",
       "RS_0                                                         010020000000\n",
       "AGS_0                                                            01002000\n",
       "WSK                                                   2006-01-01T00:00:00\n",
       "EWZ                                                                246794\n",
       "KFL                                                                118.65\n",
       "DEBKG_ID                                                 DEBKGDL20000E43X\n",
       "death_rate                                                       2.192362\n",
       "cases                                                                4242\n",
       "deaths                                                                 93\n",
       "cases_per_100k                                                1718.842435\n",
       "cases_per_population                                             1.718842\n",
       "BL                                                     Schleswig-Holstein\n",
       "BL_ID                                                                   1\n",
       "county                                                            SK Kiel\n",
       "last_update                                         13.04.2021, 00:00 Uhr\n",
       "cases7_per_100k                                                 76.176892\n",
       "recovered                                                            None\n",
       "EWZ_BL                                                            2903773\n",
       "cases7_bl_per_100k                                              70.769995\n",
       "cases7_bl                                                            2055\n",
       "death7_bl                                                               0\n",
       "cases7_lk                                                             188\n",
       "death7_lk                                                               0\n",
       "cases7_per_100k_txt                                                  76,2\n",
       "AdmUnitId                                                            1002\n",
       "SHAPE_Length                                                     1.274684\n",
       "SHAPE_Area                                                       0.015507\n",
       "geometry                (POLYGON ((10.16915818600006 54.43137670700003...\n",
       "Name: 1, dtype: object"
      ]
     },
     "execution_count": 150,
     "metadata": {},
     "output_type": "execute_result"
    }
   ],
   "source": [
    "landkreis_data.iloc[1]"
   ]
  },
  {
   "cell_type": "code",
   "execution_count": 130,
   "id": "8dfd98c0",
   "metadata": {},
   "outputs": [
    {
     "data": {
      "image/svg+xml": [
       "<svg xmlns=\"http://www.w3.org/2000/svg\" xmlns:xlink=\"http://www.w3.org/1999/xlink\" width=\"100.0\" height=\"100.0\" viewBox=\"7.416907168040077 50.53978781304003 0.6502208839199701 0.426629532920046\" preserveAspectRatio=\"xMinYMin meet\"><g transform=\"matrix(1,0,0,-1,0,101.5062051590001)\"><g><path fill-rule=\"evenodd\" fill=\"#66cc99\" stroke=\"#555555\" stroke-width=\"0.013004417678399403\" opacity=\"0.6\" d=\"M 7.808788402000062,50.938804452000056 L 7.812409476000028,50.93857590600004 L 7.813265982000075,50.94002724400008 L 7.818898600000068,50.93329657800007 L 7.828498720000027,50.92888973100003 L 7.82988787000005,50.929011667000054 L 7.835785479000037,50.92956382800003 L 7.836334783000041,50.92866166500005 L 7.837626802000045,50.92900569400007 L 7.838306961000058,50.92628756700003 L 7.841172751000045,50.92711440200003 L 7.840768089000051,50.927816034000045 L 7.844682153000065,50.930394774000035 L 7.845526955000025,50.93081921000004 L 7.84652859800002,50.93074303000003 L 7.84840065700007,50.929894397000055 L 7.849175833000061,50.92887716900003 L 7.851495863000025,50.925832408000076 L 7.85075172300003,50.92439293500007 L 7.848215481000068,50.922086868000065 L 7.846806566000055,50.92080569700005 L 7.846323619000032,50.92036651700005 L 7.841530243000022,50.91601644200006 L 7.839477306000049,50.91281830300005 L 7.838607687000035,50.91084466700005 L 7.838380529000062,50.91033527700006 L 7.836240112000041,50.909665018000055 L 7.836366467000062,50.90919973800004 L 7.833709738000039,50.90834653300004 L 7.833244948000072,50.90726446700006 L 7.834637721000036,50.90482947900006 L 7.835509030000026,50.903291867000064 L 7.834964820000039,50.90185685500006 L 7.832672053000067,50.89665431000003 L 7.831280962000051,50.89583907700006 L 7.829820897000047,50.89498622700006 L 7.826699861000066,50.89083591500008 L 7.828050631000053,50.889624507000065 L 7.827766809000025,50.88663784100004 L 7.828322178000064,50.885060542000076 L 7.829263584000046,50.882386620000034 L 7.830017831000021,50.88275076900004 L 7.830518012000027,50.88256407600005 L 7.833085991000075,50.88160551200008 L 7.835526294000033,50.881106757000055 L 7.838049353000031,50.88059102400007 L 7.845269519000055,50.878383616000065 L 7.84713677700006,50.87850036800006 L 7.848150976000056,50.87856376900004 L 7.849340333000043,50.87818404500007 L 7.85083331800007,50.87770735300006 L 7.860438437000028,50.87701412800004 L 7.862146103000043,50.87751079000003 L 7.865854999000021,50.877603951000026 L 7.867975064000063,50.87836326200005 L 7.869002341000055,50.879070779000074 L 7.869878559000028,50.87817228800003 L 7.871610762000046,50.87639513900007 L 7.871887745000038,50.87611099600008 L 7.872244581000075,50.87583996700005 L 7.872827787000062,50.875592064000045 L 7.874514929000043,50.87519805200003 L 7.874949400000048,50.87506381900005 L 7.876345174000051,50.87478924200008 L 7.877175527000077,50.87469995400005 L 7.877839412000071,50.87478696900007 L 7.878898183000047,50.87493690800005 L 7.880001114000038,50.87506082400006 L 7.880825389000051,50.87507941300004 L 7.880910659000051,50.87508133500006 L 7.881110634000038,50.875067837000074 L 7.881682137000041,50.87502670100008 L 7.882458170000064,50.87489113500004 L 7.883009343000026,50.87470548300007 L 7.883552877000056,50.874402614000076 L 7.884003500000063,50.87398060900006 L 7.884310485000071,50.87358237800004 L 7.88457382100006,50.87320117000007 L 7.885022347000074,50.87256303800007 L 7.885683459000063,50.87168660200007 L 7.886082633000058,50.87066021800007 L 7.886204282000051,50.87001472600008 L 7.886520006000069,50.868194181000035 L 7.886781257000052,50.86706082300003 L 7.886957967000058,50.86622333100007 L 7.887103903000025,50.86539832100004 L 7.888363432000062,50.86551668300007 L 7.88929616300004,50.86562768500005 L 7.890561170000069,50.86539502100004 L 7.892349399000068,50.86483847000005 L 7.893944296000029,50.864500269000075 L 7.893980429000067,50.863022932000035 L 7.894025757000065,50.86094421800004 L 7.892998209000041,50.859480647000055 L 7.897306995000065,50.85747056000008 L 7.900693016000048,50.85262168300005 L 7.900890238000045,50.85240102000006 L 7.902665249000052,50.85143238900008 L 7.904351949000045,50.850515776000066 L 7.905851427000073,50.848109442000066 L 7.907798766000042,50.84754018900003 L 7.908598185000073,50.847306486000036 L 7.909638848000043,50.84700559800007 L 7.912957713000026,50.84690854300004 L 7.913484732000029,50.84689327600006 L 7.914523357000064,50.84662831300005 L 7.91561118900006,50.84522104400003 L 7.918644390000054,50.844631304000075 L 7.920353935000037,50.84483135900007 L 7.922851855000033,50.84466176300003 L 7.925743726000064,50.84482495800006 L 7.927096747000064,50.84504401600003 L 7.927606131000061,50.84560449000003 L 7.928007369000056,50.84606353200007 L 7.930010106000054,50.84662105600006 L 7.934317502000056,50.84690539200005 L 7.936021746000051,50.84720412900003 L 7.938303447000067,50.84837987000003 L 7.94549541300006,50.84767405100007 L 7.94930856700006,50.845822256000076 L 7.952896070000065,50.84600905600007 L 7.953617318000056,50.84644067900007 L 7.956737884000063,50.84830799800005 L 7.957688480000058,50.848868991000074 L 7.960497093000072,50.847958145000064 L 7.961186265000038,50.84757709100006 L 7.961817139000061,50.847221766000075 L 7.963943817000029,50.846034847000055 L 7.964765177000061,50.84505346700007 L 7.966332811000029,50.84438363900006 L 7.966981800000042,50.84403951500008 L 7.967543258000035,50.84292487500005 L 7.968161473000066,50.84169749500006 L 7.968335290000027,50.84111610000008 L 7.968548294000072,50.839790967000056 L 7.968384109000056,50.83865038000005 L 7.967567751000047,50.83771428000006 L 7.967756727000051,50.83685412700004 L 7.968071052000028,50.83604172400004 L 7.970147129000054,50.83498864200004 L 7.972062594000022,50.83453522000008 L 7.973643967000044,50.83342629100008 L 7.977433439000038,50.83406688900004 L 7.978313124000067,50.83331176200005 L 7.977469234000068,50.83235712900006 L 7.976505203000045,50.83047258600004 L 7.974059772000032,50.82864582700006 L 7.975801720000049,50.82640601000003 L 7.976583309000034,50.82504488500007 L 7.976649292000047,50.824929971000074 L 7.975629320000053,50.82381844400004 L 7.975974697000026,50.82059393700007 L 7.973832294000033,50.81869272500006 L 7.973373351000021,50.81693617800005 L 7.972265807000042,50.81518367100006 L 7.971959957000024,50.814699689000065 L 7.973214340000027,50.81436690100003 L 7.973777119000033,50.81394702000006 L 7.974347980000061,50.81232993300006 L 7.974654069000053,50.81087813400006 L 7.973780652000073,50.806285665000075 L 7.973937842000055,50.80417341700007 L 7.97296132200006,50.802270547000035 L 7.969693031000077,50.800191650000045 L 7.968277436000051,50.798792320000075 L 7.967312567000022,50.798249085000066 L 7.966840802000036,50.79438554400008 L 7.966803063000043,50.79194493400007 L 7.968326245000071,50.78874616100006 L 7.968338177000021,50.78844032300003 L 7.96836238800006,50.78781965300004 L 7.968402452000021,50.78708229000006 L 7.968665084000065,50.78643081300004 L 7.968979054000044,50.78561840400005 L 7.968646413000045,50.78520601200006 L 7.967901419000043,50.784280452000075 L 7.964248180000027,50.783822487000066 L 7.966786124000066,50.780762964000075 L 7.967826803000037,50.77885907900003 L 7.967917786000044,50.778443235000054 L 7.968034604000025,50.77790931000004 L 7.968471374000046,50.775803557000074 L 7.968861798000034,50.77392108600003 L 7.969779508000045,50.77314252300005 L 7.973393360000046,50.769676910000044 L 7.977570025000034,50.76779990800003 L 7.97989354200007,50.764501781000035 L 7.982981841000026,50.76239650500003 L 7.985036793000063,50.76189802300007 L 7.984027801000025,50.76099008400007 L 7.986125852000043,50.760513452000055 L 7.987283295000054,50.75951711300007 L 7.994830468000032,50.75701081100004 L 7.997405793000041,50.75609024000005 L 8.000229496000031,50.75508077500007 L 8.001260995000052,50.754331259000026 L 8.003690336000034,50.75122323900007 L 8.003744965000067,50.751153343000055 L 8.010320372000024,50.74547906200007 L 8.012097415000028,50.744085806000044 L 8.01265300600005,50.74355739300006 L 8.012990374000026,50.74323652000004 L 8.013314305000051,50.742928421000045 L 8.013445337000064,50.742854366000074 L 8.013689713000076,50.74271625200004 L 8.018283968000048,50.74011946500008 L 8.019170755000061,50.73953820500003 L 8.019880583000031,50.73889598200003 L 8.021162169000036,50.73766573700004 L 8.02205645600003,50.736941700000045 L 8.022626682000066,50.736382226000046 L 8.023153421000075,50.73579323600006 L 8.02381966200005,50.735121476000074 L 8.024551535000057,50.73464530500007 L 8.027632666000045,50.73340814900007 L 8.033820921000029,50.73092932000003 L 8.036284863000049,50.72939730000007 L 8.038373293000063,50.727452131000064 L 8.040325987000074,50.72565709000003 L 8.04110705100004,50.72079426200003 L 8.041666624000072,50.717979324000055 L 8.041892036000036,50.715809885000056 L 8.041983020000032,50.71493415600003 L 8.042849636000028,50.713287070000035 L 8.043045797000048,50.71171577600006 L 8.042866020000076,50.71109078100005 L 8.042354573000068,50.70922538700006 L 8.04030995900007,50.702326895000056 L 8.039414068000042,50.69930352000006 L 8.039164877000076,50.69846250200004 L 8.039689942000052,50.69737534500007 L 8.037885651000067,50.697280170000056 L 8.037005523000062,50.697233734000065 L 8.035972403000073,50.69717921800003 L 8.032458987000041,50.697680528000035 L 8.030798684000047,50.69739959100008 L 8.028441041000065,50.69700061100008 L 8.027185013000064,50.69636159700008 L 8.018006009000032,50.691717753000034 L 8.014903141000048,50.69063384700007 L 8.00845524600004,50.68906427300004 L 8.006953158000044,50.68869856200007 L 8.00520763000003,50.68827354800004 L 8.004637647000038,50.68727095200006 L 8.003826889000038,50.68547091500005 L 8.00310442700004,50.684140918000026 L 8.002923577000047,50.68381291500003 L 8.00213513400007,50.68292262600005 L 8.00161797100003,50.682524338000064 L 8.00059850100007,50.681980156000066 L 7.999275862000047,50.68127636300005 L 7.997294631000045,50.68017118800003 L 7.996282011000062,50.67950107400003 L 7.996035937000045,50.67933369800005 L 7.996024961000046,50.67821711200003 L 7.995465590000038,50.677286716000026 L 7.99379065200003,50.67628713800008 L 7.992885740000077,50.67598844100007 L 7.989622473000054,50.67580963100005 L 7.986579849000066,50.67574355900007 L 7.984483461000025,50.675733999000045 L 7.983718299000031,50.67573536200007 L 7.98061423200005,50.67575782500006 L 7.97757023500003,50.67597957800007 L 7.976061406000042,50.676108717000034 L 7.974438382000073,50.67625335000008 L 7.974325653000051,50.67624188500008 L 7.972907598000063,50.67652601600008 L 7.971491473000071,50.67677415900005 L 7.971305549000022,50.67680610600007 L 7.969008571000074,50.67709798200008 L 7.966248454000038,50.677568730000075 L 7.96392260500005,50.67812996100008 L 7.965404685000067,50.68136749100006 L 7.965414934000023,50.68143973900004 L 7.965917637000075,50.68340438800004 L 7.967427812000039,50.68586824800008 L 7.967130177000058,50.68874267000007 L 7.968814438000038,50.69218263300007 L 7.968645082000023,50.69269209400005 L 7.968224844000076,50.693907298000056 L 7.966331239000056,50.69536934100006 L 7.96045988700007,50.69881481300007 L 7.956230282000035,50.70148321200003 L 7.955637982000042,50.70197698100003 L 7.953458427000044,50.70372964100005 L 7.947660297000027,50.708391524000035 L 7.946515370000043,50.70910451900005 L 7.939912427000024,50.710318131000065 L 7.936444068000071,50.71038312400003 L 7.931085456000062,50.71045568800008 L 7.927229885000031,50.711720523000054 L 7.923065271000041,50.71318542600005 L 7.916287713000031,50.71676165500003 L 7.907999097000072,50.71892620600005 L 7.906637329000034,50.718931723000026 L 7.902630848000058,50.71880589700004 L 7.890930334000075,50.71576980900005 L 7.88955904900007,50.71435776900006 L 7.889053144000059,50.71383680300005 L 7.887589189000039,50.71136389000003 L 7.88574348700007,50.70862124000007 L 7.884288045000062,50.70510391900007 L 7.88360937300007,50.703673716000026 L 7.882118343000059,50.698932797000055 L 7.881969553000033,50.698047108000026 L 7.88173622000005,50.69639422600005 L 7.882199727000057,50.69545936800006 L 7.879694347000054,50.69438528900008 L 7.879324233000034,50.694160828000065 L 7.879118952000056,50.69403013200008 L 7.879058244000021,50.693596599000045 L 7.879186594000032,50.69282522200007 L 7.878699652000023,50.691904857000054 L 7.878019649000066,50.69164636100004 L 7.876988802000028,50.691577980000034 L 7.876284045000034,50.691507982000076 L 7.876173831000074,50.69145146200003 L 7.875487274000022,50.69105775200006 L 7.875139956000055,50.690428645000054 L 7.875243087000058,50.69010686400003 L 7.875412442000027,50.68961552300004 L 7.875228927000023,50.68884607800004 L 7.874810853000042,50.68846745600007 L 7.874500461000025,50.688190313000064 L 7.880186955000056,50.686617590000026 L 7.883996387000025,50.68616359100008 L 7.885953130000075,50.68589270500007 L 7.886562075000029,50.68514118300004 L 7.888771850000069,50.68449546800008 L 7.890423168000041,50.68401290000003 L 7.892900686000075,50.68177293000008 L 7.890239030000032,50.68046146200004 L 7.890118079000047,50.67990944700006 L 7.889972542000066,50.67924519800005 L 7.889174044000072,50.67872681100005 L 7.887764519000029,50.679100136000045 L 7.883613941000021,50.67907835800003 L 7.869349998000075,50.68124878200007 L 7.863506141000073,50.682601299000055 L 7.85794112800005,50.68352773400005 L 7.854766482000059,50.685282881000035 L 7.854546691000053,50.689662517000045 L 7.853096237000045,50.692996624000045 L 7.853092941000057,50.69355476100003 L 7.855114735000029,50.69364600800003 L 7.856812172000048,50.69445908800003 L 7.859097132000045,50.69541159900007 L 7.859955206000052,50.696781688000044 L 7.855092249000052,50.70129839300006 L 7.854003228000067,50.702002777000075 L 7.848927058000072,50.70536147400003 L 7.848110863000045,50.705901449000066 L 7.846669671000029,50.706561685000054 L 7.842196226000056,50.70843080600008 L 7.838583496000069,50.71061667200007 L 7.836416803000077,50.71180931500004 L 7.833974481000041,50.71112284600008 L 7.829245058000026,50.71001443100005 L 7.826606997000056,50.70953036600008 L 7.82318714400003,50.70809179300005 L 7.820147604000056,50.707688328000074 L 7.816555498000071,50.705552287000046 L 7.815989675000026,50.704296673000044 L 7.814839292000045,50.70383781700008 L 7.813854311000057,50.705678704000036 L 7.814411763000066,50.70633989900006 L 7.818458401000044,50.707721234000076 L 7.818256137000049,50.70852686900008 L 7.815846231000023,50.707741172000055 L 7.814539963000072,50.707315261000076 L 7.808236320000049,50.709914937000065 L 7.807095883000045,50.709528265000074 L 7.805244798000047,50.71088975100008 L 7.803921759000048,50.713172877000034 L 7.802429561000054,50.71420954600006 L 7.802465602000041,50.715206668000064 L 7.802495030000046,50.71602080300005 L 7.800431158000038,50.71639586500004 L 7.801481318000071,50.71957162400008 L 7.80234119000005,50.720283847000076 L 7.803479854000045,50.72122694400008 L 7.804702699000075,50.72223971000005 L 7.805392557000062,50.722985178000044 L 7.807853573000045,50.72564435400005 L 7.808500558000048,50.72819841300003 L 7.808217814000045,50.729902527000036 L 7.807237549000035,50.72968165700007 L 7.804752439000026,50.731199477000075 L 7.80389499100005,50.73106247000004 L 7.800524920000043,50.73021865000004 L 7.799542490000022,50.72979057900005 L 7.798499874000072,50.72966722000007 L 7.797741742000028,50.72977558200006 L 7.796247123000057,50.73035294300007 L 7.795864615000028,50.73034401100006 L 7.795695653000053,50.73032205800007 L 7.79479574800007,50.730183992000036 L 7.793961465000052,50.730137488000025 L 7.793198098000062,50.73033573500004 L 7.792206038000074,50.73080774500005 L 7.791178768000066,50.731152870000074 L 7.789411066000071,50.73130058500004 L 7.78834852500006,50.731275709000045 L 7.786931806000041,50.731242526000074 L 7.786263377000068,50.73151498300007 L 7.78501153600007,50.73230497800006 L 7.784326852000049,50.73285615700007 L 7.782215440000073,50.733788032000064 L 7.780743084000051,50.734707865000075 L 7.77811987900003,50.735897763000025 L 7.775555328000053,50.736809867000034 L 7.775288209000053,50.73701066900003 L 7.773841368000035,50.737489836000066 L 7.773051247000069,50.73683352200004 L 7.772380006000049,50.73627593500004 L 7.768505763000064,50.73580646500005 L 7.769264558000032,50.733024182000065 L 7.768366307000065,50.73261583500005 L 7.758444012000041,50.73584783600006 L 7.757197087000065,50.73606141500005 L 7.754625690000069,50.73828746700008 L 7.753961116000028,50.73825467900008 L 7.752517677000071,50.73818345600006 L 7.746978962000071,50.739951751000035 L 7.742885385000022,50.740070470000035 L 7.742591914000059,50.739514246000056 L 7.742293506000067,50.73856173100006 L 7.741658934000043,50.738015389000054 L 7.741550370000027,50.73793176800007 L 7.74236705800007,50.73707783800006 L 7.743938184000058,50.737142248000055 L 7.746967212000072,50.73630489700008 L 7.749981829000035,50.733063095000034 L 7.748289599000032,50.732167856000046 L 7.746239761000027,50.73108335500007 L 7.745491188000074,50.73006611800008 L 7.743903475000025,50.73004634800003 L 7.743463768000026,50.73148551000003 L 7.742013209000049,50.73250443000006 L 7.740661665000061,50.73232817000007 L 7.740785494000022,50.73167383600003 L 7.740712582000072,50.73098780000004 L 7.74018793700003,50.73026398800005 L 7.739380113000038,50.73001063000004 L 7.738222723000035,50.72991100100006 L 7.736966491000032,50.73004310400006 L 7.734721346000072,50.730583771000056 L 7.734112488000051,50.73080333200005 L 7.732634417000043,50.731326264000074 L 7.731120506000025,50.73197437600004 L 7.729592981000053,50.73356756000004 L 7.729023101000053,50.734085159000074 L 7.728201121000041,50.73430859600006 L 7.726857864000067,50.734231418000036 L 7.725789416000055,50.73382766100008 L 7.72549351400005,50.73331634900006 L 7.72557960000006,50.73282319100008 L 7.726286094000045,50.73215581300008 L 7.727370255000039,50.731101298000056 L 7.727882915000066,50.73059134200008 L 7.728900980000049,50.72945419600006 L 7.728968049000059,50.72904161900004 L 7.728966678000063,50.728348280000034 L 7.728662486000076,50.72773773400007 L 7.727575458000047,50.727171473000055 L 7.726899255000035,50.727092252000034 L 7.726371391000043,50.72714263700004 L 7.725892430000044,50.72756335400004 L 7.725404630000071,50.72837103000006 L 7.724633747000041,50.729406022000035 L 7.723538924000025,50.729685912000036 L 7.722794995000072,50.73050544500006 L 7.720162341000048,50.73111757600003 L 7.716266289000032,50.72603575100004 L 7.717629724000062,50.724105644000076 L 7.719601719000025,50.72291046300006 L 7.721570593000024,50.722480516000076 L 7.722341209000035,50.72383159800006 L 7.72367106300004,50.72389050700008 L 7.726073149000058,50.72404712600007 L 7.728117397000062,50.724258156000076 L 7.729322740000043,50.72450310200003 L 7.73026889700003,50.725291076000076 L 7.731479179000075,50.726409500000045 L 7.731831765000038,50.72692215200004 L 7.732338817000027,50.72722239900003 L 7.732819380000024,50.72725189300007 L 7.733291111000028,50.727191134000066 L 7.734011348000024,50.72676714800008 L 7.73440714000003,50.72655150300005 L 7.735299160000068,50.72586149400007 L 7.735450845000059,50.72521683200006 L 7.735224118000076,50.724734209000076 L 7.734772667000072,50.72445331000006 L 7.732440465000025,50.72359623400007 L 7.731374879000043,50.72314757200007 L 7.73106215200005,50.72268089200003 L 7.731361881000055,50.72145451600005 L 7.731626915000049,50.72081256900003 L 7.728871654000045,50.71991828700004 L 7.72770726300007,50.717315272000064 L 7.72458087800004,50.71598880500005 L 7.718665588000022,50.714820375000045 L 7.715166019000037,50.71595178200005 L 7.710496448000072,50.71387646900007 L 7.707845606000035,50.71314625600007 L 7.708073814000045,50.71241342700006 L 7.701816635000057,50.70915592000006 L 7.69886751100006,50.70796807500005 L 7.696819199000061,50.70665790700008 L 7.695889200000067,50.70467247700003 L 7.695758061000049,50.702607353000076 L 7.698957327000073,50.69796667400004 L 7.69989544200007,50.69603548600003 L 7.70027090800005,50.69379354300003 L 7.703427909000027,50.693626779000056 L 7.705168617000027,50.69391194800005 L 7.710171703000071,50.69369053300005 L 7.71655021600003,50.693107722000036 L 7.719603459000041,50.69178935900004 L 7.722510276000037,50.69042778700003 L 7.724570288000052,50.68946277200007 L 7.725613162000059,50.68884850100005 L 7.725982258000045,50.68693049600006 L 7.726540095000075,50.68379644000004 L 7.726075241000046,50.682502760000034 L 7.726111074000073,50.68157473500003 L 7.726276076000033,50.67769043800007 L 7.723917864000043,50.67564397800004 L 7.720727853000028,50.672578033000036 L 7.717541452000034,50.67231233200005 L 7.714512868000043,50.672014328000046 L 7.711688195000022,50.67281065100008 L 7.710851986000023,50.67305160600006 L 7.710121625000056,50.673655272000076 L 7.706265231000032,50.67389389500005 L 7.705605096000056,50.674779794000074 L 7.703884056000049,50.67478812300004 L 7.702500980000025,50.67479479700006 L 7.702224704000059,50.67420284700006 L 7.697761859000025,50.672302982000076 L 7.696105729000067,50.672983173000034 L 7.692868058000045,50.669564093000076 L 7.692393238000022,50.66857926600005 L 7.691532748000043,50.66679441000008 L 7.693373953000048,50.66538944300004 L 7.694679862000044,50.665583207000054 L 7.694736560000024,50.66463914600007 L 7.691018707000069,50.66263742800004 L 7.691850337000062,50.661565471000074 L 7.69269504500005,50.66042067800004 L 7.69413256100006,50.65960017800006 L 7.697892317000026,50.65850517400003 L 7.699614326000074,50.65816194400003 L 7.701135043000022,50.65808484000007 L 7.700554702000034,50.65667644200005 L 7.704027896000071,50.65473456600006 L 7.703360261000057,50.64766820300008 L 7.70416838400007,50.646706305000066 L 7.702771365000046,50.64615026800004 L 7.703580564000049,50.64451188800007 L 7.703996546000042,50.64366960700005 L 7.704221554000071,50.643214 L 7.701029399000049,50.64071463400006 L 7.701922794000041,50.63525276200005 L 7.702279606000047,50.62929167400006 L 7.703223585000046,50.62274152900005 L 7.700820995000072,50.622917449000056 L 7.689603303000069,50.62916413000005 L 7.688909591000026,50.63246079000004 L 7.685034400000063,50.63641109500003 L 7.682572578000077,50.63985737100006 L 7.681701223000061,50.641172769000036 L 7.678845828000021,50.644155125000054 L 7.676271835000023,50.64456949500004 L 7.674096446000021,50.645182642000066 L 7.672406654000042,50.646663035000074 L 7.665717419000032,50.647444654000026 L 7.663241382000024,50.64704283900005 L 7.661676714000066,50.646667990000026 L 7.661658017000036,50.64577422900004 L 7.65972950400004,50.64552516400005 L 7.657397306000064,50.64523237900005 L 7.656590768000058,50.64522154400004 L 7.655901515000039,50.648635236000075 L 7.655389614000057,50.65029744600008 L 7.654295585000057,50.65081978300003 L 7.652998066000066,50.651427142000045 L 7.650301479000063,50.65158040700004 L 7.647594878000064,50.65173417600005 L 7.646588192000024,50.65179135300008 L 7.644523650000053,50.65143629000005 L 7.643714903000046,50.65129718800006 L 7.641767653000045,50.64886289400005 L 7.638246336000066,50.649009883000076 L 7.637973274000046,50.649529502000064 L 7.637530838000032,50.650371404000055 L 7.636242296000034,50.65282314800004 L 7.634459459000027,50.65256286300007 L 7.63420061000005,50.65378104800004 L 7.632777728000065,50.65365572200005 L 7.632115787000032,50.65359428100004 L 7.629942479000022,50.65323419400005 L 7.627714844000025,50.652836697000055 L 7.627590329000043,50.65278858100004 L 7.626156353000056,50.65238375900003 L 7.62461756700003,50.651841243000035 L 7.623701854000046,50.65107109000007 L 7.622650250000049,50.64974827200007 L 7.621472578000066,50.64886352500008 L 7.620655145000057,50.64833891400008 L 7.619838282000046,50.647805307000056 L 7.618841485000075,50.64674494700006 L 7.618142784000042,50.64613323100008 L 7.617359810000039,50.64596963400004 L 7.616429337000056,50.64590140300004 L 7.615635008000027,50.645692487000076 L 7.615171746000044,50.645167668000056 L 7.615360875000022,50.644398 L 7.615301013000021,50.643991302000074 L 7.614771777000044,50.643617911000035 L 7.613856349000059,50.643306910000035 L 7.613244762000022,50.64382998000008 L 7.611135164000075,50.645634134000034 L 7.610774789000061,50.64619040800005 L 7.610101843000052,50.647229122000056 L 7.60463302200003,50.64840692800004 L 7.600442930000042,50.649058282000055 L 7.598198426000067,50.64962327500007 L 7.596488824000062,50.65001256600004 L 7.594294408000053,50.651137031000076 L 7.592425553000055,50.65203552500003 L 7.591743694000058,50.65252263200006 L 7.589548900000068,50.65069347900004 L 7.587208948000068,50.64892365500003 L 7.586957826000059,50.64795382800003 L 7.586900244000049,50.646151445000044 L 7.583879016000026,50.64531886700007 L 7.581747300000075,50.645211036000035 L 7.580923340000027,50.64411867200005 L 7.57167494600003,50.64526244400008 L 7.571709259000045,50.64448890600005 L 7.571757993000062,50.642936457000076 L 7.571861640000066,50.640033138000035 L 7.571918723000067,50.63843402800006 L 7.571376886000053,50.638042099000074 L 7.569868944000063,50.636347002000036 L 7.570562582000036,50.63544610500003 L 7.573696207000069,50.63492218400006 L 7.575542361000032,50.63302390300004 L 7.576206396000032,50.63033028900003 L 7.575895422000031,50.62960572600008 L 7.575217917000032,50.62802707800006 L 7.573431174000063,50.62739652600004 L 7.572870641000065,50.62584362000007 L 7.57321904500003,50.62490584900007 L 7.573360754000021,50.62422507900004 L 7.574502070000051,50.623909998000045 L 7.575223685000026,50.623999438000055 L 7.577058039000065,50.62463300700006 L 7.57823432400005,50.62191919000003 L 7.579080580000038,50.61967838700008 L 7.578743953000071,50.619541783000045 L 7.573117466000042,50.617258261000075 L 7.571471482000049,50.614839292000056 L 7.565484015000038,50.61304846300004 L 7.56390437400006,50.61386377200006 L 7.565939281000055,50.61549131500004 L 7.565821803000063,50.61623572600007 L 7.565693626000041,50.61737607500004 L 7.565487351000058,50.61773102600006 L 7.56474636300004,50.618261490000066 L 7.56338254700006,50.62036996300003 L 7.56285237000003,50.62137402400003 L 7.563028848000044,50.623296528000026 L 7.563277068000048,50.62407724900004 L 7.563653611000063,50.624618102000056 L 7.564254037000069,50.625200661000065 L 7.564572937000037,50.62575805500006 L 7.564602938000064,50.62618204200004 L 7.564288627000053,50.62645320400003 L 7.562322345000041,50.62665535700006 L 7.561306410000043,50.62682762600008 L 7.56012312200005,50.62673448900006 L 7.558626641000046,50.62644426500003 L 7.558405038000046,50.626141465000046 L 7.558579174000045,50.62584874100003 L 7.559191449000025,50.62556716900008 L 7.560110694000059,50.62513132000004 L 7.560795309000071,50.62459944700004 L 7.561120928000037,50.62392336700003 L 7.56119271600005,50.623456944000054 L 7.560852391000026,50.62279093700005 L 7.55986028500007,50.62213535600006 L 7.559152537000045,50.62191023100007 L 7.557918507000068,50.62172572800006 L 7.556459465000046,50.621967709000046 L 7.554348585000071,50.62244518800003 L 7.553131386000075,50.62311652200003 L 7.552693766000061,50.62354659400006 L 7.55168027600007,50.625925024000026 L 7.550913005000041,50.626418717000035 L 7.549798662000057,50.62657936900007 L 7.549080114000049,50.626524998000036 L 7.547874269000033,50.626341110000055 L 7.546768438000072,50.626366877000066 L 7.545486610000069,50.626937430000055 L 7.544631117000051,50.62725773500006 L 7.542476253000075,50.62797701300008 L 7.541124980000063,50.62807748800003 L 7.539998806000028,50.62797660200005 L 7.539293343000054,50.62771539500005 L 7.538738340000066,50.62731396000004 L 7.538467941000022,50.626442558000065 L 7.538842560000035,50.62566873500003 L 7.539993448000075,50.62470769000004 L 7.540862068000024,50.624051347000034 L 7.54197206300006,50.62367474100006 L 7.543716054000072,50.62337123400005 L 7.544188273000032,50.622843025000066 L 7.543973191000021,50.62199106300005 L 7.543210864000059,50.62128718400004 L 7.54233541800005,50.62080552400005 L 7.543048156000054,50.62025195700005 L 7.543407233000039,50.61990376600005 L 7.543437316000052,50.61942802800007 L 7.543178817000069,50.61877812500006 L 7.542957711000042,50.61812917700007 L 7.542998331000035,50.61748693100003 L 7.543213853000054,50.617039764000026 L 7.543544541000074,50.61654789500005 L 7.543579134000026,50.61600079500005 L 7.54372588800004,50.615456565000045 L 7.544056560000058,50.61496469400004 L 7.544127027000059,50.61444233900005 L 7.544019591000051,50.613772476000065 L 7.543605559000071,50.61321389400007 L 7.543526493000059,50.612687710000046 L 7.543500635000044,50.61256237900005 L 7.543287646000067,50.61200796500003 L 7.542725774000075,50.61054674600007 L 7.542423933000066,50.60999103200004 L 7.542492908000042,50.60949246400003 L 7.543125609000072,50.60896067900006 L 7.543696856000054,50.60880852500003 L 7.54441311100004,50.608731556000066 L 7.544767581000031,50.60845472200003 L 7.544989057000066,50.60791240300006 L 7.545080545000076,50.60705703000008 L 7.545158507000053,50.606415739000056 L 7.546037946000069,50.605532872000026 L 7.546978756000044,50.604661546000045 L 7.548224443000038,50.60375689000006 L 7.549360419000038,50.60302051000008 L 7.549899549000031,50.60277314400008 L 7.55279779500006,50.60258601100003 L 7.553631956000061,50.601697810000076 L 7.556456132000051,50.60111248700008 L 7.556227892000038,50.60069244700003 L 7.557738805000042,50.600739961000045 L 7.558474494000052,50.60051557400004 L 7.558882464000021,50.60010274200005 L 7.558849149000025,50.599507576000065 L 7.55890849900004,50.59878870400007 L 7.558510743000056,50.59836435100004 L 7.557459890000075,50.597302023000054 L 7.556131118000053,50.596160559000054 L 7.554814297000064,50.59483028400007 L 7.553760209000075,50.59382186400006 L 7.55246599000003,50.59325754500003 L 7.551033966000034,50.59263566100003 L 7.54997150500003,50.59176206200004 L 7.549332258000049,50.59068315400003 L 7.548911061000069,50.58973588400005 L 7.547685416000036,50.58898415800007 L 7.546755808000057,50.58824899600006 L 7.545498730000077,50.587100227000064 L 7.54502945400003,50.58669200200006 L 7.545006963000048,50.58637625600005 L 7.54515286700007,50.58585770800005 L 7.544990939000058,50.585286257000064 L 7.544512675000021,50.58479675400008 L 7.543815222000035,50.58441870000007 L 7.543618259000027,50.58395440700008 L 7.543496365000067,50.58364511900004 L 7.54345067600002,50.58347285600007 L 7.543310771000051,50.58300102000004 L 7.542999149000025,50.582560802000046 L 7.541749917000061,50.58218660700004 L 7.540450477000036,50.58171205600007 L 7.539413553000031,50.581559395000056 L 7.538507130000028,50.581356044000074 L 7.537649446000046,50.58082976000003 L 7.537540801000034,50.58008857000004 L 7.538094740000076,50.57915727200003 L 7.539096017000077,50.57808436600004 L 7.539838365000037,50.57752709500005 L 7.539981455000031,50.57705350700007 L 7.539719655000056,50.57649749400008 L 7.539596670000037,50.57620618200008 L 7.539368803000059,50.57556099000004 L 7.538870062000058,50.57450362600008 L 7.537317536000046,50.57356329000004 L 7.535025642000051,50.57201861800007 L 7.533810372000062,50.571113909000076 L 7.533420748000026,50.57012235700006 L 7.533561289000033,50.56924348900003 L 7.534619368000051,50.56838820300004 L 7.535680467000077,50.56815432500008 L 7.536078109000073,50.567903397000066 L 7.536187970000071,50.567284881000035 L 7.535959055000035,50.56665766200007 L 7.536173298000051,50.56617690000007 L 7.533897560000071,50.56572220500004 L 7.531908410000028,50.56387006800003 L 7.529964568000025,50.56464850100008 L 7.526423051000052,50.56616050900004 L 7.522083653000038,50.568299495000076 L 7.519995820000076,50.56933519700004 L 7.515716539000039,50.57163316800006 L 7.508244150000053,50.57098341900007 L 7.505960123000023,50.57169139200005 L 7.500866570000028,50.572621722000065 L 7.498988737000047,50.57191553200005 L 7.497609327000021,50.571816614000056 L 7.495381451000071,50.571938730000056 L 7.494199881000043,50.57250229700003 L 7.493010197000046,50.57319171200004 L 7.491971724000052,50.57394809300007 L 7.491861182000036,50.57500781600004 L 7.488688766000053,50.575960671000075 L 7.488851286000056,50.57936885600003 L 7.488792277000073,50.580285841000034 L 7.485847890000059,50.581424681000044 L 7.482869489000052,50.58221135800005 L 7.480387699000062,50.58253368000004 L 7.474682292000068,50.582618412000045 L 7.474422256000025,50.584889916000066 L 7.472750187000031,50.58571114100005 L 7.472484043000065,50.58704796900008 L 7.472600584000077,50.588023140000075 L 7.472322836000046,50.58884501500006 L 7.472217037000064,50.589785764000055 L 7.471797366000033,50.59071828000003 L 7.471329144000038,50.59170670700007 L 7.471421161000023,50.59236672800006 L 7.472060502000033,50.592898149000064 L 7.472193677000064,50.59361643300008 L 7.471912193000037,50.594495392000056 L 7.471881822000057,50.594634144000054 L 7.471657063000066,50.59566095800005 L 7.470989136000071,50.596407621000026 L 7.469223764000049,50.59919794400008 L 7.468109849000029,50.602205311000034 L 7.467560480000031,50.603683914000044 L 7.468256832000066,50.60560230600004 L 7.465887556000041,50.60635055200004 L 7.46611481900004,50.60742814900004 L 7.468322021000063,50.60912499700004 L 7.470711522000045,50.610961804000056 L 7.469466330000046,50.61161353500006 L 7.468706003000023,50.61198981200005 L 7.467959791000055,50.61236645500003 L 7.46740585200007,50.612396938000074 L 7.466770058000066,50.61238024200003 L 7.466218905000062,50.61214963900005 L 7.46600451300003,50.61196390300006 L 7.465374306000058,50.61142504000003 L 7.464715395000042,50.61111055100008 L 7.463680404000058,50.61092125000005 L 7.462742096000056,50.61098663000007 L 7.461580021000032,50.611236691000045 L 7.460759019000022,50.61181335600003 L 7.460159599000065,50.61235596400007 L 7.459923754000044,50.61260900600007 L 7.459484426000074,50.61261738300004 L 7.457197597000061,50.61211842700004 L 7.455361804000063,50.61143189300003 L 7.454549629000041,50.611390537000034 L 7.453887407000025,50.61145284100007 L 7.453413631000046,50.611668476000034 L 7.452826818000062,50.61198619100003 L 7.452293059000056,50.61257546400003 L 7.451593971000023,50.61352959100003 L 7.451022134000027,50.61491932800004 L 7.450599186000034,50.616195926000046 L 7.450034913000025,50.61746879200007 L 7.451843973000052,50.61685915600003 L 7.453224544000022,50.61674249100008 L 7.455336781000028,50.61625786900004 L 7.456429378000053,50.61599849400005 L 7.456919825000057,50.61607445400006 L 7.457419139000024,50.61623169200004 L 7.457582353000021,50.616551178000066 L 7.457518318000041,50.616882686000054 L 7.45708221700005,50.617276437000044 L 7.457034062000048,50.61758135000008 L 7.456963002000066,50.61802073800004 L 7.456662924000057,50.618499118000045 L 7.455779548000066,50.61945741900007 L 7.455064461000063,50.62022203400005 L 7.454926819000036,50.62059662900003 L 7.455124813000054,50.621034103000056 L 7.455615473000023,50.62154232800003 L 7.455856961000052,50.62174680800007 L 7.456113251000033,50.62215880100007 L 7.456038579000051,50.62243599700008 L 7.455567629000029,50.62271175700005 L 7.455519460000062,50.62301666800005 L 7.45581923900005,50.62319567000003 L 7.456216690000076,50.62317912700007 L 7.456756544000029,50.62293219600008 L 7.458313019000059,50.622072658000036 L 7.459002352000027,50.62170358000003 L 7.459499880000067,50.62167165000005 L 7.460055786000055,50.62183036400006 L 7.462880460000065,50.62323744400004 L 7.462967235000065,50.62364496300006 L 7.462813876000041,50.62426229500005 L 7.462907077000068,50.62457092500006 L 7.463417714000059,50.62477345900004 L 7.463689388000034,50.62516782600005 L 7.463663111000074,50.62557237300007 L 7.468559928000047,50.62450327200003 L 7.471147737000024,50.62345449900005 L 7.476220562000037,50.624253776000046 L 7.48160314200004,50.62552018300005 L 7.481804708000027,50.627017514000045 L 7.481957158000057,50.62814994000007 L 7.479984257000069,50.62866571300003 L 7.478716043000077,50.63032553200003 L 7.47979431400006,50.63094806600003 L 7.478227477000075,50.63196971100007 L 7.476640621000058,50.63308086700005 L 7.475422613000035,50.633742391000055 L 7.474238746000026,50.635188252000034 L 7.475285889000077,50.635855037000056 L 7.476897123000072,50.63699583600004 L 7.47795771400007,50.63745582700005 L 7.47814999700006,50.637767033000046 L 7.478247395000039,50.63801272000006 L 7.478464862000067,50.63815348400004 L 7.478873082000064,50.63819117300005 L 7.479906996000068,50.63840730800007 L 7.480536761000053,50.63852282100004 L 7.48062836400004,50.63885840700004 L 7.480433555000047,50.63968179400007 L 7.480413224000074,50.639996445000065 L 7.480737416000068,50.64023905000005 L 7.480988984000021,50.640290648000075 L 7.481171026000027,50.64032241900003 L 7.481624583000041,50.64031625600006 L 7.482038049000039,50.64027302300008 L 7.482411630000058,50.640408851000075 L 7.48245793600006,50.64078827700007 L 7.482405485000072,50.64138124900006 L 7.482768085000032,50.64234526600006 L 7.482924019000052,50.64278158500008 L 7.483576744000061,50.64341998000003 L 7.483727576000035,50.64386959500007 L 7.484235350000063,50.64462584900008 L 7.484571775000063,50.644679652000036 L 7.484928940000032,50.64485106400008 L 7.485156829000061,50.64592862300003 L 7.485122605000072,50.64645903500008 L 7.484854756000061,50.64665916700005 L 7.484440077000045,50.64672038900005 L 7.484119727000063,50.64685611400006 L 7.48395686200007,50.64718505500008 L 7.483822275000023,50.64751473500007 L 7.483277636000025,50.64783371200008 L 7.482817041000033,50.64794776200006 L 7.482618131000038,50.648176704000036 L 7.482781628000055,50.64849615300005 L 7.483305477000044,50.64981557600004 L 7.48317087700002,50.65014525500004 L 7.48271336800002,50.650430484000026 L 7.482252165000034,50.65055352100006 L 7.481883556000071,50.65077803100007 L 7.481774118000033,50.650937267000074 L 7.481601148000038,50.65120290600004 L 7.481103520000033,50.651451062000035 L 7.480255469000042,50.65186115900008 L 7.479929456000036,50.65230290100004 L 7.479909697000039,50.65260856100008 L 7.480495305000034,50.65384856400004 L 7.480647001000023,50.654789066000035 L 7.480591408000066,50.65521085800003 L 7.48035545700003,50.655573907000075 L 7.480132480000066,50.65595530500008 L 7.479674314000022,50.656249513000034 L 7.479276771000059,50.65713964400004 L 7.47904466600005,50.65788101000004 L 7.479124089000038,50.65840538700007 L 7.479819990000067,50.659035922000044 L 7.480865818000041,50.66017087500006 L 7.481023352000022,50.66102147600003 L 7.481013291000068,50.661615555000026 L 7.481418072000054,50.66280580200004 L 7.481757557000037,50.66347204300007 L 7.481974601000047,50.66427917000004 L 7.481933357000059,50.66491746100007 L 7.481494109000039,50.66535625300003 L 7.481460992000052,50.66586868400003 L 7.481875090000074,50.66625771100007 L 7.482988911000064,50.66678206300003 L 7.48401999500004,50.667052100000035 L 7.484382551000067,50.66714260300006 L 7.485429613000065,50.66804340600004 L 7.484659707000048,50.66965326600007 L 7.478343108000047,50.67047895300004 L 7.469828461000077,50.67241740700007 L 7.468282803000022,50.67221480100005 L 7.466553607000037,50.67549239500005 L 7.467047472000047,50.678143885000054 L 7.464913064000029,50.679582767000056 L 7.463889693000056,50.682896861000074 L 7.465034138000021,50.684043547000044 L 7.463789149000036,50.68553276400007 L 7.461907336000024,50.684825971000066 L 7.457654815000069,50.68830731600008 L 7.454313809000041,50.691497335000065 L 7.452348235000045,50.69294045600003 L 7.451515278000045,50.693972134000035 L 7.443079913000076,50.70457401200008 L 7.442447122000033,50.705604022000045 L 7.441571847000034,50.707028653000066 L 7.441269896000051,50.70858136900006 L 7.441053514000032,50.709743583000034 L 7.440989423000076,50.71147432200007 L 7.443087184000035,50.71182352300008 L 7.444870875000049,50.713824782000074 L 7.444976229000076,50.71611492300008 L 7.448619768000071,50.71744476100008 L 7.448939175000021,50.715814210000076 L 7.453890401000024,50.715800528000045 L 7.456464855000036,50.71808355200005 L 7.461333345000071,50.718624556000066 L 7.464335431000052,50.71855137400007 L 7.464948401000072,50.71774727700006 L 7.467456897000034,50.71795597900007 L 7.468277760000035,50.71849213100006 L 7.47006538200003,50.71843176100003 L 7.478333518000056,50.71815217500006 L 7.479816338000035,50.718253910000044 L 7.482339370000034,50.71981920300004 L 7.484908315000041,50.72242996300008 L 7.492971993000026,50.723657271000036 L 7.491564250000067,50.725907997000036 L 7.493886279000037,50.72549478800005 L 7.496502171000031,50.72649189400005 L 7.498162057000059,50.72655652100008 L 7.501940671000057,50.730013316000054 L 7.504426421000062,50.72996959200003 L 7.50744196200003,50.72940821100008 L 7.507944530000032,50.73042075800004 L 7.516172383000026,50.72911123400007 L 7.520123911000042,50.72899687900008 L 7.518308593000029,50.73125655300004 L 7.519157498000027,50.73390672900007 L 7.519515501000058,50.73563343300003 L 7.519387884000025,50.737406590000035 L 7.521918841000058,50.73609553700004 L 7.521534043000031,50.73365542100004 L 7.529670261000035,50.738181602000054 L 7.53459805600005,50.74033644600007 L 7.538970772000027,50.742136542000026 L 7.546520717000021,50.74387319900006 L 7.550263242000028,50.74596989600008 L 7.551900377000038,50.746343144000036 L 7.557299575000059,50.74347990600006 L 7.558370017000072,50.74300476800005 L 7.560776463000025,50.743195281000055 L 7.563058300000023,50.74337587900004 L 7.566156049000028,50.74173448100004 L 7.574092366000059,50.74032340400004 L 7.580246127000066,50.73813749000004 L 7.58331131500006,50.73790856800008 L 7.58492386100005,50.73844442400008 L 7.58626737700007,50.73919860500007 L 7.587282254000058,50.73998952800008 L 7.588727565000056,50.740250984000056 L 7.589335125000048,50.74029326900006 L 7.590126878000035,50.740340177000064 L 7.591521559000057,50.740276160000064 L 7.592374858000028,50.74054539200006 L 7.592879805000052,50.74079651000005 L 7.593107942000074,50.74100019600007 L 7.59378500400004,50.74175570700004 L 7.59382959900006,50.743089507000036 L 7.593653884000048,50.74385949400005 L 7.593298916000037,50.745228291000046 L 7.593082670000058,50.74642047800006 L 7.593106843000044,50.74694335100003 L 7.593222522000076,50.74781970200007 L 7.594061887000066,50.74847108400007 L 7.594630739000024,50.74890856900004 L 7.595066625000072,50.74965787700006 L 7.595282828000052,50.750221313000054 L 7.59529717700002,50.750969326000074 L 7.594710635000069,50.75195412800008 L 7.593521944000031,50.752806761000045 L 7.592510724000022,50.75377189400007 L 7.591641342000059,50.75496569400008 L 7.591505262000055,50.75578169800008 L 7.591616718000068,50.756199767000055 L 7.592112824000026,50.75719266300007 L 7.593089350000071,50.75837876300005 L 7.594437495000022,50.759069915000055 L 7.595876887000031,50.75966428600003 L 7.597436811000023,50.75991948500007 L 7.598454944000025,50.76044023700007 L 7.599026407000053,50.76106685800005 L 7.598971572000039,50.761947933000044 L 7.598660273000064,50.76261548200006 L 7.598510862000069,50.76364726700007 L 7.598749979000047,50.764139501000045 L 7.599051587000076,50.764768368000034 L 7.599471091000055,50.76532814800004 L 7.599850871000058,50.76584190900007 L 7.601042634000066,50.76631295300007 L 7.602439194000056,50.76623082200007 L 7.603048575000059,50.76602094400005 L 7.603774156000043,50.76576894400006 L 7.604911614000059,50.76574334000003 L 7.60553279800007,50.76602899400007 L 7.606015016000072,50.76626615100008 L 7.607016085000055,50.767065537000065 L 7.608200698000076,50.76765338400003 L 7.609201598000027,50.76822763300004 L 7.610683508000022,50.76837264300008 L 7.611721785000043,50.76834449800003 L 7.612656668000056,50.768151687000056 L 7.612958287000026,50.768096170000035 L 7.61413777000007,50.76808052500007 L 7.614350983000065,50.76807683000004 L 7.615298331000076,50.76837055000004 L 7.615716414000076,50.768498014000045 L 7.61610138900005,50.76939003500007 L 7.618168809000053,50.77017082700007 L 7.621773735000033,50.76935374100003 L 7.625810901000023,50.76968265000005 L 7.627751793000073,50.76964500200006 L 7.629198228000064,50.76885175700005 L 7.636001128000032,50.769514342000036 L 7.640412942000069,50.76911904100007 L 7.644573731000037,50.76954609200004 L 7.645393591000072,50.77088137700008 L 7.653817979000053,50.76835859600004 L 7.655450743000074,50.767869543000074 L 7.656021703000022,50.768855572000064 L 7.654814123000051,50.76976163000006 L 7.65690870100002,50.76964195000005 L 7.657843817000071,50.76990800300007 L 7.658681341000033,50.77014464200005 L 7.659470790000057,50.77070425100004 L 7.660436908000065,50.77139424200004 L 7.661569852000071,50.772376448000045 L 7.662161360000027,50.773156295000035 L 7.662305666000066,50.77405125000007 L 7.661681544000032,50.77497241300006 L 7.660698455000045,50.77619092400005 L 7.660588786000062,50.77635931800006 L 7.65995637900005,50.77741533400007 L 7.659211453000069,50.77891880300007 L 7.658866915000033,50.78014394500008 L 7.658743525000034,50.78053710900008 L 7.658715123000036,50.782400299000074 L 7.658550527000045,50.783701886000074 L 7.658936374000064,50.78482787200005 L 7.660013497000023,50.78556560200008 L 7.661945528000047,50.78602711000008 L 7.664161303000071,50.78626141600006 L 7.66629583100007,50.78643066400008 L 7.668455511000047,50.78618629200008 L 7.669881493000048,50.78562683200005 L 7.67108765100005,50.78424260700007 L 7.67251793500003,50.78220653100004 L 7.673930103000032,50.78093535600004 L 7.675944870000023,50.779327684000066 L 7.676436333000026,50.779888913000036 L 7.676955625000062,50.78045982000003 L 7.677830079000046,50.78173269500007 L 7.678268725000066,50.78325258000007 L 7.67865185200003,50.78458001200005 L 7.678638479000028,50.786911771000064 L 7.679026763000024,50.78950305400008 L 7.679154416000074,50.79035491900004 L 7.679764058000046,50.79225162100005 L 7.680972186000076,50.793649634000076 L 7.682116823000058,50.794693590000065 L 7.682222418000038,50.79536852800004 L 7.681810585000051,50.79677309200008 L 7.680610128000069,50.797229911000045 L 7.679882644000031,50.79806987200004 L 7.680062923000037,50.79881755200006 L 7.678806975000043,50.79944453500008 L 7.678590485000029,50.80003962300003 L 7.677095476000034,50.801632777000066 L 7.675570865000054,50.802224600000045 L 7.675047645000063,50.80266927000008 L 7.676187811000034,50.80469822200007 L 7.675763363000044,50.805745656000056 L 7.674991344000034,50.80653314500006 L 7.678743606000069,50.80910062400005 L 7.679510540000024,50.81004670500005 L 7.67697604600005,50.81153376800006 L 7.676356372000043,50.81233541300003 L 7.674410014000046,50.812179470000046 L 7.672270096000034,50.81200716600006 L 7.669897680000076,50.81243531200005 L 7.668720928000027,50.81323566200007 L 7.667759009000065,50.81421277700008 L 7.664109174000032,50.81535285900003 L 7.662524183000073,50.81710594700007 L 7.662890625000045,50.818789698000046 L 7.661003632000075,50.82036430200003 L 7.66641321700007,50.820755261000045 L 7.667500492000045,50.81921188900003 L 7.668333915000062,50.818803407000075 L 7.669209913000032,50.81862228300008 L 7.670067104000054,50.818750402000035 L 7.670529983000051,50.81917860600004 L 7.670928562000029,50.81931328600007 L 7.671228265000025,50.81950051600006 L 7.672297651000065,50.81972670400006 L 7.673087895000037,50.81947919800007 L 7.673647575000075,50.81924268600005 L 7.674628277000068,50.81919510200004 L 7.675551221000035,50.81947963400006 L 7.676544034000074,50.81965859300004 L 7.677826656000036,50.82009003600007 L 7.67909200500003,50.82080692800008 L 7.681714915000043,50.821994774000075 L 7.685444747000076,50.82237344600003 L 7.687781406000056,50.822647397000026 L 7.691630063000048,50.82351914800006 L 7.699427107000076,50.825011449000044 L 7.702828695000051,50.82759300200007 L 7.705379758000049,50.829661463000036 L 7.706502580000063,50.83057179800005 L 7.706503993000069,50.83102203300007 L 7.706390791000047,50.833855578000055 L 7.709483049000028,50.83445220500005 L 7.713613873000043,50.83361503900005 L 7.713982722000026,50.83766668700008 L 7.714166062000061,50.839350265000064 L 7.714285525000037,50.84044718400003 L 7.720083683000041,50.84257490200008 L 7.72168851400005,50.84316373400003 L 7.723869450000052,50.84474658400006 L 7.725301404000049,50.846117098000036 L 7.726735169000051,50.847489249000034 L 7.729342105000057,50.850522788000035 L 7.734607788000062,50.84807221300008 L 7.736914974000058,50.84724094000006 L 7.741275292000068,50.847071088000064 L 7.746740596000052,50.846857958000044 L 7.753877688000046,50.844487935000075 L 7.758043380000061,50.84348242300007 L 7.761030019000032,50.844503849000034 L 7.76218749700007,50.84513440600006 L 7.760698520000062,50.84626977000005 L 7.760335232000045,50.848575167000035 L 7.75482370800006,50.84918328100008 L 7.753434777000052,50.85054602000008 L 7.753187096000033,50.85136851100003 L 7.753860652000071,50.85200570600006 L 7.757100601000047,50.85362391500007 L 7.759091178000062,50.854055791000064 L 7.760673004000068,50.854035948000046 L 7.762060728000051,50.855012051000074 L 7.765973969000072,50.856819477000045 L 7.764032753000038,50.857518275000075 L 7.760159787000021,50.86169852100005 L 7.757446095000034,50.862120667000056 L 7.755478722000021,50.86315464300003 L 7.754143198000065,50.86529298600004 L 7.748309881000068,50.86721679200008 L 7.748719402000063,50.86830418200003 L 7.751875553000048,50.87146631300004 L 7.752831019000041,50.87517665000007 L 7.757751263000046,50.87793849500008 L 7.758767440000042,50.87977223300004 L 7.753021566000029,50.88837918200005 L 7.753363964000073,50.891016379000064 L 7.75354334900004,50.89231716200004 L 7.755266200000051,50.89327625300007 L 7.756534301000045,50.893981480000036 L 7.760427260000029,50.900393946000065 L 7.758795373000055,50.90271444800004 L 7.752492553000025,50.904555462000076 L 7.750604339000063,50.905663297000046 L 7.745064031000027,50.905198976000065 L 7.746872128000064,50.91239199800003 L 7.74557264300006,50.91287082400004 L 7.742811213000039,50.91388825800004 L 7.735794558000066,50.915720488000034 L 7.735459232000039,50.917765390000056 L 7.74236318100003,50.919757117000074 L 7.748497539000027,50.91911911700004 L 7.750399955000034,50.91994744900006 L 7.754488958000024,50.92161972900004 L 7.755787497000028,50.920858053000075 L 7.757281421000073,50.92016399900007 L 7.761276242000065,50.92222997600004 L 7.763598437000041,50.92295092200004 L 7.764203705000057,50.92331630800004 L 7.767616358000055,50.925359352000044 L 7.776218914000026,50.929036574000065 L 7.78098912400003,50.93439813400005 L 7.785898055000075,50.93991411500008 L 7.792810759000076,50.942335091000075 L 7.803012380000041,50.94089739800006 L 7.80414434000005,50.940545489000044 L 7.807190954000021,50.93982516900007 L 7.808788402000062,50.938804452000056 z\" /></g></g></svg>"
      ],
      "text/plain": [
       "<shapely.geometry.multipolygon.MultiPolygon at 0x1a9547878b0>"
      ]
     },
     "execution_count": 130,
     "metadata": {},
     "output_type": "execute_result"
    }
   ],
   "source": [
    "landkreis_merged_df[landkreis_merged_df['Landkreis'] == missing_landkreise[0]]['geometry'].unique()[0]"
   ]
  },
  {
   "cell_type": "code",
   "execution_count": 121,
   "id": "3e0aff83",
   "metadata": {},
   "outputs": [],
   "source": [
    "missing_landkreise = [landkreis for landkreis in landkreis_merged_df['Landkreis'].unique() if landkreis not in sub_df['Landkreis'].unique()]"
   ]
  },
  {
   "cell_type": "code",
   "execution_count": 122,
   "id": "955babfb",
   "metadata": {},
   "outputs": [
    {
     "data": {
      "text/plain": [
       "['LK Altenkirchen',\n",
       " 'LK Anhalt-Bitterfeld',\n",
       " 'LK Bautzen',\n",
       " 'LK Bayreuth',\n",
       " 'LK Biberach',\n",
       " 'LK Burgenlandkreis',\n",
       " 'LK Cochem-Zell',\n",
       " 'LK Darmstadt-Dieburg',\n",
       " 'LK Diepholz',\n",
       " 'LK Forchheim',\n",
       " 'LK Hameln-Pyrmont',\n",
       " 'LK Haßberge',\n",
       " 'LK Hildesheim',\n",
       " 'LK Kronach',\n",
       " 'LK Leer',\n",
       " 'LK Lüchow-Dannenberg',\n",
       " 'LK Lüneburg',\n",
       " 'LK Mittelsachsen',\n",
       " 'LK Neumarkt i.d.OPf.',\n",
       " 'LK Osnabrück',\n",
       " 'LK Rottweil',\n",
       " 'LK Sächsische Schweiz-Osterzgebirge',\n",
       " 'LK Uelzen',\n",
       " 'LK Verden',\n",
       " 'LK Waldeck-Frankenberg',\n",
       " 'LK Wesermarsch',\n",
       " 'LK Wittmund',\n",
       " 'SK Berlin Spandau',\n",
       " 'SK Bremerhaven',\n",
       " 'SK Darmstadt',\n",
       " 'SK Hamburg',\n",
       " 'SK Ingolstadt',\n",
       " 'SK Landau i.d.Pfalz',\n",
       " 'SK Neumünster',\n",
       " 'SK Osnabrück',\n",
       " 'SK Pirmasens',\n",
       " 'SK Salzgitter',\n",
       " 'SK Weiden i.d.OPf.',\n",
       " 'SK Weimar',\n",
       " 'SK Wilhelmshaven',\n",
       " 'SK Wolfsburg',\n",
       " 'SK Zweibrücken']"
      ]
     },
     "execution_count": 122,
     "metadata": {},
     "output_type": "execute_result"
    }
   ],
   "source": [
    "missing_landkreise"
   ]
  },
  {
   "cell_type": "code",
   "execution_count": null,
   "id": "77e3d667",
   "metadata": {},
   "outputs": [],
   "source": []
  },
  {
   "cell_type": "code",
   "execution_count": null,
   "id": "1cfcbe2b",
   "metadata": {},
   "outputs": [],
   "source": []
  },
  {
   "cell_type": "code",
   "execution_count": 16,
   "id": "fe96ace4",
   "metadata": {},
   "outputs": [
    {
     "data": {
      "text/html": [
       "<div>\n",
       "<style scoped>\n",
       "    .dataframe tbody tr th:only-of-type {\n",
       "        vertical-align: middle;\n",
       "    }\n",
       "\n",
       "    .dataframe tbody tr th {\n",
       "        vertical-align: top;\n",
       "    }\n",
       "\n",
       "    .dataframe thead th {\n",
       "        text-align: right;\n",
       "    }\n",
       "</style>\n",
       "<table border=\"1\" class=\"dataframe\">\n",
       "  <thead>\n",
       "    <tr style=\"text-align: right;\">\n",
       "      <th></th>\n",
       "      <th>OBJECTID</th>\n",
       "      <th>ADE</th>\n",
       "      <th>GF</th>\n",
       "      <th>BSG</th>\n",
       "      <th>RS</th>\n",
       "      <th>AGS</th>\n",
       "      <th>SDV_RS</th>\n",
       "      <th>GEN</th>\n",
       "      <th>BEZ</th>\n",
       "      <th>IBZ</th>\n",
       "      <th>...</th>\n",
       "      <th>cases7_bl_per_100k</th>\n",
       "      <th>cases7_bl</th>\n",
       "      <th>death7_bl</th>\n",
       "      <th>cases7_lk</th>\n",
       "      <th>death7_lk</th>\n",
       "      <th>cases7_per_100k_txt</th>\n",
       "      <th>AdmUnitId</th>\n",
       "      <th>SHAPE_Length</th>\n",
       "      <th>SHAPE_Area</th>\n",
       "      <th>geometry</th>\n",
       "    </tr>\n",
       "  </thead>\n",
       "  <tbody>\n",
       "    <tr>\n",
       "      <th>409</th>\n",
       "      <td>413</td>\n",
       "      <td>NaN</td>\n",
       "      <td>NaN</td>\n",
       "      <td>NaN</td>\n",
       "      <td>11001</td>\n",
       "      <td>None</td>\n",
       "      <td>None</td>\n",
       "      <td>Berlin Mitte</td>\n",
       "      <td>Bezirk</td>\n",
       "      <td>NaN</td>\n",
       "      <td>...</td>\n",
       "      <td>119.880387</td>\n",
       "      <td>4399</td>\n",
       "      <td>4</td>\n",
       "      <td>515</td>\n",
       "      <td>0</td>\n",
       "      <td>137,2</td>\n",
       "      <td>11001</td>\n",
       "      <td>0.438594</td>\n",
       "      <td>0.005218</td>\n",
       "      <td>MULTIPOLYGON (((13.37721 52.56091, 13.37727 52...</td>\n",
       "    </tr>\n",
       "  </tbody>\n",
       "</table>\n",
       "<p>1 rows × 48 columns</p>\n",
       "</div>"
      ],
      "text/plain": [
       "     OBJECTID  ADE  GF  BSG     RS   AGS SDV_RS           GEN     BEZ  IBZ  \\\n",
       "409       413  NaN NaN  NaN  11001  None   None  Berlin Mitte  Bezirk  NaN   \n",
       "\n",
       "     ... cases7_bl_per_100k cases7_bl death7_bl cases7_lk death7_lk  \\\n",
       "409  ...         119.880387      4399         4       515         0   \n",
       "\n",
       "    cases7_per_100k_txt AdmUnitId SHAPE_Length SHAPE_Area  \\\n",
       "409               137,2     11001     0.438594   0.005218   \n",
       "\n",
       "                                              geometry  \n",
       "409  MULTIPOLYGON (((13.37721 52.56091, 13.37727 52...  \n",
       "\n",
       "[1 rows x 48 columns]"
      ]
     },
     "execution_count": 16,
     "metadata": {},
     "output_type": "execute_result"
    }
   ],
   "source": [
    "landkreis_merged[landkreis_data['county'] == 'SK Berlin Mitte']"
   ]
  },
  {
   "cell_type": "code",
   "execution_count": 71,
   "id": "71950b0d",
   "metadata": {},
   "outputs": [
    {
     "data": {
      "text/plain": [
       "4389"
      ]
     },
     "execution_count": 71,
     "metadata": {},
     "output_type": "execute_result"
    }
   ],
   "source": [
    "corona_data[(corona_data['Meldedatum'] > '2021-04-05') & \n",
    "            (corona_data['Meldedatum'] <= '2021-04-12') & \n",
    "            (corona_data['Bundesland'] == 'Berlin')]['AnzahlFall'].sum()"
   ]
  },
  {
   "cell_type": "code",
   "execution_count": 72,
   "id": "46439f99",
   "metadata": {},
   "outputs": [
    {
     "data": {
      "text/plain": [
       "98"
      ]
     },
     "execution_count": 72,
     "metadata": {},
     "output_type": "execute_result"
    }
   ],
   "source": [
    "corona_data[(corona_data['Meldedatum'] == '2021-04-11') & (corona_data['Bundesland'] == 'Berlin')]['AnzahlFall'].sum()"
   ]
  },
  {
   "cell_type": "code",
   "execution_count": 73,
   "id": "97642fe4",
   "metadata": {},
   "outputs": [
    {
     "data": {
      "text/plain": [
       "384"
      ]
     },
     "execution_count": 73,
     "metadata": {},
     "output_type": "execute_result"
    }
   ],
   "source": [
    "corona_data[(corona_data['Meldedatum'] == '2021-04-12') & (corona_data['Bundesland'] == 'Berlin')]['AnzahlFall'].sum()"
   ]
  },
  {
   "cell_type": "code",
   "execution_count": 74,
   "id": "21219616",
   "metadata": {},
   "outputs": [
    {
     "data": {
      "text/plain": [
       "153981"
      ]
     },
     "execution_count": 74,
     "metadata": {},
     "output_type": "execute_result"
    }
   ],
   "source": [
    "corona_data[(corona_data['Bundesland'] == 'Berlin')]['AnzahlFall'].sum()"
   ]
  },
  {
   "cell_type": "code",
   "execution_count": 75,
   "id": "abf80a43",
   "metadata": {},
   "outputs": [
    {
     "data": {
      "text/plain": [
       "3126"
      ]
     },
     "execution_count": 75,
     "metadata": {},
     "output_type": "execute_result"
    }
   ],
   "source": [
    "corona_data[(corona_data['Bundesland'] == 'Berlin')]['AnzahlTodesfall'].sum()"
   ]
  },
  {
   "cell_type": "markdown",
   "id": "9ca02519",
   "metadata": {},
   "source": [
    "1. Aggregate by day on Landkreis level"
   ]
  },
  {
   "cell_type": "code",
   "execution_count": 78,
   "id": "9c311b89",
   "metadata": {},
   "outputs": [],
   "source": [
    "grouped_df = corona_data.groupby(['Landkreis', 'MeldedatumISO'])[['AnzahlFall']].agg('sum')\n",
    "grouped_df = grouped_df.stack().to_frame().reset_index()"
   ]
  },
  {
   "cell_type": "code",
   "execution_count": 79,
   "id": "17c83183",
   "metadata": {},
   "outputs": [
    {
     "data": {
      "text/html": [
       "<div>\n",
       "<style scoped>\n",
       "    .dataframe tbody tr th:only-of-type {\n",
       "        vertical-align: middle;\n",
       "    }\n",
       "\n",
       "    .dataframe tbody tr th {\n",
       "        vertical-align: top;\n",
       "    }\n",
       "\n",
       "    .dataframe thead th {\n",
       "        text-align: right;\n",
       "    }\n",
       "</style>\n",
       "<table border=\"1\" class=\"dataframe\">\n",
       "  <thead>\n",
       "    <tr style=\"text-align: right;\">\n",
       "      <th></th>\n",
       "      <th>Landkreis</th>\n",
       "      <th>MeldedatumISO</th>\n",
       "      <th>level_2</th>\n",
       "      <th>0</th>\n",
       "    </tr>\n",
       "  </thead>\n",
       "  <tbody>\n",
       "    <tr>\n",
       "      <th>0</th>\n",
       "      <td>LK Ahrweiler</td>\n",
       "      <td>2020-03-12</td>\n",
       "      <td>AnzahlFall</td>\n",
       "      <td>6</td>\n",
       "    </tr>\n",
       "    <tr>\n",
       "      <th>1</th>\n",
       "      <td>LK Ahrweiler</td>\n",
       "      <td>2020-03-13</td>\n",
       "      <td>AnzahlFall</td>\n",
       "      <td>3</td>\n",
       "    </tr>\n",
       "    <tr>\n",
       "      <th>2</th>\n",
       "      <td>LK Ahrweiler</td>\n",
       "      <td>2020-03-14</td>\n",
       "      <td>AnzahlFall</td>\n",
       "      <td>1</td>\n",
       "    </tr>\n",
       "    <tr>\n",
       "      <th>3</th>\n",
       "      <td>LK Ahrweiler</td>\n",
       "      <td>2020-03-16</td>\n",
       "      <td>AnzahlFall</td>\n",
       "      <td>4</td>\n",
       "    </tr>\n",
       "    <tr>\n",
       "      <th>4</th>\n",
       "      <td>LK Ahrweiler</td>\n",
       "      <td>2020-03-17</td>\n",
       "      <td>AnzahlFall</td>\n",
       "      <td>6</td>\n",
       "    </tr>\n",
       "  </tbody>\n",
       "</table>\n",
       "</div>"
      ],
      "text/plain": [
       "      Landkreis MeldedatumISO     level_2  0\n",
       "0  LK Ahrweiler    2020-03-12  AnzahlFall  6\n",
       "1  LK Ahrweiler    2020-03-13  AnzahlFall  3\n",
       "2  LK Ahrweiler    2020-03-14  AnzahlFall  1\n",
       "3  LK Ahrweiler    2020-03-16  AnzahlFall  4\n",
       "4  LK Ahrweiler    2020-03-17  AnzahlFall  6"
      ]
     },
     "execution_count": 79,
     "metadata": {},
     "output_type": "execute_result"
    }
   ],
   "source": [
    "grouped_df.head()"
   ]
  },
  {
   "cell_type": "code",
   "execution_count": 98,
   "id": "25c6f66a",
   "metadata": {},
   "outputs": [],
   "source": [
    "# grouped_df[(grouped_df['Landkreis'] == 'SK Berlin Reinickendorf') & (grouped_df['MeldedatumISO'] == '2021-04-12')]\n",
    "grouped_df.columns = ['Landkreis', 'MeldedatumISO', 'Indicator', 'Anzahl']"
   ]
  },
  {
   "cell_type": "code",
   "execution_count": 101,
   "id": "ee850000",
   "metadata": {},
   "outputs": [
    {
     "data": {
      "text/html": [
       "<div>\n",
       "<style scoped>\n",
       "    .dataframe tbody tr th:only-of-type {\n",
       "        vertical-align: middle;\n",
       "    }\n",
       "\n",
       "    .dataframe tbody tr th {\n",
       "        vertical-align: top;\n",
       "    }\n",
       "\n",
       "    .dataframe thead th {\n",
       "        text-align: right;\n",
       "    }\n",
       "</style>\n",
       "<table border=\"1\" class=\"dataframe\">\n",
       "  <thead>\n",
       "    <tr style=\"text-align: right;\">\n",
       "      <th></th>\n",
       "      <th>Landkreis</th>\n",
       "      <th>MeldedatumISO</th>\n",
       "      <th>Indicator</th>\n",
       "      <th>Anzahl</th>\n",
       "    </tr>\n",
       "  </thead>\n",
       "  <tbody>\n",
       "    <tr>\n",
       "      <th>0</th>\n",
       "      <td>LK Ahrweiler</td>\n",
       "      <td>2020-03-12</td>\n",
       "      <td>AnzahlFall</td>\n",
       "      <td>6</td>\n",
       "    </tr>\n",
       "    <tr>\n",
       "      <th>1</th>\n",
       "      <td>LK Ahrweiler</td>\n",
       "      <td>2020-03-13</td>\n",
       "      <td>AnzahlFall</td>\n",
       "      <td>3</td>\n",
       "    </tr>\n",
       "    <tr>\n",
       "      <th>2</th>\n",
       "      <td>LK Ahrweiler</td>\n",
       "      <td>2020-03-14</td>\n",
       "      <td>AnzahlFall</td>\n",
       "      <td>1</td>\n",
       "    </tr>\n",
       "    <tr>\n",
       "      <th>3</th>\n",
       "      <td>LK Ahrweiler</td>\n",
       "      <td>2020-03-16</td>\n",
       "      <td>AnzahlFall</td>\n",
       "      <td>4</td>\n",
       "    </tr>\n",
       "    <tr>\n",
       "      <th>4</th>\n",
       "      <td>LK Ahrweiler</td>\n",
       "      <td>2020-03-17</td>\n",
       "      <td>AnzahlFall</td>\n",
       "      <td>6</td>\n",
       "    </tr>\n",
       "    <tr>\n",
       "      <th>...</th>\n",
       "      <td>...</td>\n",
       "      <td>...</td>\n",
       "      <td>...</td>\n",
       "      <td>...</td>\n",
       "    </tr>\n",
       "    <tr>\n",
       "      <th>122101</th>\n",
       "      <td>StadtRegion Aachen</td>\n",
       "      <td>2021-04-08</td>\n",
       "      <td>AnzahlFall</td>\n",
       "      <td>102</td>\n",
       "    </tr>\n",
       "    <tr>\n",
       "      <th>122102</th>\n",
       "      <td>StadtRegion Aachen</td>\n",
       "      <td>2021-04-09</td>\n",
       "      <td>AnzahlFall</td>\n",
       "      <td>174</td>\n",
       "    </tr>\n",
       "    <tr>\n",
       "      <th>122103</th>\n",
       "      <td>StadtRegion Aachen</td>\n",
       "      <td>2021-04-10</td>\n",
       "      <td>AnzahlFall</td>\n",
       "      <td>70</td>\n",
       "    </tr>\n",
       "    <tr>\n",
       "      <th>122104</th>\n",
       "      <td>StadtRegion Aachen</td>\n",
       "      <td>2021-04-11</td>\n",
       "      <td>AnzahlFall</td>\n",
       "      <td>17</td>\n",
       "    </tr>\n",
       "    <tr>\n",
       "      <th>122105</th>\n",
       "      <td>StadtRegion Aachen</td>\n",
       "      <td>2021-04-12</td>\n",
       "      <td>AnzahlFall</td>\n",
       "      <td>3</td>\n",
       "    </tr>\n",
       "  </tbody>\n",
       "</table>\n",
       "<p>122106 rows × 4 columns</p>\n",
       "</div>"
      ],
      "text/plain": [
       "                 Landkreis MeldedatumISO   Indicator  Anzahl\n",
       "0             LK Ahrweiler    2020-03-12  AnzahlFall       6\n",
       "1             LK Ahrweiler    2020-03-13  AnzahlFall       3\n",
       "2             LK Ahrweiler    2020-03-14  AnzahlFall       1\n",
       "3             LK Ahrweiler    2020-03-16  AnzahlFall       4\n",
       "4             LK Ahrweiler    2020-03-17  AnzahlFall       6\n",
       "...                    ...           ...         ...     ...\n",
       "122101  StadtRegion Aachen    2021-04-08  AnzahlFall     102\n",
       "122102  StadtRegion Aachen    2021-04-09  AnzahlFall     174\n",
       "122103  StadtRegion Aachen    2021-04-10  AnzahlFall      70\n",
       "122104  StadtRegion Aachen    2021-04-11  AnzahlFall      17\n",
       "122105  StadtRegion Aachen    2021-04-12  AnzahlFall       3\n",
       "\n",
       "[122106 rows x 4 columns]"
      ]
     },
     "execution_count": 101,
     "metadata": {},
     "output_type": "execute_result"
    }
   ],
   "source": [
    "grouped_df"
   ]
  },
  {
   "cell_type": "code",
   "execution_count": 88,
   "id": "8035b9ac",
   "metadata": {},
   "outputs": [
    {
     "data": {
      "text/plain": [
       "45"
      ]
     },
     "execution_count": 88,
     "metadata": {},
     "output_type": "execute_result"
    }
   ],
   "source": [
    "grouped_df[(grouped_df['Landkreis'] == 'SK Berlin Mitte') & (grouped_df['MeldedatumISO'] == '2021-04-12')]['Anzahl'].sum()"
   ]
  },
  {
   "cell_type": "code",
   "execution_count": 89,
   "id": "70cd8e63",
   "metadata": {},
   "outputs": [
    {
     "data": {
      "text/plain": [
       "0"
      ]
     },
     "execution_count": 89,
     "metadata": {},
     "output_type": "execute_result"
    }
   ],
   "source": [
    "grouped_df[(grouped_df['Landkreis'] == 'SK Berlin Mitte') & (grouped_df['MeldedatumISO'] == '2021-04-11')]['Anzahl'].sum()"
   ]
  },
  {
   "cell_type": "code",
   "execution_count": 90,
   "id": "ebeb00e0",
   "metadata": {},
   "outputs": [
    {
     "data": {
      "text/plain": [
       "0"
      ]
     },
     "execution_count": 90,
     "metadata": {},
     "output_type": "execute_result"
    }
   ],
   "source": [
    "grouped_df[(grouped_df['Landkreis'] == 'SK Berlin Mitte') & (grouped_df['MeldedatumISO'] == '2021-04-10')]['Anzahl'].sum()"
   ]
  },
  {
   "cell_type": "code",
   "execution_count": 91,
   "id": "e1b96f26",
   "metadata": {},
   "outputs": [
    {
     "data": {
      "text/plain": [
       "119"
      ]
     },
     "execution_count": 91,
     "metadata": {},
     "output_type": "execute_result"
    }
   ],
   "source": [
    "grouped_df[(grouped_df['Landkreis'] == 'SK Berlin Mitte') & (grouped_df['MeldedatumISO'] == '2021-04-09')]['Anzahl'].sum()"
   ]
  },
  {
   "cell_type": "code",
   "execution_count": 92,
   "id": "b8789c70",
   "metadata": {},
   "outputs": [
    {
     "data": {
      "text/plain": [
       "166"
      ]
     },
     "execution_count": 92,
     "metadata": {},
     "output_type": "execute_result"
    }
   ],
   "source": [
    "grouped_df[(grouped_df['Landkreis'] == 'SK Berlin Mitte') & (grouped_df['MeldedatumISO'] == '2021-04-08')]['Anzahl'].sum()"
   ]
  },
  {
   "cell_type": "code",
   "execution_count": 93,
   "id": "377e75d6",
   "metadata": {},
   "outputs": [
    {
     "data": {
      "text/plain": [
       "67"
      ]
     },
     "execution_count": 93,
     "metadata": {},
     "output_type": "execute_result"
    }
   ],
   "source": [
    "grouped_df[(grouped_df['Landkreis'] == 'SK Berlin Mitte') & (grouped_df['MeldedatumISO'] == '2021-04-07')]['Anzahl'].sum()"
   ]
  },
  {
   "cell_type": "code",
   "execution_count": 94,
   "id": "3546f133",
   "metadata": {},
   "outputs": [
    {
     "data": {
      "text/plain": [
       "115"
      ]
     },
     "execution_count": 94,
     "metadata": {},
     "output_type": "execute_result"
    }
   ],
   "source": [
    "grouped_df[(grouped_df['Landkreis'] == 'SK Berlin Mitte') & (grouped_df['MeldedatumISO'] == '2021-04-06')]['Anzahl'].sum()"
   ]
  },
  {
   "cell_type": "code",
   "execution_count": 97,
   "id": "99aee705",
   "metadata": {},
   "outputs": [
    {
     "data": {
      "text/plain": [
       "512"
      ]
     },
     "execution_count": 97,
     "metadata": {},
     "output_type": "execute_result"
    }
   ],
   "source": [
    "45 + 0 + 0 + 119 + 166 + 67 + 115"
   ]
  },
  {
   "cell_type": "code",
   "execution_count": 46,
   "id": "d1ac3011",
   "metadata": {},
   "outputs": [
    {
     "data": {
      "text/html": [
       "<div>\n",
       "<style scoped>\n",
       "    .dataframe tbody tr th:only-of-type {\n",
       "        vertical-align: middle;\n",
       "    }\n",
       "\n",
       "    .dataframe tbody tr th {\n",
       "        vertical-align: top;\n",
       "    }\n",
       "\n",
       "    .dataframe thead th {\n",
       "        text-align: right;\n",
       "    }\n",
       "</style>\n",
       "<table border=\"1\" class=\"dataframe\">\n",
       "  <thead>\n",
       "    <tr style=\"text-align: right;\">\n",
       "      <th></th>\n",
       "      <th>ObjectId</th>\n",
       "      <th>IdBundesland</th>\n",
       "      <th>Bundesland</th>\n",
       "      <th>Landkreis</th>\n",
       "      <th>Altersgruppe</th>\n",
       "      <th>Geschlecht</th>\n",
       "      <th>AnzahlFall</th>\n",
       "      <th>AnzahlTodesfall</th>\n",
       "      <th>Meldedatum</th>\n",
       "      <th>IdLandkreis</th>\n",
       "      <th>Datenstand</th>\n",
       "      <th>NeuerFall</th>\n",
       "      <th>NeuerTodesfall</th>\n",
       "      <th>Refdatum</th>\n",
       "      <th>NeuGenesen</th>\n",
       "      <th>AnzahlGenesen</th>\n",
       "      <th>IstErkrankungsbeginn</th>\n",
       "      <th>Altersgruppe2</th>\n",
       "      <th>geometry</th>\n",
       "      <th>MeldedatumISO</th>\n",
       "    </tr>\n",
       "  </thead>\n",
       "  <tbody>\n",
       "    <tr>\n",
       "      <th>0</th>\n",
       "      <td>1</td>\n",
       "      <td>1</td>\n",
       "      <td>Schleswig-Holstein</td>\n",
       "      <td>SK Flensburg</td>\n",
       "      <td>A00-A04</td>\n",
       "      <td>M</td>\n",
       "      <td>1</td>\n",
       "      <td>0</td>\n",
       "      <td>2020-09-30T00:00:00+00:00</td>\n",
       "      <td>01001</td>\n",
       "      <td>13.04.2021, 00:00 Uhr</td>\n",
       "      <td>0</td>\n",
       "      <td>-9</td>\n",
       "      <td>2020-09-30T00:00:00+00:00</td>\n",
       "      <td>0</td>\n",
       "      <td>1</td>\n",
       "      <td>0</td>\n",
       "      <td>Nicht übermittelt</td>\n",
       "      <td>None</td>\n",
       "      <td>2020-09-30</td>\n",
       "    </tr>\n",
       "    <tr>\n",
       "      <th>1</th>\n",
       "      <td>2</td>\n",
       "      <td>1</td>\n",
       "      <td>Schleswig-Holstein</td>\n",
       "      <td>SK Flensburg</td>\n",
       "      <td>A00-A04</td>\n",
       "      <td>M</td>\n",
       "      <td>1</td>\n",
       "      <td>0</td>\n",
       "      <td>2020-10-29T00:00:00+00:00</td>\n",
       "      <td>01001</td>\n",
       "      <td>13.04.2021, 00:00 Uhr</td>\n",
       "      <td>0</td>\n",
       "      <td>-9</td>\n",
       "      <td>2020-10-29T00:00:00+00:00</td>\n",
       "      <td>0</td>\n",
       "      <td>1</td>\n",
       "      <td>0</td>\n",
       "      <td>Nicht übermittelt</td>\n",
       "      <td>None</td>\n",
       "      <td>2020-10-29</td>\n",
       "    </tr>\n",
       "    <tr>\n",
       "      <th>2</th>\n",
       "      <td>3</td>\n",
       "      <td>1</td>\n",
       "      <td>Schleswig-Holstein</td>\n",
       "      <td>SK Flensburg</td>\n",
       "      <td>A00-A04</td>\n",
       "      <td>M</td>\n",
       "      <td>1</td>\n",
       "      <td>0</td>\n",
       "      <td>2020-11-03T00:00:00+00:00</td>\n",
       "      <td>01001</td>\n",
       "      <td>13.04.2021, 00:00 Uhr</td>\n",
       "      <td>0</td>\n",
       "      <td>-9</td>\n",
       "      <td>2020-11-03T00:00:00+00:00</td>\n",
       "      <td>0</td>\n",
       "      <td>1</td>\n",
       "      <td>0</td>\n",
       "      <td>Nicht übermittelt</td>\n",
       "      <td>None</td>\n",
       "      <td>2020-11-03</td>\n",
       "    </tr>\n",
       "    <tr>\n",
       "      <th>3</th>\n",
       "      <td>4</td>\n",
       "      <td>1</td>\n",
       "      <td>Schleswig-Holstein</td>\n",
       "      <td>SK Flensburg</td>\n",
       "      <td>A00-A04</td>\n",
       "      <td>M</td>\n",
       "      <td>1</td>\n",
       "      <td>0</td>\n",
       "      <td>2020-11-20T00:00:00+00:00</td>\n",
       "      <td>01001</td>\n",
       "      <td>13.04.2021, 00:00 Uhr</td>\n",
       "      <td>0</td>\n",
       "      <td>-9</td>\n",
       "      <td>2020-11-19T00:00:00+00:00</td>\n",
       "      <td>0</td>\n",
       "      <td>1</td>\n",
       "      <td>1</td>\n",
       "      <td>Nicht übermittelt</td>\n",
       "      <td>None</td>\n",
       "      <td>2020-11-20</td>\n",
       "    </tr>\n",
       "    <tr>\n",
       "      <th>4</th>\n",
       "      <td>5</td>\n",
       "      <td>1</td>\n",
       "      <td>Schleswig-Holstein</td>\n",
       "      <td>SK Flensburg</td>\n",
       "      <td>A00-A04</td>\n",
       "      <td>M</td>\n",
       "      <td>1</td>\n",
       "      <td>0</td>\n",
       "      <td>2020-11-23T00:00:00+00:00</td>\n",
       "      <td>01001</td>\n",
       "      <td>13.04.2021, 00:00 Uhr</td>\n",
       "      <td>0</td>\n",
       "      <td>-9</td>\n",
       "      <td>2020-11-18T00:00:00+00:00</td>\n",
       "      <td>0</td>\n",
       "      <td>1</td>\n",
       "      <td>1</td>\n",
       "      <td>Nicht übermittelt</td>\n",
       "      <td>None</td>\n",
       "      <td>2020-11-23</td>\n",
       "    </tr>\n",
       "  </tbody>\n",
       "</table>\n",
       "</div>"
      ],
      "text/plain": [
       "   ObjectId  IdBundesland          Bundesland     Landkreis Altersgruppe  \\\n",
       "0         1             1  Schleswig-Holstein  SK Flensburg      A00-A04   \n",
       "1         2             1  Schleswig-Holstein  SK Flensburg      A00-A04   \n",
       "2         3             1  Schleswig-Holstein  SK Flensburg      A00-A04   \n",
       "3         4             1  Schleswig-Holstein  SK Flensburg      A00-A04   \n",
       "4         5             1  Schleswig-Holstein  SK Flensburg      A00-A04   \n",
       "\n",
       "  Geschlecht  AnzahlFall  AnzahlTodesfall                 Meldedatum  \\\n",
       "0          M           1                0  2020-09-30T00:00:00+00:00   \n",
       "1          M           1                0  2020-10-29T00:00:00+00:00   \n",
       "2          M           1                0  2020-11-03T00:00:00+00:00   \n",
       "3          M           1                0  2020-11-20T00:00:00+00:00   \n",
       "4          M           1                0  2020-11-23T00:00:00+00:00   \n",
       "\n",
       "  IdLandkreis             Datenstand  NeuerFall  NeuerTodesfall  \\\n",
       "0       01001  13.04.2021, 00:00 Uhr          0              -9   \n",
       "1       01001  13.04.2021, 00:00 Uhr          0              -9   \n",
       "2       01001  13.04.2021, 00:00 Uhr          0              -9   \n",
       "3       01001  13.04.2021, 00:00 Uhr          0              -9   \n",
       "4       01001  13.04.2021, 00:00 Uhr          0              -9   \n",
       "\n",
       "                    Refdatum  NeuGenesen  AnzahlGenesen  IstErkrankungsbeginn  \\\n",
       "0  2020-09-30T00:00:00+00:00           0              1                     0   \n",
       "1  2020-10-29T00:00:00+00:00           0              1                     0   \n",
       "2  2020-11-03T00:00:00+00:00           0              1                     0   \n",
       "3  2020-11-19T00:00:00+00:00           0              1                     1   \n",
       "4  2020-11-18T00:00:00+00:00           0              1                     1   \n",
       "\n",
       "       Altersgruppe2 geometry MeldedatumISO  \n",
       "0  Nicht übermittelt     None    2020-09-30  \n",
       "1  Nicht übermittelt     None    2020-10-29  \n",
       "2  Nicht übermittelt     None    2020-11-03  \n",
       "3  Nicht übermittelt     None    2020-11-20  \n",
       "4  Nicht übermittelt     None    2020-11-23  "
      ]
     },
     "execution_count": 46,
     "metadata": {},
     "output_type": "execute_result"
    }
   ],
   "source": [
    "corona_data.set_index(pd.to_datetime(df['Publication date'], format='%d.%m.%Y'), inplace = True)"
   ]
  },
  {
   "cell_type": "code",
   "execution_count": null,
   "id": "2b88d6f1",
   "metadata": {},
   "outputs": [],
   "source": []
  },
  {
   "cell_type": "code",
   "execution_count": 36,
   "id": "17192ac6",
   "metadata": {},
   "outputs": [
    {
     "data": {
      "text/plain": [
       "384"
      ]
     },
     "execution_count": 36,
     "metadata": {},
     "output_type": "execute_result"
    }
   ],
   "source": [
    "corona_data[(corona_data['MeldedatumISO'] == '2021-04-12') & (corona_data['Bundesland'] == 'Berlin')]['AnzahlFall'].sum()"
   ]
  },
  {
   "cell_type": "code",
   "execution_count": 37,
   "id": "2aec5574",
   "metadata": {},
   "outputs": [
    {
     "data": {
      "text/plain": [
       "98"
      ]
     },
     "execution_count": 37,
     "metadata": {},
     "output_type": "execute_result"
    }
   ],
   "source": [
    "corona_data[(corona_data['MeldedatumISO'] == '2021-04-11') & (corona_data['Bundesland'] == 'Berlin')]['AnzahlFall'].sum()"
   ]
  },
  {
   "cell_type": "code",
   "execution_count": 39,
   "id": "c589f1e5",
   "metadata": {},
   "outputs": [
    {
     "data": {
      "text/plain": [
       "487"
      ]
     },
     "execution_count": 39,
     "metadata": {},
     "output_type": "execute_result"
    }
   ],
   "source": [
    "corona_data[(corona_data['MeldedatumISO'] == '2021-04-10') & (corona_data['Bundesland'] == 'Berlin')]['AnzahlFall'].sum()"
   ]
  },
  {
   "cell_type": "code",
   "execution_count": 40,
   "id": "0166b6c5",
   "metadata": {},
   "outputs": [
    {
     "data": {
      "text/plain": [
       "1071"
      ]
     },
     "execution_count": 40,
     "metadata": {},
     "output_type": "execute_result"
    }
   ],
   "source": [
    "corona_data[(corona_data['MeldedatumISO'] == '2021-04-09') & (corona_data['Bundesland'] == 'Berlin')]['AnzahlFall'].sum()"
   ]
  },
  {
   "cell_type": "code",
   "execution_count": 41,
   "id": "918565cc",
   "metadata": {},
   "outputs": [
    {
     "data": {
      "text/plain": [
       "988"
      ]
     },
     "execution_count": 41,
     "metadata": {},
     "output_type": "execute_result"
    }
   ],
   "source": [
    "corona_data[(corona_data['MeldedatumISO'] == '2021-04-08') & (corona_data['Bundesland'] == 'Berlin')]['AnzahlFall'].sum()"
   ]
  },
  {
   "cell_type": "code",
   "execution_count": 42,
   "id": "693779cb",
   "metadata": {},
   "outputs": [
    {
     "data": {
      "text/plain": [
       "737"
      ]
     },
     "execution_count": 42,
     "metadata": {},
     "output_type": "execute_result"
    }
   ],
   "source": [
    "corona_data[(corona_data['MeldedatumISO'] == '2021-04-07') & (corona_data['Bundesland'] == 'Berlin')]['AnzahlFall'].sum()"
   ]
  },
  {
   "cell_type": "code",
   "execution_count": 43,
   "id": "ef941759",
   "metadata": {},
   "outputs": [
    {
     "data": {
      "text/plain": [
       "624"
      ]
     },
     "execution_count": 43,
     "metadata": {},
     "output_type": "execute_result"
    }
   ],
   "source": [
    "corona_data[(corona_data['MeldedatumISO'] == '2021-04-06') & (corona_data['Bundesland'] == 'Berlin')]['AnzahlFall'].sum()"
   ]
  },
  {
   "cell_type": "code",
   "execution_count": 44,
   "id": "6c5326b3",
   "metadata": {},
   "outputs": [
    {
     "data": {
      "text/plain": [
       "4389"
      ]
     },
     "execution_count": 44,
     "metadata": {},
     "output_type": "execute_result"
    }
   ],
   "source": [
    "384 + 98 + 487 + 1071 + 988 + 737 + 624"
   ]
  },
  {
   "cell_type": "code",
   "execution_count": null,
   "id": "2c240540",
   "metadata": {},
   "outputs": [],
   "source": []
  },
  {
   "cell_type": "code",
   "execution_count": 47,
   "id": "1d7b9c5a",
   "metadata": {},
   "outputs": [],
   "source": [
    "seed = 'https://storage.googleapis.com/brdata-public-data/rki-corona-archiv/2_parsed/index.html'\n",
    "html = requests.get(seed)"
   ]
  },
  {
   "cell_type": "code",
   "execution_count": 48,
   "id": "c2a641d1",
   "metadata": {},
   "outputs": [],
   "source": [
    "soup = BeautifulSoup(html.text, \"html.parser\")"
   ]
  },
  {
   "cell_type": "code",
   "execution_count": 51,
   "id": "b730fb97",
   "metadata": {},
   "outputs": [
    {
     "data": {
      "text/plain": [
       "'https://storage.googleapis.com/brdata-public-data/rki-corona-archiv/2_parsed/data_2021-04-13-01-53.ndjson.xz'"
      ]
     },
     "execution_count": 51,
     "metadata": {},
     "output_type": "execute_result"
    }
   ],
   "source": [
    "target_url = soup.find_all('a')[-1].get('href')\n",
    "target_url"
   ]
  },
  {
   "cell_type": "code",
   "execution_count": 52,
   "id": "d2e2ad18",
   "metadata": {},
   "outputs": [],
   "source": [
    "response = requests.get(target_url)\n",
    "\n",
    "if response.status_code == 200:\n",
    "    with open(\"latest_RKI_data.ndjson.xz\", 'wb') as f:\n",
    "        f.write(response.content)"
   ]
  },
  {
   "cell_type": "code",
   "execution_count": 53,
   "id": "b7a09f1a",
   "metadata": {},
   "outputs": [
    {
     "data": {
      "application/vnd.jupyter.widget-view+json": {
       "model_id": "c7efd210a6a440a68b8058e2c708e9b8",
       "version_major": 2,
       "version_minor": 0
      },
      "text/plain": [
       "  0%|          | 0/1641234 [00:00<?, ?it/s]"
      ]
     },
     "metadata": {},
     "output_type": "display_data"
    },
    {
     "name": "stdout",
     "output_type": "stream",
     "text": [
      "{\"ObjectId\":1,\"IdBundesland\":1,\"Bundesland\":\"Schleswig-Holstein\",\"Landkreis\":\"SK Flensburg\",\"Altersgruppe\":\"A00-A04\",\"Geschlecht\":\"M\",\"AnzahlFall\":1,\"AnzahlTodesfall\":0,\"Meldedatum\":\"2020/09/30 00:00:00\",\"IdLandkreis\":\"01001\",\"Datenstand\":\"13.04.2021 00:00 Uhr\",\"NeuerFall\":0,\"NeuerTodesfall\":-9,\"Refdatum\":\"2020/09/30 00:00:00\",\"NeuGenesen\":0,\"AnzahlGenesen\":1,\"IstErkrankungsbeginn\":0,\"Altersgruppe2\":\"Nicht übermittelt\",\"MeldedatumISO\":\"2020-09-30\",\"DatenstandISO\":\"2021-04-13\",\"RefdatumISO\":\"2020-09-30\"}\n",
      "\n",
      "{\"ObjectId\":2,\"IdBundesland\":1,\"Bundesland\":\"Schleswig-Holstein\",\"Landkreis\":\"SK Flensburg\",\"Altersgruppe\":\"A00-A04\",\"Geschlecht\":\"M\",\"AnzahlFall\":1,\"AnzahlTodesfall\":0,\"Meldedatum\":\"2020/10/29 00:00:00\",\"IdLandkreis\":\"01001\",\"Datenstand\":\"13.04.2021 00:00 Uhr\",\"NeuerFall\":0,\"NeuerTodesfall\":-9,\"Refdatum\":\"2020/10/29 00:00:00\",\"NeuGenesen\":0,\"AnzahlGenesen\":1,\"IstErkrankungsbeginn\":0,\"Altersgruppe2\":\"Nicht übermittelt\",\"MeldedatumISO\":\"2020-10-29\",\"DatenstandISO\":\"2021-04-13\",\"RefdatumISO\":\"2020-10-29\"}\n",
      "\n",
      "{\"ObjectId\":3,\"IdBundesland\":1,\"Bundesland\":\"Schleswig-Holstein\",\"Landkreis\":\"SK Flensburg\",\"Altersgruppe\":\"A00-A04\",\"Geschlecht\":\"M\",\"AnzahlFall\":1,\"AnzahlTodesfall\":0,\"Meldedatum\":\"2020/11/03 00:00:00\",\"IdLandkreis\":\"01001\",\"Datenstand\":\"13.04.2021 00:00 Uhr\",\"NeuerFall\":0,\"NeuerTodesfall\":-9,\"Refdatum\":\"2020/11/03 00:00:00\",\"NeuGenesen\":0,\"AnzahlGenesen\":1,\"IstErkrankungsbeginn\":0,\"Altersgruppe2\":\"Nicht übermittelt\",\"MeldedatumISO\":\"2020-11-03\",\"DatenstandISO\":\"2021-04-13\",\"RefdatumISO\":\"2020-11-03\"}\n",
      "\n",
      "{\"ObjectId\":4,\"IdBundesland\":1,\"Bundesland\":\"Schleswig-Holstein\",\"Landkreis\":\"SK Flensburg\",\"Altersgruppe\":\"A00-A04\",\"Geschlecht\":\"M\",\"AnzahlFall\":1,\"AnzahlTodesfall\":0,\"Meldedatum\":\"2020/11/20 00:00:00\",\"IdLandkreis\":\"01001\",\"Datenstand\":\"13.04.2021 00:00 Uhr\",\"NeuerFall\":0,\"NeuerTodesfall\":-9,\"Refdatum\":\"2020/11/19 00:00:00\",\"NeuGenesen\":0,\"AnzahlGenesen\":1,\"IstErkrankungsbeginn\":1,\"Altersgruppe2\":\"Nicht übermittelt\",\"MeldedatumISO\":\"2020-11-20\",\"DatenstandISO\":\"2021-04-13\",\"RefdatumISO\":\"2020-11-19\"}\n",
      "\n",
      "{\"ObjectId\":5,\"IdBundesland\":1,\"Bundesland\":\"Schleswig-Holstein\",\"Landkreis\":\"SK Flensburg\",\"Altersgruppe\":\"A00-A04\",\"Geschlecht\":\"M\",\"AnzahlFall\":1,\"AnzahlTodesfall\":0,\"Meldedatum\":\"2020/11/23 00:00:00\",\"IdLandkreis\":\"01001\",\"Datenstand\":\"13.04.2021 00:00 Uhr\",\"NeuerFall\":0,\"NeuerTodesfall\":-9,\"Refdatum\":\"2020/11/18 00:00:00\",\"NeuGenesen\":0,\"AnzahlGenesen\":1,\"IstErkrankungsbeginn\":1,\"Altersgruppe2\":\"Nicht übermittelt\",\"MeldedatumISO\":\"2020-11-23\",\"DatenstandISO\":\"2021-04-13\",\"RefdatumISO\":\"2020-11-18\"}\n",
      "\n"
     ]
    }
   ],
   "source": [
    "import lzma\n",
    "from tqdm.notebook import tqdm\n",
    "\n",
    "num_lines = sum(1 for line in lzma.open('latest_RKI_data.ndjson.xz', mode='rt'))\n",
    "\n",
    "empty_list = []\n",
    "\n",
    "with lzma.open('latest_RKI_data.ndjson.xz', mode='rt', encoding = 'utf-8') as file:\n",
    " \n",
    "    counter = 0\n",
    "    \n",
    "    for line in tqdm(file, total = num_lines):\n",
    "        \n",
    "        empty_list.append(json.loads(line))\n",
    "        \n",
    "        if counter < 5:\n",
    "        \n",
    "            print(line)\n",
    "            \n",
    "        counter += 1"
   ]
  },
  {
   "cell_type": "code",
   "execution_count": 54,
   "id": "3eb22e47",
   "metadata": {},
   "outputs": [],
   "source": [
    "corona_df = pd.DataFrame(empty_list)"
   ]
  },
  {
   "cell_type": "code",
   "execution_count": 55,
   "id": "37199c51",
   "metadata": {},
   "outputs": [
    {
     "data": {
      "text/plain": [
       "384"
      ]
     },
     "execution_count": 55,
     "metadata": {},
     "output_type": "execute_result"
    }
   ],
   "source": [
    "corona_df[(corona_df['MeldedatumISO'] == '2021-04-12') & (corona_df['Bundesland'] == 'Berlin')]['AnzahlFall'].sum()"
   ]
  },
  {
   "cell_type": "code",
   "execution_count": 56,
   "id": "2a095032",
   "metadata": {},
   "outputs": [
    {
     "data": {
      "text/plain": [
       "98"
      ]
     },
     "execution_count": 56,
     "metadata": {},
     "output_type": "execute_result"
    }
   ],
   "source": [
    "corona_df[(corona_df['MeldedatumISO'] == '2021-04-11') & (corona_df['Bundesland'] == 'Berlin')]['AnzahlFall'].sum()"
   ]
  },
  {
   "cell_type": "code",
   "execution_count": 57,
   "id": "38676e65",
   "metadata": {},
   "outputs": [
    {
     "data": {
      "text/plain": [
       "487"
      ]
     },
     "execution_count": 57,
     "metadata": {},
     "output_type": "execute_result"
    }
   ],
   "source": [
    "corona_df[(corona_df['MeldedatumISO'] == '2021-04-10') & (corona_df['Bundesland'] == 'Berlin')]['AnzahlFall'].sum()"
   ]
  },
  {
   "cell_type": "code",
   "execution_count": 58,
   "id": "5e39491c",
   "metadata": {},
   "outputs": [
    {
     "data": {
      "text/plain": [
       "1071"
      ]
     },
     "execution_count": 58,
     "metadata": {},
     "output_type": "execute_result"
    }
   ],
   "source": [
    "corona_df[(corona_df['MeldedatumISO'] == '2021-04-09') & (corona_df['Bundesland'] == 'Berlin')]['AnzahlFall'].sum()"
   ]
  },
  {
   "cell_type": "code",
   "execution_count": 59,
   "id": "65c52261",
   "metadata": {},
   "outputs": [
    {
     "data": {
      "text/plain": [
       "988"
      ]
     },
     "execution_count": 59,
     "metadata": {},
     "output_type": "execute_result"
    }
   ],
   "source": [
    "corona_df[(corona_df['MeldedatumISO'] == '2021-04-08') & (corona_df['Bundesland'] == 'Berlin')]['AnzahlFall'].sum()"
   ]
  },
  {
   "cell_type": "code",
   "execution_count": 60,
   "id": "af313473",
   "metadata": {},
   "outputs": [
    {
     "data": {
      "text/plain": [
       "737"
      ]
     },
     "execution_count": 60,
     "metadata": {},
     "output_type": "execute_result"
    }
   ],
   "source": [
    "corona_df[(corona_df['MeldedatumISO'] == '2021-04-07') & (corona_df['Bundesland'] == 'Berlin')]['AnzahlFall'].sum()"
   ]
  },
  {
   "cell_type": "code",
   "execution_count": 61,
   "id": "7d80946c",
   "metadata": {},
   "outputs": [
    {
     "data": {
      "text/plain": [
       "624"
      ]
     },
     "execution_count": 61,
     "metadata": {},
     "output_type": "execute_result"
    }
   ],
   "source": [
    "corona_df[(corona_df['MeldedatumISO'] == '2021-04-06') & (corona_df['Bundesland'] == 'Berlin')]['AnzahlFall'].sum()"
   ]
  },
  {
   "cell_type": "code",
   "execution_count": 62,
   "id": "ed2cc76a",
   "metadata": {},
   "outputs": [
    {
     "data": {
      "text/plain": [
       "4389"
      ]
     },
     "execution_count": 62,
     "metadata": {},
     "output_type": "execute_result"
    }
   ],
   "source": [
    "384 + 98 + 487 + 1071 + 988 + 737 + 624"
   ]
  },
  {
   "cell_type": "code",
   "execution_count": 45,
   "id": "5968ebfd",
   "metadata": {},
   "outputs": [],
   "source": [
    "# corona_df.set_index(pd.to_datetime(corona_df['MeldedatumISO'], format='%Y-%m-%d'), inplace = True)"
   ]
  },
  {
   "cell_type": "code",
   "execution_count": 12,
   "id": "521c8857",
   "metadata": {},
   "outputs": [
    {
     "data": {
      "text/html": [
       "<div>\n",
       "<style scoped>\n",
       "    .dataframe tbody tr th:only-of-type {\n",
       "        vertical-align: middle;\n",
       "    }\n",
       "\n",
       "    .dataframe tbody tr th {\n",
       "        vertical-align: top;\n",
       "    }\n",
       "\n",
       "    .dataframe thead th {\n",
       "        text-align: right;\n",
       "    }\n",
       "</style>\n",
       "<table border=\"1\" class=\"dataframe\">\n",
       "  <thead>\n",
       "    <tr style=\"text-align: right;\">\n",
       "      <th></th>\n",
       "      <th>ObjectId</th>\n",
       "      <th>IdBundesland</th>\n",
       "      <th>Bundesland</th>\n",
       "      <th>Landkreis</th>\n",
       "      <th>Altersgruppe</th>\n",
       "      <th>Geschlecht</th>\n",
       "      <th>AnzahlFall</th>\n",
       "      <th>AnzahlTodesfall</th>\n",
       "      <th>Meldedatum</th>\n",
       "      <th>IdLandkreis</th>\n",
       "      <th>...</th>\n",
       "      <th>NeuerFall</th>\n",
       "      <th>NeuerTodesfall</th>\n",
       "      <th>Refdatum</th>\n",
       "      <th>NeuGenesen</th>\n",
       "      <th>AnzahlGenesen</th>\n",
       "      <th>IstErkrankungsbeginn</th>\n",
       "      <th>Altersgruppe2</th>\n",
       "      <th>MeldedatumISO</th>\n",
       "      <th>DatenstandISO</th>\n",
       "      <th>RefdatumISO</th>\n",
       "    </tr>\n",
       "  </thead>\n",
       "  <tbody>\n",
       "    <tr>\n",
       "      <th>131</th>\n",
       "      <td>132</td>\n",
       "      <td>1</td>\n",
       "      <td>Schleswig-Holstein</td>\n",
       "      <td>SK Flensburg</td>\n",
       "      <td>A05-A14</td>\n",
       "      <td>M</td>\n",
       "      <td>1</td>\n",
       "      <td>0</td>\n",
       "      <td>2021/04/11 00:00:00</td>\n",
       "      <td>01001</td>\n",
       "      <td>...</td>\n",
       "      <td>1</td>\n",
       "      <td>-9</td>\n",
       "      <td>2021/04/11 00:00:00</td>\n",
       "      <td>-9</td>\n",
       "      <td>0</td>\n",
       "      <td>0</td>\n",
       "      <td>Nicht übermittelt</td>\n",
       "      <td>2021-04-11</td>\n",
       "      <td>2021-04-12</td>\n",
       "      <td>2021-04-11</td>\n",
       "    </tr>\n",
       "    <tr>\n",
       "      <th>842</th>\n",
       "      <td>843</td>\n",
       "      <td>1</td>\n",
       "      <td>Schleswig-Holstein</td>\n",
       "      <td>SK Flensburg</td>\n",
       "      <td>A15-A34</td>\n",
       "      <td>W</td>\n",
       "      <td>1</td>\n",
       "      <td>0</td>\n",
       "      <td>2021/04/11 00:00:00</td>\n",
       "      <td>01001</td>\n",
       "      <td>...</td>\n",
       "      <td>1</td>\n",
       "      <td>-9</td>\n",
       "      <td>2021/04/04 00:00:00</td>\n",
       "      <td>-9</td>\n",
       "      <td>0</td>\n",
       "      <td>1</td>\n",
       "      <td>Nicht übermittelt</td>\n",
       "      <td>2021-04-11</td>\n",
       "      <td>2021-04-12</td>\n",
       "      <td>2021-04-04</td>\n",
       "    </tr>\n",
       "    <tr>\n",
       "      <th>843</th>\n",
       "      <td>844</td>\n",
       "      <td>1</td>\n",
       "      <td>Schleswig-Holstein</td>\n",
       "      <td>SK Flensburg</td>\n",
       "      <td>A15-A34</td>\n",
       "      <td>W</td>\n",
       "      <td>1</td>\n",
       "      <td>0</td>\n",
       "      <td>2021/04/11 00:00:00</td>\n",
       "      <td>01001</td>\n",
       "      <td>...</td>\n",
       "      <td>1</td>\n",
       "      <td>-9</td>\n",
       "      <td>2021/04/09 00:00:00</td>\n",
       "      <td>-9</td>\n",
       "      <td>0</td>\n",
       "      <td>1</td>\n",
       "      <td>Nicht übermittelt</td>\n",
       "      <td>2021-04-11</td>\n",
       "      <td>2021-04-12</td>\n",
       "      <td>2021-04-09</td>\n",
       "    </tr>\n",
       "    <tr>\n",
       "      <th>844</th>\n",
       "      <td>845</td>\n",
       "      <td>1</td>\n",
       "      <td>Schleswig-Holstein</td>\n",
       "      <td>SK Flensburg</td>\n",
       "      <td>A15-A34</td>\n",
       "      <td>W</td>\n",
       "      <td>1</td>\n",
       "      <td>0</td>\n",
       "      <td>2021/04/11 00:00:00</td>\n",
       "      <td>01001</td>\n",
       "      <td>...</td>\n",
       "      <td>1</td>\n",
       "      <td>-9</td>\n",
       "      <td>2021/04/11 00:00:00</td>\n",
       "      <td>-9</td>\n",
       "      <td>0</td>\n",
       "      <td>0</td>\n",
       "      <td>Nicht übermittelt</td>\n",
       "      <td>2021-04-11</td>\n",
       "      <td>2021-04-12</td>\n",
       "      <td>2021-04-11</td>\n",
       "    </tr>\n",
       "    <tr>\n",
       "      <th>845</th>\n",
       "      <td>846</td>\n",
       "      <td>1</td>\n",
       "      <td>Schleswig-Holstein</td>\n",
       "      <td>SK Flensburg</td>\n",
       "      <td>A15-A34</td>\n",
       "      <td>W</td>\n",
       "      <td>1</td>\n",
       "      <td>0</td>\n",
       "      <td>2021/04/11 00:00:00</td>\n",
       "      <td>01001</td>\n",
       "      <td>...</td>\n",
       "      <td>1</td>\n",
       "      <td>-9</td>\n",
       "      <td>2021/04/11 00:00:00</td>\n",
       "      <td>-9</td>\n",
       "      <td>0</td>\n",
       "      <td>1</td>\n",
       "      <td>Nicht übermittelt</td>\n",
       "      <td>2021-04-11</td>\n",
       "      <td>2021-04-12</td>\n",
       "      <td>2021-04-11</td>\n",
       "    </tr>\n",
       "    <tr>\n",
       "      <th>...</th>\n",
       "      <td>...</td>\n",
       "      <td>...</td>\n",
       "      <td>...</td>\n",
       "      <td>...</td>\n",
       "      <td>...</td>\n",
       "      <td>...</td>\n",
       "      <td>...</td>\n",
       "      <td>...</td>\n",
       "      <td>...</td>\n",
       "      <td>...</td>\n",
       "      <td>...</td>\n",
       "      <td>...</td>\n",
       "      <td>...</td>\n",
       "      <td>...</td>\n",
       "      <td>...</td>\n",
       "      <td>...</td>\n",
       "      <td>...</td>\n",
       "      <td>...</td>\n",
       "      <td>...</td>\n",
       "      <td>...</td>\n",
       "      <td>...</td>\n",
       "    </tr>\n",
       "    <tr>\n",
       "      <th>1630949</th>\n",
       "      <td>1630950</td>\n",
       "      <td>16</td>\n",
       "      <td>Thüringen</td>\n",
       "      <td>LK Altenburger Land</td>\n",
       "      <td>A80+</td>\n",
       "      <td>M</td>\n",
       "      <td>1</td>\n",
       "      <td>0</td>\n",
       "      <td>2021/04/11 00:00:00</td>\n",
       "      <td>16077</td>\n",
       "      <td>...</td>\n",
       "      <td>1</td>\n",
       "      <td>-9</td>\n",
       "      <td>2021/04/11 00:00:00</td>\n",
       "      <td>-9</td>\n",
       "      <td>0</td>\n",
       "      <td>0</td>\n",
       "      <td>Nicht übermittelt</td>\n",
       "      <td>2021-04-11</td>\n",
       "      <td>2021-04-12</td>\n",
       "      <td>2021-04-11</td>\n",
       "    </tr>\n",
       "    <tr>\n",
       "      <th>1631159</th>\n",
       "      <td>1631160</td>\n",
       "      <td>16</td>\n",
       "      <td>Thüringen</td>\n",
       "      <td>LK Altenburger Land</td>\n",
       "      <td>A80+</td>\n",
       "      <td>W</td>\n",
       "      <td>1</td>\n",
       "      <td>0</td>\n",
       "      <td>2021/04/11 00:00:00</td>\n",
       "      <td>16077</td>\n",
       "      <td>...</td>\n",
       "      <td>1</td>\n",
       "      <td>-9</td>\n",
       "      <td>2021/04/11 00:00:00</td>\n",
       "      <td>-9</td>\n",
       "      <td>0</td>\n",
       "      <td>0</td>\n",
       "      <td>Nicht übermittelt</td>\n",
       "      <td>2021-04-11</td>\n",
       "      <td>2021-04-12</td>\n",
       "      <td>2021-04-11</td>\n",
       "    </tr>\n",
       "    <tr>\n",
       "      <th>1631170</th>\n",
       "      <td>1631171</td>\n",
       "      <td>16</td>\n",
       "      <td>Thüringen</td>\n",
       "      <td>LK Altenburger Land</td>\n",
       "      <td>A35-A59</td>\n",
       "      <td>M</td>\n",
       "      <td>3</td>\n",
       "      <td>0</td>\n",
       "      <td>2021/04/11 00:00:00</td>\n",
       "      <td>16077</td>\n",
       "      <td>...</td>\n",
       "      <td>1</td>\n",
       "      <td>-9</td>\n",
       "      <td>2021/04/11 00:00:00</td>\n",
       "      <td>-9</td>\n",
       "      <td>0</td>\n",
       "      <td>0</td>\n",
       "      <td>Nicht übermittelt</td>\n",
       "      <td>2021-04-11</td>\n",
       "      <td>2021-04-12</td>\n",
       "      <td>2021-04-11</td>\n",
       "    </tr>\n",
       "    <tr>\n",
       "      <th>1631474</th>\n",
       "      <td>1631475</td>\n",
       "      <td>16</td>\n",
       "      <td>Thüringen</td>\n",
       "      <td>LK Altenburger Land</td>\n",
       "      <td>A35-A59</td>\n",
       "      <td>W</td>\n",
       "      <td>3</td>\n",
       "      <td>0</td>\n",
       "      <td>2021/04/11 00:00:00</td>\n",
       "      <td>16077</td>\n",
       "      <td>...</td>\n",
       "      <td>1</td>\n",
       "      <td>-9</td>\n",
       "      <td>2021/04/11 00:00:00</td>\n",
       "      <td>-9</td>\n",
       "      <td>0</td>\n",
       "      <td>0</td>\n",
       "      <td>Nicht übermittelt</td>\n",
       "      <td>2021-04-11</td>\n",
       "      <td>2021-04-12</td>\n",
       "      <td>2021-04-11</td>\n",
       "    </tr>\n",
       "    <tr>\n",
       "      <th>1631990</th>\n",
       "      <td>1631991</td>\n",
       "      <td>16</td>\n",
       "      <td>Thüringen</td>\n",
       "      <td>LK Greiz</td>\n",
       "      <td>A80+</td>\n",
       "      <td>W</td>\n",
       "      <td>2</td>\n",
       "      <td>0</td>\n",
       "      <td>2021/04/11 00:00:00</td>\n",
       "      <td>16076</td>\n",
       "      <td>...</td>\n",
       "      <td>1</td>\n",
       "      <td>-9</td>\n",
       "      <td>2021/04/11 00:00:00</td>\n",
       "      <td>-9</td>\n",
       "      <td>0</td>\n",
       "      <td>0</td>\n",
       "      <td>Nicht übermittelt</td>\n",
       "      <td>2021-04-11</td>\n",
       "      <td>2021-04-12</td>\n",
       "      <td>2021-04-11</td>\n",
       "    </tr>\n",
       "  </tbody>\n",
       "</table>\n",
       "<p>2604 rows × 21 columns</p>\n",
       "</div>"
      ],
      "text/plain": [
       "         ObjectId  IdBundesland          Bundesland            Landkreis  \\\n",
       "131           132             1  Schleswig-Holstein         SK Flensburg   \n",
       "842           843             1  Schleswig-Holstein         SK Flensburg   \n",
       "843           844             1  Schleswig-Holstein         SK Flensburg   \n",
       "844           845             1  Schleswig-Holstein         SK Flensburg   \n",
       "845           846             1  Schleswig-Holstein         SK Flensburg   \n",
       "...           ...           ...                 ...                  ...   \n",
       "1630949   1630950            16           Thüringen  LK Altenburger Land   \n",
       "1631159   1631160            16           Thüringen  LK Altenburger Land   \n",
       "1631170   1631171            16           Thüringen  LK Altenburger Land   \n",
       "1631474   1631475            16           Thüringen  LK Altenburger Land   \n",
       "1631990   1631991            16           Thüringen             LK Greiz   \n",
       "\n",
       "        Altersgruppe Geschlecht  AnzahlFall  AnzahlTodesfall  \\\n",
       "131          A05-A14          M           1                0   \n",
       "842          A15-A34          W           1                0   \n",
       "843          A15-A34          W           1                0   \n",
       "844          A15-A34          W           1                0   \n",
       "845          A15-A34          W           1                0   \n",
       "...              ...        ...         ...              ...   \n",
       "1630949         A80+          M           1                0   \n",
       "1631159         A80+          W           1                0   \n",
       "1631170      A35-A59          M           3                0   \n",
       "1631474      A35-A59          W           3                0   \n",
       "1631990         A80+          W           2                0   \n",
       "\n",
       "                  Meldedatum IdLandkreis  ... NeuerFall  NeuerTodesfall  \\\n",
       "131      2021/04/11 00:00:00       01001  ...         1              -9   \n",
       "842      2021/04/11 00:00:00       01001  ...         1              -9   \n",
       "843      2021/04/11 00:00:00       01001  ...         1              -9   \n",
       "844      2021/04/11 00:00:00       01001  ...         1              -9   \n",
       "845      2021/04/11 00:00:00       01001  ...         1              -9   \n",
       "...                      ...         ...  ...       ...             ...   \n",
       "1630949  2021/04/11 00:00:00       16077  ...         1              -9   \n",
       "1631159  2021/04/11 00:00:00       16077  ...         1              -9   \n",
       "1631170  2021/04/11 00:00:00       16077  ...         1              -9   \n",
       "1631474  2021/04/11 00:00:00       16077  ...         1              -9   \n",
       "1631990  2021/04/11 00:00:00       16076  ...         1              -9   \n",
       "\n",
       "                    Refdatum NeuGenesen  AnzahlGenesen  IstErkrankungsbeginn  \\\n",
       "131      2021/04/11 00:00:00         -9              0                     0   \n",
       "842      2021/04/04 00:00:00         -9              0                     1   \n",
       "843      2021/04/09 00:00:00         -9              0                     1   \n",
       "844      2021/04/11 00:00:00         -9              0                     0   \n",
       "845      2021/04/11 00:00:00         -9              0                     1   \n",
       "...                      ...        ...            ...                   ...   \n",
       "1630949  2021/04/11 00:00:00         -9              0                     0   \n",
       "1631159  2021/04/11 00:00:00         -9              0                     0   \n",
       "1631170  2021/04/11 00:00:00         -9              0                     0   \n",
       "1631474  2021/04/11 00:00:00         -9              0                     0   \n",
       "1631990  2021/04/11 00:00:00         -9              0                     0   \n",
       "\n",
       "             Altersgruppe2 MeldedatumISO DatenstandISO RefdatumISO  \n",
       "131      Nicht übermittelt    2021-04-11    2021-04-12  2021-04-11  \n",
       "842      Nicht übermittelt    2021-04-11    2021-04-12  2021-04-04  \n",
       "843      Nicht übermittelt    2021-04-11    2021-04-12  2021-04-09  \n",
       "844      Nicht übermittelt    2021-04-11    2021-04-12  2021-04-11  \n",
       "845      Nicht übermittelt    2021-04-11    2021-04-12  2021-04-11  \n",
       "...                    ...           ...           ...         ...  \n",
       "1630949  Nicht übermittelt    2021-04-11    2021-04-12  2021-04-11  \n",
       "1631159  Nicht übermittelt    2021-04-11    2021-04-12  2021-04-11  \n",
       "1631170  Nicht übermittelt    2021-04-11    2021-04-12  2021-04-11  \n",
       "1631474  Nicht übermittelt    2021-04-11    2021-04-12  2021-04-11  \n",
       "1631990  Nicht übermittelt    2021-04-11    2021-04-12  2021-04-11  \n",
       "\n",
       "[2604 rows x 21 columns]"
      ]
     },
     "execution_count": 12,
     "metadata": {},
     "output_type": "execute_result"
    }
   ],
   "source": [
    "corona_df[corona_df['MeldedatumISO'] == '2021-04-11']"
   ]
  },
  {
   "cell_type": "code",
   "execution_count": 121,
   "id": "653a5f7a",
   "metadata": {},
   "outputs": [
    {
     "data": {
      "text/html": [
       "<div>\n",
       "<style scoped>\n",
       "    .dataframe tbody tr th:only-of-type {\n",
       "        vertical-align: middle;\n",
       "    }\n",
       "\n",
       "    .dataframe tbody tr th {\n",
       "        vertical-align: top;\n",
       "    }\n",
       "\n",
       "    .dataframe thead th {\n",
       "        text-align: right;\n",
       "    }\n",
       "</style>\n",
       "<table border=\"1\" class=\"dataframe\">\n",
       "  <thead>\n",
       "    <tr style=\"text-align: right;\">\n",
       "      <th></th>\n",
       "      <th>ObjectId</th>\n",
       "      <th>IdBundesland</th>\n",
       "      <th>Bundesland</th>\n",
       "      <th>Landkreis</th>\n",
       "      <th>Altersgruppe</th>\n",
       "      <th>Geschlecht</th>\n",
       "      <th>AnzahlFall</th>\n",
       "      <th>AnzahlTodesfall</th>\n",
       "      <th>Meldedatum</th>\n",
       "      <th>IdLandkreis</th>\n",
       "      <th>...</th>\n",
       "      <th>NeuerFall</th>\n",
       "      <th>NeuerTodesfall</th>\n",
       "      <th>Refdatum</th>\n",
       "      <th>NeuGenesen</th>\n",
       "      <th>AnzahlGenesen</th>\n",
       "      <th>IstErkrankungsbeginn</th>\n",
       "      <th>Altersgruppe2</th>\n",
       "      <th>MeldedatumISO</th>\n",
       "      <th>DatenstandISO</th>\n",
       "      <th>RefdatumISO</th>\n",
       "    </tr>\n",
       "  </thead>\n",
       "  <tbody>\n",
       "    <tr>\n",
       "      <th>1626435</th>\n",
       "      <td>1626436</td>\n",
       "      <td>16</td>\n",
       "      <td>Thüringen</td>\n",
       "      <td>LK Altenburger Land</td>\n",
       "      <td>A80+</td>\n",
       "      <td>W</td>\n",
       "      <td>3</td>\n",
       "      <td>0</td>\n",
       "      <td>2021/04/07 00:00:00</td>\n",
       "      <td>16077</td>\n",
       "      <td>...</td>\n",
       "      <td>0</td>\n",
       "      <td>-9</td>\n",
       "      <td>2021/04/07 00:00:00</td>\n",
       "      <td>-9</td>\n",
       "      <td>0</td>\n",
       "      <td>0</td>\n",
       "      <td>Nicht übermittelt</td>\n",
       "      <td>2021-04-07</td>\n",
       "      <td>2021-04-11</td>\n",
       "      <td>2021-04-07</td>\n",
       "    </tr>\n",
       "    <tr>\n",
       "      <th>1626436</th>\n",
       "      <td>1626437</td>\n",
       "      <td>16</td>\n",
       "      <td>Thüringen</td>\n",
       "      <td>LK Altenburger Land</td>\n",
       "      <td>A80+</td>\n",
       "      <td>W</td>\n",
       "      <td>7</td>\n",
       "      <td>0</td>\n",
       "      <td>2021/04/08 00:00:00</td>\n",
       "      <td>16077</td>\n",
       "      <td>...</td>\n",
       "      <td>0</td>\n",
       "      <td>-9</td>\n",
       "      <td>2021/04/08 00:00:00</td>\n",
       "      <td>-9</td>\n",
       "      <td>0</td>\n",
       "      <td>0</td>\n",
       "      <td>Nicht übermittelt</td>\n",
       "      <td>2021-04-08</td>\n",
       "      <td>2021-04-11</td>\n",
       "      <td>2021-04-08</td>\n",
       "    </tr>\n",
       "    <tr>\n",
       "      <th>1626437</th>\n",
       "      <td>1626438</td>\n",
       "      <td>16</td>\n",
       "      <td>Thüringen</td>\n",
       "      <td>LK Altenburger Land</td>\n",
       "      <td>A80+</td>\n",
       "      <td>W</td>\n",
       "      <td>1</td>\n",
       "      <td>0</td>\n",
       "      <td>2021/04/09 00:00:00</td>\n",
       "      <td>16077</td>\n",
       "      <td>...</td>\n",
       "      <td>1</td>\n",
       "      <td>-9</td>\n",
       "      <td>2021/04/09 00:00:00</td>\n",
       "      <td>-9</td>\n",
       "      <td>0</td>\n",
       "      <td>0</td>\n",
       "      <td>Nicht übermittelt</td>\n",
       "      <td>2021-04-09</td>\n",
       "      <td>2021-04-11</td>\n",
       "      <td>2021-04-09</td>\n",
       "    </tr>\n",
       "    <tr>\n",
       "      <th>1626438</th>\n",
       "      <td>1626439</td>\n",
       "      <td>16</td>\n",
       "      <td>Thüringen</td>\n",
       "      <td>LK Altenburger Land</td>\n",
       "      <td>A80+</td>\n",
       "      <td>W</td>\n",
       "      <td>4</td>\n",
       "      <td>0</td>\n",
       "      <td>2021/04/09 00:00:00</td>\n",
       "      <td>16077</td>\n",
       "      <td>...</td>\n",
       "      <td>0</td>\n",
       "      <td>-9</td>\n",
       "      <td>2021/04/09 00:00:00</td>\n",
       "      <td>-9</td>\n",
       "      <td>0</td>\n",
       "      <td>0</td>\n",
       "      <td>Nicht übermittelt</td>\n",
       "      <td>2021-04-09</td>\n",
       "      <td>2021-04-11</td>\n",
       "      <td>2021-04-09</td>\n",
       "    </tr>\n",
       "    <tr>\n",
       "      <th>1626439</th>\n",
       "      <td>1626440</td>\n",
       "      <td>16</td>\n",
       "      <td>Thüringen</td>\n",
       "      <td>LK Altenburger Land</td>\n",
       "      <td>unbekannt</td>\n",
       "      <td>unbekannt</td>\n",
       "      <td>1</td>\n",
       "      <td>0</td>\n",
       "      <td>2021/04/06 00:00:00</td>\n",
       "      <td>16077</td>\n",
       "      <td>...</td>\n",
       "      <td>0</td>\n",
       "      <td>-9</td>\n",
       "      <td>2021/04/06 00:00:00</td>\n",
       "      <td>-9</td>\n",
       "      <td>0</td>\n",
       "      <td>0</td>\n",
       "      <td>Nicht übermittelt</td>\n",
       "      <td>2021-04-06</td>\n",
       "      <td>2021-04-11</td>\n",
       "      <td>2021-04-06</td>\n",
       "    </tr>\n",
       "  </tbody>\n",
       "</table>\n",
       "<p>5 rows × 21 columns</p>\n",
       "</div>"
      ],
      "text/plain": [
       "         ObjectId  IdBundesland Bundesland            Landkreis Altersgruppe  \\\n",
       "1626435   1626436            16  Thüringen  LK Altenburger Land         A80+   \n",
       "1626436   1626437            16  Thüringen  LK Altenburger Land         A80+   \n",
       "1626437   1626438            16  Thüringen  LK Altenburger Land         A80+   \n",
       "1626438   1626439            16  Thüringen  LK Altenburger Land         A80+   \n",
       "1626439   1626440            16  Thüringen  LK Altenburger Land    unbekannt   \n",
       "\n",
       "        Geschlecht  AnzahlFall  AnzahlTodesfall           Meldedatum  \\\n",
       "1626435          W           3                0  2021/04/07 00:00:00   \n",
       "1626436          W           7                0  2021/04/08 00:00:00   \n",
       "1626437          W           1                0  2021/04/09 00:00:00   \n",
       "1626438          W           4                0  2021/04/09 00:00:00   \n",
       "1626439  unbekannt           1                0  2021/04/06 00:00:00   \n",
       "\n",
       "        IdLandkreis  ... NeuerFall  NeuerTodesfall             Refdatum  \\\n",
       "1626435       16077  ...         0              -9  2021/04/07 00:00:00   \n",
       "1626436       16077  ...         0              -9  2021/04/08 00:00:00   \n",
       "1626437       16077  ...         1              -9  2021/04/09 00:00:00   \n",
       "1626438       16077  ...         0              -9  2021/04/09 00:00:00   \n",
       "1626439       16077  ...         0              -9  2021/04/06 00:00:00   \n",
       "\n",
       "        NeuGenesen  AnzahlGenesen  IstErkrankungsbeginn      Altersgruppe2  \\\n",
       "1626435         -9              0                     0  Nicht übermittelt   \n",
       "1626436         -9              0                     0  Nicht übermittelt   \n",
       "1626437         -9              0                     0  Nicht übermittelt   \n",
       "1626438         -9              0                     0  Nicht übermittelt   \n",
       "1626439         -9              0                     0  Nicht übermittelt   \n",
       "\n",
       "        MeldedatumISO DatenstandISO RefdatumISO  \n",
       "1626435    2021-04-07    2021-04-11  2021-04-07  \n",
       "1626436    2021-04-08    2021-04-11  2021-04-08  \n",
       "1626437    2021-04-09    2021-04-11  2021-04-09  \n",
       "1626438    2021-04-09    2021-04-11  2021-04-09  \n",
       "1626439    2021-04-06    2021-04-11  2021-04-06  \n",
       "\n",
       "[5 rows x 21 columns]"
      ]
     },
     "execution_count": 121,
     "metadata": {},
     "output_type": "execute_result"
    }
   ],
   "source": [
    "corona_df.tail()"
   ]
  },
  {
   "cell_type": "code",
   "execution_count": 122,
   "id": "e0ac8d56",
   "metadata": {},
   "outputs": [
    {
     "data": {
      "text/html": [
       "<div>\n",
       "<style scoped>\n",
       "    .dataframe tbody tr th:only-of-type {\n",
       "        vertical-align: middle;\n",
       "    }\n",
       "\n",
       "    .dataframe tbody tr th {\n",
       "        vertical-align: top;\n",
       "    }\n",
       "\n",
       "    .dataframe thead th {\n",
       "        text-align: right;\n",
       "    }\n",
       "</style>\n",
       "<table border=\"1\" class=\"dataframe\">\n",
       "  <thead>\n",
       "    <tr style=\"text-align: right;\">\n",
       "      <th></th>\n",
       "      <th>ObjectId</th>\n",
       "      <th>IdBundesland</th>\n",
       "      <th>Bundesland</th>\n",
       "      <th>Landkreis</th>\n",
       "      <th>Altersgruppe</th>\n",
       "      <th>Geschlecht</th>\n",
       "      <th>AnzahlFall</th>\n",
       "      <th>AnzahlTodesfall</th>\n",
       "      <th>Meldedatum</th>\n",
       "      <th>IdLandkreis</th>\n",
       "      <th>...</th>\n",
       "      <th>NeuerFall</th>\n",
       "      <th>NeuerTodesfall</th>\n",
       "      <th>Refdatum</th>\n",
       "      <th>NeuGenesen</th>\n",
       "      <th>AnzahlGenesen</th>\n",
       "      <th>IstErkrankungsbeginn</th>\n",
       "      <th>Altersgruppe2</th>\n",
       "      <th>MeldedatumISO</th>\n",
       "      <th>DatenstandISO</th>\n",
       "      <th>RefdatumISO</th>\n",
       "    </tr>\n",
       "  </thead>\n",
       "  <tbody>\n",
       "    <tr>\n",
       "      <th>786423</th>\n",
       "      <td>786424</td>\n",
       "      <td>8</td>\n",
       "      <td>Baden-Württemberg</td>\n",
       "      <td>LK Schwäbisch Hall</td>\n",
       "      <td>A80+</td>\n",
       "      <td>W</td>\n",
       "      <td>1</td>\n",
       "      <td>1</td>\n",
       "      <td>2021/04/04 00:00:00</td>\n",
       "      <td>08127</td>\n",
       "      <td>...</td>\n",
       "      <td>0</td>\n",
       "      <td>1</td>\n",
       "      <td>2021/03/27 00:00:00</td>\n",
       "      <td>-9</td>\n",
       "      <td>0</td>\n",
       "      <td>1</td>\n",
       "      <td>Nicht übermittelt</td>\n",
       "      <td>2021-04-04</td>\n",
       "      <td>2021-04-11</td>\n",
       "      <td>2021-03-27</td>\n",
       "    </tr>\n",
       "    <tr>\n",
       "      <th>1437118</th>\n",
       "      <td>1437119</td>\n",
       "      <td>14</td>\n",
       "      <td>Sachsen</td>\n",
       "      <td>LK Erzgebirgskreis</td>\n",
       "      <td>A60-A79</td>\n",
       "      <td>M</td>\n",
       "      <td>1</td>\n",
       "      <td>1</td>\n",
       "      <td>2021/04/04 00:00:00</td>\n",
       "      <td>14521</td>\n",
       "      <td>...</td>\n",
       "      <td>0</td>\n",
       "      <td>1</td>\n",
       "      <td>2021/04/04 00:00:00</td>\n",
       "      <td>-9</td>\n",
       "      <td>0</td>\n",
       "      <td>0</td>\n",
       "      <td>Nicht übermittelt</td>\n",
       "      <td>2021-04-04</td>\n",
       "      <td>2021-04-11</td>\n",
       "      <td>2021-04-04</td>\n",
       "    </tr>\n",
       "    <tr>\n",
       "      <th>1527932</th>\n",
       "      <td>1527933</td>\n",
       "      <td>15</td>\n",
       "      <td>Sachsen-Anhalt</td>\n",
       "      <td>LK Altmarkkreis Salzwedel</td>\n",
       "      <td>A80+</td>\n",
       "      <td>M</td>\n",
       "      <td>1</td>\n",
       "      <td>1</td>\n",
       "      <td>2021/04/04 00:00:00</td>\n",
       "      <td>15081</td>\n",
       "      <td>...</td>\n",
       "      <td>0</td>\n",
       "      <td>1</td>\n",
       "      <td>2021/04/01 00:00:00</td>\n",
       "      <td>-9</td>\n",
       "      <td>0</td>\n",
       "      <td>1</td>\n",
       "      <td>Nicht übermittelt</td>\n",
       "      <td>2021-04-04</td>\n",
       "      <td>2021-04-11</td>\n",
       "      <td>2021-04-01</td>\n",
       "    </tr>\n",
       "  </tbody>\n",
       "</table>\n",
       "<p>3 rows × 21 columns</p>\n",
       "</div>"
      ],
      "text/plain": [
       "         ObjectId  IdBundesland         Bundesland                  Landkreis  \\\n",
       "786423     786424             8  Baden-Württemberg         LK Schwäbisch Hall   \n",
       "1437118   1437119            14            Sachsen         LK Erzgebirgskreis   \n",
       "1527932   1527933            15     Sachsen-Anhalt  LK Altmarkkreis Salzwedel   \n",
       "\n",
       "        Altersgruppe Geschlecht  AnzahlFall  AnzahlTodesfall  \\\n",
       "786423          A80+          W           1                1   \n",
       "1437118      A60-A79          M           1                1   \n",
       "1527932         A80+          M           1                1   \n",
       "\n",
       "                  Meldedatum IdLandkreis  ... NeuerFall  NeuerTodesfall  \\\n",
       "786423   2021/04/04 00:00:00       08127  ...         0               1   \n",
       "1437118  2021/04/04 00:00:00       14521  ...         0               1   \n",
       "1527932  2021/04/04 00:00:00       15081  ...         0               1   \n",
       "\n",
       "                    Refdatum NeuGenesen  AnzahlGenesen  IstErkrankungsbeginn  \\\n",
       "786423   2021/03/27 00:00:00         -9              0                     1   \n",
       "1437118  2021/04/04 00:00:00         -9              0                     0   \n",
       "1527932  2021/04/01 00:00:00         -9              0                     1   \n",
       "\n",
       "             Altersgruppe2 MeldedatumISO DatenstandISO RefdatumISO  \n",
       "786423   Nicht übermittelt    2021-04-04    2021-04-11  2021-03-27  \n",
       "1437118  Nicht übermittelt    2021-04-04    2021-04-11  2021-04-04  \n",
       "1527932  Nicht übermittelt    2021-04-04    2021-04-11  2021-04-01  \n",
       "\n",
       "[3 rows x 21 columns]"
      ]
     },
     "execution_count": 122,
     "metadata": {},
     "output_type": "execute_result"
    }
   ],
   "source": [
    "corona_df[(corona_df['MeldedatumISO'] == '2021-04-04') & (corona_df['NeuerTodesfall'] == 1)]"
   ]
  },
  {
   "cell_type": "code",
   "execution_count": 102,
   "id": "1cc2ed77",
   "metadata": {},
   "outputs": [],
   "source": [
    "grouped_df = pd.DataFrame(corona_df.groupby(['MeldedatumISO','Bundesland']).count()['ObjectId'])\n",
    "grouped_df = grouped_df.stack().to_frame().reset_index()"
   ]
  },
  {
   "cell_type": "code",
   "execution_count": 103,
   "id": "38e9bab6",
   "metadata": {},
   "outputs": [
    {
     "data": {
      "text/plain": [
       "<bound method NDFrame.head of      MeldedatumISO           Bundesland   level_2  0\n",
       "4016    2021-04-04    Baden-Württemberg  ObjectId  2\n",
       "4017    2021-04-04               Bayern  ObjectId  3\n",
       "4018    2021-04-04               Berlin  ObjectId  1\n",
       "4019    2021-04-04          Brandenburg  ObjectId  1\n",
       "4020    2021-04-04        Niedersachsen  ObjectId  3\n",
       "4021    2021-04-04  Nordrhein-Westfalen  ObjectId  3\n",
       "4022    2021-04-04              Sachsen  ObjectId  2\n",
       "4023    2021-04-04       Sachsen-Anhalt  ObjectId  1>"
      ]
     },
     "execution_count": 103,
     "metadata": {},
     "output_type": "execute_result"
    }
   ],
   "source": [
    "res = grouped_df[(grouped_df['MeldedatumISO'] == '2021-04-04')]\n",
    "res"
   ]
  },
  {
   "cell_type": "code",
   "execution_count": 100,
   "id": "bf4572f9",
   "metadata": {},
   "outputs": [],
   "source": [
    "res.columns = ['Datum', 'Bundesland', 'Bla', 'Count Num']"
   ]
  },
  {
   "cell_type": "code",
   "execution_count": 101,
   "id": "5636027f",
   "metadata": {},
   "outputs": [
    {
     "data": {
      "text/plain": [
       "16"
      ]
     },
     "execution_count": 101,
     "metadata": {},
     "output_type": "execute_result"
    }
   ],
   "source": [
    "res['Count Num'].sum()"
   ]
  },
  {
   "cell_type": "code",
   "execution_count": 85,
   "id": "b33560d5",
   "metadata": {},
   "outputs": [
    {
     "data": {
      "text/html": [
       "<div>\n",
       "<style scoped>\n",
       "    .dataframe tbody tr th:only-of-type {\n",
       "        vertical-align: middle;\n",
       "    }\n",
       "\n",
       "    .dataframe tbody tr th {\n",
       "        vertical-align: top;\n",
       "    }\n",
       "\n",
       "    .dataframe thead th {\n",
       "        text-align: right;\n",
       "    }\n",
       "</style>\n",
       "<table border=\"1\" class=\"dataframe\">\n",
       "  <thead>\n",
       "    <tr style=\"text-align: right;\">\n",
       "      <th></th>\n",
       "      <th>MeldedatumISO</th>\n",
       "      <th>Bundesland</th>\n",
       "      <th>level_2</th>\n",
       "      <th>0</th>\n",
       "    </tr>\n",
       "  </thead>\n",
       "  <tbody>\n",
       "    <tr>\n",
       "      <th>6264</th>\n",
       "      <td>2021-04-04</td>\n",
       "      <td>Thüringen</td>\n",
       "      <td>ObjectId</td>\n",
       "      <td>117</td>\n",
       "    </tr>\n",
       "  </tbody>\n",
       "</table>\n",
       "</div>"
      ],
      "text/plain": [
       "     MeldedatumISO Bundesland   level_2    0\n",
       "6264    2021-04-04  Thüringen  ObjectId  117"
      ]
     },
     "execution_count": 85,
     "metadata": {},
     "output_type": "execute_result"
    }
   ],
   "source": [
    "grouped_df[(grouped_df['MeldedatumISO'] == '2021-04-04') & (grouped_df['Bundesland'] == 'Thüringen')]"
   ]
  },
  {
   "cell_type": "code",
   "execution_count": 73,
   "id": "9533a23e",
   "metadata": {},
   "outputs": [
    {
     "data": {
      "text/html": [
       "<div>\n",
       "<style scoped>\n",
       "    .dataframe tbody tr th:only-of-type {\n",
       "        vertical-align: middle;\n",
       "    }\n",
       "\n",
       "    .dataframe tbody tr th {\n",
       "        vertical-align: top;\n",
       "    }\n",
       "\n",
       "    .dataframe thead th {\n",
       "        text-align: right;\n",
       "    }\n",
       "</style>\n",
       "<table border=\"1\" class=\"dataframe\">\n",
       "  <thead>\n",
       "    <tr style=\"text-align: right;\">\n",
       "      <th></th>\n",
       "      <th>MeldedatumISO</th>\n",
       "      <th>Bundesland</th>\n",
       "      <th>level_2</th>\n",
       "      <th>0</th>\n",
       "    </tr>\n",
       "  </thead>\n",
       "  <tbody>\n",
       "    <tr>\n",
       "      <th>6280</th>\n",
       "      <td>2021-04-05</td>\n",
       "      <td>Thüringen</td>\n",
       "      <td>ObjectId</td>\n",
       "      <td>130</td>\n",
       "    </tr>\n",
       "  </tbody>\n",
       "</table>\n",
       "</div>"
      ],
      "text/plain": [
       "     MeldedatumISO Bundesland   level_2    0\n",
       "6280    2021-04-05  Thüringen  ObjectId  130"
      ]
     },
     "execution_count": 73,
     "metadata": {},
     "output_type": "execute_result"
    }
   ],
   "source": [
    "grouped_df[(grouped_df['MeldedatumISO'] == '2021-04-05') & (grouped_df['Bundesland'] == 'Thüringen')]"
   ]
  },
  {
   "cell_type": "code",
   "execution_count": 74,
   "id": "6d0d18f6",
   "metadata": {},
   "outputs": [
    {
     "data": {
      "text/html": [
       "<div>\n",
       "<style scoped>\n",
       "    .dataframe tbody tr th:only-of-type {\n",
       "        vertical-align: middle;\n",
       "    }\n",
       "\n",
       "    .dataframe tbody tr th {\n",
       "        vertical-align: top;\n",
       "    }\n",
       "\n",
       "    .dataframe thead th {\n",
       "        text-align: right;\n",
       "    }\n",
       "</style>\n",
       "<table border=\"1\" class=\"dataframe\">\n",
       "  <thead>\n",
       "    <tr style=\"text-align: right;\">\n",
       "      <th></th>\n",
       "      <th>MeldedatumISO</th>\n",
       "      <th>Bundesland</th>\n",
       "      <th>level_2</th>\n",
       "      <th>0</th>\n",
       "    </tr>\n",
       "  </thead>\n",
       "  <tbody>\n",
       "    <tr>\n",
       "      <th>6296</th>\n",
       "      <td>2021-04-06</td>\n",
       "      <td>Thüringen</td>\n",
       "      <td>ObjectId</td>\n",
       "      <td>238</td>\n",
       "    </tr>\n",
       "  </tbody>\n",
       "</table>\n",
       "</div>"
      ],
      "text/plain": [
       "     MeldedatumISO Bundesland   level_2    0\n",
       "6296    2021-04-06  Thüringen  ObjectId  238"
      ]
     },
     "execution_count": 74,
     "metadata": {},
     "output_type": "execute_result"
    }
   ],
   "source": [
    "grouped_df[(grouped_df['MeldedatumISO'] == '2021-04-06') & (grouped_df['Bundesland'] == 'Thüringen')]"
   ]
  },
  {
   "cell_type": "code",
   "execution_count": 75,
   "id": "eb9bd34b",
   "metadata": {},
   "outputs": [
    {
     "data": {
      "text/html": [
       "<div>\n",
       "<style scoped>\n",
       "    .dataframe tbody tr th:only-of-type {\n",
       "        vertical-align: middle;\n",
       "    }\n",
       "\n",
       "    .dataframe tbody tr th {\n",
       "        vertical-align: top;\n",
       "    }\n",
       "\n",
       "    .dataframe thead th {\n",
       "        text-align: right;\n",
       "    }\n",
       "</style>\n",
       "<table border=\"1\" class=\"dataframe\">\n",
       "  <thead>\n",
       "    <tr style=\"text-align: right;\">\n",
       "      <th></th>\n",
       "      <th>MeldedatumISO</th>\n",
       "      <th>Bundesland</th>\n",
       "      <th>level_2</th>\n",
       "      <th>0</th>\n",
       "    </tr>\n",
       "  </thead>\n",
       "  <tbody>\n",
       "    <tr>\n",
       "      <th>6312</th>\n",
       "      <td>2021-04-07</td>\n",
       "      <td>Thüringen</td>\n",
       "      <td>ObjectId</td>\n",
       "      <td>360</td>\n",
       "    </tr>\n",
       "  </tbody>\n",
       "</table>\n",
       "</div>"
      ],
      "text/plain": [
       "     MeldedatumISO Bundesland   level_2    0\n",
       "6312    2021-04-07  Thüringen  ObjectId  360"
      ]
     },
     "execution_count": 75,
     "metadata": {},
     "output_type": "execute_result"
    }
   ],
   "source": [
    "grouped_df[(grouped_df['MeldedatumISO'] == '2021-04-07') & (grouped_df['Bundesland'] == 'Thüringen')]"
   ]
  },
  {
   "cell_type": "code",
   "execution_count": 76,
   "id": "0d4ed85e",
   "metadata": {},
   "outputs": [
    {
     "data": {
      "text/html": [
       "<div>\n",
       "<style scoped>\n",
       "    .dataframe tbody tr th:only-of-type {\n",
       "        vertical-align: middle;\n",
       "    }\n",
       "\n",
       "    .dataframe tbody tr th {\n",
       "        vertical-align: top;\n",
       "    }\n",
       "\n",
       "    .dataframe thead th {\n",
       "        text-align: right;\n",
       "    }\n",
       "</style>\n",
       "<table border=\"1\" class=\"dataframe\">\n",
       "  <thead>\n",
       "    <tr style=\"text-align: right;\">\n",
       "      <th></th>\n",
       "      <th>MeldedatumISO</th>\n",
       "      <th>Bundesland</th>\n",
       "      <th>level_2</th>\n",
       "      <th>0</th>\n",
       "    </tr>\n",
       "  </thead>\n",
       "  <tbody>\n",
       "    <tr>\n",
       "      <th>6328</th>\n",
       "      <td>2021-04-08</td>\n",
       "      <td>Thüringen</td>\n",
       "      <td>ObjectId</td>\n",
       "      <td>343</td>\n",
       "    </tr>\n",
       "  </tbody>\n",
       "</table>\n",
       "</div>"
      ],
      "text/plain": [
       "     MeldedatumISO Bundesland   level_2    0\n",
       "6328    2021-04-08  Thüringen  ObjectId  343"
      ]
     },
     "execution_count": 76,
     "metadata": {},
     "output_type": "execute_result"
    }
   ],
   "source": [
    "grouped_df[(grouped_df['MeldedatumISO'] == '2021-04-08') & (grouped_df['Bundesland'] == 'Thüringen')]"
   ]
  },
  {
   "cell_type": "code",
   "execution_count": 77,
   "id": "031e1f55",
   "metadata": {},
   "outputs": [
    {
     "data": {
      "text/html": [
       "<div>\n",
       "<style scoped>\n",
       "    .dataframe tbody tr th:only-of-type {\n",
       "        vertical-align: middle;\n",
       "    }\n",
       "\n",
       "    .dataframe tbody tr th {\n",
       "        vertical-align: top;\n",
       "    }\n",
       "\n",
       "    .dataframe thead th {\n",
       "        text-align: right;\n",
       "    }\n",
       "</style>\n",
       "<table border=\"1\" class=\"dataframe\">\n",
       "  <thead>\n",
       "    <tr style=\"text-align: right;\">\n",
       "      <th></th>\n",
       "      <th>MeldedatumISO</th>\n",
       "      <th>Bundesland</th>\n",
       "      <th>level_2</th>\n",
       "      <th>0</th>\n",
       "    </tr>\n",
       "  </thead>\n",
       "  <tbody>\n",
       "    <tr>\n",
       "      <th>6344</th>\n",
       "      <td>2021-04-09</td>\n",
       "      <td>Thüringen</td>\n",
       "      <td>ObjectId</td>\n",
       "      <td>321</td>\n",
       "    </tr>\n",
       "  </tbody>\n",
       "</table>\n",
       "</div>"
      ],
      "text/plain": [
       "     MeldedatumISO Bundesland   level_2    0\n",
       "6344    2021-04-09  Thüringen  ObjectId  321"
      ]
     },
     "execution_count": 77,
     "metadata": {},
     "output_type": "execute_result"
    }
   ],
   "source": [
    "grouped_df[(grouped_df['MeldedatumISO'] == '2021-04-09') & (grouped_df['Bundesland'] == 'Thüringen')]"
   ]
  },
  {
   "cell_type": "code",
   "execution_count": 78,
   "id": "df007533",
   "metadata": {},
   "outputs": [
    {
     "data": {
      "text/html": [
       "<div>\n",
       "<style scoped>\n",
       "    .dataframe tbody tr th:only-of-type {\n",
       "        vertical-align: middle;\n",
       "    }\n",
       "\n",
       "    .dataframe tbody tr th {\n",
       "        vertical-align: top;\n",
       "    }\n",
       "\n",
       "    .dataframe thead th {\n",
       "        text-align: right;\n",
       "    }\n",
       "</style>\n",
       "<table border=\"1\" class=\"dataframe\">\n",
       "  <thead>\n",
       "    <tr style=\"text-align: right;\">\n",
       "      <th></th>\n",
       "      <th>MeldedatumISO</th>\n",
       "      <th>Bundesland</th>\n",
       "      <th>level_2</th>\n",
       "      <th>0</th>\n",
       "    </tr>\n",
       "  </thead>\n",
       "  <tbody>\n",
       "    <tr>\n",
       "      <th>6360</th>\n",
       "      <td>2021-04-10</td>\n",
       "      <td>Thüringen</td>\n",
       "      <td>ObjectId</td>\n",
       "      <td>161</td>\n",
       "    </tr>\n",
       "  </tbody>\n",
       "</table>\n",
       "</div>"
      ],
      "text/plain": [
       "     MeldedatumISO Bundesland   level_2    0\n",
       "6360    2021-04-10  Thüringen  ObjectId  161"
      ]
     },
     "execution_count": 78,
     "metadata": {},
     "output_type": "execute_result"
    }
   ],
   "source": [
    "grouped_df[(grouped_df['MeldedatumISO'] == '2021-04-10') & (grouped_df['Bundesland'] == 'Thüringen')]"
   ]
  }
 ],
 "metadata": {
  "kernelspec": {
   "display_name": "Webscraping Workshop",
   "language": "python",
   "name": "webscraping"
  },
  "language_info": {
   "codemirror_mode": {
    "name": "ipython",
    "version": 3
   },
   "file_extension": ".py",
   "mimetype": "text/x-python",
   "name": "python",
   "nbconvert_exporter": "python",
   "pygments_lexer": "ipython3",
   "version": "3.8.8"
  }
 },
 "nbformat": 4,
 "nbformat_minor": 5
}
