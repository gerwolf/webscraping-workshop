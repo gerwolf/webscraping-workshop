{
 "cells": [
  {
   "cell_type": "markdown",
   "id": "a2acbf6d",
   "metadata": {},
   "source": [
    "![alt text](https://github.com/gerwolf/webscraping-workshop/blob/main/header.PNG?raw=true\")"
   ]
  },
  {
   "cell_type": "markdown",
   "id": "9f90d133",
   "metadata": {},
   "source": [
    "## Course content\n",
    "1. Python basics and collaborative software development (GitHub)\n",
    "2. HTML basics and parsing, IO-Operations\n",
    "3. Programmatic access (APIs)\n",
    "4. Different types of data\n",
    "5. Visualisation techniques and simple analyses\n",
    "6. Web application development basics (your project!)"
   ]
  },
  {
   "cell_type": "markdown",
   "id": "a185110d",
   "metadata": {},
   "source": [
    "## Learning objectives\n",
    "1. Get up-and-running with Python and Jupyter Notebooks\n",
    "2. Obey best practices such as commenting, documenting and sharing results in reproducable and effective ways\n",
    "3. Start to think in an \"algorithmic\" way, i.e. think about how you can resort to computational resources in order to perform repetitive tasks\n",
    "4. Understand how you can deploy a diverse arsenal of (mostly free and complementary) tools and services and subsequently develop your own toolkit and work-flow based on preferences and experiences\n",
    "5. Get used to machine-readable formats and objects\n",
    "6. Learn how to seek help in the extensive open-source community and contribute to it, if you believe you can\n",
    "7. Have fun!"
   ]
  },
  {
   "cell_type": "markdown",
   "id": "c1840f9d",
   "metadata": {},
   "source": [
    "## Software/tools and preliminaries\n",
    "\n",
    "### Software\n",
    "- [x] [Current Anaconda distribution](https://www.anaconda.com/products/individual)\n",
    "- [x] Git installed and authenticated, GitHub and GitHub Desktop (see [installation guide](https://docs.github.com/en/desktop/installing-and-configuring-github-desktop/setting-up-github-desktop), must have a 64-bit OS for GitHub Desktop)\n",
    "- [x] A text editor, e.g. [Sublime Text](https://www.sublimetext.com/)\n",
    "\n",
    "### GitHub repository\n",
    "- [ ] Instantiate a repository on GitHub website incl. `README.md` and `.gitignore` and clone it to your local directory (see video tutorial)\n",
    "- [ ]  Amend the `README.md` (in a text editor of your choice, I use Sublime Text) such that any user can quickly understand what this repository is about. You can find excellent tips and hints for how to properly format your `README.md` [here](https://docs.github.com/en/github/writing-on-github/basic-writing-and-formatting-syntax).\n",
    "\n",
    "### Virtual environment\n",
    "- [ ] Create and activate a virtual environment (see video tutorial)\n",
    "    - [ ] Install the Jupyter module via pip, i.e. `pip install jupyter`\n",
    "    - [ ] Install the Jupyter Notebook kernel module via pip, i.e. `pip install ipykernel`\n",
    "    - [ ] Perform a `pip freeze` and write the `requirements.txt` to your local GitHub folder\n",
    "    \n",
    "### Jupyter Notebook\n",
    "- [ ] Create a new Jupyter Notebook using the installed Kernel (see video tutorial)\n",
    "\n",
    "### GitHub Desktop\n",
    "- [ ] Commit your changes and push them to your repository (see video tutorial). Congratulations, you have just made your first contribution and are now part of the world’s largest Open-Source community!\n",
    "\n",
    "### Check-list\n",
    "- [ ] [GitHub](https://github.com/pricing) (personal user, free)\n",
    "- [ ] [Twitter developer account](https://developer.twitter.com/en/apply-for-access) (you need a Twitter account first and have to submit an application in order to get access to the Twitter API; choose the standard product track and fill out the mandatory fields; approval may take some time and require verification via phone/SMS; store your consumer_key, consumer_secret, access_token_key, access_token_secret row by row as string objects in this order in a .py file e.g. Twitter_API.py))\n",
    "- [ ] [Destatis/GENESIS-Online](https://www-genesis.destatis.de/genesis/online?Menu=Registrierung#abreadcrumb) (choose Registrierter Nutzer and obtain your username and password; store it row by row in this order in a .py file e.g. Genesis_API.py)\n",
    "- [ ] [Spotify developer account](https://developer.spotify.com/documentation/web-api/quick-start/) (you need to register at http://www.spotify.com/ for Premium or Free user); create an app and store your Client ID and Client Secret row by row in this order in a .py file e.g. Spotify_API.py\n",
    "- [ ] [Plotly account](https://chart-studio.plotly.com/Auth/login/?action=signup#/) (obtain your username and API key (Account → Settings → API Keys → Generate Key) and store them row by row in this order in a .py file e.g. Plotly_API.py\n",
    "- [ ] [Heroku account](https://signup.heroku.com/) (for web application hosting and deployment)\n",
    "- [ ] [Slack Desktop](https://slack.com/intl/de-de/downloads/windows) (make sure to join [our Slack group](https://join.slack.com/t/codingbootcam-nmp8973/shared_invite/zt-ofv11epd-PTKTczAm7H2s1OD6XNbK5g) as this will be the main communication tool before and during the workshop)\n",
    "- [ ] Text editor, e.g. [Sublime Text](https://www.sublimetext.com/)"
   ]
  }
 ],
 "metadata": {
  "kernelspec": {
   "display_name": "Webscraping Workshop",
   "language": "python",
   "name": "webscraping"
  },
  "language_info": {
   "codemirror_mode": {
    "name": "ipython",
    "version": 3
   },
   "file_extension": ".py",
   "mimetype": "text/x-python",
   "name": "python",
   "nbconvert_exporter": "python",
   "pygments_lexer": "ipython3",
   "version": "3.8.8"
  }
 },
 "nbformat": 4,
 "nbformat_minor": 5
}
