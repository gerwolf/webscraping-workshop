{
 "cells": [
  {
   "cell_type": "markdown",
   "id": "a2acbf6d",
   "metadata": {},
   "source": [
    "![alt text](https://github.com/gerwolf/webscraping-workshop/blob/main/header.PNG?raw=true\")"
   ]
  },
  {
   "cell_type": "markdown",
   "id": "9f90d133",
   "metadata": {},
   "source": [
    "## Course content\n",
    "1. Python basics and collaborative software development (GitHub)\n",
    "2. HTML basics and parsing, IO-Operations\n",
    "3. Programmatic access (APIs)\n",
    "4. Different types of data\n",
    "5. Visualisation techniques and simple analyses\n",
    "6. Web application development basics (your project!)"
   ]
  },
  {
   "cell_type": "markdown",
   "id": "a185110d",
   "metadata": {},
   "source": [
    "## Learning objectives\n",
    "1. Get up-and-running with Python and Jupyter Notebooks\n",
    "2. Obey best practices such as commenting, documenting and sharing results in reproducable and effective ways\n",
    "3. Start to think in an \"algorithmic\" way, i.e. think about how you can resort to computational resources in order to perform repetitive tasks\n",
    "4. Understand how you can deploy a diverse arsenal of (mostly free and complementary) tools and services and subsequently develop your own toolkit and work-flow based on preferences and experiences\n",
    "5. Get used to machine-readable formats and objects\n",
    "6. Learn how to seek help in the extensive open-source community and contribute to it, if you believe you can\n",
    "7. Have fun!"
   ]
  },
  {
   "cell_type": "markdown",
   "id": "c1840f9d",
   "metadata": {},
   "source": [
    "## Software/tools and preliminaries\n",
    "\n",
    "### Software\n",
    "- [x] [Current Anaconda distribution](https://www.anaconda.com/products/individual)\n",
    "- [x] Git installed and authenticated, GitHub and GitHub Desktop (see [installation guide](https://docs.github.com/en/desktop/installing-and-configuring-github-desktop/setting-up-github-desktop), must have a 64-bit OS for GitHub Desktop)\n",
    "- [x] A text editor, e.g. [Sublime Text](https://www.sublimetext.com/)\n",
    "\n",
    "### GitHub repository\n",
    "- [ ] Instantiate a repository on GitHub website incl. `README.md` and `.gitignore` and clone it to your local directory (see video tutorial)\n",
    "- [ ]  Amend the `README.md` (in a text editor of your choice, I use Sublime Text) such that any user can quickly understand what this repository is about. You can find excellent tips and hints for how to properly format your `README.md` [here](https://docs.github.com/en/github/writing-on-github/basic-writing-and-formatting-syntax).\n",
    "\n",
    "### Virtual environment\n",
    "- [ ] Create and activate a virtual environment (see video tutorial)\n",
    "    - [ ] Install the Jupyter module via pip, i.e. `pip install jupyter`\n",
    "    - [ ] Install the Jupyter Notebook kernel module via pip, i.e. `pip install ipykernel`\n",
    "    - [ ] Perform a `pip freeze` and write the `requirements.txt` to your local GitHub folder\n",
    "    \n",
    "### Jupyter Notebook\n",
    "- [ ] Create a new Jupyter Notebook using the installed Kernel (see video tutorial)\n",
    "\n",
    "### GitHub Desktop\n",
    "- [ ] Commit your changes and push them to your repository (see video tutorial). Congratulations, you have just made your first contribution and are now part of the world’s largest Open-Source community!\n",
    "\n",
    "### Check-list\n",
    "- [ ] [GitHub](https://github.com/pricing) (personal user, free)\n",
    "- [ ] [Twitter developer account](https://developer.twitter.com/en/apply-for-access) (you need a Twitter account first and have to submit an application in order to get access to the Twitter API; choose the standard product track and fill out the mandatory fields; approval may take some time and require verification via phone/SMS; store your consumer_key, consumer_secret, access_token_key, access_token_secret row by row as string objects in this order in a .py file e.g. Twitter_API.py))\n",
    "- [ ] [Destatis/GENESIS-Online](https://www-genesis.destatis.de/genesis/online?Menu=Registrierung#abreadcrumb) (choose Registrierter Nutzer and obtain your username and password; store it row by row in this order in a .py file e.g. Genesis_API.py)\n",
    "- [ ] [Spotify developer account](https://developer.spotify.com/documentation/web-api/quick-start/) (you need to register at http://www.spotify.com/ for Premium or Free user); create an app and store your Client ID and Client Secret row by row in this order in a .py file e.g. Spotify_API.py\n",
    "- [ ] [Plotly account](https://chart-studio.plotly.com/Auth/login/?action=signup#/) (obtain your username and API key (Account → Settings → API Keys → Generate Key) and store them row by row in this order in a .py file e.g. Plotly_API.py\n",
    "- [ ] [Heroku account](https://signup.heroku.com/) (for web application hosting and deployment)\n",
    "- [ ] [Slack Desktop](https://slack.com/intl/de-de/downloads/windows) (make sure to join [our Slack group](https://join.slack.com/t/codingbootcam-nmp8973/shared_invite/zt-ofv11epd-PTKTczAm7H2s1OD6XNbK5g) as this will be the main communication tool before and during the workshop)\n",
    "- [ ] Text editor, e.g. [Sublime Text](https://www.sublimetext.com/)"
   ]
  },
  {
   "cell_type": "markdown",
   "id": "db849da0",
   "metadata": {},
   "source": [
    "## Why all of this?\n",
    "### Why [Python](https://en.wikipedia.org/wiki/Python_(programming_language))?\n",
    "1. Readability, intuitive logic and accessibility\n",
    "2. It's free (Open Source)\n",
    "3. Great documentation (StackOverflow, Books, MOOCs, etc.)\n",
    "4. FOMO - it's all over...and the user base is growing"
   ]
  },
  {
   "cell_type": "markdown",
   "id": "3c55a2a9",
   "metadata": {},
   "source": [
    "The PYPL PopularitY of Programming Language Index is created by analyzing how often language tutorials are searched on Google.\n",
    "\n",
    "<a href=\"https://de.statista.com/statistik/daten/studie/678732/umfrage/beliebteste-programmiersprachen-weltweit-laut-pypl-index/\" rel=\"nofollow\"><img src=\"https://de.statista.com/graphic/1/678732/beliebteste-programmiersprachen-weltweit-laut-pypl-index.jpg\" alt=\"Statistik: Die beliebtesten Programmiersprachen weltweit laut PYPL-Index im April 2021 | Statista\" style=\"width: 60%; height: auto !important; max-width:1000px;-ms-interpolation-mode: bicubic;\"/></a><br />Mehr Statistiken finden Sie bei  <a href=\"https://de.statista.com\" rel=\"nofollow\">Statista</a>"
   ]
  },
  {
   "cell_type": "markdown",
   "id": "0cf35f8d",
   "metadata": {},
   "source": [
    "### Why [Open Source](https://en.wikipedia.org/wiki/Open-source_model) (GitHub etc.)?\n",
    "1. **Participation** and transparency/dissolvement of information asymmetries\n",
    "2. Efficient and effective **communication** through **collaboration**\n",
    "3. Skill development and structure, credible repertoire\n",
    "4. Awareness: Who owns `data`?\n",
    "5. **Network effects** and reduction of **transaction costs**\n",
    "6. Digital **globalisation** and democratization"
   ]
  },
  {
   "cell_type": "markdown",
   "id": "6c6bab03",
   "metadata": {},
   "source": [
    "As of January 2020, GitHub reports having over 40 million users and more than 190 million repositories (including at least 28 million public repositories), making it the largest host of source code in the world."
   ]
  },
  {
   "cell_type": "markdown",
   "id": "1f4a14b7",
   "metadata": {},
   "source": [
    "### Why Webscraping?\n",
    "1. Modern communication/exchange of information/services are transmitted through the internet - but most things happen unnoticedly for the average user (Cookies, IP, `user-agent`, clicks, etc.)\n",
    "2. We disentangle the traffic and learn how to **read** it (e.g. JSON) and then how to **participate** in it in order to accomplish our (research) mission\n",
    "3. Then we usually need to **structure** it, i.e. bring it into a format we can work with, e.g. tables\n",
    "4. Amount of data is growing at incredible speed (storage costs are close to zero) but complexity increases exponentially (if you ask me - others might don't agree) and need to derive **insights** from those data lakes"
   ]
  },
  {
   "cell_type": "markdown",
   "id": "0ceca029",
   "metadata": {},
   "source": [
    "<img src=\"https://camo.githubusercontent.com/6012a6bf037b404c727827e42f2df887810a08e7/687474703a2f2f7777772e616c6c6163636573732e636f6d2f6173736574732f696d672f636f6e74656e742f6d657267652f323032302f6d2d30332d31302d706963312e6a70672e7061676573706565642e63652e664f6b447a6e666e2d4c2e6a7067\" alt=\"Drawing\" data-canonical-src=\"http://www.allaccess.com/assets/img/content/merge/2020/m-03-10-pic1.jpg.pagespeed.ce.fOkDznfn-L.jpg\">"
   ]
  },
  {
   "cell_type": "markdown",
   "id": "283095b7",
   "metadata": {},
   "source": [
    "### Economics & Data Science?\n",
    "\n",
    "#### The fundamental problem of economics (as of 2021) summarized in one cat meme:\n",
    "<img alt=\"\" class=\"oj uv fb fn fk ku v c\" width=\"500\" height=\"375\" role=\"presentation\" src=\"https://miro.medium.com/max/500/1*ZhYNqU2y96_f3QkWq9oiWQ.jpeg\" srcset=\"https://miro.medium.com/max/276/1*ZhYNqU2y96_f3QkWq9oiWQ.jpeg 276w, https://miro.medium.com/max/500/1*ZhYNqU2y96_f3QkWq9oiWQ.jpeg 500w\" sizes=\"500px\">\n",
    "\n",
    "1. Fundamentally different objectives, e.g. w.r.t. causal inference (Economists: **Structural!** Machine Learning people: **Fit!**)\n",
    "2. Tradeoff between interpretability and predictability\n",
    "2. ...but economists need to address changing economies, markets, information problems etc. in a timely manner\n",
    "3. Data Sience tools can complement economic reasoning and the research process in general"
   ]
  },
  {
   "cell_type": "markdown",
   "id": "baa1805b",
   "metadata": {},
   "source": [
    "### About me - Gerome Wolf\n",
    "- BSc Volkswirtschaftslehre (HU Berlin, Bachelor thesis: [\"Cultural modernisation in Germany in the 19th century: First name choices\"](https://drive.google.com/file/d/1T-9apxtAVRYWy7ksiqbx3JzOoq0GNtVB/view?usp=sharing), Economic History)\n",
    "- MSc Economics (UCL, Dissertation: [The equity risk premium puzzle - A cross-country study of asset returns, growth and disaster risk](https://github.com/gerwolf/master-thesis-UCL), Macro Finance)\n",
    "- Currently finishing second masters degree (MSc Volkswirtschaftslehre, HU Berlin), dissertation on imperfect VAT pass-through in a HANK model\n",
    "- I like coding, hacking, prototyping, innovation, `data`, metal music, snowboarding, hiking and animals (cats in particular)\n",
    "- Participated in three Hackathons so far (never won but had an amazing time)\n",
    "- Worked at HelloFresh in BI, commercial and central banks\n",
    "- Worked with many types of data and data sources (time series, spatial, music/voice/audio, images)\n",
    "- Started computer programming 3,5 years in a seminar on ... webscraping :D"
   ]
  },
  {
   "cell_type": "markdown",
   "id": "02f6c83e",
   "metadata": {},
   "source": [
    "### Now it's your turn!\n",
    "1. Background and Affiliation\n",
    "2. Why did you decide to join this workshop?\n",
    "3. Do you have a specific use case / project in mind?\n",
    "4. Previous coding experience?"
   ]
  },
  {
   "cell_type": "code",
   "execution_count": null,
   "id": "41c74174",
   "metadata": {},
   "outputs": [],
   "source": [
    "from random_name import draw_name"
   ]
  },
  {
   "cell_type": "code",
   "execution_count": null,
   "id": "ce472647",
   "metadata": {},
   "outputs": [],
   "source": [
    "draw_name(textfile = 'participants.txt', total_seconds = 120)"
   ]
  },
  {
   "cell_type": "markdown",
   "id": "7b69727a",
   "metadata": {},
   "source": [
    "## Schedule*\n",
    "| Date | Start | End | Content | Type |\n",
    "| --- | --- | --- | --- | --- |\n",
    "| **Wednesday, 14/04/2021** | 10:00<br><br>11:30<br><br>11:45<br><br>13:00<br><br>14:00<br><br>15:00 | 11:30<br><br>11:45<br><br>13:00<br><br>14:00<br><br>15:00<br><br>16:30 | Welcome, Intro & Who is who?<br><br>GitHub, Anaconda & Jupyter NB/Markdown<br><br>Python Basics<br><br>Break<br><br>Python Basics Challenge<br><br>Webscraping I | Plenum<br><br>Plenum<br><br>Plenum<br><br><br><br>Indiviual<br><br>Plenum|\n",
    "|  |  |  |  |  |\n",
    "| **Thurday, 15/04/2021** | 10:00<br><br>11:00<br><br>13:00<br><br>14:00<br><br>15:00 | 11:00<br><br>13:00<br><br>14:00<br><br>15:00<br><br>16:30 | Webscraping II + Visualisation<br><br>API Basics<br><br>Break<br><br>Spatial libraries + Visualisation<br><br>Spatial routines + Application |Plenum<br><br>Plenum<br><br><br><br>Plenum<br><br>Individual/Plenum|\n",
    "|  |  |  |  |  |\n",
    "| **Friday, 16/04/2021** | 10:00<br><br>10:30<br><br>11:00<br><br>11:15<br><br>11:30<br><br>13:00<br><br>14:00<br><br>16:00<br><br>16:30| 10:30<br><br>11:00<br><br>11:15<br><br>11:30<br><br>13:00<br><br>14:00<br><br>16:00<br><br>16:30<br><br>17:00 | Browser Automation (Selenium) <br><br>Flask App Basics + Deployment<br><br>Challenges announcement<br><br>Group discussion + decision<br><br>Group work I<br><br>Break<br><br>Group work II<br><br>Demoing + Wrapping it up<br><br>Virtual Friday Beers (Q&A) | Plenum<br><br>Plenum<br><br>Plenum<br><br>Breakout groups<br><br>Breakout groups<br><br><br><br>Breakout groups<br><br>Plenum<br><br>Optional |\n",
    "*subject to changes, depending on pace and flow"
   ]
  },
  {
   "cell_type": "markdown",
   "id": "47fc7ca7",
   "metadata": {},
   "source": [
    "### How we will learn\n",
    "- *Learning by doing* - minimum amount of theory and instructions, maximum amount of applications, implementing and hacking\n",
    "- Individually - *exercises and challenges*\n",
    "- Groups - *main project and collaboration*"
   ]
  },
  {
   "cell_type": "markdown",
   "id": "7b7d6112",
   "metadata": {},
   "source": [
    "### Literature\n",
    "\n",
    "<img src=\"https://covers.oreillystatic.com/images/0636920034391/lrg.jpg\" alt=\"Drawing\" style=\"width: \n",
    "400px;\"/>\n",
    "\n",
    "[Web scraping with Python](http://shop.oreilly.com/product/0636920034391.do) with [Code examples](https://github.com/REMitchell/python-scraping)\n",
    "<br>\n",
    "<br>\n",
    "\n",
    "\n",
    "___\n",
    "\n",
    "                \n",
    "**Contact: Gerome Wolf** (Email: wolfgerome@gmail.com)"
   ]
  }
 ],
 "metadata": {
  "kernelspec": {
   "display_name": "Webscraping Workshop",
   "language": "python",
   "name": "webscraping"
  },
  "language_info": {
   "codemirror_mode": {
    "name": "ipython",
    "version": 3
   },
   "file_extension": ".py",
   "mimetype": "text/x-python",
   "name": "python",
   "nbconvert_exporter": "python",
   "pygments_lexer": "ipython3",
   "version": "3.8.8"
  }
 },
 "nbformat": 4,
 "nbformat_minor": 5
}
