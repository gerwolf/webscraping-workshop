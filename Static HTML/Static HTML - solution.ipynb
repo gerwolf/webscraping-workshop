{
 "cells": [
  {
   "cell_type": "markdown",
   "id": "00505bd6",
   "metadata": {},
   "source": [
    "# Obtaining, parsing and structuring static HTML websites\n",
    "\n",
    "In this notebook we will learn how to scrape basic static, i.e. non-interactive HTML-based websites. We will\n",
    "- obtain the HTML raw content using the `requests` module\n",
    "- convert the raw HTML into a format that is easier to search, or parse, using the `BeautifulSoup` module\n",
    "- learn how to identify the elements of interest in the raw HTML using the browser's inspect functionality and the CSS SelectorGadget\n",
    "- construct a table, or dataframe, with the popular table calculation module `pandas` and store the output locally in a standard spreadsheet format"
   ]
  },
  {
   "cell_type": "markdown",
   "id": "0bb6a337",
   "metadata": {},
   "source": [
    "1. Open the Anaconda Prompt and install the module `requests`"
   ]
  },
  {
   "cell_type": "code",
   "execution_count": 1,
   "id": "6f0033dd",
   "metadata": {},
   "outputs": [],
   "source": [
    "import requests"
   ]
  },
  {
   "cell_type": "code",
   "execution_count": 2,
   "id": "245f6de4",
   "metadata": {},
   "outputs": [],
   "source": [
    "seed = 'https://www.uni-potsdam.de/de/'"
   ]
  },
  {
   "cell_type": "markdown",
   "id": "37c7ca65",
   "metadata": {},
   "source": [
    "2. What data type is the object `seed`? How can you check?"
   ]
  },
  {
   "cell_type": "code",
   "execution_count": 3,
   "id": "0d94dfd7",
   "metadata": {},
   "outputs": [
    {
     "data": {
      "text/plain": [
       "str"
      ]
     },
     "execution_count": 3,
     "metadata": {},
     "output_type": "execute_result"
    }
   ],
   "source": [
    "type(seed)"
   ]
  },
  {
   "cell_type": "markdown",
   "id": "6577ae4e",
   "metadata": {},
   "source": [
    "3. Is this domain an admissible path? Hint: Check the `robots.txt`"
   ]
  },
  {
   "cell_type": "code",
   "execution_count": 4,
   "id": "39c15aad",
   "metadata": {},
   "outputs": [],
   "source": [
    "html = requests.get(seed)"
   ]
  },
  {
   "cell_type": "markdown",
   "id": "87ba7a26",
   "metadata": {},
   "source": [
    "4. Was the request successful? How can you check the status? Hint: Check the available methods by using Jupyter's auto-complete functionality, i.e. type a dot at the end of the object you're investigating followed by <kbd>Tab</kbd>"
   ]
  },
  {
   "cell_type": "code",
   "execution_count": 5,
   "id": "5e29a831",
   "metadata": {},
   "outputs": [
    {
     "data": {
      "text/plain": [
       "200"
      ]
     },
     "execution_count": 5,
     "metadata": {},
     "output_type": "execute_result"
    }
   ],
   "source": [
    "html.status_code"
   ]
  },
  {
   "cell_type": "markdown",
   "id": "1a2239b1",
   "metadata": {},
   "source": [
    "5. Which method could be most informative w.r.t. actual content? How many characters long is the raw HTML file?"
   ]
  },
  {
   "cell_type": "code",
   "execution_count": 7,
   "id": "ae92d257",
   "metadata": {},
   "outputs": [
    {
     "data": {
      "text/plain": [
       "65760"
      ]
     },
     "execution_count": 7,
     "metadata": {},
     "output_type": "execute_result"
    }
   ],
   "source": [
    "len(html.text)"
   ]
  },
  {
   "cell_type": "markdown",
   "id": "d1bc53b3",
   "metadata": {},
   "source": [
    "6. Display the first 518 characters of the `html` object."
   ]
  },
  {
   "cell_type": "code",
   "execution_count": 9,
   "id": "6a05bce4",
   "metadata": {},
   "outputs": [
    {
     "data": {
      "text/plain": [
       "'<!DOCTYPE html><html dir=\"ltr\" lang=\"de-DE\"><head><meta charset=\"utf-8\"><!-- benaja - web solutions (www.benaja-websolutions.com) Markus Meier, Roland Brandt und Tobias Gaertner GbR This website is powered by TYPO3 - inspiring people to share! TYPO3 is a free open source Content Management Framework initially created by Kasper Skaarhoj and licensed under GNU/GPL. TYPO3 is copyright 1998-2021 of Kasper Skaarhoj. Extensions are copyright of their respective owners. Information and contribution at https://typo3.org/'"
      ]
     },
     "execution_count": 9,
     "metadata": {},
     "output_type": "execute_result"
    }
   ],
   "source": [
    "html.text[:518]"
   ]
  },
  {
   "cell_type": "markdown",
   "id": "e32fe467",
   "metadata": {},
   "source": [
    "7. Display meta information on the origin of the HTTP request, e.g. date. Note that it is possible to specify the `user-agent` that the server receives and provides the response (website representation) such that it optimised, e.g. Desktop vs. mobile. If it's not specified, the request will be sent using default values (potentially) containing information about your operating system, screen resolution, keyboard language, IP address and many more."
   ]
  },
  {
   "cell_type": "code",
   "execution_count": 10,
   "id": "23744022",
   "metadata": {},
   "outputs": [
    {
     "data": {
      "text/plain": [
       "{'Date': 'Wed, 14 Apr 2021 07:42:38 GMT', 'Server': 'Apache/2.4.29 (Ubuntu)', 'Vary': 'Accept-Encoding', 'Last-Modified': 'Wed, 14 Apr 2021 06:00:06 GMT', 'Accept-Ranges': 'bytes', 'Content-Length': '11792', 'Cache-Control': 'max-age=0', 'Expires': 'Wed, 14 Apr 2021 07:42:38 GMT', 'X-UA-Compatible': 'IE=edge', 'X-Content-Type-Options': 'nosniff', 'Content-Encoding': 'gzip', 'Keep-Alive': 'timeout=5, max=100', 'Connection': 'Keep-Alive', 'Content-Type': 'text/html; charset=utf-8'}"
      ]
     },
     "execution_count": 10,
     "metadata": {},
     "output_type": "execute_result"
    }
   ],
   "source": [
    "html.headers"
   ]
  },
  {
   "cell_type": "markdown",
   "id": "7b5ee423",
   "metadata": {},
   "source": [
    "The cell below saves the HTML object's text attribute in HTML format locally."
   ]
  },
  {
   "cell_type": "code",
   "execution_count": null,
   "id": "ce1d0633",
   "metadata": {},
   "outputs": [],
   "source": [
    "with open('Uni_Potsdam.html', 'w', encoding='utf-8') as f:\n",
    "    \n",
    "    f.write(html.text)"
   ]
  },
  {
   "cell_type": "markdown",
   "id": "1da94971",
   "metadata": {},
   "source": [
    "8. Install the module `BeautifulSoup` via `pip install beautifulsoup4`"
   ]
  },
  {
   "cell_type": "code",
   "execution_count": 7,
   "id": "909ff5c1",
   "metadata": {},
   "outputs": [],
   "source": [
    "from bs4 import BeautifulSoup"
   ]
  },
  {
   "cell_type": "code",
   "execution_count": 6,
   "id": "5c2f8164",
   "metadata": {},
   "outputs": [
    {
     "ename": "NameError",
     "evalue": "name 'BeautifulSoup' is not defined",
     "output_type": "error",
     "traceback": [
      "\u001b[1;31m---------------------------------------------------------------------------\u001b[0m",
      "\u001b[1;31mNameError\u001b[0m                                 Traceback (most recent call last)",
      "\u001b[1;32m<ipython-input-6-5e66e641e9c3>\u001b[0m in \u001b[0;36m<module>\u001b[1;34m\u001b[0m\n\u001b[1;32m----> 1\u001b[1;33m \u001b[0msoup\u001b[0m \u001b[1;33m=\u001b[0m \u001b[0mBeautifulSoup\u001b[0m\u001b[1;33m(\u001b[0m\u001b[0mhtml\u001b[0m\u001b[1;33m.\u001b[0m\u001b[0mtext\u001b[0m\u001b[1;33m,\u001b[0m \u001b[1;34m\"html.parser\"\u001b[0m\u001b[1;33m)\u001b[0m\u001b[1;33m\u001b[0m\u001b[1;33m\u001b[0m\u001b[0m\n\u001b[0m",
      "\u001b[1;31mNameError\u001b[0m: name 'BeautifulSoup' is not defined"
     ]
    }
   ],
   "source": [
    "soup = BeautifulSoup(html.text, \"html.parser\")"
   ]
  },
  {
   "cell_type": "markdown",
   "id": "c37c98e9",
   "metadata": {},
   "source": [
    "9. Parse the BeautifulSoup object `soup` for all Affiliate Links. Hint: In a HTML document all elements that lead to another domain are indicated by an `a` and follow the structure `<a href=\"...\", ... >text</a>`. Hint: Use `soup`'s method `find_all()` where the input argument is the elements' prefix. What object type is the output? Can you iterate over it? How many elements of an Affiliate Link type are contained in the HTML file?"
   ]
  },
  {
   "cell_type": "code",
   "execution_count": null,
   "id": "2b517d39",
   "metadata": {},
   "outputs": [],
   "source": []
  },
  {
   "cell_type": "markdown",
   "id": "bfc92243",
   "metadata": {},
   "source": [
    "10. Convert the BeautifulSoup object into a \"plain\" Python list object containing the elements' **text** attributes by iterating over it. Hint: Instantiate an empty `list` object, write a for-loop and `append` each element to the list object. You may also remove any unwanted whitespaces by using the `strip` function."
   ]
  },
  {
   "cell_type": "code",
   "execution_count": null,
   "id": "7aae91c7",
   "metadata": {},
   "outputs": [],
   "source": [
    "empty_list = []\n",
    "\n",
    "for link in soup.find_all('a'):\n",
    "    \n",
    "    empty_list.append(link.text.strip())"
   ]
  },
  {
   "cell_type": "markdown",
   "id": "208a5535",
   "metadata": {},
   "source": [
    "#### Pro-Tipp\n",
    "Instead of explicitly writing a for-loop when disentangling specific objects from an aggregate object you can use Python's built-in `map` and `lambda` functions as a one-liner."
   ]
  },
  {
   "cell_type": "code",
   "execution_count": null,
   "id": "28dcb515",
   "metadata": {},
   "outputs": [],
   "source": [
    "results_list = list(map(lambda x: x.text.strip(), soup.find_all('a')))"
   ]
  },
  {
   "cell_type": "markdown",
   "id": "e6a6893c",
   "metadata": {},
   "source": [
    "11. Identify the element which text attribute's value is equal to \"alle Artikel\". Return the element's position (`index`) within the list."
   ]
  },
  {
   "cell_type": "code",
   "execution_count": null,
   "id": "24f2330e",
   "metadata": {},
   "outputs": [],
   "source": [
    "results_list.index('alle Artikel')"
   ]
  },
  {
   "cell_type": "markdown",
   "id": "cb6fd787",
   "metadata": {},
   "source": [
    "12. Obtain this element's value of the `href` attribute. It should be an URL pointing at the domain where the news at Universität Potsdam are collected."
   ]
  },
  {
   "cell_type": "code",
   "execution_count": null,
   "id": "274d63bd",
   "metadata": {},
   "outputs": [],
   "source": [
    "new_seed = soup.find_all('a')[224].get('href')"
   ]
  },
  {
   "cell_type": "code",
   "execution_count": null,
   "id": "25c697a9",
   "metadata": {},
   "outputs": [],
   "source": [
    "new_seed"
   ]
  },
  {
   "cell_type": "markdown",
   "id": "7c0a9f9f",
   "metadata": {},
   "source": [
    "13. Write a function which takes a String-type object (e.g. an URL) as input and returns a readily parse-able `BeautifulSoup` object."
   ]
  },
  {
   "cell_type": "code",
   "execution_count": null,
   "id": "c45fd447",
   "metadata": {},
   "outputs": [],
   "source": [
    "def URL_to_BS(url):\n",
    "    \n",
    "    html = requests.get(url)\n",
    "    soup = BeautifulSoup(html.text, \"html.parser\")\n",
    "    \n",
    "    return soup"
   ]
  },
  {
   "cell_type": "code",
   "execution_count": null,
   "id": "76d13dd0",
   "metadata": {},
   "outputs": [],
   "source": [
    "news_soup = URL_to_BS(new_seed)"
   ]
  },
  {
   "cell_type": "markdown",
   "id": "02264a81",
   "metadata": {},
   "source": [
    "14. Open the `new_seed` URL in your browser and enable the CSS SelectorGadget. Highlight the box containing the first article. The other, similar boxes should be highlighted as well. Copy the identified CSS selector and parse through the `news_soup` object but this time over elements corresponding to the CSS selector you found (use `.select()` instead of `find_all()`). Store the subset of elements in a list. You can achieve all of this in one line of code. How many items does this list contain?"
   ]
  },
  {
   "cell_type": "code",
   "execution_count": null,
   "id": "8f3b3977",
   "metadata": {},
   "outputs": [],
   "source": [
    "news_list = list(map(lambda x: x, news_soup.select('.up-news-list-item')))"
   ]
  },
  {
   "cell_type": "code",
   "execution_count": null,
   "id": "32c8a0cc",
   "metadata": {},
   "outputs": [],
   "source": [
    "len(news_list)"
   ]
  },
  {
   "cell_type": "markdown",
   "id": "22698b48",
   "metadata": {},
   "source": [
    "15. Split the list's elements into their hyperlinks (`href`) and text attributes' values."
   ]
  },
  {
   "cell_type": "code",
   "execution_count": null,
   "id": "949ac1c9",
   "metadata": {},
   "outputs": [],
   "source": [
    "link_list = []\n",
    "title_list = []\n",
    "\n",
    "for link_num in range(len(news_list)):\n",
    "    \n",
    "    sub_link = news_list[link_num].findChild(\"a\")['href']\n",
    "    sub_title = news_list[link_num].findChild(\"a\")['title']\n",
    "    \n",
    "    if type(sub_link) is str and 'www' not in sub_link:\n",
    "        \n",
    "        link_list.append('https://www.uni-potsdam.de' + sub_link)\n",
    "        title_list.append(sub_title)"
   ]
  },
  {
   "cell_type": "code",
   "execution_count": null,
   "id": "3680ed91",
   "metadata": {},
   "outputs": [],
   "source": [
    "lot = list(zip(title_list, link_list))"
   ]
  },
  {
   "cell_type": "code",
   "execution_count": null,
   "id": "54b54191",
   "metadata": {},
   "outputs": [],
   "source": [
    "D = dict(lot)"
   ]
  },
  {
   "cell_type": "code",
   "execution_count": null,
   "id": "9f9d0c03",
   "metadata": {},
   "outputs": [],
   "source": [
    "import json"
   ]
  },
  {
   "cell_type": "code",
   "execution_count": null,
   "id": "cc854f3d",
   "metadata": {},
   "outputs": [],
   "source": [
    "with open('Uni_Potsdam_dict.json', 'w', encoding='utf-8') as f:\n",
    "    \n",
    "    json.dump(D, f, ensure_ascii=False)"
   ]
  },
  {
   "cell_type": "code",
   "execution_count": null,
   "id": "caa44ba2",
   "metadata": {},
   "outputs": [],
   "source": [
    "with open('Uni_Potsdam_dict.json', 'r', encoding='utf-8') as f:\n",
    "    \n",
    "    D_read = json.load(f)"
   ]
  },
  {
   "cell_type": "code",
   "execution_count": null,
   "id": "f4eb2b22",
   "metadata": {},
   "outputs": [],
   "source": [
    "D == D_read"
   ]
  },
  {
   "cell_type": "markdown",
   "id": "2f7b1a92",
   "metadata": {},
   "source": [
    "## Pagination\n",
    "You have probably realised that the articles presented on the first news page are not the entire collection of the University of Potsdam. Your goal is to retrieve a complete collection of all articles that are available on the university's website and you can easily apply your new knowledge in a repetive manner."
   ]
  },
  {
   "cell_type": "markdown",
   "id": "241ac12e",
   "metadata": {},
   "source": [
    "16. Figure out how many pages containing articles content there are in total. You can do it manually by e.g. inspecting the URL when you proceed through the collection in your browser or by checking it programmatically by writing a `while` loop that continues until some condition, such as a status returned from your request, is violated. Make sure to include a short pause (1 second) in order not to overcharge the server that in some cases could lead to a temporary ban of your device."
   ]
  },
  {
   "cell_type": "code",
   "execution_count": null,
   "id": "eab3777a",
   "metadata": {},
   "outputs": [],
   "source": [
    "import time\n",
    "\n",
    "articles_links = []\n",
    "\n",
    "counter = 0\n",
    "\n",
    "test_seed = 'https://www.uni-potsdam.de/de/nachrichten/'\n",
    "test_html = requests.get(seed)\n",
    "status = test_html.status_code\n",
    "\n",
    "while status == 200:\n",
    "    \n",
    "    print('Scraping page ' + str(counter) + '.')\n",
    "    \n",
    "    if counter < 1:\n",
    "        \n",
    "        seed = 'https://www.uni-potsdam.de/de/nachrichten/'\n",
    "        \n",
    "        html = requests.get(seed)\n",
    "        \n",
    "        status = html.status_code\n",
    "        \n",
    "        soup = BeautifulSoup(html.text, \"html.parser\")\n",
    "        \n",
    "        news_list = list(map(lambda x: x, soup.select('.up-news-list-item')))\n",
    "        \n",
    "        link_list = []\n",
    "        title_list = []\n",
    "\n",
    "        for link_num in range(len(news_list)):\n",
    "    \n",
    "            sub_link = news_list[link_num].findChild(\"a\")['href']\n",
    "            sub_title = news_list[link_num].findChild(\"a\")['title']\n",
    "    \n",
    "            if type(sub_link) is str and 'www' not in sub_link:\n",
    "        \n",
    "                link_list.append('https://www.uni-potsdam.de' + sub_link)\n",
    "                title_list.append(sub_title)\n",
    "        \n",
    "        articles_links.extend(link_list)\n",
    "        \n",
    "    elif counter >= 1:\n",
    "        \n",
    "        seed = 'https://www.uni-potsdam.de/de/nachrichten/page-{}'.format(str(counter+1))\n",
    "        \n",
    "        html = requests.get(seed)\n",
    "        \n",
    "        status = html.status_code\n",
    "        \n",
    "        soup = BeautifulSoup(html.text, \"html.parser\")\n",
    "        \n",
    "        news_list = list(map(lambda x: x, soup.select('.up-news-list-item')))\n",
    "        \n",
    "        link_list = []\n",
    "        title_list = []\n",
    "\n",
    "        for link_num in range(len(news_list)):\n",
    "    \n",
    "            sub_link = news_list[link_num].findChild(\"a\")['href']\n",
    "            sub_title = news_list[link_num].findChild(\"a\")['title']\n",
    "    \n",
    "            if type(sub_link) is str and 'www' not in sub_link:\n",
    "        \n",
    "                link_list.append('https://www.uni-potsdam.de' + sub_link)\n",
    "                title_list.append(sub_title)\n",
    "        \n",
    "        articles_links.extend(link_list)\n",
    "        \n",
    "    counter += 1\n",
    "    \n",
    "    time.sleep(1)"
   ]
  },
  {
   "cell_type": "code",
   "execution_count": null,
   "id": "933b987b",
   "metadata": {},
   "outputs": [],
   "source": [
    "with open('articles_links.txt', 'w') as output:\n",
    "    \n",
    "    output.writelines(\"%s\\n\" % line for line in articles_links)"
   ]
  },
  {
   "cell_type": "markdown",
   "id": "3693f72e",
   "metadata": {},
   "source": [
    "17. Read in the JSON file you stored in step 17 and iterate over each hyperlink. Split the list into 4 evenly sized chunks and iterate over each chunk. In each iteration, obtain the HTML, parse it and identify the elements of the publication date, the contact, the contact's email address, the image's hyperlink/reference and the main text body's length. Note that some, or even all, of these elements may not be available. Define an appropriate data type for each field and append it **as a dictionary** in each iteration to a list."
   ]
  },
  {
   "cell_type": "code",
   "execution_count": 8,
   "id": "feb711d6",
   "metadata": {},
   "outputs": [],
   "source": [
    "articles_links_r = []\n",
    "\n",
    "with open('articles_links.txt', 'r') as filehandle:\n",
    "    lines = filehandle.readlines()\n",
    "\n",
    "    for line in lines:\n",
    "        # remove linebreak which is the last character of the string\n",
    "        current_line = line[:-1]\n",
    "\n",
    "        articles_links_r.append(current_line)"
   ]
  },
  {
   "cell_type": "code",
   "execution_count": null,
   "id": "62804eab",
   "metadata": {},
   "outputs": [],
   "source": [
    "articles_links_r == articles_links"
   ]
  },
  {
   "cell_type": "code",
   "execution_count": 9,
   "id": "3b21f511",
   "metadata": {},
   "outputs": [],
   "source": [
    "chunk_list = []\n",
    "\n",
    "chunk_size = 250\n",
    "iteration = 0\n",
    "\n",
    "max_it = int(len(articles_links_r) / chunk_size)\n",
    "\n",
    "for chunk_id in range(max_it):\n",
    "    \n",
    "    begin_index = iteration * chunk_size\n",
    "    end_index = iteration * chunk_size + chunk_size\n",
    "    \n",
    "    chunk = articles_links_r[begin_index:end_index]\n",
    "    \n",
    "    chunk_list.append(chunk)\n",
    "    \n",
    "    iteration += 1"
   ]
  },
  {
   "cell_type": "code",
   "execution_count": 10,
   "id": "20924d64",
   "metadata": {},
   "outputs": [
    {
     "data": {
      "application/vnd.jupyter.widget-view+json": {
       "model_id": "ff9d253d59db421fac484e82fb5f27d1",
       "version_major": 2,
       "version_minor": 0
      },
      "text/plain": [
       "  0%|          | 0/250 [00:00<?, ?it/s]"
      ]
     },
     "metadata": {},
     "output_type": "display_data"
    },
    {
     "name": "stdout",
     "output_type": "stream",
     "text": [
      "33.65146088600159\n"
     ]
    }
   ],
   "source": [
    "from tqdm.notebook import tqdm\n",
    "import time\n",
    "\n",
    "start = time.time()\n",
    "\n",
    "results_list = []\n",
    "\n",
    "for link in tqdm(chunk_list[0]):\n",
    "    \n",
    "    empty_dict = {}\n",
    "    \n",
    "    html = requests.get(link)\n",
    "    soup = BeautifulSoup(html.text, \"html.parser\")\n",
    "    \n",
    "    try:\n",
    "        publication_date = soup.findAll(class_ =['time', 'up-news-single-date'])[0].text.strip()\n",
    "    except:\n",
    "        publication_date = 'No publication date found.'\n",
    "    \n",
    "    try:\n",
    "        author_name = soup.findAll(class_ =['up-news-single-author'])[0].text[5:].strip()\n",
    "    except:\n",
    "        author_name = 'No author found.'\n",
    "    \n",
    "    try:\n",
    "        image_list = list(map(lambda x: x, soup.select('img')))\n",
    "        image_url = ['https://www.uni-potsdam.de' + x['src'] for x in image_list if x['src'][-4:] == \".jpg\"][0]\n",
    "    except:\n",
    "        image_url = \"No image found.\"\n",
    "        \n",
    "    try:\n",
    "        abstract = soup.select('.up-opener-text-with-border')[0].text.strip()\n",
    "        abstract_length = str(len(abstract))\n",
    "    except:\n",
    "        abstract = 'No abstract found.'\n",
    "        abstract_length = 0\n",
    "        \n",
    "    empty_dict['URL'] = link\n",
    "    empty_dict['Publication date'] = publication_date\n",
    "    empty_dict['Author Name'] = author_name\n",
    "    empty_dict['Image URL'] = image_url\n",
    "    empty_dict['Abstract'] = abstract\n",
    "    empty_dict['Abstract Length'] = int(abstract_length)\n",
    "    \n",
    "    results_list.append(empty_dict)\n",
    "        \n",
    "end = time.time()\n",
    "\n",
    "print(end - start)"
   ]
  },
  {
   "cell_type": "markdown",
   "id": "7cb0a672",
   "metadata": {},
   "source": [
    "## Asynchronous HTTP requests"
   ]
  },
  {
   "cell_type": "markdown",
   "id": "8cd30c75",
   "metadata": {},
   "source": [
    "18. Install the libaries `asyncio`, `aiohttp` and `tqdm`."
   ]
  },
  {
   "cell_type": "code",
   "execution_count": 11,
   "id": "09e85e6c",
   "metadata": {},
   "outputs": [],
   "source": [
    "import asyncio\n",
    "import aiohttp\n",
    "import bs4\n",
    "import tqdm"
   ]
  },
  {
   "cell_type": "code",
   "execution_count": 12,
   "id": "ae44f47b",
   "metadata": {},
   "outputs": [],
   "source": [
    "import nest_asyncio\n",
    "nest_asyncio.apply()\n",
    "\n",
    "async def get(*args, **kwargs):\n",
    "    \n",
    "    async with aiohttp.ClientSession() as session:\n",
    "        \n",
    "        async with session.get(*args, **kwargs) as resp:\n",
    "            return (await resp.text())\n",
    "        \n",
    "def get_fields(page):\n",
    "    \n",
    "    soup = bs4.BeautifulSoup(page, \"html.parser\")\n",
    "    \n",
    "    try:\n",
    "        publication_date = soup.findAll(class_ =['time', 'up-news-single-date'])[0].text.strip()\n",
    "    except:\n",
    "        publication_date = 'No publication date found.'\n",
    "        \n",
    "    try:\n",
    "        author_name = soup.findAll(class_ =['up-news-single-author'])[0].text[5:].strip()\n",
    "    except:\n",
    "        author_name = 'No author found.'\n",
    "    \n",
    "    try:\n",
    "        image_list = list(map(lambda x: x, soup.select('img')))\n",
    "        image_url = ['https://www.uni-potsdam.de' + x['src'] for x in image_list if x['src'][-4:] == \".jpg\"][0]\n",
    "    except:\n",
    "        image_url = \"No image found.\"\n",
    "        \n",
    "    try:\n",
    "        abstract = soup.select('.up-opener-text-with-border')[0].text.strip()\n",
    "        abstract_length = str(len(abstract))\n",
    "    except:\n",
    "        abstract = 'No abstract found.'\n",
    "        abstract_length = 0\n",
    "    \n",
    "    return publication_date, author_name, image_url, abstract, abstract_length\n",
    "\n",
    "\n",
    "async def save_fields(query):\n",
    "    \n",
    "    url = query\n",
    "    \n",
    "    async with sem:\n",
    "        \n",
    "        page = await get(url, compress=True)\n",
    "        \n",
    "        empty_dict = {}\n",
    "    \n",
    "        [publication_date, author_name, image_url, abstract, abstract_length] = get_fields(page)\n",
    "    \n",
    "        empty_dict['URL'] = url\n",
    "        empty_dict['Publication date'] = publication_date\n",
    "        empty_dict['Author Name'] = author_name\n",
    "        empty_dict['Image URL'] = image_url\n",
    "        empty_dict['Abstract'] = abstract\n",
    "        empty_dict['Abstract Length'] = int(abstract_length)\n",
    "    \n",
    "        results_list.append(empty_dict)\n",
    "\n",
    "sem = asyncio.Semaphore(5)"
   ]
  },
  {
   "cell_type": "code",
   "execution_count": 13,
   "id": "8932442e",
   "metadata": {},
   "outputs": [
    {
     "name": "stderr",
     "output_type": "stream",
     "text": [
      "100%|████████████████████████████████████████████████████████████████████████████████| 250/250 [00:17<00:00, 14.55it/s]"
     ]
    },
    {
     "name": "stdout",
     "output_type": "stream",
     "text": [
      "17.186518907546997\n"
     ]
    },
    {
     "name": "stderr",
     "output_type": "stream",
     "text": [
      "\n"
     ]
    }
   ],
   "source": [
    "start = time.time()\n",
    "\n",
    "results_list = []\n",
    "\n",
    "loop = asyncio.get_event_loop()\n",
    "\n",
    "tasks = []\n",
    "\n",
    "for link in chunk_list[0]:\n",
    "        \n",
    "    task = asyncio.ensure_future(save_fields(link))\n",
    "    tasks.append(task)\n",
    "\n",
    "responses = [await f for f in tqdm.tqdm(asyncio.as_completed(tasks), total=len(tasks))]\n",
    "\n",
    "result = loop.run_until_complete(asyncio.wait(tasks))\n",
    "\n",
    "end = time.time()\n",
    "\n",
    "print(end - start)"
   ]
  },
  {
   "cell_type": "code",
   "execution_count": 14,
   "id": "230eeb5f",
   "metadata": {},
   "outputs": [
    {
     "name": "stdout",
     "output_type": "stream",
     "text": [
      "59.02334189414978\n"
     ]
    }
   ],
   "source": [
    "start = time.time()\n",
    "\n",
    "results_list = []\n",
    "\n",
    "loop = asyncio.get_event_loop()\n",
    "f = asyncio.wait([save_fields(d) for d in articles_links_r])\n",
    "result = loop.run_until_complete(f)\n",
    "\n",
    "end = time.time()\n",
    "\n",
    "print(end - start)"
   ]
  },
  {
   "cell_type": "code",
   "execution_count": 15,
   "id": "900fe8f3",
   "metadata": {},
   "outputs": [
    {
     "data": {
      "text/plain": [
       "999"
      ]
     },
     "execution_count": 15,
     "metadata": {},
     "output_type": "execute_result"
    }
   ],
   "source": [
    "len(results_list)"
   ]
  },
  {
   "cell_type": "code",
   "execution_count": 16,
   "id": "51495ee5",
   "metadata": {},
   "outputs": [
    {
     "data": {
      "text/plain": [
       "1000"
      ]
     },
     "execution_count": 16,
     "metadata": {},
     "output_type": "execute_result"
    }
   ],
   "source": [
    "len(articles_links_r)"
   ]
  },
  {
   "cell_type": "markdown",
   "id": "c3956a3f",
   "metadata": {},
   "source": [
    "19. Find the missing link that appears in `articles_links_r` but not in `results_list` using a list comprehension."
   ]
  },
  {
   "cell_type": "code",
   "execution_count": 17,
   "id": "e8c884c1",
   "metadata": {},
   "outputs": [],
   "source": [
    "found_list = []\n",
    "\n",
    "for element in results_list:\n",
    "    \n",
    "    found_list.append(element['URL'])"
   ]
  },
  {
   "cell_type": "code",
   "execution_count": 18,
   "id": "747b1710",
   "metadata": {},
   "outputs": [
    {
     "data": {
      "text/plain": [
       "['https://www.uni-potsdam.de/de/nachrichten/detail/2020-03-13-informationen-fuer-angehoerige-der-universitaet-potsdam-im-zusammenhang-mit-dem-coronavirus']"
      ]
     },
     "execution_count": 18,
     "metadata": {},
     "output_type": "execute_result"
    }
   ],
   "source": [
    "[i for i in articles_links_r if i not in found_list]"
   ]
  },
  {
   "cell_type": "markdown",
   "id": "604a6350",
   "metadata": {},
   "source": [
    "20. Install the `pandas` library."
   ]
  },
  {
   "cell_type": "code",
   "execution_count": 19,
   "id": "0fdca886",
   "metadata": {},
   "outputs": [],
   "source": [
    "import pandas as pd"
   ]
  },
  {
   "cell_type": "code",
   "execution_count": 20,
   "id": "793b6c2d",
   "metadata": {},
   "outputs": [
    {
     "data": {
      "text/html": [
       "<div>\n",
       "<style scoped>\n",
       "    .dataframe tbody tr th:only-of-type {\n",
       "        vertical-align: middle;\n",
       "    }\n",
       "\n",
       "    .dataframe tbody tr th {\n",
       "        vertical-align: top;\n",
       "    }\n",
       "\n",
       "    .dataframe thead th {\n",
       "        text-align: right;\n",
       "    }\n",
       "</style>\n",
       "<table border=\"1\" class=\"dataframe\">\n",
       "  <thead>\n",
       "    <tr style=\"text-align: right;\">\n",
       "      <th></th>\n",
       "      <th>URL</th>\n",
       "      <th>Publication date</th>\n",
       "      <th>Author Name</th>\n",
       "      <th>Image URL</th>\n",
       "      <th>Abstract</th>\n",
       "      <th>Abstract Length</th>\n",
       "    </tr>\n",
       "  </thead>\n",
       "  <tbody>\n",
       "    <tr>\n",
       "      <th>0</th>\n",
       "      <td>https://www.uni-potsdam.de/de/nachrichten/deta...</td>\n",
       "      <td>04.02.2021</td>\n",
       "      <td>Deutsches GeoForschungsZentrum (GFZ)</td>\n",
       "      <td>https://www.uni-potsdam.de/fileadmin/_processe...</td>\n",
       "      <td>Neuere Messungen von Raumsonden der NASA haben...</td>\n",
       "      <td>867</td>\n",
       "    </tr>\n",
       "    <tr>\n",
       "      <th>1</th>\n",
       "      <td>https://www.uni-potsdam.de/de/nachrichten/deta...</td>\n",
       "      <td>27.11.2019</td>\n",
       "      <td>No author found.</td>\n",
       "      <td>https://www.uni-potsdam.de/fileadmin/_processe...</td>\n",
       "      <td>Die Qualität von Studium und Lehre zu sichern ...</td>\n",
       "      <td>581</td>\n",
       "    </tr>\n",
       "    <tr>\n",
       "      <th>2</th>\n",
       "      <td>https://www.uni-potsdam.de/de/nachrichten/deta...</td>\n",
       "      <td>27.11.2019</td>\n",
       "      <td>No author found.</td>\n",
       "      <td>https://www.uni-potsdam.de/fileadmin/_processe...</td>\n",
       "      <td>No abstract found.</td>\n",
       "      <td>0</td>\n",
       "    </tr>\n",
       "    <tr>\n",
       "      <th>3</th>\n",
       "      <td>https://www.uni-potsdam.de/de/nachrichten/deta...</td>\n",
       "      <td>09.07.2019</td>\n",
       "      <td>No author found.</td>\n",
       "      <td>https://www.uni-potsdam.de/fileadmin/_processe...</td>\n",
       "      <td>Klausuren am Computer – kann das funktionieren...</td>\n",
       "      <td>368</td>\n",
       "    </tr>\n",
       "    <tr>\n",
       "      <th>4</th>\n",
       "      <td>https://www.uni-potsdam.de/de/nachrichten/deta...</td>\n",
       "      <td>08.02.2021</td>\n",
       "      <td>Magda Pchalek</td>\n",
       "      <td>https://www.uni-potsdam.de/fileadmin/_processe...</td>\n",
       "      <td>Prof. Dr. Urs Granacher ist Sportwissenschaftl...</td>\n",
       "      <td>861</td>\n",
       "    </tr>\n",
       "  </tbody>\n",
       "</table>\n",
       "</div>"
      ],
      "text/plain": [
       "                                                 URL Publication date  \\\n",
       "0  https://www.uni-potsdam.de/de/nachrichten/deta...       04.02.2021   \n",
       "1  https://www.uni-potsdam.de/de/nachrichten/deta...       27.11.2019   \n",
       "2  https://www.uni-potsdam.de/de/nachrichten/deta...       27.11.2019   \n",
       "3  https://www.uni-potsdam.de/de/nachrichten/deta...       09.07.2019   \n",
       "4  https://www.uni-potsdam.de/de/nachrichten/deta...       08.02.2021   \n",
       "\n",
       "                            Author Name  \\\n",
       "0  Deutsches GeoForschungsZentrum (GFZ)   \n",
       "1                      No author found.   \n",
       "2                      No author found.   \n",
       "3                      No author found.   \n",
       "4                         Magda Pchalek   \n",
       "\n",
       "                                           Image URL  \\\n",
       "0  https://www.uni-potsdam.de/fileadmin/_processe...   \n",
       "1  https://www.uni-potsdam.de/fileadmin/_processe...   \n",
       "2  https://www.uni-potsdam.de/fileadmin/_processe...   \n",
       "3  https://www.uni-potsdam.de/fileadmin/_processe...   \n",
       "4  https://www.uni-potsdam.de/fileadmin/_processe...   \n",
       "\n",
       "                                            Abstract  Abstract Length  \n",
       "0  Neuere Messungen von Raumsonden der NASA haben...              867  \n",
       "1  Die Qualität von Studium und Lehre zu sichern ...              581  \n",
       "2                                 No abstract found.                0  \n",
       "3  Klausuren am Computer – kann das funktionieren...              368  \n",
       "4  Prof. Dr. Urs Granacher ist Sportwissenschaftl...              861  "
      ]
     },
     "execution_count": 20,
     "metadata": {},
     "output_type": "execute_result"
    }
   ],
   "source": [
    "df = pd.DataFrame(results_list)\n",
    "df.head()"
   ]
  },
  {
   "cell_type": "code",
   "execution_count": 21,
   "id": "ec9e2e44",
   "metadata": {},
   "outputs": [
    {
     "data": {
      "text/html": [
       "<div>\n",
       "<style scoped>\n",
       "    .dataframe tbody tr th:only-of-type {\n",
       "        vertical-align: middle;\n",
       "    }\n",
       "\n",
       "    .dataframe tbody tr th {\n",
       "        vertical-align: top;\n",
       "    }\n",
       "\n",
       "    .dataframe thead th {\n",
       "        text-align: right;\n",
       "    }\n",
       "</style>\n",
       "<table border=\"1\" class=\"dataframe\">\n",
       "  <thead>\n",
       "    <tr style=\"text-align: right;\">\n",
       "      <th></th>\n",
       "      <th>Abstract Length</th>\n",
       "    </tr>\n",
       "  </thead>\n",
       "  <tbody>\n",
       "    <tr>\n",
       "      <th>count</th>\n",
       "      <td>999.000000</td>\n",
       "    </tr>\n",
       "    <tr>\n",
       "      <th>mean</th>\n",
       "      <td>452.716717</td>\n",
       "    </tr>\n",
       "    <tr>\n",
       "      <th>std</th>\n",
       "      <td>327.348773</td>\n",
       "    </tr>\n",
       "    <tr>\n",
       "      <th>min</th>\n",
       "      <td>0.000000</td>\n",
       "    </tr>\n",
       "    <tr>\n",
       "      <th>25%</th>\n",
       "      <td>209.000000</td>\n",
       "    </tr>\n",
       "    <tr>\n",
       "      <th>50%</th>\n",
       "      <td>476.000000</td>\n",
       "    </tr>\n",
       "    <tr>\n",
       "      <th>75%</th>\n",
       "      <td>656.500000</td>\n",
       "    </tr>\n",
       "    <tr>\n",
       "      <th>max</th>\n",
       "      <td>2264.000000</td>\n",
       "    </tr>\n",
       "  </tbody>\n",
       "</table>\n",
       "</div>"
      ],
      "text/plain": [
       "       Abstract Length\n",
       "count       999.000000\n",
       "mean        452.716717\n",
       "std         327.348773\n",
       "min           0.000000\n",
       "25%         209.000000\n",
       "50%         476.000000\n",
       "75%         656.500000\n",
       "max        2264.000000"
      ]
     },
     "execution_count": 21,
     "metadata": {},
     "output_type": "execute_result"
    }
   ],
   "source": [
    "df.describe()"
   ]
  },
  {
   "cell_type": "markdown",
   "id": "f6c06fb8",
   "metadata": {},
   "source": [
    "21. Convert the `publication_date` into a `pandas` `datetime` object and plot a time series of published articles on a daily basis. Bonus: Aggregate the time series into monthly frequency. In which month-year were most articles published?"
   ]
  },
  {
   "cell_type": "code",
   "execution_count": 22,
   "id": "6ccbc26c",
   "metadata": {},
   "outputs": [],
   "source": [
    "df.set_index(pd.to_datetime(df['Publication date'], format='%d.%m.%Y'), inplace = True)"
   ]
  },
  {
   "cell_type": "code",
   "execution_count": 23,
   "id": "23eacd95",
   "metadata": {},
   "outputs": [
    {
     "data": {
      "text/html": [
       "<div>\n",
       "<style scoped>\n",
       "    .dataframe tbody tr th:only-of-type {\n",
       "        vertical-align: middle;\n",
       "    }\n",
       "\n",
       "    .dataframe tbody tr th {\n",
       "        vertical-align: top;\n",
       "    }\n",
       "\n",
       "    .dataframe thead th {\n",
       "        text-align: right;\n",
       "    }\n",
       "</style>\n",
       "<table border=\"1\" class=\"dataframe\">\n",
       "  <thead>\n",
       "    <tr style=\"text-align: right;\">\n",
       "      <th></th>\n",
       "      <th>URL</th>\n",
       "      <th>Publication date</th>\n",
       "      <th>Author Name</th>\n",
       "      <th>Image URL</th>\n",
       "      <th>Abstract</th>\n",
       "      <th>Abstract Length</th>\n",
       "    </tr>\n",
       "    <tr>\n",
       "      <th>Publication date</th>\n",
       "      <th></th>\n",
       "      <th></th>\n",
       "      <th></th>\n",
       "      <th></th>\n",
       "      <th></th>\n",
       "      <th></th>\n",
       "    </tr>\n",
       "  </thead>\n",
       "  <tbody>\n",
       "    <tr>\n",
       "      <th>2016-12-01</th>\n",
       "      <td>https://www.uni-potsdam.de/de/nachrichten/deta...</td>\n",
       "      <td>01.12.2016</td>\n",
       "      <td>No author found.</td>\n",
       "      <td>No image found.</td>\n",
       "      <td>No abstract found.</td>\n",
       "      <td>0</td>\n",
       "    </tr>\n",
       "    <tr>\n",
       "      <th>2016-12-01</th>\n",
       "      <td>https://www.uni-potsdam.de/de/nachrichten/deta...</td>\n",
       "      <td>01.12.2016</td>\n",
       "      <td>No author found.</td>\n",
       "      <td>https://www.uni-potsdam.de/fileadmin/_processe...</td>\n",
       "      <td>Der Wortschatz ist klein und nimmt nur langsam...</td>\n",
       "      <td>663</td>\n",
       "    </tr>\n",
       "    <tr>\n",
       "      <th>2016-12-05</th>\n",
       "      <td>https://www.uni-potsdam.de/de/nachrichten/deta...</td>\n",
       "      <td>05.12.2016</td>\n",
       "      <td>No author found.</td>\n",
       "      <td>https://www.uni-potsdam.de/fileadmin/_processe...</td>\n",
       "      <td>Zehn Fragen für ein Buch – gestellt an Dr. Mal...</td>\n",
       "      <td>187</td>\n",
       "    </tr>\n",
       "    <tr>\n",
       "      <th>2016-12-05</th>\n",
       "      <td>https://www.uni-potsdam.de/de/nachrichten/deta...</td>\n",
       "      <td>05.12.2016</td>\n",
       "      <td>No author found.</td>\n",
       "      <td>https://www.uni-potsdam.de/fileadmin/_processe...</td>\n",
       "      <td>Dem Forschungsprojekt “Sprachvariation in Nord...</td>\n",
       "      <td>681</td>\n",
       "    </tr>\n",
       "    <tr>\n",
       "      <th>2016-12-05</th>\n",
       "      <td>https://www.uni-potsdam.de/de/nachrichten/deta...</td>\n",
       "      <td>05.12.2016</td>\n",
       "      <td>No author found.</td>\n",
       "      <td>https://www.uni-potsdam.de/fileadmin/_processe...</td>\n",
       "      <td>Ob Naturschutz, Sport, soziales Engagement: De...</td>\n",
       "      <td>496</td>\n",
       "    </tr>\n",
       "  </tbody>\n",
       "</table>\n",
       "</div>"
      ],
      "text/plain": [
       "                                                                URL  \\\n",
       "Publication date                                                      \n",
       "2016-12-01        https://www.uni-potsdam.de/de/nachrichten/deta...   \n",
       "2016-12-01        https://www.uni-potsdam.de/de/nachrichten/deta...   \n",
       "2016-12-05        https://www.uni-potsdam.de/de/nachrichten/deta...   \n",
       "2016-12-05        https://www.uni-potsdam.de/de/nachrichten/deta...   \n",
       "2016-12-05        https://www.uni-potsdam.de/de/nachrichten/deta...   \n",
       "\n",
       "                 Publication date       Author Name  \\\n",
       "Publication date                                      \n",
       "2016-12-01             01.12.2016  No author found.   \n",
       "2016-12-01             01.12.2016  No author found.   \n",
       "2016-12-05             05.12.2016  No author found.   \n",
       "2016-12-05             05.12.2016  No author found.   \n",
       "2016-12-05             05.12.2016  No author found.   \n",
       "\n",
       "                                                          Image URL  \\\n",
       "Publication date                                                      \n",
       "2016-12-01                                          No image found.   \n",
       "2016-12-01        https://www.uni-potsdam.de/fileadmin/_processe...   \n",
       "2016-12-05        https://www.uni-potsdam.de/fileadmin/_processe...   \n",
       "2016-12-05        https://www.uni-potsdam.de/fileadmin/_processe...   \n",
       "2016-12-05        https://www.uni-potsdam.de/fileadmin/_processe...   \n",
       "\n",
       "                                                           Abstract  \\\n",
       "Publication date                                                      \n",
       "2016-12-01                                       No abstract found.   \n",
       "2016-12-01        Der Wortschatz ist klein und nimmt nur langsam...   \n",
       "2016-12-05        Zehn Fragen für ein Buch – gestellt an Dr. Mal...   \n",
       "2016-12-05        Dem Forschungsprojekt “Sprachvariation in Nord...   \n",
       "2016-12-05        Ob Naturschutz, Sport, soziales Engagement: De...   \n",
       "\n",
       "                  Abstract Length  \n",
       "Publication date                   \n",
       "2016-12-01                      0  \n",
       "2016-12-01                    663  \n",
       "2016-12-05                    187  \n",
       "2016-12-05                    681  \n",
       "2016-12-05                    496  "
      ]
     },
     "execution_count": 23,
     "metadata": {},
     "output_type": "execute_result"
    }
   ],
   "source": [
    "df = df.sort_index(ascending=True)\n",
    "df.head()"
   ]
  },
  {
   "cell_type": "code",
   "execution_count": 24,
   "id": "e01467d0",
   "metadata": {},
   "outputs": [],
   "source": [
    "df.to_csv(\"Articles_archive.csv\", encoding='utf-8-sig')"
   ]
  },
  {
   "cell_type": "code",
   "execution_count": 25,
   "id": "cc5742df",
   "metadata": {},
   "outputs": [],
   "source": [
    "df = pd.read_csv(\"Articles_archive.csv\")\n",
    "df.set_index(pd.to_datetime(df['Publication date.1'], format='%d.%m.%Y'), inplace = True)"
   ]
  },
  {
   "cell_type": "code",
   "execution_count": 26,
   "id": "1f028e83",
   "metadata": {},
   "outputs": [],
   "source": [
    "del df['Publication date']"
   ]
  },
  {
   "cell_type": "code",
   "execution_count": 27,
   "id": "5e531b3f",
   "metadata": {},
   "outputs": [
    {
     "data": {
      "text/plain": [
       "'https://www.uni-potsdam.de/de/nachrichten/detail/2016-12-01-didaktikwerkstatt-englisch-oeffnet'"
      ]
     },
     "execution_count": 27,
     "metadata": {},
     "output_type": "execute_result"
    }
   ],
   "source": [
    "df.iloc[0]['URL']"
   ]
  },
  {
   "cell_type": "code",
   "execution_count": 28,
   "id": "21851108",
   "metadata": {},
   "outputs": [
    {
     "data": {
      "text/plain": [
       "452.7167167167167"
      ]
     },
     "execution_count": 28,
     "metadata": {},
     "output_type": "execute_result"
    }
   ],
   "source": [
    "df['Abstract Length'].mean()"
   ]
  },
  {
   "cell_type": "code",
   "execution_count": 29,
   "id": "bf8f20f5",
   "metadata": {},
   "outputs": [],
   "source": [
    "daily_count = pd.DataFrame(df.groupby(pd.Grouper(freq='D')).count()['URL'])"
   ]
  },
  {
   "cell_type": "markdown",
   "id": "72fe5dc6",
   "metadata": {},
   "source": [
    "22. Install the library `matplotlib`."
   ]
  },
  {
   "cell_type": "code",
   "execution_count": 30,
   "id": "a1d188ac",
   "metadata": {},
   "outputs": [],
   "source": [
    "import matplotlib\n",
    "import matplotlib.pyplot as plt"
   ]
  },
  {
   "cell_type": "code",
   "execution_count": 31,
   "id": "34f93e12",
   "metadata": {},
   "outputs": [
    {
     "data": {
      "image/png": "[encoded data removed]",
      "text/plain": [
       "<Figure size 432x288 with 1 Axes>"
      ]
     },
     "metadata": {
      "needs_background": "light"
     },
     "output_type": "display_data"
    }
   ],
   "source": [
    "fig, ax = plt.subplots()\n",
    "ax.plot(daily_count.index, daily_count.URL)\n",
    "\n",
    "ax.set(xlabel='Date (daily)', ylabel='Number of articles published',\n",
    "       title='A simple so-so-looking graph')\n",
    "ax.grid()\n",
    "\n",
    "#fig.savefig(\"daily_publications.png\")\n",
    "plt.show()"
   ]
  },
  {
   "cell_type": "code",
   "execution_count": 32,
   "id": "1d38e1c1",
   "metadata": {},
   "outputs": [
    {
     "data": {
      "image/png": "[encoded data removed]",
      "text/plain": [
       "<Figure size 432x288 with 1 Axes>"
      ]
     },
     "metadata": {
      "needs_background": "light"
     },
     "output_type": "display_data"
    }
   ],
   "source": [
    "monthly_count = pd.DataFrame(df.groupby(pd.Grouper(freq='M')).count()['URL'])\n",
    "\n",
    "fig, ax = plt.subplots()\n",
    "ax.plot(monthly_count.index, monthly_count.URL)\n",
    "\n",
    "ax.set(xlabel='Date (monthly)', ylabel='Number of articles published',\n",
    "       title='A simple so-so-looking graph')\n",
    "ax.grid()\n",
    "\n",
    "#fig.savefig(\"monthly_publications.png\")\n",
    "plt.show()"
   ]
  },
  {
   "cell_type": "code",
   "execution_count": 33,
   "id": "e54488b3",
   "metadata": {},
   "outputs": [
    {
     "data": {
      "text/plain": [
       "18.849056603773583"
      ]
     },
     "execution_count": 33,
     "metadata": {},
     "output_type": "execute_result"
    }
   ],
   "source": [
    "monthly_count['URL'].mean()"
   ]
  },
  {
   "cell_type": "markdown",
   "id": "26aff088",
   "metadata": {},
   "source": [
    "23. Install the libraries `cufflinks` and `plotly`."
   ]
  },
  {
   "cell_type": "code",
   "execution_count": 34,
   "id": "b5628f07",
   "metadata": {},
   "outputs": [
    {
     "data": {
      "text/html": [
       "        <script type=\"text/javascript\">\n",
       "        window.PlotlyConfig = {MathJaxConfig: 'local'};\n",
       "        if (window.MathJax) {MathJax.Hub.Config({SVG: {font: \"STIX-Web\"}});}\n",
       "        if (typeof require !== 'undefined') {\n",
       "        require.undef(\"plotly\");\n",
       "        requirejs.config({\n",
       "            paths: {\n",
       "                'plotly': ['https://cdn.plot.ly/plotly-latest.min']\n",
       "            }\n",
       "        });\n",
       "        require(['plotly'], function(Plotly) {\n",
       "            window._Plotly = Plotly;\n",
       "        });\n",
       "        }\n",
       "        </script>\n",
       "        "
      ]
     },
     "metadata": {},
     "output_type": "display_data"
    }
   ],
   "source": [
    "import plotly.graph_objs as go\n",
    "import plotly.figure_factory as ff\n",
    "from plotly.offline import download_plotlyjs, init_notebook_mode, plot, iplot\n",
    "init_notebook_mode(connected=True)"
   ]
  },
  {
   "cell_type": "code",
   "execution_count": 35,
   "id": "481ef8d4",
   "metadata": {},
   "outputs": [
    {
     "data": {
      "application/vnd.plotly.v1+json": {
       "config": {
        "linkText": "Export to plot.ly",
        "plotlyServerURL": "https://plot.ly",
        "showLink": false
       },
       "data": [
        {
         "name": "Published articles",
         "type": "scatter",
         "x": [
          "2016-12-31T00:00:00",
          "2017-01-31T00:00:00",
          "2017-02-28T00:00:00",
          "2017-03-31T00:00:00",
          "2017-04-30T00:00:00",
          "2017-05-31T00:00:00",
          "2017-06-30T00:00:00",
          "2017-07-31T00:00:00",
          "2017-08-31T00:00:00",
          "2017-09-30T00:00:00",
          "2017-10-31T00:00:00",
          "2017-11-30T00:00:00",
          "2017-12-31T00:00:00",
          "2018-01-31T00:00:00",
          "2018-02-28T00:00:00",
          "2018-03-31T00:00:00",
          "2018-04-30T00:00:00",
          "2018-05-31T00:00:00",
          "2018-06-30T00:00:00",
          "2018-07-31T00:00:00",
          "2018-08-31T00:00:00",
          "2018-09-30T00:00:00",
          "2018-10-31T00:00:00",
          "2018-11-30T00:00:00",
          "2018-12-31T00:00:00",
          "2019-01-31T00:00:00",
          "2019-02-28T00:00:00",
          "2019-03-31T00:00:00",
          "2019-04-30T00:00:00",
          "2019-05-31T00:00:00",
          "2019-06-30T00:00:00",
          "2019-07-31T00:00:00",
          "2019-08-31T00:00:00",
          "2019-09-30T00:00:00",
          "2019-10-31T00:00:00",
          "2019-11-30T00:00:00",
          "2019-12-31T00:00:00",
          "2020-01-31T00:00:00",
          "2020-02-29T00:00:00",
          "2020-03-31T00:00:00",
          "2020-04-30T00:00:00",
          "2020-05-31T00:00:00",
          "2020-06-30T00:00:00",
          "2020-07-31T00:00:00",
          "2020-08-31T00:00:00",
          "2020-09-30T00:00:00",
          "2020-10-31T00:00:00",
          "2020-11-30T00:00:00",
          "2020-12-31T00:00:00",
          "2021-01-31T00:00:00",
          "2021-02-28T00:00:00",
          "2021-03-31T00:00:00",
          "2021-04-30T00:00:00"
         ],
         "y": [
          14,
          16,
          16,
          24,
          19,
          11,
          22,
          15,
          4,
          14,
          28,
          26,
          19,
          14,
          14,
          20,
          20,
          19,
          28,
          11,
          15,
          9,
          18,
          16,
          6,
          10,
          11,
          27,
          20,
          25,
          24,
          27,
          17,
          25,
          32,
          37,
          17,
          15,
          12,
          27,
          29,
          17,
          21,
          16,
          14,
          24,
          26,
          26,
          20,
          15,
          18,
          27,
          2
         ]
        }
       ],
       "layout": {
        "template": {
         "data": {
          "bar": [
           {
            "error_x": {
             "color": "#2a3f5f"
            },
            "error_y": {
             "color": "#2a3f5f"
            },
            "marker": {
             "line": {
              "color": "#E5ECF6",
              "width": 0.5
             }
            },
            "type": "bar"
           }
          ],
          "barpolar": [
           {
            "marker": {
             "line": {
              "color": "#E5ECF6",
              "width": 0.5
             }
            },
            "type": "barpolar"
           }
          ],
          "carpet": [
           {
            "aaxis": {
             "endlinecolor": "#2a3f5f",
             "gridcolor": "white",
             "linecolor": "white",
             "minorgridcolor": "white",
             "startlinecolor": "#2a3f5f"
            },
            "baxis": {
             "endlinecolor": "#2a3f5f",
             "gridcolor": "white",
             "linecolor": "white",
             "minorgridcolor": "white",
             "startlinecolor": "#2a3f5f"
            },
            "type": "carpet"
           }
          ],
          "choropleth": [
           {
            "colorbar": {
             "outlinewidth": 0,
             "ticks": ""
            },
            "type": "choropleth"
           }
          ],
          "contour": [
           {
            "colorbar": {
             "outlinewidth": 0,
             "ticks": ""
            },
            "colorscale": [
             [
              0,
              "#0d0887"
             ],
             [
              0.1111111111111111,
              "#46039f"
             ],
             [
              0.2222222222222222,
              "#7201a8"
             ],
             [
              0.3333333333333333,
              "#9c179e"
             ],
             [
              0.4444444444444444,
              "#bd3786"
             ],
             [
              0.5555555555555556,
              "#d8576b"
             ],
             [
              0.6666666666666666,
              "#ed7953"
             ],
             [
              0.7777777777777778,
              "#fb9f3a"
             ],
             [
              0.8888888888888888,
              "#fdca26"
             ],
             [
              1,
              "#f0f921"
             ]
            ],
            "type": "contour"
           }
          ],
          "contourcarpet": [
           {
            "colorbar": {
             "outlinewidth": 0,
             "ticks": ""
            },
            "type": "contourcarpet"
           }
          ],
          "heatmap": [
           {
            "colorbar": {
             "outlinewidth": 0,
             "ticks": ""
            },
            "colorscale": [
             [
              0,
              "#0d0887"
             ],
             [
              0.1111111111111111,
              "#46039f"
             ],
             [
              0.2222222222222222,
              "#7201a8"
             ],
             [
              0.3333333333333333,
              "#9c179e"
             ],
             [
              0.4444444444444444,
              "#bd3786"
             ],
             [
              0.5555555555555556,
              "#d8576b"
             ],
             [
              0.6666666666666666,
              "#ed7953"
             ],
             [
              0.7777777777777778,
              "#fb9f3a"
             ],
             [
              0.8888888888888888,
              "#fdca26"
             ],
             [
              1,
              "#f0f921"
             ]
            ],
            "type": "heatmap"
           }
          ],
          "heatmapgl": [
           {
            "colorbar": {
             "outlinewidth": 0,
             "ticks": ""
            },
            "colorscale": [
             [
              0,
              "#0d0887"
             ],
             [
              0.1111111111111111,
              "#46039f"
             ],
             [
              0.2222222222222222,
              "#7201a8"
             ],
             [
              0.3333333333333333,
              "#9c179e"
             ],
             [
              0.4444444444444444,
              "#bd3786"
             ],
             [
              0.5555555555555556,
              "#d8576b"
             ],
             [
              0.6666666666666666,
              "#ed7953"
             ],
             [
              0.7777777777777778,
              "#fb9f3a"
             ],
             [
              0.8888888888888888,
              "#fdca26"
             ],
             [
              1,
              "#f0f921"
             ]
            ],
            "type": "heatmapgl"
           }
          ],
          "histogram": [
           {
            "marker": {
             "colorbar": {
              "outlinewidth": 0,
              "ticks": ""
             }
            },
            "type": "histogram"
           }
          ],
          "histogram2d": [
           {
            "colorbar": {
             "outlinewidth": 0,
             "ticks": ""
            },
            "colorscale": [
             [
              0,
              "#0d0887"
             ],
             [
              0.1111111111111111,
              "#46039f"
             ],
             [
              0.2222222222222222,
              "#7201a8"
             ],
             [
              0.3333333333333333,
              "#9c179e"
             ],
             [
              0.4444444444444444,
              "#bd3786"
             ],
             [
              0.5555555555555556,
              "#d8576b"
             ],
             [
              0.6666666666666666,
              "#ed7953"
             ],
             [
              0.7777777777777778,
              "#fb9f3a"
             ],
             [
              0.8888888888888888,
              "#fdca26"
             ],
             [
              1,
              "#f0f921"
             ]
            ],
            "type": "histogram2d"
           }
          ],
          "histogram2dcontour": [
           {
            "colorbar": {
             "outlinewidth": 0,
             "ticks": ""
            },
            "colorscale": [
             [
              0,
              "#0d0887"
             ],
             [
              0.1111111111111111,
              "#46039f"
             ],
             [
              0.2222222222222222,
              "#7201a8"
             ],
             [
              0.3333333333333333,
              "#9c179e"
             ],
             [
              0.4444444444444444,
              "#bd3786"
             ],
             [
              0.5555555555555556,
              "#d8576b"
             ],
             [
              0.6666666666666666,
              "#ed7953"
             ],
             [
              0.7777777777777778,
              "#fb9f3a"
             ],
             [
              0.8888888888888888,
              "#fdca26"
             ],
             [
              1,
              "#f0f921"
             ]
            ],
            "type": "histogram2dcontour"
           }
          ],
          "mesh3d": [
           {
            "colorbar": {
             "outlinewidth": 0,
             "ticks": ""
            },
            "type": "mesh3d"
           }
          ],
          "parcoords": [
           {
            "line": {
             "colorbar": {
              "outlinewidth": 0,
              "ticks": ""
             }
            },
            "type": "parcoords"
           }
          ],
          "pie": [
           {
            "automargin": true,
            "type": "pie"
           }
          ],
          "scatter": [
           {
            "marker": {
             "colorbar": {
              "outlinewidth": 0,
              "ticks": ""
             }
            },
            "type": "scatter"
           }
          ],
          "scatter3d": [
           {
            "line": {
             "colorbar": {
              "outlinewidth": 0,
              "ticks": ""
             }
            },
            "marker": {
             "colorbar": {
              "outlinewidth": 0,
              "ticks": ""
             }
            },
            "type": "scatter3d"
           }
          ],
          "scattercarpet": [
           {
            "marker": {
             "colorbar": {
              "outlinewidth": 0,
              "ticks": ""
             }
            },
            "type": "scattercarpet"
           }
          ],
          "scattergeo": [
           {
            "marker": {
             "colorbar": {
              "outlinewidth": 0,
              "ticks": ""
             }
            },
            "type": "scattergeo"
           }
          ],
          "scattergl": [
           {
            "marker": {
             "colorbar": {
              "outlinewidth": 0,
              "ticks": ""
             }
            },
            "type": "scattergl"
           }
          ],
          "scattermapbox": [
           {
            "marker": {
             "colorbar": {
              "outlinewidth": 0,
              "ticks": ""
             }
            },
            "type": "scattermapbox"
           }
          ],
          "scatterpolar": [
           {
            "marker": {
             "colorbar": {
              "outlinewidth": 0,
              "ticks": ""
             }
            },
            "type": "scatterpolar"
           }
          ],
          "scatterpolargl": [
           {
            "marker": {
             "colorbar": {
              "outlinewidth": 0,
              "ticks": ""
             }
            },
            "type": "scatterpolargl"
           }
          ],
          "scatterternary": [
           {
            "marker": {
             "colorbar": {
              "outlinewidth": 0,
              "ticks": ""
             }
            },
            "type": "scatterternary"
           }
          ],
          "surface": [
           {
            "colorbar": {
             "outlinewidth": 0,
             "ticks": ""
            },
            "colorscale": [
             [
              0,
              "#0d0887"
             ],
             [
              0.1111111111111111,
              "#46039f"
             ],
             [
              0.2222222222222222,
              "#7201a8"
             ],
             [
              0.3333333333333333,
              "#9c179e"
             ],
             [
              0.4444444444444444,
              "#bd3786"
             ],
             [
              0.5555555555555556,
              "#d8576b"
             ],
             [
              0.6666666666666666,
              "#ed7953"
             ],
             [
              0.7777777777777778,
              "#fb9f3a"
             ],
             [
              0.8888888888888888,
              "#fdca26"
             ],
             [
              1,
              "#f0f921"
             ]
            ],
            "type": "surface"
           }
          ],
          "table": [
           {
            "cells": {
             "fill": {
              "color": "#EBF0F8"
             },
             "line": {
              "color": "white"
             }
            },
            "header": {
             "fill": {
              "color": "#C8D4E3"
             },
             "line": {
              "color": "white"
             }
            },
            "type": "table"
           }
          ]
         },
         "layout": {
          "annotationdefaults": {
           "arrowcolor": "#2a3f5f",
           "arrowhead": 0,
           "arrowwidth": 1
          },
          "autotypenumbers": "strict",
          "coloraxis": {
           "colorbar": {
            "outlinewidth": 0,
            "ticks": ""
           }
          },
          "colorscale": {
           "diverging": [
            [
             0,
             "#8e0152"
            ],
            [
             0.1,
             "#c51b7d"
            ],
            [
             0.2,
             "#de77ae"
            ],
            [
             0.3,
             "#f1b6da"
            ],
            [
             0.4,
             "#fde0ef"
            ],
            [
             0.5,
             "#f7f7f7"
            ],
            [
             0.6,
             "#e6f5d0"
            ],
            [
             0.7,
             "#b8e186"
            ],
            [
             0.8,
             "#7fbc41"
            ],
            [
             0.9,
             "#4d9221"
            ],
            [
             1,
             "#276419"
            ]
           ],
           "sequential": [
            [
             0,
             "#0d0887"
            ],
            [
             0.1111111111111111,
             "#46039f"
            ],
            [
             0.2222222222222222,
             "#7201a8"
            ],
            [
             0.3333333333333333,
             "#9c179e"
            ],
            [
             0.4444444444444444,
             "#bd3786"
            ],
            [
             0.5555555555555556,
             "#d8576b"
            ],
            [
             0.6666666666666666,
             "#ed7953"
            ],
            [
             0.7777777777777778,
             "#fb9f3a"
            ],
            [
             0.8888888888888888,
             "#fdca26"
            ],
            [
             1,
             "#f0f921"
            ]
           ],
           "sequentialminus": [
            [
             0,
             "#0d0887"
            ],
            [
             0.1111111111111111,
             "#46039f"
            ],
            [
             0.2222222222222222,
             "#7201a8"
            ],
            [
             0.3333333333333333,
             "#9c179e"
            ],
            [
             0.4444444444444444,
             "#bd3786"
            ],
            [
             0.5555555555555556,
             "#d8576b"
            ],
            [
             0.6666666666666666,
             "#ed7953"
            ],
            [
             0.7777777777777778,
             "#fb9f3a"
            ],
            [
             0.8888888888888888,
             "#fdca26"
            ],
            [
             1,
             "#f0f921"
            ]
           ]
          },
          "colorway": [
           "#636efa",
           "#EF553B",
           "#00cc96",
           "#ab63fa",
           "#FFA15A",
           "#19d3f3",
           "#FF6692",
           "#B6E880",
           "#FF97FF",
           "#FECB52"
          ],
          "font": {
           "color": "#2a3f5f"
          },
          "geo": {
           "bgcolor": "white",
           "lakecolor": "white",
           "landcolor": "#E5ECF6",
           "showlakes": true,
           "showland": true,
           "subunitcolor": "white"
          },
          "hoverlabel": {
           "align": "left"
          },
          "hovermode": "closest",
          "mapbox": {
           "style": "light"
          },
          "paper_bgcolor": "white",
          "plot_bgcolor": "#E5ECF6",
          "polar": {
           "angularaxis": {
            "gridcolor": "white",
            "linecolor": "white",
            "ticks": ""
           },
           "bgcolor": "#E5ECF6",
           "radialaxis": {
            "gridcolor": "white",
            "linecolor": "white",
            "ticks": ""
           }
          },
          "scene": {
           "xaxis": {
            "backgroundcolor": "#E5ECF6",
            "gridcolor": "white",
            "gridwidth": 2,
            "linecolor": "white",
            "showbackground": true,
            "ticks": "",
            "zerolinecolor": "white"
           },
           "yaxis": {
            "backgroundcolor": "#E5ECF6",
            "gridcolor": "white",
            "gridwidth": 2,
            "linecolor": "white",
            "showbackground": true,
            "ticks": "",
            "zerolinecolor": "white"
           },
           "zaxis": {
            "backgroundcolor": "#E5ECF6",
            "gridcolor": "white",
            "gridwidth": 2,
            "linecolor": "white",
            "showbackground": true,
            "ticks": "",
            "zerolinecolor": "white"
           }
          },
          "shapedefaults": {
           "line": {
            "color": "#2a3f5f"
           }
          },
          "ternary": {
           "aaxis": {
            "gridcolor": "white",
            "linecolor": "white",
            "ticks": ""
           },
           "baxis": {
            "gridcolor": "white",
            "linecolor": "white",
            "ticks": ""
           },
           "bgcolor": "#E5ECF6",
           "caxis": {
            "gridcolor": "white",
            "linecolor": "white",
            "ticks": ""
           }
          },
          "title": {
           "x": 0.05
          },
          "xaxis": {
           "automargin": true,
           "gridcolor": "white",
           "linecolor": "white",
           "ticks": "",
           "title": {
            "standoff": 15
           },
           "zerolinecolor": "white",
           "zerolinewidth": 2
          },
          "yaxis": {
           "automargin": true,
           "gridcolor": "white",
           "linecolor": "white",
           "ticks": "",
           "title": {
            "standoff": 15
           },
           "zerolinecolor": "white",
           "zerolinewidth": 2
          }
         }
        },
        "title": {
         "text": "Published articles (monthly)"
        },
        "xaxis": {
         "rangeslider": {
          "visible": true
         },
         "title": {
          "text": "Date"
         }
        },
        "yaxis": {
         "title": {
          "text": "Count"
         }
        }
       }
      },
      "text/html": [
       "<div>                            <div id=\"85bcb94c-867d-449e-9503-2cd968e56d32\" class=\"plotly-graph-div\" style=\"height:525px; width:100%;\"></div>            <script type=\"text/javascript\">                require([\"plotly\"], function(Plotly) {                    window.PLOTLYENV=window.PLOTLYENV || {};                                    if (document.getElementById(\"85bcb94c-867d-449e-9503-2cd968e56d32\")) {                    Plotly.newPlot(                        \"85bcb94c-867d-449e-9503-2cd968e56d32\",                        [{\"name\": \"Published articles\", \"type\": \"scatter\", \"x\": [\"2016-12-31T00:00:00\", \"2017-01-31T00:00:00\", \"2017-02-28T00:00:00\", \"2017-03-31T00:00:00\", \"2017-04-30T00:00:00\", \"2017-05-31T00:00:00\", \"2017-06-30T00:00:00\", \"2017-07-31T00:00:00\", \"2017-08-31T00:00:00\", \"2017-09-30T00:00:00\", \"2017-10-31T00:00:00\", \"2017-11-30T00:00:00\", \"2017-12-31T00:00:00\", \"2018-01-31T00:00:00\", \"2018-02-28T00:00:00\", \"2018-03-31T00:00:00\", \"2018-04-30T00:00:00\", \"2018-05-31T00:00:00\", \"2018-06-30T00:00:00\", \"2018-07-31T00:00:00\", \"2018-08-31T00:00:00\", \"2018-09-30T00:00:00\", \"2018-10-31T00:00:00\", \"2018-11-30T00:00:00\", \"2018-12-31T00:00:00\", \"2019-01-31T00:00:00\", \"2019-02-28T00:00:00\", \"2019-03-31T00:00:00\", \"2019-04-30T00:00:00\", \"2019-05-31T00:00:00\", \"2019-06-30T00:00:00\", \"2019-07-31T00:00:00\", \"2019-08-31T00:00:00\", \"2019-09-30T00:00:00\", \"2019-10-31T00:00:00\", \"2019-11-30T00:00:00\", \"2019-12-31T00:00:00\", \"2020-01-31T00:00:00\", \"2020-02-29T00:00:00\", \"2020-03-31T00:00:00\", \"2020-04-30T00:00:00\", \"2020-05-31T00:00:00\", \"2020-06-30T00:00:00\", \"2020-07-31T00:00:00\", \"2020-08-31T00:00:00\", \"2020-09-30T00:00:00\", \"2020-10-31T00:00:00\", \"2020-11-30T00:00:00\", \"2020-12-31T00:00:00\", \"2021-01-31T00:00:00\", \"2021-02-28T00:00:00\", \"2021-03-31T00:00:00\", \"2021-04-30T00:00:00\"], \"y\": [14, 16, 16, 24, 19, 11, 22, 15, 4, 14, 28, 26, 19, 14, 14, 20, 20, 19, 28, 11, 15, 9, 18, 16, 6, 10, 11, 27, 20, 25, 24, 27, 17, 25, 32, 37, 17, 15, 12, 27, 29, 17, 21, 16, 14, 24, 26, 26, 20, 15, 18, 27, 2]}],                        {\"template\": {\"data\": {\"bar\": [{\"error_x\": {\"color\": \"#2a3f5f\"}, \"error_y\": {\"color\": \"#2a3f5f\"}, \"marker\": {\"line\": {\"color\": \"#E5ECF6\", \"width\": 0.5}}, \"type\": \"bar\"}], \"barpolar\": [{\"marker\": {\"line\": {\"color\": \"#E5ECF6\", \"width\": 0.5}}, \"type\": \"barpolar\"}], \"carpet\": [{\"aaxis\": {\"endlinecolor\": \"#2a3f5f\", \"gridcolor\": \"white\", \"linecolor\": \"white\", \"minorgridcolor\": \"white\", \"startlinecolor\": \"#2a3f5f\"}, \"baxis\": {\"endlinecolor\": \"#2a3f5f\", \"gridcolor\": \"white\", \"linecolor\": \"white\", \"minorgridcolor\": \"white\", \"startlinecolor\": \"#2a3f5f\"}, \"type\": \"carpet\"}], \"choropleth\": [{\"colorbar\": {\"outlinewidth\": 0, \"ticks\": \"\"}, \"type\": \"choropleth\"}], \"contour\": [{\"colorbar\": {\"outlinewidth\": 0, \"ticks\": \"\"}, \"colorscale\": [[0.0, \"#0d0887\"], [0.1111111111111111, \"#46039f\"], [0.2222222222222222, \"#7201a8\"], [0.3333333333333333, \"#9c179e\"], [0.4444444444444444, \"#bd3786\"], [0.5555555555555556, \"#d8576b\"], [0.6666666666666666, \"#ed7953\"], [0.7777777777777778, \"#fb9f3a\"], [0.8888888888888888, \"#fdca26\"], [1.0, \"#f0f921\"]], \"type\": \"contour\"}], \"contourcarpet\": [{\"colorbar\": {\"outlinewidth\": 0, \"ticks\": \"\"}, \"type\": \"contourcarpet\"}], \"heatmap\": [{\"colorbar\": {\"outlinewidth\": 0, \"ticks\": \"\"}, \"colorscale\": [[0.0, \"#0d0887\"], [0.1111111111111111, \"#46039f\"], [0.2222222222222222, \"#7201a8\"], [0.3333333333333333, \"#9c179e\"], [0.4444444444444444, \"#bd3786\"], [0.5555555555555556, \"#d8576b\"], [0.6666666666666666, \"#ed7953\"], [0.7777777777777778, \"#fb9f3a\"], [0.8888888888888888, \"#fdca26\"], [1.0, \"#f0f921\"]], \"type\": \"heatmap\"}], \"heatmapgl\": [{\"colorbar\": {\"outlinewidth\": 0, \"ticks\": \"\"}, \"colorscale\": [[0.0, \"#0d0887\"], [0.1111111111111111, \"#46039f\"], [0.2222222222222222, \"#7201a8\"], [0.3333333333333333, \"#9c179e\"], [0.4444444444444444, \"#bd3786\"], [0.5555555555555556, \"#d8576b\"], [0.6666666666666666, \"#ed7953\"], [0.7777777777777778, \"#fb9f3a\"], [0.8888888888888888, \"#fdca26\"], [1.0, \"#f0f921\"]], \"type\": \"heatmapgl\"}], \"histogram\": [{\"marker\": {\"colorbar\": {\"outlinewidth\": 0, \"ticks\": \"\"}}, \"type\": \"histogram\"}], \"histogram2d\": [{\"colorbar\": {\"outlinewidth\": 0, \"ticks\": \"\"}, \"colorscale\": [[0.0, \"#0d0887\"], [0.1111111111111111, \"#46039f\"], [0.2222222222222222, \"#7201a8\"], [0.3333333333333333, \"#9c179e\"], [0.4444444444444444, \"#bd3786\"], [0.5555555555555556, \"#d8576b\"], [0.6666666666666666, \"#ed7953\"], [0.7777777777777778, \"#fb9f3a\"], [0.8888888888888888, \"#fdca26\"], [1.0, \"#f0f921\"]], \"type\": \"histogram2d\"}], \"histogram2dcontour\": [{\"colorbar\": {\"outlinewidth\": 0, \"ticks\": \"\"}, \"colorscale\": [[0.0, \"#0d0887\"], [0.1111111111111111, \"#46039f\"], [0.2222222222222222, \"#7201a8\"], [0.3333333333333333, \"#9c179e\"], [0.4444444444444444, \"#bd3786\"], [0.5555555555555556, \"#d8576b\"], [0.6666666666666666, \"#ed7953\"], [0.7777777777777778, \"#fb9f3a\"], [0.8888888888888888, \"#fdca26\"], [1.0, \"#f0f921\"]], \"type\": \"histogram2dcontour\"}], \"mesh3d\": [{\"colorbar\": {\"outlinewidth\": 0, \"ticks\": \"\"}, \"type\": \"mesh3d\"}], \"parcoords\": [{\"line\": {\"colorbar\": {\"outlinewidth\": 0, \"ticks\": \"\"}}, \"type\": \"parcoords\"}], \"pie\": [{\"automargin\": true, \"type\": \"pie\"}], \"scatter\": [{\"marker\": {\"colorbar\": {\"outlinewidth\": 0, \"ticks\": \"\"}}, \"type\": \"scatter\"}], \"scatter3d\": [{\"line\": {\"colorbar\": {\"outlinewidth\": 0, \"ticks\": \"\"}}, \"marker\": {\"colorbar\": {\"outlinewidth\": 0, \"ticks\": \"\"}}, \"type\": \"scatter3d\"}], \"scattercarpet\": [{\"marker\": {\"colorbar\": {\"outlinewidth\": 0, \"ticks\": \"\"}}, \"type\": \"scattercarpet\"}], \"scattergeo\": [{\"marker\": {\"colorbar\": {\"outlinewidth\": 0, \"ticks\": \"\"}}, \"type\": \"scattergeo\"}], \"scattergl\": [{\"marker\": {\"colorbar\": {\"outlinewidth\": 0, \"ticks\": \"\"}}, \"type\": \"scattergl\"}], \"scattermapbox\": [{\"marker\": {\"colorbar\": {\"outlinewidth\": 0, \"ticks\": \"\"}}, \"type\": \"scattermapbox\"}], \"scatterpolar\": [{\"marker\": {\"colorbar\": {\"outlinewidth\": 0, \"ticks\": \"\"}}, \"type\": \"scatterpolar\"}], \"scatterpolargl\": [{\"marker\": {\"colorbar\": {\"outlinewidth\": 0, \"ticks\": \"\"}}, \"type\": \"scatterpolargl\"}], \"scatterternary\": [{\"marker\": {\"colorbar\": {\"outlinewidth\": 0, \"ticks\": \"\"}}, \"type\": \"scatterternary\"}], \"surface\": [{\"colorbar\": {\"outlinewidth\": 0, \"ticks\": \"\"}, \"colorscale\": [[0.0, \"#0d0887\"], [0.1111111111111111, \"#46039f\"], [0.2222222222222222, \"#7201a8\"], [0.3333333333333333, \"#9c179e\"], [0.4444444444444444, \"#bd3786\"], [0.5555555555555556, \"#d8576b\"], [0.6666666666666666, \"#ed7953\"], [0.7777777777777778, \"#fb9f3a\"], [0.8888888888888888, \"#fdca26\"], [1.0, \"#f0f921\"]], \"type\": \"surface\"}], \"table\": [{\"cells\": {\"fill\": {\"color\": \"#EBF0F8\"}, \"line\": {\"color\": \"white\"}}, \"header\": {\"fill\": {\"color\": \"#C8D4E3\"}, \"line\": {\"color\": \"white\"}}, \"type\": \"table\"}]}, \"layout\": {\"annotationdefaults\": {\"arrowcolor\": \"#2a3f5f\", \"arrowhead\": 0, \"arrowwidth\": 1}, \"autotypenumbers\": \"strict\", \"coloraxis\": {\"colorbar\": {\"outlinewidth\": 0, \"ticks\": \"\"}}, \"colorscale\": {\"diverging\": [[0, \"#8e0152\"], [0.1, \"#c51b7d\"], [0.2, \"#de77ae\"], [0.3, \"#f1b6da\"], [0.4, \"#fde0ef\"], [0.5, \"#f7f7f7\"], [0.6, \"#e6f5d0\"], [0.7, \"#b8e186\"], [0.8, \"#7fbc41\"], [0.9, \"#4d9221\"], [1, \"#276419\"]], \"sequential\": [[0.0, \"#0d0887\"], [0.1111111111111111, \"#46039f\"], [0.2222222222222222, \"#7201a8\"], [0.3333333333333333, \"#9c179e\"], [0.4444444444444444, \"#bd3786\"], [0.5555555555555556, \"#d8576b\"], [0.6666666666666666, \"#ed7953\"], [0.7777777777777778, \"#fb9f3a\"], [0.8888888888888888, \"#fdca26\"], [1.0, \"#f0f921\"]], \"sequentialminus\": [[0.0, \"#0d0887\"], [0.1111111111111111, \"#46039f\"], [0.2222222222222222, \"#7201a8\"], [0.3333333333333333, \"#9c179e\"], [0.4444444444444444, \"#bd3786\"], [0.5555555555555556, \"#d8576b\"], [0.6666666666666666, \"#ed7953\"], [0.7777777777777778, \"#fb9f3a\"], [0.8888888888888888, \"#fdca26\"], [1.0, \"#f0f921\"]]}, \"colorway\": [\"#636efa\", \"#EF553B\", \"#00cc96\", \"#ab63fa\", \"#FFA15A\", \"#19d3f3\", \"#FF6692\", \"#B6E880\", \"#FF97FF\", \"#FECB52\"], \"font\": {\"color\": \"#2a3f5f\"}, \"geo\": {\"bgcolor\": \"white\", \"lakecolor\": \"white\", \"landcolor\": \"#E5ECF6\", \"showlakes\": true, \"showland\": true, \"subunitcolor\": \"white\"}, \"hoverlabel\": {\"align\": \"left\"}, \"hovermode\": \"closest\", \"mapbox\": {\"style\": \"light\"}, \"paper_bgcolor\": \"white\", \"plot_bgcolor\": \"#E5ECF6\", \"polar\": {\"angularaxis\": {\"gridcolor\": \"white\", \"linecolor\": \"white\", \"ticks\": \"\"}, \"bgcolor\": \"#E5ECF6\", \"radialaxis\": {\"gridcolor\": \"white\", \"linecolor\": \"white\", \"ticks\": \"\"}}, \"scene\": {\"xaxis\": {\"backgroundcolor\": \"#E5ECF6\", \"gridcolor\": \"white\", \"gridwidth\": 2, \"linecolor\": \"white\", \"showbackground\": true, \"ticks\": \"\", \"zerolinecolor\": \"white\"}, \"yaxis\": {\"backgroundcolor\": \"#E5ECF6\", \"gridcolor\": \"white\", \"gridwidth\": 2, \"linecolor\": \"white\", \"showbackground\": true, \"ticks\": \"\", \"zerolinecolor\": \"white\"}, \"zaxis\": {\"backgroundcolor\": \"#E5ECF6\", \"gridcolor\": \"white\", \"gridwidth\": 2, \"linecolor\": \"white\", \"showbackground\": true, \"ticks\": \"\", \"zerolinecolor\": \"white\"}}, \"shapedefaults\": {\"line\": {\"color\": \"#2a3f5f\"}}, \"ternary\": {\"aaxis\": {\"gridcolor\": \"white\", \"linecolor\": \"white\", \"ticks\": \"\"}, \"baxis\": {\"gridcolor\": \"white\", \"linecolor\": \"white\", \"ticks\": \"\"}, \"bgcolor\": \"#E5ECF6\", \"caxis\": {\"gridcolor\": \"white\", \"linecolor\": \"white\", \"ticks\": \"\"}}, \"title\": {\"x\": 0.05}, \"xaxis\": {\"automargin\": true, \"gridcolor\": \"white\", \"linecolor\": \"white\", \"ticks\": \"\", \"title\": {\"standoff\": 15}, \"zerolinecolor\": \"white\", \"zerolinewidth\": 2}, \"yaxis\": {\"automargin\": true, \"gridcolor\": \"white\", \"linecolor\": \"white\", \"ticks\": \"\", \"title\": {\"standoff\": 15}, \"zerolinecolor\": \"white\", \"zerolinewidth\": 2}}}, \"title\": {\"text\": \"Published articles (monthly)\"}, \"xaxis\": {\"rangeslider\": {\"visible\": true}, \"title\": {\"text\": \"Date\"}}, \"yaxis\": {\"title\": {\"text\": \"Count\"}}},                        {\"responsive\": true}                    ).then(function(){\n",
       "                            \n",
       "var gd = document.getElementById('85bcb94c-867d-449e-9503-2cd968e56d32');\n",
       "var x = new MutationObserver(function (mutations, observer) {{\n",
       "        var display = window.getComputedStyle(gd).display;\n",
       "        if (!display || display === 'none') {{\n",
       "            console.log([gd, 'removed!']);\n",
       "            Plotly.purge(gd);\n",
       "            observer.disconnect();\n",
       "        }}\n",
       "}});\n",
       "\n",
       "// Listen for the removal of the full notebook cells\n",
       "var notebookContainer = gd.closest('#notebook-container');\n",
       "if (notebookContainer) {{\n",
       "    x.observe(notebookContainer, {childList: true});\n",
       "}}\n",
       "\n",
       "// Listen for the clearing of the current output cell\n",
       "var outputEl = gd.closest('.output');\n",
       "if (outputEl) {{\n",
       "    x.observe(outputEl, {childList: true});\n",
       "}}\n",
       "\n",
       "                        })                };                });            </script>        </div>"
      ]
     },
     "metadata": {},
     "output_type": "display_data"
    }
   ],
   "source": [
    "fig = go.Figure(data=[\n",
    "    \n",
    "    go.Scatter(name='Published articles', x = list(monthly_count.index),\n",
    "    y = list(monthly_count['URL']))\n",
    "    \n",
    "])\n",
    "\n",
    "fig.layout.update(title = go.layout.Title(\n",
    "                        text='Published articles (monthly)'))\n",
    "\n",
    "fig.layout.update(yaxis= go.layout.YAxis(title=go.layout.yaxis.Title(\n",
    "                        text='Count')))\n",
    "\n",
    "fig.layout.update(xaxis = go.layout.XAxis(title = go.layout.xaxis.Title(text = 'Date'), rangeslider = dict(visible = True)));\n",
    "\n",
    "iplot(fig, filename = 'published_articles')"
   ]
  },
  {
   "cell_type": "markdown",
   "id": "4eeebf88",
   "metadata": {},
   "source": [
    "24. Install the `chart-studio` library."
   ]
  },
  {
   "cell_type": "code",
   "execution_count": 36,
   "id": "3fa5e42e",
   "metadata": {},
   "outputs": [],
   "source": [
    "import chart_studio\n",
    "import chart_studio.plotly as py\n",
    "import plotly.graph_objs as go"
   ]
  },
  {
   "cell_type": "markdown",
   "id": "b42151f1",
   "metadata": {},
   "source": [
    "25. Log in to [Plotly Chart Studio](https://chart-studio.plotly.com/Auth/login/#/) and obtain your `Username` and `API key`. Store them both line-by-line in a .py file, e.g. name it \"plotly_config.py\"."
   ]
  },
  {
   "cell_type": "code",
   "execution_count": 37,
   "id": "1ef9d86f",
   "metadata": {},
   "outputs": [],
   "source": [
    "import plotly_config\n",
    "\n",
    "chart_studio.tools.set_credentials_file(username=plotly_config.Username, api_key=plotly_config.api_key)"
   ]
  },
  {
   "cell_type": "code",
   "execution_count": 38,
   "id": "597807c7",
   "metadata": {},
   "outputs": [
    {
     "data": {
      "text/plain": [
       "'https://plotly.com/~gerwolf/194/'"
      ]
     },
     "execution_count": 38,
     "metadata": {},
     "output_type": "execute_result"
    }
   ],
   "source": [
    "fig = go.Figure(data=[\n",
    "    \n",
    "    go.Scatter(name='Published articles', x = list(monthly_count.index),\n",
    "    y = list(monthly_count['URL']))\n",
    "    \n",
    "])\n",
    "\n",
    "fig.layout.update(title = go.layout.Title(\n",
    "                        text='Published articles (monthly)'))\n",
    "\n",
    "fig.layout.update(yaxis= go.layout.YAxis(title=go.layout.yaxis.Title(\n",
    "                        text='Count')))\n",
    "\n",
    "fig.layout.update(xaxis = go.layout.XAxis(title = go.layout.xaxis.Title(text = 'Date'), rangeslider = dict(visible = True)));\n",
    "\n",
    "py.plot(fig, filename = 'published_articles', auto_open = True)"
   ]
  }
 ],
 "metadata": {
  "kernelspec": {
   "display_name": "Webscraping Workshop",
   "language": "python",
   "name": "webscraping"
  },
  "language_info": {
   "codemirror_mode": {
    "name": "ipython",
    "version": 3
   },
   "file_extension": ".py",
   "mimetype": "text/x-python",
   "name": "python",
   "nbconvert_exporter": "python",
   "pygments_lexer": "ipython3",
   "version": "3.8.8"
  }
 },
 "nbformat": 4,
 "nbformat_minor": 5
}
