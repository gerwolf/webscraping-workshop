{
 "cells": [
  {
   "cell_type": "markdown",
   "id": "80b2f999",
   "metadata": {},
   "source": [
    "# Obtaining structured web content and programmatic access\n",
    "\n",
    "In this notebook we will learn how to make use of readily structured data through dedicated application programming interfaces (APIs), how to authenticate and how to properly design requests (also called \"payload\") in order to retrieve large datasets.\n",
    "\n",
    "**Advantages** of APIs are that\n",
    "- access is legal and in most cases clearly and transparently regulated (e.g. 10,000 calls per day)\n",
    "- structuring through `requests` and `BeautifulSoup` not required\n",
    "- Python packages that simplify server-client interaction are available\n",
    "\n",
    "**Disadvantages** of APIs are that\n",
    "- we have to learn how APIs work and how we should interact with them (each API has some peculiarities and documentation is usually good, but sometimes not so...)\n",
    "- authentification may be required and access may not be free of charge \n",
    "\n",
    "We will\n",
    "- obtain data of a public statistical office such as the IMF or World Bank through the `pandas-datareader`\n",
    "- directly obtain a (ranking) table from a website such the [World Cube Association](https://www.worldcubeassociation.org/results/rankings/333/single)\n",
    "- learn how to use the Destatis/GENESIS Online service and API\n",
    "- learn how to use the Twitter API (in particular [Tweepy](https://www.tweepy.org/), a Python library for the Twitter API) and retrieve Tweets with GeoTags (i.e. coordinates) subject to specified geography and search terms\n",
    "- conduct some small analyses and visualise the results appropriately"
   ]
  },
  {
   "cell_type": "code",
   "execution_count": 1,
   "id": "b3887aa8",
   "metadata": {},
   "outputs": [],
   "source": [
    "import pandas as pd"
   ]
  },
  {
   "cell_type": "code",
   "execution_count": 2,
   "id": "1ada2bc4",
   "metadata": {},
   "outputs": [
    {
     "name": "stdout",
     "output_type": "stream",
     "text": [
      "Requirement already satisfied: pandas-datareader in c:\\users\\wolfg\\anaconda3\\envs\\webscraping\\lib\\site-packages (0.9.0)\n",
      "Requirement already satisfied: pandas>=0.23 in c:\\users\\wolfg\\anaconda3\\envs\\webscraping\\lib\\site-packages (from pandas-datareader) (1.2.3)\n",
      "Requirement already satisfied: requests>=2.19.0 in c:\\users\\wolfg\\anaconda3\\envs\\webscraping\\lib\\site-packages (from pandas-datareader) (2.25.1)\n",
      "Requirement already satisfied: lxml in c:\\users\\wolfg\\anaconda3\\envs\\webscraping\\lib\\site-packages (from pandas-datareader) (4.6.3)\n",
      "Requirement already satisfied: numpy>=1.16.5 in c:\\users\\wolfg\\anaconda3\\envs\\webscraping\\lib\\site-packages (from pandas>=0.23->pandas-datareader) (1.20.2)\n",
      "Requirement already satisfied: python-dateutil>=2.7.3 in c:\\users\\wolfg\\anaconda3\\envs\\webscraping\\lib\\site-packages (from pandas>=0.23->pandas-datareader) (2.8.0)\n",
      "Requirement already satisfied: pytz>=2017.3 in c:\\users\\wolfg\\anaconda3\\envs\\webscraping\\lib\\site-packages (from pandas>=0.23->pandas-datareader) (2021.1)\n",
      "Requirement already satisfied: six>=1.5 in c:\\users\\wolfg\\anaconda3\\envs\\webscraping\\lib\\site-packages (from python-dateutil>=2.7.3->pandas>=0.23->pandas-datareader) (1.15.0)\n",
      "Requirement already satisfied: certifi>=2017.4.17 in c:\\users\\wolfg\\anaconda3\\envs\\webscraping\\lib\\site-packages (from requests>=2.19.0->pandas-datareader) (2020.12.5)\n",
      "Requirement already satisfied: chardet<5,>=3.0.2 in c:\\users\\wolfg\\anaconda3\\envs\\webscraping\\lib\\site-packages (from requests>=2.19.0->pandas-datareader) (4.0.0)\n",
      "Requirement already satisfied: idna<3,>=2.5 in c:\\users\\wolfg\\anaconda3\\envs\\webscraping\\lib\\site-packages (from requests>=2.19.0->pandas-datareader) (2.10)\n",
      "Requirement already satisfied: urllib3<1.27,>=1.21.1 in c:\\users\\wolfg\\anaconda3\\envs\\webscraping\\lib\\site-packages (from requests>=2.19.0->pandas-datareader) (1.26.4)\n"
     ]
    }
   ],
   "source": [
    "!pip install pandas-datareader --upgrade"
   ]
  },
  {
   "cell_type": "code",
   "execution_count": 3,
   "id": "168de0c2",
   "metadata": {},
   "outputs": [
    {
     "data": {
      "text/html": [
       "<div>\n",
       "<style scoped>\n",
       "    .dataframe tbody tr th:only-of-type {\n",
       "        vertical-align: middle;\n",
       "    }\n",
       "\n",
       "    .dataframe tbody tr th {\n",
       "        vertical-align: top;\n",
       "    }\n",
       "\n",
       "    .dataframe thead th {\n",
       "        text-align: right;\n",
       "    }\n",
       "</style>\n",
       "<table border=\"1\" class=\"dataframe\">\n",
       "  <thead>\n",
       "    <tr style=\"text-align: right;\">\n",
       "      <th></th>\n",
       "      <th>id</th>\n",
       "      <th>name</th>\n",
       "      <th>unit</th>\n",
       "      <th>source</th>\n",
       "      <th>sourceNote</th>\n",
       "      <th>sourceOrganization</th>\n",
       "      <th>topics</th>\n",
       "    </tr>\n",
       "  </thead>\n",
       "  <tbody>\n",
       "    <tr>\n",
       "      <th>9027</th>\n",
       "      <td>NV.SRV.DISC.CD</td>\n",
       "      <td>Discrepancy in GDP, value added (current US$)</td>\n",
       "      <td></td>\n",
       "      <td>Africa Development Indicators</td>\n",
       "      <td>This is the discrepancy included in the value ...</td>\n",
       "      <td>b'World Bank national accounts data, and OECD ...</td>\n",
       "      <td></td>\n",
       "    </tr>\n",
       "    <tr>\n",
       "      <th>9155</th>\n",
       "      <td>NY.GDP.DISC.CD</td>\n",
       "      <td>Discrepancy in expenditure estimate of GDP (cu...</td>\n",
       "      <td></td>\n",
       "      <td>Africa Development Indicators</td>\n",
       "      <td>This is the discrepancy included in the ‘total...</td>\n",
       "      <td>b'World Bank national accounts data, and OECD ...</td>\n",
       "      <td></td>\n",
       "    </tr>\n",
       "    <tr>\n",
       "      <th>9166</th>\n",
       "      <td>NY.GDP.MKTP.CD</td>\n",
       "      <td>GDP (current US$)</td>\n",
       "      <td></td>\n",
       "      <td>World Development Indicators</td>\n",
       "      <td>GDP at purchaser's prices is the sum of gross ...</td>\n",
       "      <td>b'World Bank national accounts data, and OECD ...</td>\n",
       "      <td>Economy &amp; Growth</td>\n",
       "    </tr>\n",
       "    <tr>\n",
       "      <th>9185</th>\n",
       "      <td>NY.GDP.PCAP.CD</td>\n",
       "      <td>GDP per capita (current US$)</td>\n",
       "      <td></td>\n",
       "      <td>World Development Indicators</td>\n",
       "      <td>GDP per capita is gross domestic product divid...</td>\n",
       "      <td>b'World Bank national accounts data, and OECD ...</td>\n",
       "      <td>Economy &amp; Growth</td>\n",
       "    </tr>\n",
       "    <tr>\n",
       "      <th>9292</th>\n",
       "      <td>NYGDPMKTPSACD</td>\n",
       "      <td>GDP,current US$,millions,seas. adj.,</td>\n",
       "      <td></td>\n",
       "      <td>Global Economic Monitor</td>\n",
       "      <td></td>\n",
       "      <td>b''</td>\n",
       "      <td></td>\n",
       "    </tr>\n",
       "  </tbody>\n",
       "</table>\n",
       "</div>"
      ],
      "text/plain": [
       "                  id                                               name unit  \\\n",
       "9027  NV.SRV.DISC.CD      Discrepancy in GDP, value added (current US$)        \n",
       "9155  NY.GDP.DISC.CD  Discrepancy in expenditure estimate of GDP (cu...        \n",
       "9166  NY.GDP.MKTP.CD                                  GDP (current US$)        \n",
       "9185  NY.GDP.PCAP.CD                       GDP per capita (current US$)        \n",
       "9292   NYGDPMKTPSACD               GDP,current US$,millions,seas. adj.,        \n",
       "\n",
       "                             source  \\\n",
       "9027  Africa Development Indicators   \n",
       "9155  Africa Development Indicators   \n",
       "9166   World Development Indicators   \n",
       "9185   World Development Indicators   \n",
       "9292        Global Economic Monitor   \n",
       "\n",
       "                                             sourceNote  \\\n",
       "9027  This is the discrepancy included in the value ...   \n",
       "9155  This is the discrepancy included in the ‘total...   \n",
       "9166  GDP at purchaser's prices is the sum of gross ...   \n",
       "9185  GDP per capita is gross domestic product divid...   \n",
       "9292                                                      \n",
       "\n",
       "                                     sourceOrganization            topics  \n",
       "9027  b'World Bank national accounts data, and OECD ...                    \n",
       "9155  b'World Bank national accounts data, and OECD ...                    \n",
       "9166  b'World Bank national accounts data, and OECD ...  Economy & Growth  \n",
       "9185  b'World Bank national accounts data, and OECD ...  Economy & Growth  \n",
       "9292                                                b''                    "
      ]
     },
     "execution_count": 3,
     "metadata": {},
     "output_type": "execute_result"
    }
   ],
   "source": [
    "from pandas_datareader import wb # imports world bank access\n",
    "search = wb.search('GDP.*current.*US') # search for keyword\n",
    "search"
   ]
  },
  {
   "cell_type": "code",
   "execution_count": 4,
   "id": "745cdbe5",
   "metadata": {},
   "outputs": [
    {
     "name": "stdout",
     "output_type": "stream",
     "text": [
      "<class 'pandas.core.frame.DataFrame'>\n",
      "MultiIndex: 60 entries, ('Germany', '2019') to ('Italy', '2000')\n",
      "Data columns (total 1 columns):\n",
      " #   Column          Non-Null Count  Dtype  \n",
      "---  ------          --------------  -----  \n",
      " 0   NY.GDP.MKTP.CD  60 non-null     float64\n",
      "dtypes: float64(1)\n",
      "memory usage: 1.5+ KB\n"
     ]
    }
   ],
   "source": [
    "df = wb.download(indicator = 'NY.GDP.MKTP.CD', country = ['DE', 'FR', 'IT'],\n",
    "                start = 2000, end = 2019)\n",
    "df.info()"
   ]
  },
  {
   "cell_type": "code",
   "execution_count": 5,
   "id": "c7cf9b99",
   "metadata": {},
   "outputs": [
    {
     "data": {
      "text/html": [
       "<div>\n",
       "<style scoped>\n",
       "    .dataframe tbody tr th:only-of-type {\n",
       "        vertical-align: middle;\n",
       "    }\n",
       "\n",
       "    .dataframe tbody tr th {\n",
       "        vertical-align: top;\n",
       "    }\n",
       "\n",
       "    .dataframe thead tr th {\n",
       "        text-align: left;\n",
       "    }\n",
       "\n",
       "    .dataframe thead tr:last-of-type th {\n",
       "        text-align: right;\n",
       "    }\n",
       "</style>\n",
       "<table border=\"1\" class=\"dataframe\">\n",
       "  <thead>\n",
       "    <tr>\n",
       "      <th></th>\n",
       "      <th colspan=\"8\" halign=\"left\">NY.GDP.MKTP.CD</th>\n",
       "    </tr>\n",
       "    <tr>\n",
       "      <th></th>\n",
       "      <th>count</th>\n",
       "      <th>mean</th>\n",
       "      <th>std</th>\n",
       "      <th>min</th>\n",
       "      <th>25%</th>\n",
       "      <th>50%</th>\n",
       "      <th>75%</th>\n",
       "      <th>max</th>\n",
       "    </tr>\n",
       "    <tr>\n",
       "      <th>country</th>\n",
       "      <th></th>\n",
       "      <th></th>\n",
       "      <th></th>\n",
       "      <th></th>\n",
       "      <th></th>\n",
       "      <th></th>\n",
       "      <th></th>\n",
       "      <th></th>\n",
       "    </tr>\n",
       "  </thead>\n",
       "  <tbody>\n",
       "    <tr>\n",
       "      <th>France</th>\n",
       "      <td>20.0</td>\n",
       "      <td>2.391444e+12</td>\n",
       "      <td>5.039285e+11</td>\n",
       "      <td>1.362249e+12</td>\n",
       "      <td>2.176030e+12</td>\n",
       "      <td>2.618880e+12</td>\n",
       "      <td>2.733605e+12</td>\n",
       "      <td>2.918383e+12</td>\n",
       "    </tr>\n",
       "    <tr>\n",
       "      <th>Germany</th>\n",
       "      <td>20.0</td>\n",
       "      <td>3.213212e+12</td>\n",
       "      <td>6.554315e+11</td>\n",
       "      <td>1.943145e+12</td>\n",
       "      <td>2.836649e+12</td>\n",
       "      <td>3.409510e+12</td>\n",
       "      <td>3.730707e+12</td>\n",
       "      <td>3.963768e+12</td>\n",
       "    </tr>\n",
       "    <tr>\n",
       "      <th>Italy</th>\n",
       "      <td>20.0</td>\n",
       "      <td>1.907346e+12</td>\n",
       "      <td>3.611625e+11</td>\n",
       "      <td>1.143830e+12</td>\n",
       "      <td>1.827731e+12</td>\n",
       "      <td>1.982686e+12</td>\n",
       "      <td>2.145770e+12</td>\n",
       "      <td>2.398857e+12</td>\n",
       "    </tr>\n",
       "  </tbody>\n",
       "</table>\n",
       "</div>"
      ],
      "text/plain": [
       "        NY.GDP.MKTP.CD                                            \\\n",
       "                 count          mean           std           min   \n",
       "country                                                            \n",
       "France            20.0  2.391444e+12  5.039285e+11  1.362249e+12   \n",
       "Germany           20.0  3.213212e+12  6.554315e+11  1.943145e+12   \n",
       "Italy             20.0  1.907346e+12  3.611625e+11  1.143830e+12   \n",
       "\n",
       "                                                                 \n",
       "                  25%           50%           75%           max  \n",
       "country                                                          \n",
       "France   2.176030e+12  2.618880e+12  2.733605e+12  2.918383e+12  \n",
       "Germany  2.836649e+12  3.409510e+12  3.730707e+12  3.963768e+12  \n",
       "Italy    1.827731e+12  1.982686e+12  2.145770e+12  2.398857e+12  "
      ]
     },
     "execution_count": 5,
     "metadata": {},
     "output_type": "execute_result"
    }
   ],
   "source": [
    "df.groupby('country').describe()"
   ]
  },
  {
   "cell_type": "code",
   "execution_count": 6,
   "id": "4c4e4736",
   "metadata": {},
   "outputs": [],
   "source": [
    "df2 = df.reset_index()"
   ]
  },
  {
   "cell_type": "code",
   "execution_count": 7,
   "id": "384fc7f2",
   "metadata": {},
   "outputs": [
    {
     "name": "stdout",
     "output_type": "stream",
     "text": [
      "<class 'pandas.core.frame.DataFrame'>\n",
      "RangeIndex: 60 entries, 0 to 59\n",
      "Data columns (total 3 columns):\n",
      " #   Column          Non-Null Count  Dtype  \n",
      "---  ------          --------------  -----  \n",
      " 0   country         60 non-null     object \n",
      " 1   year            60 non-null     object \n",
      " 2   NY.GDP.MKTP.CD  60 non-null     float64\n",
      "dtypes: float64(1), object(2)\n",
      "memory usage: 1.5+ KB\n"
     ]
    }
   ],
   "source": [
    "df2.info()"
   ]
  },
  {
   "cell_type": "code",
   "execution_count": 8,
   "id": "1ca64ddb",
   "metadata": {},
   "outputs": [
    {
     "name": "stdout",
     "output_type": "stream",
     "text": [
      "<class 'pandas.core.frame.DataFrame'>\n",
      "RangeIndex: 60 entries, 0 to 59\n",
      "Data columns (total 3 columns):\n",
      " #   Column   Non-Null Count  Dtype  \n",
      "---  ------   --------------  -----  \n",
      " 0   country  60 non-null     object \n",
      " 1   year     60 non-null     int32  \n",
      " 2   gdp      60 non-null     float64\n",
      "dtypes: float64(1), int32(1), object(1)\n",
      "memory usage: 1.3+ KB\n"
     ]
    }
   ],
   "source": [
    "df2.columns = ['country', 'year', 'gdp'] # rename columns\n",
    "df2.year = df2.year.astype(int) # numeric annual indicator\n",
    "df2.info()"
   ]
  },
  {
   "cell_type": "code",
   "execution_count": 9,
   "id": "1c215845",
   "metadata": {},
   "outputs": [],
   "source": [
    "import matplotlib.pyplot as plt\n",
    "import datetime"
   ]
  },
  {
   "cell_type": "code",
   "execution_count": 10,
   "id": "508004fb",
   "metadata": {},
   "outputs": [
    {
     "data": {
      "image/png": "[encoded data removed]",
      "text/plain": [
       "<Figure size 432x288 with 1 Axes>"
      ]
     },
     "metadata": {
      "needs_background": "light"
     },
     "output_type": "display_data"
    }
   ],
   "source": [
    "for country in df2['country'].unique():\n",
    "    \n",
    "    plt.plot(df2[df2['country'] == country]['year'], df2[df2['country'] == country]['gdp'], label = country)\n",
    "    \n",
    "    plt.xlabel('Year')\n",
    "    plt.ylabel('Nominal GDP (in US$)')\n",
    "    plt.title('This is a so-so graph...')"
   ]
  },
  {
   "cell_type": "code",
   "execution_count": 11,
   "id": "f8a18cf3",
   "metadata": {},
   "outputs": [
    {
     "data": {
      "text/html": [
       "        <script type=\"text/javascript\">\n",
       "        window.PlotlyConfig = {MathJaxConfig: 'local'};\n",
       "        if (window.MathJax) {MathJax.Hub.Config({SVG: {font: \"STIX-Web\"}});}\n",
       "        if (typeof require !== 'undefined') {\n",
       "        require.undef(\"plotly\");\n",
       "        requirejs.config({\n",
       "            paths: {\n",
       "                'plotly': ['https://cdn.plot.ly/plotly-latest.min']\n",
       "            }\n",
       "        });\n",
       "        require(['plotly'], function(Plotly) {\n",
       "            window._Plotly = Plotly;\n",
       "        });\n",
       "        }\n",
       "        </script>\n",
       "        "
      ]
     },
     "metadata": {},
     "output_type": "display_data"
    }
   ],
   "source": [
    "import plotly.graph_objs as go\n",
    "import plotly.figure_factory as ff\n",
    "from plotly.offline import download_plotlyjs, init_notebook_mode, plot, iplot\n",
    "init_notebook_mode(connected=True)"
   ]
  },
  {
   "cell_type": "code",
   "execution_count": 12,
   "id": "7d253cde",
   "metadata": {},
   "outputs": [
    {
     "data": {
      "application/vnd.plotly.v1+json": {
       "config": {
        "linkText": "Export to plot.ly",
        "plotlyServerURL": "https://plot.ly",
        "showLink": false
       },
       "data": [
        {
         "name": "Germany",
         "type": "scatter",
         "x": [
          2019,
          2018,
          2017,
          2016,
          2015,
          2014,
          2013,
          2012,
          2011,
          2010,
          2009,
          2008,
          2007,
          2006,
          2005,
          2004,
          2003,
          2002,
          2001,
          2000
         ],
         "y": [
          3861123558039.21,
          3963767526250.98,
          3682602479929.42,
          3467498002104.33,
          3356235704119.75,
          3883920155292.26,
          3732743446218.92,
          3527344944139.83,
          3744408602683.94,
          3396354075663.73,
          3397791053070.3,
          3730027830672.33,
          3421229126745.14,
          2992196713084.93,
          2845802760850.64,
          2809187981127.39,
          2496128668171.56,
          2068624129493.69,
          1944107382550.34,
          1943145384190.16
         ]
        },
        {
         "name": "France",
         "type": "scatter",
         "x": [
          2019,
          2018,
          2017,
          2016,
          2015,
          2014,
          2013,
          2012,
          2011,
          2010,
          2009,
          2008,
          2007,
          2006,
          2005,
          2004,
          2003,
          2002,
          2001,
          2000
         ],
         "y": [
          2715518274227.45,
          2787863958885.49,
          2595151045197.65,
          2471285607081.72,
          2438207896251.84,
          2852165760630.27,
          2811077725703.59,
          2683825225092.63,
          2861408170264.6,
          2642609548930.36,
          2690222283967.77,
          2918382891460.38,
          2657213249384.07,
          2318593651988.46,
          2196126103718.44,
          2115742488204.62,
          1840480812641.08,
          1494286655373.61,
          1376465324384.79,
          1362248940482.77
         ]
        },
        {
         "name": "Italy",
         "type": "scatter",
         "x": [
          2019,
          2018,
          2017,
          2016,
          2015,
          2014,
          2013,
          2012,
          2011,
          2010,
          2009,
          2008,
          2007,
          2006,
          2005,
          2004,
          2003,
          2002,
          2001,
          2000
         ],
         "y": [
          2003576145498.04,
          2091544955092.31,
          1961796197354.36,
          1875797463583.87,
          1835899237320.04,
          2159133919743.77,
          2141315327318.21,
          2087077032435.15,
          2291991045770.29,
          2134017843247.16,
          2191241872742.43,
          2398856598798.89,
          2210292636189.43,
          1947919708944.93,
          1857524312896.41,
          1803226967966.23,
          1574145823927.77,
          1270712309429.7,
          1167012796420.58,
          1143829832319.88
         ]
        }
       ],
       "layout": {
        "template": {
         "data": {
          "bar": [
           {
            "error_x": {
             "color": "#2a3f5f"
            },
            "error_y": {
             "color": "#2a3f5f"
            },
            "marker": {
             "line": {
              "color": "#E5ECF6",
              "width": 0.5
             }
            },
            "type": "bar"
           }
          ],
          "barpolar": [
           {
            "marker": {
             "line": {
              "color": "#E5ECF6",
              "width": 0.5
             }
            },
            "type": "barpolar"
           }
          ],
          "carpet": [
           {
            "aaxis": {
             "endlinecolor": "#2a3f5f",
             "gridcolor": "white",
             "linecolor": "white",
             "minorgridcolor": "white",
             "startlinecolor": "#2a3f5f"
            },
            "baxis": {
             "endlinecolor": "#2a3f5f",
             "gridcolor": "white",
             "linecolor": "white",
             "minorgridcolor": "white",
             "startlinecolor": "#2a3f5f"
            },
            "type": "carpet"
           }
          ],
          "choropleth": [
           {
            "colorbar": {
             "outlinewidth": 0,
             "ticks": ""
            },
            "type": "choropleth"
           }
          ],
          "contour": [
           {
            "colorbar": {
             "outlinewidth": 0,
             "ticks": ""
            },
            "colorscale": [
             [
              0,
              "#0d0887"
             ],
             [
              0.1111111111111111,
              "#46039f"
             ],
             [
              0.2222222222222222,
              "#7201a8"
             ],
             [
              0.3333333333333333,
              "#9c179e"
             ],
             [
              0.4444444444444444,
              "#bd3786"
             ],
             [
              0.5555555555555556,
              "#d8576b"
             ],
             [
              0.6666666666666666,
              "#ed7953"
             ],
             [
              0.7777777777777778,
              "#fb9f3a"
             ],
             [
              0.8888888888888888,
              "#fdca26"
             ],
             [
              1,
              "#f0f921"
             ]
            ],
            "type": "contour"
           }
          ],
          "contourcarpet": [
           {
            "colorbar": {
             "outlinewidth": 0,
             "ticks": ""
            },
            "type": "contourcarpet"
           }
          ],
          "heatmap": [
           {
            "colorbar": {
             "outlinewidth": 0,
             "ticks": ""
            },
            "colorscale": [
             [
              0,
              "#0d0887"
             ],
             [
              0.1111111111111111,
              "#46039f"
             ],
             [
              0.2222222222222222,
              "#7201a8"
             ],
             [
              0.3333333333333333,
              "#9c179e"
             ],
             [
              0.4444444444444444,
              "#bd3786"
             ],
             [
              0.5555555555555556,
              "#d8576b"
             ],
             [
              0.6666666666666666,
              "#ed7953"
             ],
             [
              0.7777777777777778,
              "#fb9f3a"
             ],
             [
              0.8888888888888888,
              "#fdca26"
             ],
             [
              1,
              "#f0f921"
             ]
            ],
            "type": "heatmap"
           }
          ],
          "heatmapgl": [
           {
            "colorbar": {
             "outlinewidth": 0,
             "ticks": ""
            },
            "colorscale": [
             [
              0,
              "#0d0887"
             ],
             [
              0.1111111111111111,
              "#46039f"
             ],
             [
              0.2222222222222222,
              "#7201a8"
             ],
             [
              0.3333333333333333,
              "#9c179e"
             ],
             [
              0.4444444444444444,
              "#bd3786"
             ],
             [
              0.5555555555555556,
              "#d8576b"
             ],
             [
              0.6666666666666666,
              "#ed7953"
             ],
             [
              0.7777777777777778,
              "#fb9f3a"
             ],
             [
              0.8888888888888888,
              "#fdca26"
             ],
             [
              1,
              "#f0f921"
             ]
            ],
            "type": "heatmapgl"
           }
          ],
          "histogram": [
           {
            "marker": {
             "colorbar": {
              "outlinewidth": 0,
              "ticks": ""
             }
            },
            "type": "histogram"
           }
          ],
          "histogram2d": [
           {
            "colorbar": {
             "outlinewidth": 0,
             "ticks": ""
            },
            "colorscale": [
             [
              0,
              "#0d0887"
             ],
             [
              0.1111111111111111,
              "#46039f"
             ],
             [
              0.2222222222222222,
              "#7201a8"
             ],
             [
              0.3333333333333333,
              "#9c179e"
             ],
             [
              0.4444444444444444,
              "#bd3786"
             ],
             [
              0.5555555555555556,
              "#d8576b"
             ],
             [
              0.6666666666666666,
              "#ed7953"
             ],
             [
              0.7777777777777778,
              "#fb9f3a"
             ],
             [
              0.8888888888888888,
              "#fdca26"
             ],
             [
              1,
              "#f0f921"
             ]
            ],
            "type": "histogram2d"
           }
          ],
          "histogram2dcontour": [
           {
            "colorbar": {
             "outlinewidth": 0,
             "ticks": ""
            },
            "colorscale": [
             [
              0,
              "#0d0887"
             ],
             [
              0.1111111111111111,
              "#46039f"
             ],
             [
              0.2222222222222222,
              "#7201a8"
             ],
             [
              0.3333333333333333,
              "#9c179e"
             ],
             [
              0.4444444444444444,
              "#bd3786"
             ],
             [
              0.5555555555555556,
              "#d8576b"
             ],
             [
              0.6666666666666666,
              "#ed7953"
             ],
             [
              0.7777777777777778,
              "#fb9f3a"
             ],
             [
              0.8888888888888888,
              "#fdca26"
             ],
             [
              1,
              "#f0f921"
             ]
            ],
            "type": "histogram2dcontour"
           }
          ],
          "mesh3d": [
           {
            "colorbar": {
             "outlinewidth": 0,
             "ticks": ""
            },
            "type": "mesh3d"
           }
          ],
          "parcoords": [
           {
            "line": {
             "colorbar": {
              "outlinewidth": 0,
              "ticks": ""
             }
            },
            "type": "parcoords"
           }
          ],
          "pie": [
           {
            "automargin": true,
            "type": "pie"
           }
          ],
          "scatter": [
           {
            "marker": {
             "colorbar": {
              "outlinewidth": 0,
              "ticks": ""
             }
            },
            "type": "scatter"
           }
          ],
          "scatter3d": [
           {
            "line": {
             "colorbar": {
              "outlinewidth": 0,
              "ticks": ""
             }
            },
            "marker": {
             "colorbar": {
              "outlinewidth": 0,
              "ticks": ""
             }
            },
            "type": "scatter3d"
           }
          ],
          "scattercarpet": [
           {
            "marker": {
             "colorbar": {
              "outlinewidth": 0,
              "ticks": ""
             }
            },
            "type": "scattercarpet"
           }
          ],
          "scattergeo": [
           {
            "marker": {
             "colorbar": {
              "outlinewidth": 0,
              "ticks": ""
             }
            },
            "type": "scattergeo"
           }
          ],
          "scattergl": [
           {
            "marker": {
             "colorbar": {
              "outlinewidth": 0,
              "ticks": ""
             }
            },
            "type": "scattergl"
           }
          ],
          "scattermapbox": [
           {
            "marker": {
             "colorbar": {
              "outlinewidth": 0,
              "ticks": ""
             }
            },
            "type": "scattermapbox"
           }
          ],
          "scatterpolar": [
           {
            "marker": {
             "colorbar": {
              "outlinewidth": 0,
              "ticks": ""
             }
            },
            "type": "scatterpolar"
           }
          ],
          "scatterpolargl": [
           {
            "marker": {
             "colorbar": {
              "outlinewidth": 0,
              "ticks": ""
             }
            },
            "type": "scatterpolargl"
           }
          ],
          "scatterternary": [
           {
            "marker": {
             "colorbar": {
              "outlinewidth": 0,
              "ticks": ""
             }
            },
            "type": "scatterternary"
           }
          ],
          "surface": [
           {
            "colorbar": {
             "outlinewidth": 0,
             "ticks": ""
            },
            "colorscale": [
             [
              0,
              "#0d0887"
             ],
             [
              0.1111111111111111,
              "#46039f"
             ],
             [
              0.2222222222222222,
              "#7201a8"
             ],
             [
              0.3333333333333333,
              "#9c179e"
             ],
             [
              0.4444444444444444,
              "#bd3786"
             ],
             [
              0.5555555555555556,
              "#d8576b"
             ],
             [
              0.6666666666666666,
              "#ed7953"
             ],
             [
              0.7777777777777778,
              "#fb9f3a"
             ],
             [
              0.8888888888888888,
              "#fdca26"
             ],
             [
              1,
              "#f0f921"
             ]
            ],
            "type": "surface"
           }
          ],
          "table": [
           {
            "cells": {
             "fill": {
              "color": "#EBF0F8"
             },
             "line": {
              "color": "white"
             }
            },
            "header": {
             "fill": {
              "color": "#C8D4E3"
             },
             "line": {
              "color": "white"
             }
            },
            "type": "table"
           }
          ]
         },
         "layout": {
          "annotationdefaults": {
           "arrowcolor": "#2a3f5f",
           "arrowhead": 0,
           "arrowwidth": 1
          },
          "autotypenumbers": "strict",
          "coloraxis": {
           "colorbar": {
            "outlinewidth": 0,
            "ticks": ""
           }
          },
          "colorscale": {
           "diverging": [
            [
             0,
             "#8e0152"
            ],
            [
             0.1,
             "#c51b7d"
            ],
            [
             0.2,
             "#de77ae"
            ],
            [
             0.3,
             "#f1b6da"
            ],
            [
             0.4,
             "#fde0ef"
            ],
            [
             0.5,
             "#f7f7f7"
            ],
            [
             0.6,
             "#e6f5d0"
            ],
            [
             0.7,
             "#b8e186"
            ],
            [
             0.8,
             "#7fbc41"
            ],
            [
             0.9,
             "#4d9221"
            ],
            [
             1,
             "#276419"
            ]
           ],
           "sequential": [
            [
             0,
             "#0d0887"
            ],
            [
             0.1111111111111111,
             "#46039f"
            ],
            [
             0.2222222222222222,
             "#7201a8"
            ],
            [
             0.3333333333333333,
             "#9c179e"
            ],
            [
             0.4444444444444444,
             "#bd3786"
            ],
            [
             0.5555555555555556,
             "#d8576b"
            ],
            [
             0.6666666666666666,
             "#ed7953"
            ],
            [
             0.7777777777777778,
             "#fb9f3a"
            ],
            [
             0.8888888888888888,
             "#fdca26"
            ],
            [
             1,
             "#f0f921"
            ]
           ],
           "sequentialminus": [
            [
             0,
             "#0d0887"
            ],
            [
             0.1111111111111111,
             "#46039f"
            ],
            [
             0.2222222222222222,
             "#7201a8"
            ],
            [
             0.3333333333333333,
             "#9c179e"
            ],
            [
             0.4444444444444444,
             "#bd3786"
            ],
            [
             0.5555555555555556,
             "#d8576b"
            ],
            [
             0.6666666666666666,
             "#ed7953"
            ],
            [
             0.7777777777777778,
             "#fb9f3a"
            ],
            [
             0.8888888888888888,
             "#fdca26"
            ],
            [
             1,
             "#f0f921"
            ]
           ]
          },
          "colorway": [
           "#636efa",
           "#EF553B",
           "#00cc96",
           "#ab63fa",
           "#FFA15A",
           "#19d3f3",
           "#FF6692",
           "#B6E880",
           "#FF97FF",
           "#FECB52"
          ],
          "font": {
           "color": "#2a3f5f"
          },
          "geo": {
           "bgcolor": "white",
           "lakecolor": "white",
           "landcolor": "#E5ECF6",
           "showlakes": true,
           "showland": true,
           "subunitcolor": "white"
          },
          "hoverlabel": {
           "align": "left"
          },
          "hovermode": "closest",
          "mapbox": {
           "style": "light"
          },
          "paper_bgcolor": "white",
          "plot_bgcolor": "#E5ECF6",
          "polar": {
           "angularaxis": {
            "gridcolor": "white",
            "linecolor": "white",
            "ticks": ""
           },
           "bgcolor": "#E5ECF6",
           "radialaxis": {
            "gridcolor": "white",
            "linecolor": "white",
            "ticks": ""
           }
          },
          "scene": {
           "xaxis": {
            "backgroundcolor": "#E5ECF6",
            "gridcolor": "white",
            "gridwidth": 2,
            "linecolor": "white",
            "showbackground": true,
            "ticks": "",
            "zerolinecolor": "white"
           },
           "yaxis": {
            "backgroundcolor": "#E5ECF6",
            "gridcolor": "white",
            "gridwidth": 2,
            "linecolor": "white",
            "showbackground": true,
            "ticks": "",
            "zerolinecolor": "white"
           },
           "zaxis": {
            "backgroundcolor": "#E5ECF6",
            "gridcolor": "white",
            "gridwidth": 2,
            "linecolor": "white",
            "showbackground": true,
            "ticks": "",
            "zerolinecolor": "white"
           }
          },
          "shapedefaults": {
           "line": {
            "color": "#2a3f5f"
           }
          },
          "ternary": {
           "aaxis": {
            "gridcolor": "white",
            "linecolor": "white",
            "ticks": ""
           },
           "baxis": {
            "gridcolor": "white",
            "linecolor": "white",
            "ticks": ""
           },
           "bgcolor": "#E5ECF6",
           "caxis": {
            "gridcolor": "white",
            "linecolor": "white",
            "ticks": ""
           }
          },
          "title": {
           "x": 0.05
          },
          "xaxis": {
           "automargin": true,
           "gridcolor": "white",
           "linecolor": "white",
           "ticks": "",
           "title": {
            "standoff": 15
           },
           "zerolinecolor": "white",
           "zerolinewidth": 2
          },
          "yaxis": {
           "automargin": true,
           "gridcolor": "white",
           "linecolor": "white",
           "ticks": "",
           "title": {
            "standoff": 15
           },
           "zerolinecolor": "white",
           "zerolinewidth": 2
          }
         }
        },
        "title": {
         "text": "This is a much cooler graph!"
        },
        "xaxis": {
         "rangeslider": {
          "visible": true
         },
         "title": {
          "text": "Year"
         }
        },
        "yaxis": {
         "title": {
          "text": "Nominal GDP (in US$)"
         }
        }
       }
      },
      "text/html": [
       "<div>                            <div id=\"b522c6ae-ffcc-4cf7-a088-7056afc718cd\" class=\"plotly-graph-div\" style=\"height:525px; width:100%;\"></div>            <script type=\"text/javascript\">                require([\"plotly\"], function(Plotly) {                    window.PLOTLYENV=window.PLOTLYENV || {};                                    if (document.getElementById(\"b522c6ae-ffcc-4cf7-a088-7056afc718cd\")) {                    Plotly.newPlot(                        \"b522c6ae-ffcc-4cf7-a088-7056afc718cd\",                        [{\"name\": \"Germany\", \"type\": \"scatter\", \"x\": [2019, 2018, 2017, 2016, 2015, 2014, 2013, 2012, 2011, 2010, 2009, 2008, 2007, 2006, 2005, 2004, 2003, 2002, 2001, 2000], \"y\": [3861123558039.21, 3963767526250.98, 3682602479929.42, 3467498002104.33, 3356235704119.75, 3883920155292.26, 3732743446218.92, 3527344944139.83, 3744408602683.94, 3396354075663.73, 3397791053070.3, 3730027830672.33, 3421229126745.14, 2992196713084.93, 2845802760850.64, 2809187981127.39, 2496128668171.56, 2068624129493.69, 1944107382550.34, 1943145384190.16]}, {\"name\": \"France\", \"type\": \"scatter\", \"x\": [2019, 2018, 2017, 2016, 2015, 2014, 2013, 2012, 2011, 2010, 2009, 2008, 2007, 2006, 2005, 2004, 2003, 2002, 2001, 2000], \"y\": [2715518274227.45, 2787863958885.49, 2595151045197.65, 2471285607081.72, 2438207896251.84, 2852165760630.27, 2811077725703.59, 2683825225092.63, 2861408170264.6, 2642609548930.36, 2690222283967.77, 2918382891460.38, 2657213249384.07, 2318593651988.46, 2196126103718.44, 2115742488204.62, 1840480812641.08, 1494286655373.61, 1376465324384.79, 1362248940482.77]}, {\"name\": \"Italy\", \"type\": \"scatter\", \"x\": [2019, 2018, 2017, 2016, 2015, 2014, 2013, 2012, 2011, 2010, 2009, 2008, 2007, 2006, 2005, 2004, 2003, 2002, 2001, 2000], \"y\": [2003576145498.04, 2091544955092.31, 1961796197354.36, 1875797463583.87, 1835899237320.04, 2159133919743.77, 2141315327318.21, 2087077032435.15, 2291991045770.29, 2134017843247.16, 2191241872742.43, 2398856598798.89, 2210292636189.43, 1947919708944.93, 1857524312896.41, 1803226967966.23, 1574145823927.77, 1270712309429.7, 1167012796420.58, 1143829832319.88]}],                        {\"template\": {\"data\": {\"bar\": [{\"error_x\": {\"color\": \"#2a3f5f\"}, \"error_y\": {\"color\": \"#2a3f5f\"}, \"marker\": {\"line\": {\"color\": \"#E5ECF6\", \"width\": 0.5}}, \"type\": \"bar\"}], \"barpolar\": [{\"marker\": {\"line\": {\"color\": \"#E5ECF6\", \"width\": 0.5}}, \"type\": \"barpolar\"}], \"carpet\": [{\"aaxis\": {\"endlinecolor\": \"#2a3f5f\", \"gridcolor\": \"white\", \"linecolor\": \"white\", \"minorgridcolor\": \"white\", \"startlinecolor\": \"#2a3f5f\"}, \"baxis\": {\"endlinecolor\": \"#2a3f5f\", \"gridcolor\": \"white\", \"linecolor\": \"white\", \"minorgridcolor\": \"white\", \"startlinecolor\": \"#2a3f5f\"}, \"type\": \"carpet\"}], \"choropleth\": [{\"colorbar\": {\"outlinewidth\": 0, \"ticks\": \"\"}, \"type\": \"choropleth\"}], \"contour\": [{\"colorbar\": {\"outlinewidth\": 0, \"ticks\": \"\"}, \"colorscale\": [[0.0, \"#0d0887\"], [0.1111111111111111, \"#46039f\"], [0.2222222222222222, \"#7201a8\"], [0.3333333333333333, \"#9c179e\"], [0.4444444444444444, \"#bd3786\"], [0.5555555555555556, \"#d8576b\"], [0.6666666666666666, \"#ed7953\"], [0.7777777777777778, \"#fb9f3a\"], [0.8888888888888888, \"#fdca26\"], [1.0, \"#f0f921\"]], \"type\": \"contour\"}], \"contourcarpet\": [{\"colorbar\": {\"outlinewidth\": 0, \"ticks\": \"\"}, \"type\": \"contourcarpet\"}], \"heatmap\": [{\"colorbar\": {\"outlinewidth\": 0, \"ticks\": \"\"}, \"colorscale\": [[0.0, \"#0d0887\"], [0.1111111111111111, \"#46039f\"], [0.2222222222222222, \"#7201a8\"], [0.3333333333333333, \"#9c179e\"], [0.4444444444444444, \"#bd3786\"], [0.5555555555555556, \"#d8576b\"], [0.6666666666666666, \"#ed7953\"], [0.7777777777777778, \"#fb9f3a\"], [0.8888888888888888, \"#fdca26\"], [1.0, \"#f0f921\"]], \"type\": \"heatmap\"}], \"heatmapgl\": [{\"colorbar\": {\"outlinewidth\": 0, \"ticks\": \"\"}, \"colorscale\": [[0.0, \"#0d0887\"], [0.1111111111111111, \"#46039f\"], [0.2222222222222222, \"#7201a8\"], [0.3333333333333333, \"#9c179e\"], [0.4444444444444444, \"#bd3786\"], [0.5555555555555556, \"#d8576b\"], [0.6666666666666666, \"#ed7953\"], [0.7777777777777778, \"#fb9f3a\"], [0.8888888888888888, \"#fdca26\"], [1.0, \"#f0f921\"]], \"type\": \"heatmapgl\"}], \"histogram\": [{\"marker\": {\"colorbar\": {\"outlinewidth\": 0, \"ticks\": \"\"}}, \"type\": \"histogram\"}], \"histogram2d\": [{\"colorbar\": {\"outlinewidth\": 0, \"ticks\": \"\"}, \"colorscale\": [[0.0, \"#0d0887\"], [0.1111111111111111, \"#46039f\"], [0.2222222222222222, \"#7201a8\"], [0.3333333333333333, \"#9c179e\"], [0.4444444444444444, \"#bd3786\"], [0.5555555555555556, \"#d8576b\"], [0.6666666666666666, \"#ed7953\"], [0.7777777777777778, \"#fb9f3a\"], [0.8888888888888888, \"#fdca26\"], [1.0, \"#f0f921\"]], \"type\": \"histogram2d\"}], \"histogram2dcontour\": [{\"colorbar\": {\"outlinewidth\": 0, \"ticks\": \"\"}, \"colorscale\": [[0.0, \"#0d0887\"], [0.1111111111111111, \"#46039f\"], [0.2222222222222222, \"#7201a8\"], [0.3333333333333333, \"#9c179e\"], [0.4444444444444444, \"#bd3786\"], [0.5555555555555556, \"#d8576b\"], [0.6666666666666666, \"#ed7953\"], [0.7777777777777778, \"#fb9f3a\"], [0.8888888888888888, \"#fdca26\"], [1.0, \"#f0f921\"]], \"type\": \"histogram2dcontour\"}], \"mesh3d\": [{\"colorbar\": {\"outlinewidth\": 0, \"ticks\": \"\"}, \"type\": \"mesh3d\"}], \"parcoords\": [{\"line\": {\"colorbar\": {\"outlinewidth\": 0, \"ticks\": \"\"}}, \"type\": \"parcoords\"}], \"pie\": [{\"automargin\": true, \"type\": \"pie\"}], \"scatter\": [{\"marker\": {\"colorbar\": {\"outlinewidth\": 0, \"ticks\": \"\"}}, \"type\": \"scatter\"}], \"scatter3d\": [{\"line\": {\"colorbar\": {\"outlinewidth\": 0, \"ticks\": \"\"}}, \"marker\": {\"colorbar\": {\"outlinewidth\": 0, \"ticks\": \"\"}}, \"type\": \"scatter3d\"}], \"scattercarpet\": [{\"marker\": {\"colorbar\": {\"outlinewidth\": 0, \"ticks\": \"\"}}, \"type\": \"scattercarpet\"}], \"scattergeo\": [{\"marker\": {\"colorbar\": {\"outlinewidth\": 0, \"ticks\": \"\"}}, \"type\": \"scattergeo\"}], \"scattergl\": [{\"marker\": {\"colorbar\": {\"outlinewidth\": 0, \"ticks\": \"\"}}, \"type\": \"scattergl\"}], \"scattermapbox\": [{\"marker\": {\"colorbar\": {\"outlinewidth\": 0, \"ticks\": \"\"}}, \"type\": \"scattermapbox\"}], \"scatterpolar\": [{\"marker\": {\"colorbar\": {\"outlinewidth\": 0, \"ticks\": \"\"}}, \"type\": \"scatterpolar\"}], \"scatterpolargl\": [{\"marker\": {\"colorbar\": {\"outlinewidth\": 0, \"ticks\": \"\"}}, \"type\": \"scatterpolargl\"}], \"scatterternary\": [{\"marker\": {\"colorbar\": {\"outlinewidth\": 0, \"ticks\": \"\"}}, \"type\": \"scatterternary\"}], \"surface\": [{\"colorbar\": {\"outlinewidth\": 0, \"ticks\": \"\"}, \"colorscale\": [[0.0, \"#0d0887\"], [0.1111111111111111, \"#46039f\"], [0.2222222222222222, \"#7201a8\"], [0.3333333333333333, \"#9c179e\"], [0.4444444444444444, \"#bd3786\"], [0.5555555555555556, \"#d8576b\"], [0.6666666666666666, \"#ed7953\"], [0.7777777777777778, \"#fb9f3a\"], [0.8888888888888888, \"#fdca26\"], [1.0, \"#f0f921\"]], \"type\": \"surface\"}], \"table\": [{\"cells\": {\"fill\": {\"color\": \"#EBF0F8\"}, \"line\": {\"color\": \"white\"}}, \"header\": {\"fill\": {\"color\": \"#C8D4E3\"}, \"line\": {\"color\": \"white\"}}, \"type\": \"table\"}]}, \"layout\": {\"annotationdefaults\": {\"arrowcolor\": \"#2a3f5f\", \"arrowhead\": 0, \"arrowwidth\": 1}, \"autotypenumbers\": \"strict\", \"coloraxis\": {\"colorbar\": {\"outlinewidth\": 0, \"ticks\": \"\"}}, \"colorscale\": {\"diverging\": [[0, \"#8e0152\"], [0.1, \"#c51b7d\"], [0.2, \"#de77ae\"], [0.3, \"#f1b6da\"], [0.4, \"#fde0ef\"], [0.5, \"#f7f7f7\"], [0.6, \"#e6f5d0\"], [0.7, \"#b8e186\"], [0.8, \"#7fbc41\"], [0.9, \"#4d9221\"], [1, \"#276419\"]], \"sequential\": [[0.0, \"#0d0887\"], [0.1111111111111111, \"#46039f\"], [0.2222222222222222, \"#7201a8\"], [0.3333333333333333, \"#9c179e\"], [0.4444444444444444, \"#bd3786\"], [0.5555555555555556, \"#d8576b\"], [0.6666666666666666, \"#ed7953\"], [0.7777777777777778, \"#fb9f3a\"], [0.8888888888888888, \"#fdca26\"], [1.0, \"#f0f921\"]], \"sequentialminus\": [[0.0, \"#0d0887\"], [0.1111111111111111, \"#46039f\"], [0.2222222222222222, \"#7201a8\"], [0.3333333333333333, \"#9c179e\"], [0.4444444444444444, \"#bd3786\"], [0.5555555555555556, \"#d8576b\"], [0.6666666666666666, \"#ed7953\"], [0.7777777777777778, \"#fb9f3a\"], [0.8888888888888888, \"#fdca26\"], [1.0, \"#f0f921\"]]}, \"colorway\": [\"#636efa\", \"#EF553B\", \"#00cc96\", \"#ab63fa\", \"#FFA15A\", \"#19d3f3\", \"#FF6692\", \"#B6E880\", \"#FF97FF\", \"#FECB52\"], \"font\": {\"color\": \"#2a3f5f\"}, \"geo\": {\"bgcolor\": \"white\", \"lakecolor\": \"white\", \"landcolor\": \"#E5ECF6\", \"showlakes\": true, \"showland\": true, \"subunitcolor\": \"white\"}, \"hoverlabel\": {\"align\": \"left\"}, \"hovermode\": \"closest\", \"mapbox\": {\"style\": \"light\"}, \"paper_bgcolor\": \"white\", \"plot_bgcolor\": \"#E5ECF6\", \"polar\": {\"angularaxis\": {\"gridcolor\": \"white\", \"linecolor\": \"white\", \"ticks\": \"\"}, \"bgcolor\": \"#E5ECF6\", \"radialaxis\": {\"gridcolor\": \"white\", \"linecolor\": \"white\", \"ticks\": \"\"}}, \"scene\": {\"xaxis\": {\"backgroundcolor\": \"#E5ECF6\", \"gridcolor\": \"white\", \"gridwidth\": 2, \"linecolor\": \"white\", \"showbackground\": true, \"ticks\": \"\", \"zerolinecolor\": \"white\"}, \"yaxis\": {\"backgroundcolor\": \"#E5ECF6\", \"gridcolor\": \"white\", \"gridwidth\": 2, \"linecolor\": \"white\", \"showbackground\": true, \"ticks\": \"\", \"zerolinecolor\": \"white\"}, \"zaxis\": {\"backgroundcolor\": \"#E5ECF6\", \"gridcolor\": \"white\", \"gridwidth\": 2, \"linecolor\": \"white\", \"showbackground\": true, \"ticks\": \"\", \"zerolinecolor\": \"white\"}}, \"shapedefaults\": {\"line\": {\"color\": \"#2a3f5f\"}}, \"ternary\": {\"aaxis\": {\"gridcolor\": \"white\", \"linecolor\": \"white\", \"ticks\": \"\"}, \"baxis\": {\"gridcolor\": \"white\", \"linecolor\": \"white\", \"ticks\": \"\"}, \"bgcolor\": \"#E5ECF6\", \"caxis\": {\"gridcolor\": \"white\", \"linecolor\": \"white\", \"ticks\": \"\"}}, \"title\": {\"x\": 0.05}, \"xaxis\": {\"automargin\": true, \"gridcolor\": \"white\", \"linecolor\": \"white\", \"ticks\": \"\", \"title\": {\"standoff\": 15}, \"zerolinecolor\": \"white\", \"zerolinewidth\": 2}, \"yaxis\": {\"automargin\": true, \"gridcolor\": \"white\", \"linecolor\": \"white\", \"ticks\": \"\", \"title\": {\"standoff\": 15}, \"zerolinecolor\": \"white\", \"zerolinewidth\": 2}}}, \"title\": {\"text\": \"This is a much cooler graph!\"}, \"xaxis\": {\"rangeslider\": {\"visible\": true}, \"title\": {\"text\": \"Year\"}}, \"yaxis\": {\"title\": {\"text\": \"Nominal GDP (in US$)\"}}},                        {\"responsive\": true}                    ).then(function(){\n",
       "                            \n",
       "var gd = document.getElementById('b522c6ae-ffcc-4cf7-a088-7056afc718cd');\n",
       "var x = new MutationObserver(function (mutations, observer) {{\n",
       "        var display = window.getComputedStyle(gd).display;\n",
       "        if (!display || display === 'none') {{\n",
       "            console.log([gd, 'removed!']);\n",
       "            Plotly.purge(gd);\n",
       "            observer.disconnect();\n",
       "        }}\n",
       "}});\n",
       "\n",
       "// Listen for the removal of the full notebook cells\n",
       "var notebookContainer = gd.closest('#notebook-container');\n",
       "if (notebookContainer) {{\n",
       "    x.observe(notebookContainer, {childList: true});\n",
       "}}\n",
       "\n",
       "// Listen for the clearing of the current output cell\n",
       "var outputEl = gd.closest('.output');\n",
       "if (outputEl) {{\n",
       "    x.observe(outputEl, {childList: true});\n",
       "}}\n",
       "\n",
       "                        })                };                });            </script>        </div>"
      ]
     },
     "metadata": {},
     "output_type": "display_data"
    }
   ],
   "source": [
    "traces = []\n",
    "\n",
    "for country in df2['country'].unique():\n",
    "    \n",
    "    trace = go.Scatter(name = country, x = df2[df2['country'] == country]['year'],\n",
    "                      y = df2[df2['country'] == country]['gdp'])\n",
    "    \n",
    "    traces.append(trace)\n",
    "    \n",
    "fig = go.Figure(data = traces)\n",
    "\n",
    "fig.layout.update(title=go.layout.Title(\n",
    "\n",
    "    text = 'This is a much cooler graph!'\n",
    "\n",
    "))\n",
    "\n",
    "fig.layout.update(yaxis= go.layout.YAxis(title=go.layout.yaxis.Title(\n",
    "                        text='Nominal GDP (in US$)')));\n",
    "\n",
    "fig.layout.update(xaxis = go.layout.XAxis(title = go.layout.xaxis.Title(text = 'Year'), rangeslider = dict(visible = True)));\n",
    "\n",
    "iplot(fig, filename = 'Nominal_GDP')"
   ]
  },
  {
   "cell_type": "markdown",
   "id": "db659726",
   "metadata": {},
   "source": [
    "## Directly parsing `table` objects from HTML"
   ]
  },
  {
   "cell_type": "code",
   "execution_count": null,
   "id": "23f036fd",
   "metadata": {},
   "outputs": [],
   "source": [
    "# Recall: %whos shows you the variables in name space"
   ]
  },
  {
   "cell_type": "code",
   "execution_count": 13,
   "id": "cb241497",
   "metadata": {},
   "outputs": [],
   "source": [
    "ranking = pd.read_html('https://www.worldcubeassociation.org/results/rankings/333/single', encoding='utf-8')"
   ]
  },
  {
   "cell_type": "code",
   "execution_count": 15,
   "id": "448a573f",
   "metadata": {},
   "outputs": [
    {
     "data": {
      "text/html": [
       "<div>\n",
       "<style scoped>\n",
       "    .dataframe tbody tr th:only-of-type {\n",
       "        vertical-align: middle;\n",
       "    }\n",
       "\n",
       "    .dataframe tbody tr th {\n",
       "        vertical-align: top;\n",
       "    }\n",
       "\n",
       "    .dataframe thead th {\n",
       "        text-align: right;\n",
       "    }\n",
       "</style>\n",
       "<table border=\"1\" class=\"dataframe\">\n",
       "  <thead>\n",
       "    <tr style=\"text-align: right;\">\n",
       "      <th></th>\n",
       "      <th>#</th>\n",
       "      <th>Name</th>\n",
       "      <th>Result</th>\n",
       "      <th>Citizen of</th>\n",
       "      <th>Competition</th>\n",
       "      <th>Unnamed: 5</th>\n",
       "    </tr>\n",
       "  </thead>\n",
       "  <tbody>\n",
       "    <tr>\n",
       "      <th>0</th>\n",
       "      <td>1</td>\n",
       "      <td>Yusheng Du (杜宇生)</td>\n",
       "      <td>3.47</td>\n",
       "      <td>China</td>\n",
       "      <td>Wuhu Open 2018</td>\n",
       "      <td>NaN</td>\n",
       "    </tr>\n",
       "    <tr>\n",
       "      <th>1</th>\n",
       "      <td>2</td>\n",
       "      <td>Feliks Zemdegs</td>\n",
       "      <td>4.16</td>\n",
       "      <td>Australia</td>\n",
       "      <td>Auckland Summer Open 2020</td>\n",
       "      <td>NaN</td>\n",
       "    </tr>\n",
       "    <tr>\n",
       "      <th>2</th>\n",
       "      <td>3</td>\n",
       "      <td>Patrick Ponce</td>\n",
       "      <td>4.24</td>\n",
       "      <td>United States</td>\n",
       "      <td>Northeast Championship 2019</td>\n",
       "      <td>NaN</td>\n",
       "    </tr>\n",
       "    <tr>\n",
       "      <th>3</th>\n",
       "      <td>4</td>\n",
       "      <td>Nicolás Sánchez</td>\n",
       "      <td>4.38</td>\n",
       "      <td>United States</td>\n",
       "      <td>GA Cubers Feet Fest 2019</td>\n",
       "      <td>NaN</td>\n",
       "    </tr>\n",
       "    <tr>\n",
       "      <th>4</th>\n",
       "      <td>5</td>\n",
       "      <td>Max Park</td>\n",
       "      <td>4.40</td>\n",
       "      <td>United States</td>\n",
       "      <td>SacCubing V 2018</td>\n",
       "      <td>NaN</td>\n",
       "    </tr>\n",
       "    <tr>\n",
       "      <th>...</th>\n",
       "      <td>...</td>\n",
       "      <td>...</td>\n",
       "      <td>...</td>\n",
       "      <td>...</td>\n",
       "      <td>...</td>\n",
       "      <td>...</td>\n",
       "    </tr>\n",
       "    <tr>\n",
       "      <th>95</th>\n",
       "      <td>90</td>\n",
       "      <td>Jonathan Esparaz</td>\n",
       "      <td>5.52</td>\n",
       "      <td>Canada</td>\n",
       "      <td>Oakville Limited Fall 2017</td>\n",
       "      <td>NaN</td>\n",
       "    </tr>\n",
       "    <tr>\n",
       "      <th>96</th>\n",
       "      <td>90</td>\n",
       "      <td>Lianhao Zhu (褚连皓)</td>\n",
       "      <td>5.52</td>\n",
       "      <td>China</td>\n",
       "      <td>Shaoxing Morning 2021</td>\n",
       "      <td>NaN</td>\n",
       "    </tr>\n",
       "    <tr>\n",
       "      <th>97</th>\n",
       "      <td>98</td>\n",
       "      <td>Kim Roger Høyland Larsen</td>\n",
       "      <td>5.54</td>\n",
       "      <td>Norway</td>\n",
       "      <td>Voss Open 2019</td>\n",
       "      <td>NaN</td>\n",
       "    </tr>\n",
       "    <tr>\n",
       "      <th>98</th>\n",
       "      <td>99</td>\n",
       "      <td>Luke Tycksen</td>\n",
       "      <td>5.55</td>\n",
       "      <td>United States</td>\n",
       "      <td>Atomic Cubing Fall 2017</td>\n",
       "      <td>NaN</td>\n",
       "    </tr>\n",
       "    <tr>\n",
       "      <th>99</th>\n",
       "      <td>99</td>\n",
       "      <td>Richard Tola</td>\n",
       "      <td>5.55</td>\n",
       "      <td>Greece</td>\n",
       "      <td>London Open 2019</td>\n",
       "      <td>NaN</td>\n",
       "    </tr>\n",
       "  </tbody>\n",
       "</table>\n",
       "<p>100 rows × 6 columns</p>\n",
       "</div>"
      ],
      "text/plain": [
       "     #                      Name  Result     Citizen of  \\\n",
       "0    1          Yusheng Du (杜宇生)    3.47          China   \n",
       "1    2            Feliks Zemdegs    4.16      Australia   \n",
       "2    3             Patrick Ponce    4.24  United States   \n",
       "3    4           Nicolás Sánchez    4.38  United States   \n",
       "4    5                  Max Park    4.40  United States   \n",
       "..  ..                       ...     ...            ...   \n",
       "95  90          Jonathan Esparaz    5.52         Canada   \n",
       "96  90         Lianhao Zhu (褚连皓)    5.52          China   \n",
       "97  98  Kim Roger Høyland Larsen    5.54         Norway   \n",
       "98  99              Luke Tycksen    5.55  United States   \n",
       "99  99              Richard Tola    5.55         Greece   \n",
       "\n",
       "                    Competition  Unnamed: 5  \n",
       "0                Wuhu Open 2018         NaN  \n",
       "1     Auckland Summer Open 2020         NaN  \n",
       "2   Northeast Championship 2019         NaN  \n",
       "3      GA Cubers Feet Fest 2019         NaN  \n",
       "4              SacCubing V 2018         NaN  \n",
       "..                          ...         ...  \n",
       "95   Oakville Limited Fall 2017         NaN  \n",
       "96        Shaoxing Morning 2021         NaN  \n",
       "97               Voss Open 2019         NaN  \n",
       "98      Atomic Cubing Fall 2017         NaN  \n",
       "99             London Open 2019         NaN  \n",
       "\n",
       "[100 rows x 6 columns]"
      ]
     },
     "execution_count": 15,
     "metadata": {},
     "output_type": "execute_result"
    }
   ],
   "source": [
    "ranking[0]"
   ]
  },
  {
   "cell_type": "markdown",
   "id": "4f36c7d8",
   "metadata": {},
   "source": [
    "Which nationality appears most frequently in the World Cube Association's ranking?"
   ]
  },
  {
   "cell_type": "code",
   "execution_count": null,
   "id": "0ff69671",
   "metadata": {},
   "outputs": [],
   "source": []
  },
  {
   "cell_type": "markdown",
   "id": "ef0feec9",
   "metadata": {},
   "source": [
    "Which nationality needed, on average, the **lowest** amount of time to solve a 3x3x3 cube? Sort the output in ascending order."
   ]
  },
  {
   "cell_type": "code",
   "execution_count": null,
   "id": "8ee8ebd6",
   "metadata": {},
   "outputs": [],
   "source": []
  },
  {
   "cell_type": "markdown",
   "id": "89b05d4e",
   "metadata": {},
   "source": [
    "How many possible states/permutations, starting from the solved state, can a 3x3x3 Rubik's cube have? \n",
    "\n",
    "Hints:\n",
    "1. The centre squares are fixed (a plane rotation around these squares doesn't change the cube's state)\n",
    "2. There are eight corner pieces (with three colors on the side) and twelve edge pieces (with two colors on the side) which all revolve around the centre pieces\n",
    "3. There are six different colors\n",
    "4. We only look at \"legal\" states, i.e. those that can only be realised without assembling the cube (and therefore not violating Hint 1)"
   ]
  },
  {
   "cell_type": "code",
   "execution_count": null,
   "id": "6a151c50",
   "metadata": {},
   "outputs": [],
   "source": []
  },
  {
   "cell_type": "markdown",
   "id": "fb5cb0c7",
   "metadata": {},
   "source": [
    "Which result entry in the World Ranking table is the most recent one? Which one is the oldest one? Be as precise as possible! (Hint: You may have to combine your knowledge from scraping HTML files.)"
   ]
  },
  {
   "cell_type": "code",
   "execution_count": null,
   "id": "88da521b",
   "metadata": {},
   "outputs": [],
   "source": []
  },
  {
   "cell_type": "markdown",
   "id": "b1cc5c57",
   "metadata": {},
   "source": [
    "Compute the expected value of `Result` conditional on `Nationality = 'Germany'`. Are the German contestants statistically significantly faster/slower in solving the cube than other contestants, based on `Nationality`? Does statistical significance change if you use robust standard errors?"
   ]
  },
  {
   "cell_type": "code",
   "execution_count": null,
   "id": "1c58a18f",
   "metadata": {},
   "outputs": [],
   "source": [
    "!pip install statsmodels"
   ]
  },
  {
   "cell_type": "code",
   "execution_count": null,
   "id": "877dc566",
   "metadata": {},
   "outputs": [],
   "source": [
    "import statsmodels.api as sm"
   ]
  },
  {
   "cell_type": "code",
   "execution_count": null,
   "id": "bffd1086",
   "metadata": {},
   "outputs": [],
   "source": []
  },
  {
   "cell_type": "code",
   "execution_count": null,
   "id": "41085005",
   "metadata": {},
   "outputs": [],
   "source": []
  },
  {
   "cell_type": "code",
   "execution_count": null,
   "id": "8f1aee2c",
   "metadata": {},
   "outputs": [],
   "source": []
  },
  {
   "cell_type": "code",
   "execution_count": null,
   "id": "00dabead",
   "metadata": {},
   "outputs": [],
   "source": []
  },
  {
   "cell_type": "code",
   "execution_count": null,
   "id": "67dd336a",
   "metadata": {},
   "outputs": [],
   "source": []
  },
  {
   "cell_type": "code",
   "execution_count": null,
   "id": "5475a272",
   "metadata": {},
   "outputs": [],
   "source": []
  },
  {
   "cell_type": "markdown",
   "id": "00d97ad7",
   "metadata": {},
   "source": [
    "## Spatial libraries \n",
    "> (Note to myself: do GENESIS API first!)"
   ]
  },
  {
   "cell_type": "markdown",
   "id": "61b5f654",
   "metadata": {},
   "source": [
    "The installation procedure of spatial libraries for Python (on Windows) can be quite tedious but [this answer](https://stackoverflow.com/questions/51095970/install-python-geopandas-failed/51560940#51560940) on Stackoverflow (make sure to upvote ;)) and [this detailed instruction](https://geoffboeing.com/2014/09/using-geopandas-windows/) make it straight forward. You can also find the required wheels for Python 3.8 and 64-bit for offline `pip install` in this notebook's [repository](https://github.com/gerwolf/webscraping-workshop/tree/main/DataFrames%20and%20APIs). After this, you can simply `pip install geopandas`."
   ]
  },
  {
   "cell_type": "code",
   "execution_count": null,
   "id": "caea38be",
   "metadata": {},
   "outputs": [],
   "source": [
    "import geopandas as gpd\n",
    "import matplotlib.pyplot as plt\n",
    "plt.rcParams[\"figure.figsize\"] = [16,9]"
   ]
  },
  {
   "cell_type": "code",
   "execution_count": null,
   "id": "f356557f",
   "metadata": {},
   "outputs": [],
   "source": []
  },
  {
   "cell_type": "code",
   "execution_count": null,
   "id": "cf4a78ea",
   "metadata": {},
   "outputs": [],
   "source": []
  },
  {
   "cell_type": "code",
   "execution_count": null,
   "id": "3b25bc07",
   "metadata": {},
   "outputs": [],
   "source": []
  },
  {
   "cell_type": "code",
   "execution_count": null,
   "id": "3c258623",
   "metadata": {},
   "outputs": [],
   "source": []
  },
  {
   "cell_type": "code",
   "execution_count": null,
   "id": "eaeb33b7",
   "metadata": {},
   "outputs": [],
   "source": []
  },
  {
   "cell_type": "code",
   "execution_count": null,
   "id": "d5408903",
   "metadata": {},
   "outputs": [],
   "source": []
  },
  {
   "cell_type": "code",
   "execution_count": null,
   "id": "7dd2707e",
   "metadata": {},
   "outputs": [],
   "source": []
  },
  {
   "cell_type": "code",
   "execution_count": null,
   "id": "ee9ffc3f",
   "metadata": {},
   "outputs": [],
   "source": []
  },
  {
   "cell_type": "code",
   "execution_count": null,
   "id": "45387e8e",
   "metadata": {},
   "outputs": [],
   "source": []
  },
  {
   "cell_type": "markdown",
   "id": "838ac263",
   "metadata": {},
   "source": [
    "## Destatis/GENESIS Online\n",
    "The GENESIS API is the web interface service by the Federal Statistical Office of Germany and is a good place to start learning how to interact programmatically with a server."
   ]
  },
  {
   "cell_type": "markdown",
   "id": "1c20c927",
   "metadata": {},
   "source": [
    "There is a [comprehensive description/introduction](https://www-genesis.destatis.de/genesis/misc/GENESIS-Webservices_Einfuehrung.pdf) on the service, unfortunately in German only. To display the PDF inside Jupyter Notebook in Chrome you may have to enable the [PDF Viewer extension](https://chrome.google.com/webstore/detail/pdf-viewer/oemmndcbldboiebfnladdacbdfmadadm?utm_source=chrome-ntp-icon)."
   ]
  },
  {
   "cell_type": "code",
   "execution_count": 16,
   "id": "56a8769a",
   "metadata": {},
   "outputs": [
    {
     "data": {
      "text/html": [
       "\n",
       "        <iframe\n",
       "            width=\"980\"\n",
       "            height=\"800\"\n",
       "            src=\"https://www-genesis.destatis.de/genesis/misc/GENESIS-Webservices_Einfuehrung.pdf\"\n",
       "            frameborder=\"0\"\n",
       "            allowfullscreen\n",
       "        ></iframe>\n",
       "        "
      ],
      "text/plain": [
       "<IPython.lib.display.IFrame at 0x1f2817fa040>"
      ]
     },
     "execution_count": 16,
     "metadata": {},
     "output_type": "execute_result"
    }
   ],
   "source": [
    "from IPython.display import IFrame, display\n",
    "filepath = \"https://www-genesis.destatis.de/genesis/misc/GENESIS-Webservices_Einfuehrung.pdf\"\n",
    "IFrame(filepath, width=980, height=800)"
   ]
  },
  {
   "cell_type": "markdown",
   "id": "6667a14f",
   "metadata": {},
   "source": [
    "Read about the `whoami` method (in Section 2.2). Do you have to authenticate? What does it return? How would you send a `request`?"
   ]
  },
  {
   "cell_type": "code",
   "execution_count": 18,
   "id": "08cfbd00",
   "metadata": {},
   "outputs": [],
   "source": [
    "import genesis_config\n",
    "import requests"
   ]
  },
  {
   "cell_type": "code",
   "execution_count": 19,
   "id": "b6bd19b7",
   "metadata": {},
   "outputs": [
    {
     "data": {
      "text/plain": [
       "'{\"User-Agent\":\"python-requests/2.25.1\",\"User-IP\":\"95.91.213.125\"}'"
      ]
     },
     "execution_count": 19,
     "metadata": {},
     "output_type": "execute_result"
    }
   ],
   "source": [
    "url = 'https://www-genesis.destatis.de/genesisWS/rest/2020/helloworld/whoami'\n",
    "response = requests.get(url)\n",
    "response.text"
   ]
  },
  {
   "cell_type": "markdown",
   "id": "e16db88e",
   "metadata": {},
   "source": [
    "Read about the `logincheck` method (in Section 2.2). Do you have to authenticate? What does it return? Construct a request object using string formatting, send a `request` (in English language) and print the request's status. What type is the response's `text` attribute?"
   ]
  },
  {
   "cell_type": "code",
   "execution_count": 20,
   "id": "c76d2759",
   "metadata": {},
   "outputs": [],
   "source": [
    "url = 'https://www-genesis.destatis.de/genesisWS/rest/2020/helloworld/logincheck?username={}&password={}&language={}'.format(genesis_config.Username, genesis_config.Password, 'en')\n",
    "response = requests.get(url)"
   ]
  },
  {
   "cell_type": "code",
   "execution_count": 21,
   "id": "097d4181",
   "metadata": {},
   "outputs": [
    {
     "data": {
      "text/plain": [
       "'{\"Status\":\"You have been logged in and out successfully!\",\"Username\":\"DE56JNILRL\"}'"
      ]
     },
     "execution_count": 21,
     "metadata": {},
     "output_type": "execute_result"
    }
   ],
   "source": [
    "response.text"
   ]
  },
  {
   "cell_type": "code",
   "execution_count": null,
   "id": "e9d037ef",
   "metadata": {},
   "outputs": [],
   "source": []
  },
  {
   "cell_type": "markdown",
   "id": "0e2eb210",
   "metadata": {},
   "source": [
    "Now that we have a working connection to the GENESIS Online API we want to directly obtain an economic indicator, the private sector's savings rate on a quarterly basis, for instance. This `data` is usually stored in a `table` somewhere in the depths of a data warehouse and it is (unfortunately) necessary to familiarise yourself, at least partially, with the internal server's structure.\n",
    "1. In the documentation file search for the `tablefile` method (under Section 2.5 Data). When should it be used? What does it return?\n",
    "2. Which method should you use if you want to directly obtain a `chart`?\n",
    "3. Which method should you use if you want to directly obtain a regional `map`? Which parameter controls the image's resolution?"
   ]
  },
  {
   "cell_type": "code",
   "execution_count": 22,
   "id": "e584e002",
   "metadata": {},
   "outputs": [],
   "source": [
    "field = '12411-0010'\n",
    "stand = '31.12.2019'\n",
    "language = 'en'\n",
    "url = 'https://www-genesis.destatis.de/genesisWS/rest/2020/data/map2table?username={}&password={}&name={}&area=all&mapType=0&classes=5&classification=0&zoom=3&startyear=&endyear=&timeslices=&regionalvariable=&regionalkey=&classifyingvariable1=&classifyingkey1=&classifyingvariable2=&classifyingkey2=&classifyingvariable3=&classifyingkey3=&format=png&stand={}&language={}'.format(genesis_config.Username, genesis_config.Password, field, stand, language)\n",
    "response = requests.get(url)"
   ]
  },
  {
   "cell_type": "code",
   "execution_count": 23,
   "id": "e07e934e",
   "metadata": {},
   "outputs": [
    {
     "data": {
      "text/plain": [
       "200"
      ]
     },
     "execution_count": 23,
     "metadata": {},
     "output_type": "execute_result"
    }
   ],
   "source": [
    "response.status_code"
   ]
  },
  {
   "cell_type": "code",
   "execution_count": 24,
   "id": "0f0b383d",
   "metadata": {},
   "outputs": [],
   "source": [
    "with open(\"map.png\", 'wb') as f:\n",
    "    f.write(response.content)"
   ]
  },
  {
   "cell_type": "code",
   "execution_count": 25,
   "id": "8e012e4e",
   "metadata": {},
   "outputs": [
    {
     "data": {
      "image/png": "[encoded data removed]",
      "text/plain": [
       "<IPython.core.display.Image object>"
      ]
     },
     "execution_count": 25,
     "metadata": {},
     "output_type": "execute_result"
    }
   ],
   "source": [
    "from IPython.display import Image\n",
    "Image(filename='map.png')"
   ]
  },
  {
   "cell_type": "markdown",
   "id": "57138740",
   "metadata": {},
   "source": [
    "4. Login to the [GENESIS Online user interface](https://www-genesis.destatis.de/genesis/online?Menu=Anmeldung#abreadcrumb). Familiarise yourself with the tables' structure and navigate to the National Accounts (at the central level) --> Private sector disposable income and savings at quarterly frequency. Which parameters in the request can you control?\n",
    "5. Which method would you choose if you want to directly obtain a `table` in some machine readable format, e.g. a `.csv` or `.xlsx` that you can read into `pandas`? Which output `formats` can you choose from? How do you include additional conditions matching particular values?\n",
    "6. Construct a `request` which contains the following specification:\n",
    "    - only seasonally and calendar-adjusted values (X13)\n",
    "    - all available years and quarters\n",
    "    - output format should be a `.xlsx` file\n",
    "7. Send the request, but directly through the `pandas.read_excel()` method."
   ]
  },
  {
   "cell_type": "code",
   "execution_count": 26,
   "id": "dd5784a9",
   "metadata": {},
   "outputs": [
    {
     "name": "stdout",
     "output_type": "stream",
     "text": [
      "Requirement already satisfied: openpyxl in c:\\users\\wolfg\\anaconda3\\envs\\webscraping\\lib\\site-packages (3.0.7)\n",
      "Requirement already satisfied: et-xmlfile in c:\\users\\wolfg\\anaconda3\\envs\\webscraping\\lib\\site-packages (from openpyxl) (1.0.1)\n"
     ]
    }
   ],
   "source": [
    "! pip install openpyxl"
   ]
  },
  {
   "cell_type": "code",
   "execution_count": 33,
   "id": "46ce05ca",
   "metadata": {},
   "outputs": [
    {
     "name": "stderr",
     "output_type": "stream",
     "text": [
      "C:\\Users\\wolfg\\Anaconda3\\envs\\webscraping\\lib\\site-packages\\openpyxl\\styles\\stylesheet.py:221: UserWarning:\n",
      "\n",
      "Workbook contains no default style, apply openpyxl's default\n",
      "\n"
     ]
    }
   ],
   "source": [
    "code = '81000-0010'\n",
    "key_1 = 'WERT04'\n",
    "val_1 = 'X13JDKSB'\n",
    "key_2 = ''\n",
    "val_2 = ''\n",
    "key_3 = ''\n",
    "val_3 = ''\n",
    "start_year = '1991'\n",
    "end_year = '2020'\n",
    "\n",
    "url = ('https://www-genesis.destatis.de/genesisWS/rest/2020/data/tablefile?username={}&password={}&name={}&area=DINSG*&compress=false&transpose=false&startyear={}&endyear={}&timeslices=&regionalvariable=&regionalkey=&classifyingvariable1={}&classifyingkey1={}&classifyingvariable2={}&classifyingkey2={}&classifyingvariable3={}&classifyingkey3={}&format=xlsx&job=false&stand=&language=de').format(genesis_config.Username, genesis_config.Password, code, start_year, end_year, key_1, val_1, key_2, val_2, key_3, val_3)\n",
    "df = pd.read_excel(url)"
   ]
  },
  {
   "cell_type": "code",
   "execution_count": 35,
   "id": "30118f53",
   "metadata": {},
   "outputs": [],
   "source": [
    "import numpy as np"
   ]
  },
  {
   "cell_type": "code",
   "execution_count": 36,
   "id": "1936e472",
   "metadata": {},
   "outputs": [],
   "source": [
    "df = df.iloc[[2,3,37], :].T.iloc[2:,:]\n",
    "df.columns = ['Year', 'Quarter', 'Rate']\n",
    "df.reset_index(inplace = True, drop = True)\n",
    "df['Year'] = df['Year'].fillna(method='ffill')\n",
    "df['Quarter_str'] = df['Quarter'].copy()\n",
    "df['Quarter'] = df['Quarter'].replace('1. Quartal', 'Q1')\n",
    "df['Quarter'] = df['Quarter'].replace('2. Quartal', 'Q2')\n",
    "df['Quarter'] = df['Quarter'].replace('3. Quartal', 'Q3')\n",
    "df['Quarter'] = df['Quarter'].replace('4. Quartal', 'Q4')\n",
    "df['Rate'] = df['Rate'].replace ('...', np.NaN)\n",
    "qs = df['Year'] + '-' + df['Quarter']\n",
    "df['Date'] = pd.PeriodIndex(qs.values, freq='Q').to_timestamp()\n",
    "df.set_index(df['Date'], inplace = True, drop = True)\n",
    "del df['Date']\n",
    "df.dropna(inplace=True)\n",
    "df['col_name'] = df['Quarter'] + ' ' + df['Year'].str[2:4]\n",
    "col_names = list(df['col_name'].values)\n",
    "df = df.T\n",
    "df.columns = col_names\n",
    "df = df.T"
   ]
  },
  {
   "cell_type": "code",
   "execution_count": 37,
   "id": "afa85fca",
   "metadata": {},
   "outputs": [
    {
     "data": {
      "text/html": [
       "<div>\n",
       "<style scoped>\n",
       "    .dataframe tbody tr th:only-of-type {\n",
       "        vertical-align: middle;\n",
       "    }\n",
       "\n",
       "    .dataframe tbody tr th {\n",
       "        vertical-align: top;\n",
       "    }\n",
       "\n",
       "    .dataframe thead th {\n",
       "        text-align: right;\n",
       "    }\n",
       "</style>\n",
       "<table border=\"1\" class=\"dataframe\">\n",
       "  <thead>\n",
       "    <tr style=\"text-align: right;\">\n",
       "      <th></th>\n",
       "      <th>Year</th>\n",
       "      <th>Quarter</th>\n",
       "      <th>Rate</th>\n",
       "      <th>Quarter_str</th>\n",
       "      <th>col_name</th>\n",
       "    </tr>\n",
       "  </thead>\n",
       "  <tbody>\n",
       "    <tr>\n",
       "      <th>Q1 91</th>\n",
       "      <td>1991</td>\n",
       "      <td>Q1</td>\n",
       "      <td>12.6</td>\n",
       "      <td>1. Quartal</td>\n",
       "      <td>Q1 91</td>\n",
       "    </tr>\n",
       "    <tr>\n",
       "      <th>Q2 91</th>\n",
       "      <td>1991</td>\n",
       "      <td>Q2</td>\n",
       "      <td>13.6</td>\n",
       "      <td>2. Quartal</td>\n",
       "      <td>Q2 91</td>\n",
       "    </tr>\n",
       "    <tr>\n",
       "      <th>Q3 91</th>\n",
       "      <td>1991</td>\n",
       "      <td>Q3</td>\n",
       "      <td>12.7</td>\n",
       "      <td>3. Quartal</td>\n",
       "      <td>Q3 91</td>\n",
       "    </tr>\n",
       "    <tr>\n",
       "      <th>Q4 91</th>\n",
       "      <td>1991</td>\n",
       "      <td>Q4</td>\n",
       "      <td>12.7</td>\n",
       "      <td>4. Quartal</td>\n",
       "      <td>Q4 91</td>\n",
       "    </tr>\n",
       "    <tr>\n",
       "      <th>Q1 92</th>\n",
       "      <td>1992</td>\n",
       "      <td>Q1</td>\n",
       "      <td>12.9</td>\n",
       "      <td>1. Quartal</td>\n",
       "      <td>Q1 92</td>\n",
       "    </tr>\n",
       "    <tr>\n",
       "      <th>...</th>\n",
       "      <td>...</td>\n",
       "      <td>...</td>\n",
       "      <td>...</td>\n",
       "      <td>...</td>\n",
       "      <td>...</td>\n",
       "    </tr>\n",
       "    <tr>\n",
       "      <th>Q4 19</th>\n",
       "      <td>2019</td>\n",
       "      <td>Q4</td>\n",
       "      <td>11.1</td>\n",
       "      <td>4. Quartal</td>\n",
       "      <td>Q4 19</td>\n",
       "    </tr>\n",
       "    <tr>\n",
       "      <th>Q1 20</th>\n",
       "      <td>2020</td>\n",
       "      <td>Q1</td>\n",
       "      <td>11.7</td>\n",
       "      <td>1. Quartal</td>\n",
       "      <td>Q1 20</td>\n",
       "    </tr>\n",
       "    <tr>\n",
       "      <th>Q2 20</th>\n",
       "      <td>2020</td>\n",
       "      <td>Q2</td>\n",
       "      <td>20.3</td>\n",
       "      <td>2. Quartal</td>\n",
       "      <td>Q2 20</td>\n",
       "    </tr>\n",
       "    <tr>\n",
       "      <th>Q3 20</th>\n",
       "      <td>2020</td>\n",
       "      <td>Q3</td>\n",
       "      <td>15.3</td>\n",
       "      <td>3. Quartal</td>\n",
       "      <td>Q3 20</td>\n",
       "    </tr>\n",
       "    <tr>\n",
       "      <th>Q4 20</th>\n",
       "      <td>2020</td>\n",
       "      <td>Q4</td>\n",
       "      <td>17.7</td>\n",
       "      <td>4. Quartal</td>\n",
       "      <td>Q4 20</td>\n",
       "    </tr>\n",
       "  </tbody>\n",
       "</table>\n",
       "<p>120 rows × 5 columns</p>\n",
       "</div>"
      ],
      "text/plain": [
       "       Year Quarter  Rate Quarter_str col_name\n",
       "Q1 91  1991      Q1  12.6  1. Quartal    Q1 91\n",
       "Q2 91  1991      Q2  13.6  2. Quartal    Q2 91\n",
       "Q3 91  1991      Q3  12.7  3. Quartal    Q3 91\n",
       "Q4 91  1991      Q4  12.7  4. Quartal    Q4 91\n",
       "Q1 92  1992      Q1  12.9  1. Quartal    Q1 92\n",
       "...     ...     ...   ...         ...      ...\n",
       "Q4 19  2019      Q4  11.1  4. Quartal    Q4 19\n",
       "Q1 20  2020      Q1  11.7  1. Quartal    Q1 20\n",
       "Q2 20  2020      Q2  20.3  2. Quartal    Q2 20\n",
       "Q3 20  2020      Q3  15.3  3. Quartal    Q3 20\n",
       "Q4 20  2020      Q4  17.7  4. Quartal    Q4 20\n",
       "\n",
       "[120 rows x 5 columns]"
      ]
     },
     "execution_count": 37,
     "metadata": {},
     "output_type": "execute_result"
    }
   ],
   "source": [
    "df"
   ]
  },
  {
   "cell_type": "code",
   "execution_count": 38,
   "id": "fcb8c538",
   "metadata": {},
   "outputs": [
    {
     "data": {
      "application/vnd.plotly.v1+json": {
       "config": {
        "linkText": "Export to plot.ly",
        "plotlyServerURL": "https://plot.ly",
        "showLink": false
       },
       "data": [
        {
         "name": "Private sector savings rate",
         "type": "scatter",
         "x": [
          "Q1 91",
          "Q2 91",
          "Q3 91",
          "Q4 91",
          "Q1 92",
          "Q2 92",
          "Q3 92",
          "Q4 92",
          "Q1 93",
          "Q2 93",
          "Q3 93",
          "Q4 93",
          "Q1 94",
          "Q2 94",
          "Q3 94",
          "Q4 94",
          "Q1 95",
          "Q2 95",
          "Q3 95",
          "Q4 95",
          "Q1 96",
          "Q2 96",
          "Q3 96",
          "Q4 96",
          "Q1 97",
          "Q2 97",
          "Q3 97",
          "Q4 97",
          "Q1 98",
          "Q2 98",
          "Q3 98",
          "Q4 98",
          "Q1 99",
          "Q2 99",
          "Q3 99",
          "Q4 99",
          "Q1 00",
          "Q2 00",
          "Q3 00",
          "Q4 00",
          "Q1 01",
          "Q2 01",
          "Q3 01",
          "Q4 01",
          "Q1 02",
          "Q2 02",
          "Q3 02",
          "Q4 02",
          "Q1 03",
          "Q2 03",
          "Q3 03",
          "Q4 03",
          "Q1 04",
          "Q2 04",
          "Q3 04",
          "Q4 04",
          "Q1 05",
          "Q2 05",
          "Q3 05",
          "Q4 05",
          "Q1 06",
          "Q2 06",
          "Q3 06",
          "Q4 06",
          "Q1 07",
          "Q2 07",
          "Q3 07",
          "Q4 07",
          "Q1 08",
          "Q2 08",
          "Q3 08",
          "Q4 08",
          "Q1 09",
          "Q2 09",
          "Q3 09",
          "Q4 09",
          "Q1 10",
          "Q2 10",
          "Q3 10",
          "Q4 10",
          "Q1 11",
          "Q2 11",
          "Q3 11",
          "Q4 11",
          "Q1 12",
          "Q2 12",
          "Q3 12",
          "Q4 12",
          "Q1 13",
          "Q2 13",
          "Q3 13",
          "Q4 13",
          "Q1 14",
          "Q2 14",
          "Q3 14",
          "Q4 14",
          "Q1 15",
          "Q2 15",
          "Q3 15",
          "Q4 15",
          "Q1 16",
          "Q2 16",
          "Q3 16",
          "Q4 16",
          "Q1 17",
          "Q2 17",
          "Q3 17",
          "Q4 17",
          "Q1 18",
          "Q2 18",
          "Q3 18",
          "Q4 18",
          "Q1 19",
          "Q2 19",
          "Q3 19",
          "Q4 19",
          "Q1 20",
          "Q2 20",
          "Q3 20",
          "Q4 20"
         ],
         "y": [
          12.6,
          13.6,
          12.7,
          12.7,
          12.9,
          13,
          13.1,
          12.5,
          12.4,
          12.9,
          12,
          12.2,
          11.5,
          11.8,
          11.8,
          11.8,
          11.5,
          11.5,
          11.4,
          11.1,
          11.1,
          11.2,
          10.8,
          10.5,
          10.7,
          10.5,
          10.6,
          10.5,
          10.8,
          10.6,
          10.2,
          10,
          9.7,
          9.7,
          9.9,
          10,
          10.1,
          9.3,
          8.9,
          9.1,
          9.9,
          9.9,
          10,
          10.2,
          9.8,
          10,
          10.3,
          10.2,
          10.8,
          10.5,
          10.8,
          10.2,
          10.6,
          10.7,
          10.8,
          10.4,
          10.3,
          10.2,
          10.6,
          11.1,
          10.3,
          10.6,
          10.6,
          11,
          10.8,
          10.6,
          10.5,
          10.9,
          10.9,
          11.5,
          11.4,
          9.8,
          10.4,
          10.5,
          10.4,
          10.2,
          10.5,
          10.4,
          10.2,
          10.1,
          10,
          10.1,
          10.1,
          9.9,
          10,
          9.9,
          9.7,
          9,
          9.4,
          9.5,
          9.2,
          9.1,
          9.8,
          9.9,
          9.8,
          9.8,
          9.8,
          10.3,
          10,
          10.2,
          10.2,
          10.1,
          10.3,
          10.2,
          10.5,
          10.5,
          10.5,
          10.8,
          10.8,
          10.8,
          11.1,
          11.1,
          10.7,
          10.7,
          10.9,
          11.1,
          11.7,
          20.3,
          15.3,
          17.7
         ]
        }
       ],
       "layout": {
        "template": {
         "data": {
          "bar": [
           {
            "error_x": {
             "color": "#2a3f5f"
            },
            "error_y": {
             "color": "#2a3f5f"
            },
            "marker": {
             "line": {
              "color": "#E5ECF6",
              "width": 0.5
             }
            },
            "type": "bar"
           }
          ],
          "barpolar": [
           {
            "marker": {
             "line": {
              "color": "#E5ECF6",
              "width": 0.5
             }
            },
            "type": "barpolar"
           }
          ],
          "carpet": [
           {
            "aaxis": {
             "endlinecolor": "#2a3f5f",
             "gridcolor": "white",
             "linecolor": "white",
             "minorgridcolor": "white",
             "startlinecolor": "#2a3f5f"
            },
            "baxis": {
             "endlinecolor": "#2a3f5f",
             "gridcolor": "white",
             "linecolor": "white",
             "minorgridcolor": "white",
             "startlinecolor": "#2a3f5f"
            },
            "type": "carpet"
           }
          ],
          "choropleth": [
           {
            "colorbar": {
             "outlinewidth": 0,
             "ticks": ""
            },
            "type": "choropleth"
           }
          ],
          "contour": [
           {
            "colorbar": {
             "outlinewidth": 0,
             "ticks": ""
            },
            "colorscale": [
             [
              0,
              "#0d0887"
             ],
             [
              0.1111111111111111,
              "#46039f"
             ],
             [
              0.2222222222222222,
              "#7201a8"
             ],
             [
              0.3333333333333333,
              "#9c179e"
             ],
             [
              0.4444444444444444,
              "#bd3786"
             ],
             [
              0.5555555555555556,
              "#d8576b"
             ],
             [
              0.6666666666666666,
              "#ed7953"
             ],
             [
              0.7777777777777778,
              "#fb9f3a"
             ],
             [
              0.8888888888888888,
              "#fdca26"
             ],
             [
              1,
              "#f0f921"
             ]
            ],
            "type": "contour"
           }
          ],
          "contourcarpet": [
           {
            "colorbar": {
             "outlinewidth": 0,
             "ticks": ""
            },
            "type": "contourcarpet"
           }
          ],
          "heatmap": [
           {
            "colorbar": {
             "outlinewidth": 0,
             "ticks": ""
            },
            "colorscale": [
             [
              0,
              "#0d0887"
             ],
             [
              0.1111111111111111,
              "#46039f"
             ],
             [
              0.2222222222222222,
              "#7201a8"
             ],
             [
              0.3333333333333333,
              "#9c179e"
             ],
             [
              0.4444444444444444,
              "#bd3786"
             ],
             [
              0.5555555555555556,
              "#d8576b"
             ],
             [
              0.6666666666666666,
              "#ed7953"
             ],
             [
              0.7777777777777778,
              "#fb9f3a"
             ],
             [
              0.8888888888888888,
              "#fdca26"
             ],
             [
              1,
              "#f0f921"
             ]
            ],
            "type": "heatmap"
           }
          ],
          "heatmapgl": [
           {
            "colorbar": {
             "outlinewidth": 0,
             "ticks": ""
            },
            "colorscale": [
             [
              0,
              "#0d0887"
             ],
             [
              0.1111111111111111,
              "#46039f"
             ],
             [
              0.2222222222222222,
              "#7201a8"
             ],
             [
              0.3333333333333333,
              "#9c179e"
             ],
             [
              0.4444444444444444,
              "#bd3786"
             ],
             [
              0.5555555555555556,
              "#d8576b"
             ],
             [
              0.6666666666666666,
              "#ed7953"
             ],
             [
              0.7777777777777778,
              "#fb9f3a"
             ],
             [
              0.8888888888888888,
              "#fdca26"
             ],
             [
              1,
              "#f0f921"
             ]
            ],
            "type": "heatmapgl"
           }
          ],
          "histogram": [
           {
            "marker": {
             "colorbar": {
              "outlinewidth": 0,
              "ticks": ""
             }
            },
            "type": "histogram"
           }
          ],
          "histogram2d": [
           {
            "colorbar": {
             "outlinewidth": 0,
             "ticks": ""
            },
            "colorscale": [
             [
              0,
              "#0d0887"
             ],
             [
              0.1111111111111111,
              "#46039f"
             ],
             [
              0.2222222222222222,
              "#7201a8"
             ],
             [
              0.3333333333333333,
              "#9c179e"
             ],
             [
              0.4444444444444444,
              "#bd3786"
             ],
             [
              0.5555555555555556,
              "#d8576b"
             ],
             [
              0.6666666666666666,
              "#ed7953"
             ],
             [
              0.7777777777777778,
              "#fb9f3a"
             ],
             [
              0.8888888888888888,
              "#fdca26"
             ],
             [
              1,
              "#f0f921"
             ]
            ],
            "type": "histogram2d"
           }
          ],
          "histogram2dcontour": [
           {
            "colorbar": {
             "outlinewidth": 0,
             "ticks": ""
            },
            "colorscale": [
             [
              0,
              "#0d0887"
             ],
             [
              0.1111111111111111,
              "#46039f"
             ],
             [
              0.2222222222222222,
              "#7201a8"
             ],
             [
              0.3333333333333333,
              "#9c179e"
             ],
             [
              0.4444444444444444,
              "#bd3786"
             ],
             [
              0.5555555555555556,
              "#d8576b"
             ],
             [
              0.6666666666666666,
              "#ed7953"
             ],
             [
              0.7777777777777778,
              "#fb9f3a"
             ],
             [
              0.8888888888888888,
              "#fdca26"
             ],
             [
              1,
              "#f0f921"
             ]
            ],
            "type": "histogram2dcontour"
           }
          ],
          "mesh3d": [
           {
            "colorbar": {
             "outlinewidth": 0,
             "ticks": ""
            },
            "type": "mesh3d"
           }
          ],
          "parcoords": [
           {
            "line": {
             "colorbar": {
              "outlinewidth": 0,
              "ticks": ""
             }
            },
            "type": "parcoords"
           }
          ],
          "pie": [
           {
            "automargin": true,
            "type": "pie"
           }
          ],
          "scatter": [
           {
            "marker": {
             "colorbar": {
              "outlinewidth": 0,
              "ticks": ""
             }
            },
            "type": "scatter"
           }
          ],
          "scatter3d": [
           {
            "line": {
             "colorbar": {
              "outlinewidth": 0,
              "ticks": ""
             }
            },
            "marker": {
             "colorbar": {
              "outlinewidth": 0,
              "ticks": ""
             }
            },
            "type": "scatter3d"
           }
          ],
          "scattercarpet": [
           {
            "marker": {
             "colorbar": {
              "outlinewidth": 0,
              "ticks": ""
             }
            },
            "type": "scattercarpet"
           }
          ],
          "scattergeo": [
           {
            "marker": {
             "colorbar": {
              "outlinewidth": 0,
              "ticks": ""
             }
            },
            "type": "scattergeo"
           }
          ],
          "scattergl": [
           {
            "marker": {
             "colorbar": {
              "outlinewidth": 0,
              "ticks": ""
             }
            },
            "type": "scattergl"
           }
          ],
          "scattermapbox": [
           {
            "marker": {
             "colorbar": {
              "outlinewidth": 0,
              "ticks": ""
             }
            },
            "type": "scattermapbox"
           }
          ],
          "scatterpolar": [
           {
            "marker": {
             "colorbar": {
              "outlinewidth": 0,
              "ticks": ""
             }
            },
            "type": "scatterpolar"
           }
          ],
          "scatterpolargl": [
           {
            "marker": {
             "colorbar": {
              "outlinewidth": 0,
              "ticks": ""
             }
            },
            "type": "scatterpolargl"
           }
          ],
          "scatterternary": [
           {
            "marker": {
             "colorbar": {
              "outlinewidth": 0,
              "ticks": ""
             }
            },
            "type": "scatterternary"
           }
          ],
          "surface": [
           {
            "colorbar": {
             "outlinewidth": 0,
             "ticks": ""
            },
            "colorscale": [
             [
              0,
              "#0d0887"
             ],
             [
              0.1111111111111111,
              "#46039f"
             ],
             [
              0.2222222222222222,
              "#7201a8"
             ],
             [
              0.3333333333333333,
              "#9c179e"
             ],
             [
              0.4444444444444444,
              "#bd3786"
             ],
             [
              0.5555555555555556,
              "#d8576b"
             ],
             [
              0.6666666666666666,
              "#ed7953"
             ],
             [
              0.7777777777777778,
              "#fb9f3a"
             ],
             [
              0.8888888888888888,
              "#fdca26"
             ],
             [
              1,
              "#f0f921"
             ]
            ],
            "type": "surface"
           }
          ],
          "table": [
           {
            "cells": {
             "fill": {
              "color": "#EBF0F8"
             },
             "line": {
              "color": "white"
             }
            },
            "header": {
             "fill": {
              "color": "#C8D4E3"
             },
             "line": {
              "color": "white"
             }
            },
            "type": "table"
           }
          ]
         },
         "layout": {
          "annotationdefaults": {
           "arrowcolor": "#2a3f5f",
           "arrowhead": 0,
           "arrowwidth": 1
          },
          "autotypenumbers": "strict",
          "coloraxis": {
           "colorbar": {
            "outlinewidth": 0,
            "ticks": ""
           }
          },
          "colorscale": {
           "diverging": [
            [
             0,
             "#8e0152"
            ],
            [
             0.1,
             "#c51b7d"
            ],
            [
             0.2,
             "#de77ae"
            ],
            [
             0.3,
             "#f1b6da"
            ],
            [
             0.4,
             "#fde0ef"
            ],
            [
             0.5,
             "#f7f7f7"
            ],
            [
             0.6,
             "#e6f5d0"
            ],
            [
             0.7,
             "#b8e186"
            ],
            [
             0.8,
             "#7fbc41"
            ],
            [
             0.9,
             "#4d9221"
            ],
            [
             1,
             "#276419"
            ]
           ],
           "sequential": [
            [
             0,
             "#0d0887"
            ],
            [
             0.1111111111111111,
             "#46039f"
            ],
            [
             0.2222222222222222,
             "#7201a8"
            ],
            [
             0.3333333333333333,
             "#9c179e"
            ],
            [
             0.4444444444444444,
             "#bd3786"
            ],
            [
             0.5555555555555556,
             "#d8576b"
            ],
            [
             0.6666666666666666,
             "#ed7953"
            ],
            [
             0.7777777777777778,
             "#fb9f3a"
            ],
            [
             0.8888888888888888,
             "#fdca26"
            ],
            [
             1,
             "#f0f921"
            ]
           ],
           "sequentialminus": [
            [
             0,
             "#0d0887"
            ],
            [
             0.1111111111111111,
             "#46039f"
            ],
            [
             0.2222222222222222,
             "#7201a8"
            ],
            [
             0.3333333333333333,
             "#9c179e"
            ],
            [
             0.4444444444444444,
             "#bd3786"
            ],
            [
             0.5555555555555556,
             "#d8576b"
            ],
            [
             0.6666666666666666,
             "#ed7953"
            ],
            [
             0.7777777777777778,
             "#fb9f3a"
            ],
            [
             0.8888888888888888,
             "#fdca26"
            ],
            [
             1,
             "#f0f921"
            ]
           ]
          },
          "colorway": [
           "#636efa",
           "#EF553B",
           "#00cc96",
           "#ab63fa",
           "#FFA15A",
           "#19d3f3",
           "#FF6692",
           "#B6E880",
           "#FF97FF",
           "#FECB52"
          ],
          "font": {
           "color": "#2a3f5f"
          },
          "geo": {
           "bgcolor": "white",
           "lakecolor": "white",
           "landcolor": "#E5ECF6",
           "showlakes": true,
           "showland": true,
           "subunitcolor": "white"
          },
          "hoverlabel": {
           "align": "left"
          },
          "hovermode": "closest",
          "mapbox": {
           "style": "light"
          },
          "paper_bgcolor": "white",
          "plot_bgcolor": "#E5ECF6",
          "polar": {
           "angularaxis": {
            "gridcolor": "white",
            "linecolor": "white",
            "ticks": ""
           },
           "bgcolor": "#E5ECF6",
           "radialaxis": {
            "gridcolor": "white",
            "linecolor": "white",
            "ticks": ""
           }
          },
          "scene": {
           "xaxis": {
            "backgroundcolor": "#E5ECF6",
            "gridcolor": "white",
            "gridwidth": 2,
            "linecolor": "white",
            "showbackground": true,
            "ticks": "",
            "zerolinecolor": "white"
           },
           "yaxis": {
            "backgroundcolor": "#E5ECF6",
            "gridcolor": "white",
            "gridwidth": 2,
            "linecolor": "white",
            "showbackground": true,
            "ticks": "",
            "zerolinecolor": "white"
           },
           "zaxis": {
            "backgroundcolor": "#E5ECF6",
            "gridcolor": "white",
            "gridwidth": 2,
            "linecolor": "white",
            "showbackground": true,
            "ticks": "",
            "zerolinecolor": "white"
           }
          },
          "shapedefaults": {
           "line": {
            "color": "#2a3f5f"
           }
          },
          "ternary": {
           "aaxis": {
            "gridcolor": "white",
            "linecolor": "white",
            "ticks": ""
           },
           "baxis": {
            "gridcolor": "white",
            "linecolor": "white",
            "ticks": ""
           },
           "bgcolor": "#E5ECF6",
           "caxis": {
            "gridcolor": "white",
            "linecolor": "white",
            "ticks": ""
           }
          },
          "title": {
           "x": 0.05
          },
          "xaxis": {
           "automargin": true,
           "gridcolor": "white",
           "linecolor": "white",
           "ticks": "",
           "title": {
            "standoff": 15
           },
           "zerolinecolor": "white",
           "zerolinewidth": 2
          },
          "yaxis": {
           "automargin": true,
           "gridcolor": "white",
           "linecolor": "white",
           "ticks": "",
           "title": {
            "standoff": 15
           },
           "zerolinecolor": "white",
           "zerolinewidth": 2
          }
         }
        },
        "title": {
         "text": "Private sector savings rate (Germany)"
        },
        "xaxis": {
         "rangeslider": {
          "visible": true
         },
         "title": {
          "text": "Quarter-Year"
         }
        },
        "yaxis": {
         "title": {
          "text": "in % of disposable income"
         }
        }
       }
      },
      "text/html": [
       "<div>                            <div id=\"08c6dbc3-588e-4570-9e09-9a0c29e4a085\" class=\"plotly-graph-div\" style=\"height:525px; width:100%;\"></div>            <script type=\"text/javascript\">                require([\"plotly\"], function(Plotly) {                    window.PLOTLYENV=window.PLOTLYENV || {};                                    if (document.getElementById(\"08c6dbc3-588e-4570-9e09-9a0c29e4a085\")) {                    Plotly.newPlot(                        \"08c6dbc3-588e-4570-9e09-9a0c29e4a085\",                        [{\"name\": \"Private sector savings rate\", \"type\": \"scatter\", \"x\": [\"Q1 91\", \"Q2 91\", \"Q3 91\", \"Q4 91\", \"Q1 92\", \"Q2 92\", \"Q3 92\", \"Q4 92\", \"Q1 93\", \"Q2 93\", \"Q3 93\", \"Q4 93\", \"Q1 94\", \"Q2 94\", \"Q3 94\", \"Q4 94\", \"Q1 95\", \"Q2 95\", \"Q3 95\", \"Q4 95\", \"Q1 96\", \"Q2 96\", \"Q3 96\", \"Q4 96\", \"Q1 97\", \"Q2 97\", \"Q3 97\", \"Q4 97\", \"Q1 98\", \"Q2 98\", \"Q3 98\", \"Q4 98\", \"Q1 99\", \"Q2 99\", \"Q3 99\", \"Q4 99\", \"Q1 00\", \"Q2 00\", \"Q3 00\", \"Q4 00\", \"Q1 01\", \"Q2 01\", \"Q3 01\", \"Q4 01\", \"Q1 02\", \"Q2 02\", \"Q3 02\", \"Q4 02\", \"Q1 03\", \"Q2 03\", \"Q3 03\", \"Q4 03\", \"Q1 04\", \"Q2 04\", \"Q3 04\", \"Q4 04\", \"Q1 05\", \"Q2 05\", \"Q3 05\", \"Q4 05\", \"Q1 06\", \"Q2 06\", \"Q3 06\", \"Q4 06\", \"Q1 07\", \"Q2 07\", \"Q3 07\", \"Q4 07\", \"Q1 08\", \"Q2 08\", \"Q3 08\", \"Q4 08\", \"Q1 09\", \"Q2 09\", \"Q3 09\", \"Q4 09\", \"Q1 10\", \"Q2 10\", \"Q3 10\", \"Q4 10\", \"Q1 11\", \"Q2 11\", \"Q3 11\", \"Q4 11\", \"Q1 12\", \"Q2 12\", \"Q3 12\", \"Q4 12\", \"Q1 13\", \"Q2 13\", \"Q3 13\", \"Q4 13\", \"Q1 14\", \"Q2 14\", \"Q3 14\", \"Q4 14\", \"Q1 15\", \"Q2 15\", \"Q3 15\", \"Q4 15\", \"Q1 16\", \"Q2 16\", \"Q3 16\", \"Q4 16\", \"Q1 17\", \"Q2 17\", \"Q3 17\", \"Q4 17\", \"Q1 18\", \"Q2 18\", \"Q3 18\", \"Q4 18\", \"Q1 19\", \"Q2 19\", \"Q3 19\", \"Q4 19\", \"Q1 20\", \"Q2 20\", \"Q3 20\", \"Q4 20\"], \"y\": [12.6, 13.6, 12.7, 12.7, 12.9, 13, 13.1, 12.5, 12.4, 12.9, 12, 12.2, 11.5, 11.8, 11.8, 11.8, 11.5, 11.5, 11.4, 11.1, 11.1, 11.2, 10.8, 10.5, 10.7, 10.5, 10.6, 10.5, 10.8, 10.6, 10.2, 10, 9.7, 9.7, 9.9, 10, 10.1, 9.3, 8.9, 9.1, 9.9, 9.9, 10, 10.2, 9.8, 10, 10.3, 10.2, 10.8, 10.5, 10.8, 10.2, 10.6, 10.7, 10.8, 10.4, 10.3, 10.2, 10.6, 11.1, 10.3, 10.6, 10.6, 11, 10.8, 10.6, 10.5, 10.9, 10.9, 11.5, 11.4, 9.8, 10.4, 10.5, 10.4, 10.2, 10.5, 10.4, 10.2, 10.1, 10, 10.1, 10.1, 9.9, 10, 9.9, 9.7, 9, 9.4, 9.5, 9.2, 9.1, 9.8, 9.9, 9.8, 9.8, 9.8, 10.3, 10, 10.2, 10.2, 10.1, 10.3, 10.2, 10.5, 10.5, 10.5, 10.8, 10.8, 10.8, 11.1, 11.1, 10.7, 10.7, 10.9, 11.1, 11.7, 20.3, 15.3, 17.7]}],                        {\"template\": {\"data\": {\"bar\": [{\"error_x\": {\"color\": \"#2a3f5f\"}, \"error_y\": {\"color\": \"#2a3f5f\"}, \"marker\": {\"line\": {\"color\": \"#E5ECF6\", \"width\": 0.5}}, \"type\": \"bar\"}], \"barpolar\": [{\"marker\": {\"line\": {\"color\": \"#E5ECF6\", \"width\": 0.5}}, \"type\": \"barpolar\"}], \"carpet\": [{\"aaxis\": {\"endlinecolor\": \"#2a3f5f\", \"gridcolor\": \"white\", \"linecolor\": \"white\", \"minorgridcolor\": \"white\", \"startlinecolor\": \"#2a3f5f\"}, \"baxis\": {\"endlinecolor\": \"#2a3f5f\", \"gridcolor\": \"white\", \"linecolor\": \"white\", \"minorgridcolor\": \"white\", \"startlinecolor\": \"#2a3f5f\"}, \"type\": \"carpet\"}], \"choropleth\": [{\"colorbar\": {\"outlinewidth\": 0, \"ticks\": \"\"}, \"type\": \"choropleth\"}], \"contour\": [{\"colorbar\": {\"outlinewidth\": 0, \"ticks\": \"\"}, \"colorscale\": [[0.0, \"#0d0887\"], [0.1111111111111111, \"#46039f\"], [0.2222222222222222, \"#7201a8\"], [0.3333333333333333, \"#9c179e\"], [0.4444444444444444, \"#bd3786\"], [0.5555555555555556, \"#d8576b\"], [0.6666666666666666, \"#ed7953\"], [0.7777777777777778, \"#fb9f3a\"], [0.8888888888888888, \"#fdca26\"], [1.0, \"#f0f921\"]], \"type\": \"contour\"}], \"contourcarpet\": [{\"colorbar\": {\"outlinewidth\": 0, \"ticks\": \"\"}, \"type\": \"contourcarpet\"}], \"heatmap\": [{\"colorbar\": {\"outlinewidth\": 0, \"ticks\": \"\"}, \"colorscale\": [[0.0, \"#0d0887\"], [0.1111111111111111, \"#46039f\"], [0.2222222222222222, \"#7201a8\"], [0.3333333333333333, \"#9c179e\"], [0.4444444444444444, \"#bd3786\"], [0.5555555555555556, \"#d8576b\"], [0.6666666666666666, \"#ed7953\"], [0.7777777777777778, \"#fb9f3a\"], [0.8888888888888888, \"#fdca26\"], [1.0, \"#f0f921\"]], \"type\": \"heatmap\"}], \"heatmapgl\": [{\"colorbar\": {\"outlinewidth\": 0, \"ticks\": \"\"}, \"colorscale\": [[0.0, \"#0d0887\"], [0.1111111111111111, \"#46039f\"], [0.2222222222222222, \"#7201a8\"], [0.3333333333333333, \"#9c179e\"], [0.4444444444444444, \"#bd3786\"], [0.5555555555555556, \"#d8576b\"], [0.6666666666666666, \"#ed7953\"], [0.7777777777777778, \"#fb9f3a\"], [0.8888888888888888, \"#fdca26\"], [1.0, \"#f0f921\"]], \"type\": \"heatmapgl\"}], \"histogram\": [{\"marker\": {\"colorbar\": {\"outlinewidth\": 0, \"ticks\": \"\"}}, \"type\": \"histogram\"}], \"histogram2d\": [{\"colorbar\": {\"outlinewidth\": 0, \"ticks\": \"\"}, \"colorscale\": [[0.0, \"#0d0887\"], [0.1111111111111111, \"#46039f\"], [0.2222222222222222, \"#7201a8\"], [0.3333333333333333, \"#9c179e\"], [0.4444444444444444, \"#bd3786\"], [0.5555555555555556, \"#d8576b\"], [0.6666666666666666, \"#ed7953\"], [0.7777777777777778, \"#fb9f3a\"], [0.8888888888888888, \"#fdca26\"], [1.0, \"#f0f921\"]], \"type\": \"histogram2d\"}], \"histogram2dcontour\": [{\"colorbar\": {\"outlinewidth\": 0, \"ticks\": \"\"}, \"colorscale\": [[0.0, \"#0d0887\"], [0.1111111111111111, \"#46039f\"], [0.2222222222222222, \"#7201a8\"], [0.3333333333333333, \"#9c179e\"], [0.4444444444444444, \"#bd3786\"], [0.5555555555555556, \"#d8576b\"], [0.6666666666666666, \"#ed7953\"], [0.7777777777777778, \"#fb9f3a\"], [0.8888888888888888, \"#fdca26\"], [1.0, \"#f0f921\"]], \"type\": \"histogram2dcontour\"}], \"mesh3d\": [{\"colorbar\": {\"outlinewidth\": 0, \"ticks\": \"\"}, \"type\": \"mesh3d\"}], \"parcoords\": [{\"line\": {\"colorbar\": {\"outlinewidth\": 0, \"ticks\": \"\"}}, \"type\": \"parcoords\"}], \"pie\": [{\"automargin\": true, \"type\": \"pie\"}], \"scatter\": [{\"marker\": {\"colorbar\": {\"outlinewidth\": 0, \"ticks\": \"\"}}, \"type\": \"scatter\"}], \"scatter3d\": [{\"line\": {\"colorbar\": {\"outlinewidth\": 0, \"ticks\": \"\"}}, \"marker\": {\"colorbar\": {\"outlinewidth\": 0, \"ticks\": \"\"}}, \"type\": \"scatter3d\"}], \"scattercarpet\": [{\"marker\": {\"colorbar\": {\"outlinewidth\": 0, \"ticks\": \"\"}}, \"type\": \"scattercarpet\"}], \"scattergeo\": [{\"marker\": {\"colorbar\": {\"outlinewidth\": 0, \"ticks\": \"\"}}, \"type\": \"scattergeo\"}], \"scattergl\": [{\"marker\": {\"colorbar\": {\"outlinewidth\": 0, \"ticks\": \"\"}}, \"type\": \"scattergl\"}], \"scattermapbox\": [{\"marker\": {\"colorbar\": {\"outlinewidth\": 0, \"ticks\": \"\"}}, \"type\": \"scattermapbox\"}], \"scatterpolar\": [{\"marker\": {\"colorbar\": {\"outlinewidth\": 0, \"ticks\": \"\"}}, \"type\": \"scatterpolar\"}], \"scatterpolargl\": [{\"marker\": {\"colorbar\": {\"outlinewidth\": 0, \"ticks\": \"\"}}, \"type\": \"scatterpolargl\"}], \"scatterternary\": [{\"marker\": {\"colorbar\": {\"outlinewidth\": 0, \"ticks\": \"\"}}, \"type\": \"scatterternary\"}], \"surface\": [{\"colorbar\": {\"outlinewidth\": 0, \"ticks\": \"\"}, \"colorscale\": [[0.0, \"#0d0887\"], [0.1111111111111111, \"#46039f\"], [0.2222222222222222, \"#7201a8\"], [0.3333333333333333, \"#9c179e\"], [0.4444444444444444, \"#bd3786\"], [0.5555555555555556, \"#d8576b\"], [0.6666666666666666, \"#ed7953\"], [0.7777777777777778, \"#fb9f3a\"], [0.8888888888888888, \"#fdca26\"], [1.0, \"#f0f921\"]], \"type\": \"surface\"}], \"table\": [{\"cells\": {\"fill\": {\"color\": \"#EBF0F8\"}, \"line\": {\"color\": \"white\"}}, \"header\": {\"fill\": {\"color\": \"#C8D4E3\"}, \"line\": {\"color\": \"white\"}}, \"type\": \"table\"}]}, \"layout\": {\"annotationdefaults\": {\"arrowcolor\": \"#2a3f5f\", \"arrowhead\": 0, \"arrowwidth\": 1}, \"autotypenumbers\": \"strict\", \"coloraxis\": {\"colorbar\": {\"outlinewidth\": 0, \"ticks\": \"\"}}, \"colorscale\": {\"diverging\": [[0, \"#8e0152\"], [0.1, \"#c51b7d\"], [0.2, \"#de77ae\"], [0.3, \"#f1b6da\"], [0.4, \"#fde0ef\"], [0.5, \"#f7f7f7\"], [0.6, \"#e6f5d0\"], [0.7, \"#b8e186\"], [0.8, \"#7fbc41\"], [0.9, \"#4d9221\"], [1, \"#276419\"]], \"sequential\": [[0.0, \"#0d0887\"], [0.1111111111111111, \"#46039f\"], [0.2222222222222222, \"#7201a8\"], [0.3333333333333333, \"#9c179e\"], [0.4444444444444444, \"#bd3786\"], [0.5555555555555556, \"#d8576b\"], [0.6666666666666666, \"#ed7953\"], [0.7777777777777778, \"#fb9f3a\"], [0.8888888888888888, \"#fdca26\"], [1.0, \"#f0f921\"]], \"sequentialminus\": [[0.0, \"#0d0887\"], [0.1111111111111111, \"#46039f\"], [0.2222222222222222, \"#7201a8\"], [0.3333333333333333, \"#9c179e\"], [0.4444444444444444, \"#bd3786\"], [0.5555555555555556, \"#d8576b\"], [0.6666666666666666, \"#ed7953\"], [0.7777777777777778, \"#fb9f3a\"], [0.8888888888888888, \"#fdca26\"], [1.0, \"#f0f921\"]]}, \"colorway\": [\"#636efa\", \"#EF553B\", \"#00cc96\", \"#ab63fa\", \"#FFA15A\", \"#19d3f3\", \"#FF6692\", \"#B6E880\", \"#FF97FF\", \"#FECB52\"], \"font\": {\"color\": \"#2a3f5f\"}, \"geo\": {\"bgcolor\": \"white\", \"lakecolor\": \"white\", \"landcolor\": \"#E5ECF6\", \"showlakes\": true, \"showland\": true, \"subunitcolor\": \"white\"}, \"hoverlabel\": {\"align\": \"left\"}, \"hovermode\": \"closest\", \"mapbox\": {\"style\": \"light\"}, \"paper_bgcolor\": \"white\", \"plot_bgcolor\": \"#E5ECF6\", \"polar\": {\"angularaxis\": {\"gridcolor\": \"white\", \"linecolor\": \"white\", \"ticks\": \"\"}, \"bgcolor\": \"#E5ECF6\", \"radialaxis\": {\"gridcolor\": \"white\", \"linecolor\": \"white\", \"ticks\": \"\"}}, \"scene\": {\"xaxis\": {\"backgroundcolor\": \"#E5ECF6\", \"gridcolor\": \"white\", \"gridwidth\": 2, \"linecolor\": \"white\", \"showbackground\": true, \"ticks\": \"\", \"zerolinecolor\": \"white\"}, \"yaxis\": {\"backgroundcolor\": \"#E5ECF6\", \"gridcolor\": \"white\", \"gridwidth\": 2, \"linecolor\": \"white\", \"showbackground\": true, \"ticks\": \"\", \"zerolinecolor\": \"white\"}, \"zaxis\": {\"backgroundcolor\": \"#E5ECF6\", \"gridcolor\": \"white\", \"gridwidth\": 2, \"linecolor\": \"white\", \"showbackground\": true, \"ticks\": \"\", \"zerolinecolor\": \"white\"}}, \"shapedefaults\": {\"line\": {\"color\": \"#2a3f5f\"}}, \"ternary\": {\"aaxis\": {\"gridcolor\": \"white\", \"linecolor\": \"white\", \"ticks\": \"\"}, \"baxis\": {\"gridcolor\": \"white\", \"linecolor\": \"white\", \"ticks\": \"\"}, \"bgcolor\": \"#E5ECF6\", \"caxis\": {\"gridcolor\": \"white\", \"linecolor\": \"white\", \"ticks\": \"\"}}, \"title\": {\"x\": 0.05}, \"xaxis\": {\"automargin\": true, \"gridcolor\": \"white\", \"linecolor\": \"white\", \"ticks\": \"\", \"title\": {\"standoff\": 15}, \"zerolinecolor\": \"white\", \"zerolinewidth\": 2}, \"yaxis\": {\"automargin\": true, \"gridcolor\": \"white\", \"linecolor\": \"white\", \"ticks\": \"\", \"title\": {\"standoff\": 15}, \"zerolinecolor\": \"white\", \"zerolinewidth\": 2}}}, \"title\": {\"text\": \"Private sector savings rate (Germany)\"}, \"xaxis\": {\"rangeslider\": {\"visible\": true}, \"title\": {\"text\": \"Quarter-Year\"}}, \"yaxis\": {\"title\": {\"text\": \"in % of disposable income\"}}},                        {\"responsive\": true}                    ).then(function(){\n",
       "                            \n",
       "var gd = document.getElementById('08c6dbc3-588e-4570-9e09-9a0c29e4a085');\n",
       "var x = new MutationObserver(function (mutations, observer) {{\n",
       "        var display = window.getComputedStyle(gd).display;\n",
       "        if (!display || display === 'none') {{\n",
       "            console.log([gd, 'removed!']);\n",
       "            Plotly.purge(gd);\n",
       "            observer.disconnect();\n",
       "        }}\n",
       "}});\n",
       "\n",
       "// Listen for the removal of the full notebook cells\n",
       "var notebookContainer = gd.closest('#notebook-container');\n",
       "if (notebookContainer) {{\n",
       "    x.observe(notebookContainer, {childList: true});\n",
       "}}\n",
       "\n",
       "// Listen for the clearing of the current output cell\n",
       "var outputEl = gd.closest('.output');\n",
       "if (outputEl) {{\n",
       "    x.observe(outputEl, {childList: true});\n",
       "}}\n",
       "\n",
       "                        })                };                });            </script>        </div>"
      ]
     },
     "metadata": {},
     "output_type": "display_data"
    }
   ],
   "source": [
    "fig = go.Figure(data=[\n",
    "    \n",
    "    go.Scatter(name='Private sector savings rate', x = list(df.index),\n",
    "    y = list(df['Rate']))\n",
    "    \n",
    "])\n",
    "\n",
    "fig.layout.update(title = go.layout.Title(\n",
    "                        text='Private sector savings rate (Germany)'))\n",
    "\n",
    "fig.layout.update(yaxis= go.layout.YAxis(title=go.layout.yaxis.Title(\n",
    "                        text='in % of disposable income')))\n",
    "\n",
    "fig.layout.update(xaxis = go.layout.XAxis(title = go.layout.xaxis.Title(text = 'Quarter-Year'), rangeslider = dict(visible = True)));\n",
    "\n",
    "iplot(fig, filename = 'savings_rate')"
   ]
  },
  {
   "cell_type": "code",
   "execution_count": null,
   "id": "8c3c1a15",
   "metadata": {},
   "outputs": [],
   "source": [
    "! pip install chart-studio"
   ]
  },
  {
   "cell_type": "code",
   "execution_count": 39,
   "id": "b28e487e",
   "metadata": {},
   "outputs": [
    {
     "data": {
      "text/plain": [
       "'https://plotly.com/~gerwolf/194/'"
      ]
     },
     "execution_count": 39,
     "metadata": {},
     "output_type": "execute_result"
    }
   ],
   "source": [
    "import chart_studio\n",
    "import chart_studio.plotly as py\n",
    "import plotly.graph_objs as go\n",
    "\n",
    "import plotly_config\n",
    "\n",
    "chart_studio.tools.set_credentials_file(username=plotly_config.Username, api_key=plotly_config.api_key)\n",
    "\n",
    "fig = go.Figure(data=[\n",
    "    \n",
    "    go.Scatter(name='Private sector savings rate', x = list(df.index),\n",
    "    y = list(df['Rate']))\n",
    "    \n",
    "])\n",
    "\n",
    "fig.layout.update(title = go.layout.Title(\n",
    "                        text='Private sector savings rate (Germany)'))\n",
    "\n",
    "fig.layout.update(yaxis= go.layout.YAxis(title=go.layout.yaxis.Title(\n",
    "                        text='in % of disposable income')))\n",
    "\n",
    "fig.layout.update(xaxis = go.layout.XAxis(title = go.layout.xaxis.Title(text = 'Quarter-Year'), rangeslider = dict(visible = True)));\n",
    "\n",
    "py.plot(fig, filename = 'published_articles', auto_open = True)"
   ]
  },
  {
   "cell_type": "markdown",
   "id": "977fa2f4",
   "metadata": {},
   "source": [
    "## Twitter API\n"
   ]
  },
  {
   "cell_type": "code",
   "execution_count": 40,
   "id": "1e4823f2",
   "metadata": {},
   "outputs": [
    {
     "name": "stdout",
     "output_type": "stream",
     "text": [
      "Requirement already satisfied: python-twitter in c:\\users\\wolfg\\anaconda3\\envs\\webscraping\\lib\\site-packages (3.5)\n",
      "Requirement already satisfied: future in c:\\users\\wolfg\\anaconda3\\envs\\webscraping\\lib\\site-packages (from python-twitter) (0.18.2)\n",
      "Requirement already satisfied: requests-oauthlib in c:\\users\\wolfg\\anaconda3\\envs\\webscraping\\lib\\site-packages (from python-twitter) (1.3.0)\n",
      "Requirement already satisfied: requests in c:\\users\\wolfg\\anaconda3\\envs\\webscraping\\lib\\site-packages (from python-twitter) (2.25.1)\n",
      "Requirement already satisfied: chardet<5,>=3.0.2 in c:\\users\\wolfg\\anaconda3\\envs\\webscraping\\lib\\site-packages (from requests->python-twitter) (4.0.0)\n",
      "Requirement already satisfied: urllib3<1.27,>=1.21.1 in c:\\users\\wolfg\\anaconda3\\envs\\webscraping\\lib\\site-packages (from requests->python-twitter) (1.26.4)\n",
      "Requirement already satisfied: certifi>=2017.4.17 in c:\\users\\wolfg\\anaconda3\\envs\\webscraping\\lib\\site-packages (from requests->python-twitter) (2020.12.5)\n",
      "Requirement already satisfied: idna<3,>=2.5 in c:\\users\\wolfg\\anaconda3\\envs\\webscraping\\lib\\site-packages (from requests->python-twitter) (2.10)\n",
      "Requirement already satisfied: oauthlib>=3.0.0 in c:\\users\\wolfg\\anaconda3\\envs\\webscraping\\lib\\site-packages (from requests-oauthlib->python-twitter) (3.1.0)\n"
     ]
    }
   ],
   "source": [
    "!pip install python-twitter --upgrade"
   ]
  },
  {
   "cell_type": "markdown",
   "id": "25aba8d5",
   "metadata": {},
   "source": []
  },
  {
   "cell_type": "code",
   "execution_count": 41,
   "id": "d1094988",
   "metadata": {},
   "outputs": [],
   "source": [
    "import twitter\n",
    "import twitter_config\n",
    "\n",
    "api = twitter.Api(consumer_key = twitter_config.api_key ,\n",
    "                  consumer_secret = twitter_config.api_secret_key,\n",
    "                  access_token_key = twitter_config.access_token,\n",
    "                  access_token_secret = twitter_config.access_token_secret,\n",
    "                  tweet_mode = 'extended',\n",
    "                  sleep_on_rate_limit = True)"
   ]
  },
  {
   "cell_type": "markdown",
   "id": "801d7973",
   "metadata": {},
   "source": [
    "Let us query a free-text-search using the hashtag `#gameofthrones`. Which function would you use? Limit the maximum amount of response elements to 10."
   ]
  },
  {
   "cell_type": "code",
   "execution_count": 42,
   "id": "e8ffcca7",
   "metadata": {},
   "outputs": [],
   "source": [
    "got = api.GetSearch('#gameofthrones', count = 10)"
   ]
  },
  {
   "cell_type": "code",
   "execution_count": 43,
   "id": "5af2e413",
   "metadata": {},
   "outputs": [
    {
     "data": {
      "text/plain": [
       "Status(ID=1382423413298323457, ScreenName=GameOfThrones, Created=Wed Apr 14 20:00:00 +0000 2021, Text='Queen in the North.\\nRemember Sansa Stark’s journey in #GameofThrones. #IronAnniversary https://t.co/aIw2v7x6oL')"
      ]
     },
     "execution_count": 43,
     "metadata": {},
     "output_type": "execute_result"
    }
   ],
   "source": [
    "example_tweet = got[0]\n",
    "example_tweet"
   ]
  },
  {
   "cell_type": "code",
   "execution_count": 45,
   "id": "66403bfe",
   "metadata": {},
   "outputs": [
    {
     "name": "stdout",
     "output_type": "stream",
     "text": [
      "id: 1382423413298323457\n"
     ]
    }
   ],
   "source": [
    "print('id:', example_tweet.id)"
   ]
  },
  {
   "cell_type": "markdown",
   "id": "80c8c77d",
   "metadata": {},
   "source": [
    "Which type is the output object? Which type have the output object's elements?"
   ]
  },
  {
   "cell_type": "code",
   "execution_count": 46,
   "id": "d76594ca",
   "metadata": {},
   "outputs": [
    {
     "data": {
      "text/plain": [
       "twitter.models.Status"
      ]
     },
     "execution_count": 46,
     "metadata": {},
     "output_type": "execute_result"
    }
   ],
   "source": [
    "type(example_tweet)"
   ]
  },
  {
   "cell_type": "code",
   "execution_count": null,
   "id": "e3072f01",
   "metadata": {},
   "outputs": [],
   "source": []
  },
  {
   "cell_type": "code",
   "execution_count": null,
   "id": "d512ea17",
   "metadata": {},
   "outputs": [],
   "source": [
    "!pip install tweepy --upgrade"
   ]
  },
  {
   "cell_type": "code",
   "execution_count": 47,
   "id": "8a001afc",
   "metadata": {},
   "outputs": [],
   "source": [
    "import tweepy\n",
    "import json\n",
    "import twitter_config"
   ]
  },
  {
   "cell_type": "code",
   "execution_count": 49,
   "id": "c78ba852",
   "metadata": {},
   "outputs": [],
   "source": [
    "auth = tweepy.OAuthHandler(twitter_config.api_key, twitter_config.api_secret_key)\n",
    "auth.set_access_token(twitter_config.access_token, twitter_config.access_token_secret)\n",
    "api = tweepy.API(auth, wait_on_rate_limit=True)"
   ]
  },
  {
   "cell_type": "markdown",
   "id": "6e4ce95c",
   "metadata": {},
   "source": [
    "`Tweepy` is great for retrieving additional info on Tweets such as GeoLocation (only for those where users have enabled the feature, or not consciously disabled it)\n",
    "- We will run a small analysis of the spatial distribution of recent Tweets in Germany\n",
    "- The common finding (also known in the academic and non-academic literature) is that the data quality decreases substantially once we condition those observations on specific keywords\n",
    "> Please note that Twitter’s search service and, by extension, the Search API is not meant to be an exhaustive source of Tweets. Not all Tweets will be indexed or made available via the search interface. (From the [official Twitter API documentation](https://developer.twitter.com/en/docs/twitter-api/v1/tweets/search/api-reference/get-search-tweets))\n",
    "\n",
    "Your task now: familiarise yourself with the [`Twitter ` API](https://developer.twitter.com/en/docs/twitter-api/v1) and [`Tweepy` Python](https://docs.tweepy.org/en/v3.10.0/index.html) implementation."
   ]
  },
  {
   "cell_type": "code",
   "execution_count": 50,
   "id": "919a54f0",
   "metadata": {},
   "outputs": [
    {
     "data": {
      "text/html": [
       "\n",
       "        <iframe\n",
       "            width=\"980\"\n",
       "            height=\"400\"\n",
       "            src=\"https://docs.tweepy.org/en/v3.10.0/index.html\"\n",
       "            frameborder=\"0\"\n",
       "            allowfullscreen\n",
       "        ></iframe>\n",
       "        "
      ],
      "text/plain": [
       "<IPython.lib.display.IFrame at 0x1f2839cc700>"
      ]
     },
     "execution_count": 50,
     "metadata": {},
     "output_type": "execute_result"
    }
   ],
   "source": [
    "from IPython.display import IFrame\n",
    "\n",
    "url = 'https://docs.tweepy.org/en/v3.10.0/index.html'\n",
    "IFrame(url, width=980, height=400)"
   ]
  },
  {
   "cell_type": "markdown",
   "id": "67d0c8ae",
   "metadata": {},
   "source": [
    "1. Which `Tweepy` version have you installed?\n",
    "2. Which function would you use to send a search query?\n",
    "3. Which function in `Tweepy` facilitates pagination?\n",
    "4. Which fields contain [spatial](https://developer.twitter.com/en/docs/twitter-api/v1/data-dictionary/object-model/geo) information?\n",
    "5. Identify the internal country code of `Germany`, i.e. its `id`.\n",
    "6. How would you [construct a query](https://developer.twitter.com/en/docs/twitter-api/v1/tweets/search/api-reference/get-search-tweets) that specifies a search term, the language and the number of Tweets shown per page?\n",
    "\n",
    "Note there are [rate limits](https://developer.twitter.com/en/docs/twitter-api/rate-limits)! For example, include `time.sleep(15 * 60)` in case your rate limit was reached when running more comprehensive searches."
   ]
  },
  {
   "cell_type": "code",
   "execution_count": 51,
   "id": "7014bd10",
   "metadata": {},
   "outputs": [
    {
     "data": {
      "text/plain": [
       "'3.10.0'"
      ]
     },
     "execution_count": 51,
     "metadata": {},
     "output_type": "execute_result"
    }
   ],
   "source": [
    "tweepy.__version__"
   ]
  },
  {
   "cell_type": "code",
   "execution_count": 52,
   "id": "0399b8d8",
   "metadata": {},
   "outputs": [
    {
     "data": {
      "text/plain": [
       "'fdcd221ac44fa326'"
      ]
     },
     "execution_count": 52,
     "metadata": {},
     "output_type": "execute_result"
    }
   ],
   "source": [
    "searchCountry = \"Germany\"\n",
    "places = api.geo_search(query=searchCountry, granularity = 'country')\n",
    "place_id = places[0].id\n",
    "place_id"
   ]
  },
  {
   "cell_type": "code",
   "execution_count": 53,
   "id": "05f6d4bf",
   "metadata": {},
   "outputs": [],
   "source": [
    "# Example query\n",
    "\n",
    "header = {\"q\": \"place:fdcd221ac44fa326\", \"lang\": \"de\", \"tweet_mode\": \"extended\", \"count\": 100}\n",
    "\n",
    "# Note: \"count\":100 is the maximum of returned Tweets per request/item in the standard Twitter API\n",
    "# You can paginate either per item (i.e. individual request) or pages of results \n",
    "# https://docs.tweepy.org/en/latest/cursor_tutorial.html\n",
    "# The Cursor() function ignores the 'count' parameter in the query, the limit is defined in the items() function instead\n",
    "\n",
    "batch_tweets = tweepy.Cursor(api.search, **header)\n",
    "\n",
    "noOfSearch = 200\n",
    "\n",
    "batch_items = batch_tweets.items(noOfSearch)"
   ]
  },
  {
   "cell_type": "code",
   "execution_count": 54,
   "id": "433b2f4e",
   "metadata": {},
   "outputs": [],
   "source": [
    "batch_list = [i._json for i in batch_items] # underscore means 'intended for internal use'"
   ]
  },
  {
   "cell_type": "code",
   "execution_count": 55,
   "id": "3f80b3d5",
   "metadata": {},
   "outputs": [
    {
     "data": {
      "text/plain": [
       "{'created_at': 'Fri Apr 16 14:01:30 +0000 2021',\n",
       " 'id': 1383057970460831746,\n",
       " 'id_str': '1383057970460831746',\n",
       " 'full_text': '@SZ Schäuble hat wie in der Hauptstadt Frage 1990 guten Geschmack! @cducsubt \\nAber Deutschland braucht lange Regierung Pause von Union https://t.co/xA69SxjMEI',\n",
       " 'truncated': False,\n",
       " 'display_text_range': [4, 134],\n",
       " 'entities': {'hashtags': [],\n",
       "  'symbols': [],\n",
       "  'user_mentions': [{'screen_name': 'SZ',\n",
       "    'name': 'Süddeutsche Zeitung',\n",
       "    'id': 114508061,\n",
       "    'id_str': '114508061',\n",
       "    'indices': [0, 3]},\n",
       "   {'screen_name': 'cducsubt',\n",
       "    'name': 'CDU/CSU',\n",
       "    'id': 46085533,\n",
       "    'id_str': '46085533',\n",
       "    'indices': [67, 76]}],\n",
       "  'urls': [],\n",
       "  'media': [{'id': 1383057967642198020,\n",
       "    'id_str': '1383057967642198020',\n",
       "    'indices': [135, 158],\n",
       "    'media_url': 'http://pbs.twimg.com/media/EzGb5NEWQAQyYpP.jpg',\n",
       "    'media_url_https': 'https://pbs.twimg.com/media/EzGb5NEWQAQyYpP.jpg',\n",
       "    'url': 'https://t.co/xA69SxjMEI',\n",
       "    'display_url': 'pic.twitter.com/xA69SxjMEI',\n",
       "    'expanded_url': 'https://twitter.com/ThomasTomy123/status/1383057970460831746/photo/1',\n",
       "    'type': 'photo',\n",
       "    'sizes': {'thumb': {'w': 150, 'h': 150, 'resize': 'crop'},\n",
       "     'large': {'w': 720, 'h': 720, 'resize': 'fit'},\n",
       "     'small': {'w': 680, 'h': 680, 'resize': 'fit'},\n",
       "     'medium': {'w': 720, 'h': 720, 'resize': 'fit'}}}]},\n",
       " 'extended_entities': {'media': [{'id': 1383057967642198020,\n",
       "    'id_str': '1383057967642198020',\n",
       "    'indices': [135, 158],\n",
       "    'media_url': 'http://pbs.twimg.com/media/EzGb5NEWQAQyYpP.jpg',\n",
       "    'media_url_https': 'https://pbs.twimg.com/media/EzGb5NEWQAQyYpP.jpg',\n",
       "    'url': 'https://t.co/xA69SxjMEI',\n",
       "    'display_url': 'pic.twitter.com/xA69SxjMEI',\n",
       "    'expanded_url': 'https://twitter.com/ThomasTomy123/status/1383057970460831746/photo/1',\n",
       "    'type': 'photo',\n",
       "    'sizes': {'thumb': {'w': 150, 'h': 150, 'resize': 'crop'},\n",
       "     'large': {'w': 720, 'h': 720, 'resize': 'fit'},\n",
       "     'small': {'w': 680, 'h': 680, 'resize': 'fit'},\n",
       "     'medium': {'w': 720, 'h': 720, 'resize': 'fit'}}}]},\n",
       " 'metadata': {'iso_language_code': 'de', 'result_type': 'recent'},\n",
       " 'source': '<a href=\"http://twitter.com/download/android\" rel=\"nofollow\">Twitter for Android</a>',\n",
       " 'in_reply_to_status_id': 1383057246129643520,\n",
       " 'in_reply_to_status_id_str': '1383057246129643520',\n",
       " 'in_reply_to_user_id': 114508061,\n",
       " 'in_reply_to_user_id_str': '114508061',\n",
       " 'in_reply_to_screen_name': 'SZ',\n",
       " 'user': {'id': 57743673,\n",
       "  'id_str': '57743673',\n",
       "  'name': '😷O-Thomas😷',\n",
       "  'screen_name': 'ThomasTomy123',\n",
       "  'location': 'Berlin',\n",
       "  'description': 'Linker Wutbürger 🙃, \\nHertha BSC Fan von😡bis😍, AfD-ler ihr werdet von mir blockiert 💯 % !!',\n",
       "  'url': None,\n",
       "  'entities': {'description': {'urls': []}},\n",
       "  'protected': False,\n",
       "  'followers_count': 818,\n",
       "  'friends_count': 999,\n",
       "  'listed_count': 4,\n",
       "  'created_at': 'Fri Jul 17 20:12:06 +0000 2009',\n",
       "  'favourites_count': 28071,\n",
       "  'utc_offset': None,\n",
       "  'time_zone': None,\n",
       "  'geo_enabled': True,\n",
       "  'verified': False,\n",
       "  'statuses_count': 34306,\n",
       "  'lang': None,\n",
       "  'contributors_enabled': False,\n",
       "  'is_translator': False,\n",
       "  'is_translation_enabled': False,\n",
       "  'profile_background_color': '000000',\n",
       "  'profile_background_image_url': 'http://abs.twimg.com/images/themes/theme1/bg.png',\n",
       "  'profile_background_image_url_https': 'https://abs.twimg.com/images/themes/theme1/bg.png',\n",
       "  'profile_background_tile': False,\n",
       "  'profile_image_url': 'http://pbs.twimg.com/profile_images/1322702787159969792/1BkOFbAH_normal.jpg',\n",
       "  'profile_image_url_https': 'https://pbs.twimg.com/profile_images/1322702787159969792/1BkOFbAH_normal.jpg',\n",
       "  'profile_banner_url': 'https://pbs.twimg.com/profile_banners/57743673/1545865533',\n",
       "  'profile_link_color': '91D2FA',\n",
       "  'profile_sidebar_border_color': '000000',\n",
       "  'profile_sidebar_fill_color': '000000',\n",
       "  'profile_text_color': '000000',\n",
       "  'profile_use_background_image': False,\n",
       "  'has_extended_profile': True,\n",
       "  'default_profile': False,\n",
       "  'default_profile_image': False,\n",
       "  'following': False,\n",
       "  'follow_request_sent': False,\n",
       "  'notifications': False,\n",
       "  'translator_type': 'none'},\n",
       " 'geo': None,\n",
       " 'coordinates': None,\n",
       " 'place': {'id': '3078869807f9dd36',\n",
       "  'url': 'https://api.twitter.com/1.1/geo/id/3078869807f9dd36.json',\n",
       "  'place_type': 'city',\n",
       "  'name': 'Berlin',\n",
       "  'full_name': 'Berlin, Germany',\n",
       "  'country_code': 'DE',\n",
       "  'country': 'Germany',\n",
       "  'contained_within': [],\n",
       "  'bounding_box': {'type': 'Polygon',\n",
       "   'coordinates': [[[13.088304, 52.338079],\n",
       "     [13.760909, 52.338079],\n",
       "     [13.760909, 52.675323],\n",
       "     [13.088304, 52.675323]]]},\n",
       "  'attributes': {}},\n",
       " 'contributors': None,\n",
       " 'is_quote_status': False,\n",
       " 'retweet_count': 0,\n",
       " 'favorite_count': 0,\n",
       " 'favorited': False,\n",
       " 'retweeted': False,\n",
       " 'possibly_sensitive': False,\n",
       " 'lang': 'de'}"
      ]
     },
     "execution_count": 55,
     "metadata": {},
     "output_type": "execute_result"
    }
   ],
   "source": [
    "batch_list[0]"
   ]
  },
  {
   "cell_type": "markdown",
   "id": "98d0ce0d",
   "metadata": {},
   "source": [
    "Write a function which takes as input arguments a (not hardcoded) `place_id`, `language` and `tweet_mode` (which you set to \"extended\" by default such that you query the full, untruncated text content of the Tweets) and returns a **list of dictionaries**. The goal is to obtain a as-complete-as-possible collection of recent Tweets in Germany **without specifying a `key word`**. In order to maximize the number of Tweets you receive, stack the `.Cursor()` object inside of a for-loop. Save the resulting output to your local directory as a `.json` file."
   ]
  },
  {
   "cell_type": "code",
   "execution_count": 56,
   "id": "c06116ac",
   "metadata": {},
   "outputs": [],
   "source": [
    "# Your code\n",
    "\n",
    "max_id = None\n",
    "for j in range(50):\n",
    "    \n",
    "    header = {\n",
    "        # \"q\": f'{searchTerms} place:{place_id}'.format(searchTerms, place_id) and (\"place:%s\" % place_id),\n",
    "        # \"q\": \"#maskenaffaere -filter:locations\",\n",
    "        # \"q\": \"#maskenaffaere filter:geo_enabled\",\n",
    "        # \"q\": \"#maskenaffaere\",\n",
    "        # \"geocode\": '51.590556,10.106111,310mi',\n",
    "        \"q\": \"place:fdcd221ac44fa326\",\n",
    "        \"lang\": \"de\",\n",
    "        \"tweet_mode\": \"extended\",\n",
    "        \"count\": 100,\n",
    "        \"max_id\": max_id\n",
    "        # \"search_term\": \"\"\n",
    "    }\n",
    "    \n",
    "    try:\n",
    "    \n",
    "        batch_tweets = tweepy.Cursor(api.search, **header).items(noOfSearch)\n",
    "        # the double asterisks ** inside of the function means that an abritrary number of arguments\n",
    "        # can be taken by the function in form as a dictionary (* would be a tuple)\n",
    "        \n",
    "    except Exception as error:\n",
    "        \n",
    "        break\n",
    "        \n",
    "    batch_tweets = [i._json for i in batch_tweets]\n",
    "    batch_ids = [i[\"id\"] for i in batch_tweets]\n",
    "    with open(f'{j}_de_bunch.json', 'w', encoding='utf-8') as f:\n",
    "        json.dump(batch_tweets, f, ensure_ascii=False)\n",
    "    max_id = batch_ids[-1]"
   ]
  },
  {
   "cell_type": "code",
   "execution_count": 57,
   "id": "35104992",
   "metadata": {},
   "outputs": [],
   "source": [
    "import json\n",
    "\n",
    "bunches = []\n",
    "\n",
    "for bunch in range(50):\n",
    "    \n",
    "    with open('./Twitter Bunches (Thursday)/' + str(bunch) + '_de_bunch.json', 'r', encoding='utf-8') as f:\n",
    "    \n",
    "        D_read = json.load(f)\n",
    "        bunches.extend(D_read) # extend instead of append"
   ]
  },
  {
   "cell_type": "code",
   "execution_count": 58,
   "id": "ac2952ce",
   "metadata": {},
   "outputs": [
    {
     "data": {
      "text/plain": [
       "10000"
      ]
     },
     "execution_count": 58,
     "metadata": {},
     "output_type": "execute_result"
    }
   ],
   "source": [
    "len(bunches)"
   ]
  },
  {
   "cell_type": "markdown",
   "id": "ef014cf7",
   "metadata": {},
   "source": [
    "Once you have the raw output, determine the total number of unique Tweets, i.e. `ids`.\n",
    "You can use a dictionary comprehension (similar to list comprehensions) to achieve that since duplicate keys are not allowed in a dictionary."
   ]
  },
  {
   "cell_type": "code",
   "execution_count": 59,
   "id": "ca6af832",
   "metadata": {},
   "outputs": [
    {
     "data": {
      "text/plain": [
       "9951"
      ]
     },
     "execution_count": 59,
     "metadata": {},
     "output_type": "execute_result"
    }
   ],
   "source": [
    "unique = { tweet['id'] : tweet for tweet in bunches }\n",
    "len(unique)"
   ]
  },
  {
   "cell_type": "markdown",
   "id": "dd455f1e",
   "metadata": {},
   "source": [
    "Identify all Tweets (elements) which value associated with the key `coordinates` is different from `None`. Assign the result to an object `matches`. How does the content of this object compare to the \"unfiltered\" data container `unique`?"
   ]
  },
  {
   "cell_type": "code",
   "execution_count": null,
   "id": "caebe775",
   "metadata": {},
   "outputs": [],
   "source": [
    "# Code for matching elements"
   ]
  },
  {
   "cell_type": "markdown",
   "id": "f9d85e52",
   "metadata": {},
   "source": [
    "You should get elements in this format:\n",
    "\n",
    "```\n",
    "{1382787792535703552: {'created_at': 'Thu Apr 15 20:07:55 +0000 2021',\n",
    "  'id': 1382787792535703552,\n",
    "  'id_str': '1382787792535703552',\n",
    "  'full_text': '@bennai_m @JoueursDZ @DZfoot Ya sehr gut geschossen Grosse Verantwortung',\n",
    "  'truncated': False,\n",
    "  'display_text_range': [29, 72],\n",
    "  'entities': {'hashtags': [],\n",
    "   'symbols': [],\n",
    "   'user_mentions': [{'screen_name': 'bennai_m',\n",
    "     'name': 'MBennai',\n",
    "     'id': 1157689821969756161,\n",
    "     'id_str': '1157689821969756161',\n",
    "     'indices': [0, 9]},\n",
    "    {'screen_name': 'JoueursDZ',\n",
    "     'name': 'JDZ Football',\n",
    "     'id': 1177267711157690371,\n",
    "     'id_str': '1177267711157690371',\n",
    "     'indices': [10, 20]},\n",
    "    {'screen_name': 'DZfoot',\n",
    "     'name': 'DZfoot',\n",
    "     'id': 296303972,\n",
    "     'id_str': '296303972',\n",
    "     'indices': [21, 28]}],\n",
    "   'urls': []},\n",
    "  'metadata': {'iso_language_code': 'de', 'result_type': 'recent'},\n",
    "  'source': '<a href=\"http://twitter.com/download/android\" rel=\"nofollow\">Twitter for Android</a>',\n",
    "  'in_reply_to_status_id': 1382781123978223624,\n",
    "  'in_reply_to_status_id_str': '1382781123978223624',\n",
    "  'in_reply_to_user_id': 1157689821969756161,\n",
    "  'in_reply_to_user_id_str': '1157689821969756161',\n",
    "  'in_reply_to_screen_name': 'bennai_m',\n",
    "  'user': {'id': 1370800515295100933,\n",
    "   'id_str': '1370800515295100933',\n",
    "   'name': 'Tassilli Hoggar',\n",
    "   'screen_name': 'TassilliHoggar',\n",
    "   'location': '',\n",
    "   'description': 'sports',\n",
    "   'url': None,\n",
    "   'entities': {'description': {'urls': []}},\n",
    "   'protected': False,\n",
    "   'followers_count': 17,\n",
    "   'friends_count': 113,\n",
    "   'listed_count': 0,\n",
    "   'created_at': 'Sat Mar 13 18:15:23 +0000 2021',\n",
    "   'favourites_count': 427,\n",
    "   'utc_offset': None,\n",
    "   'time_zone': None,\n",
    "   'geo_enabled': True,\n",
    "   'verified': False,\n",
    "   'statuses_count': 959,\n",
    "   'lang': None,\n",
    "   'contributors_enabled': False,\n",
    "   'is_translator': False,\n",
    "   'is_translation_enabled': False,\n",
    "   'profile_background_color': 'F5F8FA',\n",
    "   'profile_background_image_url': None,\n",
    "   'profile_background_image_url_https': None,\n",
    "   'profile_background_tile': False,\n",
    "   'profile_image_url': 'http://pbs.twimg.com/profile_images/1370801015902064643/BCSHPcOg_normal.jpg',\n",
    "   'profile_image_url_https': 'https://pbs.twimg.com/profile_images/1370801015902064643/BCSHPcOg_normal.jpg',\n",
    "   'profile_link_color': '1DA1F2',\n",
    "   'profile_sidebar_border_color': 'C0DEED',\n",
    "   'profile_sidebar_fill_color': 'DDEEF6',\n",
    "   'profile_text_color': '333333',\n",
    "   'profile_use_background_image': True,\n",
    "   'has_extended_profile': True,\n",
    "   'default_profile': True,\n",
    "   'default_profile_image': False,\n",
    "   'following': False,\n",
    "   'follow_request_sent': False,\n",
    "   'notifications': False,\n",
    "   'translator_type': 'none'},\n",
    "  'geo': None,\n",
    "  'coordinates': None,\n",
    "  'place': {'id': '5bcd72da50f0ee77',\n",
    "   'url': 'https://api.twitter.com/1.1/geo/id/5bcd72da50f0ee77.json',\n",
    "   'place_type': 'city',\n",
    "   'name': 'Hamburg',\n",
    "   'full_name': 'Hamburg, Germany',\n",
    "   'country_code': 'DE',\n",
    "   'country': 'Germany',\n",
    "   'contained_within': [],\n",
    "   'bounding_box': {'type': 'Polygon',\n",
    "    'coordinates': [[[8.4201604, 53.395118],\n",
    "      [10.325199, 53.395118],\n",
    "      [10.325199, 53.9646546],\n",
    "      [8.4201604, 53.9646546]]]},\n",
    "   'attributes': {}},\n",
    "  'contributors': None,\n",
    "  'is_quote_status': False,\n",
    "  'retweet_count': 0,\n",
    "  'favorite_count': 0,\n",
    "  'favorited': False,\n",
    "  'retweeted': False,\n",
    "  'lang': 'de'}}\n",
    "  ```"
   ]
  },
  {
   "cell_type": "code",
   "execution_count": null,
   "id": "63637025",
   "metadata": {},
   "outputs": [],
   "source": [
    "from shapely.geometry import Point, Polygon"
   ]
  },
  {
   "cell_type": "markdown",
   "id": "3a21fa87",
   "metadata": {},
   "source": [
    "Now we're using a spatial library to process those appropriate data fields. The coordinates are in rectangular form and we would like to collapse them to a single point (e.g. to increase the accuracy). \n",
    "- First you need to convert the raw rectangular coordinates into a shape (use `Polygon()`), obtain the centroid from the resulting object and separate it into `longitude` and `latitude`. \n",
    "- Then combine the two coordinates to a `Point()` coordinates object.\n",
    "- Extract the following key-values from the `matches` data container:\n",
    "    - key\n",
    "    - timestamp of creation\n",
    "    - full Tweet text\n",
    "    - the user's registered name\n",
    "    - the user's nickname/alias as shown on Twitter\n",
    "    - the place's ID\n",
    "    - the place's name\n",
    "    - the place's country code\n",
    "    - the place's country name\n",
    "    - the place's bounding box' coordinates\n",
    "    - the place's centroid's coordinates (as Shapely object)\n",
    "    - the Tweet's number of Retweets\n",
    "    - the Tweet's number of likes/favorites\n",
    "    - the user's location (e.g. checked in @ Universität Potsdam)\n",
    "    - the number of user's followers\n",
    "    - the number of user's friends\n",
    "    - the registration date of the user's account\n",
    "    - a complete URL that leads to the original Tweet (Hint: it's a combination of two other fields from above, use string formatting)\n",
    "\n",
    "The output should have the following format:\n",
    "\n",
    "```\n",
    "{'Tweet ID': 1382787792535703552,\n",
    " 'Created at': Timestamp('2021-04-15 20:07:55+0000', tz='UTC'),\n",
    " 'Full Text': '@bennai_m @JoueursDZ @DZfoot Ya sehr gut geschossen Grosse Verantwortung',\n",
    " 'User Name': 'Tassilli Hoggar',\n",
    " 'User Alias': 'TassilliHoggar',\n",
    " 'Place ID': '5bcd72da50f0ee77',\n",
    " 'Place Name': 'Hamburg',\n",
    " 'Country Code': 'DE',\n",
    " 'Country Name': 'Germany',\n",
    " 'Bounding Box': [[8.4201604, 53.395118],\n",
    "  [10.325199, 53.395118],\n",
    "  [10.325199, 53.9646546],\n",
    "  [8.4201604, 53.9646546]],\n",
    " 'Tweet Coordinates': <shapely.geometry.point.Point at 0x292c8039f10>,\n",
    " 'Retweet Count': 0,\n",
    " 'Favorite Count': 0,\n",
    " 'User Location': '',\n",
    " 'User Followers': 17,\n",
    " 'User Friends': 113,\n",
    " 'Registration Date': 'Sat Mar 13 18:15:23 +0000 2021',\n",
    " 'Tweet URL': 'https://twitter.com/TassilliHoggar/status/1382787792535703552'}\n",
    "```"
   ]
  },
  {
   "cell_type": "code",
   "execution_count": null,
   "id": "ba881865",
   "metadata": {},
   "outputs": [],
   "source": [
    "# Your code for parsing\n",
    "\n",
    "\n",
    "\n",
    "\n",
    "\n",
    "\n",
    "\n",
    "\n",
    "\n",
    "\n",
    "\n",
    "\n",
    "\n",
    "\n",
    "\n",
    "\n",
    "\n"
   ]
  },
  {
   "cell_type": "code",
   "execution_count": null,
   "id": "e5b8173e",
   "metadata": {},
   "outputs": [],
   "source": [
    "results_df = pd.DataFrame(results_list)\n",
    "gdf = gpd.GeoDataFrame(results_df, geometry=results_df['Tweet Coordinates'])\n",
    "gdf.crs = \"epsg=4326\""
   ]
  },
  {
   "cell_type": "code",
   "execution_count": null,
   "id": "f841014f",
   "metadata": {},
   "outputs": [],
   "source": [
    "mapbox_access_token = open(\"mapbox_token.txt\").read()"
   ]
  },
  {
   "cell_type": "code",
   "execution_count": null,
   "id": "e79a0c43",
   "metadata": {},
   "outputs": [],
   "source": [
    "# Code for creating the Plotly graph"
   ]
  },
  {
   "cell_type": "code",
   "execution_count": null,
   "id": "a6d60e5d",
   "metadata": {},
   "outputs": [],
   "source": []
  },
  {
   "cell_type": "code",
   "execution_count": null,
   "id": "c3a3a365",
   "metadata": {},
   "outputs": [],
   "source": []
  },
  {
   "cell_type": "code",
   "execution_count": null,
   "id": "c62e3692",
   "metadata": {},
   "outputs": [],
   "source": []
  },
  {
   "cell_type": "code",
   "execution_count": null,
   "id": "b3d68e77",
   "metadata": {},
   "outputs": [],
   "source": []
  },
  {
   "cell_type": "code",
   "execution_count": null,
   "id": "b68c103c",
   "metadata": {},
   "outputs": [],
   "source": []
  },
  {
   "cell_type": "code",
   "execution_count": null,
   "id": "3e69ff6c",
   "metadata": {},
   "outputs": [],
   "source": []
  },
  {
   "cell_type": "code",
   "execution_count": null,
   "id": "4d2b7235",
   "metadata": {},
   "outputs": [],
   "source": []
  },
  {
   "cell_type": "code",
   "execution_count": null,
   "id": "f7ea4fa8",
   "metadata": {},
   "outputs": [],
   "source": [
    "! pip install scikit-learn"
   ]
  },
  {
   "cell_type": "code",
   "execution_count": null,
   "id": "dec451b3",
   "metadata": {},
   "outputs": [],
   "source": [
    "from sklearn.cluster import KMeans, MiniBatchKMeans\n",
    "from sklearn.metrics import silhouette_samples, silhouette_score\n",
    "import matplotlib.cm as cm"
   ]
  },
  {
   "cell_type": "code",
   "execution_count": null,
   "id": "c45019d7",
   "metadata": {},
   "outputs": [],
   "source": []
  },
  {
   "cell_type": "code",
   "execution_count": null,
   "id": "f549e7fc",
   "metadata": {},
   "outputs": [],
   "source": []
  },
  {
   "cell_type": "code",
   "execution_count": null,
   "id": "b3eff48e",
   "metadata": {},
   "outputs": [],
   "source": []
  },
  {
   "cell_type": "code",
   "execution_count": null,
   "id": "6a2f1c4d",
   "metadata": {},
   "outputs": [],
   "source": []
  },
  {
   "cell_type": "code",
   "execution_count": null,
   "id": "6e8be2a2",
   "metadata": {},
   "outputs": [],
   "source": []
  },
  {
   "cell_type": "code",
   "execution_count": null,
   "id": "f3ed6128",
   "metadata": {},
   "outputs": [],
   "source": []
  },
  {
   "cell_type": "code",
   "execution_count": null,
   "id": "370a8766",
   "metadata": {},
   "outputs": [],
   "source": []
  },
  {
   "cell_type": "code",
   "execution_count": null,
   "id": "03189e6b",
   "metadata": {},
   "outputs": [],
   "source": []
  },
  {
   "cell_type": "code",
   "execution_count": null,
   "id": "39baf29b",
   "metadata": {},
   "outputs": [],
   "source": [
    "!pip install seaborn"
   ]
  },
  {
   "cell_type": "code",
   "execution_count": null,
   "id": "41145dc2",
   "metadata": {},
   "outputs": [],
   "source": [
    "import seaborn as sns\n",
    "palette = sns.color_palette(None, 11).as_hex()"
   ]
  },
  {
   "cell_type": "code",
   "execution_count": null,
   "id": "19b90edf",
   "metadata": {},
   "outputs": [],
   "source": []
  },
  {
   "cell_type": "code",
   "execution_count": null,
   "id": "d189a8b1",
   "metadata": {},
   "outputs": [],
   "source": [
    "# germany_borders = gpd.read_file(\"Bundeslaender_2016_ew.shp\")\n",
    "# You can find it here: https://opendata-esri-de.opendata.arcgis.com/datasets/b8d0cc7735774bed8e6df1c5410394a4_0?geometry=-31.360%2C46.270%2C52.268%2C55.886"
   ]
  },
  {
   "cell_type": "code",
   "execution_count": null,
   "id": "4e536a41",
   "metadata": {},
   "outputs": [],
   "source": [
    "germany_borders = gpd.read_file(\"https://opendata.arcgis.com/datasets/b8d0cc7735774bed8e6df1c5410394a4_0.geojson\")"
   ]
  },
  {
   "cell_type": "code",
   "execution_count": null,
   "id": "8f5f28cf",
   "metadata": {},
   "outputs": [],
   "source": [
    "\n"
   ]
  },
  {
   "cell_type": "code",
   "execution_count": null,
   "id": "3fb9725c",
   "metadata": {},
   "outputs": [],
   "source": [
    "# https://stackoverflow.com/questions/64200595/geopandas-overlay-intersection-returns-zero-rows THANK YOU!\n",
    "\n",
    "# Multiple solutions: https://gis.stackexchange.com/questions/208546/check-if-a-point-falls-within-a-multipolygon-with-python\n",
    "\n"
   ]
  },
  {
   "cell_type": "code",
   "execution_count": null,
   "id": "bbc0d446",
   "metadata": {},
   "outputs": [],
   "source": []
  },
  {
   "cell_type": "code",
   "execution_count": null,
   "id": "3f5099f7",
   "metadata": {},
   "outputs": [],
   "source": []
  },
  {
   "cell_type": "code",
   "execution_count": null,
   "id": "6e4e73ab",
   "metadata": {},
   "outputs": [],
   "source": []
  },
  {
   "cell_type": "code",
   "execution_count": null,
   "id": "dd908ddf",
   "metadata": {},
   "outputs": [],
   "source": []
  },
  {
   "cell_type": "code",
   "execution_count": null,
   "id": "d5cb4164",
   "metadata": {},
   "outputs": [],
   "source": []
  },
  {
   "cell_type": "code",
   "execution_count": null,
   "id": "e40244f0",
   "metadata": {},
   "outputs": [],
   "source": []
  },
  {
   "cell_type": "code",
   "execution_count": null,
   "id": "ba43ef73",
   "metadata": {},
   "outputs": [],
   "source": []
  },
  {
   "cell_type": "code",
   "execution_count": null,
   "id": "d62d2e64",
   "metadata": {},
   "outputs": [],
   "source": []
  },
  {
   "cell_type": "markdown",
   "id": "23179500",
   "metadata": {},
   "source": [
    "How can the clusters and memberships you assigned before be meaningfully interpreted? How many Tweets (as percentage of all per state) were classified into the cluster with `cluster id = 8`? From which state does those cluster members most likely originate from? Confirm your assertion by looking at the map you created above."
   ]
  },
  {
   "cell_type": "code",
   "execution_count": null,
   "id": "743de593",
   "metadata": {},
   "outputs": [],
   "source": []
  },
  {
   "cell_type": "code",
   "execution_count": null,
   "id": "ec7412fe",
   "metadata": {},
   "outputs": [],
   "source": []
  },
  {
   "cell_type": "code",
   "execution_count": null,
   "id": "83ff2f52",
   "metadata": {},
   "outputs": [],
   "source": []
  }
 ],
 "metadata": {
  "kernelspec": {
   "display_name": "Webscraping Workshop",
   "language": "python",
   "name": "webscraping"
  },
  "language_info": {
   "codemirror_mode": {
    "name": "ipython",
    "version": 3
   },
   "file_extension": ".py",
   "mimetype": "text/x-python",
   "name": "python",
   "nbconvert_exporter": "python",
   "pygments_lexer": "ipython3",
   "version": "3.8.8"
  }
 },
 "nbformat": 4,
 "nbformat_minor": 5
}
