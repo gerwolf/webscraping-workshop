{
 "cells": [
  {
   "cell_type": "markdown",
   "id": "80b2f999",
   "metadata": {},
   "source": [
    "# Obtaining structured web content and programmatic access\n",
    "\n",
    "In this notebook we will learn how to make use of readily structured data through dedicated application programming interfaces (APIs), how to authenticate and how to properly design requests (also called \"payload\") in order to retrieve large datasets.\n",
    "\n",
    "**Advantages** of APIs are that\n",
    "- access is legal and in most cases clearly and transparently regulated (e.g. 10,000 calls per day)\n",
    "- structuring through `requests` and `BeautifulSoup` not required\n",
    "- Python packages that simplify server-client interaction are available\n",
    "\n",
    "**Disadvantages** of APIs are that\n",
    "- we have to learn how APIs work and how we should interact with them (each API has some peculiarities and documentation is usually good, but sometimes not so...)\n",
    "- authentification may be required and access may not be free of charge \n",
    "\n",
    "We will\n",
    "- obtain data of a public statistical office such as the IMF or World Bank through the `pandas-datareader`\n",
    "- directly obtain a (ranking) table from a website such the [World Cube Association](https://www.worldcubeassociation.org/results/rankings/333/single)\n",
    "- learn how to use the Destatis/GENESIS Online service and API\n",
    "- learn how to use the Twitter API (in particular [Tweepy](https://www.tweepy.org/), a Python library for the Twitter API) and retrieve Tweets with GeoTags (i.e. coordinates) subject to specified geography and search terms\n",
    "- conduct some small analyses and visualise the results appropriately"
   ]
  },
  {
   "cell_type": "code",
   "execution_count": 45,
   "id": "b3887aa8",
   "metadata": {},
   "outputs": [],
   "source": [
    "import pandas as pd"
   ]
  },
  {
   "cell_type": "code",
   "execution_count": null,
   "id": "1ada2bc4",
   "metadata": {},
   "outputs": [],
   "source": [
    "!pip install pandas-datareader --upgrade"
   ]
  },
  {
   "cell_type": "code",
   "execution_count": null,
   "id": "24d12ddf",
   "metadata": {},
   "outputs": [],
   "source": [
    "from pandas_datareader import wb # imports world bank access\n",
    "search = wb.search('GDP.*current.*US') # search for keyword\n",
    "search"
   ]
  },
  {
   "cell_type": "code",
   "execution_count": null,
   "id": "c7cf9b99",
   "metadata": {},
   "outputs": [],
   "source": [
    "df = wb.download(indicator = 'NY.GDP.MKTP.CD', country = ['DE', 'FR', 'IT'],\n",
    "                start = 2000, end = 2019)\n",
    "df.info()"
   ]
  },
  {
   "cell_type": "code",
   "execution_count": null,
   "id": "4c4e4736",
   "metadata": {},
   "outputs": [],
   "source": [
    "df.groupby('country').describe()"
   ]
  },
  {
   "cell_type": "code",
   "execution_count": null,
   "id": "384fc7f2",
   "metadata": {},
   "outputs": [],
   "source": [
    "df2 = df.reset_index()\n",
    "df2.head()"
   ]
  },
  {
   "cell_type": "code",
   "execution_count": null,
   "id": "1ca64ddb",
   "metadata": {},
   "outputs": [],
   "source": [
    "df2.info()"
   ]
  },
  {
   "cell_type": "code",
   "execution_count": null,
   "id": "1c215845",
   "metadata": {},
   "outputs": [],
   "source": [
    "df2.columns = ['country', 'year', 'gdp'] # rename columns\n",
    "df2.year = df2.year.astype(int) # numeric annual indicator\n",
    "df2.info()"
   ]
  },
  {
   "cell_type": "code",
   "execution_count": 237,
   "id": "508004fb",
   "metadata": {},
   "outputs": [
    {
     "data": {
      "text/html": [
       "        <script type=\"text/javascript\">\n",
       "        window.PlotlyConfig = {MathJaxConfig: 'local'};\n",
       "        if (window.MathJax) {MathJax.Hub.Config({SVG: {font: \"STIX-Web\"}});}\n",
       "        if (typeof require !== 'undefined') {\n",
       "        require.undef(\"plotly\");\n",
       "        requirejs.config({\n",
       "            paths: {\n",
       "                'plotly': ['https://cdn.plot.ly/plotly-latest.min']\n",
       "            }\n",
       "        });\n",
       "        require(['plotly'], function(Plotly) {\n",
       "            window._Plotly = Plotly;\n",
       "        });\n",
       "        }\n",
       "        </script>\n",
       "        "
      ]
     },
     "metadata": {},
     "output_type": "display_data"
    }
   ],
   "source": [
    "import plotly.graph_objs as go\n",
    "import plotly.figure_factory as ff\n",
    "from plotly.offline import download_plotlyjs, init_notebook_mode, plot, iplot\n",
    "init_notebook_mode(connected=True)"
   ]
  },
  {
   "cell_type": "code",
   "execution_count": null,
   "id": "f8a18cf3",
   "metadata": {},
   "outputs": [],
   "source": [
    "# set(df2['country'])"
   ]
  },
  {
   "cell_type": "code",
   "execution_count": null,
   "id": "7d253cde",
   "metadata": {},
   "outputs": [],
   "source": [
    "traces = []\n",
    "\n",
    "for country in df2['country'].unique():\n",
    "    \n",
    "    trace = go.Scatter(name = country, x = df2[df2['country'] == country]['year'],\n",
    "                      y = df2[df2['country'] == country]['gdp'])\n",
    "    \n",
    "    traces.append(trace)\n",
    "    \n",
    "fig = go.Figure(data = traces)\n",
    "\n",
    "fig.layout.update(title=go.layout.Title(\n",
    "\n",
    "    text = 'Nominal GDP'\n",
    "\n",
    "))\n",
    "\n",
    "fig.layout.update(yaxis= go.layout.YAxis(title=go.layout.yaxis.Title(\n",
    "                        text='in US$')));\n",
    "\n",
    "fig.layout.update(xaxis = go.layout.XAxis(title = go.layout.xaxis.Title(text = 'Year'), rangeslider = dict(visible = True)));\n",
    "\n",
    "iplot(fig, filename = 'Nominal_GDP')"
   ]
  },
  {
   "cell_type": "markdown",
   "id": "db659726",
   "metadata": {},
   "source": [
    "## Directly parsing `table` objects from HTML"
   ]
  },
  {
   "cell_type": "code",
   "execution_count": null,
   "id": "23f036fd",
   "metadata": {},
   "outputs": [],
   "source": [
    "ranking = pd.read_html('https://www.worldcubeassociation.org/results/rankings/333/single', encoding='utf-8')"
   ]
  },
  {
   "cell_type": "code",
   "execution_count": null,
   "id": "cb241497",
   "metadata": {},
   "outputs": [],
   "source": [
    "ranking[0].head()"
   ]
  },
  {
   "cell_type": "markdown",
   "id": "4f36c7d8",
   "metadata": {},
   "source": [
    "Which nationality appears most frequently in the World Cube Association's ranking?"
   ]
  },
  {
   "cell_type": "code",
   "execution_count": null,
   "id": "0ff69671",
   "metadata": {},
   "outputs": [],
   "source": [
    "ranking[0].groupby('Citizen of').count()"
   ]
  },
  {
   "cell_type": "markdown",
   "id": "ef0feec9",
   "metadata": {},
   "source": [
    "Which nationality needed, on average, the **lowest** amount of time to solve a 3x3x3 cube? Sort the output in ascending order."
   ]
  },
  {
   "cell_type": "code",
   "execution_count": null,
   "id": "8ee8ebd6",
   "metadata": {},
   "outputs": [],
   "source": [
    "ranking[0].groupby('Citizen of').mean()['Result'].sort_values(ascending = True)"
   ]
  },
  {
   "cell_type": "markdown",
   "id": "89b05d4e",
   "metadata": {},
   "source": [
    "How many possible states/permutations, starting from the solved state, can a 3x3x3 Rubik's cube have? \n",
    "\n",
    "Hints:\n",
    "1. The centre squares are fixed (a plane rotation around these squares doesn't change the cube's state)\n",
    "2. There are eight corner pieces (with three colors on the side) and twelve edge pieces (with two colors on the side) which all revolve around the centre pieces\n",
    "3. There are six different colors\n",
    "4. We only look at \"legal\" states, i.e. those that can only be realised without assembling the cube (and therefore not violating Hint 1)"
   ]
  },
  {
   "cell_type": "code",
   "execution_count": null,
   "id": "6a151c50",
   "metadata": {},
   "outputs": [],
   "source": [
    "import math\n",
    "\n",
    "answer = (math.factorial(8) * 3**8) * 1/3 * (math.factorial(12) * 2**12) * 1/2 * 1/2\n",
    "\n",
    "# [(corner pieces) * fraction of admissible corner combinations (clock-wise and anti-clockwise twists cancel each other out, \n",
    "# hence 3**7 / 3**8 = 1/3)] \n",
    "# * [(edge pieces) * fraction of admissible edge combinations (clock-wise and anti-clockwise twists cancel each other out, \n",
    "# hence 2**11 / 2**12 = 1/2)]\n",
    "# * [1/2 (only half of the corner and edge states can be reached as corner and edge states must both coincide in the number\n",
    "# i.e. even or odd of turns taken to reach either position)]\n",
    "\n",
    "print(str(answer) + \" or about 43.2 quintillion combinations!\")"
   ]
  },
  {
   "cell_type": "markdown",
   "id": "fb5cb0c7",
   "metadata": {},
   "source": [
    "Which result entry in the World Ranking table is the most recent one? Which one is the oldest one? Be as precise as possible! (Hint: You may have to combine your knowledge from scraping HTML files.)"
   ]
  },
  {
   "cell_type": "code",
   "execution_count": null,
   "id": "88da521b",
   "metadata": {},
   "outputs": [],
   "source": []
  },
  {
   "cell_type": "markdown",
   "id": "b1cc5c57",
   "metadata": {},
   "source": [
    "Compute the expected value of `Result` conditional on `Nationality = 'Germany'`. Are the German contestants statistically significantly faster/slower in solving the cube than other contestants, based on `Nationality`? Does statistical significance change if you use robust standard errors?"
   ]
  },
  {
   "cell_type": "code",
   "execution_count": null,
   "id": "1c58a18f",
   "metadata": {},
   "outputs": [],
   "source": [
    "!pip install statsmodels"
   ]
  },
  {
   "cell_type": "code",
   "execution_count": null,
   "id": "877dc566",
   "metadata": {},
   "outputs": [],
   "source": [
    "import statsmodels.api as sm"
   ]
  },
  {
   "cell_type": "code",
   "execution_count": null,
   "id": "bffd1086",
   "metadata": {},
   "outputs": [],
   "source": [
    "df = ranking[0]\n",
    "df['Non_German_Dummy'] = 1"
   ]
  },
  {
   "cell_type": "code",
   "execution_count": null,
   "id": "41085005",
   "metadata": {},
   "outputs": [],
   "source": [
    "non_german_index = df[df['Citizen of'] != 'Germany'].index"
   ]
  },
  {
   "cell_type": "code",
   "execution_count": null,
   "id": "8f1aee2c",
   "metadata": {},
   "outputs": [],
   "source": [
    "german_index = [x for x in df.index if x not in non_german_index]"
   ]
  },
  {
   "cell_type": "code",
   "execution_count": null,
   "id": "00dabead",
   "metadata": {},
   "outputs": [],
   "source": [
    "dummy_values = [0 if y in german_index else 1 for y in df.index]"
   ]
  },
  {
   "cell_type": "code",
   "execution_count": null,
   "id": "67dd336a",
   "metadata": {},
   "outputs": [],
   "source": [
    "X = dummy_values\n",
    "Y = df['Result']\n",
    "\n",
    "X = sm.add_constant(X) # adding a constant\n",
    "model = sm.OLS(Y, X).fit()\n",
    "print_model = model.summary()\n",
    "print(print_model)"
   ]
  },
  {
   "cell_type": "code",
   "execution_count": null,
   "id": "5475a272",
   "metadata": {},
   "outputs": [],
   "source": [
    "model.get_robustcov_results(cov_type='HC1').summary()"
   ]
  },
  {
   "cell_type": "markdown",
   "id": "00d97ad7",
   "metadata": {},
   "source": [
    "## Spatial libraries"
   ]
  },
  {
   "cell_type": "markdown",
   "id": "61b5f654",
   "metadata": {},
   "source": [
    "The installation procedure of spatial libraries for Python (on Windows) can be quite tedious but [this answer](https://stackoverflow.com/questions/51095970/install-python-geopandas-failed/51560940#51560940) on Stackoverflow (make sure to upvote ;)) and [this detailed instruction](https://geoffboeing.com/2014/09/using-geopandas-windows/) make it straight forward. You can also find the required wheels for Python 3.8 and 64-bit for offline `pip install` in this notebook's [repository](https://github.com/gerwolf/webscraping-workshop/tree/main/DataFrames%20and%20APIs). After this, you can simply `pip install geopandas`."
   ]
  },
  {
   "cell_type": "code",
   "execution_count": 229,
   "id": "caea38be",
   "metadata": {},
   "outputs": [],
   "source": [
    "import geopandas as gpd\n",
    "import matplotlib.pyplot as plt\n",
    "plt.rcParams[\"figure.figsize\"] = [16,9]"
   ]
  },
  {
   "cell_type": "code",
   "execution_count": null,
   "id": "f356557f",
   "metadata": {},
   "outputs": [],
   "source": [
    "world = gpd.read_file(gpd.datasets.get_path('naturalearth_lowres'))"
   ]
  },
  {
   "cell_type": "code",
   "execution_count": null,
   "id": "cf4a78ea",
   "metadata": {},
   "outputs": [],
   "source": [
    "world.plot()"
   ]
  },
  {
   "cell_type": "code",
   "execution_count": null,
   "id": "3b25bc07",
   "metadata": {},
   "outputs": [],
   "source": [
    "world.head()"
   ]
  },
  {
   "cell_type": "code",
   "execution_count": null,
   "id": "3c258623",
   "metadata": {},
   "outputs": [],
   "source": [
    "df = pd.read_csv(\"https://gist.githubusercontent.com/gerwolf/81ebb170eb25d4a13f2695db4520f90e/raw/7c24eb4a2b11f6d4c7ac38bdf3555dfc7da6823e/GDPpc_PPP.csv\", sep = \";\")\n",
    "df['Country'] = df['Country'].str.replace('�',' ')\n",
    "df['Country'] = df['Country'].str.replace('United States','United States of America')"
   ]
  },
  {
   "cell_type": "code",
   "execution_count": null,
   "id": "eaeb33b7",
   "metadata": {},
   "outputs": [],
   "source": [
    "df[df['Country'] == 'United States of America']"
   ]
  },
  {
   "cell_type": "code",
   "execution_count": null,
   "id": "d5408903",
   "metadata": {},
   "outputs": [],
   "source": [
    "final_geodf = df.merge(world, left_on='Country', right_on = 'name', how = 'left').dropna()"
   ]
  },
  {
   "cell_type": "code",
   "execution_count": null,
   "id": "7dd2707e",
   "metadata": {},
   "outputs": [],
   "source": [
    "final_geodf['GDPpc_PPP'] = final_geodf['GDPpc_PPP'].str.replace(',','')"
   ]
  },
  {
   "cell_type": "code",
   "execution_count": null,
   "id": "ee9ffc3f",
   "metadata": {},
   "outputs": [],
   "source": [
    "fig = go.Figure(data=[go.Choropleth(\n",
    "    locations=final_geodf['iso_a3'], # Spatial coordinates\n",
    "    z = final_geodf['GDPpc_PPP'].astype(float), # Data to be color-coded\n",
    "#     locationmode = 'world', # set of locations match entries in `locations`\n",
    "    colorscale = 'Reds',\n",
    "    text=final_geodf['Country']\n",
    "#     colorbar_title = \"Millions USD\",\n",
    ")])\n",
    "\n",
    "fig.layout.update(\n",
    "    title_text = 'GDP per capita (2018, IMF)',\n",
    "    geo_scope='world', # limite map scope to USA\n",
    ");\n",
    "\n",
    "iplot(fig, filename =\"geomap\")"
   ]
  },
  {
   "cell_type": "code",
   "execution_count": null,
   "id": "45387e8e",
   "metadata": {},
   "outputs": [],
   "source": [
    "fig = go.Figure(data=[go.Choropleth(\n",
    "    locations=final_geodf[final_geodf['continent'] == 'Europe']['iso_a3'], # Spatial coordinates\n",
    "    z = final_geodf[final_geodf['continent'] == 'Europe']['GDPpc_PPP'].astype(float), # Data to be color-coded\n",
    "#     locationmode = 'world', # set of locations match entries in `locations`\n",
    "    colorscale = 'Reds',\n",
    "    text=final_geodf[final_geodf['continent'] == 'Europe']['Country']\n",
    "#     colorbar_title = \"Millions USD\",\n",
    ")])\n",
    "\n",
    "fig.layout.update(\n",
    "    title_text = 'GDP per capita (2018, IMF)',\n",
    "    geo_scope='europe', # limite map scope to USA\n",
    ");\n",
    "\n",
    "iplot(fig, filename =\"geomap\")"
   ]
  },
  {
   "cell_type": "markdown",
   "id": "838ac263",
   "metadata": {},
   "source": [
    "## Destatis/GENESIS Online\n",
    "The GENESIS API is the web interface service by the Federal Statistical Office of Germany and is a good place to start learning how to interact programmatically with a server."
   ]
  },
  {
   "cell_type": "markdown",
   "id": "1c20c927",
   "metadata": {},
   "source": [
    "There is a [comprehensive description/introduction](https://www-genesis.destatis.de/genesis/misc/GENESIS-Webservices_Einfuehrung.pdf) on the service, unfortunately in German only. To display the PDF inside Jupyter Notebook in Chrome you may have to enable the [PDF Viewer extension](https://chrome.google.com/webstore/detail/pdf-viewer/oemmndcbldboiebfnladdacbdfmadadm?utm_source=chrome-ntp-icon)."
   ]
  },
  {
   "cell_type": "code",
   "execution_count": null,
   "id": "56a8769a",
   "metadata": {},
   "outputs": [],
   "source": [
    "from IPython.display import IFrame, display\n",
    "filepath = \"https://www-genesis.destatis.de/genesis/misc/GENESIS-Webservices_Einfuehrung.pdf\"\n",
    "IFrame(filepath, width=980, height=800)"
   ]
  },
  {
   "cell_type": "markdown",
   "id": "6667a14f",
   "metadata": {},
   "source": [
    "Read about the `whoami` method (in Section 2.2). Do you have to authenticate? What does it return? How would you send a `request`?"
   ]
  },
  {
   "cell_type": "code",
   "execution_count": null,
   "id": "08cfbd00",
   "metadata": {},
   "outputs": [],
   "source": [
    "import genesis_config\n",
    "import requests"
   ]
  },
  {
   "cell_type": "code",
   "execution_count": null,
   "id": "b6bd19b7",
   "metadata": {},
   "outputs": [],
   "source": [
    "url = \"https://www-genesis.destatis.de/genesisWS/rest/2020/helloworld/whoami\"\n",
    "response = requests.get(url)\n",
    "response.text"
   ]
  },
  {
   "cell_type": "markdown",
   "id": "e16db88e",
   "metadata": {},
   "source": [
    "Read about the `logincheck` method (in Section 2.2). Do you have to authenticate? What does it return? Construct a request object using string formatting, send a `request` (in English language) and print the request's status. What type is the response's `text` attribute?"
   ]
  },
  {
   "cell_type": "code",
   "execution_count": null,
   "id": "c76d2759",
   "metadata": {},
   "outputs": [],
   "source": [
    "url = 'https://www-genesis.destatis.de/genesisWS/rest/2020/helloworld/logincheck?username={}&password={}&language={}'.format(genesis_config.Username, genesis_config.Password, 'en')\n",
    "response = requests.get(url)"
   ]
  },
  {
   "cell_type": "code",
   "execution_count": null,
   "id": "e9d037ef",
   "metadata": {},
   "outputs": [],
   "source": [
    "print(response.text)"
   ]
  },
  {
   "cell_type": "markdown",
   "id": "0e2eb210",
   "metadata": {},
   "source": [
    "Now that we have a working connection to the GENESIS Online API we want to directly obtain an economic indicator, the private sector's savings rate on a quarterly basis, for instance. This `data` is usually stored in a `table` somewhere in the depths of a data warehouse and it is (unfortunately) necessary to familiarise yourself, at least partially, with the internal server's structure.\n",
    "1. In the documentation file search for the `tablefile` method (under Section 2.5 Data). When should it be used? What does it return?\n",
    "2. Which method should you use if you want to directly obtain a `chart`?\n",
    "3. Which method should you use if you want to directly obtain a regional `map`? Which parameter controls the image's resolution?"
   ]
  },
  {
   "cell_type": "code",
   "execution_count": null,
   "id": "e584e002",
   "metadata": {},
   "outputs": [],
   "source": [
    "field = '12411-0010'\n",
    "stand = '31.12.2019'\n",
    "language = 'en'\n",
    "url = 'https://www-genesis.destatis.de/genesisWS/rest/2020/data/map2table?username={}&password={}&name={}&area=all&mapType=0&classes=5&classification=0&zoom=3&startyear=&endyear=&timeslices=&regionalvariable=&regionalkey=&classifyingvariable1=&classifyingkey1=&classifyingvariable2=&classifyingkey2=&classifyingvariable3=&classifyingkey3=&format=png&stand={}&language={}'.format(genesis_config.Username, genesis_config.Password, field, stand, language)\n",
    "response = requests.get(url)"
   ]
  },
  {
   "cell_type": "code",
   "execution_count": null,
   "id": "e07e934e",
   "metadata": {},
   "outputs": [],
   "source": [
    "with open(\"map.png\", 'wb') as f:\n",
    "    f.write(response.content)"
   ]
  },
  {
   "cell_type": "code",
   "execution_count": null,
   "id": "0f0b383d",
   "metadata": {},
   "outputs": [],
   "source": [
    "from IPython.display import Image\n",
    "Image(filename='map.png') "
   ]
  },
  {
   "cell_type": "markdown",
   "id": "57138740",
   "metadata": {},
   "source": [
    "4. Login to the [GENESIS Online user interface](https://www-genesis.destatis.de/genesis/online?Menu=Anmeldung#abreadcrumb). Familiarise yourself with the tables' structure and navigate to the National Accounts (at the central level) --> Private sector disposable income and savings at quarterly frequency. Which parameters in the request can you control?\n",
    "5. Which method would you choose if you want to directly obtain a `table` in some machine readable format, e.g. a `.csv` or `.xlsx` that you can read into `pandas`? How do you include additional conditions matching particular values?\n",
    "6. Construct a `request` which contains the following specification:\n",
    "    - only seasonally and calendar-adjusted values (X13)\n",
    "    - all available years and quarters\n",
    "    - output format should be a `.xlsx` file\n",
    "7. Send the request but directly through the `pandas.read_excel()` method."
   ]
  },
  {
   "cell_type": "code",
   "execution_count": null,
   "id": "dd5784a9",
   "metadata": {},
   "outputs": [],
   "source": [
    "! pip install openpyxl"
   ]
  },
  {
   "cell_type": "code",
   "execution_count": null,
   "id": "46ce05ca",
   "metadata": {},
   "outputs": [],
   "source": [
    "code = '81000-0010'\n",
    "key_1 = 'WERT04'\n",
    "val_1 = 'X13JDKSB'\n",
    "key_2 = ''\n",
    "val_2 = ''\n",
    "key_3 = ''\n",
    "val_3 = ''\n",
    "start_year = '1991'\n",
    "end_year = '2020'\n",
    "\n",
    "url = ('https://www-genesis.destatis.de/genesisWS/rest/2020/data/tablefile?username={}&password={}&name={}&area=DINSG*&compress=false&transpose=false&startyear={}&endyear={}&timeslices=&regionalvariable=&regionalkey=&classifyingvariable1={}&classifyingkey1={}&classifyingvariable2={}&classifyingkey2={}&classifyingvariable3={}&classifyingkey3={}&format=xlsx&job=false&stand=&language=de').format(genesis_config.Username, genesis_config.Password, code, start_year, end_year, key_1, val_1, key_2, val_2, key_3, val_3)\n",
    "df = pd.read_excel(url)"
   ]
  },
  {
   "cell_type": "code",
   "execution_count": null,
   "id": "30118f53",
   "metadata": {},
   "outputs": [],
   "source": [
    "df"
   ]
  },
  {
   "cell_type": "code",
   "execution_count": null,
   "id": "1936e472",
   "metadata": {},
   "outputs": [],
   "source": [
    "import numpy as np"
   ]
  },
  {
   "cell_type": "code",
   "execution_count": null,
   "id": "afa85fca",
   "metadata": {},
   "outputs": [],
   "source": [
    "df = df.iloc[[2,3,37], :].T.iloc[2:,:]\n",
    "df.columns = ['Year', 'Quarter', 'Rate']\n",
    "df.reset_index(inplace = True, drop = True)\n",
    "df['Year'] = df['Year'].fillna(method='ffill')\n",
    "df['Quarter_str'] = df['Quarter'].copy()\n",
    "df['Quarter'] = df['Quarter'].replace('1. Quartal', 'Q1')\n",
    "df['Quarter'] = df['Quarter'].replace('2. Quartal', 'Q2')\n",
    "df['Quarter'] = df['Quarter'].replace('3. Quartal', 'Q3')\n",
    "df['Quarter'] = df['Quarter'].replace('4. Quartal', 'Q4')\n",
    "df['Rate'] = df['Rate'].replace ('...', np.NaN)\n",
    "qs = df['Year'] + '-' + df['Quarter']\n",
    "df['Date'] = pd.PeriodIndex(qs.values, freq='Q').to_timestamp()\n",
    "df.set_index(df['Date'], inplace = True, drop = True)\n",
    "del df['Date']\n",
    "df.dropna(inplace=True)\n",
    "df['col_name'] = df['Quarter'] + ' ' + df['Year'].str[2:4]\n",
    "col_names = list(df['col_name'].values)\n",
    "df = df.T\n",
    "df.columns = col_names\n",
    "df = df.T"
   ]
  },
  {
   "cell_type": "code",
   "execution_count": null,
   "id": "fcb8c538",
   "metadata": {},
   "outputs": [],
   "source": [
    "df.head()"
   ]
  },
  {
   "cell_type": "code",
   "execution_count": null,
   "id": "8c3c1a15",
   "metadata": {},
   "outputs": [],
   "source": [
    "fig = go.Figure(data=[\n",
    "    \n",
    "    go.Scatter(name='Private sector savings rate', x = list(df.index),\n",
    "    y = list(df['Rate']))\n",
    "    \n",
    "])\n",
    "\n",
    "fig.layout.update(title = go.layout.Title(\n",
    "                        text='Private sector savings rate (Germany)'))\n",
    "\n",
    "fig.layout.update(yaxis= go.layout.YAxis(title=go.layout.yaxis.Title(\n",
    "                        text='in % of disposable income')))\n",
    "\n",
    "fig.layout.update(xaxis = go.layout.XAxis(title = go.layout.xaxis.Title(text = 'Quarter-Year'), rangeslider = dict(visible = True)));\n",
    "\n",
    "iplot(fig, filename = 'savings_rate')"
   ]
  },
  {
   "cell_type": "markdown",
   "id": "977fa2f4",
   "metadata": {},
   "source": [
    "## Twitter API\n"
   ]
  },
  {
   "cell_type": "code",
   "execution_count": null,
   "id": "1e4823f2",
   "metadata": {},
   "outputs": [],
   "source": [
    "!pip install python-twitter --upgrade"
   ]
  },
  {
   "cell_type": "markdown",
   "id": "25aba8d5",
   "metadata": {},
   "source": [
    "Note there are [rate limits](https://developer.twitter.com/en/docs/twitter-api/rate-limits)!"
   ]
  },
  {
   "cell_type": "code",
   "execution_count": 1,
   "id": "d1094988",
   "metadata": {},
   "outputs": [],
   "source": [
    "import twitter\n",
    "import twitter_config\n",
    "\n",
    "api = twitter.Api(consumer_key = twitter_config.api_key ,\n",
    "                  consumer_secret = twitter_config.api_secret_key,\n",
    "                  access_token_key = twitter_config.access_token,\n",
    "                  access_token_secret = twitter_config.access_token_secret,\n",
    "                  tweet_mode = 'extended',\n",
    "                  sleep_on_rate_limit = True)"
   ]
  },
  {
   "cell_type": "code",
   "execution_count": null,
   "id": "e8ffcca7",
   "metadata": {},
   "outputs": [],
   "source": [
    "got = api.GetSearch('#gameofthrones',\n",
    "                       count = 100) "
   ]
  },
  {
   "cell_type": "code",
   "execution_count": null,
   "id": "d76594ca",
   "metadata": {},
   "outputs": [],
   "source": [
    "example_tweet = got[0]\n",
    "type(example_tweet)"
   ]
  },
  {
   "cell_type": "code",
   "execution_count": null,
   "id": "e3072f01",
   "metadata": {},
   "outputs": [],
   "source": [
    "print('id:', example_tweet.id)\n",
    "print('Text:', example_tweet.full_text) # key 'text' wenn tweet_mode != 'extended'\n",
    "print('Hashtags:', example_tweet.hashtags)\n",
    "print('Media:', example_tweet.media)\n",
    "print('Date:', example_tweet.created_at)\n",
    "print('Language:', example_tweet.lang)\n",
    "print('Retweets:', example_tweet.retweet_count)"
   ]
  },
  {
   "cell_type": "code",
   "execution_count": null,
   "id": "d512ea17",
   "metadata": {},
   "outputs": [],
   "source": [
    "!pip install tweepy --upgrade"
   ]
  },
  {
   "cell_type": "code",
   "execution_count": 2,
   "id": "8a001afc",
   "metadata": {},
   "outputs": [],
   "source": [
    "import tweepy\n",
    "import json\n",
    "import numpy as np"
   ]
  },
  {
   "cell_type": "code",
   "execution_count": 3,
   "id": "c78ba852",
   "metadata": {},
   "outputs": [],
   "source": [
    "auth = tweepy.OAuthHandler(twitter_config.api_key, twitter_config.api_secret_key)\n",
    "auth.set_access_token(twitter_config.access_token, twitter_config.access_token_secret)\n",
    "api = tweepy.API(auth, wait_on_rate_limit=True)"
   ]
  },
  {
   "cell_type": "code",
   "execution_count": 4,
   "id": "6c4d3933",
   "metadata": {},
   "outputs": [],
   "source": [
    "# searchTerms = \"#maskenaffaere\"\n",
    "noOfSearch = 200\n",
    "searchCountry = \"Germany\"\n",
    "places = api.geo_search(query=searchCountry, granularity=\"country\")\n",
    "place_id = places[0].id"
   ]
  },
  {
   "cell_type": "code",
   "execution_count": 5,
   "id": "22c393e5",
   "metadata": {},
   "outputs": [
    {
     "data": {
      "text/plain": [
       "'fdcd221ac44fa326'"
      ]
     },
     "execution_count": 5,
     "metadata": {},
     "output_type": "execute_result"
    }
   ],
   "source": [
    "place_id"
   ]
  },
  {
   "cell_type": "code",
   "execution_count": 6,
   "id": "4a3dc13a",
   "metadata": {},
   "outputs": [],
   "source": [
    "max_id = None\n",
    "for j in range(50):\n",
    "    \n",
    "    header = {\n",
    "        # \"q\": f'{searchTerms} place:{place_id}'.format(searchTerms, place_id) and (\"place:%s\" % place_id),\n",
    "        # \"q\": \"#maskenaffaere -filter:locations\",\n",
    "        # \"q\": \"#maskenaffaere filter:geo_enabled\",\n",
    "        # \"q\": \"#maskenaffaere\",\n",
    "        # \"geocode\": '51.590556,10.106111,310mi',\n",
    "        \"q\": \"place:fdcd221ac44fa326\",\n",
    "        \"lang\": \"de\",\n",
    "        \"tweet_mode\": \"extended\",\n",
    "        \"count\": 100,\n",
    "        \"max_id\": max_id\n",
    "        # \"search_term\": \"\"\n",
    "    }\n",
    "    \n",
    "    try:\n",
    "    \n",
    "        batch_tweets = tweepy.Cursor(api.search, **header).items(noOfSearch)\n",
    "        \n",
    "    except Exception as error:\n",
    "        \n",
    "        break\n",
    "        \n",
    "    batch_tweets = [i._json for i in batch_tweets]\n",
    "    batch_ids = [i[\"id\"] for i in batch_tweets]\n",
    "    with open(f'{j}_de_bunch.json', 'w', encoding='utf-8') as f:\n",
    "        json.dump(batch_tweets, f, ensure_ascii=False)\n",
    "    max_id = batch_ids[-1]"
   ]
  },
  {
   "cell_type": "code",
   "execution_count": 9,
   "id": "ae9f7617",
   "metadata": {},
   "outputs": [],
   "source": [
    "bunches = []\n",
    "\n",
    "for bunch in range(50):\n",
    "    \n",
    "    with open('./Twitter Bunches/' + str(bunch) + '_de_bunch.json', 'r', encoding='utf-8') as f:\n",
    "    \n",
    "        D_read = json.load(f)\n",
    "        bunches.extend(D_read) # extend instead of append"
   ]
  },
  {
   "cell_type": "code",
   "execution_count": 26,
   "id": "63637025",
   "metadata": {},
   "outputs": [],
   "source": [
    "from shapely.geometry import Point, Polygon"
   ]
  },
  {
   "cell_type": "code",
   "execution_count": 40,
   "id": "bea196a9",
   "metadata": {},
   "outputs": [
    {
     "data": {
      "text/plain": [
       "(9951, 10000)"
      ]
     },
     "execution_count": 40,
     "metadata": {},
     "output_type": "execute_result"
    }
   ],
   "source": [
    "tweet_ids = []\n",
    "\n",
    "for tweet in bunches:\n",
    "    \n",
    "    tweet_ids.append(tweet['id'])\n",
    "    \n",
    "len(np.unique(np.array(tweet_ids))), len(bunches)"
   ]
  },
  {
   "cell_type": "code",
   "execution_count": 57,
   "id": "ba881865",
   "metadata": {},
   "outputs": [],
   "source": [
    "unique = { tweet['id'] : tweet for tweet in bunches } # a dictionary comprehension, dicts do not allow duplicate keys"
   ]
  },
  {
   "cell_type": "code",
   "execution_count": 152,
   "id": "e5b8173e",
   "metadata": {},
   "outputs": [],
   "source": [
    "matches = []\n",
    "\n",
    "for (key, value) in unique.items():\n",
    "    \n",
    "    newDict = dict()\n",
    "    \n",
    "    try:\n",
    "        \n",
    "        if value['place']['bounding_box']['coordinates'] != None:\n",
    "            \n",
    "            newDict[key] = value\n",
    "            \n",
    "            matches.append(newDict)\n",
    "    except:\n",
    "        \n",
    "        None"
   ]
  },
  {
   "cell_type": "code",
   "execution_count": 202,
   "id": "f841014f",
   "metadata": {},
   "outputs": [],
   "source": [
    "results_list = []\n",
    "\n",
    "for i in matches:\n",
    "    \n",
    "    empty_dict = {}\n",
    "    \n",
    "    empty_dict['Tweet ID'] = list(i.keys())[0]\n",
    "    \n",
    "    values_list = list(i.values())[0]\n",
    "    \n",
    "    empty_dict['Created at'] = pd.to_datetime(values_list['created_at'])\n",
    "    empty_dict['Full Text'] = values_list['full_text']\n",
    "    empty_dict['User Name'] = values_list['user']['name']\n",
    "    empty_dict['User Alias'] = values_list['user']['screen_name']\n",
    "    empty_dict['Place ID'] = values_list['place']['id']\n",
    "    empty_dict['Place Name'] = values_list['place']['name']\n",
    "    empty_dict['Country Code'] = values_list['place']['country_code']\n",
    "    empty_dict['Country Name'] = values_list['place']['country']\n",
    "    empty_dict['Bounding Box'] = values_list['place']['bounding_box']['coordinates'][0]\n",
    "    \n",
    "    \n",
    "    bbox = Polygon(values_list['place']['bounding_box']['coordinates'][0])\n",
    "    \n",
    "    latitude = bbox.centroid.xy[1][0]\n",
    "    longitude = bbox.centroid.xy[0][0]\n",
    "    \n",
    "    coord = Point(latitude, longitude)\n",
    "    \n",
    "    empty_dict['Tweet Coordinates'] = coord\n",
    "    empty_dict['Retweet Count'] = values_list['retweet_count']\n",
    "    empty_dict['Favorite Count'] = values_list['favorite_count']\n",
    "     \n",
    "    empty_dict['User Location'] = values_list['user']['location']\n",
    "    empty_dict['User Followers'] = values_list['user']['followers_count']\n",
    "    empty_dict['User Friends'] = values_list['user']['friends_count']\n",
    "    empty_dict['Registration Date'] = values_list['user']['created_at']\n",
    "    \n",
    "    tweet_url = 'https://twitter.com/{}/status/{}'.format(values_list['user']['screen_name'], values_list['id'])\n",
    "    empty_dict['Tweet URL'] = tweet_url\n",
    "    \n",
    "    results_list.append(empty_dict)"
   ]
  },
  {
   "cell_type": "code",
   "execution_count": 204,
   "id": "e79a0c43",
   "metadata": {},
   "outputs": [],
   "source": [
    "results_df = pd.DataFrame(results_list)"
   ]
  },
  {
   "cell_type": "code",
   "execution_count": 222,
   "id": "d217dc28",
   "metadata": {},
   "outputs": [
    {
     "name": "stdout",
     "output_type": "stream",
     "text": [
      "Match found!\n",
      "Match found!\n",
      "Match found!\n",
      "Match found!\n",
      "Match found!\n",
      "Match found!\n",
      "Match found!\n"
     ]
    }
   ],
   "source": [
    "hashtags = ['Dexit', '#Dexit']\n",
    "\n",
    "match_index = []\n",
    "\n",
    "for i in range(len(results_df)):\n",
    "    \n",
    "    element = results_df.iloc[i]\n",
    "    \n",
    "    if any(hashtag in element['Full Text'] for hashtag in hashtags):\n",
    "    \n",
    "        print(\"Match found!\")\n",
    "        \n",
    "        match_index.append(i)\n",
    "    \n",
    "    else:\n",
    "        \n",
    "        None"
   ]
  },
  {
   "cell_type": "code",
   "execution_count": 227,
   "id": "b8495ecb",
   "metadata": {},
   "outputs": [
    {
     "data": {
      "text/html": [
       "<div>\n",
       "<style scoped>\n",
       "    .dataframe tbody tr th:only-of-type {\n",
       "        vertical-align: middle;\n",
       "    }\n",
       "\n",
       "    .dataframe tbody tr th {\n",
       "        vertical-align: top;\n",
       "    }\n",
       "\n",
       "    .dataframe thead th {\n",
       "        text-align: right;\n",
       "    }\n",
       "</style>\n",
       "<table border=\"1\" class=\"dataframe\">\n",
       "  <thead>\n",
       "    <tr style=\"text-align: right;\">\n",
       "      <th></th>\n",
       "      <th>Tweet ID</th>\n",
       "      <th>Created at</th>\n",
       "      <th>Full Text</th>\n",
       "      <th>User Name</th>\n",
       "      <th>User Alias</th>\n",
       "      <th>Place ID</th>\n",
       "      <th>Place Name</th>\n",
       "      <th>Country Code</th>\n",
       "      <th>Country Name</th>\n",
       "      <th>Bounding Box</th>\n",
       "      <th>Tweet Coordinates</th>\n",
       "      <th>Retweet Count</th>\n",
       "      <th>Favorite Count</th>\n",
       "      <th>User Location</th>\n",
       "      <th>User Followers</th>\n",
       "      <th>User Friends</th>\n",
       "      <th>Registration Date</th>\n",
       "      <th>Tweet URL</th>\n",
       "    </tr>\n",
       "  </thead>\n",
       "  <tbody>\n",
       "    <tr>\n",
       "      <th>3</th>\n",
       "      <td>1381165956014211074</td>\n",
       "      <td>2021-04-11 08:43:19+00:00</td>\n",
       "      <td>Richtig   #Dexit</td>\n",
       "      <td>mike</td>\n",
       "      <td>MikeMich2410</td>\n",
       "      <td>845be239647ffad4</td>\n",
       "      <td>Velten</td>\n",
       "      <td>DE</td>\n",
       "      <td>Germany</td>\n",
       "      <td>[[13.151055, 52.657893], [13.250286, 52.657893...</td>\n",
       "      <td>POINT (52.688485 13.2006705)</td>\n",
       "      <td>0</td>\n",
       "      <td>0</td>\n",
       "      <td>Velten, Deutschland</td>\n",
       "      <td>9</td>\n",
       "      <td>27</td>\n",
       "      <td>Sun Jul 15 14:36:22 +0000 2012</td>\n",
       "      <td>https://twitter.com/MikeMich2410/status/138116...</td>\n",
       "    </tr>\n",
       "    <tr>\n",
       "      <th>203</th>\n",
       "      <td>1381161415587811330</td>\n",
       "      <td>2021-04-11 08:25:16+00:00</td>\n",
       "      <td>Die #AfD braucht, wie alle wütenden Populist*i...</td>\n",
       "      <td>Nilsartor</td>\n",
       "      <td>nilsartor</td>\n",
       "      <td>c589d9d6ed38927c</td>\n",
       "      <td>Frankfurt on the Main</td>\n",
       "      <td>DE</td>\n",
       "      <td>Germany</td>\n",
       "      <td>[[8.472715, 50.01552], [8.800496, 50.01552], [...</td>\n",
       "      <td>POINT (50.12123560000001 8.636605500000002)</td>\n",
       "      <td>0</td>\n",
       "      <td>2</td>\n",
       "      <td>Frankfurt am Main, Deutschland</td>\n",
       "      <td>159</td>\n",
       "      <td>789</td>\n",
       "      <td>Tue Jun 30 13:46:58 +0000 2015</td>\n",
       "      <td>https://twitter.com/nilsartor/status/138116141...</td>\n",
       "    </tr>\n",
       "    <tr>\n",
       "      <th>3612</th>\n",
       "      <td>1380966443349606405</td>\n",
       "      <td>2021-04-10 19:30:31+00:00</td>\n",
       "      <td>Die #fckafd hat auf ihrem #AfDBundesparteitag ...</td>\n",
       "      <td>Spekulatius Chemnitz</td>\n",
       "      <td>SpekulatiusC</td>\n",
       "      <td>0431c9d831366ed6</td>\n",
       "      <td>Chemnitz</td>\n",
       "      <td>DE</td>\n",
       "      <td>Germany</td>\n",
       "      <td>[[12.73052, 50.742806], [13.053037, 50.742806]...</td>\n",
       "      <td>POINT (50.823018 12.8917785)</td>\n",
       "      <td>4</td>\n",
       "      <td>16</td>\n",
       "      <td>Chemnitz, Sachsen</td>\n",
       "      <td>634</td>\n",
       "      <td>385</td>\n",
       "      <td>Fri Nov 16 05:47:41 +0000 2018</td>\n",
       "      <td>https://twitter.com/SpekulatiusC/status/138096...</td>\n",
       "    </tr>\n",
       "    <tr>\n",
       "      <th>4339</th>\n",
       "      <td>1380950059836186635</td>\n",
       "      <td>2021-04-10 18:25:25+00:00</td>\n",
       "      <td>Die AfD will, dass Deutschland aus der EU auss...</td>\n",
       "      <td>Isabella Kolar</td>\n",
       "      <td>saschalario</td>\n",
       "      <td>3078869807f9dd36</td>\n",
       "      <td>Berlin</td>\n",
       "      <td>DE</td>\n",
       "      <td>Germany</td>\n",
       "      <td>[[13.088304, 52.338079], [13.760909, 52.338079...</td>\n",
       "      <td>POINT (52.506701 13.4246065)</td>\n",
       "      <td>0</td>\n",
       "      <td>0</td>\n",
       "      <td>Berlin</td>\n",
       "      <td>92</td>\n",
       "      <td>160</td>\n",
       "      <td>Sun Sep 30 18:14:19 +0000 2018</td>\n",
       "      <td>https://twitter.com/saschalario/status/1380950...</td>\n",
       "    </tr>\n",
       "    <tr>\n",
       "      <th>5071</th>\n",
       "      <td>1380933953952083974</td>\n",
       "      <td>2021-04-10 17:21:25+00:00</td>\n",
       "      <td>@KreuzAcht Dexit, really? Gibt's ein Land, das...</td>\n",
       "      <td>KielKontrovers - Politisches Blog aus Kiel Ger...</td>\n",
       "      <td>kielkontrovers</td>\n",
       "      <td>1b9b5e83e647a7ed</td>\n",
       "      <td>Kiel</td>\n",
       "      <td>DE</td>\n",
       "      <td>Germany</td>\n",
       "      <td>[[10.032937, 54.2506929], [10.218568, 54.25069...</td>\n",
       "      <td>POINT (54.34180445 10.1257525)</td>\n",
       "      <td>0</td>\n",
       "      <td>2</td>\n",
       "      <td>Kiel, Schleswig-Holstein</td>\n",
       "      <td>1080</td>\n",
       "      <td>2533</td>\n",
       "      <td>Sun Feb 20 12:04:30 +0000 2011</td>\n",
       "      <td>https://twitter.com/kielkontrovers/status/1380...</td>\n",
       "    </tr>\n",
       "    <tr>\n",
       "      <th>5490</th>\n",
       "      <td>1380924430013112324</td>\n",
       "      <td>2021-04-10 16:43:35+00:00</td>\n",
       "      <td>Was Medien schreiben werden: OMG, die #AfD ist...</td>\n",
       "      <td>Carlo Clemens</td>\n",
       "      <td>clemens_carlo</td>\n",
       "      <td>3e0767c2f3a12643</td>\n",
       "      <td>Dresden</td>\n",
       "      <td>DE</td>\n",
       "      <td>Germany</td>\n",
       "      <td>[[13.579443, 50.975948], [13.965473, 50.975948...</td>\n",
       "      <td>POINT (51.076827 13.772458)</td>\n",
       "      <td>242</td>\n",
       "      <td>983</td>\n",
       "      <td>Bergisch Gladbach, Deutschland</td>\n",
       "      <td>729</td>\n",
       "      <td>416</td>\n",
       "      <td>Mon Apr 20 11:19:38 +0000 2020</td>\n",
       "      <td>https://twitter.com/clemens_carlo/status/13809...</td>\n",
       "    </tr>\n",
       "    <tr>\n",
       "      <th>5872</th>\n",
       "      <td>1380914344200966155</td>\n",
       "      <td>2021-04-10 16:03:30+00:00</td>\n",
       "      <td>Krasser fight um den #Dexit auf #afdbpt21: MdB...</td>\n",
       "      <td>Tilman Steffen</td>\n",
       "      <td>tilsteff</td>\n",
       "      <td>07d9e3c224488000</td>\n",
       "      <td>Messe Dresden</td>\n",
       "      <td>DE</td>\n",
       "      <td>Germany</td>\n",
       "      <td>[[13.715850845102315, 51.06983519476281], [13....</td>\n",
       "      <td>POINT (51.06983519476281 13.71585084510231)</td>\n",
       "      <td>1</td>\n",
       "      <td>9</td>\n",
       "      <td>Berlin, Deutschland</td>\n",
       "      <td>5270</td>\n",
       "      <td>766</td>\n",
       "      <td>Sat Sep 05 20:45:06 +0000 2009</td>\n",
       "      <td>https://twitter.com/tilsteff/status/1380914344...</td>\n",
       "    </tr>\n",
       "  </tbody>\n",
       "</table>\n",
       "</div>"
      ],
      "text/plain": [
       "                 Tweet ID                Created at  \\\n",
       "3     1381165956014211074 2021-04-11 08:43:19+00:00   \n",
       "203   1381161415587811330 2021-04-11 08:25:16+00:00   \n",
       "3612  1380966443349606405 2021-04-10 19:30:31+00:00   \n",
       "4339  1380950059836186635 2021-04-10 18:25:25+00:00   \n",
       "5071  1380933953952083974 2021-04-10 17:21:25+00:00   \n",
       "5490  1380924430013112324 2021-04-10 16:43:35+00:00   \n",
       "5872  1380914344200966155 2021-04-10 16:03:30+00:00   \n",
       "\n",
       "                                              Full Text  \\\n",
       "3                                      Richtig   #Dexit   \n",
       "203   Die #AfD braucht, wie alle wütenden Populist*i...   \n",
       "3612  Die #fckafd hat auf ihrem #AfDBundesparteitag ...   \n",
       "4339  Die AfD will, dass Deutschland aus der EU auss...   \n",
       "5071  @KreuzAcht Dexit, really? Gibt's ein Land, das...   \n",
       "5490  Was Medien schreiben werden: OMG, die #AfD ist...   \n",
       "5872  Krasser fight um den #Dexit auf #afdbpt21: MdB...   \n",
       "\n",
       "                                              User Name      User Alias  \\\n",
       "3                                                  mike    MikeMich2410   \n",
       "203                                           Nilsartor       nilsartor   \n",
       "3612                               Spekulatius Chemnitz    SpekulatiusC   \n",
       "4339                                     Isabella Kolar     saschalario   \n",
       "5071  KielKontrovers - Politisches Blog aus Kiel Ger...  kielkontrovers   \n",
       "5490                                      Carlo Clemens   clemens_carlo   \n",
       "5872                                     Tilman Steffen        tilsteff   \n",
       "\n",
       "              Place ID             Place Name Country Code Country Name  \\\n",
       "3     845be239647ffad4                 Velten           DE      Germany   \n",
       "203   c589d9d6ed38927c  Frankfurt on the Main           DE      Germany   \n",
       "3612  0431c9d831366ed6               Chemnitz           DE      Germany   \n",
       "4339  3078869807f9dd36                 Berlin           DE      Germany   \n",
       "5071  1b9b5e83e647a7ed                   Kiel           DE      Germany   \n",
       "5490  3e0767c2f3a12643                Dresden           DE      Germany   \n",
       "5872  07d9e3c224488000          Messe Dresden           DE      Germany   \n",
       "\n",
       "                                           Bounding Box  \\\n",
       "3     [[13.151055, 52.657893], [13.250286, 52.657893...   \n",
       "203   [[8.472715, 50.01552], [8.800496, 50.01552], [...   \n",
       "3612  [[12.73052, 50.742806], [13.053037, 50.742806]...   \n",
       "4339  [[13.088304, 52.338079], [13.760909, 52.338079...   \n",
       "5071  [[10.032937, 54.2506929], [10.218568, 54.25069...   \n",
       "5490  [[13.579443, 50.975948], [13.965473, 50.975948...   \n",
       "5872  [[13.715850845102315, 51.06983519476281], [13....   \n",
       "\n",
       "                                Tweet Coordinates  Retweet Count  \\\n",
       "3                    POINT (52.688485 13.2006705)              0   \n",
       "203   POINT (50.12123560000001 8.636605500000002)              0   \n",
       "3612                 POINT (50.823018 12.8917785)              4   \n",
       "4339                 POINT (52.506701 13.4246065)              0   \n",
       "5071               POINT (54.34180445 10.1257525)              0   \n",
       "5490                  POINT (51.076827 13.772458)            242   \n",
       "5872  POINT (51.06983519476281 13.71585084510231)              1   \n",
       "\n",
       "      Favorite Count                   User Location  User Followers  \\\n",
       "3                  0             Velten, Deutschland               9   \n",
       "203                2  Frankfurt am Main, Deutschland             159   \n",
       "3612              16               Chemnitz, Sachsen             634   \n",
       "4339               0                          Berlin              92   \n",
       "5071               2        Kiel, Schleswig-Holstein            1080   \n",
       "5490             983  Bergisch Gladbach, Deutschland             729   \n",
       "5872               9             Berlin, Deutschland            5270   \n",
       "\n",
       "      User Friends               Registration Date  \\\n",
       "3               27  Sun Jul 15 14:36:22 +0000 2012   \n",
       "203            789  Tue Jun 30 13:46:58 +0000 2015   \n",
       "3612           385  Fri Nov 16 05:47:41 +0000 2018   \n",
       "4339           160  Sun Sep 30 18:14:19 +0000 2018   \n",
       "5071          2533  Sun Feb 20 12:04:30 +0000 2011   \n",
       "5490           416  Mon Apr 20 11:19:38 +0000 2020   \n",
       "5872           766  Sat Sep 05 20:45:06 +0000 2009   \n",
       "\n",
       "                                              Tweet URL  \n",
       "3     https://twitter.com/MikeMich2410/status/138116...  \n",
       "203   https://twitter.com/nilsartor/status/138116141...  \n",
       "3612  https://twitter.com/SpekulatiusC/status/138096...  \n",
       "4339  https://twitter.com/saschalario/status/1380950...  \n",
       "5071  https://twitter.com/kielkontrovers/status/1380...  \n",
       "5490  https://twitter.com/clemens_carlo/status/13809...  \n",
       "5872  https://twitter.com/tilsteff/status/1380914344...  "
      ]
     },
     "execution_count": 227,
     "metadata": {},
     "output_type": "execute_result"
    }
   ],
   "source": [
    "filtered_df = results_df[results_df.index.isin(match_index)]\n",
    "filtered_df"
   ]
  },
  {
   "cell_type": "code",
   "execution_count": 232,
   "id": "6ff00f78",
   "metadata": {},
   "outputs": [],
   "source": [
    "gdf = gpd.GeoDataFrame(filtered_df, geometry=filtered_df['Tweet Coordinates'])"
   ]
  },
  {
   "cell_type": "code",
   "execution_count": 246,
   "id": "6f4b3f4a",
   "metadata": {},
   "outputs": [
    {
     "data": {
      "application/vnd.plotly.v1+json": {
       "config": {
        "linkText": "Export to plot.ly",
        "plotlyServerURL": "https://plot.ly",
        "showLink": false
       },
       "data": [
        {
         "lat": [
          52.688485,
          50.121235600000006,
          50.823018000000005,
          52.506701,
          54.34180445,
          51.076827,
          51.06983519476281
         ],
         "lon": [
          13.2006705,
          8.636605500000002,
          12.891778500000003,
          13.424606499999998,
          10.125752499999999,
          13.772458000000002,
          13.715850845102315
         ],
         "mode": "markers",
         "text": [
          "Velten",
          "Frankfurt on the Main",
          "Chemnitz",
          "Berlin",
          "Kiel",
          "Dresden",
          "Messe Dresden"
         ],
         "type": "scattergeo"
        }
       ],
       "layout": {
        "geo": {
         "scope": "europe"
        },
        "template": {
         "data": {
          "bar": [
           {
            "error_x": {
             "color": "#2a3f5f"
            },
            "error_y": {
             "color": "#2a3f5f"
            },
            "marker": {
             "line": {
              "color": "#E5ECF6",
              "width": 0.5
             }
            },
            "type": "bar"
           }
          ],
          "barpolar": [
           {
            "marker": {
             "line": {
              "color": "#E5ECF6",
              "width": 0.5
             }
            },
            "type": "barpolar"
           }
          ],
          "carpet": [
           {
            "aaxis": {
             "endlinecolor": "#2a3f5f",
             "gridcolor": "white",
             "linecolor": "white",
             "minorgridcolor": "white",
             "startlinecolor": "#2a3f5f"
            },
            "baxis": {
             "endlinecolor": "#2a3f5f",
             "gridcolor": "white",
             "linecolor": "white",
             "minorgridcolor": "white",
             "startlinecolor": "#2a3f5f"
            },
            "type": "carpet"
           }
          ],
          "choropleth": [
           {
            "colorbar": {
             "outlinewidth": 0,
             "ticks": ""
            },
            "type": "choropleth"
           }
          ],
          "contour": [
           {
            "colorbar": {
             "outlinewidth": 0,
             "ticks": ""
            },
            "colorscale": [
             [
              0,
              "#0d0887"
             ],
             [
              0.1111111111111111,
              "#46039f"
             ],
             [
              0.2222222222222222,
              "#7201a8"
             ],
             [
              0.3333333333333333,
              "#9c179e"
             ],
             [
              0.4444444444444444,
              "#bd3786"
             ],
             [
              0.5555555555555556,
              "#d8576b"
             ],
             [
              0.6666666666666666,
              "#ed7953"
             ],
             [
              0.7777777777777778,
              "#fb9f3a"
             ],
             [
              0.8888888888888888,
              "#fdca26"
             ],
             [
              1,
              "#f0f921"
             ]
            ],
            "type": "contour"
           }
          ],
          "contourcarpet": [
           {
            "colorbar": {
             "outlinewidth": 0,
             "ticks": ""
            },
            "type": "contourcarpet"
           }
          ],
          "heatmap": [
           {
            "colorbar": {
             "outlinewidth": 0,
             "ticks": ""
            },
            "colorscale": [
             [
              0,
              "#0d0887"
             ],
             [
              0.1111111111111111,
              "#46039f"
             ],
             [
              0.2222222222222222,
              "#7201a8"
             ],
             [
              0.3333333333333333,
              "#9c179e"
             ],
             [
              0.4444444444444444,
              "#bd3786"
             ],
             [
              0.5555555555555556,
              "#d8576b"
             ],
             [
              0.6666666666666666,
              "#ed7953"
             ],
             [
              0.7777777777777778,
              "#fb9f3a"
             ],
             [
              0.8888888888888888,
              "#fdca26"
             ],
             [
              1,
              "#f0f921"
             ]
            ],
            "type": "heatmap"
           }
          ],
          "heatmapgl": [
           {
            "colorbar": {
             "outlinewidth": 0,
             "ticks": ""
            },
            "colorscale": [
             [
              0,
              "#0d0887"
             ],
             [
              0.1111111111111111,
              "#46039f"
             ],
             [
              0.2222222222222222,
              "#7201a8"
             ],
             [
              0.3333333333333333,
              "#9c179e"
             ],
             [
              0.4444444444444444,
              "#bd3786"
             ],
             [
              0.5555555555555556,
              "#d8576b"
             ],
             [
              0.6666666666666666,
              "#ed7953"
             ],
             [
              0.7777777777777778,
              "#fb9f3a"
             ],
             [
              0.8888888888888888,
              "#fdca26"
             ],
             [
              1,
              "#f0f921"
             ]
            ],
            "type": "heatmapgl"
           }
          ],
          "histogram": [
           {
            "marker": {
             "colorbar": {
              "outlinewidth": 0,
              "ticks": ""
             }
            },
            "type": "histogram"
           }
          ],
          "histogram2d": [
           {
            "colorbar": {
             "outlinewidth": 0,
             "ticks": ""
            },
            "colorscale": [
             [
              0,
              "#0d0887"
             ],
             [
              0.1111111111111111,
              "#46039f"
             ],
             [
              0.2222222222222222,
              "#7201a8"
             ],
             [
              0.3333333333333333,
              "#9c179e"
             ],
             [
              0.4444444444444444,
              "#bd3786"
             ],
             [
              0.5555555555555556,
              "#d8576b"
             ],
             [
              0.6666666666666666,
              "#ed7953"
             ],
             [
              0.7777777777777778,
              "#fb9f3a"
             ],
             [
              0.8888888888888888,
              "#fdca26"
             ],
             [
              1,
              "#f0f921"
             ]
            ],
            "type": "histogram2d"
           }
          ],
          "histogram2dcontour": [
           {
            "colorbar": {
             "outlinewidth": 0,
             "ticks": ""
            },
            "colorscale": [
             [
              0,
              "#0d0887"
             ],
             [
              0.1111111111111111,
              "#46039f"
             ],
             [
              0.2222222222222222,
              "#7201a8"
             ],
             [
              0.3333333333333333,
              "#9c179e"
             ],
             [
              0.4444444444444444,
              "#bd3786"
             ],
             [
              0.5555555555555556,
              "#d8576b"
             ],
             [
              0.6666666666666666,
              "#ed7953"
             ],
             [
              0.7777777777777778,
              "#fb9f3a"
             ],
             [
              0.8888888888888888,
              "#fdca26"
             ],
             [
              1,
              "#f0f921"
             ]
            ],
            "type": "histogram2dcontour"
           }
          ],
          "mesh3d": [
           {
            "colorbar": {
             "outlinewidth": 0,
             "ticks": ""
            },
            "type": "mesh3d"
           }
          ],
          "parcoords": [
           {
            "line": {
             "colorbar": {
              "outlinewidth": 0,
              "ticks": ""
             }
            },
            "type": "parcoords"
           }
          ],
          "pie": [
           {
            "automargin": true,
            "type": "pie"
           }
          ],
          "scatter": [
           {
            "marker": {
             "colorbar": {
              "outlinewidth": 0,
              "ticks": ""
             }
            },
            "type": "scatter"
           }
          ],
          "scatter3d": [
           {
            "line": {
             "colorbar": {
              "outlinewidth": 0,
              "ticks": ""
             }
            },
            "marker": {
             "colorbar": {
              "outlinewidth": 0,
              "ticks": ""
             }
            },
            "type": "scatter3d"
           }
          ],
          "scattercarpet": [
           {
            "marker": {
             "colorbar": {
              "outlinewidth": 0,
              "ticks": ""
             }
            },
            "type": "scattercarpet"
           }
          ],
          "scattergeo": [
           {
            "marker": {
             "colorbar": {
              "outlinewidth": 0,
              "ticks": ""
             }
            },
            "type": "scattergeo"
           }
          ],
          "scattergl": [
           {
            "marker": {
             "colorbar": {
              "outlinewidth": 0,
              "ticks": ""
             }
            },
            "type": "scattergl"
           }
          ],
          "scattermapbox": [
           {
            "marker": {
             "colorbar": {
              "outlinewidth": 0,
              "ticks": ""
             }
            },
            "type": "scattermapbox"
           }
          ],
          "scatterpolar": [
           {
            "marker": {
             "colorbar": {
              "outlinewidth": 0,
              "ticks": ""
             }
            },
            "type": "scatterpolar"
           }
          ],
          "scatterpolargl": [
           {
            "marker": {
             "colorbar": {
              "outlinewidth": 0,
              "ticks": ""
             }
            },
            "type": "scatterpolargl"
           }
          ],
          "scatterternary": [
           {
            "marker": {
             "colorbar": {
              "outlinewidth": 0,
              "ticks": ""
             }
            },
            "type": "scatterternary"
           }
          ],
          "surface": [
           {
            "colorbar": {
             "outlinewidth": 0,
             "ticks": ""
            },
            "colorscale": [
             [
              0,
              "#0d0887"
             ],
             [
              0.1111111111111111,
              "#46039f"
             ],
             [
              0.2222222222222222,
              "#7201a8"
             ],
             [
              0.3333333333333333,
              "#9c179e"
             ],
             [
              0.4444444444444444,
              "#bd3786"
             ],
             [
              0.5555555555555556,
              "#d8576b"
             ],
             [
              0.6666666666666666,
              "#ed7953"
             ],
             [
              0.7777777777777778,
              "#fb9f3a"
             ],
             [
              0.8888888888888888,
              "#fdca26"
             ],
             [
              1,
              "#f0f921"
             ]
            ],
            "type": "surface"
           }
          ],
          "table": [
           {
            "cells": {
             "fill": {
              "color": "#EBF0F8"
             },
             "line": {
              "color": "white"
             }
            },
            "header": {
             "fill": {
              "color": "#C8D4E3"
             },
             "line": {
              "color": "white"
             }
            },
            "type": "table"
           }
          ]
         },
         "layout": {
          "annotationdefaults": {
           "arrowcolor": "#2a3f5f",
           "arrowhead": 0,
           "arrowwidth": 1
          },
          "autotypenumbers": "strict",
          "coloraxis": {
           "colorbar": {
            "outlinewidth": 0,
            "ticks": ""
           }
          },
          "colorscale": {
           "diverging": [
            [
             0,
             "#8e0152"
            ],
            [
             0.1,
             "#c51b7d"
            ],
            [
             0.2,
             "#de77ae"
            ],
            [
             0.3,
             "#f1b6da"
            ],
            [
             0.4,
             "#fde0ef"
            ],
            [
             0.5,
             "#f7f7f7"
            ],
            [
             0.6,
             "#e6f5d0"
            ],
            [
             0.7,
             "#b8e186"
            ],
            [
             0.8,
             "#7fbc41"
            ],
            [
             0.9,
             "#4d9221"
            ],
            [
             1,
             "#276419"
            ]
           ],
           "sequential": [
            [
             0,
             "#0d0887"
            ],
            [
             0.1111111111111111,
             "#46039f"
            ],
            [
             0.2222222222222222,
             "#7201a8"
            ],
            [
             0.3333333333333333,
             "#9c179e"
            ],
            [
             0.4444444444444444,
             "#bd3786"
            ],
            [
             0.5555555555555556,
             "#d8576b"
            ],
            [
             0.6666666666666666,
             "#ed7953"
            ],
            [
             0.7777777777777778,
             "#fb9f3a"
            ],
            [
             0.8888888888888888,
             "#fdca26"
            ],
            [
             1,
             "#f0f921"
            ]
           ],
           "sequentialminus": [
            [
             0,
             "#0d0887"
            ],
            [
             0.1111111111111111,
             "#46039f"
            ],
            [
             0.2222222222222222,
             "#7201a8"
            ],
            [
             0.3333333333333333,
             "#9c179e"
            ],
            [
             0.4444444444444444,
             "#bd3786"
            ],
            [
             0.5555555555555556,
             "#d8576b"
            ],
            [
             0.6666666666666666,
             "#ed7953"
            ],
            [
             0.7777777777777778,
             "#fb9f3a"
            ],
            [
             0.8888888888888888,
             "#fdca26"
            ],
            [
             1,
             "#f0f921"
            ]
           ]
          },
          "colorway": [
           "#636efa",
           "#EF553B",
           "#00cc96",
           "#ab63fa",
           "#FFA15A",
           "#19d3f3",
           "#FF6692",
           "#B6E880",
           "#FF97FF",
           "#FECB52"
          ],
          "font": {
           "color": "#2a3f5f"
          },
          "geo": {
           "bgcolor": "white",
           "lakecolor": "white",
           "landcolor": "#E5ECF6",
           "showlakes": true,
           "showland": true,
           "subunitcolor": "white"
          },
          "hoverlabel": {
           "align": "left"
          },
          "hovermode": "closest",
          "mapbox": {
           "style": "light"
          },
          "paper_bgcolor": "white",
          "plot_bgcolor": "#E5ECF6",
          "polar": {
           "angularaxis": {
            "gridcolor": "white",
            "linecolor": "white",
            "ticks": ""
           },
           "bgcolor": "#E5ECF6",
           "radialaxis": {
            "gridcolor": "white",
            "linecolor": "white",
            "ticks": ""
           }
          },
          "scene": {
           "xaxis": {
            "backgroundcolor": "#E5ECF6",
            "gridcolor": "white",
            "gridwidth": 2,
            "linecolor": "white",
            "showbackground": true,
            "ticks": "",
            "zerolinecolor": "white"
           },
           "yaxis": {
            "backgroundcolor": "#E5ECF6",
            "gridcolor": "white",
            "gridwidth": 2,
            "linecolor": "white",
            "showbackground": true,
            "ticks": "",
            "zerolinecolor": "white"
           },
           "zaxis": {
            "backgroundcolor": "#E5ECF6",
            "gridcolor": "white",
            "gridwidth": 2,
            "linecolor": "white",
            "showbackground": true,
            "ticks": "",
            "zerolinecolor": "white"
           }
          },
          "shapedefaults": {
           "line": {
            "color": "#2a3f5f"
           }
          },
          "ternary": {
           "aaxis": {
            "gridcolor": "white",
            "linecolor": "white",
            "ticks": ""
           },
           "baxis": {
            "gridcolor": "white",
            "linecolor": "white",
            "ticks": ""
           },
           "bgcolor": "#E5ECF6",
           "caxis": {
            "gridcolor": "white",
            "linecolor": "white",
            "ticks": ""
           }
          },
          "title": {
           "x": 0.05
          },
          "xaxis": {
           "automargin": true,
           "gridcolor": "white",
           "linecolor": "white",
           "ticks": "",
           "title": {
            "standoff": 15
           },
           "zerolinecolor": "white",
           "zerolinewidth": 2
          },
          "yaxis": {
           "automargin": true,
           "gridcolor": "white",
           "linecolor": "white",
           "ticks": "",
           "title": {
            "standoff": 15
           },
           "zerolinecolor": "white",
           "zerolinewidth": 2
          }
         }
        },
        "title": {
         "text": "Tweets regarding '#Dexit' in Germany"
        }
       }
      },
      "text/html": [
       "<div>                            <div id=\"9705d0f3-7c59-4476-9f34-4262d5fee913\" class=\"plotly-graph-div\" style=\"height:525px; width:100%;\"></div>            <script type=\"text/javascript\">                require([\"plotly\"], function(Plotly) {                    window.PLOTLYENV=window.PLOTLYENV || {};                                    if (document.getElementById(\"9705d0f3-7c59-4476-9f34-4262d5fee913\")) {                    Plotly.newPlot(                        \"9705d0f3-7c59-4476-9f34-4262d5fee913\",                        [{\"lat\": [52.688485, 50.121235600000006, 50.823018000000005, 52.506701, 54.34180445, 51.076827, 51.06983519476281], \"lon\": [13.2006705, 8.636605500000002, 12.891778500000003, 13.424606499999998, 10.125752499999999, 13.772458000000002, 13.715850845102315], \"mode\": \"markers\", \"text\": [\"Velten\", \"Frankfurt on the Main\", \"Chemnitz\", \"Berlin\", \"Kiel\", \"Dresden\", \"Messe Dresden\"], \"type\": \"scattergeo\"}],                        {\"geo\": {\"scope\": \"europe\"}, \"template\": {\"data\": {\"bar\": [{\"error_x\": {\"color\": \"#2a3f5f\"}, \"error_y\": {\"color\": \"#2a3f5f\"}, \"marker\": {\"line\": {\"color\": \"#E5ECF6\", \"width\": 0.5}}, \"type\": \"bar\"}], \"barpolar\": [{\"marker\": {\"line\": {\"color\": \"#E5ECF6\", \"width\": 0.5}}, \"type\": \"barpolar\"}], \"carpet\": [{\"aaxis\": {\"endlinecolor\": \"#2a3f5f\", \"gridcolor\": \"white\", \"linecolor\": \"white\", \"minorgridcolor\": \"white\", \"startlinecolor\": \"#2a3f5f\"}, \"baxis\": {\"endlinecolor\": \"#2a3f5f\", \"gridcolor\": \"white\", \"linecolor\": \"white\", \"minorgridcolor\": \"white\", \"startlinecolor\": \"#2a3f5f\"}, \"type\": \"carpet\"}], \"choropleth\": [{\"colorbar\": {\"outlinewidth\": 0, \"ticks\": \"\"}, \"type\": \"choropleth\"}], \"contour\": [{\"colorbar\": {\"outlinewidth\": 0, \"ticks\": \"\"}, \"colorscale\": [[0.0, \"#0d0887\"], [0.1111111111111111, \"#46039f\"], [0.2222222222222222, \"#7201a8\"], [0.3333333333333333, \"#9c179e\"], [0.4444444444444444, \"#bd3786\"], [0.5555555555555556, \"#d8576b\"], [0.6666666666666666, \"#ed7953\"], [0.7777777777777778, \"#fb9f3a\"], [0.8888888888888888, \"#fdca26\"], [1.0, \"#f0f921\"]], \"type\": \"contour\"}], \"contourcarpet\": [{\"colorbar\": {\"outlinewidth\": 0, \"ticks\": \"\"}, \"type\": \"contourcarpet\"}], \"heatmap\": [{\"colorbar\": {\"outlinewidth\": 0, \"ticks\": \"\"}, \"colorscale\": [[0.0, \"#0d0887\"], [0.1111111111111111, \"#46039f\"], [0.2222222222222222, \"#7201a8\"], [0.3333333333333333, \"#9c179e\"], [0.4444444444444444, \"#bd3786\"], [0.5555555555555556, \"#d8576b\"], [0.6666666666666666, \"#ed7953\"], [0.7777777777777778, \"#fb9f3a\"], [0.8888888888888888, \"#fdca26\"], [1.0, \"#f0f921\"]], \"type\": \"heatmap\"}], \"heatmapgl\": [{\"colorbar\": {\"outlinewidth\": 0, \"ticks\": \"\"}, \"colorscale\": [[0.0, \"#0d0887\"], [0.1111111111111111, \"#46039f\"], [0.2222222222222222, \"#7201a8\"], [0.3333333333333333, \"#9c179e\"], [0.4444444444444444, \"#bd3786\"], [0.5555555555555556, \"#d8576b\"], [0.6666666666666666, \"#ed7953\"], [0.7777777777777778, \"#fb9f3a\"], [0.8888888888888888, \"#fdca26\"], [1.0, \"#f0f921\"]], \"type\": \"heatmapgl\"}], \"histogram\": [{\"marker\": {\"colorbar\": {\"outlinewidth\": 0, \"ticks\": \"\"}}, \"type\": \"histogram\"}], \"histogram2d\": [{\"colorbar\": {\"outlinewidth\": 0, \"ticks\": \"\"}, \"colorscale\": [[0.0, \"#0d0887\"], [0.1111111111111111, \"#46039f\"], [0.2222222222222222, \"#7201a8\"], [0.3333333333333333, \"#9c179e\"], [0.4444444444444444, \"#bd3786\"], [0.5555555555555556, \"#d8576b\"], [0.6666666666666666, \"#ed7953\"], [0.7777777777777778, \"#fb9f3a\"], [0.8888888888888888, \"#fdca26\"], [1.0, \"#f0f921\"]], \"type\": \"histogram2d\"}], \"histogram2dcontour\": [{\"colorbar\": {\"outlinewidth\": 0, \"ticks\": \"\"}, \"colorscale\": [[0.0, \"#0d0887\"], [0.1111111111111111, \"#46039f\"], [0.2222222222222222, \"#7201a8\"], [0.3333333333333333, \"#9c179e\"], [0.4444444444444444, \"#bd3786\"], [0.5555555555555556, \"#d8576b\"], [0.6666666666666666, \"#ed7953\"], [0.7777777777777778, \"#fb9f3a\"], [0.8888888888888888, \"#fdca26\"], [1.0, \"#f0f921\"]], \"type\": \"histogram2dcontour\"}], \"mesh3d\": [{\"colorbar\": {\"outlinewidth\": 0, \"ticks\": \"\"}, \"type\": \"mesh3d\"}], \"parcoords\": [{\"line\": {\"colorbar\": {\"outlinewidth\": 0, \"ticks\": \"\"}}, \"type\": \"parcoords\"}], \"pie\": [{\"automargin\": true, \"type\": \"pie\"}], \"scatter\": [{\"marker\": {\"colorbar\": {\"outlinewidth\": 0, \"ticks\": \"\"}}, \"type\": \"scatter\"}], \"scatter3d\": [{\"line\": {\"colorbar\": {\"outlinewidth\": 0, \"ticks\": \"\"}}, \"marker\": {\"colorbar\": {\"outlinewidth\": 0, \"ticks\": \"\"}}, \"type\": \"scatter3d\"}], \"scattercarpet\": [{\"marker\": {\"colorbar\": {\"outlinewidth\": 0, \"ticks\": \"\"}}, \"type\": \"scattercarpet\"}], \"scattergeo\": [{\"marker\": {\"colorbar\": {\"outlinewidth\": 0, \"ticks\": \"\"}}, \"type\": \"scattergeo\"}], \"scattergl\": [{\"marker\": {\"colorbar\": {\"outlinewidth\": 0, \"ticks\": \"\"}}, \"type\": \"scattergl\"}], \"scattermapbox\": [{\"marker\": {\"colorbar\": {\"outlinewidth\": 0, \"ticks\": \"\"}}, \"type\": \"scattermapbox\"}], \"scatterpolar\": [{\"marker\": {\"colorbar\": {\"outlinewidth\": 0, \"ticks\": \"\"}}, \"type\": \"scatterpolar\"}], \"scatterpolargl\": [{\"marker\": {\"colorbar\": {\"outlinewidth\": 0, \"ticks\": \"\"}}, \"type\": \"scatterpolargl\"}], \"scatterternary\": [{\"marker\": {\"colorbar\": {\"outlinewidth\": 0, \"ticks\": \"\"}}, \"type\": \"scatterternary\"}], \"surface\": [{\"colorbar\": {\"outlinewidth\": 0, \"ticks\": \"\"}, \"colorscale\": [[0.0, \"#0d0887\"], [0.1111111111111111, \"#46039f\"], [0.2222222222222222, \"#7201a8\"], [0.3333333333333333, \"#9c179e\"], [0.4444444444444444, \"#bd3786\"], [0.5555555555555556, \"#d8576b\"], [0.6666666666666666, \"#ed7953\"], [0.7777777777777778, \"#fb9f3a\"], [0.8888888888888888, \"#fdca26\"], [1.0, \"#f0f921\"]], \"type\": \"surface\"}], \"table\": [{\"cells\": {\"fill\": {\"color\": \"#EBF0F8\"}, \"line\": {\"color\": \"white\"}}, \"header\": {\"fill\": {\"color\": \"#C8D4E3\"}, \"line\": {\"color\": \"white\"}}, \"type\": \"table\"}]}, \"layout\": {\"annotationdefaults\": {\"arrowcolor\": \"#2a3f5f\", \"arrowhead\": 0, \"arrowwidth\": 1}, \"autotypenumbers\": \"strict\", \"coloraxis\": {\"colorbar\": {\"outlinewidth\": 0, \"ticks\": \"\"}}, \"colorscale\": {\"diverging\": [[0, \"#8e0152\"], [0.1, \"#c51b7d\"], [0.2, \"#de77ae\"], [0.3, \"#f1b6da\"], [0.4, \"#fde0ef\"], [0.5, \"#f7f7f7\"], [0.6, \"#e6f5d0\"], [0.7, \"#b8e186\"], [0.8, \"#7fbc41\"], [0.9, \"#4d9221\"], [1, \"#276419\"]], \"sequential\": [[0.0, \"#0d0887\"], [0.1111111111111111, \"#46039f\"], [0.2222222222222222, \"#7201a8\"], [0.3333333333333333, \"#9c179e\"], [0.4444444444444444, \"#bd3786\"], [0.5555555555555556, \"#d8576b\"], [0.6666666666666666, \"#ed7953\"], [0.7777777777777778, \"#fb9f3a\"], [0.8888888888888888, \"#fdca26\"], [1.0, \"#f0f921\"]], \"sequentialminus\": [[0.0, \"#0d0887\"], [0.1111111111111111, \"#46039f\"], [0.2222222222222222, \"#7201a8\"], [0.3333333333333333, \"#9c179e\"], [0.4444444444444444, \"#bd3786\"], [0.5555555555555556, \"#d8576b\"], [0.6666666666666666, \"#ed7953\"], [0.7777777777777778, \"#fb9f3a\"], [0.8888888888888888, \"#fdca26\"], [1.0, \"#f0f921\"]]}, \"colorway\": [\"#636efa\", \"#EF553B\", \"#00cc96\", \"#ab63fa\", \"#FFA15A\", \"#19d3f3\", \"#FF6692\", \"#B6E880\", \"#FF97FF\", \"#FECB52\"], \"font\": {\"color\": \"#2a3f5f\"}, \"geo\": {\"bgcolor\": \"white\", \"lakecolor\": \"white\", \"landcolor\": \"#E5ECF6\", \"showlakes\": true, \"showland\": true, \"subunitcolor\": \"white\"}, \"hoverlabel\": {\"align\": \"left\"}, \"hovermode\": \"closest\", \"mapbox\": {\"style\": \"light\"}, \"paper_bgcolor\": \"white\", \"plot_bgcolor\": \"#E5ECF6\", \"polar\": {\"angularaxis\": {\"gridcolor\": \"white\", \"linecolor\": \"white\", \"ticks\": \"\"}, \"bgcolor\": \"#E5ECF6\", \"radialaxis\": {\"gridcolor\": \"white\", \"linecolor\": \"white\", \"ticks\": \"\"}}, \"scene\": {\"xaxis\": {\"backgroundcolor\": \"#E5ECF6\", \"gridcolor\": \"white\", \"gridwidth\": 2, \"linecolor\": \"white\", \"showbackground\": true, \"ticks\": \"\", \"zerolinecolor\": \"white\"}, \"yaxis\": {\"backgroundcolor\": \"#E5ECF6\", \"gridcolor\": \"white\", \"gridwidth\": 2, \"linecolor\": \"white\", \"showbackground\": true, \"ticks\": \"\", \"zerolinecolor\": \"white\"}, \"zaxis\": {\"backgroundcolor\": \"#E5ECF6\", \"gridcolor\": \"white\", \"gridwidth\": 2, \"linecolor\": \"white\", \"showbackground\": true, \"ticks\": \"\", \"zerolinecolor\": \"white\"}}, \"shapedefaults\": {\"line\": {\"color\": \"#2a3f5f\"}}, \"ternary\": {\"aaxis\": {\"gridcolor\": \"white\", \"linecolor\": \"white\", \"ticks\": \"\"}, \"baxis\": {\"gridcolor\": \"white\", \"linecolor\": \"white\", \"ticks\": \"\"}, \"bgcolor\": \"#E5ECF6\", \"caxis\": {\"gridcolor\": \"white\", \"linecolor\": \"white\", \"ticks\": \"\"}}, \"title\": {\"x\": 0.05}, \"xaxis\": {\"automargin\": true, \"gridcolor\": \"white\", \"linecolor\": \"white\", \"ticks\": \"\", \"title\": {\"standoff\": 15}, \"zerolinecolor\": \"white\", \"zerolinewidth\": 2}, \"yaxis\": {\"automargin\": true, \"gridcolor\": \"white\", \"linecolor\": \"white\", \"ticks\": \"\", \"title\": {\"standoff\": 15}, \"zerolinecolor\": \"white\", \"zerolinewidth\": 2}}}, \"title\": {\"text\": \"Tweets regarding '#Dexit' in Germany\"}},                        {\"responsive\": true}                    ).then(function(){\n",
       "                            \n",
       "var gd = document.getElementById('9705d0f3-7c59-4476-9f34-4262d5fee913');\n",
       "var x = new MutationObserver(function (mutations, observer) {{\n",
       "        var display = window.getComputedStyle(gd).display;\n",
       "        if (!display || display === 'none') {{\n",
       "            console.log([gd, 'removed!']);\n",
       "            Plotly.purge(gd);\n",
       "            observer.disconnect();\n",
       "        }}\n",
       "}});\n",
       "\n",
       "// Listen for the removal of the full notebook cells\n",
       "var notebookContainer = gd.closest('#notebook-container');\n",
       "if (notebookContainer) {{\n",
       "    x.observe(notebookContainer, {childList: true});\n",
       "}}\n",
       "\n",
       "// Listen for the clearing of the current output cell\n",
       "var outputEl = gd.closest('.output');\n",
       "if (outputEl) {{\n",
       "    x.observe(outputEl, {childList: true});\n",
       "}}\n",
       "\n",
       "                        })                };                });            </script>        </div>"
      ]
     },
     "metadata": {},
     "output_type": "display_data"
    }
   ],
   "source": [
    "fig = go.Figure(data=go.Scattergeo(\n",
    "        lon = gdf['geometry'].y.values,\n",
    "        lat = gdf['geometry'].x.values,\n",
    "        text = gdf['Place Name'],\n",
    "        mode = 'markers'\n",
    "        ))\n",
    "\n",
    "fig.update_layout(\n",
    "        title = \"Tweets regarding '#Dexit' in Germany\",\n",
    "        geo_scope='europe',\n",
    "    )\n",
    "\n",
    "iplot(fig, filename =\"geomap_twitter\")"
   ]
  },
  {
   "cell_type": "code",
   "execution_count": null,
   "id": "05e242a4",
   "metadata": {},
   "outputs": [],
   "source": []
  }
 ],
 "metadata": {
  "kernelspec": {
   "display_name": "Webscraping Workshop",
   "language": "python",
   "name": "webscraping"
  },
  "language_info": {
   "codemirror_mode": {
    "name": "ipython",
    "version": 3
   },
   "file_extension": ".py",
   "mimetype": "text/x-python",
   "name": "python",
   "nbconvert_exporter": "python",
   "pygments_lexer": "ipython3",
   "version": "3.8.8"
  }
 },
 "nbformat": 4,
 "nbformat_minor": 5
}
