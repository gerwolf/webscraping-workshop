{
 "cells": [
  {
   "cell_type": "markdown",
   "id": "80b2f999",
   "metadata": {},
   "source": [
    "# Obtaining structured web content and programmatic access\n",
    "\n",
    "In this notebook we will learn how to make use of readily structured data through dedicated application programming interfaces (APIs), how to authenticate and how to properly design requests (also called \"payload\") in order to retrieve large datasets.\n",
    "\n",
    "**Advantages** of APIs are that\n",
    "- access is legal and in most cases clearly and transparently regulated (e.g. 10,000 calls per day)\n",
    "- structuring through `requests` and `BeautifulSoup` not required\n",
    "- Python packages that simplify server-client interaction are available\n",
    "\n",
    "**Disadvantages** of APIs are that\n",
    "- we have to learn how APIs work and how we should interact with them (each API has some peculiarities and documentation is usually good, but sometimes not so...)\n",
    "- authentification may be required and access may not be free of charge \n",
    "\n",
    "We will\n",
    "- obtain data of a public statistical office such as the IMF or World Bank through the `pandas-datareader`\n",
    "- directly obtain a (ranking) table from a website such the [World Cube Association](https://www.worldcubeassociation.org/results/rankings/333/single)\n",
    "- learn how to use the Destatis/GENESIS Online service and API\n",
    "- learn how to use the Twitter API (in particular [Tweepy](https://www.tweepy.org/), a Python library for the Twitter API) and retrieve Tweets with GeoTags (i.e. coordinates) subject to specified geography and search terms\n",
    "- conduct some small analyses and visualise the results appropriately"
   ]
  },
  {
   "cell_type": "code",
   "execution_count": 1,
   "id": "b3887aa8",
   "metadata": {},
   "outputs": [],
   "source": [
    "import pandas as pd"
   ]
  },
  {
   "cell_type": "code",
   "execution_count": 2,
   "id": "1ada2bc4",
   "metadata": {},
   "outputs": [
    {
     "name": "stdout",
     "output_type": "stream",
     "text": [
      "Requirement already satisfied: pandas-datareader in c:\\users\\wolfg\\anaconda3\\envs\\webscraping\\lib\\site-packages (0.9.0)\n",
      "Requirement already satisfied: pandas>=0.23 in c:\\users\\wolfg\\anaconda3\\envs\\webscraping\\lib\\site-packages (from pandas-datareader) (1.2.3)\n",
      "Requirement already satisfied: requests>=2.19.0 in c:\\users\\wolfg\\anaconda3\\envs\\webscraping\\lib\\site-packages (from pandas-datareader) (2.25.1)\n",
      "Requirement already satisfied: lxml in c:\\users\\wolfg\\anaconda3\\envs\\webscraping\\lib\\site-packages (from pandas-datareader) (4.6.3)\n",
      "Requirement already satisfied: python-dateutil>=2.7.3 in c:\\users\\wolfg\\anaconda3\\envs\\webscraping\\lib\\site-packages (from pandas>=0.23->pandas-datareader) (2.8.1)\n",
      "Requirement already satisfied: numpy>=1.16.5 in c:\\users\\wolfg\\anaconda3\\envs\\webscraping\\lib\\site-packages (from pandas>=0.23->pandas-datareader) (1.20.2)\n",
      "Requirement already satisfied: pytz>=2017.3 in c:\\users\\wolfg\\anaconda3\\envs\\webscraping\\lib\\site-packages (from pandas>=0.23->pandas-datareader) (2021.1)\n",
      "Requirement already satisfied: six>=1.5 in c:\\users\\wolfg\\anaconda3\\envs\\webscraping\\lib\\site-packages (from python-dateutil>=2.7.3->pandas>=0.23->pandas-datareader) (1.15.0)\n",
      "Requirement already satisfied: chardet<5,>=3.0.2 in c:\\users\\wolfg\\anaconda3\\envs\\webscraping\\lib\\site-packages (from requests>=2.19.0->pandas-datareader) (4.0.0)\n",
      "Requirement already satisfied: idna<3,>=2.5 in c:\\users\\wolfg\\anaconda3\\envs\\webscraping\\lib\\site-packages (from requests>=2.19.0->pandas-datareader) (2.10)\n",
      "Requirement already satisfied: certifi>=2017.4.17 in c:\\users\\wolfg\\anaconda3\\envs\\webscraping\\lib\\site-packages (from requests>=2.19.0->pandas-datareader) (2020.12.5)\n",
      "Requirement already satisfied: urllib3<1.27,>=1.21.1 in c:\\users\\wolfg\\anaconda3\\envs\\webscraping\\lib\\site-packages (from requests>=2.19.0->pandas-datareader) (1.26.4)\n"
     ]
    }
   ],
   "source": [
    "!pip install pandas-datareader --upgrade"
   ]
  },
  {
   "cell_type": "code",
   "execution_count": 3,
   "id": "24d12ddf",
   "metadata": {},
   "outputs": [
    {
     "data": {
      "text/html": [
       "<div>\n",
       "<style scoped>\n",
       "    .dataframe tbody tr th:only-of-type {\n",
       "        vertical-align: middle;\n",
       "    }\n",
       "\n",
       "    .dataframe tbody tr th {\n",
       "        vertical-align: top;\n",
       "    }\n",
       "\n",
       "    .dataframe thead th {\n",
       "        text-align: right;\n",
       "    }\n",
       "</style>\n",
       "<table border=\"1\" class=\"dataframe\">\n",
       "  <thead>\n",
       "    <tr style=\"text-align: right;\">\n",
       "      <th></th>\n",
       "      <th>id</th>\n",
       "      <th>name</th>\n",
       "      <th>unit</th>\n",
       "      <th>source</th>\n",
       "      <th>sourceNote</th>\n",
       "      <th>sourceOrganization</th>\n",
       "      <th>topics</th>\n",
       "    </tr>\n",
       "  </thead>\n",
       "  <tbody>\n",
       "    <tr>\n",
       "      <th>9217</th>\n",
       "      <td>NV.SRV.DISC.CD</td>\n",
       "      <td>Discrepancy in GDP, value added (current US$)</td>\n",
       "      <td></td>\n",
       "      <td>Africa Development Indicators</td>\n",
       "      <td>This is the discrepancy included in the value ...</td>\n",
       "      <td>b'World Bank national accounts data, and OECD ...</td>\n",
       "      <td></td>\n",
       "    </tr>\n",
       "    <tr>\n",
       "      <th>9345</th>\n",
       "      <td>NY.GDP.DISC.CD</td>\n",
       "      <td>Discrepancy in expenditure estimate of GDP (cu...</td>\n",
       "      <td></td>\n",
       "      <td>Africa Development Indicators</td>\n",
       "      <td>This is the discrepancy included in the ‘total...</td>\n",
       "      <td>b'World Bank national accounts data, and OECD ...</td>\n",
       "      <td></td>\n",
       "    </tr>\n",
       "    <tr>\n",
       "      <th>9356</th>\n",
       "      <td>NY.GDP.MKTP.CD</td>\n",
       "      <td>GDP (current US$)</td>\n",
       "      <td></td>\n",
       "      <td>World Development Indicators</td>\n",
       "      <td>GDP at purchaser's prices is the sum of gross ...</td>\n",
       "      <td>b'World Bank national accounts data, and OECD ...</td>\n",
       "      <td>Economy &amp; Growth</td>\n",
       "    </tr>\n",
       "    <tr>\n",
       "      <th>9375</th>\n",
       "      <td>NY.GDP.PCAP.CD</td>\n",
       "      <td>GDP per capita (current US$)</td>\n",
       "      <td></td>\n",
       "      <td>World Development Indicators</td>\n",
       "      <td>GDP per capita is gross domestic product divid...</td>\n",
       "      <td>b'World Bank national accounts data, and OECD ...</td>\n",
       "      <td>Economy &amp; Growth</td>\n",
       "    </tr>\n",
       "    <tr>\n",
       "      <th>9482</th>\n",
       "      <td>NYGDPMKTPSACD</td>\n",
       "      <td>GDP,current US$,millions,seas. adj.,</td>\n",
       "      <td></td>\n",
       "      <td>Global Economic Monitor</td>\n",
       "      <td></td>\n",
       "      <td>b''</td>\n",
       "      <td></td>\n",
       "    </tr>\n",
       "  </tbody>\n",
       "</table>\n",
       "</div>"
      ],
      "text/plain": [
       "                  id                                               name unit  \\\n",
       "9217  NV.SRV.DISC.CD      Discrepancy in GDP, value added (current US$)        \n",
       "9345  NY.GDP.DISC.CD  Discrepancy in expenditure estimate of GDP (cu...        \n",
       "9356  NY.GDP.MKTP.CD                                  GDP (current US$)        \n",
       "9375  NY.GDP.PCAP.CD                       GDP per capita (current US$)        \n",
       "9482   NYGDPMKTPSACD               GDP,current US$,millions,seas. adj.,        \n",
       "\n",
       "                             source  \\\n",
       "9217  Africa Development Indicators   \n",
       "9345  Africa Development Indicators   \n",
       "9356   World Development Indicators   \n",
       "9375   World Development Indicators   \n",
       "9482        Global Economic Monitor   \n",
       "\n",
       "                                             sourceNote  \\\n",
       "9217  This is the discrepancy included in the value ...   \n",
       "9345  This is the discrepancy included in the ‘total...   \n",
       "9356  GDP at purchaser's prices is the sum of gross ...   \n",
       "9375  GDP per capita is gross domestic product divid...   \n",
       "9482                                                      \n",
       "\n",
       "                                     sourceOrganization            topics  \n",
       "9217  b'World Bank national accounts data, and OECD ...                    \n",
       "9345  b'World Bank national accounts data, and OECD ...                    \n",
       "9356  b'World Bank national accounts data, and OECD ...  Economy & Growth  \n",
       "9375  b'World Bank national accounts data, and OECD ...  Economy & Growth  \n",
       "9482                                                b''                    "
      ]
     },
     "execution_count": 3,
     "metadata": {},
     "output_type": "execute_result"
    }
   ],
   "source": [
    "from pandas_datareader import wb # imports world bank access\n",
    "search = wb.search('GDP.*current.*US') # search for keyword\n",
    "search"
   ]
  },
  {
   "cell_type": "code",
   "execution_count": 4,
   "id": "c7cf9b99",
   "metadata": {},
   "outputs": [
    {
     "name": "stdout",
     "output_type": "stream",
     "text": [
      "<class 'pandas.core.frame.DataFrame'>\n",
      "MultiIndex: 60 entries, ('Germany', '2019') to ('Italy', '2000')\n",
      "Data columns (total 1 columns):\n",
      " #   Column          Non-Null Count  Dtype  \n",
      "---  ------          --------------  -----  \n",
      " 0   NY.GDP.MKTP.CD  60 non-null     float64\n",
      "dtypes: float64(1)\n",
      "memory usage: 1.5+ KB\n"
     ]
    }
   ],
   "source": [
    "df = wb.download(indicator = 'NY.GDP.MKTP.CD', country = ['DE', 'FR', 'IT'],\n",
    "                start = 2000, end = 2019)\n",
    "df.info()"
   ]
  },
  {
   "cell_type": "code",
   "execution_count": 5,
   "id": "4c4e4736",
   "metadata": {},
   "outputs": [
    {
     "data": {
      "text/html": [
       "<div>\n",
       "<style scoped>\n",
       "    .dataframe tbody tr th:only-of-type {\n",
       "        vertical-align: middle;\n",
       "    }\n",
       "\n",
       "    .dataframe tbody tr th {\n",
       "        vertical-align: top;\n",
       "    }\n",
       "\n",
       "    .dataframe thead tr th {\n",
       "        text-align: left;\n",
       "    }\n",
       "\n",
       "    .dataframe thead tr:last-of-type th {\n",
       "        text-align: right;\n",
       "    }\n",
       "</style>\n",
       "<table border=\"1\" class=\"dataframe\">\n",
       "  <thead>\n",
       "    <tr>\n",
       "      <th></th>\n",
       "      <th colspan=\"8\" halign=\"left\">NY.GDP.MKTP.CD</th>\n",
       "    </tr>\n",
       "    <tr>\n",
       "      <th></th>\n",
       "      <th>count</th>\n",
       "      <th>mean</th>\n",
       "      <th>std</th>\n",
       "      <th>min</th>\n",
       "      <th>25%</th>\n",
       "      <th>50%</th>\n",
       "      <th>75%</th>\n",
       "      <th>max</th>\n",
       "    </tr>\n",
       "    <tr>\n",
       "      <th>country</th>\n",
       "      <th></th>\n",
       "      <th></th>\n",
       "      <th></th>\n",
       "      <th></th>\n",
       "      <th></th>\n",
       "      <th></th>\n",
       "      <th></th>\n",
       "      <th></th>\n",
       "    </tr>\n",
       "  </thead>\n",
       "  <tbody>\n",
       "    <tr>\n",
       "      <th>France</th>\n",
       "      <td>20.0</td>\n",
       "      <td>2.391444e+12</td>\n",
       "      <td>5.039285e+11</td>\n",
       "      <td>1.362249e+12</td>\n",
       "      <td>2.176030e+12</td>\n",
       "      <td>2.618880e+12</td>\n",
       "      <td>2.733605e+12</td>\n",
       "      <td>2.918383e+12</td>\n",
       "    </tr>\n",
       "    <tr>\n",
       "      <th>Germany</th>\n",
       "      <td>20.0</td>\n",
       "      <td>3.213212e+12</td>\n",
       "      <td>6.554315e+11</td>\n",
       "      <td>1.943145e+12</td>\n",
       "      <td>2.836649e+12</td>\n",
       "      <td>3.409510e+12</td>\n",
       "      <td>3.730707e+12</td>\n",
       "      <td>3.963768e+12</td>\n",
       "    </tr>\n",
       "    <tr>\n",
       "      <th>Italy</th>\n",
       "      <td>20.0</td>\n",
       "      <td>1.907346e+12</td>\n",
       "      <td>3.611625e+11</td>\n",
       "      <td>1.143830e+12</td>\n",
       "      <td>1.827731e+12</td>\n",
       "      <td>1.982686e+12</td>\n",
       "      <td>2.145770e+12</td>\n",
       "      <td>2.398857e+12</td>\n",
       "    </tr>\n",
       "  </tbody>\n",
       "</table>\n",
       "</div>"
      ],
      "text/plain": [
       "        NY.GDP.MKTP.CD                                            \\\n",
       "                 count          mean           std           min   \n",
       "country                                                            \n",
       "France            20.0  2.391444e+12  5.039285e+11  1.362249e+12   \n",
       "Germany           20.0  3.213212e+12  6.554315e+11  1.943145e+12   \n",
       "Italy             20.0  1.907346e+12  3.611625e+11  1.143830e+12   \n",
       "\n",
       "                                                                 \n",
       "                  25%           50%           75%           max  \n",
       "country                                                          \n",
       "France   2.176030e+12  2.618880e+12  2.733605e+12  2.918383e+12  \n",
       "Germany  2.836649e+12  3.409510e+12  3.730707e+12  3.963768e+12  \n",
       "Italy    1.827731e+12  1.982686e+12  2.145770e+12  2.398857e+12  "
      ]
     },
     "execution_count": 5,
     "metadata": {},
     "output_type": "execute_result"
    }
   ],
   "source": [
    "df.groupby('country').describe()"
   ]
  },
  {
   "cell_type": "code",
   "execution_count": 6,
   "id": "384fc7f2",
   "metadata": {},
   "outputs": [
    {
     "data": {
      "text/html": [
       "<div>\n",
       "<style scoped>\n",
       "    .dataframe tbody tr th:only-of-type {\n",
       "        vertical-align: middle;\n",
       "    }\n",
       "\n",
       "    .dataframe tbody tr th {\n",
       "        vertical-align: top;\n",
       "    }\n",
       "\n",
       "    .dataframe thead th {\n",
       "        text-align: right;\n",
       "    }\n",
       "</style>\n",
       "<table border=\"1\" class=\"dataframe\">\n",
       "  <thead>\n",
       "    <tr style=\"text-align: right;\">\n",
       "      <th></th>\n",
       "      <th>country</th>\n",
       "      <th>year</th>\n",
       "      <th>NY.GDP.MKTP.CD</th>\n",
       "    </tr>\n",
       "  </thead>\n",
       "  <tbody>\n",
       "    <tr>\n",
       "      <th>0</th>\n",
       "      <td>Germany</td>\n",
       "      <td>2019</td>\n",
       "      <td>3.861124e+12</td>\n",
       "    </tr>\n",
       "    <tr>\n",
       "      <th>1</th>\n",
       "      <td>Germany</td>\n",
       "      <td>2018</td>\n",
       "      <td>3.963768e+12</td>\n",
       "    </tr>\n",
       "    <tr>\n",
       "      <th>2</th>\n",
       "      <td>Germany</td>\n",
       "      <td>2017</td>\n",
       "      <td>3.682602e+12</td>\n",
       "    </tr>\n",
       "    <tr>\n",
       "      <th>3</th>\n",
       "      <td>Germany</td>\n",
       "      <td>2016</td>\n",
       "      <td>3.467498e+12</td>\n",
       "    </tr>\n",
       "    <tr>\n",
       "      <th>4</th>\n",
       "      <td>Germany</td>\n",
       "      <td>2015</td>\n",
       "      <td>3.356236e+12</td>\n",
       "    </tr>\n",
       "  </tbody>\n",
       "</table>\n",
       "</div>"
      ],
      "text/plain": [
       "   country  year  NY.GDP.MKTP.CD\n",
       "0  Germany  2019    3.861124e+12\n",
       "1  Germany  2018    3.963768e+12\n",
       "2  Germany  2017    3.682602e+12\n",
       "3  Germany  2016    3.467498e+12\n",
       "4  Germany  2015    3.356236e+12"
      ]
     },
     "execution_count": 6,
     "metadata": {},
     "output_type": "execute_result"
    }
   ],
   "source": [
    "df2 = df.reset_index()\n",
    "df2.head()"
   ]
  },
  {
   "cell_type": "code",
   "execution_count": 7,
   "id": "1ca64ddb",
   "metadata": {},
   "outputs": [
    {
     "name": "stdout",
     "output_type": "stream",
     "text": [
      "<class 'pandas.core.frame.DataFrame'>\n",
      "RangeIndex: 60 entries, 0 to 59\n",
      "Data columns (total 3 columns):\n",
      " #   Column          Non-Null Count  Dtype  \n",
      "---  ------          --------------  -----  \n",
      " 0   country         60 non-null     object \n",
      " 1   year            60 non-null     object \n",
      " 2   NY.GDP.MKTP.CD  60 non-null     float64\n",
      "dtypes: float64(1), object(2)\n",
      "memory usage: 1.5+ KB\n"
     ]
    }
   ],
   "source": [
    "df2.info()"
   ]
  },
  {
   "cell_type": "code",
   "execution_count": 8,
   "id": "1c215845",
   "metadata": {},
   "outputs": [
    {
     "name": "stdout",
     "output_type": "stream",
     "text": [
      "<class 'pandas.core.frame.DataFrame'>\n",
      "RangeIndex: 60 entries, 0 to 59\n",
      "Data columns (total 3 columns):\n",
      " #   Column   Non-Null Count  Dtype  \n",
      "---  ------   --------------  -----  \n",
      " 0   country  60 non-null     object \n",
      " 1   year     60 non-null     int32  \n",
      " 2   gdp      60 non-null     float64\n",
      "dtypes: float64(1), int32(1), object(1)\n",
      "memory usage: 1.3+ KB\n"
     ]
    }
   ],
   "source": [
    "df2.columns = ['country', 'year', 'gdp'] # rename columns\n",
    "df2.year = df2.year.astype(int) # numeric annual indicator\n",
    "df2.info()"
   ]
  },
  {
   "cell_type": "code",
   "execution_count": 9,
   "id": "508004fb",
   "metadata": {},
   "outputs": [
    {
     "data": {
      "text/html": [
       "        <script type=\"text/javascript\">\n",
       "        window.PlotlyConfig = {MathJaxConfig: 'local'};\n",
       "        if (window.MathJax) {MathJax.Hub.Config({SVG: {font: \"STIX-Web\"}});}\n",
       "        if (typeof require !== 'undefined') {\n",
       "        require.undef(\"plotly\");\n",
       "        requirejs.config({\n",
       "            paths: {\n",
       "                'plotly': ['https://cdn.plot.ly/plotly-latest.min']\n",
       "            }\n",
       "        });\n",
       "        require(['plotly'], function(Plotly) {\n",
       "            window._Plotly = Plotly;\n",
       "        });\n",
       "        }\n",
       "        </script>\n",
       "        "
      ]
     },
     "metadata": {},
     "output_type": "display_data"
    }
   ],
   "source": [
    "import plotly.graph_objs as go\n",
    "import plotly.figure_factory as ff\n",
    "from plotly.offline import download_plotlyjs, init_notebook_mode, plot, iplot\n",
    "init_notebook_mode(connected=True)"
   ]
  },
  {
   "cell_type": "code",
   "execution_count": null,
   "id": "f8a18cf3",
   "metadata": {},
   "outputs": [],
   "source": [
    "# set(df2['country'])"
   ]
  },
  {
   "cell_type": "code",
   "execution_count": 10,
   "id": "7d253cde",
   "metadata": {},
   "outputs": [
    {
     "data": {
      "application/vnd.plotly.v1+json": {
       "config": {
        "linkText": "Export to plot.ly",
        "plotlyServerURL": "https://plot.ly",
        "showLink": false
       },
       "data": [
        {
         "name": "Germany",
         "type": "scatter",
         "x": [
          2019,
          2018,
          2017,
          2016,
          2015,
          2014,
          2013,
          2012,
          2011,
          2010,
          2009,
          2008,
          2007,
          2006,
          2005,
          2004,
          2003,
          2002,
          2001,
          2000
         ],
         "y": [
          3861123558039.21,
          3963767526250.98,
          3682602479929.42,
          3467498002104.33,
          3356235704119.75,
          3883920155292.26,
          3732743446218.92,
          3527344944139.83,
          3744408602683.94,
          3396354075663.73,
          3397791053070.3,
          3730027830672.33,
          3421229126745.14,
          2992196713084.93,
          2845802760850.64,
          2809187981127.39,
          2496128668171.56,
          2068624129493.69,
          1944107382550.34,
          1943145384190.16
         ]
        },
        {
         "name": "France",
         "type": "scatter",
         "x": [
          2019,
          2018,
          2017,
          2016,
          2015,
          2014,
          2013,
          2012,
          2011,
          2010,
          2009,
          2008,
          2007,
          2006,
          2005,
          2004,
          2003,
          2002,
          2001,
          2000
         ],
         "y": [
          2715518274227.45,
          2787863958885.49,
          2595151045197.65,
          2471285607081.72,
          2438207896251.84,
          2852165760630.27,
          2811077725703.59,
          2683825225092.63,
          2861408170264.6,
          2642609548930.36,
          2690222283967.77,
          2918382891460.38,
          2657213249384.07,
          2318593651988.46,
          2196126103718.44,
          2115742488204.62,
          1840480812641.08,
          1494286655373.61,
          1376465324384.79,
          1362248940482.77
         ]
        },
        {
         "name": "Italy",
         "type": "scatter",
         "x": [
          2019,
          2018,
          2017,
          2016,
          2015,
          2014,
          2013,
          2012,
          2011,
          2010,
          2009,
          2008,
          2007,
          2006,
          2005,
          2004,
          2003,
          2002,
          2001,
          2000
         ],
         "y": [
          2003576145498.04,
          2091544955092.31,
          1961796197354.36,
          1875797463583.87,
          1835899237320.04,
          2159133919743.77,
          2141315327318.21,
          2087077032435.15,
          2291991045770.29,
          2134017843247.16,
          2191241872742.43,
          2398856598798.89,
          2210292636189.43,
          1947919708944.93,
          1857524312896.41,
          1803226967966.23,
          1574145823927.77,
          1270712309429.7,
          1167012796420.58,
          1143829832319.88
         ]
        }
       ],
       "layout": {
        "template": {
         "data": {
          "bar": [
           {
            "error_x": {
             "color": "#2a3f5f"
            },
            "error_y": {
             "color": "#2a3f5f"
            },
            "marker": {
             "line": {
              "color": "#E5ECF6",
              "width": 0.5
             }
            },
            "type": "bar"
           }
          ],
          "barpolar": [
           {
            "marker": {
             "line": {
              "color": "#E5ECF6",
              "width": 0.5
             }
            },
            "type": "barpolar"
           }
          ],
          "carpet": [
           {
            "aaxis": {
             "endlinecolor": "#2a3f5f",
             "gridcolor": "white",
             "linecolor": "white",
             "minorgridcolor": "white",
             "startlinecolor": "#2a3f5f"
            },
            "baxis": {
             "endlinecolor": "#2a3f5f",
             "gridcolor": "white",
             "linecolor": "white",
             "minorgridcolor": "white",
             "startlinecolor": "#2a3f5f"
            },
            "type": "carpet"
           }
          ],
          "choropleth": [
           {
            "colorbar": {
             "outlinewidth": 0,
             "ticks": ""
            },
            "type": "choropleth"
           }
          ],
          "contour": [
           {
            "colorbar": {
             "outlinewidth": 0,
             "ticks": ""
            },
            "colorscale": [
             [
              0,
              "#0d0887"
             ],
             [
              0.1111111111111111,
              "#46039f"
             ],
             [
              0.2222222222222222,
              "#7201a8"
             ],
             [
              0.3333333333333333,
              "#9c179e"
             ],
             [
              0.4444444444444444,
              "#bd3786"
             ],
             [
              0.5555555555555556,
              "#d8576b"
             ],
             [
              0.6666666666666666,
              "#ed7953"
             ],
             [
              0.7777777777777778,
              "#fb9f3a"
             ],
             [
              0.8888888888888888,
              "#fdca26"
             ],
             [
              1,
              "#f0f921"
             ]
            ],
            "type": "contour"
           }
          ],
          "contourcarpet": [
           {
            "colorbar": {
             "outlinewidth": 0,
             "ticks": ""
            },
            "type": "contourcarpet"
           }
          ],
          "heatmap": [
           {
            "colorbar": {
             "outlinewidth": 0,
             "ticks": ""
            },
            "colorscale": [
             [
              0,
              "#0d0887"
             ],
             [
              0.1111111111111111,
              "#46039f"
             ],
             [
              0.2222222222222222,
              "#7201a8"
             ],
             [
              0.3333333333333333,
              "#9c179e"
             ],
             [
              0.4444444444444444,
              "#bd3786"
             ],
             [
              0.5555555555555556,
              "#d8576b"
             ],
             [
              0.6666666666666666,
              "#ed7953"
             ],
             [
              0.7777777777777778,
              "#fb9f3a"
             ],
             [
              0.8888888888888888,
              "#fdca26"
             ],
             [
              1,
              "#f0f921"
             ]
            ],
            "type": "heatmap"
           }
          ],
          "heatmapgl": [
           {
            "colorbar": {
             "outlinewidth": 0,
             "ticks": ""
            },
            "colorscale": [
             [
              0,
              "#0d0887"
             ],
             [
              0.1111111111111111,
              "#46039f"
             ],
             [
              0.2222222222222222,
              "#7201a8"
             ],
             [
              0.3333333333333333,
              "#9c179e"
             ],
             [
              0.4444444444444444,
              "#bd3786"
             ],
             [
              0.5555555555555556,
              "#d8576b"
             ],
             [
              0.6666666666666666,
              "#ed7953"
             ],
             [
              0.7777777777777778,
              "#fb9f3a"
             ],
             [
              0.8888888888888888,
              "#fdca26"
             ],
             [
              1,
              "#f0f921"
             ]
            ],
            "type": "heatmapgl"
           }
          ],
          "histogram": [
           {
            "marker": {
             "colorbar": {
              "outlinewidth": 0,
              "ticks": ""
             }
            },
            "type": "histogram"
           }
          ],
          "histogram2d": [
           {
            "colorbar": {
             "outlinewidth": 0,
             "ticks": ""
            },
            "colorscale": [
             [
              0,
              "#0d0887"
             ],
             [
              0.1111111111111111,
              "#46039f"
             ],
             [
              0.2222222222222222,
              "#7201a8"
             ],
             [
              0.3333333333333333,
              "#9c179e"
             ],
             [
              0.4444444444444444,
              "#bd3786"
             ],
             [
              0.5555555555555556,
              "#d8576b"
             ],
             [
              0.6666666666666666,
              "#ed7953"
             ],
             [
              0.7777777777777778,
              "#fb9f3a"
             ],
             [
              0.8888888888888888,
              "#fdca26"
             ],
             [
              1,
              "#f0f921"
             ]
            ],
            "type": "histogram2d"
           }
          ],
          "histogram2dcontour": [
           {
            "colorbar": {
             "outlinewidth": 0,
             "ticks": ""
            },
            "colorscale": [
             [
              0,
              "#0d0887"
             ],
             [
              0.1111111111111111,
              "#46039f"
             ],
             [
              0.2222222222222222,
              "#7201a8"
             ],
             [
              0.3333333333333333,
              "#9c179e"
             ],
             [
              0.4444444444444444,
              "#bd3786"
             ],
             [
              0.5555555555555556,
              "#d8576b"
             ],
             [
              0.6666666666666666,
              "#ed7953"
             ],
             [
              0.7777777777777778,
              "#fb9f3a"
             ],
             [
              0.8888888888888888,
              "#fdca26"
             ],
             [
              1,
              "#f0f921"
             ]
            ],
            "type": "histogram2dcontour"
           }
          ],
          "mesh3d": [
           {
            "colorbar": {
             "outlinewidth": 0,
             "ticks": ""
            },
            "type": "mesh3d"
           }
          ],
          "parcoords": [
           {
            "line": {
             "colorbar": {
              "outlinewidth": 0,
              "ticks": ""
             }
            },
            "type": "parcoords"
           }
          ],
          "pie": [
           {
            "automargin": true,
            "type": "pie"
           }
          ],
          "scatter": [
           {
            "marker": {
             "colorbar": {
              "outlinewidth": 0,
              "ticks": ""
             }
            },
            "type": "scatter"
           }
          ],
          "scatter3d": [
           {
            "line": {
             "colorbar": {
              "outlinewidth": 0,
              "ticks": ""
             }
            },
            "marker": {
             "colorbar": {
              "outlinewidth": 0,
              "ticks": ""
             }
            },
            "type": "scatter3d"
           }
          ],
          "scattercarpet": [
           {
            "marker": {
             "colorbar": {
              "outlinewidth": 0,
              "ticks": ""
             }
            },
            "type": "scattercarpet"
           }
          ],
          "scattergeo": [
           {
            "marker": {
             "colorbar": {
              "outlinewidth": 0,
              "ticks": ""
             }
            },
            "type": "scattergeo"
           }
          ],
          "scattergl": [
           {
            "marker": {
             "colorbar": {
              "outlinewidth": 0,
              "ticks": ""
             }
            },
            "type": "scattergl"
           }
          ],
          "scattermapbox": [
           {
            "marker": {
             "colorbar": {
              "outlinewidth": 0,
              "ticks": ""
             }
            },
            "type": "scattermapbox"
           }
          ],
          "scatterpolar": [
           {
            "marker": {
             "colorbar": {
              "outlinewidth": 0,
              "ticks": ""
             }
            },
            "type": "scatterpolar"
           }
          ],
          "scatterpolargl": [
           {
            "marker": {
             "colorbar": {
              "outlinewidth": 0,
              "ticks": ""
             }
            },
            "type": "scatterpolargl"
           }
          ],
          "scatterternary": [
           {
            "marker": {
             "colorbar": {
              "outlinewidth": 0,
              "ticks": ""
             }
            },
            "type": "scatterternary"
           }
          ],
          "surface": [
           {
            "colorbar": {
             "outlinewidth": 0,
             "ticks": ""
            },
            "colorscale": [
             [
              0,
              "#0d0887"
             ],
             [
              0.1111111111111111,
              "#46039f"
             ],
             [
              0.2222222222222222,
              "#7201a8"
             ],
             [
              0.3333333333333333,
              "#9c179e"
             ],
             [
              0.4444444444444444,
              "#bd3786"
             ],
             [
              0.5555555555555556,
              "#d8576b"
             ],
             [
              0.6666666666666666,
              "#ed7953"
             ],
             [
              0.7777777777777778,
              "#fb9f3a"
             ],
             [
              0.8888888888888888,
              "#fdca26"
             ],
             [
              1,
              "#f0f921"
             ]
            ],
            "type": "surface"
           }
          ],
          "table": [
           {
            "cells": {
             "fill": {
              "color": "#EBF0F8"
             },
             "line": {
              "color": "white"
             }
            },
            "header": {
             "fill": {
              "color": "#C8D4E3"
             },
             "line": {
              "color": "white"
             }
            },
            "type": "table"
           }
          ]
         },
         "layout": {
          "annotationdefaults": {
           "arrowcolor": "#2a3f5f",
           "arrowhead": 0,
           "arrowwidth": 1
          },
          "autotypenumbers": "strict",
          "coloraxis": {
           "colorbar": {
            "outlinewidth": 0,
            "ticks": ""
           }
          },
          "colorscale": {
           "diverging": [
            [
             0,
             "#8e0152"
            ],
            [
             0.1,
             "#c51b7d"
            ],
            [
             0.2,
             "#de77ae"
            ],
            [
             0.3,
             "#f1b6da"
            ],
            [
             0.4,
             "#fde0ef"
            ],
            [
             0.5,
             "#f7f7f7"
            ],
            [
             0.6,
             "#e6f5d0"
            ],
            [
             0.7,
             "#b8e186"
            ],
            [
             0.8,
             "#7fbc41"
            ],
            [
             0.9,
             "#4d9221"
            ],
            [
             1,
             "#276419"
            ]
           ],
           "sequential": [
            [
             0,
             "#0d0887"
            ],
            [
             0.1111111111111111,
             "#46039f"
            ],
            [
             0.2222222222222222,
             "#7201a8"
            ],
            [
             0.3333333333333333,
             "#9c179e"
            ],
            [
             0.4444444444444444,
             "#bd3786"
            ],
            [
             0.5555555555555556,
             "#d8576b"
            ],
            [
             0.6666666666666666,
             "#ed7953"
            ],
            [
             0.7777777777777778,
             "#fb9f3a"
            ],
            [
             0.8888888888888888,
             "#fdca26"
            ],
            [
             1,
             "#f0f921"
            ]
           ],
           "sequentialminus": [
            [
             0,
             "#0d0887"
            ],
            [
             0.1111111111111111,
             "#46039f"
            ],
            [
             0.2222222222222222,
             "#7201a8"
            ],
            [
             0.3333333333333333,
             "#9c179e"
            ],
            [
             0.4444444444444444,
             "#bd3786"
            ],
            [
             0.5555555555555556,
             "#d8576b"
            ],
            [
             0.6666666666666666,
             "#ed7953"
            ],
            [
             0.7777777777777778,
             "#fb9f3a"
            ],
            [
             0.8888888888888888,
             "#fdca26"
            ],
            [
             1,
             "#f0f921"
            ]
           ]
          },
          "colorway": [
           "#636efa",
           "#EF553B",
           "#00cc96",
           "#ab63fa",
           "#FFA15A",
           "#19d3f3",
           "#FF6692",
           "#B6E880",
           "#FF97FF",
           "#FECB52"
          ],
          "font": {
           "color": "#2a3f5f"
          },
          "geo": {
           "bgcolor": "white",
           "lakecolor": "white",
           "landcolor": "#E5ECF6",
           "showlakes": true,
           "showland": true,
           "subunitcolor": "white"
          },
          "hoverlabel": {
           "align": "left"
          },
          "hovermode": "closest",
          "mapbox": {
           "style": "light"
          },
          "paper_bgcolor": "white",
          "plot_bgcolor": "#E5ECF6",
          "polar": {
           "angularaxis": {
            "gridcolor": "white",
            "linecolor": "white",
            "ticks": ""
           },
           "bgcolor": "#E5ECF6",
           "radialaxis": {
            "gridcolor": "white",
            "linecolor": "white",
            "ticks": ""
           }
          },
          "scene": {
           "xaxis": {
            "backgroundcolor": "#E5ECF6",
            "gridcolor": "white",
            "gridwidth": 2,
            "linecolor": "white",
            "showbackground": true,
            "ticks": "",
            "zerolinecolor": "white"
           },
           "yaxis": {
            "backgroundcolor": "#E5ECF6",
            "gridcolor": "white",
            "gridwidth": 2,
            "linecolor": "white",
            "showbackground": true,
            "ticks": "",
            "zerolinecolor": "white"
           },
           "zaxis": {
            "backgroundcolor": "#E5ECF6",
            "gridcolor": "white",
            "gridwidth": 2,
            "linecolor": "white",
            "showbackground": true,
            "ticks": "",
            "zerolinecolor": "white"
           }
          },
          "shapedefaults": {
           "line": {
            "color": "#2a3f5f"
           }
          },
          "ternary": {
           "aaxis": {
            "gridcolor": "white",
            "linecolor": "white",
            "ticks": ""
           },
           "baxis": {
            "gridcolor": "white",
            "linecolor": "white",
            "ticks": ""
           },
           "bgcolor": "#E5ECF6",
           "caxis": {
            "gridcolor": "white",
            "linecolor": "white",
            "ticks": ""
           }
          },
          "title": {
           "x": 0.05
          },
          "xaxis": {
           "automargin": true,
           "gridcolor": "white",
           "linecolor": "white",
           "ticks": "",
           "title": {
            "standoff": 15
           },
           "zerolinecolor": "white",
           "zerolinewidth": 2
          },
          "yaxis": {
           "automargin": true,
           "gridcolor": "white",
           "linecolor": "white",
           "ticks": "",
           "title": {
            "standoff": 15
           },
           "zerolinecolor": "white",
           "zerolinewidth": 2
          }
         }
        },
        "title": {
         "text": "Nominal GDP"
        },
        "xaxis": {
         "rangeslider": {
          "visible": true
         },
         "title": {
          "text": "Year"
         }
        },
        "yaxis": {
         "title": {
          "text": "in US$"
         }
        }
       }
      },
      "text/html": [
       "<div>                            <div id=\"1c0c278b-39ad-4666-8d55-3e8c43337556\" class=\"plotly-graph-div\" style=\"height:525px; width:100%;\"></div>            <script type=\"text/javascript\">                require([\"plotly\"], function(Plotly) {                    window.PLOTLYENV=window.PLOTLYENV || {};                                    if (document.getElementById(\"1c0c278b-39ad-4666-8d55-3e8c43337556\")) {                    Plotly.newPlot(                        \"1c0c278b-39ad-4666-8d55-3e8c43337556\",                        [{\"name\": \"Germany\", \"type\": \"scatter\", \"x\": [2019, 2018, 2017, 2016, 2015, 2014, 2013, 2012, 2011, 2010, 2009, 2008, 2007, 2006, 2005, 2004, 2003, 2002, 2001, 2000], \"y\": [3861123558039.21, 3963767526250.98, 3682602479929.42, 3467498002104.33, 3356235704119.75, 3883920155292.26, 3732743446218.92, 3527344944139.83, 3744408602683.94, 3396354075663.73, 3397791053070.3, 3730027830672.33, 3421229126745.14, 2992196713084.93, 2845802760850.64, 2809187981127.39, 2496128668171.56, 2068624129493.69, 1944107382550.34, 1943145384190.16]}, {\"name\": \"France\", \"type\": \"scatter\", \"x\": [2019, 2018, 2017, 2016, 2015, 2014, 2013, 2012, 2011, 2010, 2009, 2008, 2007, 2006, 2005, 2004, 2003, 2002, 2001, 2000], \"y\": [2715518274227.45, 2787863958885.49, 2595151045197.65, 2471285607081.72, 2438207896251.84, 2852165760630.27, 2811077725703.59, 2683825225092.63, 2861408170264.6, 2642609548930.36, 2690222283967.77, 2918382891460.38, 2657213249384.07, 2318593651988.46, 2196126103718.44, 2115742488204.62, 1840480812641.08, 1494286655373.61, 1376465324384.79, 1362248940482.77]}, {\"name\": \"Italy\", \"type\": \"scatter\", \"x\": [2019, 2018, 2017, 2016, 2015, 2014, 2013, 2012, 2011, 2010, 2009, 2008, 2007, 2006, 2005, 2004, 2003, 2002, 2001, 2000], \"y\": [2003576145498.04, 2091544955092.31, 1961796197354.36, 1875797463583.87, 1835899237320.04, 2159133919743.77, 2141315327318.21, 2087077032435.15, 2291991045770.29, 2134017843247.16, 2191241872742.43, 2398856598798.89, 2210292636189.43, 1947919708944.93, 1857524312896.41, 1803226967966.23, 1574145823927.77, 1270712309429.7, 1167012796420.58, 1143829832319.88]}],                        {\"template\": {\"data\": {\"bar\": [{\"error_x\": {\"color\": \"#2a3f5f\"}, \"error_y\": {\"color\": \"#2a3f5f\"}, \"marker\": {\"line\": {\"color\": \"#E5ECF6\", \"width\": 0.5}}, \"type\": \"bar\"}], \"barpolar\": [{\"marker\": {\"line\": {\"color\": \"#E5ECF6\", \"width\": 0.5}}, \"type\": \"barpolar\"}], \"carpet\": [{\"aaxis\": {\"endlinecolor\": \"#2a3f5f\", \"gridcolor\": \"white\", \"linecolor\": \"white\", \"minorgridcolor\": \"white\", \"startlinecolor\": \"#2a3f5f\"}, \"baxis\": {\"endlinecolor\": \"#2a3f5f\", \"gridcolor\": \"white\", \"linecolor\": \"white\", \"minorgridcolor\": \"white\", \"startlinecolor\": \"#2a3f5f\"}, \"type\": \"carpet\"}], \"choropleth\": [{\"colorbar\": {\"outlinewidth\": 0, \"ticks\": \"\"}, \"type\": \"choropleth\"}], \"contour\": [{\"colorbar\": {\"outlinewidth\": 0, \"ticks\": \"\"}, \"colorscale\": [[0.0, \"#0d0887\"], [0.1111111111111111, \"#46039f\"], [0.2222222222222222, \"#7201a8\"], [0.3333333333333333, \"#9c179e\"], [0.4444444444444444, \"#bd3786\"], [0.5555555555555556, \"#d8576b\"], [0.6666666666666666, \"#ed7953\"], [0.7777777777777778, \"#fb9f3a\"], [0.8888888888888888, \"#fdca26\"], [1.0, \"#f0f921\"]], \"type\": \"contour\"}], \"contourcarpet\": [{\"colorbar\": {\"outlinewidth\": 0, \"ticks\": \"\"}, \"type\": \"contourcarpet\"}], \"heatmap\": [{\"colorbar\": {\"outlinewidth\": 0, \"ticks\": \"\"}, \"colorscale\": [[0.0, \"#0d0887\"], [0.1111111111111111, \"#46039f\"], [0.2222222222222222, \"#7201a8\"], [0.3333333333333333, \"#9c179e\"], [0.4444444444444444, \"#bd3786\"], [0.5555555555555556, \"#d8576b\"], [0.6666666666666666, \"#ed7953\"], [0.7777777777777778, \"#fb9f3a\"], [0.8888888888888888, \"#fdca26\"], [1.0, \"#f0f921\"]], \"type\": \"heatmap\"}], \"heatmapgl\": [{\"colorbar\": {\"outlinewidth\": 0, \"ticks\": \"\"}, \"colorscale\": [[0.0, \"#0d0887\"], [0.1111111111111111, \"#46039f\"], [0.2222222222222222, \"#7201a8\"], [0.3333333333333333, \"#9c179e\"], [0.4444444444444444, \"#bd3786\"], [0.5555555555555556, \"#d8576b\"], [0.6666666666666666, \"#ed7953\"], [0.7777777777777778, \"#fb9f3a\"], [0.8888888888888888, \"#fdca26\"], [1.0, \"#f0f921\"]], \"type\": \"heatmapgl\"}], \"histogram\": [{\"marker\": {\"colorbar\": {\"outlinewidth\": 0, \"ticks\": \"\"}}, \"type\": \"histogram\"}], \"histogram2d\": [{\"colorbar\": {\"outlinewidth\": 0, \"ticks\": \"\"}, \"colorscale\": [[0.0, \"#0d0887\"], [0.1111111111111111, \"#46039f\"], [0.2222222222222222, \"#7201a8\"], [0.3333333333333333, \"#9c179e\"], [0.4444444444444444, \"#bd3786\"], [0.5555555555555556, \"#d8576b\"], [0.6666666666666666, \"#ed7953\"], [0.7777777777777778, \"#fb9f3a\"], [0.8888888888888888, \"#fdca26\"], [1.0, \"#f0f921\"]], \"type\": \"histogram2d\"}], \"histogram2dcontour\": [{\"colorbar\": {\"outlinewidth\": 0, \"ticks\": \"\"}, \"colorscale\": [[0.0, \"#0d0887\"], [0.1111111111111111, \"#46039f\"], [0.2222222222222222, \"#7201a8\"], [0.3333333333333333, \"#9c179e\"], [0.4444444444444444, \"#bd3786\"], [0.5555555555555556, \"#d8576b\"], [0.6666666666666666, \"#ed7953\"], [0.7777777777777778, \"#fb9f3a\"], [0.8888888888888888, \"#fdca26\"], [1.0, \"#f0f921\"]], \"type\": \"histogram2dcontour\"}], \"mesh3d\": [{\"colorbar\": {\"outlinewidth\": 0, \"ticks\": \"\"}, \"type\": \"mesh3d\"}], \"parcoords\": [{\"line\": {\"colorbar\": {\"outlinewidth\": 0, \"ticks\": \"\"}}, \"type\": \"parcoords\"}], \"pie\": [{\"automargin\": true, \"type\": \"pie\"}], \"scatter\": [{\"marker\": {\"colorbar\": {\"outlinewidth\": 0, \"ticks\": \"\"}}, \"type\": \"scatter\"}], \"scatter3d\": [{\"line\": {\"colorbar\": {\"outlinewidth\": 0, \"ticks\": \"\"}}, \"marker\": {\"colorbar\": {\"outlinewidth\": 0, \"ticks\": \"\"}}, \"type\": \"scatter3d\"}], \"scattercarpet\": [{\"marker\": {\"colorbar\": {\"outlinewidth\": 0, \"ticks\": \"\"}}, \"type\": \"scattercarpet\"}], \"scattergeo\": [{\"marker\": {\"colorbar\": {\"outlinewidth\": 0, \"ticks\": \"\"}}, \"type\": \"scattergeo\"}], \"scattergl\": [{\"marker\": {\"colorbar\": {\"outlinewidth\": 0, \"ticks\": \"\"}}, \"type\": \"scattergl\"}], \"scattermapbox\": [{\"marker\": {\"colorbar\": {\"outlinewidth\": 0, \"ticks\": \"\"}}, \"type\": \"scattermapbox\"}], \"scatterpolar\": [{\"marker\": {\"colorbar\": {\"outlinewidth\": 0, \"ticks\": \"\"}}, \"type\": \"scatterpolar\"}], \"scatterpolargl\": [{\"marker\": {\"colorbar\": {\"outlinewidth\": 0, \"ticks\": \"\"}}, \"type\": \"scatterpolargl\"}], \"scatterternary\": [{\"marker\": {\"colorbar\": {\"outlinewidth\": 0, \"ticks\": \"\"}}, \"type\": \"scatterternary\"}], \"surface\": [{\"colorbar\": {\"outlinewidth\": 0, \"ticks\": \"\"}, \"colorscale\": [[0.0, \"#0d0887\"], [0.1111111111111111, \"#46039f\"], [0.2222222222222222, \"#7201a8\"], [0.3333333333333333, \"#9c179e\"], [0.4444444444444444, \"#bd3786\"], [0.5555555555555556, \"#d8576b\"], [0.6666666666666666, \"#ed7953\"], [0.7777777777777778, \"#fb9f3a\"], [0.8888888888888888, \"#fdca26\"], [1.0, \"#f0f921\"]], \"type\": \"surface\"}], \"table\": [{\"cells\": {\"fill\": {\"color\": \"#EBF0F8\"}, \"line\": {\"color\": \"white\"}}, \"header\": {\"fill\": {\"color\": \"#C8D4E3\"}, \"line\": {\"color\": \"white\"}}, \"type\": \"table\"}]}, \"layout\": {\"annotationdefaults\": {\"arrowcolor\": \"#2a3f5f\", \"arrowhead\": 0, \"arrowwidth\": 1}, \"autotypenumbers\": \"strict\", \"coloraxis\": {\"colorbar\": {\"outlinewidth\": 0, \"ticks\": \"\"}}, \"colorscale\": {\"diverging\": [[0, \"#8e0152\"], [0.1, \"#c51b7d\"], [0.2, \"#de77ae\"], [0.3, \"#f1b6da\"], [0.4, \"#fde0ef\"], [0.5, \"#f7f7f7\"], [0.6, \"#e6f5d0\"], [0.7, \"#b8e186\"], [0.8, \"#7fbc41\"], [0.9, \"#4d9221\"], [1, \"#276419\"]], \"sequential\": [[0.0, \"#0d0887\"], [0.1111111111111111, \"#46039f\"], [0.2222222222222222, \"#7201a8\"], [0.3333333333333333, \"#9c179e\"], [0.4444444444444444, \"#bd3786\"], [0.5555555555555556, \"#d8576b\"], [0.6666666666666666, \"#ed7953\"], [0.7777777777777778, \"#fb9f3a\"], [0.8888888888888888, \"#fdca26\"], [1.0, \"#f0f921\"]], \"sequentialminus\": [[0.0, \"#0d0887\"], [0.1111111111111111, \"#46039f\"], [0.2222222222222222, \"#7201a8\"], [0.3333333333333333, \"#9c179e\"], [0.4444444444444444, \"#bd3786\"], [0.5555555555555556, \"#d8576b\"], [0.6666666666666666, \"#ed7953\"], [0.7777777777777778, \"#fb9f3a\"], [0.8888888888888888, \"#fdca26\"], [1.0, \"#f0f921\"]]}, \"colorway\": [\"#636efa\", \"#EF553B\", \"#00cc96\", \"#ab63fa\", \"#FFA15A\", \"#19d3f3\", \"#FF6692\", \"#B6E880\", \"#FF97FF\", \"#FECB52\"], \"font\": {\"color\": \"#2a3f5f\"}, \"geo\": {\"bgcolor\": \"white\", \"lakecolor\": \"white\", \"landcolor\": \"#E5ECF6\", \"showlakes\": true, \"showland\": true, \"subunitcolor\": \"white\"}, \"hoverlabel\": {\"align\": \"left\"}, \"hovermode\": \"closest\", \"mapbox\": {\"style\": \"light\"}, \"paper_bgcolor\": \"white\", \"plot_bgcolor\": \"#E5ECF6\", \"polar\": {\"angularaxis\": {\"gridcolor\": \"white\", \"linecolor\": \"white\", \"ticks\": \"\"}, \"bgcolor\": \"#E5ECF6\", \"radialaxis\": {\"gridcolor\": \"white\", \"linecolor\": \"white\", \"ticks\": \"\"}}, \"scene\": {\"xaxis\": {\"backgroundcolor\": \"#E5ECF6\", \"gridcolor\": \"white\", \"gridwidth\": 2, \"linecolor\": \"white\", \"showbackground\": true, \"ticks\": \"\", \"zerolinecolor\": \"white\"}, \"yaxis\": {\"backgroundcolor\": \"#E5ECF6\", \"gridcolor\": \"white\", \"gridwidth\": 2, \"linecolor\": \"white\", \"showbackground\": true, \"ticks\": \"\", \"zerolinecolor\": \"white\"}, \"zaxis\": {\"backgroundcolor\": \"#E5ECF6\", \"gridcolor\": \"white\", \"gridwidth\": 2, \"linecolor\": \"white\", \"showbackground\": true, \"ticks\": \"\", \"zerolinecolor\": \"white\"}}, \"shapedefaults\": {\"line\": {\"color\": \"#2a3f5f\"}}, \"ternary\": {\"aaxis\": {\"gridcolor\": \"white\", \"linecolor\": \"white\", \"ticks\": \"\"}, \"baxis\": {\"gridcolor\": \"white\", \"linecolor\": \"white\", \"ticks\": \"\"}, \"bgcolor\": \"#E5ECF6\", \"caxis\": {\"gridcolor\": \"white\", \"linecolor\": \"white\", \"ticks\": \"\"}}, \"title\": {\"x\": 0.05}, \"xaxis\": {\"automargin\": true, \"gridcolor\": \"white\", \"linecolor\": \"white\", \"ticks\": \"\", \"title\": {\"standoff\": 15}, \"zerolinecolor\": \"white\", \"zerolinewidth\": 2}, \"yaxis\": {\"automargin\": true, \"gridcolor\": \"white\", \"linecolor\": \"white\", \"ticks\": \"\", \"title\": {\"standoff\": 15}, \"zerolinecolor\": \"white\", \"zerolinewidth\": 2}}}, \"title\": {\"text\": \"Nominal GDP\"}, \"xaxis\": {\"rangeslider\": {\"visible\": true}, \"title\": {\"text\": \"Year\"}}, \"yaxis\": {\"title\": {\"text\": \"in US$\"}}},                        {\"responsive\": true}                    ).then(function(){\n",
       "                            \n",
       "var gd = document.getElementById('1c0c278b-39ad-4666-8d55-3e8c43337556');\n",
       "var x = new MutationObserver(function (mutations, observer) {{\n",
       "        var display = window.getComputedStyle(gd).display;\n",
       "        if (!display || display === 'none') {{\n",
       "            console.log([gd, 'removed!']);\n",
       "            Plotly.purge(gd);\n",
       "            observer.disconnect();\n",
       "        }}\n",
       "}});\n",
       "\n",
       "// Listen for the removal of the full notebook cells\n",
       "var notebookContainer = gd.closest('#notebook-container');\n",
       "if (notebookContainer) {{\n",
       "    x.observe(notebookContainer, {childList: true});\n",
       "}}\n",
       "\n",
       "// Listen for the clearing of the current output cell\n",
       "var outputEl = gd.closest('.output');\n",
       "if (outputEl) {{\n",
       "    x.observe(outputEl, {childList: true});\n",
       "}}\n",
       "\n",
       "                        })                };                });            </script>        </div>"
      ]
     },
     "metadata": {},
     "output_type": "display_data"
    }
   ],
   "source": [
    "traces = []\n",
    "\n",
    "for country in df2['country'].unique():\n",
    "    \n",
    "    trace = go.Scatter(name = country, x = df2[df2['country'] == country]['year'],\n",
    "                      y = df2[df2['country'] == country]['gdp'])\n",
    "    \n",
    "    traces.append(trace)\n",
    "    \n",
    "fig = go.Figure(data = traces)\n",
    "\n",
    "fig.layout.update(title=go.layout.Title(\n",
    "\n",
    "    text = 'Nominal GDP'\n",
    "\n",
    "))\n",
    "\n",
    "fig.layout.update(yaxis= go.layout.YAxis(title=go.layout.yaxis.Title(\n",
    "                        text='in US$')));\n",
    "\n",
    "fig.layout.update(xaxis = go.layout.XAxis(title = go.layout.xaxis.Title(text = 'Year'), rangeslider = dict(visible = True)));\n",
    "\n",
    "iplot(fig, filename = 'Nominal_GDP')"
   ]
  },
  {
   "cell_type": "markdown",
   "id": "db659726",
   "metadata": {},
   "source": [
    "## Directly parsing `table` objects from HTML"
   ]
  },
  {
   "cell_type": "code",
   "execution_count": 79,
   "id": "23f036fd",
   "metadata": {},
   "outputs": [],
   "source": [
    "ranking = pd.read_html('https://www.worldcubeassociation.org/results/rankings/333/single', encoding='utf-8')"
   ]
  },
  {
   "cell_type": "code",
   "execution_count": 80,
   "id": "cb241497",
   "metadata": {},
   "outputs": [
    {
     "data": {
      "text/html": [
       "<div>\n",
       "<style scoped>\n",
       "    .dataframe tbody tr th:only-of-type {\n",
       "        vertical-align: middle;\n",
       "    }\n",
       "\n",
       "    .dataframe tbody tr th {\n",
       "        vertical-align: top;\n",
       "    }\n",
       "\n",
       "    .dataframe thead th {\n",
       "        text-align: right;\n",
       "    }\n",
       "</style>\n",
       "<table border=\"1\" class=\"dataframe\">\n",
       "  <thead>\n",
       "    <tr style=\"text-align: right;\">\n",
       "      <th></th>\n",
       "      <th>#</th>\n",
       "      <th>Name</th>\n",
       "      <th>Result</th>\n",
       "      <th>Citizen of</th>\n",
       "      <th>Competition</th>\n",
       "      <th>Unnamed: 5</th>\n",
       "    </tr>\n",
       "  </thead>\n",
       "  <tbody>\n",
       "    <tr>\n",
       "      <th>0</th>\n",
       "      <td>1</td>\n",
       "      <td>Yusheng Du (杜宇生)</td>\n",
       "      <td>3.47</td>\n",
       "      <td>China</td>\n",
       "      <td>Wuhu Open 2018</td>\n",
       "      <td>NaN</td>\n",
       "    </tr>\n",
       "    <tr>\n",
       "      <th>1</th>\n",
       "      <td>2</td>\n",
       "      <td>Feliks Zemdegs</td>\n",
       "      <td>4.16</td>\n",
       "      <td>Australia</td>\n",
       "      <td>Auckland Summer Open 2020</td>\n",
       "      <td>NaN</td>\n",
       "    </tr>\n",
       "    <tr>\n",
       "      <th>2</th>\n",
       "      <td>3</td>\n",
       "      <td>Patrick Ponce</td>\n",
       "      <td>4.24</td>\n",
       "      <td>United States</td>\n",
       "      <td>Northeast Championship 2019</td>\n",
       "      <td>NaN</td>\n",
       "    </tr>\n",
       "    <tr>\n",
       "      <th>3</th>\n",
       "      <td>4</td>\n",
       "      <td>Nicolás Sánchez</td>\n",
       "      <td>4.38</td>\n",
       "      <td>United States</td>\n",
       "      <td>GA Cubers Feet Fest 2019</td>\n",
       "      <td>NaN</td>\n",
       "    </tr>\n",
       "    <tr>\n",
       "      <th>4</th>\n",
       "      <td>5</td>\n",
       "      <td>Max Park</td>\n",
       "      <td>4.40</td>\n",
       "      <td>United States</td>\n",
       "      <td>SacCubing V 2018</td>\n",
       "      <td>NaN</td>\n",
       "    </tr>\n",
       "  </tbody>\n",
       "</table>\n",
       "</div>"
      ],
      "text/plain": [
       "   #              Name  Result     Citizen of                  Competition  \\\n",
       "0  1  Yusheng Du (杜宇生)    3.47          China               Wuhu Open 2018   \n",
       "1  2    Feliks Zemdegs    4.16      Australia    Auckland Summer Open 2020   \n",
       "2  3     Patrick Ponce    4.24  United States  Northeast Championship 2019   \n",
       "3  4   Nicolás Sánchez    4.38  United States     GA Cubers Feet Fest 2019   \n",
       "4  5          Max Park    4.40  United States             SacCubing V 2018   \n",
       "\n",
       "   Unnamed: 5  \n",
       "0         NaN  \n",
       "1         NaN  \n",
       "2         NaN  \n",
       "3         NaN  \n",
       "4         NaN  "
      ]
     },
     "execution_count": 80,
     "metadata": {},
     "output_type": "execute_result"
    }
   ],
   "source": [
    "ranking[0].head()"
   ]
  },
  {
   "cell_type": "markdown",
   "id": "4f36c7d8",
   "metadata": {},
   "source": [
    "Which nationality appears most frequently in the World Cube Association's ranking?"
   ]
  },
  {
   "cell_type": "code",
   "execution_count": 81,
   "id": "0ff69671",
   "metadata": {},
   "outputs": [
    {
     "data": {
      "text/html": [
       "<div>\n",
       "<style scoped>\n",
       "    .dataframe tbody tr th:only-of-type {\n",
       "        vertical-align: middle;\n",
       "    }\n",
       "\n",
       "    .dataframe tbody tr th {\n",
       "        vertical-align: top;\n",
       "    }\n",
       "\n",
       "    .dataframe thead th {\n",
       "        text-align: right;\n",
       "    }\n",
       "</style>\n",
       "<table border=\"1\" class=\"dataframe\">\n",
       "  <thead>\n",
       "    <tr style=\"text-align: right;\">\n",
       "      <th></th>\n",
       "      <th>#</th>\n",
       "      <th>Name</th>\n",
       "      <th>Result</th>\n",
       "      <th>Competition</th>\n",
       "      <th>Unnamed: 5</th>\n",
       "    </tr>\n",
       "    <tr>\n",
       "      <th>Citizen of</th>\n",
       "      <th></th>\n",
       "      <th></th>\n",
       "      <th></th>\n",
       "      <th></th>\n",
       "      <th></th>\n",
       "    </tr>\n",
       "  </thead>\n",
       "  <tbody>\n",
       "    <tr>\n",
       "      <th>Argentina</th>\n",
       "      <td>1</td>\n",
       "      <td>1</td>\n",
       "      <td>1</td>\n",
       "      <td>1</td>\n",
       "      <td>0</td>\n",
       "    </tr>\n",
       "    <tr>\n",
       "      <th>Australia</th>\n",
       "      <td>4</td>\n",
       "      <td>4</td>\n",
       "      <td>4</td>\n",
       "      <td>4</td>\n",
       "      <td>0</td>\n",
       "    </tr>\n",
       "    <tr>\n",
       "      <th>Canada</th>\n",
       "      <td>4</td>\n",
       "      <td>4</td>\n",
       "      <td>4</td>\n",
       "      <td>4</td>\n",
       "      <td>0</td>\n",
       "    </tr>\n",
       "    <tr>\n",
       "      <th>China</th>\n",
       "      <td>11</td>\n",
       "      <td>11</td>\n",
       "      <td>11</td>\n",
       "      <td>11</td>\n",
       "      <td>0</td>\n",
       "    </tr>\n",
       "    <tr>\n",
       "      <th>Czech Republic</th>\n",
       "      <td>1</td>\n",
       "      <td>1</td>\n",
       "      <td>1</td>\n",
       "      <td>1</td>\n",
       "      <td>0</td>\n",
       "    </tr>\n",
       "    <tr>\n",
       "      <th>Denmark</th>\n",
       "      <td>2</td>\n",
       "      <td>2</td>\n",
       "      <td>2</td>\n",
       "      <td>2</td>\n",
       "      <td>0</td>\n",
       "    </tr>\n",
       "    <tr>\n",
       "      <th>Finland</th>\n",
       "      <td>1</td>\n",
       "      <td>1</td>\n",
       "      <td>1</td>\n",
       "      <td>1</td>\n",
       "      <td>0</td>\n",
       "    </tr>\n",
       "    <tr>\n",
       "      <th>France</th>\n",
       "      <td>4</td>\n",
       "      <td>4</td>\n",
       "      <td>4</td>\n",
       "      <td>4</td>\n",
       "      <td>0</td>\n",
       "    </tr>\n",
       "    <tr>\n",
       "      <th>Germany</th>\n",
       "      <td>5</td>\n",
       "      <td>5</td>\n",
       "      <td>5</td>\n",
       "      <td>5</td>\n",
       "      <td>0</td>\n",
       "    </tr>\n",
       "    <tr>\n",
       "      <th>Greece</th>\n",
       "      <td>2</td>\n",
       "      <td>2</td>\n",
       "      <td>2</td>\n",
       "      <td>2</td>\n",
       "      <td>0</td>\n",
       "    </tr>\n",
       "    <tr>\n",
       "      <th>Hong Kong</th>\n",
       "      <td>1</td>\n",
       "      <td>1</td>\n",
       "      <td>1</td>\n",
       "      <td>1</td>\n",
       "      <td>0</td>\n",
       "    </tr>\n",
       "    <tr>\n",
       "      <th>India</th>\n",
       "      <td>1</td>\n",
       "      <td>1</td>\n",
       "      <td>1</td>\n",
       "      <td>1</td>\n",
       "      <td>0</td>\n",
       "    </tr>\n",
       "    <tr>\n",
       "      <th>Indonesia</th>\n",
       "      <td>1</td>\n",
       "      <td>1</td>\n",
       "      <td>1</td>\n",
       "      <td>1</td>\n",
       "      <td>0</td>\n",
       "    </tr>\n",
       "    <tr>\n",
       "      <th>Japan</th>\n",
       "      <td>1</td>\n",
       "      <td>1</td>\n",
       "      <td>1</td>\n",
       "      <td>1</td>\n",
       "      <td>0</td>\n",
       "    </tr>\n",
       "    <tr>\n",
       "      <th>Malaysia</th>\n",
       "      <td>1</td>\n",
       "      <td>1</td>\n",
       "      <td>1</td>\n",
       "      <td>1</td>\n",
       "      <td>0</td>\n",
       "    </tr>\n",
       "    <tr>\n",
       "      <th>Mongolia</th>\n",
       "      <td>1</td>\n",
       "      <td>1</td>\n",
       "      <td>1</td>\n",
       "      <td>1</td>\n",
       "      <td>0</td>\n",
       "    </tr>\n",
       "    <tr>\n",
       "      <th>Netherlands</th>\n",
       "      <td>1</td>\n",
       "      <td>1</td>\n",
       "      <td>1</td>\n",
       "      <td>1</td>\n",
       "      <td>0</td>\n",
       "    </tr>\n",
       "    <tr>\n",
       "      <th>Norway</th>\n",
       "      <td>1</td>\n",
       "      <td>1</td>\n",
       "      <td>1</td>\n",
       "      <td>1</td>\n",
       "      <td>0</td>\n",
       "    </tr>\n",
       "    <tr>\n",
       "      <th>Peru</th>\n",
       "      <td>1</td>\n",
       "      <td>1</td>\n",
       "      <td>1</td>\n",
       "      <td>1</td>\n",
       "      <td>0</td>\n",
       "    </tr>\n",
       "    <tr>\n",
       "      <th>Philippines</th>\n",
       "      <td>4</td>\n",
       "      <td>4</td>\n",
       "      <td>4</td>\n",
       "      <td>4</td>\n",
       "      <td>0</td>\n",
       "    </tr>\n",
       "    <tr>\n",
       "      <th>Poland</th>\n",
       "      <td>3</td>\n",
       "      <td>3</td>\n",
       "      <td>3</td>\n",
       "      <td>3</td>\n",
       "      <td>0</td>\n",
       "    </tr>\n",
       "    <tr>\n",
       "      <th>Republic of Korea</th>\n",
       "      <td>5</td>\n",
       "      <td>5</td>\n",
       "      <td>5</td>\n",
       "      <td>5</td>\n",
       "      <td>0</td>\n",
       "    </tr>\n",
       "    <tr>\n",
       "      <th>Russia</th>\n",
       "      <td>2</td>\n",
       "      <td>2</td>\n",
       "      <td>2</td>\n",
       "      <td>2</td>\n",
       "      <td>0</td>\n",
       "    </tr>\n",
       "    <tr>\n",
       "      <th>Singapore</th>\n",
       "      <td>1</td>\n",
       "      <td>1</td>\n",
       "      <td>1</td>\n",
       "      <td>1</td>\n",
       "      <td>0</td>\n",
       "    </tr>\n",
       "    <tr>\n",
       "      <th>Spain</th>\n",
       "      <td>3</td>\n",
       "      <td>3</td>\n",
       "      <td>3</td>\n",
       "      <td>3</td>\n",
       "      <td>0</td>\n",
       "    </tr>\n",
       "    <tr>\n",
       "      <th>Sweden</th>\n",
       "      <td>1</td>\n",
       "      <td>1</td>\n",
       "      <td>1</td>\n",
       "      <td>1</td>\n",
       "      <td>0</td>\n",
       "    </tr>\n",
       "    <tr>\n",
       "      <th>Taiwan</th>\n",
       "      <td>2</td>\n",
       "      <td>2</td>\n",
       "      <td>2</td>\n",
       "      <td>2</td>\n",
       "      <td>0</td>\n",
       "    </tr>\n",
       "    <tr>\n",
       "      <th>Thailand</th>\n",
       "      <td>2</td>\n",
       "      <td>2</td>\n",
       "      <td>2</td>\n",
       "      <td>2</td>\n",
       "      <td>0</td>\n",
       "    </tr>\n",
       "    <tr>\n",
       "      <th>Ukraine</th>\n",
       "      <td>1</td>\n",
       "      <td>1</td>\n",
       "      <td>1</td>\n",
       "      <td>1</td>\n",
       "      <td>0</td>\n",
       "    </tr>\n",
       "    <tr>\n",
       "      <th>United Kingdom</th>\n",
       "      <td>1</td>\n",
       "      <td>1</td>\n",
       "      <td>1</td>\n",
       "      <td>1</td>\n",
       "      <td>0</td>\n",
       "    </tr>\n",
       "    <tr>\n",
       "      <th>United States</th>\n",
       "      <td>31</td>\n",
       "      <td>31</td>\n",
       "      <td>31</td>\n",
       "      <td>31</td>\n",
       "      <td>0</td>\n",
       "    </tr>\n",
       "  </tbody>\n",
       "</table>\n",
       "</div>"
      ],
      "text/plain": [
       "                    #  Name  Result  Competition  Unnamed: 5\n",
       "Citizen of                                                  \n",
       "Argentina           1     1       1            1           0\n",
       "Australia           4     4       4            4           0\n",
       "Canada              4     4       4            4           0\n",
       "China              11    11      11           11           0\n",
       "Czech Republic      1     1       1            1           0\n",
       "Denmark             2     2       2            2           0\n",
       "Finland             1     1       1            1           0\n",
       "France              4     4       4            4           0\n",
       "Germany             5     5       5            5           0\n",
       "Greece              2     2       2            2           0\n",
       "Hong Kong           1     1       1            1           0\n",
       "India               1     1       1            1           0\n",
       "Indonesia           1     1       1            1           0\n",
       "Japan               1     1       1            1           0\n",
       "Malaysia            1     1       1            1           0\n",
       "Mongolia            1     1       1            1           0\n",
       "Netherlands         1     1       1            1           0\n",
       "Norway              1     1       1            1           0\n",
       "Peru                1     1       1            1           0\n",
       "Philippines         4     4       4            4           0\n",
       "Poland              3     3       3            3           0\n",
       "Republic of Korea   5     5       5            5           0\n",
       "Russia              2     2       2            2           0\n",
       "Singapore           1     1       1            1           0\n",
       "Spain               3     3       3            3           0\n",
       "Sweden              1     1       1            1           0\n",
       "Taiwan              2     2       2            2           0\n",
       "Thailand            2     2       2            2           0\n",
       "Ukraine             1     1       1            1           0\n",
       "United Kingdom      1     1       1            1           0\n",
       "United States      31    31      31           31           0"
      ]
     },
     "execution_count": 81,
     "metadata": {},
     "output_type": "execute_result"
    }
   ],
   "source": [
    "ranking[0].groupby('Citizen of').count()"
   ]
  },
  {
   "cell_type": "markdown",
   "id": "ef0feec9",
   "metadata": {},
   "source": [
    "Which nationality needed, on average, the **lowest** amount of time to solve a 3x3x3 cube? Sort the output in ascending order."
   ]
  },
  {
   "cell_type": "code",
   "execution_count": 82,
   "id": "8ee8ebd6",
   "metadata": {},
   "outputs": [
    {
     "data": {
      "text/plain": [
       "Citizen of\n",
       "Poland               4.740000\n",
       "Netherlands          4.740000\n",
       "Finland              4.800000\n",
       "Japan                4.800000\n",
       "Mongolia             4.840000\n",
       "Republic of Korea    4.878000\n",
       "Australia            4.895000\n",
       "India                4.910000\n",
       "Germany              4.940000\n",
       "France               4.940000\n",
       "Czech Republic       4.970000\n",
       "United Kingdom       5.000000\n",
       "China                5.010000\n",
       "Malaysia             5.020000\n",
       "Denmark              5.045000\n",
       "Philippines          5.077500\n",
       "United States        5.118065\n",
       "Canada               5.172500\n",
       "Greece               5.220000\n",
       "Ukraine              5.340000\n",
       "Taiwan               5.345000\n",
       "Spain                5.373333\n",
       "Russia               5.405000\n",
       "Indonesia            5.470000\n",
       "Singapore            5.500000\n",
       "Argentina            5.500000\n",
       "Thailand             5.505000\n",
       "Peru                 5.520000\n",
       "Hong Kong            5.520000\n",
       "Sweden               5.520000\n",
       "Norway               5.540000\n",
       "Name: Result, dtype: float64"
      ]
     },
     "execution_count": 82,
     "metadata": {},
     "output_type": "execute_result"
    }
   ],
   "source": [
    "ranking[0].groupby('Citizen of').mean()['Result'].sort_values(ascending = True)"
   ]
  },
  {
   "cell_type": "markdown",
   "id": "89b05d4e",
   "metadata": {},
   "source": [
    "How many possible states/permutations, starting from the solved state, can a 3x3x3 Rubik's cube have? \n",
    "\n",
    "Hints:\n",
    "1. The centre squares are fixed (a plane rotation around these squares doesn't change the cube's state)\n",
    "2. There are eight corner pieces (with three colors on the side) and twelve edge pieces (with two colors on the side) which all revolve around the centre pieces\n",
    "3. There are six different colors\n",
    "4. We only look at \"legal\" states, i.e. those that can only be realised without assembling the cube (and therefore not violating Hint 1)"
   ]
  },
  {
   "cell_type": "code",
   "execution_count": 35,
   "id": "6a151c50",
   "metadata": {},
   "outputs": [
    {
     "name": "stdout",
     "output_type": "stream",
     "text": [
      "4.325200327448986e+19 or about 43.2 quintillion combinations!\n"
     ]
    }
   ],
   "source": [
    "import math\n",
    "\n",
    "answer = (math.factorial(8) * 3**8) * 1/3 * (math.factorial(12) * 2**12) * 1/2 * 1/2\n",
    "\n",
    "# [(corner pieces) * fraction of admissible corner combinations (clock-wise and anti-clockwise twists cancel each other out, \n",
    "# hence 3**7 / 3**8 = 1/3)] \n",
    "# * [(edge pieces) * fraction of admissible edge combinations (clock-wise and anti-clockwise twists cancel each other out, \n",
    "# hence 2**11 / 2**12 = 1/2)]\n",
    "# * [1/2 (only half of the corner and edge states can be reached as corner and edge states must both coincide in the number\n",
    "# i.e. even or odd of turns taken to reach either position)]\n",
    "\n",
    "print(str(answer) + \" or about 43.2 quintillion combinations!\")"
   ]
  },
  {
   "cell_type": "markdown",
   "id": "fb5cb0c7",
   "metadata": {},
   "source": [
    "Which result entry in the World Ranking table is the most recent one? Which one is the oldest one? Be as precise as possible! (Hint: You may have to combine your knowledge from scraping HTML files.)"
   ]
  },
  {
   "cell_type": "code",
   "execution_count": null,
   "id": "88da521b",
   "metadata": {},
   "outputs": [],
   "source": []
  },
  {
   "cell_type": "markdown",
   "id": "b1cc5c57",
   "metadata": {},
   "source": [
    "Compute the expected value of `Result` conditional on `Nationality = 'Germany'`. Are the German contestants statistically significantly faster/slower in solving the cube than other contestants, based on `Nationality`? Does statistical significance change if you use robust standard errors?"
   ]
  },
  {
   "cell_type": "code",
   "execution_count": 48,
   "id": "1c58a18f",
   "metadata": {},
   "outputs": [
    {
     "name": "stdout",
     "output_type": "stream",
     "text": [
      "Collecting statsmodels\n",
      "  Downloading statsmodels-0.12.2-cp38-none-win_amd64.whl (9.4 MB)\n",
      "Requirement already satisfied: numpy>=1.15 in c:\\users\\wolfg\\anaconda3\\envs\\webscraping\\lib\\site-packages (from statsmodels) (1.20.2)\n",
      "Collecting patsy>=0.5\n",
      "  Using cached patsy-0.5.1-py2.py3-none-any.whl (231 kB)\n",
      "Collecting scipy>=1.1\n",
      "  Downloading scipy-1.6.2-cp38-cp38-win_amd64.whl (32.7 MB)\n",
      "Requirement already satisfied: pandas>=0.21 in c:\\users\\wolfg\\anaconda3\\envs\\webscraping\\lib\\site-packages (from statsmodels) (1.2.3)\n",
      "Requirement already satisfied: python-dateutil>=2.7.3 in c:\\users\\wolfg\\anaconda3\\envs\\webscraping\\lib\\site-packages (from pandas>=0.21->statsmodels) (2.8.1)\n",
      "Requirement already satisfied: pytz>=2017.3 in c:\\users\\wolfg\\anaconda3\\envs\\webscraping\\lib\\site-packages (from pandas>=0.21->statsmodels) (2021.1)\n",
      "Requirement already satisfied: six in c:\\users\\wolfg\\anaconda3\\envs\\webscraping\\lib\\site-packages (from patsy>=0.5->statsmodels) (1.15.0)\n",
      "Installing collected packages: scipy, patsy, statsmodels\n",
      "Successfully installed patsy-0.5.1 scipy-1.6.2 statsmodels-0.12.2\n"
     ]
    }
   ],
   "source": [
    "!pip install statsmodels"
   ]
  },
  {
   "cell_type": "code",
   "execution_count": 49,
   "id": "877dc566",
   "metadata": {},
   "outputs": [],
   "source": [
    "import statsmodels.api as sm"
   ]
  },
  {
   "cell_type": "code",
   "execution_count": 83,
   "id": "bffd1086",
   "metadata": {},
   "outputs": [],
   "source": [
    "df = ranking[0]\n",
    "df['Non_German_Dummy'] = 1"
   ]
  },
  {
   "cell_type": "code",
   "execution_count": 84,
   "id": "41085005",
   "metadata": {},
   "outputs": [],
   "source": [
    "non_german_index = df[df['Citizen of'] != 'Germany'].index"
   ]
  },
  {
   "cell_type": "code",
   "execution_count": null,
   "id": "8f1aee2c",
   "metadata": {},
   "outputs": [],
   "source": [
    "german_index = [x for x in df.index if x not in non_german_index]"
   ]
  },
  {
   "cell_type": "code",
   "execution_count": 89,
   "id": "00dabead",
   "metadata": {},
   "outputs": [],
   "source": [
    "dummy_values = [0 if y in german_index else 1 for y in df.index]"
   ]
  },
  {
   "cell_type": "code",
   "execution_count": 92,
   "id": "67dd336a",
   "metadata": {},
   "outputs": [
    {
     "name": "stdout",
     "output_type": "stream",
     "text": [
      "                            OLS Regression Results                            \n",
      "==============================================================================\n",
      "Dep. Variable:                 Result   R-squared:                       0.009\n",
      "Model:                            OLS   Adj. R-squared:                 -0.001\n",
      "Method:                 Least Squares   F-statistic:                    0.9052\n",
      "Date:                Sat, 10 Apr 2021   Prob (F-statistic):              0.344\n",
      "Time:                        15:15:47   Log-Likelihood:                -42.916\n",
      "No. Observations:                 100   AIC:                             89.83\n",
      "Df Residuals:                      98   BIC:                             95.04\n",
      "Df Model:                           1                                         \n",
      "Covariance Type:            nonrobust                                         \n",
      "==============================================================================\n",
      "                 coef    std err          t      P>|t|      [0.025      0.975]\n",
      "------------------------------------------------------------------------------\n",
      "const          4.9400      0.168     29.423      0.000       4.607       5.273\n",
      "x1             0.1639      0.172      0.951      0.344      -0.178       0.506\n",
      "==============================================================================\n",
      "Omnibus:                       29.241   Durbin-Watson:                   0.054\n",
      "Prob(Omnibus):                  0.000   Jarque-Bera (JB):               51.330\n",
      "Skew:                          -1.221   Prob(JB):                     7.14e-12\n",
      "Kurtosis:                       5.522   Cond. No.                         8.83\n",
      "==============================================================================\n",
      "\n",
      "Notes:\n",
      "[1] Standard Errors assume that the covariance matrix of the errors is correctly specified.\n"
     ]
    }
   ],
   "source": [
    "X = dummy_values\n",
    "Y = df['Result']\n",
    "\n",
    "X = sm.add_constant(X) # adding a constant\n",
    "model = sm.OLS(Y, X).fit()\n",
    "print_model = model.summary()\n",
    "print(print_model)"
   ]
  },
  {
   "cell_type": "code",
   "execution_count": 94,
   "id": "5475a272",
   "metadata": {},
   "outputs": [
    {
     "data": {
      "text/html": [
       "<table class=\"simpletable\">\n",
       "<caption>OLS Regression Results</caption>\n",
       "<tr>\n",
       "  <th>Dep. Variable:</th>         <td>Result</td>      <th>  R-squared:         </th> <td>   0.009</td>\n",
       "</tr>\n",
       "<tr>\n",
       "  <th>Model:</th>                   <td>OLS</td>       <th>  Adj. R-squared:    </th> <td>  -0.001</td>\n",
       "</tr>\n",
       "<tr>\n",
       "  <th>Method:</th>             <td>Least Squares</td>  <th>  F-statistic:       </th> <td>   2.496</td>\n",
       "</tr>\n",
       "<tr>\n",
       "  <th>Date:</th>             <td>Sat, 10 Apr 2021</td> <th>  Prob (F-statistic):</th>  <td> 0.117</td> \n",
       "</tr>\n",
       "<tr>\n",
       "  <th>Time:</th>                 <td>15:21:43</td>     <th>  Log-Likelihood:    </th> <td> -42.916</td>\n",
       "</tr>\n",
       "<tr>\n",
       "  <th>No. Observations:</th>      <td>   100</td>      <th>  AIC:               </th> <td>   89.83</td>\n",
       "</tr>\n",
       "<tr>\n",
       "  <th>Df Residuals:</th>          <td>    98</td>      <th>  BIC:               </th> <td>   95.04</td>\n",
       "</tr>\n",
       "<tr>\n",
       "  <th>Df Model:</th>              <td>     1</td>      <th>                     </th>     <td> </td>   \n",
       "</tr>\n",
       "<tr>\n",
       "  <th>Covariance Type:</th>         <td>HC1</td>       <th>                     </th>     <td> </td>   \n",
       "</tr>\n",
       "</table>\n",
       "<table class=\"simpletable\">\n",
       "<tr>\n",
       "    <td></td>       <th>coef</th>     <th>std err</th>      <th>t</th>      <th>P>|t|</th>  <th>[0.025</th>    <th>0.975]</th>  \n",
       "</tr>\n",
       "<tr>\n",
       "  <th>const</th> <td>    4.9400</td> <td>    0.096</td> <td>   51.435</td> <td> 0.000</td> <td>    4.749</td> <td>    5.131</td>\n",
       "</tr>\n",
       "<tr>\n",
       "  <th>x1</th>    <td>    0.1639</td> <td>    0.104</td> <td>    1.580</td> <td> 0.117</td> <td>   -0.042</td> <td>    0.370</td>\n",
       "</tr>\n",
       "</table>\n",
       "<table class=\"simpletable\">\n",
       "<tr>\n",
       "  <th>Omnibus:</th>       <td>29.241</td> <th>  Durbin-Watson:     </th> <td>   0.054</td>\n",
       "</tr>\n",
       "<tr>\n",
       "  <th>Prob(Omnibus):</th> <td> 0.000</td> <th>  Jarque-Bera (JB):  </th> <td>  51.330</td>\n",
       "</tr>\n",
       "<tr>\n",
       "  <th>Skew:</th>          <td>-1.221</td> <th>  Prob(JB):          </th> <td>7.14e-12</td>\n",
       "</tr>\n",
       "<tr>\n",
       "  <th>Kurtosis:</th>      <td> 5.522</td> <th>  Cond. No.          </th> <td>    8.83</td>\n",
       "</tr>\n",
       "</table><br/><br/>Notes:<br/>[1] Standard Errors are heteroscedasticity robust (HC1)"
      ],
      "text/plain": [
       "<class 'statsmodels.iolib.summary.Summary'>\n",
       "\"\"\"\n",
       "                            OLS Regression Results                            \n",
       "==============================================================================\n",
       "Dep. Variable:                 Result   R-squared:                       0.009\n",
       "Model:                            OLS   Adj. R-squared:                 -0.001\n",
       "Method:                 Least Squares   F-statistic:                     2.496\n",
       "Date:                Sat, 10 Apr 2021   Prob (F-statistic):              0.117\n",
       "Time:                        15:21:43   Log-Likelihood:                -42.916\n",
       "No. Observations:                 100   AIC:                             89.83\n",
       "Df Residuals:                      98   BIC:                             95.04\n",
       "Df Model:                           1                                         \n",
       "Covariance Type:                  HC1                                         \n",
       "==============================================================================\n",
       "                 coef    std err          t      P>|t|      [0.025      0.975]\n",
       "------------------------------------------------------------------------------\n",
       "const          4.9400      0.096     51.435      0.000       4.749       5.131\n",
       "x1             0.1639      0.104      1.580      0.117      -0.042       0.370\n",
       "==============================================================================\n",
       "Omnibus:                       29.241   Durbin-Watson:                   0.054\n",
       "Prob(Omnibus):                  0.000   Jarque-Bera (JB):               51.330\n",
       "Skew:                          -1.221   Prob(JB):                     7.14e-12\n",
       "Kurtosis:                       5.522   Cond. No.                         8.83\n",
       "==============================================================================\n",
       "\n",
       "Notes:\n",
       "[1] Standard Errors are heteroscedasticity robust (HC1)\n",
       "\"\"\""
      ]
     },
     "execution_count": 94,
     "metadata": {},
     "output_type": "execute_result"
    }
   ],
   "source": [
    "model.get_robustcov_results(cov_type='HC1').summary()"
   ]
  },
  {
   "cell_type": "markdown",
   "id": "00d97ad7",
   "metadata": {},
   "source": [
    "## Spatial libraries"
   ]
  },
  {
   "cell_type": "markdown",
   "id": "61b5f654",
   "metadata": {},
   "source": [
    "The installation procedure of spatial libraries for Python (on Windows) can be quite tedious but [this answer](https://stackoverflow.com/questions/51095970/install-python-geopandas-failed/51560940#51560940) on Stackoverflow (make sure to upvote ;)) and [this detailed instruction](https://geoffboeing.com/2014/09/using-geopandas-windows/) make it straight forward. You can also find the required wheels for Python 3.8 and 64-bit for offline `pip install` in this notebook's [repository](https://github.com/gerwolf/webscraping-workshop/tree/main/DataFrames%20and%20APIs). After this, you can simply `pip install geopandas`."
   ]
  },
  {
   "cell_type": "code",
   "execution_count": 95,
   "id": "caea38be",
   "metadata": {},
   "outputs": [],
   "source": [
    "import geopandas as gpd\n",
    "import matplotlib.pyplot as plt\n",
    "plt.rcParams[\"figure.figsize\"] = [16,9]"
   ]
  },
  {
   "cell_type": "code",
   "execution_count": 96,
   "id": "f356557f",
   "metadata": {},
   "outputs": [],
   "source": [
    "world = gpd.read_file(gpd.datasets.get_path('naturalearth_lowres'))"
   ]
  },
  {
   "cell_type": "code",
   "execution_count": 97,
   "id": "cf4a78ea",
   "metadata": {},
   "outputs": [
    {
     "data": {
      "text/plain": [
       "<AxesSubplot:>"
      ]
     },
     "execution_count": 97,
     "metadata": {},
     "output_type": "execute_result"
    },
    {
     "data": {
      "image/png": "[encoded data removed]",
      "text/plain": [
       "<Figure size 1152x648 with 1 Axes>"
      ]
     },
     "metadata": {
      "needs_background": "light"
     },
     "output_type": "display_data"
    }
   ],
   "source": [
    "world.plot()"
   ]
  },
  {
   "cell_type": "code",
   "execution_count": 98,
   "id": "3b25bc07",
   "metadata": {},
   "outputs": [
    {
     "data": {
      "text/html": [
       "<div>\n",
       "<style scoped>\n",
       "    .dataframe tbody tr th:only-of-type {\n",
       "        vertical-align: middle;\n",
       "    }\n",
       "\n",
       "    .dataframe tbody tr th {\n",
       "        vertical-align: top;\n",
       "    }\n",
       "\n",
       "    .dataframe thead th {\n",
       "        text-align: right;\n",
       "    }\n",
       "</style>\n",
       "<table border=\"1\" class=\"dataframe\">\n",
       "  <thead>\n",
       "    <tr style=\"text-align: right;\">\n",
       "      <th></th>\n",
       "      <th>pop_est</th>\n",
       "      <th>continent</th>\n",
       "      <th>name</th>\n",
       "      <th>iso_a3</th>\n",
       "      <th>gdp_md_est</th>\n",
       "      <th>geometry</th>\n",
       "    </tr>\n",
       "  </thead>\n",
       "  <tbody>\n",
       "    <tr>\n",
       "      <th>0</th>\n",
       "      <td>920938</td>\n",
       "      <td>Oceania</td>\n",
       "      <td>Fiji</td>\n",
       "      <td>FJI</td>\n",
       "      <td>8374.0</td>\n",
       "      <td>MULTIPOLYGON (((180.00000 -16.06713, 180.00000...</td>\n",
       "    </tr>\n",
       "    <tr>\n",
       "      <th>1</th>\n",
       "      <td>53950935</td>\n",
       "      <td>Africa</td>\n",
       "      <td>Tanzania</td>\n",
       "      <td>TZA</td>\n",
       "      <td>150600.0</td>\n",
       "      <td>POLYGON ((33.90371 -0.95000, 34.07262 -1.05982...</td>\n",
       "    </tr>\n",
       "    <tr>\n",
       "      <th>2</th>\n",
       "      <td>603253</td>\n",
       "      <td>Africa</td>\n",
       "      <td>W. Sahara</td>\n",
       "      <td>ESH</td>\n",
       "      <td>906.5</td>\n",
       "      <td>POLYGON ((-8.66559 27.65643, -8.66512 27.58948...</td>\n",
       "    </tr>\n",
       "    <tr>\n",
       "      <th>3</th>\n",
       "      <td>35623680</td>\n",
       "      <td>North America</td>\n",
       "      <td>Canada</td>\n",
       "      <td>CAN</td>\n",
       "      <td>1674000.0</td>\n",
       "      <td>MULTIPOLYGON (((-122.84000 49.00000, -122.9742...</td>\n",
       "    </tr>\n",
       "    <tr>\n",
       "      <th>4</th>\n",
       "      <td>326625791</td>\n",
       "      <td>North America</td>\n",
       "      <td>United States of America</td>\n",
       "      <td>USA</td>\n",
       "      <td>18560000.0</td>\n",
       "      <td>MULTIPOLYGON (((-122.84000 49.00000, -120.0000...</td>\n",
       "    </tr>\n",
       "  </tbody>\n",
       "</table>\n",
       "</div>"
      ],
      "text/plain": [
       "     pop_est      continent                      name iso_a3  gdp_md_est  \\\n",
       "0     920938        Oceania                      Fiji    FJI      8374.0   \n",
       "1   53950935         Africa                  Tanzania    TZA    150600.0   \n",
       "2     603253         Africa                 W. Sahara    ESH       906.5   \n",
       "3   35623680  North America                    Canada    CAN   1674000.0   \n",
       "4  326625791  North America  United States of America    USA  18560000.0   \n",
       "\n",
       "                                            geometry  \n",
       "0  MULTIPOLYGON (((180.00000 -16.06713, 180.00000...  \n",
       "1  POLYGON ((33.90371 -0.95000, 34.07262 -1.05982...  \n",
       "2  POLYGON ((-8.66559 27.65643, -8.66512 27.58948...  \n",
       "3  MULTIPOLYGON (((-122.84000 49.00000, -122.9742...  \n",
       "4  MULTIPOLYGON (((-122.84000 49.00000, -120.0000...  "
      ]
     },
     "execution_count": 98,
     "metadata": {},
     "output_type": "execute_result"
    }
   ],
   "source": [
    "world.head()"
   ]
  },
  {
   "cell_type": "code",
   "execution_count": 99,
   "id": "3c258623",
   "metadata": {},
   "outputs": [],
   "source": [
    "df = pd.read_csv(\"https://gist.githubusercontent.com/gerwolf/81ebb170eb25d4a13f2695db4520f90e/raw/7c24eb4a2b11f6d4c7ac38bdf3555dfc7da6823e/GDPpc_PPP.csv\", sep = \";\")\n",
    "df['Country'] = df['Country'].str.replace('�',' ')\n",
    "df['Country'] = df['Country'].str.replace('United States','United States of America')"
   ]
  },
  {
   "cell_type": "code",
   "execution_count": 100,
   "id": "eaeb33b7",
   "metadata": {},
   "outputs": [
    {
     "data": {
      "text/html": [
       "<div>\n",
       "<style scoped>\n",
       "    .dataframe tbody tr th:only-of-type {\n",
       "        vertical-align: middle;\n",
       "    }\n",
       "\n",
       "    .dataframe tbody tr th {\n",
       "        vertical-align: top;\n",
       "    }\n",
       "\n",
       "    .dataframe thead th {\n",
       "        text-align: right;\n",
       "    }\n",
       "</style>\n",
       "<table border=\"1\" class=\"dataframe\">\n",
       "  <thead>\n",
       "    <tr style=\"text-align: right;\">\n",
       "      <th></th>\n",
       "      <th>Country</th>\n",
       "      <th>GDPpc_PPP</th>\n",
       "    </tr>\n",
       "  </thead>\n",
       "  <tbody>\n",
       "    <tr>\n",
       "      <th>11</th>\n",
       "      <td>United States of America</td>\n",
       "      <td>62,606</td>\n",
       "    </tr>\n",
       "  </tbody>\n",
       "</table>\n",
       "</div>"
      ],
      "text/plain": [
       "                     Country GDPpc_PPP\n",
       "11  United States of America    62,606"
      ]
     },
     "execution_count": 100,
     "metadata": {},
     "output_type": "execute_result"
    }
   ],
   "source": [
    "df[df['Country'] == 'United States of America']"
   ]
  },
  {
   "cell_type": "code",
   "execution_count": 101,
   "id": "d5408903",
   "metadata": {},
   "outputs": [],
   "source": [
    "final_geodf = df.merge(world, left_on='Country', right_on = 'name', how = 'left').dropna()"
   ]
  },
  {
   "cell_type": "code",
   "execution_count": 102,
   "id": "7dd2707e",
   "metadata": {},
   "outputs": [],
   "source": [
    "final_geodf['GDPpc_PPP'] = final_geodf['GDPpc_PPP'].str.replace(',','')"
   ]
  },
  {
   "cell_type": "code",
   "execution_count": 103,
   "id": "ee9ffc3f",
   "metadata": {},
   "outputs": [
    {
     "data": {
      "application/vnd.plotly.v1+json": {
       "config": {
        "linkText": "Export to plot.ly",
        "plotlyServerURL": "https://plot.ly",
        "showLink": false
       },
       "data": [
        {
         "colorscale": [
          [
           0,
           "rgb(255,245,240)"
          ],
          [
           0.125,
           "rgb(254,224,210)"
          ],
          [
           0.25,
           "rgb(252,187,161)"
          ],
          [
           0.375,
           "rgb(252,146,114)"
          ],
          [
           0.5,
           "rgb(251,106,74)"
          ],
          [
           0.625,
           "rgb(239,59,44)"
          ],
          [
           0.75,
           "rgb(203,24,29)"
          ],
          [
           0.875,
           "rgb(165,15,21)"
          ],
          [
           1,
           "rgb(103,0,13)"
          ]
         ],
         "locations": [
          "QAT",
          "LUX",
          "BRN",
          "IRL",
          "-99",
          "ARE",
          "KWT",
          "CHE",
          "USA",
          "NLD",
          "SAU",
          "ISL",
          "TWN",
          "SWE",
          "DEU",
          "AUS",
          "AUT",
          "DNK",
          "CAN",
          "BEL",
          "OMN",
          "FIN",
          "-99",
          "GBR",
          "JPN",
          "KOR",
          "ESP",
          "NZL",
          "CYP",
          "PRI",
          "ITA",
          "ISR",
          "SVN",
          "SVK",
          "LTU",
          "EST",
          "TTO",
          "PRT",
          "POL",
          "HUN",
          "MYS",
          "LVA",
          "RUS",
          "GRC",
          "TUR",
          "KAZ",
          "ROU",
          "HRV",
          "CHL",
          "PAN",
          "URY",
          "BGR",
          "MEX",
          "ARG",
          "BLR",
          "IRN",
          "TKM",
          "THA",
          "MNE",
          "GAB",
          "CHN",
          "AZE",
          "BWA",
          "IRQ",
          "CRI",
          "SRB",
          "BRA",
          "DZA",
          "SUR",
          "COL",
          "LBN",
          "PER",
          "ZAF",
          "MNG",
          "LKA",
          "PRY",
          "EGY",
          "ALB",
          "IDN",
          "TUN",
          "ECU",
          "-99",
          "GEO",
          "LBY",
          "NAM",
          "FJI",
          "ARM",
          "BTN",
          "JAM",
          "JOR",
          "UKR",
          "PHL",
          "MAR",
          "GUY",
          "BLZ",
          "GTM",
          "SLV",
          "LAO",
          "IND",
          "UZB",
          "VNM",
          "BOL",
          "MDA",
          "AGO",
          "MMR",
          "GHA",
          "NGA",
          "NIC",
          "PAK",
          "TLS",
          "HND",
          "BGD",
          "KHM",
          "SDN",
          "ZMB",
          "MRT",
          "KGZ",
          "CMR",
          "DJI",
          "KEN",
          "PNG",
          "SEN",
          "TZA",
          "TJK",
          "LSO",
          "NPL",
          "VUT",
          "ZWE",
          "UGA",
          "BEN",
          "TCD",
          "MLI",
          "YEM",
          "ETH",
          "GIN",
          "RWA",
          "AFG",
          "BFA",
          "GNB",
          "HTI",
          "TGO",
          "ERI",
          "MDG",
          "SLE",
          "LBR",
          "MOZ",
          "NER",
          "MWI",
          "BDI"
         ],
         "text": [
          "Qatar",
          "Luxembourg",
          "Brunei",
          "Ireland",
          "Norway",
          "United Arab Emirates",
          "Kuwait",
          "Switzerland",
          "United States of America",
          "Netherlands",
          "Saudi Arabia",
          "Iceland",
          "Taiwan",
          "Sweden",
          "Germany",
          "Australia",
          "Austria",
          "Denmark",
          "Canada",
          "Belgium",
          "Oman",
          "Finland",
          "France",
          "United Kingdom",
          "Japan",
          "South Korea",
          "Spain",
          "New Zealand",
          "Cyprus",
          "Puerto Rico",
          "Italy",
          "Israel",
          "Slovenia",
          "Slovakia",
          "Lithuania",
          "Estonia",
          "Trinidad and Tobago",
          "Portugal",
          "Poland",
          "Hungary",
          "Malaysia",
          "Latvia",
          "Russia",
          "Greece",
          "Turkey",
          "Kazakhstan",
          "Romania",
          "Croatia",
          "Chile",
          "Panama",
          "Uruguay",
          "Bulgaria",
          "Mexico",
          "Argentina",
          "Belarus",
          "Iran",
          "Turkmenistan",
          "Thailand",
          "Montenegro",
          "Gabon",
          "China",
          "Azerbaijan",
          "Botswana",
          "Iraq",
          "Costa Rica",
          "Serbia",
          "Brazil",
          "Algeria",
          "Suriname",
          "Colombia",
          "Lebanon",
          "Peru",
          "South Africa",
          "Mongolia",
          "Sri Lanka",
          "Paraguay",
          "Egypt",
          "Albania",
          "Indonesia",
          "Tunisia",
          "Ecuador",
          "Kosovo",
          "Georgia",
          "Libya",
          "Namibia",
          "Fiji",
          "Armenia",
          "Bhutan",
          "Jamaica",
          "Jordan",
          "Ukraine",
          "Philippines",
          "Morocco",
          "Guyana",
          "Belize",
          "Guatemala",
          "El Salvador",
          "Laos",
          "India",
          "Uzbekistan",
          "Vietnam",
          "Bolivia",
          "Moldova",
          "Angola",
          "Myanmar",
          "Ghana",
          "Nigeria",
          "Nicaragua",
          "Pakistan",
          "Timor-Leste",
          "Honduras",
          "Bangladesh",
          "Cambodia",
          "Sudan",
          "Zambia",
          "Mauritania",
          "Kyrgyzstan",
          "Cameroon",
          "Djibouti",
          "Kenya",
          "Papua New Guinea",
          "Senegal",
          "Tanzania",
          "Tajikistan",
          "Lesotho",
          "Nepal",
          "Vanuatu",
          "Zimbabwe",
          "Uganda",
          "Benin",
          "Chad",
          "Mali",
          "Yemen",
          "Ethiopia",
          "Guinea",
          "Rwanda",
          "Afghanistan",
          "Burkina Faso",
          "Guinea-Bissau",
          "Haiti",
          "Togo",
          "Eritrea",
          "Madagascar",
          "Sierra Leone",
          "Liberia",
          "Mozambique",
          "Niger",
          "Malawi",
          "Burundi"
         ],
         "type": "choropleth",
         "z": [
          130475,
          106705,
          79530,
          78785,
          74356,
          69382,
          67000,
          64649,
          62606,
          56383,
          55944,
          55917,
          53023,
          52984,
          52559,
          52373,
          52137,
          52121,
          49651,
          48245,
          46584,
          46430,
          45775,
          45705,
          44227,
          41351,
          40139,
          40135,
          39973,
          39737,
          39637,
          37972,
          36746,
          35130,
          34826,
          34096,
          32254,
          32006,
          31939,
          31903,
          30860,
          29901,
          29267,
          29123,
          27956,
          27550,
          26447,
          26221,
          25978,
          25674,
          23274,
          23156,
          20602,
          20537,
          20003,
          19557,
          19527,
          19476,
          19043,
          18496,
          18110,
          18076,
          17965,
          17659,
          17559,
          17555,
          16154,
          15440,
          15105,
          14943,
          14684,
          14224,
          13675,
          13447,
          13397,
          13395,
          13366,
          13345,
          13230,
          12372,
          11718,
          11552,
          11485,
          11469,
          11229,
          10234,
          10176,
          9540,
          9447,
          9433,
          9283,
          8936,
          8933,
          8519,
          8501,
          8436,
          8041,
          7925,
          7874,
          7665,
          7510,
          7477,
          7305,
          6814,
          6511,
          6452,
          6027,
          5683,
          5680,
          5242,
          5212,
          4620,
          4335,
          4232,
          4104,
          3990,
          3844,
          3828,
          3786,
          3691,
          3662,
          3651,
          3444,
          3416,
          3494,
          2905,
          2862,
          2788,
          2498,
          2426,
          2415,
          2384,
          2377,
          2332,
          2310,
          2280,
          2017,
          1996,
          1937,
          1864,
          1746,
          1657,
          1630,
          1620,
          1418,
          1291,
          1217,
          1199,
          732
         ]
        }
       ],
       "layout": {
        "geo": {
         "scope": "world"
        },
        "template": {
         "data": {
          "bar": [
           {
            "error_x": {
             "color": "#2a3f5f"
            },
            "error_y": {
             "color": "#2a3f5f"
            },
            "marker": {
             "line": {
              "color": "#E5ECF6",
              "width": 0.5
             }
            },
            "type": "bar"
           }
          ],
          "barpolar": [
           {
            "marker": {
             "line": {
              "color": "#E5ECF6",
              "width": 0.5
             }
            },
            "type": "barpolar"
           }
          ],
          "carpet": [
           {
            "aaxis": {
             "endlinecolor": "#2a3f5f",
             "gridcolor": "white",
             "linecolor": "white",
             "minorgridcolor": "white",
             "startlinecolor": "#2a3f5f"
            },
            "baxis": {
             "endlinecolor": "#2a3f5f",
             "gridcolor": "white",
             "linecolor": "white",
             "minorgridcolor": "white",
             "startlinecolor": "#2a3f5f"
            },
            "type": "carpet"
           }
          ],
          "choropleth": [
           {
            "colorbar": {
             "outlinewidth": 0,
             "ticks": ""
            },
            "type": "choropleth"
           }
          ],
          "contour": [
           {
            "colorbar": {
             "outlinewidth": 0,
             "ticks": ""
            },
            "colorscale": [
             [
              0,
              "#0d0887"
             ],
             [
              0.1111111111111111,
              "#46039f"
             ],
             [
              0.2222222222222222,
              "#7201a8"
             ],
             [
              0.3333333333333333,
              "#9c179e"
             ],
             [
              0.4444444444444444,
              "#bd3786"
             ],
             [
              0.5555555555555556,
              "#d8576b"
             ],
             [
              0.6666666666666666,
              "#ed7953"
             ],
             [
              0.7777777777777778,
              "#fb9f3a"
             ],
             [
              0.8888888888888888,
              "#fdca26"
             ],
             [
              1,
              "#f0f921"
             ]
            ],
            "type": "contour"
           }
          ],
          "contourcarpet": [
           {
            "colorbar": {
             "outlinewidth": 0,
             "ticks": ""
            },
            "type": "contourcarpet"
           }
          ],
          "heatmap": [
           {
            "colorbar": {
             "outlinewidth": 0,
             "ticks": ""
            },
            "colorscale": [
             [
              0,
              "#0d0887"
             ],
             [
              0.1111111111111111,
              "#46039f"
             ],
             [
              0.2222222222222222,
              "#7201a8"
             ],
             [
              0.3333333333333333,
              "#9c179e"
             ],
             [
              0.4444444444444444,
              "#bd3786"
             ],
             [
              0.5555555555555556,
              "#d8576b"
             ],
             [
              0.6666666666666666,
              "#ed7953"
             ],
             [
              0.7777777777777778,
              "#fb9f3a"
             ],
             [
              0.8888888888888888,
              "#fdca26"
             ],
             [
              1,
              "#f0f921"
             ]
            ],
            "type": "heatmap"
           }
          ],
          "heatmapgl": [
           {
            "colorbar": {
             "outlinewidth": 0,
             "ticks": ""
            },
            "colorscale": [
             [
              0,
              "#0d0887"
             ],
             [
              0.1111111111111111,
              "#46039f"
             ],
             [
              0.2222222222222222,
              "#7201a8"
             ],
             [
              0.3333333333333333,
              "#9c179e"
             ],
             [
              0.4444444444444444,
              "#bd3786"
             ],
             [
              0.5555555555555556,
              "#d8576b"
             ],
             [
              0.6666666666666666,
              "#ed7953"
             ],
             [
              0.7777777777777778,
              "#fb9f3a"
             ],
             [
              0.8888888888888888,
              "#fdca26"
             ],
             [
              1,
              "#f0f921"
             ]
            ],
            "type": "heatmapgl"
           }
          ],
          "histogram": [
           {
            "marker": {
             "colorbar": {
              "outlinewidth": 0,
              "ticks": ""
             }
            },
            "type": "histogram"
           }
          ],
          "histogram2d": [
           {
            "colorbar": {
             "outlinewidth": 0,
             "ticks": ""
            },
            "colorscale": [
             [
              0,
              "#0d0887"
             ],
             [
              0.1111111111111111,
              "#46039f"
             ],
             [
              0.2222222222222222,
              "#7201a8"
             ],
             [
              0.3333333333333333,
              "#9c179e"
             ],
             [
              0.4444444444444444,
              "#bd3786"
             ],
             [
              0.5555555555555556,
              "#d8576b"
             ],
             [
              0.6666666666666666,
              "#ed7953"
             ],
             [
              0.7777777777777778,
              "#fb9f3a"
             ],
             [
              0.8888888888888888,
              "#fdca26"
             ],
             [
              1,
              "#f0f921"
             ]
            ],
            "type": "histogram2d"
           }
          ],
          "histogram2dcontour": [
           {
            "colorbar": {
             "outlinewidth": 0,
             "ticks": ""
            },
            "colorscale": [
             [
              0,
              "#0d0887"
             ],
             [
              0.1111111111111111,
              "#46039f"
             ],
             [
              0.2222222222222222,
              "#7201a8"
             ],
             [
              0.3333333333333333,
              "#9c179e"
             ],
             [
              0.4444444444444444,
              "#bd3786"
             ],
             [
              0.5555555555555556,
              "#d8576b"
             ],
             [
              0.6666666666666666,
              "#ed7953"
             ],
             [
              0.7777777777777778,
              "#fb9f3a"
             ],
             [
              0.8888888888888888,
              "#fdca26"
             ],
             [
              1,
              "#f0f921"
             ]
            ],
            "type": "histogram2dcontour"
           }
          ],
          "mesh3d": [
           {
            "colorbar": {
             "outlinewidth": 0,
             "ticks": ""
            },
            "type": "mesh3d"
           }
          ],
          "parcoords": [
           {
            "line": {
             "colorbar": {
              "outlinewidth": 0,
              "ticks": ""
             }
            },
            "type": "parcoords"
           }
          ],
          "pie": [
           {
            "automargin": true,
            "type": "pie"
           }
          ],
          "scatter": [
           {
            "marker": {
             "colorbar": {
              "outlinewidth": 0,
              "ticks": ""
             }
            },
            "type": "scatter"
           }
          ],
          "scatter3d": [
           {
            "line": {
             "colorbar": {
              "outlinewidth": 0,
              "ticks": ""
             }
            },
            "marker": {
             "colorbar": {
              "outlinewidth": 0,
              "ticks": ""
             }
            },
            "type": "scatter3d"
           }
          ],
          "scattercarpet": [
           {
            "marker": {
             "colorbar": {
              "outlinewidth": 0,
              "ticks": ""
             }
            },
            "type": "scattercarpet"
           }
          ],
          "scattergeo": [
           {
            "marker": {
             "colorbar": {
              "outlinewidth": 0,
              "ticks": ""
             }
            },
            "type": "scattergeo"
           }
          ],
          "scattergl": [
           {
            "marker": {
             "colorbar": {
              "outlinewidth": 0,
              "ticks": ""
             }
            },
            "type": "scattergl"
           }
          ],
          "scattermapbox": [
           {
            "marker": {
             "colorbar": {
              "outlinewidth": 0,
              "ticks": ""
             }
            },
            "type": "scattermapbox"
           }
          ],
          "scatterpolar": [
           {
            "marker": {
             "colorbar": {
              "outlinewidth": 0,
              "ticks": ""
             }
            },
            "type": "scatterpolar"
           }
          ],
          "scatterpolargl": [
           {
            "marker": {
             "colorbar": {
              "outlinewidth": 0,
              "ticks": ""
             }
            },
            "type": "scatterpolargl"
           }
          ],
          "scatterternary": [
           {
            "marker": {
             "colorbar": {
              "outlinewidth": 0,
              "ticks": ""
             }
            },
            "type": "scatterternary"
           }
          ],
          "surface": [
           {
            "colorbar": {
             "outlinewidth": 0,
             "ticks": ""
            },
            "colorscale": [
             [
              0,
              "#0d0887"
             ],
             [
              0.1111111111111111,
              "#46039f"
             ],
             [
              0.2222222222222222,
              "#7201a8"
             ],
             [
              0.3333333333333333,
              "#9c179e"
             ],
             [
              0.4444444444444444,
              "#bd3786"
             ],
             [
              0.5555555555555556,
              "#d8576b"
             ],
             [
              0.6666666666666666,
              "#ed7953"
             ],
             [
              0.7777777777777778,
              "#fb9f3a"
             ],
             [
              0.8888888888888888,
              "#fdca26"
             ],
             [
              1,
              "#f0f921"
             ]
            ],
            "type": "surface"
           }
          ],
          "table": [
           {
            "cells": {
             "fill": {
              "color": "#EBF0F8"
             },
             "line": {
              "color": "white"
             }
            },
            "header": {
             "fill": {
              "color": "#C8D4E3"
             },
             "line": {
              "color": "white"
             }
            },
            "type": "table"
           }
          ]
         },
         "layout": {
          "annotationdefaults": {
           "arrowcolor": "#2a3f5f",
           "arrowhead": 0,
           "arrowwidth": 1
          },
          "autotypenumbers": "strict",
          "coloraxis": {
           "colorbar": {
            "outlinewidth": 0,
            "ticks": ""
           }
          },
          "colorscale": {
           "diverging": [
            [
             0,
             "#8e0152"
            ],
            [
             0.1,
             "#c51b7d"
            ],
            [
             0.2,
             "#de77ae"
            ],
            [
             0.3,
             "#f1b6da"
            ],
            [
             0.4,
             "#fde0ef"
            ],
            [
             0.5,
             "#f7f7f7"
            ],
            [
             0.6,
             "#e6f5d0"
            ],
            [
             0.7,
             "#b8e186"
            ],
            [
             0.8,
             "#7fbc41"
            ],
            [
             0.9,
             "#4d9221"
            ],
            [
             1,
             "#276419"
            ]
           ],
           "sequential": [
            [
             0,
             "#0d0887"
            ],
            [
             0.1111111111111111,
             "#46039f"
            ],
            [
             0.2222222222222222,
             "#7201a8"
            ],
            [
             0.3333333333333333,
             "#9c179e"
            ],
            [
             0.4444444444444444,
             "#bd3786"
            ],
            [
             0.5555555555555556,
             "#d8576b"
            ],
            [
             0.6666666666666666,
             "#ed7953"
            ],
            [
             0.7777777777777778,
             "#fb9f3a"
            ],
            [
             0.8888888888888888,
             "#fdca26"
            ],
            [
             1,
             "#f0f921"
            ]
           ],
           "sequentialminus": [
            [
             0,
             "#0d0887"
            ],
            [
             0.1111111111111111,
             "#46039f"
            ],
            [
             0.2222222222222222,
             "#7201a8"
            ],
            [
             0.3333333333333333,
             "#9c179e"
            ],
            [
             0.4444444444444444,
             "#bd3786"
            ],
            [
             0.5555555555555556,
             "#d8576b"
            ],
            [
             0.6666666666666666,
             "#ed7953"
            ],
            [
             0.7777777777777778,
             "#fb9f3a"
            ],
            [
             0.8888888888888888,
             "#fdca26"
            ],
            [
             1,
             "#f0f921"
            ]
           ]
          },
          "colorway": [
           "#636efa",
           "#EF553B",
           "#00cc96",
           "#ab63fa",
           "#FFA15A",
           "#19d3f3",
           "#FF6692",
           "#B6E880",
           "#FF97FF",
           "#FECB52"
          ],
          "font": {
           "color": "#2a3f5f"
          },
          "geo": {
           "bgcolor": "white",
           "lakecolor": "white",
           "landcolor": "#E5ECF6",
           "showlakes": true,
           "showland": true,
           "subunitcolor": "white"
          },
          "hoverlabel": {
           "align": "left"
          },
          "hovermode": "closest",
          "mapbox": {
           "style": "light"
          },
          "paper_bgcolor": "white",
          "plot_bgcolor": "#E5ECF6",
          "polar": {
           "angularaxis": {
            "gridcolor": "white",
            "linecolor": "white",
            "ticks": ""
           },
           "bgcolor": "#E5ECF6",
           "radialaxis": {
            "gridcolor": "white",
            "linecolor": "white",
            "ticks": ""
           }
          },
          "scene": {
           "xaxis": {
            "backgroundcolor": "#E5ECF6",
            "gridcolor": "white",
            "gridwidth": 2,
            "linecolor": "white",
            "showbackground": true,
            "ticks": "",
            "zerolinecolor": "white"
           },
           "yaxis": {
            "backgroundcolor": "#E5ECF6",
            "gridcolor": "white",
            "gridwidth": 2,
            "linecolor": "white",
            "showbackground": true,
            "ticks": "",
            "zerolinecolor": "white"
           },
           "zaxis": {
            "backgroundcolor": "#E5ECF6",
            "gridcolor": "white",
            "gridwidth": 2,
            "linecolor": "white",
            "showbackground": true,
            "ticks": "",
            "zerolinecolor": "white"
           }
          },
          "shapedefaults": {
           "line": {
            "color": "#2a3f5f"
           }
          },
          "ternary": {
           "aaxis": {
            "gridcolor": "white",
            "linecolor": "white",
            "ticks": ""
           },
           "baxis": {
            "gridcolor": "white",
            "linecolor": "white",
            "ticks": ""
           },
           "bgcolor": "#E5ECF6",
           "caxis": {
            "gridcolor": "white",
            "linecolor": "white",
            "ticks": ""
           }
          },
          "title": {
           "x": 0.05
          },
          "xaxis": {
           "automargin": true,
           "gridcolor": "white",
           "linecolor": "white",
           "ticks": "",
           "title": {
            "standoff": 15
           },
           "zerolinecolor": "white",
           "zerolinewidth": 2
          },
          "yaxis": {
           "automargin": true,
           "gridcolor": "white",
           "linecolor": "white",
           "ticks": "",
           "title": {
            "standoff": 15
           },
           "zerolinecolor": "white",
           "zerolinewidth": 2
          }
         }
        },
        "title": {
         "text": "GDP per capita (2018, IMF)"
        }
       }
      },
      "text/html": [
       "<div>                            <div id=\"52004c11-9223-453f-82c8-00ce05649b89\" class=\"plotly-graph-div\" style=\"height:525px; width:100%;\"></div>            <script type=\"text/javascript\">                require([\"plotly\"], function(Plotly) {                    window.PLOTLYENV=window.PLOTLYENV || {};                                    if (document.getElementById(\"52004c11-9223-453f-82c8-00ce05649b89\")) {                    Plotly.newPlot(                        \"52004c11-9223-453f-82c8-00ce05649b89\",                        [{\"colorscale\": [[0.0, \"rgb(255,245,240)\"], [0.125, \"rgb(254,224,210)\"], [0.25, \"rgb(252,187,161)\"], [0.375, \"rgb(252,146,114)\"], [0.5, \"rgb(251,106,74)\"], [0.625, \"rgb(239,59,44)\"], [0.75, \"rgb(203,24,29)\"], [0.875, \"rgb(165,15,21)\"], [1.0, \"rgb(103,0,13)\"]], \"locations\": [\"QAT\", \"LUX\", \"BRN\", \"IRL\", \"-99\", \"ARE\", \"KWT\", \"CHE\", \"USA\", \"NLD\", \"SAU\", \"ISL\", \"TWN\", \"SWE\", \"DEU\", \"AUS\", \"AUT\", \"DNK\", \"CAN\", \"BEL\", \"OMN\", \"FIN\", \"-99\", \"GBR\", \"JPN\", \"KOR\", \"ESP\", \"NZL\", \"CYP\", \"PRI\", \"ITA\", \"ISR\", \"SVN\", \"SVK\", \"LTU\", \"EST\", \"TTO\", \"PRT\", \"POL\", \"HUN\", \"MYS\", \"LVA\", \"RUS\", \"GRC\", \"TUR\", \"KAZ\", \"ROU\", \"HRV\", \"CHL\", \"PAN\", \"URY\", \"BGR\", \"MEX\", \"ARG\", \"BLR\", \"IRN\", \"TKM\", \"THA\", \"MNE\", \"GAB\", \"CHN\", \"AZE\", \"BWA\", \"IRQ\", \"CRI\", \"SRB\", \"BRA\", \"DZA\", \"SUR\", \"COL\", \"LBN\", \"PER\", \"ZAF\", \"MNG\", \"LKA\", \"PRY\", \"EGY\", \"ALB\", \"IDN\", \"TUN\", \"ECU\", \"-99\", \"GEO\", \"LBY\", \"NAM\", \"FJI\", \"ARM\", \"BTN\", \"JAM\", \"JOR\", \"UKR\", \"PHL\", \"MAR\", \"GUY\", \"BLZ\", \"GTM\", \"SLV\", \"LAO\", \"IND\", \"UZB\", \"VNM\", \"BOL\", \"MDA\", \"AGO\", \"MMR\", \"GHA\", \"NGA\", \"NIC\", \"PAK\", \"TLS\", \"HND\", \"BGD\", \"KHM\", \"SDN\", \"ZMB\", \"MRT\", \"KGZ\", \"CMR\", \"DJI\", \"KEN\", \"PNG\", \"SEN\", \"TZA\", \"TJK\", \"LSO\", \"NPL\", \"VUT\", \"ZWE\", \"UGA\", \"BEN\", \"TCD\", \"MLI\", \"YEM\", \"ETH\", \"GIN\", \"RWA\", \"AFG\", \"BFA\", \"GNB\", \"HTI\", \"TGO\", \"ERI\", \"MDG\", \"SLE\", \"LBR\", \"MOZ\", \"NER\", \"MWI\", \"BDI\"], \"text\": [\"Qatar\", \"Luxembourg\", \"Brunei\", \"Ireland\", \"Norway\", \"United Arab Emirates\", \"Kuwait\", \"Switzerland\", \"United States of America\", \"Netherlands\", \"Saudi Arabia\", \"Iceland\", \"Taiwan\", \"Sweden\", \"Germany\", \"Australia\", \"Austria\", \"Denmark\", \"Canada\", \"Belgium\", \"Oman\", \"Finland\", \"France\", \"United Kingdom\", \"Japan\", \"South Korea\", \"Spain\", \"New Zealand\", \"Cyprus\", \"Puerto Rico\", \"Italy\", \"Israel\", \"Slovenia\", \"Slovakia\", \"Lithuania\", \"Estonia\", \"Trinidad and Tobago\", \"Portugal\", \"Poland\", \"Hungary\", \"Malaysia\", \"Latvia\", \"Russia\", \"Greece\", \"Turkey\", \"Kazakhstan\", \"Romania\", \"Croatia\", \"Chile\", \"Panama\", \"Uruguay\", \"Bulgaria\", \"Mexico\", \"Argentina\", \"Belarus\", \"Iran\", \"Turkmenistan\", \"Thailand\", \"Montenegro\", \"Gabon\", \"China\", \"Azerbaijan\", \"Botswana\", \"Iraq\", \"Costa Rica\", \"Serbia\", \"Brazil\", \"Algeria\", \"Suriname\", \"Colombia\", \"Lebanon\", \"Peru\", \"South Africa\", \"Mongolia\", \"Sri Lanka\", \"Paraguay\", \"Egypt\", \"Albania\", \"Indonesia\", \"Tunisia\", \"Ecuador\", \"Kosovo\", \"Georgia\", \"Libya\", \"Namibia\", \"Fiji\", \"Armenia\", \"Bhutan\", \"Jamaica\", \"Jordan\", \"Ukraine\", \"Philippines\", \"Morocco\", \"Guyana\", \"Belize\", \"Guatemala\", \"El Salvador\", \"Laos\", \"India\", \"Uzbekistan\", \"Vietnam\", \"Bolivia\", \"Moldova\", \"Angola\", \"Myanmar\", \"Ghana\", \"Nigeria\", \"Nicaragua\", \"Pakistan\", \"Timor-Leste\", \"Honduras\", \"Bangladesh\", \"Cambodia\", \"Sudan\", \"Zambia\", \"Mauritania\", \"Kyrgyzstan\", \"Cameroon\", \"Djibouti\", \"Kenya\", \"Papua New Guinea\", \"Senegal\", \"Tanzania\", \"Tajikistan\", \"Lesotho\", \"Nepal\", \"Vanuatu\", \"Zimbabwe\", \"Uganda\", \"Benin\", \"Chad\", \"Mali\", \"Yemen\", \"Ethiopia\", \"Guinea\", \"Rwanda\", \"Afghanistan\", \"Burkina Faso\", \"Guinea-Bissau\", \"Haiti\", \"Togo\", \"Eritrea\", \"Madagascar\", \"Sierra Leone\", \"Liberia\", \"Mozambique\", \"Niger\", \"Malawi\", \"Burundi\"], \"type\": \"choropleth\", \"z\": [130475.0, 106705.0, 79530.0, 78785.0, 74356.0, 69382.0, 67000.0, 64649.0, 62606.0, 56383.0, 55944.0, 55917.0, 53023.0, 52984.0, 52559.0, 52373.0, 52137.0, 52121.0, 49651.0, 48245.0, 46584.0, 46430.0, 45775.0, 45705.0, 44227.0, 41351.0, 40139.0, 40135.0, 39973.0, 39737.0, 39637.0, 37972.0, 36746.0, 35130.0, 34826.0, 34096.0, 32254.0, 32006.0, 31939.0, 31903.0, 30860.0, 29901.0, 29267.0, 29123.0, 27956.0, 27550.0, 26447.0, 26221.0, 25978.0, 25674.0, 23274.0, 23156.0, 20602.0, 20537.0, 20003.0, 19557.0, 19527.0, 19476.0, 19043.0, 18496.0, 18110.0, 18076.0, 17965.0, 17659.0, 17559.0, 17555.0, 16154.0, 15440.0, 15105.0, 14943.0, 14684.0, 14224.0, 13675.0, 13447.0, 13397.0, 13395.0, 13366.0, 13345.0, 13230.0, 12372.0, 11718.0, 11552.0, 11485.0, 11469.0, 11229.0, 10234.0, 10176.0, 9540.0, 9447.0, 9433.0, 9283.0, 8936.0, 8933.0, 8519.0, 8501.0, 8436.0, 8041.0, 7925.0, 7874.0, 7665.0, 7510.0, 7477.0, 7305.0, 6814.0, 6511.0, 6452.0, 6027.0, 5683.0, 5680.0, 5242.0, 5212.0, 4620.0, 4335.0, 4232.0, 4104.0, 3990.0, 3844.0, 3828.0, 3786.0, 3691.0, 3662.0, 3651.0, 3444.0, 3416.0, 3494.0, 2905.0, 2862.0, 2788.0, 2498.0, 2426.0, 2415.0, 2384.0, 2377.0, 2332.0, 2310.0, 2280.0, 2017.0, 1996.0, 1937.0, 1864.0, 1746.0, 1657.0, 1630.0, 1620.0, 1418.0, 1291.0, 1217.0, 1199.0, 732.0]}],                        {\"geo\": {\"scope\": \"world\"}, \"template\": {\"data\": {\"bar\": [{\"error_x\": {\"color\": \"#2a3f5f\"}, \"error_y\": {\"color\": \"#2a3f5f\"}, \"marker\": {\"line\": {\"color\": \"#E5ECF6\", \"width\": 0.5}}, \"type\": \"bar\"}], \"barpolar\": [{\"marker\": {\"line\": {\"color\": \"#E5ECF6\", \"width\": 0.5}}, \"type\": \"barpolar\"}], \"carpet\": [{\"aaxis\": {\"endlinecolor\": \"#2a3f5f\", \"gridcolor\": \"white\", \"linecolor\": \"white\", \"minorgridcolor\": \"white\", \"startlinecolor\": \"#2a3f5f\"}, \"baxis\": {\"endlinecolor\": \"#2a3f5f\", \"gridcolor\": \"white\", \"linecolor\": \"white\", \"minorgridcolor\": \"white\", \"startlinecolor\": \"#2a3f5f\"}, \"type\": \"carpet\"}], \"choropleth\": [{\"colorbar\": {\"outlinewidth\": 0, \"ticks\": \"\"}, \"type\": \"choropleth\"}], \"contour\": [{\"colorbar\": {\"outlinewidth\": 0, \"ticks\": \"\"}, \"colorscale\": [[0.0, \"#0d0887\"], [0.1111111111111111, \"#46039f\"], [0.2222222222222222, \"#7201a8\"], [0.3333333333333333, \"#9c179e\"], [0.4444444444444444, \"#bd3786\"], [0.5555555555555556, \"#d8576b\"], [0.6666666666666666, \"#ed7953\"], [0.7777777777777778, \"#fb9f3a\"], [0.8888888888888888, \"#fdca26\"], [1.0, \"#f0f921\"]], \"type\": \"contour\"}], \"contourcarpet\": [{\"colorbar\": {\"outlinewidth\": 0, \"ticks\": \"\"}, \"type\": \"contourcarpet\"}], \"heatmap\": [{\"colorbar\": {\"outlinewidth\": 0, \"ticks\": \"\"}, \"colorscale\": [[0.0, \"#0d0887\"], [0.1111111111111111, \"#46039f\"], [0.2222222222222222, \"#7201a8\"], [0.3333333333333333, \"#9c179e\"], [0.4444444444444444, \"#bd3786\"], [0.5555555555555556, \"#d8576b\"], [0.6666666666666666, \"#ed7953\"], [0.7777777777777778, \"#fb9f3a\"], [0.8888888888888888, \"#fdca26\"], [1.0, \"#f0f921\"]], \"type\": \"heatmap\"}], \"heatmapgl\": [{\"colorbar\": {\"outlinewidth\": 0, \"ticks\": \"\"}, \"colorscale\": [[0.0, \"#0d0887\"], [0.1111111111111111, \"#46039f\"], [0.2222222222222222, \"#7201a8\"], [0.3333333333333333, \"#9c179e\"], [0.4444444444444444, \"#bd3786\"], [0.5555555555555556, \"#d8576b\"], [0.6666666666666666, \"#ed7953\"], [0.7777777777777778, \"#fb9f3a\"], [0.8888888888888888, \"#fdca26\"], [1.0, \"#f0f921\"]], \"type\": \"heatmapgl\"}], \"histogram\": [{\"marker\": {\"colorbar\": {\"outlinewidth\": 0, \"ticks\": \"\"}}, \"type\": \"histogram\"}], \"histogram2d\": [{\"colorbar\": {\"outlinewidth\": 0, \"ticks\": \"\"}, \"colorscale\": [[0.0, \"#0d0887\"], [0.1111111111111111, \"#46039f\"], [0.2222222222222222, \"#7201a8\"], [0.3333333333333333, \"#9c179e\"], [0.4444444444444444, \"#bd3786\"], [0.5555555555555556, \"#d8576b\"], [0.6666666666666666, \"#ed7953\"], [0.7777777777777778, \"#fb9f3a\"], [0.8888888888888888, \"#fdca26\"], [1.0, \"#f0f921\"]], \"type\": \"histogram2d\"}], \"histogram2dcontour\": [{\"colorbar\": {\"outlinewidth\": 0, \"ticks\": \"\"}, \"colorscale\": [[0.0, \"#0d0887\"], [0.1111111111111111, \"#46039f\"], [0.2222222222222222, \"#7201a8\"], [0.3333333333333333, \"#9c179e\"], [0.4444444444444444, \"#bd3786\"], [0.5555555555555556, \"#d8576b\"], [0.6666666666666666, \"#ed7953\"], [0.7777777777777778, \"#fb9f3a\"], [0.8888888888888888, \"#fdca26\"], [1.0, \"#f0f921\"]], \"type\": \"histogram2dcontour\"}], \"mesh3d\": [{\"colorbar\": {\"outlinewidth\": 0, \"ticks\": \"\"}, \"type\": \"mesh3d\"}], \"parcoords\": [{\"line\": {\"colorbar\": {\"outlinewidth\": 0, \"ticks\": \"\"}}, \"type\": \"parcoords\"}], \"pie\": [{\"automargin\": true, \"type\": \"pie\"}], \"scatter\": [{\"marker\": {\"colorbar\": {\"outlinewidth\": 0, \"ticks\": \"\"}}, \"type\": \"scatter\"}], \"scatter3d\": [{\"line\": {\"colorbar\": {\"outlinewidth\": 0, \"ticks\": \"\"}}, \"marker\": {\"colorbar\": {\"outlinewidth\": 0, \"ticks\": \"\"}}, \"type\": \"scatter3d\"}], \"scattercarpet\": [{\"marker\": {\"colorbar\": {\"outlinewidth\": 0, \"ticks\": \"\"}}, \"type\": \"scattercarpet\"}], \"scattergeo\": [{\"marker\": {\"colorbar\": {\"outlinewidth\": 0, \"ticks\": \"\"}}, \"type\": \"scattergeo\"}], \"scattergl\": [{\"marker\": {\"colorbar\": {\"outlinewidth\": 0, \"ticks\": \"\"}}, \"type\": \"scattergl\"}], \"scattermapbox\": [{\"marker\": {\"colorbar\": {\"outlinewidth\": 0, \"ticks\": \"\"}}, \"type\": \"scattermapbox\"}], \"scatterpolar\": [{\"marker\": {\"colorbar\": {\"outlinewidth\": 0, \"ticks\": \"\"}}, \"type\": \"scatterpolar\"}], \"scatterpolargl\": [{\"marker\": {\"colorbar\": {\"outlinewidth\": 0, \"ticks\": \"\"}}, \"type\": \"scatterpolargl\"}], \"scatterternary\": [{\"marker\": {\"colorbar\": {\"outlinewidth\": 0, \"ticks\": \"\"}}, \"type\": \"scatterternary\"}], \"surface\": [{\"colorbar\": {\"outlinewidth\": 0, \"ticks\": \"\"}, \"colorscale\": [[0.0, \"#0d0887\"], [0.1111111111111111, \"#46039f\"], [0.2222222222222222, \"#7201a8\"], [0.3333333333333333, \"#9c179e\"], [0.4444444444444444, \"#bd3786\"], [0.5555555555555556, \"#d8576b\"], [0.6666666666666666, \"#ed7953\"], [0.7777777777777778, \"#fb9f3a\"], [0.8888888888888888, \"#fdca26\"], [1.0, \"#f0f921\"]], \"type\": \"surface\"}], \"table\": [{\"cells\": {\"fill\": {\"color\": \"#EBF0F8\"}, \"line\": {\"color\": \"white\"}}, \"header\": {\"fill\": {\"color\": \"#C8D4E3\"}, \"line\": {\"color\": \"white\"}}, \"type\": \"table\"}]}, \"layout\": {\"annotationdefaults\": {\"arrowcolor\": \"#2a3f5f\", \"arrowhead\": 0, \"arrowwidth\": 1}, \"autotypenumbers\": \"strict\", \"coloraxis\": {\"colorbar\": {\"outlinewidth\": 0, \"ticks\": \"\"}}, \"colorscale\": {\"diverging\": [[0, \"#8e0152\"], [0.1, \"#c51b7d\"], [0.2, \"#de77ae\"], [0.3, \"#f1b6da\"], [0.4, \"#fde0ef\"], [0.5, \"#f7f7f7\"], [0.6, \"#e6f5d0\"], [0.7, \"#b8e186\"], [0.8, \"#7fbc41\"], [0.9, \"#4d9221\"], [1, \"#276419\"]], \"sequential\": [[0.0, \"#0d0887\"], [0.1111111111111111, \"#46039f\"], [0.2222222222222222, \"#7201a8\"], [0.3333333333333333, \"#9c179e\"], [0.4444444444444444, \"#bd3786\"], [0.5555555555555556, \"#d8576b\"], [0.6666666666666666, \"#ed7953\"], [0.7777777777777778, \"#fb9f3a\"], [0.8888888888888888, \"#fdca26\"], [1.0, \"#f0f921\"]], \"sequentialminus\": [[0.0, \"#0d0887\"], [0.1111111111111111, \"#46039f\"], [0.2222222222222222, \"#7201a8\"], [0.3333333333333333, \"#9c179e\"], [0.4444444444444444, \"#bd3786\"], [0.5555555555555556, \"#d8576b\"], [0.6666666666666666, \"#ed7953\"], [0.7777777777777778, \"#fb9f3a\"], [0.8888888888888888, \"#fdca26\"], [1.0, \"#f0f921\"]]}, \"colorway\": [\"#636efa\", \"#EF553B\", \"#00cc96\", \"#ab63fa\", \"#FFA15A\", \"#19d3f3\", \"#FF6692\", \"#B6E880\", \"#FF97FF\", \"#FECB52\"], \"font\": {\"color\": \"#2a3f5f\"}, \"geo\": {\"bgcolor\": \"white\", \"lakecolor\": \"white\", \"landcolor\": \"#E5ECF6\", \"showlakes\": true, \"showland\": true, \"subunitcolor\": \"white\"}, \"hoverlabel\": {\"align\": \"left\"}, \"hovermode\": \"closest\", \"mapbox\": {\"style\": \"light\"}, \"paper_bgcolor\": \"white\", \"plot_bgcolor\": \"#E5ECF6\", \"polar\": {\"angularaxis\": {\"gridcolor\": \"white\", \"linecolor\": \"white\", \"ticks\": \"\"}, \"bgcolor\": \"#E5ECF6\", \"radialaxis\": {\"gridcolor\": \"white\", \"linecolor\": \"white\", \"ticks\": \"\"}}, \"scene\": {\"xaxis\": {\"backgroundcolor\": \"#E5ECF6\", \"gridcolor\": \"white\", \"gridwidth\": 2, \"linecolor\": \"white\", \"showbackground\": true, \"ticks\": \"\", \"zerolinecolor\": \"white\"}, \"yaxis\": {\"backgroundcolor\": \"#E5ECF6\", \"gridcolor\": \"white\", \"gridwidth\": 2, \"linecolor\": \"white\", \"showbackground\": true, \"ticks\": \"\", \"zerolinecolor\": \"white\"}, \"zaxis\": {\"backgroundcolor\": \"#E5ECF6\", \"gridcolor\": \"white\", \"gridwidth\": 2, \"linecolor\": \"white\", \"showbackground\": true, \"ticks\": \"\", \"zerolinecolor\": \"white\"}}, \"shapedefaults\": {\"line\": {\"color\": \"#2a3f5f\"}}, \"ternary\": {\"aaxis\": {\"gridcolor\": \"white\", \"linecolor\": \"white\", \"ticks\": \"\"}, \"baxis\": {\"gridcolor\": \"white\", \"linecolor\": \"white\", \"ticks\": \"\"}, \"bgcolor\": \"#E5ECF6\", \"caxis\": {\"gridcolor\": \"white\", \"linecolor\": \"white\", \"ticks\": \"\"}}, \"title\": {\"x\": 0.05}, \"xaxis\": {\"automargin\": true, \"gridcolor\": \"white\", \"linecolor\": \"white\", \"ticks\": \"\", \"title\": {\"standoff\": 15}, \"zerolinecolor\": \"white\", \"zerolinewidth\": 2}, \"yaxis\": {\"automargin\": true, \"gridcolor\": \"white\", \"linecolor\": \"white\", \"ticks\": \"\", \"title\": {\"standoff\": 15}, \"zerolinecolor\": \"white\", \"zerolinewidth\": 2}}}, \"title\": {\"text\": \"GDP per capita (2018, IMF)\"}},                        {\"responsive\": true}                    ).then(function(){\n",
       "                            \n",
       "var gd = document.getElementById('52004c11-9223-453f-82c8-00ce05649b89');\n",
       "var x = new MutationObserver(function (mutations, observer) {{\n",
       "        var display = window.getComputedStyle(gd).display;\n",
       "        if (!display || display === 'none') {{\n",
       "            console.log([gd, 'removed!']);\n",
       "            Plotly.purge(gd);\n",
       "            observer.disconnect();\n",
       "        }}\n",
       "}});\n",
       "\n",
       "// Listen for the removal of the full notebook cells\n",
       "var notebookContainer = gd.closest('#notebook-container');\n",
       "if (notebookContainer) {{\n",
       "    x.observe(notebookContainer, {childList: true});\n",
       "}}\n",
       "\n",
       "// Listen for the clearing of the current output cell\n",
       "var outputEl = gd.closest('.output');\n",
       "if (outputEl) {{\n",
       "    x.observe(outputEl, {childList: true});\n",
       "}}\n",
       "\n",
       "                        })                };                });            </script>        </div>"
      ]
     },
     "metadata": {},
     "output_type": "display_data"
    }
   ],
   "source": [
    "fig = go.Figure(data=[go.Choropleth(\n",
    "    locations=final_geodf['iso_a3'], # Spatial coordinates\n",
    "    z = final_geodf['GDPpc_PPP'].astype(float), # Data to be color-coded\n",
    "#     locationmode = 'world', # set of locations match entries in `locations`\n",
    "    colorscale = 'Reds',\n",
    "    text=final_geodf['Country']\n",
    "#     colorbar_title = \"Millions USD\",\n",
    ")])\n",
    "\n",
    "fig.layout.update(\n",
    "    title_text = 'GDP per capita (2018, IMF)',\n",
    "    geo_scope='world', # limite map scope to USA\n",
    ");\n",
    "\n",
    "iplot(fig, filename =\"geomap\")"
   ]
  },
  {
   "cell_type": "code",
   "execution_count": 104,
   "id": "45387e8e",
   "metadata": {},
   "outputs": [
    {
     "data": {
      "application/vnd.plotly.v1+json": {
       "config": {
        "linkText": "Export to plot.ly",
        "plotlyServerURL": "https://plot.ly",
        "showLink": false
       },
       "data": [
        {
         "colorscale": [
          [
           0,
           "rgb(255,245,240)"
          ],
          [
           0.125,
           "rgb(254,224,210)"
          ],
          [
           0.25,
           "rgb(252,187,161)"
          ],
          [
           0.375,
           "rgb(252,146,114)"
          ],
          [
           0.5,
           "rgb(251,106,74)"
          ],
          [
           0.625,
           "rgb(239,59,44)"
          ],
          [
           0.75,
           "rgb(203,24,29)"
          ],
          [
           0.875,
           "rgb(165,15,21)"
          ],
          [
           1,
           "rgb(103,0,13)"
          ]
         ],
         "locations": [
          "LUX",
          "IRL",
          "-99",
          "CHE",
          "NLD",
          "ISL",
          "SWE",
          "DEU",
          "AUT",
          "DNK",
          "BEL",
          "FIN",
          "-99",
          "GBR",
          "ESP",
          "ITA",
          "SVN",
          "SVK",
          "LTU",
          "EST",
          "PRT",
          "POL",
          "HUN",
          "LVA",
          "RUS",
          "GRC",
          "ROU",
          "HRV",
          "BGR",
          "BLR",
          "MNE",
          "SRB",
          "ALB",
          "-99",
          "UKR",
          "MDA"
         ],
         "text": [
          "Luxembourg",
          "Ireland",
          "Norway",
          "Switzerland",
          "Netherlands",
          "Iceland",
          "Sweden",
          "Germany",
          "Austria",
          "Denmark",
          "Belgium",
          "Finland",
          "France",
          "United Kingdom",
          "Spain",
          "Italy",
          "Slovenia",
          "Slovakia",
          "Lithuania",
          "Estonia",
          "Portugal",
          "Poland",
          "Hungary",
          "Latvia",
          "Russia",
          "Greece",
          "Romania",
          "Croatia",
          "Bulgaria",
          "Belarus",
          "Montenegro",
          "Serbia",
          "Albania",
          "Kosovo",
          "Ukraine",
          "Moldova"
         ],
         "type": "choropleth",
         "z": [
          106705,
          78785,
          74356,
          64649,
          56383,
          55917,
          52984,
          52559,
          52137,
          52121,
          48245,
          46430,
          45775,
          45705,
          40139,
          39637,
          36746,
          35130,
          34826,
          34096,
          32006,
          31939,
          31903,
          29901,
          29267,
          29123,
          26447,
          26221,
          23156,
          20003,
          19043,
          17555,
          13345,
          11552,
          9283,
          7305
         ]
        }
       ],
       "layout": {
        "geo": {
         "scope": "europe"
        },
        "template": {
         "data": {
          "bar": [
           {
            "error_x": {
             "color": "#2a3f5f"
            },
            "error_y": {
             "color": "#2a3f5f"
            },
            "marker": {
             "line": {
              "color": "#E5ECF6",
              "width": 0.5
             }
            },
            "type": "bar"
           }
          ],
          "barpolar": [
           {
            "marker": {
             "line": {
              "color": "#E5ECF6",
              "width": 0.5
             }
            },
            "type": "barpolar"
           }
          ],
          "carpet": [
           {
            "aaxis": {
             "endlinecolor": "#2a3f5f",
             "gridcolor": "white",
             "linecolor": "white",
             "minorgridcolor": "white",
             "startlinecolor": "#2a3f5f"
            },
            "baxis": {
             "endlinecolor": "#2a3f5f",
             "gridcolor": "white",
             "linecolor": "white",
             "minorgridcolor": "white",
             "startlinecolor": "#2a3f5f"
            },
            "type": "carpet"
           }
          ],
          "choropleth": [
           {
            "colorbar": {
             "outlinewidth": 0,
             "ticks": ""
            },
            "type": "choropleth"
           }
          ],
          "contour": [
           {
            "colorbar": {
             "outlinewidth": 0,
             "ticks": ""
            },
            "colorscale": [
             [
              0,
              "#0d0887"
             ],
             [
              0.1111111111111111,
              "#46039f"
             ],
             [
              0.2222222222222222,
              "#7201a8"
             ],
             [
              0.3333333333333333,
              "#9c179e"
             ],
             [
              0.4444444444444444,
              "#bd3786"
             ],
             [
              0.5555555555555556,
              "#d8576b"
             ],
             [
              0.6666666666666666,
              "#ed7953"
             ],
             [
              0.7777777777777778,
              "#fb9f3a"
             ],
             [
              0.8888888888888888,
              "#fdca26"
             ],
             [
              1,
              "#f0f921"
             ]
            ],
            "type": "contour"
           }
          ],
          "contourcarpet": [
           {
            "colorbar": {
             "outlinewidth": 0,
             "ticks": ""
            },
            "type": "contourcarpet"
           }
          ],
          "heatmap": [
           {
            "colorbar": {
             "outlinewidth": 0,
             "ticks": ""
            },
            "colorscale": [
             [
              0,
              "#0d0887"
             ],
             [
              0.1111111111111111,
              "#46039f"
             ],
             [
              0.2222222222222222,
              "#7201a8"
             ],
             [
              0.3333333333333333,
              "#9c179e"
             ],
             [
              0.4444444444444444,
              "#bd3786"
             ],
             [
              0.5555555555555556,
              "#d8576b"
             ],
             [
              0.6666666666666666,
              "#ed7953"
             ],
             [
              0.7777777777777778,
              "#fb9f3a"
             ],
             [
              0.8888888888888888,
              "#fdca26"
             ],
             [
              1,
              "#f0f921"
             ]
            ],
            "type": "heatmap"
           }
          ],
          "heatmapgl": [
           {
            "colorbar": {
             "outlinewidth": 0,
             "ticks": ""
            },
            "colorscale": [
             [
              0,
              "#0d0887"
             ],
             [
              0.1111111111111111,
              "#46039f"
             ],
             [
              0.2222222222222222,
              "#7201a8"
             ],
             [
              0.3333333333333333,
              "#9c179e"
             ],
             [
              0.4444444444444444,
              "#bd3786"
             ],
             [
              0.5555555555555556,
              "#d8576b"
             ],
             [
              0.6666666666666666,
              "#ed7953"
             ],
             [
              0.7777777777777778,
              "#fb9f3a"
             ],
             [
              0.8888888888888888,
              "#fdca26"
             ],
             [
              1,
              "#f0f921"
             ]
            ],
            "type": "heatmapgl"
           }
          ],
          "histogram": [
           {
            "marker": {
             "colorbar": {
              "outlinewidth": 0,
              "ticks": ""
             }
            },
            "type": "histogram"
           }
          ],
          "histogram2d": [
           {
            "colorbar": {
             "outlinewidth": 0,
             "ticks": ""
            },
            "colorscale": [
             [
              0,
              "#0d0887"
             ],
             [
              0.1111111111111111,
              "#46039f"
             ],
             [
              0.2222222222222222,
              "#7201a8"
             ],
             [
              0.3333333333333333,
              "#9c179e"
             ],
             [
              0.4444444444444444,
              "#bd3786"
             ],
             [
              0.5555555555555556,
              "#d8576b"
             ],
             [
              0.6666666666666666,
              "#ed7953"
             ],
             [
              0.7777777777777778,
              "#fb9f3a"
             ],
             [
              0.8888888888888888,
              "#fdca26"
             ],
             [
              1,
              "#f0f921"
             ]
            ],
            "type": "histogram2d"
           }
          ],
          "histogram2dcontour": [
           {
            "colorbar": {
             "outlinewidth": 0,
             "ticks": ""
            },
            "colorscale": [
             [
              0,
              "#0d0887"
             ],
             [
              0.1111111111111111,
              "#46039f"
             ],
             [
              0.2222222222222222,
              "#7201a8"
             ],
             [
              0.3333333333333333,
              "#9c179e"
             ],
             [
              0.4444444444444444,
              "#bd3786"
             ],
             [
              0.5555555555555556,
              "#d8576b"
             ],
             [
              0.6666666666666666,
              "#ed7953"
             ],
             [
              0.7777777777777778,
              "#fb9f3a"
             ],
             [
              0.8888888888888888,
              "#fdca26"
             ],
             [
              1,
              "#f0f921"
             ]
            ],
            "type": "histogram2dcontour"
           }
          ],
          "mesh3d": [
           {
            "colorbar": {
             "outlinewidth": 0,
             "ticks": ""
            },
            "type": "mesh3d"
           }
          ],
          "parcoords": [
           {
            "line": {
             "colorbar": {
              "outlinewidth": 0,
              "ticks": ""
             }
            },
            "type": "parcoords"
           }
          ],
          "pie": [
           {
            "automargin": true,
            "type": "pie"
           }
          ],
          "scatter": [
           {
            "marker": {
             "colorbar": {
              "outlinewidth": 0,
              "ticks": ""
             }
            },
            "type": "scatter"
           }
          ],
          "scatter3d": [
           {
            "line": {
             "colorbar": {
              "outlinewidth": 0,
              "ticks": ""
             }
            },
            "marker": {
             "colorbar": {
              "outlinewidth": 0,
              "ticks": ""
             }
            },
            "type": "scatter3d"
           }
          ],
          "scattercarpet": [
           {
            "marker": {
             "colorbar": {
              "outlinewidth": 0,
              "ticks": ""
             }
            },
            "type": "scattercarpet"
           }
          ],
          "scattergeo": [
           {
            "marker": {
             "colorbar": {
              "outlinewidth": 0,
              "ticks": ""
             }
            },
            "type": "scattergeo"
           }
          ],
          "scattergl": [
           {
            "marker": {
             "colorbar": {
              "outlinewidth": 0,
              "ticks": ""
             }
            },
            "type": "scattergl"
           }
          ],
          "scattermapbox": [
           {
            "marker": {
             "colorbar": {
              "outlinewidth": 0,
              "ticks": ""
             }
            },
            "type": "scattermapbox"
           }
          ],
          "scatterpolar": [
           {
            "marker": {
             "colorbar": {
              "outlinewidth": 0,
              "ticks": ""
             }
            },
            "type": "scatterpolar"
           }
          ],
          "scatterpolargl": [
           {
            "marker": {
             "colorbar": {
              "outlinewidth": 0,
              "ticks": ""
             }
            },
            "type": "scatterpolargl"
           }
          ],
          "scatterternary": [
           {
            "marker": {
             "colorbar": {
              "outlinewidth": 0,
              "ticks": ""
             }
            },
            "type": "scatterternary"
           }
          ],
          "surface": [
           {
            "colorbar": {
             "outlinewidth": 0,
             "ticks": ""
            },
            "colorscale": [
             [
              0,
              "#0d0887"
             ],
             [
              0.1111111111111111,
              "#46039f"
             ],
             [
              0.2222222222222222,
              "#7201a8"
             ],
             [
              0.3333333333333333,
              "#9c179e"
             ],
             [
              0.4444444444444444,
              "#bd3786"
             ],
             [
              0.5555555555555556,
              "#d8576b"
             ],
             [
              0.6666666666666666,
              "#ed7953"
             ],
             [
              0.7777777777777778,
              "#fb9f3a"
             ],
             [
              0.8888888888888888,
              "#fdca26"
             ],
             [
              1,
              "#f0f921"
             ]
            ],
            "type": "surface"
           }
          ],
          "table": [
           {
            "cells": {
             "fill": {
              "color": "#EBF0F8"
             },
             "line": {
              "color": "white"
             }
            },
            "header": {
             "fill": {
              "color": "#C8D4E3"
             },
             "line": {
              "color": "white"
             }
            },
            "type": "table"
           }
          ]
         },
         "layout": {
          "annotationdefaults": {
           "arrowcolor": "#2a3f5f",
           "arrowhead": 0,
           "arrowwidth": 1
          },
          "autotypenumbers": "strict",
          "coloraxis": {
           "colorbar": {
            "outlinewidth": 0,
            "ticks": ""
           }
          },
          "colorscale": {
           "diverging": [
            [
             0,
             "#8e0152"
            ],
            [
             0.1,
             "#c51b7d"
            ],
            [
             0.2,
             "#de77ae"
            ],
            [
             0.3,
             "#f1b6da"
            ],
            [
             0.4,
             "#fde0ef"
            ],
            [
             0.5,
             "#f7f7f7"
            ],
            [
             0.6,
             "#e6f5d0"
            ],
            [
             0.7,
             "#b8e186"
            ],
            [
             0.8,
             "#7fbc41"
            ],
            [
             0.9,
             "#4d9221"
            ],
            [
             1,
             "#276419"
            ]
           ],
           "sequential": [
            [
             0,
             "#0d0887"
            ],
            [
             0.1111111111111111,
             "#46039f"
            ],
            [
             0.2222222222222222,
             "#7201a8"
            ],
            [
             0.3333333333333333,
             "#9c179e"
            ],
            [
             0.4444444444444444,
             "#bd3786"
            ],
            [
             0.5555555555555556,
             "#d8576b"
            ],
            [
             0.6666666666666666,
             "#ed7953"
            ],
            [
             0.7777777777777778,
             "#fb9f3a"
            ],
            [
             0.8888888888888888,
             "#fdca26"
            ],
            [
             1,
             "#f0f921"
            ]
           ],
           "sequentialminus": [
            [
             0,
             "#0d0887"
            ],
            [
             0.1111111111111111,
             "#46039f"
            ],
            [
             0.2222222222222222,
             "#7201a8"
            ],
            [
             0.3333333333333333,
             "#9c179e"
            ],
            [
             0.4444444444444444,
             "#bd3786"
            ],
            [
             0.5555555555555556,
             "#d8576b"
            ],
            [
             0.6666666666666666,
             "#ed7953"
            ],
            [
             0.7777777777777778,
             "#fb9f3a"
            ],
            [
             0.8888888888888888,
             "#fdca26"
            ],
            [
             1,
             "#f0f921"
            ]
           ]
          },
          "colorway": [
           "#636efa",
           "#EF553B",
           "#00cc96",
           "#ab63fa",
           "#FFA15A",
           "#19d3f3",
           "#FF6692",
           "#B6E880",
           "#FF97FF",
           "#FECB52"
          ],
          "font": {
           "color": "#2a3f5f"
          },
          "geo": {
           "bgcolor": "white",
           "lakecolor": "white",
           "landcolor": "#E5ECF6",
           "showlakes": true,
           "showland": true,
           "subunitcolor": "white"
          },
          "hoverlabel": {
           "align": "left"
          },
          "hovermode": "closest",
          "mapbox": {
           "style": "light"
          },
          "paper_bgcolor": "white",
          "plot_bgcolor": "#E5ECF6",
          "polar": {
           "angularaxis": {
            "gridcolor": "white",
            "linecolor": "white",
            "ticks": ""
           },
           "bgcolor": "#E5ECF6",
           "radialaxis": {
            "gridcolor": "white",
            "linecolor": "white",
            "ticks": ""
           }
          },
          "scene": {
           "xaxis": {
            "backgroundcolor": "#E5ECF6",
            "gridcolor": "white",
            "gridwidth": 2,
            "linecolor": "white",
            "showbackground": true,
            "ticks": "",
            "zerolinecolor": "white"
           },
           "yaxis": {
            "backgroundcolor": "#E5ECF6",
            "gridcolor": "white",
            "gridwidth": 2,
            "linecolor": "white",
            "showbackground": true,
            "ticks": "",
            "zerolinecolor": "white"
           },
           "zaxis": {
            "backgroundcolor": "#E5ECF6",
            "gridcolor": "white",
            "gridwidth": 2,
            "linecolor": "white",
            "showbackground": true,
            "ticks": "",
            "zerolinecolor": "white"
           }
          },
          "shapedefaults": {
           "line": {
            "color": "#2a3f5f"
           }
          },
          "ternary": {
           "aaxis": {
            "gridcolor": "white",
            "linecolor": "white",
            "ticks": ""
           },
           "baxis": {
            "gridcolor": "white",
            "linecolor": "white",
            "ticks": ""
           },
           "bgcolor": "#E5ECF6",
           "caxis": {
            "gridcolor": "white",
            "linecolor": "white",
            "ticks": ""
           }
          },
          "title": {
           "x": 0.05
          },
          "xaxis": {
           "automargin": true,
           "gridcolor": "white",
           "linecolor": "white",
           "ticks": "",
           "title": {
            "standoff": 15
           },
           "zerolinecolor": "white",
           "zerolinewidth": 2
          },
          "yaxis": {
           "automargin": true,
           "gridcolor": "white",
           "linecolor": "white",
           "ticks": "",
           "title": {
            "standoff": 15
           },
           "zerolinecolor": "white",
           "zerolinewidth": 2
          }
         }
        },
        "title": {
         "text": "GDP per capita (2018, IMF)"
        }
       }
      },
      "text/html": [
       "<div>                            <div id=\"90147f35-8f18-4f1e-8e7f-635520ac523d\" class=\"plotly-graph-div\" style=\"height:525px; width:100%;\"></div>            <script type=\"text/javascript\">                require([\"plotly\"], function(Plotly) {                    window.PLOTLYENV=window.PLOTLYENV || {};                                    if (document.getElementById(\"90147f35-8f18-4f1e-8e7f-635520ac523d\")) {                    Plotly.newPlot(                        \"90147f35-8f18-4f1e-8e7f-635520ac523d\",                        [{\"colorscale\": [[0.0, \"rgb(255,245,240)\"], [0.125, \"rgb(254,224,210)\"], [0.25, \"rgb(252,187,161)\"], [0.375, \"rgb(252,146,114)\"], [0.5, \"rgb(251,106,74)\"], [0.625, \"rgb(239,59,44)\"], [0.75, \"rgb(203,24,29)\"], [0.875, \"rgb(165,15,21)\"], [1.0, \"rgb(103,0,13)\"]], \"locations\": [\"LUX\", \"IRL\", \"-99\", \"CHE\", \"NLD\", \"ISL\", \"SWE\", \"DEU\", \"AUT\", \"DNK\", \"BEL\", \"FIN\", \"-99\", \"GBR\", \"ESP\", \"ITA\", \"SVN\", \"SVK\", \"LTU\", \"EST\", \"PRT\", \"POL\", \"HUN\", \"LVA\", \"RUS\", \"GRC\", \"ROU\", \"HRV\", \"BGR\", \"BLR\", \"MNE\", \"SRB\", \"ALB\", \"-99\", \"UKR\", \"MDA\"], \"text\": [\"Luxembourg\", \"Ireland\", \"Norway\", \"Switzerland\", \"Netherlands\", \"Iceland\", \"Sweden\", \"Germany\", \"Austria\", \"Denmark\", \"Belgium\", \"Finland\", \"France\", \"United Kingdom\", \"Spain\", \"Italy\", \"Slovenia\", \"Slovakia\", \"Lithuania\", \"Estonia\", \"Portugal\", \"Poland\", \"Hungary\", \"Latvia\", \"Russia\", \"Greece\", \"Romania\", \"Croatia\", \"Bulgaria\", \"Belarus\", \"Montenegro\", \"Serbia\", \"Albania\", \"Kosovo\", \"Ukraine\", \"Moldova\"], \"type\": \"choropleth\", \"z\": [106705.0, 78785.0, 74356.0, 64649.0, 56383.0, 55917.0, 52984.0, 52559.0, 52137.0, 52121.0, 48245.0, 46430.0, 45775.0, 45705.0, 40139.0, 39637.0, 36746.0, 35130.0, 34826.0, 34096.0, 32006.0, 31939.0, 31903.0, 29901.0, 29267.0, 29123.0, 26447.0, 26221.0, 23156.0, 20003.0, 19043.0, 17555.0, 13345.0, 11552.0, 9283.0, 7305.0]}],                        {\"geo\": {\"scope\": \"europe\"}, \"template\": {\"data\": {\"bar\": [{\"error_x\": {\"color\": \"#2a3f5f\"}, \"error_y\": {\"color\": \"#2a3f5f\"}, \"marker\": {\"line\": {\"color\": \"#E5ECF6\", \"width\": 0.5}}, \"type\": \"bar\"}], \"barpolar\": [{\"marker\": {\"line\": {\"color\": \"#E5ECF6\", \"width\": 0.5}}, \"type\": \"barpolar\"}], \"carpet\": [{\"aaxis\": {\"endlinecolor\": \"#2a3f5f\", \"gridcolor\": \"white\", \"linecolor\": \"white\", \"minorgridcolor\": \"white\", \"startlinecolor\": \"#2a3f5f\"}, \"baxis\": {\"endlinecolor\": \"#2a3f5f\", \"gridcolor\": \"white\", \"linecolor\": \"white\", \"minorgridcolor\": \"white\", \"startlinecolor\": \"#2a3f5f\"}, \"type\": \"carpet\"}], \"choropleth\": [{\"colorbar\": {\"outlinewidth\": 0, \"ticks\": \"\"}, \"type\": \"choropleth\"}], \"contour\": [{\"colorbar\": {\"outlinewidth\": 0, \"ticks\": \"\"}, \"colorscale\": [[0.0, \"#0d0887\"], [0.1111111111111111, \"#46039f\"], [0.2222222222222222, \"#7201a8\"], [0.3333333333333333, \"#9c179e\"], [0.4444444444444444, \"#bd3786\"], [0.5555555555555556, \"#d8576b\"], [0.6666666666666666, \"#ed7953\"], [0.7777777777777778, \"#fb9f3a\"], [0.8888888888888888, \"#fdca26\"], [1.0, \"#f0f921\"]], \"type\": \"contour\"}], \"contourcarpet\": [{\"colorbar\": {\"outlinewidth\": 0, \"ticks\": \"\"}, \"type\": \"contourcarpet\"}], \"heatmap\": [{\"colorbar\": {\"outlinewidth\": 0, \"ticks\": \"\"}, \"colorscale\": [[0.0, \"#0d0887\"], [0.1111111111111111, \"#46039f\"], [0.2222222222222222, \"#7201a8\"], [0.3333333333333333, \"#9c179e\"], [0.4444444444444444, \"#bd3786\"], [0.5555555555555556, \"#d8576b\"], [0.6666666666666666, \"#ed7953\"], [0.7777777777777778, \"#fb9f3a\"], [0.8888888888888888, \"#fdca26\"], [1.0, \"#f0f921\"]], \"type\": \"heatmap\"}], \"heatmapgl\": [{\"colorbar\": {\"outlinewidth\": 0, \"ticks\": \"\"}, \"colorscale\": [[0.0, \"#0d0887\"], [0.1111111111111111, \"#46039f\"], [0.2222222222222222, \"#7201a8\"], [0.3333333333333333, \"#9c179e\"], [0.4444444444444444, \"#bd3786\"], [0.5555555555555556, \"#d8576b\"], [0.6666666666666666, \"#ed7953\"], [0.7777777777777778, \"#fb9f3a\"], [0.8888888888888888, \"#fdca26\"], [1.0, \"#f0f921\"]], \"type\": \"heatmapgl\"}], \"histogram\": [{\"marker\": {\"colorbar\": {\"outlinewidth\": 0, \"ticks\": \"\"}}, \"type\": \"histogram\"}], \"histogram2d\": [{\"colorbar\": {\"outlinewidth\": 0, \"ticks\": \"\"}, \"colorscale\": [[0.0, \"#0d0887\"], [0.1111111111111111, \"#46039f\"], [0.2222222222222222, \"#7201a8\"], [0.3333333333333333, \"#9c179e\"], [0.4444444444444444, \"#bd3786\"], [0.5555555555555556, \"#d8576b\"], [0.6666666666666666, \"#ed7953\"], [0.7777777777777778, \"#fb9f3a\"], [0.8888888888888888, \"#fdca26\"], [1.0, \"#f0f921\"]], \"type\": \"histogram2d\"}], \"histogram2dcontour\": [{\"colorbar\": {\"outlinewidth\": 0, \"ticks\": \"\"}, \"colorscale\": [[0.0, \"#0d0887\"], [0.1111111111111111, \"#46039f\"], [0.2222222222222222, \"#7201a8\"], [0.3333333333333333, \"#9c179e\"], [0.4444444444444444, \"#bd3786\"], [0.5555555555555556, \"#d8576b\"], [0.6666666666666666, \"#ed7953\"], [0.7777777777777778, \"#fb9f3a\"], [0.8888888888888888, \"#fdca26\"], [1.0, \"#f0f921\"]], \"type\": \"histogram2dcontour\"}], \"mesh3d\": [{\"colorbar\": {\"outlinewidth\": 0, \"ticks\": \"\"}, \"type\": \"mesh3d\"}], \"parcoords\": [{\"line\": {\"colorbar\": {\"outlinewidth\": 0, \"ticks\": \"\"}}, \"type\": \"parcoords\"}], \"pie\": [{\"automargin\": true, \"type\": \"pie\"}], \"scatter\": [{\"marker\": {\"colorbar\": {\"outlinewidth\": 0, \"ticks\": \"\"}}, \"type\": \"scatter\"}], \"scatter3d\": [{\"line\": {\"colorbar\": {\"outlinewidth\": 0, \"ticks\": \"\"}}, \"marker\": {\"colorbar\": {\"outlinewidth\": 0, \"ticks\": \"\"}}, \"type\": \"scatter3d\"}], \"scattercarpet\": [{\"marker\": {\"colorbar\": {\"outlinewidth\": 0, \"ticks\": \"\"}}, \"type\": \"scattercarpet\"}], \"scattergeo\": [{\"marker\": {\"colorbar\": {\"outlinewidth\": 0, \"ticks\": \"\"}}, \"type\": \"scattergeo\"}], \"scattergl\": [{\"marker\": {\"colorbar\": {\"outlinewidth\": 0, \"ticks\": \"\"}}, \"type\": \"scattergl\"}], \"scattermapbox\": [{\"marker\": {\"colorbar\": {\"outlinewidth\": 0, \"ticks\": \"\"}}, \"type\": \"scattermapbox\"}], \"scatterpolar\": [{\"marker\": {\"colorbar\": {\"outlinewidth\": 0, \"ticks\": \"\"}}, \"type\": \"scatterpolar\"}], \"scatterpolargl\": [{\"marker\": {\"colorbar\": {\"outlinewidth\": 0, \"ticks\": \"\"}}, \"type\": \"scatterpolargl\"}], \"scatterternary\": [{\"marker\": {\"colorbar\": {\"outlinewidth\": 0, \"ticks\": \"\"}}, \"type\": \"scatterternary\"}], \"surface\": [{\"colorbar\": {\"outlinewidth\": 0, \"ticks\": \"\"}, \"colorscale\": [[0.0, \"#0d0887\"], [0.1111111111111111, \"#46039f\"], [0.2222222222222222, \"#7201a8\"], [0.3333333333333333, \"#9c179e\"], [0.4444444444444444, \"#bd3786\"], [0.5555555555555556, \"#d8576b\"], [0.6666666666666666, \"#ed7953\"], [0.7777777777777778, \"#fb9f3a\"], [0.8888888888888888, \"#fdca26\"], [1.0, \"#f0f921\"]], \"type\": \"surface\"}], \"table\": [{\"cells\": {\"fill\": {\"color\": \"#EBF0F8\"}, \"line\": {\"color\": \"white\"}}, \"header\": {\"fill\": {\"color\": \"#C8D4E3\"}, \"line\": {\"color\": \"white\"}}, \"type\": \"table\"}]}, \"layout\": {\"annotationdefaults\": {\"arrowcolor\": \"#2a3f5f\", \"arrowhead\": 0, \"arrowwidth\": 1}, \"autotypenumbers\": \"strict\", \"coloraxis\": {\"colorbar\": {\"outlinewidth\": 0, \"ticks\": \"\"}}, \"colorscale\": {\"diverging\": [[0, \"#8e0152\"], [0.1, \"#c51b7d\"], [0.2, \"#de77ae\"], [0.3, \"#f1b6da\"], [0.4, \"#fde0ef\"], [0.5, \"#f7f7f7\"], [0.6, \"#e6f5d0\"], [0.7, \"#b8e186\"], [0.8, \"#7fbc41\"], [0.9, \"#4d9221\"], [1, \"#276419\"]], \"sequential\": [[0.0, \"#0d0887\"], [0.1111111111111111, \"#46039f\"], [0.2222222222222222, \"#7201a8\"], [0.3333333333333333, \"#9c179e\"], [0.4444444444444444, \"#bd3786\"], [0.5555555555555556, \"#d8576b\"], [0.6666666666666666, \"#ed7953\"], [0.7777777777777778, \"#fb9f3a\"], [0.8888888888888888, \"#fdca26\"], [1.0, \"#f0f921\"]], \"sequentialminus\": [[0.0, \"#0d0887\"], [0.1111111111111111, \"#46039f\"], [0.2222222222222222, \"#7201a8\"], [0.3333333333333333, \"#9c179e\"], [0.4444444444444444, \"#bd3786\"], [0.5555555555555556, \"#d8576b\"], [0.6666666666666666, \"#ed7953\"], [0.7777777777777778, \"#fb9f3a\"], [0.8888888888888888, \"#fdca26\"], [1.0, \"#f0f921\"]]}, \"colorway\": [\"#636efa\", \"#EF553B\", \"#00cc96\", \"#ab63fa\", \"#FFA15A\", \"#19d3f3\", \"#FF6692\", \"#B6E880\", \"#FF97FF\", \"#FECB52\"], \"font\": {\"color\": \"#2a3f5f\"}, \"geo\": {\"bgcolor\": \"white\", \"lakecolor\": \"white\", \"landcolor\": \"#E5ECF6\", \"showlakes\": true, \"showland\": true, \"subunitcolor\": \"white\"}, \"hoverlabel\": {\"align\": \"left\"}, \"hovermode\": \"closest\", \"mapbox\": {\"style\": \"light\"}, \"paper_bgcolor\": \"white\", \"plot_bgcolor\": \"#E5ECF6\", \"polar\": {\"angularaxis\": {\"gridcolor\": \"white\", \"linecolor\": \"white\", \"ticks\": \"\"}, \"bgcolor\": \"#E5ECF6\", \"radialaxis\": {\"gridcolor\": \"white\", \"linecolor\": \"white\", \"ticks\": \"\"}}, \"scene\": {\"xaxis\": {\"backgroundcolor\": \"#E5ECF6\", \"gridcolor\": \"white\", \"gridwidth\": 2, \"linecolor\": \"white\", \"showbackground\": true, \"ticks\": \"\", \"zerolinecolor\": \"white\"}, \"yaxis\": {\"backgroundcolor\": \"#E5ECF6\", \"gridcolor\": \"white\", \"gridwidth\": 2, \"linecolor\": \"white\", \"showbackground\": true, \"ticks\": \"\", \"zerolinecolor\": \"white\"}, \"zaxis\": {\"backgroundcolor\": \"#E5ECF6\", \"gridcolor\": \"white\", \"gridwidth\": 2, \"linecolor\": \"white\", \"showbackground\": true, \"ticks\": \"\", \"zerolinecolor\": \"white\"}}, \"shapedefaults\": {\"line\": {\"color\": \"#2a3f5f\"}}, \"ternary\": {\"aaxis\": {\"gridcolor\": \"white\", \"linecolor\": \"white\", \"ticks\": \"\"}, \"baxis\": {\"gridcolor\": \"white\", \"linecolor\": \"white\", \"ticks\": \"\"}, \"bgcolor\": \"#E5ECF6\", \"caxis\": {\"gridcolor\": \"white\", \"linecolor\": \"white\", \"ticks\": \"\"}}, \"title\": {\"x\": 0.05}, \"xaxis\": {\"automargin\": true, \"gridcolor\": \"white\", \"linecolor\": \"white\", \"ticks\": \"\", \"title\": {\"standoff\": 15}, \"zerolinecolor\": \"white\", \"zerolinewidth\": 2}, \"yaxis\": {\"automargin\": true, \"gridcolor\": \"white\", \"linecolor\": \"white\", \"ticks\": \"\", \"title\": {\"standoff\": 15}, \"zerolinecolor\": \"white\", \"zerolinewidth\": 2}}}, \"title\": {\"text\": \"GDP per capita (2018, IMF)\"}},                        {\"responsive\": true}                    ).then(function(){\n",
       "                            \n",
       "var gd = document.getElementById('90147f35-8f18-4f1e-8e7f-635520ac523d');\n",
       "var x = new MutationObserver(function (mutations, observer) {{\n",
       "        var display = window.getComputedStyle(gd).display;\n",
       "        if (!display || display === 'none') {{\n",
       "            console.log([gd, 'removed!']);\n",
       "            Plotly.purge(gd);\n",
       "            observer.disconnect();\n",
       "        }}\n",
       "}});\n",
       "\n",
       "// Listen for the removal of the full notebook cells\n",
       "var notebookContainer = gd.closest('#notebook-container');\n",
       "if (notebookContainer) {{\n",
       "    x.observe(notebookContainer, {childList: true});\n",
       "}}\n",
       "\n",
       "// Listen for the clearing of the current output cell\n",
       "var outputEl = gd.closest('.output');\n",
       "if (outputEl) {{\n",
       "    x.observe(outputEl, {childList: true});\n",
       "}}\n",
       "\n",
       "                        })                };                });            </script>        </div>"
      ]
     },
     "metadata": {},
     "output_type": "display_data"
    }
   ],
   "source": [
    "fig = go.Figure(data=[go.Choropleth(\n",
    "    locations=final_geodf[final_geodf['continent'] == 'Europe']['iso_a3'], # Spatial coordinates\n",
    "    z = final_geodf[final_geodf['continent'] == 'Europe']['GDPpc_PPP'].astype(float), # Data to be color-coded\n",
    "#     locationmode = 'world', # set of locations match entries in `locations`\n",
    "    colorscale = 'Reds',\n",
    "    text=final_geodf[final_geodf['continent'] == 'Europe']['Country']\n",
    "#     colorbar_title = \"Millions USD\",\n",
    ")])\n",
    "\n",
    "fig.layout.update(\n",
    "    title_text = 'GDP per capita (2018, IMF)',\n",
    "    geo_scope='europe', # limite map scope to USA\n",
    ");\n",
    "\n",
    "iplot(fig, filename =\"geomap\")"
   ]
  },
  {
   "cell_type": "markdown",
   "id": "838ac263",
   "metadata": {},
   "source": [
    "## Destatis/GENESIS Online\n",
    "The GENESIS API is the web interface service by the Federal Statistical Office of Germany and is a good place to start learning how to interact programmatically with a server."
   ]
  },
  {
   "cell_type": "markdown",
   "id": "1c20c927",
   "metadata": {},
   "source": [
    "There is a [comprehensive description/introduction](https://www-genesis.destatis.de/genesis/misc/GENESIS-Webservices_Einfuehrung.pdf) on the service, unfortunately in German only. To display the PDF inside Jupyter Notebook in Chrome you may have to enable the [PDF Viewer extension](https://chrome.google.com/webstore/detail/pdf-viewer/oemmndcbldboiebfnladdacbdfmadadm?utm_source=chrome-ntp-icon)."
   ]
  },
  {
   "cell_type": "code",
   "execution_count": 113,
   "id": "56a8769a",
   "metadata": {},
   "outputs": [
    {
     "data": {
      "text/html": [
       "\n",
       "        <iframe\n",
       "            width=\"980\"\n",
       "            height=\"800\"\n",
       "            src=\"https://www-genesis.destatis.de/genesis/misc/GENESIS-Webservices_Einfuehrung.pdf\"\n",
       "            frameborder=\"0\"\n",
       "            allowfullscreen\n",
       "        ></iframe>\n",
       "        "
      ],
      "text/plain": [
       "<IPython.lib.display.IFrame at 0x24f5e1c74f0>"
      ]
     },
     "execution_count": 113,
     "metadata": {},
     "output_type": "execute_result"
    }
   ],
   "source": [
    "from IPython.display import IFrame, display\n",
    "filepath = \"https://www-genesis.destatis.de/genesis/misc/GENESIS-Webservices_Einfuehrung.pdf\"\n",
    "IFrame(filepath, width=980, height=800)"
   ]
  },
  {
   "cell_type": "markdown",
   "id": "6667a14f",
   "metadata": {},
   "source": [
    "Read about the `whoami` method (in Section 2.2). Do you have to authenticate? What does it return? How would you send a `request`?"
   ]
  },
  {
   "cell_type": "code",
   "execution_count": 115,
   "id": "08cfbd00",
   "metadata": {},
   "outputs": [],
   "source": [
    "import genesis_config\n",
    "import requests"
   ]
  },
  {
   "cell_type": "code",
   "execution_count": 123,
   "id": "b6bd19b7",
   "metadata": {},
   "outputs": [
    {
     "data": {
      "text/plain": [
       "'{\"User-Agent\":\"python-requests/2.25.1\",\"User-IP\":\"95.91.213.125\"}'"
      ]
     },
     "execution_count": 123,
     "metadata": {},
     "output_type": "execute_result"
    }
   ],
   "source": [
    "url = \"https://www-genesis.destatis.de/genesisWS/rest/2020/helloworld/whoami\"\n",
    "response = requests.get(url)\n",
    "response.text"
   ]
  },
  {
   "cell_type": "markdown",
   "id": "e16db88e",
   "metadata": {},
   "source": [
    "Read about the `logincheck` method (in Section 2.2). Do you have to authenticate? What does it return? Construct a request object using string formatting, send a `request` (in English language) and print the request's status. What type is the response's `text` attribute?"
   ]
  },
  {
   "cell_type": "code",
   "execution_count": 137,
   "id": "c76d2759",
   "metadata": {},
   "outputs": [],
   "source": [
    "url = 'https://www-genesis.destatis.de/genesisWS/rest/2020/helloworld/logincheck?username={}&password={}&language={}'.format(genesis_config.Username, genesis_config.Password, 'en')\n",
    "response = requests.get(url)"
   ]
  },
  {
   "cell_type": "code",
   "execution_count": 138,
   "id": "e9d037ef",
   "metadata": {},
   "outputs": [
    {
     "name": "stdout",
     "output_type": "stream",
     "text": [
      "{\"Status\":\"You have been logged in and out successfully!\",\"Username\":\"DE56JNILRL\"}\n"
     ]
    }
   ],
   "source": [
    "print(response.text)"
   ]
  },
  {
   "cell_type": "markdown",
   "id": "0e2eb210",
   "metadata": {},
   "source": [
    "Now that we have a working connection to the GENESIS Online API we want to directly obtain an economic indicator, the private sector's savings rate on a quarterly basis, for instance. This `data` is usually stored in a `table` somewhere in the depths of a data warehouse and it is (unfortunately) necessary to familiarise yourself, at least partially, with the internal server's structure.\n",
    "1. In the documentation file search for the `tablefile` method (under Section 2.5 Data). When should it be used? What does it return?\n",
    "2. Which method should you use if you want to directly obtain a `chart`?\n",
    "3. Which method should you use if you want to directly obtain a regional `map`? Which parameter controls the image's resolution?"
   ]
  },
  {
   "cell_type": "code",
   "execution_count": 200,
   "id": "e584e002",
   "metadata": {},
   "outputs": [],
   "source": [
    "field = '12411-0010'\n",
    "stand = '31.12.2019'\n",
    "language = 'en'\n",
    "url = 'https://www-genesis.destatis.de/genesisWS/rest/2020/data/map2table?username={}&password={}&name={}&area=all&mapType=0&classes=5&classification=0&zoom=3&startyear=&endyear=&timeslices=&regionalvariable=&regionalkey=&classifyingvariable1=&classifyingkey1=&classifyingvariable2=&classifyingkey2=&classifyingvariable3=&classifyingkey3=&format=png&stand={}&language={}'.format(genesis_config.Username, genesis_config.Password, field, stand, language)\n",
    "response = requests.get(url)"
   ]
  },
  {
   "cell_type": "code",
   "execution_count": 201,
   "id": "e07e934e",
   "metadata": {},
   "outputs": [],
   "source": [
    "with open(\"map.png\", 'wb') as f:\n",
    "    f.write(response.content)"
   ]
  },
  {
   "cell_type": "code",
   "execution_count": 202,
   "id": "0f0b383d",
   "metadata": {},
   "outputs": [
    {
     "data": {
      "image/png": "[encoded data removed]",
      "text/plain": [
       "<IPython.core.display.Image object>"
      ]
     },
     "execution_count": 202,
     "metadata": {},
     "output_type": "execute_result"
    }
   ],
   "source": [
    "from IPython.display import Image\n",
    "Image(filename='map.png') "
   ]
  },
  {
   "cell_type": "markdown",
   "id": "57138740",
   "metadata": {},
   "source": [
    "4. Login to the [GENESIS Online user interface](https://www-genesis.destatis.de/genesis/online?Menu=Anmeldung#abreadcrumb). Familiarise yourself with the tables' structure and navigate to the National Accounts (at the central level) --> Private sector disposable income and savings at quarterly frequency. Which parameters in the request can you control?\n",
    "5. Which method would you choose if you want to directly obtain a `table` in some machine readable format, e.g. a `.csv` or `.xlsx` that you can read into `pandas`? How do you include additional conditions matching particular values?\n",
    "6. Construct a `request` which contains the following specification:\n",
    "    - only seasonally and calendar-adjusted values (X13)\n",
    "    - all available years and quarters\n",
    "    - output format should be a `.xlsx` file\n",
    "7. Send the request but directly through the `pandas.read_excel()` method."
   ]
  },
  {
   "cell_type": "code",
   "execution_count": 207,
   "id": "dd5784a9",
   "metadata": {},
   "outputs": [
    {
     "name": "stdout",
     "output_type": "stream",
     "text": [
      "Collecting openpyxl\n",
      "  Downloading openpyxl-3.0.7-py2.py3-none-any.whl (243 kB)\n",
      "Collecting et-xmlfile\n",
      "  Using cached et_xmlfile-1.0.1.tar.gz (8.4 kB)\n",
      "Building wheels for collected packages: et-xmlfile\n",
      "  Building wheel for et-xmlfile (setup.py): started\n",
      "  Building wheel for et-xmlfile (setup.py): finished with status 'done'\n",
      "  Created wheel for et-xmlfile: filename=et_xmlfile-1.0.1-py3-none-any.whl size=8913 sha256=fa96cea2e482c572fa1b2540ccf7d37e759f8f790b7ebd54e1aa4dd19463ebea\n",
      "  Stored in directory: c:\\users\\wolfg\\appdata\\local\\pip\\cache\\wheels\\6e\\df\\38\\abda47b884e3e25f9f9b6430e5ce44c47670758a50c0c51759\n",
      "Successfully built et-xmlfile\n",
      "Installing collected packages: et-xmlfile, openpyxl\n",
      "Successfully installed et-xmlfile-1.0.1 openpyxl-3.0.7\n"
     ]
    }
   ],
   "source": [
    "! pip install openpyxl"
   ]
  },
  {
   "cell_type": "code",
   "execution_count": 238,
   "id": "46ce05ca",
   "metadata": {},
   "outputs": [
    {
     "name": "stderr",
     "output_type": "stream",
     "text": [
      "C:\\Users\\wolfg\\Anaconda3\\envs\\webscraping\\lib\\site-packages\\openpyxl\\styles\\stylesheet.py:221: UserWarning:\n",
      "\n",
      "Workbook contains no default style, apply openpyxl's default\n",
      "\n"
     ]
    }
   ],
   "source": [
    "code = '81000-0010'\n",
    "key_1 = 'WERT04'\n",
    "val_1 = 'X13JDKSB'\n",
    "key_2 = ''\n",
    "val_2 = ''\n",
    "key_3 = ''\n",
    "val_3 = ''\n",
    "start_year = '1991'\n",
    "end_year = '2020'\n",
    "\n",
    "url = ('https://www-genesis.destatis.de/genesisWS/rest/2020/data/tablefile?username={}&password={}&name={}&area=DINSG*&compress=false&transpose=false&startyear={}&endyear={}&timeslices=&regionalvariable=&regionalkey=&classifyingvariable1={}&classifyingkey1={}&classifyingvariable2={}&classifyingkey2={}&classifyingvariable3={}&classifyingkey3={}&format=xlsx&job=false&stand=&language=de').format(genesis_config.Username, genesis_config.Password, code, start_year, end_year, key_1, val_1, key_2, val_2, key_3, val_3)\n",
    "df = pd.read_excel(url)"
   ]
  },
  {
   "cell_type": "code",
   "execution_count": 239,
   "id": "30118f53",
   "metadata": {},
   "outputs": [
    {
     "data": {
      "text/html": [
       "<div>\n",
       "<style scoped>\n",
       "    .dataframe tbody tr th:only-of-type {\n",
       "        vertical-align: middle;\n",
       "    }\n",
       "\n",
       "    .dataframe tbody tr th {\n",
       "        vertical-align: top;\n",
       "    }\n",
       "\n",
       "    .dataframe thead th {\n",
       "        text-align: right;\n",
       "    }\n",
       "</style>\n",
       "<table border=\"1\" class=\"dataframe\">\n",
       "  <thead>\n",
       "    <tr style=\"text-align: right;\">\n",
       "      <th></th>\n",
       "      <th>VGR des Bundes - Verfügbares Einkommen, Sparen der privaten Haushalte: Deutschland, Quartale, Original- und bereinigte Daten</th>\n",
       "      <th>Unnamed: 1</th>\n",
       "      <th>Unnamed: 2</th>\n",
       "      <th>Unnamed: 3</th>\n",
       "      <th>Unnamed: 4</th>\n",
       "      <th>Unnamed: 5</th>\n",
       "      <th>Unnamed: 6</th>\n",
       "      <th>Unnamed: 7</th>\n",
       "      <th>Unnamed: 8</th>\n",
       "      <th>Unnamed: 9</th>\n",
       "      <th>...</th>\n",
       "      <th>Unnamed: 112</th>\n",
       "      <th>Unnamed: 113</th>\n",
       "      <th>Unnamed: 114</th>\n",
       "      <th>Unnamed: 115</th>\n",
       "      <th>Unnamed: 116</th>\n",
       "      <th>Unnamed: 117</th>\n",
       "      <th>Unnamed: 118</th>\n",
       "      <th>Unnamed: 119</th>\n",
       "      <th>Unnamed: 120</th>\n",
       "      <th>Unnamed: 121</th>\n",
       "    </tr>\n",
       "  </thead>\n",
       "  <tbody>\n",
       "    <tr>\n",
       "      <th>0</th>\n",
       "      <td>Volkswirtschaftliche Gesamtrechnungen des Bundes</td>\n",
       "      <td>NaN</td>\n",
       "      <td>NaN</td>\n",
       "      <td>NaN</td>\n",
       "      <td>NaN</td>\n",
       "      <td>NaN</td>\n",
       "      <td>NaN</td>\n",
       "      <td>NaN</td>\n",
       "      <td>NaN</td>\n",
       "      <td>NaN</td>\n",
       "      <td>...</td>\n",
       "      <td>NaN</td>\n",
       "      <td>NaN</td>\n",
       "      <td>NaN</td>\n",
       "      <td>NaN</td>\n",
       "      <td>NaN</td>\n",
       "      <td>NaN</td>\n",
       "      <td>NaN</td>\n",
       "      <td>NaN</td>\n",
       "      <td>NaN</td>\n",
       "      <td>NaN</td>\n",
       "    </tr>\n",
       "    <tr>\n",
       "      <th>1</th>\n",
       "      <td>Deutschland</td>\n",
       "      <td>NaN</td>\n",
       "      <td>NaN</td>\n",
       "      <td>NaN</td>\n",
       "      <td>NaN</td>\n",
       "      <td>NaN</td>\n",
       "      <td>NaN</td>\n",
       "      <td>NaN</td>\n",
       "      <td>NaN</td>\n",
       "      <td>NaN</td>\n",
       "      <td>...</td>\n",
       "      <td>NaN</td>\n",
       "      <td>NaN</td>\n",
       "      <td>NaN</td>\n",
       "      <td>NaN</td>\n",
       "      <td>NaN</td>\n",
       "      <td>NaN</td>\n",
       "      <td>NaN</td>\n",
       "      <td>NaN</td>\n",
       "      <td>NaN</td>\n",
       "      <td>NaN</td>\n",
       "    </tr>\n",
       "    <tr>\n",
       "      <th>2</th>\n",
       "      <td>Gegenstand der Nachweisung</td>\n",
       "      <td>Einheit</td>\n",
       "      <td>1991</td>\n",
       "      <td>NaN</td>\n",
       "      <td>NaN</td>\n",
       "      <td>NaN</td>\n",
       "      <td>1992</td>\n",
       "      <td>NaN</td>\n",
       "      <td>NaN</td>\n",
       "      <td>NaN</td>\n",
       "      <td>...</td>\n",
       "      <td>NaN</td>\n",
       "      <td>NaN</td>\n",
       "      <td>2019</td>\n",
       "      <td>NaN</td>\n",
       "      <td>NaN</td>\n",
       "      <td>NaN</td>\n",
       "      <td>2020</td>\n",
       "      <td>NaN</td>\n",
       "      <td>NaN</td>\n",
       "      <td>NaN</td>\n",
       "    </tr>\n",
       "    <tr>\n",
       "      <th>3</th>\n",
       "      <td>NaN</td>\n",
       "      <td>NaN</td>\n",
       "      <td>1. Quartal</td>\n",
       "      <td>2. Quartal</td>\n",
       "      <td>3. Quartal</td>\n",
       "      <td>4. Quartal</td>\n",
       "      <td>1. Quartal</td>\n",
       "      <td>2. Quartal</td>\n",
       "      <td>3. Quartal</td>\n",
       "      <td>4. Quartal</td>\n",
       "      <td>...</td>\n",
       "      <td>3. Quartal</td>\n",
       "      <td>4. Quartal</td>\n",
       "      <td>1. Quartal</td>\n",
       "      <td>2. Quartal</td>\n",
       "      <td>3. Quartal</td>\n",
       "      <td>4. Quartal</td>\n",
       "      <td>1. Quartal</td>\n",
       "      <td>2. Quartal</td>\n",
       "      <td>3. Quartal</td>\n",
       "      <td>4. Quartal</td>\n",
       "    </tr>\n",
       "    <tr>\n",
       "      <th>4</th>\n",
       "      <td>Originalwerte</td>\n",
       "      <td>NaN</td>\n",
       "      <td>NaN</td>\n",
       "      <td>NaN</td>\n",
       "      <td>NaN</td>\n",
       "      <td>NaN</td>\n",
       "      <td>NaN</td>\n",
       "      <td>NaN</td>\n",
       "      <td>NaN</td>\n",
       "      <td>NaN</td>\n",
       "      <td>...</td>\n",
       "      <td>NaN</td>\n",
       "      <td>NaN</td>\n",
       "      <td>NaN</td>\n",
       "      <td>NaN</td>\n",
       "      <td>NaN</td>\n",
       "      <td>NaN</td>\n",
       "      <td>NaN</td>\n",
       "      <td>NaN</td>\n",
       "      <td>NaN</td>\n",
       "      <td>NaN</td>\n",
       "    </tr>\n",
       "    <tr>\n",
       "      <th>5</th>\n",
       "      <td>Arbeitnehmerentgelt (Inländer)</td>\n",
       "      <td>Mrd. EUR</td>\n",
       "      <td>190.197</td>\n",
       "      <td>206.154</td>\n",
       "      <td>212.991</td>\n",
       "      <td>246.469</td>\n",
       "      <td>208.779</td>\n",
       "      <td>220.8</td>\n",
       "      <td>233.986</td>\n",
       "      <td>264.171</td>\n",
       "      <td>...</td>\n",
       "      <td>438.034</td>\n",
       "      <td>487.441</td>\n",
       "      <td>432.29</td>\n",
       "      <td>451.739</td>\n",
       "      <td>457.625</td>\n",
       "      <td>504.284</td>\n",
       "      <td>445.118</td>\n",
       "      <td>437.17</td>\n",
       "      <td>455.087</td>\n",
       "      <td>503.991</td>\n",
       "    </tr>\n",
       "    <tr>\n",
       "      <th>6</th>\n",
       "      <td>- Sozialbeiträge der Arbeitgeber</td>\n",
       "      <td>Mrd. EUR</td>\n",
       "      <td>33.698</td>\n",
       "      <td>37.577</td>\n",
       "      <td>37.874</td>\n",
       "      <td>43.341</td>\n",
       "      <td>37.712</td>\n",
       "      <td>39.515</td>\n",
       "      <td>41.479</td>\n",
       "      <td>46.84</td>\n",
       "      <td>...</td>\n",
       "      <td>76.152</td>\n",
       "      <td>84.304</td>\n",
       "      <td>76.969</td>\n",
       "      <td>80.176</td>\n",
       "      <td>79.488</td>\n",
       "      <td>87.672</td>\n",
       "      <td>79.505</td>\n",
       "      <td>82.147</td>\n",
       "      <td>81.002</td>\n",
       "      <td>89.278</td>\n",
       "    </tr>\n",
       "    <tr>\n",
       "      <th>7</th>\n",
       "      <td>= Bruttolöhne und -gehälter (Inländer)</td>\n",
       "      <td>Mrd. EUR</td>\n",
       "      <td>156.499</td>\n",
       "      <td>168.577</td>\n",
       "      <td>175.117</td>\n",
       "      <td>203.128</td>\n",
       "      <td>171.067</td>\n",
       "      <td>181.285</td>\n",
       "      <td>192.507</td>\n",
       "      <td>217.331</td>\n",
       "      <td>...</td>\n",
       "      <td>361.882</td>\n",
       "      <td>403.137</td>\n",
       "      <td>355.321</td>\n",
       "      <td>371.563</td>\n",
       "      <td>378.137</td>\n",
       "      <td>416.612</td>\n",
       "      <td>365.613</td>\n",
       "      <td>355.023</td>\n",
       "      <td>374.085</td>\n",
       "      <td>414.713</td>\n",
       "    </tr>\n",
       "    <tr>\n",
       "      <th>8</th>\n",
       "      <td>- Abzüge der Arbeitnehmer</td>\n",
       "      <td>Mrd. EUR</td>\n",
       "      <td>42.587</td>\n",
       "      <td>51.168</td>\n",
       "      <td>51.608</td>\n",
       "      <td>65.183</td>\n",
       "      <td>51.255</td>\n",
       "      <td>57.642</td>\n",
       "      <td>57.679</td>\n",
       "      <td>69.453</td>\n",
       "      <td>...</td>\n",
       "      <td>115.362</td>\n",
       "      <td>134.415</td>\n",
       "      <td>116.338</td>\n",
       "      <td>127.828</td>\n",
       "      <td>118.988</td>\n",
       "      <td>138.173</td>\n",
       "      <td>119.88</td>\n",
       "      <td>120.793</td>\n",
       "      <td>115.758</td>\n",
       "      <td>135.828</td>\n",
       "    </tr>\n",
       "    <tr>\n",
       "      <th>9</th>\n",
       "      <td>= Nettolöhne u. -gehälter (Inländer)</td>\n",
       "      <td>Mrd. EUR</td>\n",
       "      <td>113.912</td>\n",
       "      <td>117.409</td>\n",
       "      <td>123.509</td>\n",
       "      <td>137.945</td>\n",
       "      <td>119.812</td>\n",
       "      <td>123.643</td>\n",
       "      <td>134.828</td>\n",
       "      <td>147.878</td>\n",
       "      <td>...</td>\n",
       "      <td>246.52</td>\n",
       "      <td>268.722</td>\n",
       "      <td>238.983</td>\n",
       "      <td>243.735</td>\n",
       "      <td>259.149</td>\n",
       "      <td>278.439</td>\n",
       "      <td>245.733</td>\n",
       "      <td>234.23</td>\n",
       "      <td>258.327</td>\n",
       "      <td>278.885</td>\n",
       "    </tr>\n",
       "    <tr>\n",
       "      <th>10</th>\n",
       "      <td>+ Monetäre Sozialleistungen</td>\n",
       "      <td>Mrd. EUR</td>\n",
       "      <td>63.002</td>\n",
       "      <td>62.71</td>\n",
       "      <td>65.99</td>\n",
       "      <td>66.682</td>\n",
       "      <td>71.139</td>\n",
       "      <td>69.924</td>\n",
       "      <td>72.44</td>\n",
       "      <td>75.981</td>\n",
       "      <td>...</td>\n",
       "      <td>145.568</td>\n",
       "      <td>145.431</td>\n",
       "      <td>150.943</td>\n",
       "      <td>150.059</td>\n",
       "      <td>152.785</td>\n",
       "      <td>152.454</td>\n",
       "      <td>158.878</td>\n",
       "      <td>163.942</td>\n",
       "      <td>166.384</td>\n",
       "      <td>165.253</td>\n",
       "    </tr>\n",
       "    <tr>\n",
       "      <th>11</th>\n",
       "      <td>- Abgaben auf soz. Leist., verbrauchsnahe Ste...</td>\n",
       "      <td>Mrd. EUR</td>\n",
       "      <td>10.023</td>\n",
       "      <td>11.074</td>\n",
       "      <td>11.689</td>\n",
       "      <td>11.055</td>\n",
       "      <td>12.33</td>\n",
       "      <td>12.96</td>\n",
       "      <td>12.473</td>\n",
       "      <td>13.251</td>\n",
       "      <td>...</td>\n",
       "      <td>31.696</td>\n",
       "      <td>32.526</td>\n",
       "      <td>33.174</td>\n",
       "      <td>33.64</td>\n",
       "      <td>33.893</td>\n",
       "      <td>34.693</td>\n",
       "      <td>34.657</td>\n",
       "      <td>34.598</td>\n",
       "      <td>35.775</td>\n",
       "      <td>36.426</td>\n",
       "    </tr>\n",
       "    <tr>\n",
       "      <th>12</th>\n",
       "      <td>= Masseneinkommen (private Haushalte)</td>\n",
       "      <td>Mrd. EUR</td>\n",
       "      <td>166.891</td>\n",
       "      <td>169.045</td>\n",
       "      <td>177.81</td>\n",
       "      <td>193.572</td>\n",
       "      <td>178.621</td>\n",
       "      <td>180.607</td>\n",
       "      <td>194.795</td>\n",
       "      <td>210.608</td>\n",
       "      <td>...</td>\n",
       "      <td>360.392</td>\n",
       "      <td>381.627</td>\n",
       "      <td>356.752</td>\n",
       "      <td>360.154</td>\n",
       "      <td>378.041</td>\n",
       "      <td>396.2</td>\n",
       "      <td>369.954</td>\n",
       "      <td>363.574</td>\n",
       "      <td>388.936</td>\n",
       "      <td>407.712</td>\n",
       "    </tr>\n",
       "    <tr>\n",
       "      <th>13</th>\n",
       "      <td>+ Betriebsübersch./Selbständ.-,Verm.eink. pri...</td>\n",
       "      <td>Mrd. EUR</td>\n",
       "      <td>89.383</td>\n",
       "      <td>88.747</td>\n",
       "      <td>76.862</td>\n",
       "      <td>83.075</td>\n",
       "      <td>99.95</td>\n",
       "      <td>91.401</td>\n",
       "      <td>78.218</td>\n",
       "      <td>84.681</td>\n",
       "      <td>...</td>\n",
       "      <td>137.942</td>\n",
       "      <td>127.073</td>\n",
       "      <td>164.685</td>\n",
       "      <td>149.79</td>\n",
       "      <td>137.37</td>\n",
       "      <td>126.558</td>\n",
       "      <td>166.629</td>\n",
       "      <td>135.796</td>\n",
       "      <td>127.586</td>\n",
       "      <td>115.38</td>\n",
       "    </tr>\n",
       "    <tr>\n",
       "      <th>14</th>\n",
       "      <td>+ Weitere empfangene abzgl. geleistete Transfers</td>\n",
       "      <td>Mrd. EUR</td>\n",
       "      <td>-9.337</td>\n",
       "      <td>-9.801</td>\n",
       "      <td>-10.11</td>\n",
       "      <td>-11.2</td>\n",
       "      <td>-11.143</td>\n",
       "      <td>-10.176</td>\n",
       "      <td>-9.908</td>\n",
       "      <td>-11.167</td>\n",
       "      <td>...</td>\n",
       "      <td>-23.915</td>\n",
       "      <td>-23.975</td>\n",
       "      <td>-26.891</td>\n",
       "      <td>-23.738</td>\n",
       "      <td>-23.471</td>\n",
       "      <td>-25.635</td>\n",
       "      <td>-29.106</td>\n",
       "      <td>-17.387</td>\n",
       "      <td>-21.622</td>\n",
       "      <td>-24.408</td>\n",
       "    </tr>\n",
       "    <tr>\n",
       "      <th>15</th>\n",
       "      <td>= Verfügbares Einkommen der privaten Haushalte</td>\n",
       "      <td>Mrd. EUR</td>\n",
       "      <td>246.937</td>\n",
       "      <td>247.991</td>\n",
       "      <td>244.562</td>\n",
       "      <td>265.447</td>\n",
       "      <td>267.428</td>\n",
       "      <td>261.832</td>\n",
       "      <td>263.105</td>\n",
       "      <td>284.122</td>\n",
       "      <td>...</td>\n",
       "      <td>474.419</td>\n",
       "      <td>484.725</td>\n",
       "      <td>494.546</td>\n",
       "      <td>486.206</td>\n",
       "      <td>491.94</td>\n",
       "      <td>497.123</td>\n",
       "      <td>507.477</td>\n",
       "      <td>481.983</td>\n",
       "      <td>494.9</td>\n",
       "      <td>498.684</td>\n",
       "    </tr>\n",
       "    <tr>\n",
       "      <th>16</th>\n",
       "      <td>nachrichtl.: Verfügb. Einkommen (Verbrauchskz...</td>\n",
       "      <td>Mrd. EUR</td>\n",
       "      <td>283.55</td>\n",
       "      <td>288.263</td>\n",
       "      <td>285.827</td>\n",
       "      <td>314.602</td>\n",
       "      <td>309.507</td>\n",
       "      <td>306.669</td>\n",
       "      <td>309.447</td>\n",
       "      <td>337.886</td>\n",
       "      <td>...</td>\n",
       "      <td>580.254</td>\n",
       "      <td>598.814</td>\n",
       "      <td>604.853</td>\n",
       "      <td>596.705</td>\n",
       "      <td>603.774</td>\n",
       "      <td>617.4</td>\n",
       "      <td>623.483</td>\n",
       "      <td>595.288</td>\n",
       "      <td>614.379</td>\n",
       "      <td>624.579</td>\n",
       "    </tr>\n",
       "    <tr>\n",
       "      <th>17</th>\n",
       "      <td>Zunahme betriebl. Versorg.ansprüche</td>\n",
       "      <td>Mrd. EUR</td>\n",
       "      <td>3.624</td>\n",
       "      <td>3.79</td>\n",
       "      <td>3.847</td>\n",
       "      <td>4.314</td>\n",
       "      <td>4.137</td>\n",
       "      <td>4.226</td>\n",
       "      <td>4.518</td>\n",
       "      <td>4.936</td>\n",
       "      <td>...</td>\n",
       "      <td>14.581</td>\n",
       "      <td>15.875</td>\n",
       "      <td>13.734</td>\n",
       "      <td>14.114</td>\n",
       "      <td>14.112</td>\n",
       "      <td>15.348</td>\n",
       "      <td>13.863</td>\n",
       "      <td>14.05</td>\n",
       "      <td>14.105</td>\n",
       "      <td>15.339</td>\n",
       "    </tr>\n",
       "    <tr>\n",
       "      <th>18</th>\n",
       "      <td>Sparen der privaten Haushalte</td>\n",
       "      <td>Mrd. EUR</td>\n",
       "      <td>40.917</td>\n",
       "      <td>33.011</td>\n",
       "      <td>27.317</td>\n",
       "      <td>30.612</td>\n",
       "      <td>45.121</td>\n",
       "      <td>33.086</td>\n",
       "      <td>30.381</td>\n",
       "      <td>32.217</td>\n",
       "      <td>...</td>\n",
       "      <td>45.641</td>\n",
       "      <td>48.385</td>\n",
       "      <td>73.014</td>\n",
       "      <td>50.995</td>\n",
       "      <td>46.592</td>\n",
       "      <td>49.651</td>\n",
       "      <td>84.545</td>\n",
       "      <td>98.974</td>\n",
       "      <td>67.058</td>\n",
       "      <td>80.525</td>\n",
       "    </tr>\n",
       "    <tr>\n",
       "      <th>19</th>\n",
       "      <td>Bezugsgröße für die Sparquote</td>\n",
       "      <td>Mrd. EUR</td>\n",
       "      <td>250.561</td>\n",
       "      <td>251.781</td>\n",
       "      <td>248.409</td>\n",
       "      <td>269.761</td>\n",
       "      <td>271.565</td>\n",
       "      <td>266.058</td>\n",
       "      <td>267.623</td>\n",
       "      <td>289.058</td>\n",
       "      <td>...</td>\n",
       "      <td>489</td>\n",
       "      <td>500.6</td>\n",
       "      <td>508.28</td>\n",
       "      <td>500.32</td>\n",
       "      <td>506.052</td>\n",
       "      <td>512.471</td>\n",
       "      <td>521.34</td>\n",
       "      <td>496.033</td>\n",
       "      <td>509.005</td>\n",
       "      <td>514.023</td>\n",
       "    </tr>\n",
       "    <tr>\n",
       "      <th>20</th>\n",
       "      <td>Sparquote der privaten Haushalte</td>\n",
       "      <td>Prozent</td>\n",
       "      <td>16.3</td>\n",
       "      <td>13.1</td>\n",
       "      <td>11</td>\n",
       "      <td>11.3</td>\n",
       "      <td>16.6</td>\n",
       "      <td>12.4</td>\n",
       "      <td>11.4</td>\n",
       "      <td>11.1</td>\n",
       "      <td>...</td>\n",
       "      <td>9.3</td>\n",
       "      <td>9.7</td>\n",
       "      <td>14.4</td>\n",
       "      <td>10.2</td>\n",
       "      <td>9.2</td>\n",
       "      <td>9.7</td>\n",
       "      <td>16.2</td>\n",
       "      <td>20</td>\n",
       "      <td>13.2</td>\n",
       "      <td>15.7</td>\n",
       "    </tr>\n",
       "    <tr>\n",
       "      <th>21</th>\n",
       "      <td>X13 JDemetra+  saisonbereinigt</td>\n",
       "      <td>NaN</td>\n",
       "      <td>NaN</td>\n",
       "      <td>NaN</td>\n",
       "      <td>NaN</td>\n",
       "      <td>NaN</td>\n",
       "      <td>NaN</td>\n",
       "      <td>NaN</td>\n",
       "      <td>NaN</td>\n",
       "      <td>NaN</td>\n",
       "      <td>...</td>\n",
       "      <td>NaN</td>\n",
       "      <td>NaN</td>\n",
       "      <td>NaN</td>\n",
       "      <td>NaN</td>\n",
       "      <td>NaN</td>\n",
       "      <td>NaN</td>\n",
       "      <td>NaN</td>\n",
       "      <td>NaN</td>\n",
       "      <td>NaN</td>\n",
       "      <td>NaN</td>\n",
       "    </tr>\n",
       "    <tr>\n",
       "      <th>22</th>\n",
       "      <td>Arbeitnehmerentgelt (Inländer)</td>\n",
       "      <td>Mrd. EUR</td>\n",
       "      <td>206.004</td>\n",
       "      <td>215.187</td>\n",
       "      <td>215.681</td>\n",
       "      <td>218.939</td>\n",
       "      <td>225.651</td>\n",
       "      <td>230.232</td>\n",
       "      <td>236.701</td>\n",
       "      <td>235.151</td>\n",
       "      <td>...</td>\n",
       "      <td>445.995</td>\n",
       "      <td>450.285</td>\n",
       "      <td>454.899</td>\n",
       "      <td>459.159</td>\n",
       "      <td>465.688</td>\n",
       "      <td>466.189</td>\n",
       "      <td>467.956</td>\n",
       "      <td>444.51</td>\n",
       "      <td>462.784</td>\n",
       "      <td>466.119</td>\n",
       "    </tr>\n",
       "    <tr>\n",
       "      <th>23</th>\n",
       "      <td>- Sozialbeiträge der Arbeitgeber</td>\n",
       "      <td>Mrd. EUR</td>\n",
       "      <td>36.61</td>\n",
       "      <td>39.396</td>\n",
       "      <td>38.416</td>\n",
       "      <td>38.068</td>\n",
       "      <td>40.585</td>\n",
       "      <td>41.272</td>\n",
       "      <td>41.939</td>\n",
       "      <td>41.749</td>\n",
       "      <td>...</td>\n",
       "      <td>78.75</td>\n",
       "      <td>78.966</td>\n",
       "      <td>79.471</td>\n",
       "      <td>80.175</td>\n",
       "      <td>82.486</td>\n",
       "      <td>82.17</td>\n",
       "      <td>81.659</td>\n",
       "      <td>82.502</td>\n",
       "      <td>84.131</td>\n",
       "      <td>83.643</td>\n",
       "    </tr>\n",
       "    <tr>\n",
       "      <th>24</th>\n",
       "      <td>= Bruttolöhne und -gehälter (Inländer)</td>\n",
       "      <td>Mrd. EUR</td>\n",
       "      <td>169.394</td>\n",
       "      <td>175.791</td>\n",
       "      <td>177.265</td>\n",
       "      <td>180.871</td>\n",
       "      <td>185.066</td>\n",
       "      <td>188.96</td>\n",
       "      <td>194.762</td>\n",
       "      <td>193.402</td>\n",
       "      <td>...</td>\n",
       "      <td>367.245</td>\n",
       "      <td>371.319</td>\n",
       "      <td>375.428</td>\n",
       "      <td>378.984</td>\n",
       "      <td>383.202</td>\n",
       "      <td>384.019</td>\n",
       "      <td>386.297</td>\n",
       "      <td>362.008</td>\n",
       "      <td>378.653</td>\n",
       "      <td>382.476</td>\n",
       "    </tr>\n",
       "    <tr>\n",
       "      <th>25</th>\n",
       "      <td>- Abzüge der Arbeitnehmer</td>\n",
       "      <td>Mrd. EUR</td>\n",
       "      <td>47.664</td>\n",
       "      <td>51.742</td>\n",
       "      <td>55.031</td>\n",
       "      <td>56.109</td>\n",
       "      <td>57</td>\n",
       "      <td>58.258</td>\n",
       "      <td>61.245</td>\n",
       "      <td>59.526</td>\n",
       "      <td>...</td>\n",
       "      <td>122.15</td>\n",
       "      <td>123.417</td>\n",
       "      <td>123.421</td>\n",
       "      <td>125.073</td>\n",
       "      <td>125.89</td>\n",
       "      <td>126.943</td>\n",
       "      <td>127.244</td>\n",
       "      <td>117.902</td>\n",
       "      <td>122.329</td>\n",
       "      <td>124.784</td>\n",
       "    </tr>\n",
       "    <tr>\n",
       "      <th>26</th>\n",
       "      <td>= Nettolöhne u. -gehälter (Inländer)</td>\n",
       "      <td>Mrd. EUR</td>\n",
       "      <td>121.73</td>\n",
       "      <td>124.049</td>\n",
       "      <td>122.234</td>\n",
       "      <td>124.762</td>\n",
       "      <td>128.066</td>\n",
       "      <td>130.702</td>\n",
       "      <td>133.517</td>\n",
       "      <td>133.876</td>\n",
       "      <td>...</td>\n",
       "      <td>245.095</td>\n",
       "      <td>247.902</td>\n",
       "      <td>252.007</td>\n",
       "      <td>253.911</td>\n",
       "      <td>257.312</td>\n",
       "      <td>257.076</td>\n",
       "      <td>259.053</td>\n",
       "      <td>244.106</td>\n",
       "      <td>256.324</td>\n",
       "      <td>257.692</td>\n",
       "    </tr>\n",
       "    <tr>\n",
       "      <th>27</th>\n",
       "      <td>+ Monetäre Sozialleistungen</td>\n",
       "      <td>Mrd. EUR</td>\n",
       "      <td>61.308</td>\n",
       "      <td>63.933</td>\n",
       "      <td>66.331</td>\n",
       "      <td>66.813</td>\n",
       "      <td>69.449</td>\n",
       "      <td>71.098</td>\n",
       "      <td>72.78</td>\n",
       "      <td>76.157</td>\n",
       "      <td>...</td>\n",
       "      <td>145.477</td>\n",
       "      <td>146.856</td>\n",
       "      <td>148.633</td>\n",
       "      <td>151.025</td>\n",
       "      <td>152.648</td>\n",
       "      <td>153.935</td>\n",
       "      <td>156.604</td>\n",
       "      <td>164.857</td>\n",
       "      <td>166.245</td>\n",
       "      <td>166.75</td>\n",
       "    </tr>\n",
       "    <tr>\n",
       "      <th>28</th>\n",
       "      <td>- Abgaben auf soz. Leist., verbrauchsnahe Ste...</td>\n",
       "      <td>Mrd. EUR</td>\n",
       "      <td>9.699</td>\n",
       "      <td>10.808</td>\n",
       "      <td>12.308</td>\n",
       "      <td>11.026</td>\n",
       "      <td>12.003</td>\n",
       "      <td>12.694</td>\n",
       "      <td>13.094</td>\n",
       "      <td>13.223</td>\n",
       "      <td>...</td>\n",
       "      <td>31.925</td>\n",
       "      <td>32.385</td>\n",
       "      <td>32.991</td>\n",
       "      <td>33.717</td>\n",
       "      <td>34.125</td>\n",
       "      <td>34.568</td>\n",
       "      <td>34.475</td>\n",
       "      <td>34.659</td>\n",
       "      <td>36.013</td>\n",
       "      <td>36.308</td>\n",
       "    </tr>\n",
       "    <tr>\n",
       "      <th>29</th>\n",
       "      <td>= Masseneinkommen (private Haushalte)</td>\n",
       "      <td>Mrd. EUR</td>\n",
       "      <td>173.339</td>\n",
       "      <td>177.174</td>\n",
       "      <td>176.257</td>\n",
       "      <td>180.549</td>\n",
       "      <td>185.512</td>\n",
       "      <td>189.106</td>\n",
       "      <td>193.203</td>\n",
       "      <td>196.81</td>\n",
       "      <td>...</td>\n",
       "      <td>358.647</td>\n",
       "      <td>362.373</td>\n",
       "      <td>367.649</td>\n",
       "      <td>371.219</td>\n",
       "      <td>375.835</td>\n",
       "      <td>376.443</td>\n",
       "      <td>381.182</td>\n",
       "      <td>374.304</td>\n",
       "      <td>386.556</td>\n",
       "      <td>388.134</td>\n",
       "    </tr>\n",
       "    <tr>\n",
       "      <th>30</th>\n",
       "      <td>+ Betriebsübersch./Selbständ.-,Verm.eink. pri...</td>\n",
       "      <td>Mrd. EUR</td>\n",
       "      <td>80.173</td>\n",
       "      <td>85.556</td>\n",
       "      <td>85.25</td>\n",
       "      <td>87.088</td>\n",
       "      <td>90.095</td>\n",
       "      <td>88.514</td>\n",
       "      <td>86.771</td>\n",
       "      <td>88.87</td>\n",
       "      <td>...</td>\n",
       "      <td>142.838</td>\n",
       "      <td>144.816</td>\n",
       "      <td>145.394</td>\n",
       "      <td>145.86</td>\n",
       "      <td>142.717</td>\n",
       "      <td>144.432</td>\n",
       "      <td>147.051</td>\n",
       "      <td>132.592</td>\n",
       "      <td>133.461</td>\n",
       "      <td>132.287</td>\n",
       "    </tr>\n",
       "    <tr>\n",
       "      <th>31</th>\n",
       "      <td>+ Weitere empfangene abzgl. geleistete Transfers</td>\n",
       "      <td>Mrd. EUR</td>\n",
       "      <td>-10.012</td>\n",
       "      <td>-10.393</td>\n",
       "      <td>-11.678</td>\n",
       "      <td>-8.367</td>\n",
       "      <td>-12.017</td>\n",
       "      <td>-11.197</td>\n",
       "      <td>-10.986</td>\n",
       "      <td>-8.194</td>\n",
       "      <td>...</td>\n",
       "      <td>-23.668</td>\n",
       "      <td>-22.765</td>\n",
       "      <td>-26.953</td>\n",
       "      <td>-26.092</td>\n",
       "      <td>-22.968</td>\n",
       "      <td>-23.721</td>\n",
       "      <td>-35.373</td>\n",
       "      <td>-20.793</td>\n",
       "      <td>-18.88</td>\n",
       "      <td>-17.477</td>\n",
       "    </tr>\n",
       "    <tr>\n",
       "      <th>32</th>\n",
       "      <td>= Verfügbares Einkommen der privaten Haushalte</td>\n",
       "      <td>Mrd. EUR</td>\n",
       "      <td>243.5</td>\n",
       "      <td>252.337</td>\n",
       "      <td>249.829</td>\n",
       "      <td>259.27</td>\n",
       "      <td>263.59</td>\n",
       "      <td>266.423</td>\n",
       "      <td>268.988</td>\n",
       "      <td>277.486</td>\n",
       "      <td>...</td>\n",
       "      <td>477.817</td>\n",
       "      <td>484.424</td>\n",
       "      <td>486.09</td>\n",
       "      <td>490.987</td>\n",
       "      <td>495.584</td>\n",
       "      <td>497.154</td>\n",
       "      <td>492.86</td>\n",
       "      <td>486.103</td>\n",
       "      <td>501.137</td>\n",
       "      <td>502.944</td>\n",
       "    </tr>\n",
       "    <tr>\n",
       "      <th>33</th>\n",
       "      <td>nachrichtl.: Verfügb. Einkommen (Verbrauchskz...</td>\n",
       "      <td>Mrd. EUR</td>\n",
       "      <td>282.254</td>\n",
       "      <td>294.476</td>\n",
       "      <td>291.614</td>\n",
       "      <td>303.898</td>\n",
       "      <td>307.984</td>\n",
       "      <td>313.231</td>\n",
       "      <td>315.864</td>\n",
       "      <td>326.43</td>\n",
       "      <td>...</td>\n",
       "      <td>585.966</td>\n",
       "      <td>593.836</td>\n",
       "      <td>597.144</td>\n",
       "      <td>603.213</td>\n",
       "      <td>609.746</td>\n",
       "      <td>612.628</td>\n",
       "      <td>609.52</td>\n",
       "      <td>601.258</td>\n",
       "      <td>622.897</td>\n",
       "      <td>624.055</td>\n",
       "    </tr>\n",
       "    <tr>\n",
       "      <th>34</th>\n",
       "      <td>Zunahme betriebl. Versorg.ansprüche</td>\n",
       "      <td>Mrd. EUR</td>\n",
       "      <td>3.795</td>\n",
       "      <td>3.951</td>\n",
       "      <td>3.896</td>\n",
       "      <td>3.933</td>\n",
       "      <td>4.337</td>\n",
       "      <td>4.403</td>\n",
       "      <td>4.579</td>\n",
       "      <td>4.497</td>\n",
       "      <td>...</td>\n",
       "      <td>14.834</td>\n",
       "      <td>14.842</td>\n",
       "      <td>14.293</td>\n",
       "      <td>14.325</td>\n",
       "      <td>14.352</td>\n",
       "      <td>14.338</td>\n",
       "      <td>14.434</td>\n",
       "      <td>14.264</td>\n",
       "      <td>14.342</td>\n",
       "      <td>14.317</td>\n",
       "    </tr>\n",
       "    <tr>\n",
       "      <th>35</th>\n",
       "      <td>Sparen der privaten Haushalte</td>\n",
       "      <td>Mrd. EUR</td>\n",
       "      <td>31.25</td>\n",
       "      <td>34.941</td>\n",
       "      <td>32.2</td>\n",
       "      <td>33.466</td>\n",
       "      <td>34.528</td>\n",
       "      <td>35.114</td>\n",
       "      <td>35.882</td>\n",
       "      <td>35.28</td>\n",
       "      <td>...</td>\n",
       "      <td>54.463</td>\n",
       "      <td>55.299</td>\n",
       "      <td>53.709</td>\n",
       "      <td>53.944</td>\n",
       "      <td>55.713</td>\n",
       "      <td>56.886</td>\n",
       "      <td>59.381</td>\n",
       "      <td>101.636</td>\n",
       "      <td>78.713</td>\n",
       "      <td>91.372</td>\n",
       "    </tr>\n",
       "    <tr>\n",
       "      <th>36</th>\n",
       "      <td>Bezugsgröße für die Sparquote</td>\n",
       "      <td>Mrd. EUR</td>\n",
       "      <td>247.295</td>\n",
       "      <td>256.288</td>\n",
       "      <td>253.725</td>\n",
       "      <td>263.203</td>\n",
       "      <td>267.927</td>\n",
       "      <td>270.826</td>\n",
       "      <td>273.567</td>\n",
       "      <td>281.983</td>\n",
       "      <td>...</td>\n",
       "      <td>492.651</td>\n",
       "      <td>499.266</td>\n",
       "      <td>500.383</td>\n",
       "      <td>505.312</td>\n",
       "      <td>509.936</td>\n",
       "      <td>511.492</td>\n",
       "      <td>507.294</td>\n",
       "      <td>500.367</td>\n",
       "      <td>515.479</td>\n",
       "      <td>517.261</td>\n",
       "    </tr>\n",
       "    <tr>\n",
       "      <th>37</th>\n",
       "      <td>Sparquote der privaten Haushalte</td>\n",
       "      <td>Prozent</td>\n",
       "      <td>12.6</td>\n",
       "      <td>13.6</td>\n",
       "      <td>12.7</td>\n",
       "      <td>12.7</td>\n",
       "      <td>12.9</td>\n",
       "      <td>13</td>\n",
       "      <td>13.1</td>\n",
       "      <td>12.5</td>\n",
       "      <td>...</td>\n",
       "      <td>11.1</td>\n",
       "      <td>11.1</td>\n",
       "      <td>10.7</td>\n",
       "      <td>10.7</td>\n",
       "      <td>10.9</td>\n",
       "      <td>11.1</td>\n",
       "      <td>11.7</td>\n",
       "      <td>20.3</td>\n",
       "      <td>15.3</td>\n",
       "      <td>17.7</td>\n",
       "    </tr>\n",
       "    <tr>\n",
       "      <th>38</th>\n",
       "      <td>BV4.1 saisonbereinigt</td>\n",
       "      <td>NaN</td>\n",
       "      <td>NaN</td>\n",
       "      <td>NaN</td>\n",
       "      <td>NaN</td>\n",
       "      <td>NaN</td>\n",
       "      <td>NaN</td>\n",
       "      <td>NaN</td>\n",
       "      <td>NaN</td>\n",
       "      <td>NaN</td>\n",
       "      <td>...</td>\n",
       "      <td>NaN</td>\n",
       "      <td>NaN</td>\n",
       "      <td>NaN</td>\n",
       "      <td>NaN</td>\n",
       "      <td>NaN</td>\n",
       "      <td>NaN</td>\n",
       "      <td>NaN</td>\n",
       "      <td>NaN</td>\n",
       "      <td>NaN</td>\n",
       "      <td>NaN</td>\n",
       "    </tr>\n",
       "    <tr>\n",
       "      <th>39</th>\n",
       "      <td>Arbeitnehmerentgelt (Inländer)</td>\n",
       "      <td>Mrd. EUR</td>\n",
       "      <td>207.629</td>\n",
       "      <td>214.096</td>\n",
       "      <td>214.413</td>\n",
       "      <td>219.538</td>\n",
       "      <td>226.056</td>\n",
       "      <td>229.392</td>\n",
       "      <td>235.394</td>\n",
       "      <td>236.469</td>\n",
       "      <td>...</td>\n",
       "      <td>445.355</td>\n",
       "      <td>449.775</td>\n",
       "      <td>453.882</td>\n",
       "      <td>461.762</td>\n",
       "      <td>464.441</td>\n",
       "      <td>465.656</td>\n",
       "      <td>466.217</td>\n",
       "      <td>448.742</td>\n",
       "      <td>461.831</td>\n",
       "      <td>464.623</td>\n",
       "    </tr>\n",
       "    <tr>\n",
       "      <th>40</th>\n",
       "      <td>- Sozialbeiträge der Arbeitgeber</td>\n",
       "      <td>Mrd. EUR</td>\n",
       "      <td>36.35</td>\n",
       "      <td>38.48</td>\n",
       "      <td>38.399</td>\n",
       "      <td>39.395</td>\n",
       "      <td>40.03</td>\n",
       "      <td>40.683</td>\n",
       "      <td>42.088</td>\n",
       "      <td>42.809</td>\n",
       "      <td>...</td>\n",
       "      <td>78.072</td>\n",
       "      <td>79.134</td>\n",
       "      <td>80.643</td>\n",
       "      <td>78.661</td>\n",
       "      <td>81.963</td>\n",
       "      <td>83.044</td>\n",
       "      <td>83.751</td>\n",
       "      <td>79.049</td>\n",
       "      <td>83.919</td>\n",
       "      <td>85.016</td>\n",
       "    </tr>\n",
       "    <tr>\n",
       "      <th>41</th>\n",
       "      <td>= Bruttolöhne und -gehälter (Inländer)</td>\n",
       "      <td>Mrd. EUR</td>\n",
       "      <td>171.279</td>\n",
       "      <td>175.616</td>\n",
       "      <td>176.014</td>\n",
       "      <td>180.143</td>\n",
       "      <td>186.026</td>\n",
       "      <td>188.709</td>\n",
       "      <td>193.306</td>\n",
       "      <td>193.66</td>\n",
       "      <td>...</td>\n",
       "      <td>367.283</td>\n",
       "      <td>370.641</td>\n",
       "      <td>373.239</td>\n",
       "      <td>383.101</td>\n",
       "      <td>382.478</td>\n",
       "      <td>382.612</td>\n",
       "      <td>382.466</td>\n",
       "      <td>369.693</td>\n",
       "      <td>377.912</td>\n",
       "      <td>379.607</td>\n",
       "    </tr>\n",
       "    <tr>\n",
       "      <th>42</th>\n",
       "      <td>- Abzüge der Arbeitnehmer</td>\n",
       "      <td>Mrd. EUR</td>\n",
       "      <td>49.073</td>\n",
       "      <td>52.068</td>\n",
       "      <td>53.729</td>\n",
       "      <td>55.632</td>\n",
       "      <td>57.643</td>\n",
       "      <td>58.688</td>\n",
       "      <td>59.921</td>\n",
       "      <td>59.681</td>\n",
       "      <td>...</td>\n",
       "      <td>122.231</td>\n",
       "      <td>123.008</td>\n",
       "      <td>122.907</td>\n",
       "      <td>126.483</td>\n",
       "      <td>125.896</td>\n",
       "      <td>125.99</td>\n",
       "      <td>125.99</td>\n",
       "      <td>120.574</td>\n",
       "      <td>122.648</td>\n",
       "      <td>123.174</td>\n",
       "    </tr>\n",
       "    <tr>\n",
       "      <th>43</th>\n",
       "      <td>= Nettolöhne u. -gehälter (Inländer)</td>\n",
       "      <td>Mrd. EUR</td>\n",
       "      <td>122.206</td>\n",
       "      <td>123.548</td>\n",
       "      <td>122.285</td>\n",
       "      <td>124.511</td>\n",
       "      <td>128.383</td>\n",
       "      <td>130.021</td>\n",
       "      <td>133.385</td>\n",
       "      <td>133.979</td>\n",
       "      <td>...</td>\n",
       "      <td>245.052</td>\n",
       "      <td>247.633</td>\n",
       "      <td>250.332</td>\n",
       "      <td>256.618</td>\n",
       "      <td>256.582</td>\n",
       "      <td>256.622</td>\n",
       "      <td>256.476</td>\n",
       "      <td>249.119</td>\n",
       "      <td>255.264</td>\n",
       "      <td>256.433</td>\n",
       "    </tr>\n",
       "    <tr>\n",
       "      <th>44</th>\n",
       "      <td>+ Monetäre Sozialleistungen</td>\n",
       "      <td>Mrd. EUR</td>\n",
       "      <td>61.495</td>\n",
       "      <td>64.022</td>\n",
       "      <td>66.187</td>\n",
       "      <td>66.563</td>\n",
       "      <td>69.61</td>\n",
       "      <td>71.397</td>\n",
       "      <td>72.782</td>\n",
       "      <td>75.494</td>\n",
       "      <td>...</td>\n",
       "      <td>145.446</td>\n",
       "      <td>147.189</td>\n",
       "      <td>149.1</td>\n",
       "      <td>150.012</td>\n",
       "      <td>152.325</td>\n",
       "      <td>154.748</td>\n",
       "      <td>157.486</td>\n",
       "      <td>163.235</td>\n",
       "      <td>165.796</td>\n",
       "      <td>167.911</td>\n",
       "    </tr>\n",
       "    <tr>\n",
       "      <th>45</th>\n",
       "      <td>- Abgaben auf soz. Leist., verbrauchsnahe Ste...</td>\n",
       "      <td>Mrd. EUR</td>\n",
       "      <td>9.868</td>\n",
       "      <td>10.692</td>\n",
       "      <td>11.768</td>\n",
       "      <td>11.479</td>\n",
       "      <td>12.106</td>\n",
       "      <td>12.597</td>\n",
       "      <td>12.735</td>\n",
       "      <td>13.532</td>\n",
       "      <td>...</td>\n",
       "      <td>31.951</td>\n",
       "      <td>32.466</td>\n",
       "      <td>33.255</td>\n",
       "      <td>33.099</td>\n",
       "      <td>34.221</td>\n",
       "      <td>34.755</td>\n",
       "      <td>35.023</td>\n",
       "      <td>33.583</td>\n",
       "      <td>36.186</td>\n",
       "      <td>36.566</td>\n",
       "    </tr>\n",
       "    <tr>\n",
       "      <th>46</th>\n",
       "      <td>= Masseneinkommen (private Haushalte)</td>\n",
       "      <td>Mrd. EUR</td>\n",
       "      <td>173.833</td>\n",
       "      <td>176.878</td>\n",
       "      <td>176.704</td>\n",
       "      <td>179.595</td>\n",
       "      <td>185.887</td>\n",
       "      <td>188.821</td>\n",
       "      <td>193.432</td>\n",
       "      <td>195.941</td>\n",
       "      <td>...</td>\n",
       "      <td>358.547</td>\n",
       "      <td>362.356</td>\n",
       "      <td>366.177</td>\n",
       "      <td>373.531</td>\n",
       "      <td>374.686</td>\n",
       "      <td>376.615</td>\n",
       "      <td>378.939</td>\n",
       "      <td>378.771</td>\n",
       "      <td>384.874</td>\n",
       "      <td>387.778</td>\n",
       "    </tr>\n",
       "    <tr>\n",
       "      <th>47</th>\n",
       "      <td>+ Betriebsübersch./Selbständ.-,Verm.eink. pri...</td>\n",
       "      <td>Mrd. EUR</td>\n",
       "      <td>78.893</td>\n",
       "      <td>84.953</td>\n",
       "      <td>86.804</td>\n",
       "      <td>87.648</td>\n",
       "      <td>89.11</td>\n",
       "      <td>87.824</td>\n",
       "      <td>87.947</td>\n",
       "      <td>89.289</td>\n",
       "      <td>...</td>\n",
       "      <td>144.438</td>\n",
       "      <td>145.506</td>\n",
       "      <td>143.306</td>\n",
       "      <td>145.237</td>\n",
       "      <td>145.354</td>\n",
       "      <td>144.754</td>\n",
       "      <td>144.977</td>\n",
       "      <td>131.121</td>\n",
       "      <td>135.879</td>\n",
       "      <td>133.567</td>\n",
       "    </tr>\n",
       "    <tr>\n",
       "      <th>48</th>\n",
       "      <td>+ Weitere empfangene abzgl. geleistete Transfers</td>\n",
       "      <td>Mrd. EUR</td>\n",
       "      <td>-9.096</td>\n",
       "      <td>-10.161</td>\n",
       "      <td>-10.642</td>\n",
       "      <td>-10.598</td>\n",
       "      <td>-10.834</td>\n",
       "      <td>-10.583</td>\n",
       "      <td>-10.492</td>\n",
       "      <td>-10.352</td>\n",
       "      <td>...</td>\n",
       "      <td>-25.132</td>\n",
       "      <td>-23.646</td>\n",
       "      <td>-22.442</td>\n",
       "      <td>-27.63</td>\n",
       "      <td>-25.548</td>\n",
       "      <td>-24.448</td>\n",
       "      <td>-23.427</td>\n",
       "      <td>-22.911</td>\n",
       "      <td>-23.958</td>\n",
       "      <td>-22.206</td>\n",
       "    </tr>\n",
       "    <tr>\n",
       "      <th>49</th>\n",
       "      <td>= Verfügbares Einkommen der privaten Haushalte</td>\n",
       "      <td>Mrd. EUR</td>\n",
       "      <td>243.63</td>\n",
       "      <td>251.67</td>\n",
       "      <td>252.866</td>\n",
       "      <td>256.645</td>\n",
       "      <td>264.163</td>\n",
       "      <td>266.062</td>\n",
       "      <td>270.887</td>\n",
       "      <td>274.878</td>\n",
       "      <td>...</td>\n",
       "      <td>477.853</td>\n",
       "      <td>484.216</td>\n",
       "      <td>487.041</td>\n",
       "      <td>491.138</td>\n",
       "      <td>494.492</td>\n",
       "      <td>496.921</td>\n",
       "      <td>500.489</td>\n",
       "      <td>486.981</td>\n",
       "      <td>496.795</td>\n",
       "      <td>499.139</td>\n",
       "    </tr>\n",
       "    <tr>\n",
       "      <th>50</th>\n",
       "      <td>nachrichtl.: Verfügb. Einkommen (Verbrauchskz...</td>\n",
       "      <td>Mrd. EUR</td>\n",
       "      <td>283.479</td>\n",
       "      <td>293.207</td>\n",
       "      <td>295.156</td>\n",
       "      <td>300.19</td>\n",
       "      <td>309.487</td>\n",
       "      <td>312.245</td>\n",
       "      <td>318.157</td>\n",
       "      <td>323.208</td>\n",
       "      <td>...</td>\n",
       "      <td>586.081</td>\n",
       "      <td>593.46</td>\n",
       "      <td>597.878</td>\n",
       "      <td>603.882</td>\n",
       "      <td>608.653</td>\n",
       "      <td>612.095</td>\n",
       "      <td>616.786</td>\n",
       "      <td>603.012</td>\n",
       "      <td>618.584</td>\n",
       "      <td>619.66</td>\n",
       "    </tr>\n",
       "    <tr>\n",
       "      <th>51</th>\n",
       "      <td>Zunahme betriebl. Versorg.ansprüche</td>\n",
       "      <td>Mrd. EUR</td>\n",
       "      <td>3.859</td>\n",
       "      <td>3.936</td>\n",
       "      <td>3.837</td>\n",
       "      <td>3.862</td>\n",
       "      <td>4.439</td>\n",
       "      <td>4.398</td>\n",
       "      <td>4.504</td>\n",
       "      <td>4.43</td>\n",
       "      <td>...</td>\n",
       "      <td>14.79</td>\n",
       "      <td>14.746</td>\n",
       "      <td>14.396</td>\n",
       "      <td>14.383</td>\n",
       "      <td>14.314</td>\n",
       "      <td>14.249</td>\n",
       "      <td>14.479</td>\n",
       "      <td>14.331</td>\n",
       "      <td>14.316</td>\n",
       "      <td>14.273</td>\n",
       "    </tr>\n",
       "    <tr>\n",
       "      <th>52</th>\n",
       "      <td>Sparen der privaten Haushalte</td>\n",
       "      <td>Mrd. EUR</td>\n",
       "      <td>31.047</td>\n",
       "      <td>33.983</td>\n",
       "      <td>32.986</td>\n",
       "      <td>33.949</td>\n",
       "      <td>35.065</td>\n",
       "      <td>34.271</td>\n",
       "      <td>35.999</td>\n",
       "      <td>35.327</td>\n",
       "      <td>...</td>\n",
       "      <td>54.002</td>\n",
       "      <td>55.401</td>\n",
       "      <td>54.531</td>\n",
       "      <td>53.94</td>\n",
       "      <td>54.846</td>\n",
       "      <td>57.294</td>\n",
       "      <td>65.706</td>\n",
       "      <td>101.832</td>\n",
       "      <td>75.262</td>\n",
       "      <td>88.548</td>\n",
       "    </tr>\n",
       "    <tr>\n",
       "      <th>53</th>\n",
       "      <td>Bezugsgröße für die Sparquote</td>\n",
       "      <td>Mrd. EUR</td>\n",
       "      <td>247.489</td>\n",
       "      <td>255.606</td>\n",
       "      <td>256.703</td>\n",
       "      <td>260.507</td>\n",
       "      <td>268.602</td>\n",
       "      <td>270.46</td>\n",
       "      <td>275.391</td>\n",
       "      <td>279.308</td>\n",
       "      <td>...</td>\n",
       "      <td>492.643</td>\n",
       "      <td>498.962</td>\n",
       "      <td>501.437</td>\n",
       "      <td>505.521</td>\n",
       "      <td>508.806</td>\n",
       "      <td>511.17</td>\n",
       "      <td>514.968</td>\n",
       "      <td>501.312</td>\n",
       "      <td>511.111</td>\n",
       "      <td>513.412</td>\n",
       "    </tr>\n",
       "    <tr>\n",
       "      <th>54</th>\n",
       "      <td>Sparquote der privaten Haushalte</td>\n",
       "      <td>Prozent</td>\n",
       "      <td>12.5</td>\n",
       "      <td>13.3</td>\n",
       "      <td>12.8</td>\n",
       "      <td>13</td>\n",
       "      <td>13.1</td>\n",
       "      <td>12.7</td>\n",
       "      <td>13.1</td>\n",
       "      <td>12.6</td>\n",
       "      <td>...</td>\n",
       "      <td>11</td>\n",
       "      <td>11.1</td>\n",
       "      <td>10.9</td>\n",
       "      <td>10.7</td>\n",
       "      <td>10.8</td>\n",
       "      <td>11.2</td>\n",
       "      <td>12.8</td>\n",
       "      <td>20.3</td>\n",
       "      <td>14.7</td>\n",
       "      <td>17.2</td>\n",
       "    </tr>\n",
       "    <tr>\n",
       "      <th>55</th>\n",
       "      <td>______________</td>\n",
       "      <td>NaN</td>\n",
       "      <td>NaN</td>\n",
       "      <td>NaN</td>\n",
       "      <td>NaN</td>\n",
       "      <td>NaN</td>\n",
       "      <td>NaN</td>\n",
       "      <td>NaN</td>\n",
       "      <td>NaN</td>\n",
       "      <td>NaN</td>\n",
       "      <td>...</td>\n",
       "      <td>NaN</td>\n",
       "      <td>NaN</td>\n",
       "      <td>NaN</td>\n",
       "      <td>NaN</td>\n",
       "      <td>NaN</td>\n",
       "      <td>NaN</td>\n",
       "      <td>NaN</td>\n",
       "      <td>NaN</td>\n",
       "      <td>NaN</td>\n",
       "      <td>NaN</td>\n",
       "    </tr>\n",
       "    <tr>\n",
       "      <th>56</th>\n",
       "      <td>Private Haushalte:</td>\n",
       "      <td>NaN</td>\n",
       "      <td>NaN</td>\n",
       "      <td>NaN</td>\n",
       "      <td>NaN</td>\n",
       "      <td>NaN</td>\n",
       "      <td>NaN</td>\n",
       "      <td>NaN</td>\n",
       "      <td>NaN</td>\n",
       "      <td>NaN</td>\n",
       "      <td>...</td>\n",
       "      <td>NaN</td>\n",
       "      <td>NaN</td>\n",
       "      <td>NaN</td>\n",
       "      <td>NaN</td>\n",
       "      <td>NaN</td>\n",
       "      <td>NaN</td>\n",
       "      <td>NaN</td>\n",
       "      <td>NaN</td>\n",
       "      <td>NaN</td>\n",
       "      <td>NaN</td>\n",
       "    </tr>\n",
       "    <tr>\n",
       "      <th>57</th>\n",
       "      <td>Einschließlich privater Organisationen ohne Er...</td>\n",
       "      <td>NaN</td>\n",
       "      <td>NaN</td>\n",
       "      <td>NaN</td>\n",
       "      <td>NaN</td>\n",
       "      <td>NaN</td>\n",
       "      <td>NaN</td>\n",
       "      <td>NaN</td>\n",
       "      <td>NaN</td>\n",
       "      <td>NaN</td>\n",
       "      <td>...</td>\n",
       "      <td>NaN</td>\n",
       "      <td>NaN</td>\n",
       "      <td>NaN</td>\n",
       "      <td>NaN</td>\n",
       "      <td>NaN</td>\n",
       "      <td>NaN</td>\n",
       "      <td>NaN</td>\n",
       "      <td>NaN</td>\n",
       "      <td>NaN</td>\n",
       "      <td>NaN</td>\n",
       "    </tr>\n",
       "    <tr>\n",
       "      <th>58</th>\n",
       "      <td>© Statistisches Bundesamt (Destatis), 2021 | S...</td>\n",
       "      <td>NaN</td>\n",
       "      <td>NaN</td>\n",
       "      <td>NaN</td>\n",
       "      <td>NaN</td>\n",
       "      <td>NaN</td>\n",
       "      <td>NaN</td>\n",
       "      <td>NaN</td>\n",
       "      <td>NaN</td>\n",
       "      <td>NaN</td>\n",
       "      <td>...</td>\n",
       "      <td>NaN</td>\n",
       "      <td>NaN</td>\n",
       "      <td>NaN</td>\n",
       "      <td>NaN</td>\n",
       "      <td>NaN</td>\n",
       "      <td>NaN</td>\n",
       "      <td>NaN</td>\n",
       "      <td>NaN</td>\n",
       "      <td>NaN</td>\n",
       "      <td>NaN</td>\n",
       "    </tr>\n",
       "  </tbody>\n",
       "</table>\n",
       "<p>59 rows × 122 columns</p>\n",
       "</div>"
      ],
      "text/plain": [
       "   VGR des Bundes - Verfügbares Einkommen, Sparen der privaten Haushalte: Deutschland, Quartale, Original- und bereinigte Daten  \\\n",
       "0    Volkswirtschaftliche Gesamtrechnungen des Bundes                                                                             \n",
       "1                                         Deutschland                                                                             \n",
       "2                          Gegenstand der Nachweisung                                                                             \n",
       "3                                                 NaN                                                                             \n",
       "4                                       Originalwerte                                                                             \n",
       "5                      Arbeitnehmerentgelt (Inländer)                                                                             \n",
       "6                    - Sozialbeiträge der Arbeitgeber                                                                             \n",
       "7              = Bruttolöhne und -gehälter (Inländer)                                                                             \n",
       "8                           - Abzüge der Arbeitnehmer                                                                             \n",
       "9                = Nettolöhne u. -gehälter (Inländer)                                                                             \n",
       "10                        + Monetäre Sozialleistungen                                                                             \n",
       "11   - Abgaben auf soz. Leist., verbrauchsnahe Ste...                                                                             \n",
       "12              = Masseneinkommen (private Haushalte)                                                                             \n",
       "13   + Betriebsübersch./Selbständ.-,Verm.eink. pri...                                                                             \n",
       "14   + Weitere empfangene abzgl. geleistete Transfers                                                                             \n",
       "15     = Verfügbares Einkommen der privaten Haushalte                                                                             \n",
       "16   nachrichtl.: Verfügb. Einkommen (Verbrauchskz...                                                                             \n",
       "17                Zunahme betriebl. Versorg.ansprüche                                                                             \n",
       "18                      Sparen der privaten Haushalte                                                                             \n",
       "19                      Bezugsgröße für die Sparquote                                                                             \n",
       "20                   Sparquote der privaten Haushalte                                                                             \n",
       "21                     X13 JDemetra+  saisonbereinigt                                                                             \n",
       "22                     Arbeitnehmerentgelt (Inländer)                                                                             \n",
       "23                   - Sozialbeiträge der Arbeitgeber                                                                             \n",
       "24             = Bruttolöhne und -gehälter (Inländer)                                                                             \n",
       "25                          - Abzüge der Arbeitnehmer                                                                             \n",
       "26               = Nettolöhne u. -gehälter (Inländer)                                                                             \n",
       "27                        + Monetäre Sozialleistungen                                                                             \n",
       "28   - Abgaben auf soz. Leist., verbrauchsnahe Ste...                                                                             \n",
       "29              = Masseneinkommen (private Haushalte)                                                                             \n",
       "30   + Betriebsübersch./Selbständ.-,Verm.eink. pri...                                                                             \n",
       "31   + Weitere empfangene abzgl. geleistete Transfers                                                                             \n",
       "32     = Verfügbares Einkommen der privaten Haushalte                                                                             \n",
       "33   nachrichtl.: Verfügb. Einkommen (Verbrauchskz...                                                                             \n",
       "34                Zunahme betriebl. Versorg.ansprüche                                                                             \n",
       "35                      Sparen der privaten Haushalte                                                                             \n",
       "36                      Bezugsgröße für die Sparquote                                                                             \n",
       "37                   Sparquote der privaten Haushalte                                                                             \n",
       "38                              BV4.1 saisonbereinigt                                                                             \n",
       "39                     Arbeitnehmerentgelt (Inländer)                                                                             \n",
       "40                   - Sozialbeiträge der Arbeitgeber                                                                             \n",
       "41             = Bruttolöhne und -gehälter (Inländer)                                                                             \n",
       "42                          - Abzüge der Arbeitnehmer                                                                             \n",
       "43               = Nettolöhne u. -gehälter (Inländer)                                                                             \n",
       "44                        + Monetäre Sozialleistungen                                                                             \n",
       "45   - Abgaben auf soz. Leist., verbrauchsnahe Ste...                                                                             \n",
       "46              = Masseneinkommen (private Haushalte)                                                                             \n",
       "47   + Betriebsübersch./Selbständ.-,Verm.eink. pri...                                                                             \n",
       "48   + Weitere empfangene abzgl. geleistete Transfers                                                                             \n",
       "49     = Verfügbares Einkommen der privaten Haushalte                                                                             \n",
       "50   nachrichtl.: Verfügb. Einkommen (Verbrauchskz...                                                                             \n",
       "51                Zunahme betriebl. Versorg.ansprüche                                                                             \n",
       "52                      Sparen der privaten Haushalte                                                                             \n",
       "53                      Bezugsgröße für die Sparquote                                                                             \n",
       "54                   Sparquote der privaten Haushalte                                                                             \n",
       "55                                     ______________                                                                             \n",
       "56                                 Private Haushalte:                                                                             \n",
       "57  Einschließlich privater Organisationen ohne Er...                                                                             \n",
       "58  © Statistisches Bundesamt (Destatis), 2021 | S...                                                                             \n",
       "\n",
       "   Unnamed: 1  Unnamed: 2  Unnamed: 3  Unnamed: 4  Unnamed: 5  Unnamed: 6  \\\n",
       "0         NaN         NaN         NaN         NaN         NaN         NaN   \n",
       "1         NaN         NaN         NaN         NaN         NaN         NaN   \n",
       "2     Einheit        1991         NaN         NaN         NaN        1992   \n",
       "3         NaN  1. Quartal  2. Quartal  3. Quartal  4. Quartal  1. Quartal   \n",
       "4         NaN         NaN         NaN         NaN         NaN         NaN   \n",
       "5    Mrd. EUR     190.197     206.154     212.991     246.469     208.779   \n",
       "6    Mrd. EUR      33.698      37.577      37.874      43.341      37.712   \n",
       "7    Mrd. EUR     156.499     168.577     175.117     203.128     171.067   \n",
       "8    Mrd. EUR      42.587      51.168      51.608      65.183      51.255   \n",
       "9    Mrd. EUR     113.912     117.409     123.509     137.945     119.812   \n",
       "10   Mrd. EUR      63.002       62.71       65.99      66.682      71.139   \n",
       "11   Mrd. EUR      10.023      11.074      11.689      11.055       12.33   \n",
       "12   Mrd. EUR     166.891     169.045      177.81     193.572     178.621   \n",
       "13   Mrd. EUR      89.383      88.747      76.862      83.075       99.95   \n",
       "14   Mrd. EUR      -9.337      -9.801      -10.11       -11.2     -11.143   \n",
       "15   Mrd. EUR     246.937     247.991     244.562     265.447     267.428   \n",
       "16   Mrd. EUR      283.55     288.263     285.827     314.602     309.507   \n",
       "17   Mrd. EUR       3.624        3.79       3.847       4.314       4.137   \n",
       "18   Mrd. EUR      40.917      33.011      27.317      30.612      45.121   \n",
       "19   Mrd. EUR     250.561     251.781     248.409     269.761     271.565   \n",
       "20    Prozent        16.3        13.1          11        11.3        16.6   \n",
       "21        NaN         NaN         NaN         NaN         NaN         NaN   \n",
       "22   Mrd. EUR     206.004     215.187     215.681     218.939     225.651   \n",
       "23   Mrd. EUR       36.61      39.396      38.416      38.068      40.585   \n",
       "24   Mrd. EUR     169.394     175.791     177.265     180.871     185.066   \n",
       "25   Mrd. EUR      47.664      51.742      55.031      56.109          57   \n",
       "26   Mrd. EUR      121.73     124.049     122.234     124.762     128.066   \n",
       "27   Mrd. EUR      61.308      63.933      66.331      66.813      69.449   \n",
       "28   Mrd. EUR       9.699      10.808      12.308      11.026      12.003   \n",
       "29   Mrd. EUR     173.339     177.174     176.257     180.549     185.512   \n",
       "30   Mrd. EUR      80.173      85.556       85.25      87.088      90.095   \n",
       "31   Mrd. EUR     -10.012     -10.393     -11.678      -8.367     -12.017   \n",
       "32   Mrd. EUR       243.5     252.337     249.829      259.27      263.59   \n",
       "33   Mrd. EUR     282.254     294.476     291.614     303.898     307.984   \n",
       "34   Mrd. EUR       3.795       3.951       3.896       3.933       4.337   \n",
       "35   Mrd. EUR       31.25      34.941        32.2      33.466      34.528   \n",
       "36   Mrd. EUR     247.295     256.288     253.725     263.203     267.927   \n",
       "37    Prozent        12.6        13.6        12.7        12.7        12.9   \n",
       "38        NaN         NaN         NaN         NaN         NaN         NaN   \n",
       "39   Mrd. EUR     207.629     214.096     214.413     219.538     226.056   \n",
       "40   Mrd. EUR       36.35       38.48      38.399      39.395       40.03   \n",
       "41   Mrd. EUR     171.279     175.616     176.014     180.143     186.026   \n",
       "42   Mrd. EUR      49.073      52.068      53.729      55.632      57.643   \n",
       "43   Mrd. EUR     122.206     123.548     122.285     124.511     128.383   \n",
       "44   Mrd. EUR      61.495      64.022      66.187      66.563       69.61   \n",
       "45   Mrd. EUR       9.868      10.692      11.768      11.479      12.106   \n",
       "46   Mrd. EUR     173.833     176.878     176.704     179.595     185.887   \n",
       "47   Mrd. EUR      78.893      84.953      86.804      87.648       89.11   \n",
       "48   Mrd. EUR      -9.096     -10.161     -10.642     -10.598     -10.834   \n",
       "49   Mrd. EUR      243.63      251.67     252.866     256.645     264.163   \n",
       "50   Mrd. EUR     283.479     293.207     295.156      300.19     309.487   \n",
       "51   Mrd. EUR       3.859       3.936       3.837       3.862       4.439   \n",
       "52   Mrd. EUR      31.047      33.983      32.986      33.949      35.065   \n",
       "53   Mrd. EUR     247.489     255.606     256.703     260.507     268.602   \n",
       "54    Prozent        12.5        13.3        12.8          13        13.1   \n",
       "55        NaN         NaN         NaN         NaN         NaN         NaN   \n",
       "56        NaN         NaN         NaN         NaN         NaN         NaN   \n",
       "57        NaN         NaN         NaN         NaN         NaN         NaN   \n",
       "58        NaN         NaN         NaN         NaN         NaN         NaN   \n",
       "\n",
       "    Unnamed: 7  Unnamed: 8  Unnamed: 9  ... Unnamed: 112 Unnamed: 113  \\\n",
       "0          NaN         NaN         NaN  ...          NaN          NaN   \n",
       "1          NaN         NaN         NaN  ...          NaN          NaN   \n",
       "2          NaN         NaN         NaN  ...          NaN          NaN   \n",
       "3   2. Quartal  3. Quartal  4. Quartal  ...   3. Quartal   4. Quartal   \n",
       "4          NaN         NaN         NaN  ...          NaN          NaN   \n",
       "5        220.8     233.986     264.171  ...      438.034      487.441   \n",
       "6       39.515      41.479       46.84  ...       76.152       84.304   \n",
       "7      181.285     192.507     217.331  ...      361.882      403.137   \n",
       "8       57.642      57.679      69.453  ...      115.362      134.415   \n",
       "9      123.643     134.828     147.878  ...       246.52      268.722   \n",
       "10      69.924       72.44      75.981  ...      145.568      145.431   \n",
       "11       12.96      12.473      13.251  ...       31.696       32.526   \n",
       "12     180.607     194.795     210.608  ...      360.392      381.627   \n",
       "13      91.401      78.218      84.681  ...      137.942      127.073   \n",
       "14     -10.176      -9.908     -11.167  ...      -23.915      -23.975   \n",
       "15     261.832     263.105     284.122  ...      474.419      484.725   \n",
       "16     306.669     309.447     337.886  ...      580.254      598.814   \n",
       "17       4.226       4.518       4.936  ...       14.581       15.875   \n",
       "18      33.086      30.381      32.217  ...       45.641       48.385   \n",
       "19     266.058     267.623     289.058  ...          489        500.6   \n",
       "20        12.4        11.4        11.1  ...          9.3          9.7   \n",
       "21         NaN         NaN         NaN  ...          NaN          NaN   \n",
       "22     230.232     236.701     235.151  ...      445.995      450.285   \n",
       "23      41.272      41.939      41.749  ...        78.75       78.966   \n",
       "24      188.96     194.762     193.402  ...      367.245      371.319   \n",
       "25      58.258      61.245      59.526  ...       122.15      123.417   \n",
       "26     130.702     133.517     133.876  ...      245.095      247.902   \n",
       "27      71.098       72.78      76.157  ...      145.477      146.856   \n",
       "28      12.694      13.094      13.223  ...       31.925       32.385   \n",
       "29     189.106     193.203      196.81  ...      358.647      362.373   \n",
       "30      88.514      86.771       88.87  ...      142.838      144.816   \n",
       "31     -11.197     -10.986      -8.194  ...      -23.668      -22.765   \n",
       "32     266.423     268.988     277.486  ...      477.817      484.424   \n",
       "33     313.231     315.864      326.43  ...      585.966      593.836   \n",
       "34       4.403       4.579       4.497  ...       14.834       14.842   \n",
       "35      35.114      35.882       35.28  ...       54.463       55.299   \n",
       "36     270.826     273.567     281.983  ...      492.651      499.266   \n",
       "37          13        13.1        12.5  ...         11.1         11.1   \n",
       "38         NaN         NaN         NaN  ...          NaN          NaN   \n",
       "39     229.392     235.394     236.469  ...      445.355      449.775   \n",
       "40      40.683      42.088      42.809  ...       78.072       79.134   \n",
       "41     188.709     193.306      193.66  ...      367.283      370.641   \n",
       "42      58.688      59.921      59.681  ...      122.231      123.008   \n",
       "43     130.021     133.385     133.979  ...      245.052      247.633   \n",
       "44      71.397      72.782      75.494  ...      145.446      147.189   \n",
       "45      12.597      12.735      13.532  ...       31.951       32.466   \n",
       "46     188.821     193.432     195.941  ...      358.547      362.356   \n",
       "47      87.824      87.947      89.289  ...      144.438      145.506   \n",
       "48     -10.583     -10.492     -10.352  ...      -25.132      -23.646   \n",
       "49     266.062     270.887     274.878  ...      477.853      484.216   \n",
       "50     312.245     318.157     323.208  ...      586.081       593.46   \n",
       "51       4.398       4.504        4.43  ...        14.79       14.746   \n",
       "52      34.271      35.999      35.327  ...       54.002       55.401   \n",
       "53      270.46     275.391     279.308  ...      492.643      498.962   \n",
       "54        12.7        13.1        12.6  ...           11         11.1   \n",
       "55         NaN         NaN         NaN  ...          NaN          NaN   \n",
       "56         NaN         NaN         NaN  ...          NaN          NaN   \n",
       "57         NaN         NaN         NaN  ...          NaN          NaN   \n",
       "58         NaN         NaN         NaN  ...          NaN          NaN   \n",
       "\n",
       "   Unnamed: 114 Unnamed: 115 Unnamed: 116 Unnamed: 117 Unnamed: 118  \\\n",
       "0           NaN          NaN          NaN          NaN          NaN   \n",
       "1           NaN          NaN          NaN          NaN          NaN   \n",
       "2          2019          NaN          NaN          NaN         2020   \n",
       "3    1. Quartal   2. Quartal   3. Quartal   4. Quartal   1. Quartal   \n",
       "4           NaN          NaN          NaN          NaN          NaN   \n",
       "5        432.29      451.739      457.625      504.284      445.118   \n",
       "6        76.969       80.176       79.488       87.672       79.505   \n",
       "7       355.321      371.563      378.137      416.612      365.613   \n",
       "8       116.338      127.828      118.988      138.173       119.88   \n",
       "9       238.983      243.735      259.149      278.439      245.733   \n",
       "10      150.943      150.059      152.785      152.454      158.878   \n",
       "11       33.174        33.64       33.893       34.693       34.657   \n",
       "12      356.752      360.154      378.041        396.2      369.954   \n",
       "13      164.685       149.79       137.37      126.558      166.629   \n",
       "14      -26.891      -23.738      -23.471      -25.635      -29.106   \n",
       "15      494.546      486.206       491.94      497.123      507.477   \n",
       "16      604.853      596.705      603.774        617.4      623.483   \n",
       "17       13.734       14.114       14.112       15.348       13.863   \n",
       "18       73.014       50.995       46.592       49.651       84.545   \n",
       "19       508.28       500.32      506.052      512.471       521.34   \n",
       "20         14.4         10.2          9.2          9.7         16.2   \n",
       "21          NaN          NaN          NaN          NaN          NaN   \n",
       "22      454.899      459.159      465.688      466.189      467.956   \n",
       "23       79.471       80.175       82.486        82.17       81.659   \n",
       "24      375.428      378.984      383.202      384.019      386.297   \n",
       "25      123.421      125.073       125.89      126.943      127.244   \n",
       "26      252.007      253.911      257.312      257.076      259.053   \n",
       "27      148.633      151.025      152.648      153.935      156.604   \n",
       "28       32.991       33.717       34.125       34.568       34.475   \n",
       "29      367.649      371.219      375.835      376.443      381.182   \n",
       "30      145.394       145.86      142.717      144.432      147.051   \n",
       "31      -26.953      -26.092      -22.968      -23.721      -35.373   \n",
       "32       486.09      490.987      495.584      497.154       492.86   \n",
       "33      597.144      603.213      609.746      612.628       609.52   \n",
       "34       14.293       14.325       14.352       14.338       14.434   \n",
       "35       53.709       53.944       55.713       56.886       59.381   \n",
       "36      500.383      505.312      509.936      511.492      507.294   \n",
       "37         10.7         10.7         10.9         11.1         11.7   \n",
       "38          NaN          NaN          NaN          NaN          NaN   \n",
       "39      453.882      461.762      464.441      465.656      466.217   \n",
       "40       80.643       78.661       81.963       83.044       83.751   \n",
       "41      373.239      383.101      382.478      382.612      382.466   \n",
       "42      122.907      126.483      125.896       125.99       125.99   \n",
       "43      250.332      256.618      256.582      256.622      256.476   \n",
       "44        149.1      150.012      152.325      154.748      157.486   \n",
       "45       33.255       33.099       34.221       34.755       35.023   \n",
       "46      366.177      373.531      374.686      376.615      378.939   \n",
       "47      143.306      145.237      145.354      144.754      144.977   \n",
       "48      -22.442       -27.63      -25.548      -24.448      -23.427   \n",
       "49      487.041      491.138      494.492      496.921      500.489   \n",
       "50      597.878      603.882      608.653      612.095      616.786   \n",
       "51       14.396       14.383       14.314       14.249       14.479   \n",
       "52       54.531        53.94       54.846       57.294       65.706   \n",
       "53      501.437      505.521      508.806       511.17      514.968   \n",
       "54         10.9         10.7         10.8         11.2         12.8   \n",
       "55          NaN          NaN          NaN          NaN          NaN   \n",
       "56          NaN          NaN          NaN          NaN          NaN   \n",
       "57          NaN          NaN          NaN          NaN          NaN   \n",
       "58          NaN          NaN          NaN          NaN          NaN   \n",
       "\n",
       "   Unnamed: 119 Unnamed: 120 Unnamed: 121  \n",
       "0           NaN          NaN          NaN  \n",
       "1           NaN          NaN          NaN  \n",
       "2           NaN          NaN          NaN  \n",
       "3    2. Quartal   3. Quartal   4. Quartal  \n",
       "4           NaN          NaN          NaN  \n",
       "5        437.17      455.087      503.991  \n",
       "6        82.147       81.002       89.278  \n",
       "7       355.023      374.085      414.713  \n",
       "8       120.793      115.758      135.828  \n",
       "9        234.23      258.327      278.885  \n",
       "10      163.942      166.384      165.253  \n",
       "11       34.598       35.775       36.426  \n",
       "12      363.574      388.936      407.712  \n",
       "13      135.796      127.586       115.38  \n",
       "14      -17.387      -21.622      -24.408  \n",
       "15      481.983        494.9      498.684  \n",
       "16      595.288      614.379      624.579  \n",
       "17        14.05       14.105       15.339  \n",
       "18       98.974       67.058       80.525  \n",
       "19      496.033      509.005      514.023  \n",
       "20           20         13.2         15.7  \n",
       "21          NaN          NaN          NaN  \n",
       "22       444.51      462.784      466.119  \n",
       "23       82.502       84.131       83.643  \n",
       "24      362.008      378.653      382.476  \n",
       "25      117.902      122.329      124.784  \n",
       "26      244.106      256.324      257.692  \n",
       "27      164.857      166.245       166.75  \n",
       "28       34.659       36.013       36.308  \n",
       "29      374.304      386.556      388.134  \n",
       "30      132.592      133.461      132.287  \n",
       "31      -20.793       -18.88      -17.477  \n",
       "32      486.103      501.137      502.944  \n",
       "33      601.258      622.897      624.055  \n",
       "34       14.264       14.342       14.317  \n",
       "35      101.636       78.713       91.372  \n",
       "36      500.367      515.479      517.261  \n",
       "37         20.3         15.3         17.7  \n",
       "38          NaN          NaN          NaN  \n",
       "39      448.742      461.831      464.623  \n",
       "40       79.049       83.919       85.016  \n",
       "41      369.693      377.912      379.607  \n",
       "42      120.574      122.648      123.174  \n",
       "43      249.119      255.264      256.433  \n",
       "44      163.235      165.796      167.911  \n",
       "45       33.583       36.186       36.566  \n",
       "46      378.771      384.874      387.778  \n",
       "47      131.121      135.879      133.567  \n",
       "48      -22.911      -23.958      -22.206  \n",
       "49      486.981      496.795      499.139  \n",
       "50      603.012      618.584       619.66  \n",
       "51       14.331       14.316       14.273  \n",
       "52      101.832       75.262       88.548  \n",
       "53      501.312      511.111      513.412  \n",
       "54         20.3         14.7         17.2  \n",
       "55          NaN          NaN          NaN  \n",
       "56          NaN          NaN          NaN  \n",
       "57          NaN          NaN          NaN  \n",
       "58          NaN          NaN          NaN  \n",
       "\n",
       "[59 rows x 122 columns]"
      ]
     },
     "execution_count": 239,
     "metadata": {},
     "output_type": "execute_result"
    }
   ],
   "source": [
    "df"
   ]
  },
  {
   "cell_type": "code",
   "execution_count": 240,
   "id": "1936e472",
   "metadata": {},
   "outputs": [],
   "source": [
    "import numpy as np"
   ]
  },
  {
   "cell_type": "code",
   "execution_count": 241,
   "id": "afa85fca",
   "metadata": {},
   "outputs": [],
   "source": [
    "df = df.iloc[[2,3,37], :].T.iloc[2:,:]\n",
    "df.columns = ['Year', 'Quarter', 'Rate']\n",
    "df.reset_index(inplace = True, drop = True)\n",
    "df['Year'] = df['Year'].fillna(method='ffill')\n",
    "df['Quarter_str'] = df['Quarter'].copy()\n",
    "df['Quarter'] = df['Quarter'].replace('1. Quartal', 'Q1')\n",
    "df['Quarter'] = df['Quarter'].replace('2. Quartal', 'Q2')\n",
    "df['Quarter'] = df['Quarter'].replace('3. Quartal', 'Q3')\n",
    "df['Quarter'] = df['Quarter'].replace('4. Quartal', 'Q4')\n",
    "df['Rate'] = df['Rate'].replace ('...', np.NaN)\n",
    "qs = df['Year'] + '-' + df['Quarter']\n",
    "df['Date'] = pd.PeriodIndex(qs.values, freq='Q').to_timestamp()\n",
    "df.set_index(df['Date'], inplace = True, drop = True)\n",
    "del df['Date']\n",
    "df.dropna(inplace=True)\n",
    "df['col_name'] = df['Quarter'] + ' ' + df['Year'].str[2:4]\n",
    "col_names = list(df['col_name'].values)\n",
    "df = df.T\n",
    "df.columns = col_names\n",
    "df = df.T"
   ]
  },
  {
   "cell_type": "code",
   "execution_count": 243,
   "id": "fcb8c538",
   "metadata": {},
   "outputs": [
    {
     "data": {
      "text/html": [
       "<div>\n",
       "<style scoped>\n",
       "    .dataframe tbody tr th:only-of-type {\n",
       "        vertical-align: middle;\n",
       "    }\n",
       "\n",
       "    .dataframe tbody tr th {\n",
       "        vertical-align: top;\n",
       "    }\n",
       "\n",
       "    .dataframe thead th {\n",
       "        text-align: right;\n",
       "    }\n",
       "</style>\n",
       "<table border=\"1\" class=\"dataframe\">\n",
       "  <thead>\n",
       "    <tr style=\"text-align: right;\">\n",
       "      <th></th>\n",
       "      <th>Year</th>\n",
       "      <th>Quarter</th>\n",
       "      <th>Rate</th>\n",
       "      <th>Quarter_str</th>\n",
       "      <th>col_name</th>\n",
       "    </tr>\n",
       "  </thead>\n",
       "  <tbody>\n",
       "    <tr>\n",
       "      <th>Q1 91</th>\n",
       "      <td>1991</td>\n",
       "      <td>Q1</td>\n",
       "      <td>12.6</td>\n",
       "      <td>1. Quartal</td>\n",
       "      <td>Q1 91</td>\n",
       "    </tr>\n",
       "    <tr>\n",
       "      <th>Q2 91</th>\n",
       "      <td>1991</td>\n",
       "      <td>Q2</td>\n",
       "      <td>13.6</td>\n",
       "      <td>2. Quartal</td>\n",
       "      <td>Q2 91</td>\n",
       "    </tr>\n",
       "    <tr>\n",
       "      <th>Q3 91</th>\n",
       "      <td>1991</td>\n",
       "      <td>Q3</td>\n",
       "      <td>12.7</td>\n",
       "      <td>3. Quartal</td>\n",
       "      <td>Q3 91</td>\n",
       "    </tr>\n",
       "    <tr>\n",
       "      <th>Q4 91</th>\n",
       "      <td>1991</td>\n",
       "      <td>Q4</td>\n",
       "      <td>12.7</td>\n",
       "      <td>4. Quartal</td>\n",
       "      <td>Q4 91</td>\n",
       "    </tr>\n",
       "    <tr>\n",
       "      <th>Q1 92</th>\n",
       "      <td>1992</td>\n",
       "      <td>Q1</td>\n",
       "      <td>12.9</td>\n",
       "      <td>1. Quartal</td>\n",
       "      <td>Q1 92</td>\n",
       "    </tr>\n",
       "  </tbody>\n",
       "</table>\n",
       "</div>"
      ],
      "text/plain": [
       "       Year Quarter  Rate Quarter_str col_name\n",
       "Q1 91  1991      Q1  12.6  1. Quartal    Q1 91\n",
       "Q2 91  1991      Q2  13.6  2. Quartal    Q2 91\n",
       "Q3 91  1991      Q3  12.7  3. Quartal    Q3 91\n",
       "Q4 91  1991      Q4  12.7  4. Quartal    Q4 91\n",
       "Q1 92  1992      Q1  12.9  1. Quartal    Q1 92"
      ]
     },
     "execution_count": 243,
     "metadata": {},
     "output_type": "execute_result"
    }
   ],
   "source": [
    "df.head()"
   ]
  },
  {
   "cell_type": "code",
   "execution_count": 244,
   "id": "8c3c1a15",
   "metadata": {},
   "outputs": [
    {
     "data": {
      "application/vnd.plotly.v1+json": {
       "config": {
        "linkText": "Export to plot.ly",
        "plotlyServerURL": "https://plot.ly",
        "showLink": false
       },
       "data": [
        {
         "name": "Private sector savings rate",
         "type": "scatter",
         "x": [
          "Q1 91",
          "Q2 91",
          "Q3 91",
          "Q4 91",
          "Q1 92",
          "Q2 92",
          "Q3 92",
          "Q4 92",
          "Q1 93",
          "Q2 93",
          "Q3 93",
          "Q4 93",
          "Q1 94",
          "Q2 94",
          "Q3 94",
          "Q4 94",
          "Q1 95",
          "Q2 95",
          "Q3 95",
          "Q4 95",
          "Q1 96",
          "Q2 96",
          "Q3 96",
          "Q4 96",
          "Q1 97",
          "Q2 97",
          "Q3 97",
          "Q4 97",
          "Q1 98",
          "Q2 98",
          "Q3 98",
          "Q4 98",
          "Q1 99",
          "Q2 99",
          "Q3 99",
          "Q4 99",
          "Q1 00",
          "Q2 00",
          "Q3 00",
          "Q4 00",
          "Q1 01",
          "Q2 01",
          "Q3 01",
          "Q4 01",
          "Q1 02",
          "Q2 02",
          "Q3 02",
          "Q4 02",
          "Q1 03",
          "Q2 03",
          "Q3 03",
          "Q4 03",
          "Q1 04",
          "Q2 04",
          "Q3 04",
          "Q4 04",
          "Q1 05",
          "Q2 05",
          "Q3 05",
          "Q4 05",
          "Q1 06",
          "Q2 06",
          "Q3 06",
          "Q4 06",
          "Q1 07",
          "Q2 07",
          "Q3 07",
          "Q4 07",
          "Q1 08",
          "Q2 08",
          "Q3 08",
          "Q4 08",
          "Q1 09",
          "Q2 09",
          "Q3 09",
          "Q4 09",
          "Q1 10",
          "Q2 10",
          "Q3 10",
          "Q4 10",
          "Q1 11",
          "Q2 11",
          "Q3 11",
          "Q4 11",
          "Q1 12",
          "Q2 12",
          "Q3 12",
          "Q4 12",
          "Q1 13",
          "Q2 13",
          "Q3 13",
          "Q4 13",
          "Q1 14",
          "Q2 14",
          "Q3 14",
          "Q4 14",
          "Q1 15",
          "Q2 15",
          "Q3 15",
          "Q4 15",
          "Q1 16",
          "Q2 16",
          "Q3 16",
          "Q4 16",
          "Q1 17",
          "Q2 17",
          "Q3 17",
          "Q4 17",
          "Q1 18",
          "Q2 18",
          "Q3 18",
          "Q4 18",
          "Q1 19",
          "Q2 19",
          "Q3 19",
          "Q4 19",
          "Q1 20",
          "Q2 20",
          "Q3 20",
          "Q4 20"
         ],
         "y": [
          12.6,
          13.6,
          12.7,
          12.7,
          12.9,
          13,
          13.1,
          12.5,
          12.4,
          12.9,
          12,
          12.2,
          11.5,
          11.8,
          11.8,
          11.8,
          11.5,
          11.5,
          11.4,
          11.1,
          11.1,
          11.2,
          10.8,
          10.5,
          10.7,
          10.5,
          10.6,
          10.5,
          10.8,
          10.6,
          10.2,
          10,
          9.7,
          9.7,
          9.9,
          10,
          10.1,
          9.3,
          8.9,
          9.1,
          9.9,
          9.9,
          10,
          10.2,
          9.8,
          10,
          10.3,
          10.2,
          10.8,
          10.5,
          10.8,
          10.2,
          10.6,
          10.7,
          10.8,
          10.4,
          10.3,
          10.2,
          10.6,
          11.1,
          10.3,
          10.6,
          10.6,
          11,
          10.8,
          10.6,
          10.5,
          10.9,
          10.9,
          11.5,
          11.4,
          9.8,
          10.4,
          10.5,
          10.4,
          10.2,
          10.5,
          10.4,
          10.2,
          10.1,
          10,
          10.1,
          10.1,
          9.9,
          10,
          9.9,
          9.7,
          9,
          9.4,
          9.5,
          9.2,
          9.1,
          9.8,
          9.9,
          9.8,
          9.8,
          9.8,
          10.3,
          10,
          10.2,
          10.2,
          10.1,
          10.3,
          10.2,
          10.5,
          10.5,
          10.5,
          10.8,
          10.8,
          10.8,
          11.1,
          11.1,
          10.7,
          10.7,
          10.9,
          11.1,
          11.7,
          20.3,
          15.3,
          17.7
         ]
        }
       ],
       "layout": {
        "template": {
         "data": {
          "bar": [
           {
            "error_x": {
             "color": "#2a3f5f"
            },
            "error_y": {
             "color": "#2a3f5f"
            },
            "marker": {
             "line": {
              "color": "#E5ECF6",
              "width": 0.5
             }
            },
            "type": "bar"
           }
          ],
          "barpolar": [
           {
            "marker": {
             "line": {
              "color": "#E5ECF6",
              "width": 0.5
             }
            },
            "type": "barpolar"
           }
          ],
          "carpet": [
           {
            "aaxis": {
             "endlinecolor": "#2a3f5f",
             "gridcolor": "white",
             "linecolor": "white",
             "minorgridcolor": "white",
             "startlinecolor": "#2a3f5f"
            },
            "baxis": {
             "endlinecolor": "#2a3f5f",
             "gridcolor": "white",
             "linecolor": "white",
             "minorgridcolor": "white",
             "startlinecolor": "#2a3f5f"
            },
            "type": "carpet"
           }
          ],
          "choropleth": [
           {
            "colorbar": {
             "outlinewidth": 0,
             "ticks": ""
            },
            "type": "choropleth"
           }
          ],
          "contour": [
           {
            "colorbar": {
             "outlinewidth": 0,
             "ticks": ""
            },
            "colorscale": [
             [
              0,
              "#0d0887"
             ],
             [
              0.1111111111111111,
              "#46039f"
             ],
             [
              0.2222222222222222,
              "#7201a8"
             ],
             [
              0.3333333333333333,
              "#9c179e"
             ],
             [
              0.4444444444444444,
              "#bd3786"
             ],
             [
              0.5555555555555556,
              "#d8576b"
             ],
             [
              0.6666666666666666,
              "#ed7953"
             ],
             [
              0.7777777777777778,
              "#fb9f3a"
             ],
             [
              0.8888888888888888,
              "#fdca26"
             ],
             [
              1,
              "#f0f921"
             ]
            ],
            "type": "contour"
           }
          ],
          "contourcarpet": [
           {
            "colorbar": {
             "outlinewidth": 0,
             "ticks": ""
            },
            "type": "contourcarpet"
           }
          ],
          "heatmap": [
           {
            "colorbar": {
             "outlinewidth": 0,
             "ticks": ""
            },
            "colorscale": [
             [
              0,
              "#0d0887"
             ],
             [
              0.1111111111111111,
              "#46039f"
             ],
             [
              0.2222222222222222,
              "#7201a8"
             ],
             [
              0.3333333333333333,
              "#9c179e"
             ],
             [
              0.4444444444444444,
              "#bd3786"
             ],
             [
              0.5555555555555556,
              "#d8576b"
             ],
             [
              0.6666666666666666,
              "#ed7953"
             ],
             [
              0.7777777777777778,
              "#fb9f3a"
             ],
             [
              0.8888888888888888,
              "#fdca26"
             ],
             [
              1,
              "#f0f921"
             ]
            ],
            "type": "heatmap"
           }
          ],
          "heatmapgl": [
           {
            "colorbar": {
             "outlinewidth": 0,
             "ticks": ""
            },
            "colorscale": [
             [
              0,
              "#0d0887"
             ],
             [
              0.1111111111111111,
              "#46039f"
             ],
             [
              0.2222222222222222,
              "#7201a8"
             ],
             [
              0.3333333333333333,
              "#9c179e"
             ],
             [
              0.4444444444444444,
              "#bd3786"
             ],
             [
              0.5555555555555556,
              "#d8576b"
             ],
             [
              0.6666666666666666,
              "#ed7953"
             ],
             [
              0.7777777777777778,
              "#fb9f3a"
             ],
             [
              0.8888888888888888,
              "#fdca26"
             ],
             [
              1,
              "#f0f921"
             ]
            ],
            "type": "heatmapgl"
           }
          ],
          "histogram": [
           {
            "marker": {
             "colorbar": {
              "outlinewidth": 0,
              "ticks": ""
             }
            },
            "type": "histogram"
           }
          ],
          "histogram2d": [
           {
            "colorbar": {
             "outlinewidth": 0,
             "ticks": ""
            },
            "colorscale": [
             [
              0,
              "#0d0887"
             ],
             [
              0.1111111111111111,
              "#46039f"
             ],
             [
              0.2222222222222222,
              "#7201a8"
             ],
             [
              0.3333333333333333,
              "#9c179e"
             ],
             [
              0.4444444444444444,
              "#bd3786"
             ],
             [
              0.5555555555555556,
              "#d8576b"
             ],
             [
              0.6666666666666666,
              "#ed7953"
             ],
             [
              0.7777777777777778,
              "#fb9f3a"
             ],
             [
              0.8888888888888888,
              "#fdca26"
             ],
             [
              1,
              "#f0f921"
             ]
            ],
            "type": "histogram2d"
           }
          ],
          "histogram2dcontour": [
           {
            "colorbar": {
             "outlinewidth": 0,
             "ticks": ""
            },
            "colorscale": [
             [
              0,
              "#0d0887"
             ],
             [
              0.1111111111111111,
              "#46039f"
             ],
             [
              0.2222222222222222,
              "#7201a8"
             ],
             [
              0.3333333333333333,
              "#9c179e"
             ],
             [
              0.4444444444444444,
              "#bd3786"
             ],
             [
              0.5555555555555556,
              "#d8576b"
             ],
             [
              0.6666666666666666,
              "#ed7953"
             ],
             [
              0.7777777777777778,
              "#fb9f3a"
             ],
             [
              0.8888888888888888,
              "#fdca26"
             ],
             [
              1,
              "#f0f921"
             ]
            ],
            "type": "histogram2dcontour"
           }
          ],
          "mesh3d": [
           {
            "colorbar": {
             "outlinewidth": 0,
             "ticks": ""
            },
            "type": "mesh3d"
           }
          ],
          "parcoords": [
           {
            "line": {
             "colorbar": {
              "outlinewidth": 0,
              "ticks": ""
             }
            },
            "type": "parcoords"
           }
          ],
          "pie": [
           {
            "automargin": true,
            "type": "pie"
           }
          ],
          "scatter": [
           {
            "marker": {
             "colorbar": {
              "outlinewidth": 0,
              "ticks": ""
             }
            },
            "type": "scatter"
           }
          ],
          "scatter3d": [
           {
            "line": {
             "colorbar": {
              "outlinewidth": 0,
              "ticks": ""
             }
            },
            "marker": {
             "colorbar": {
              "outlinewidth": 0,
              "ticks": ""
             }
            },
            "type": "scatter3d"
           }
          ],
          "scattercarpet": [
           {
            "marker": {
             "colorbar": {
              "outlinewidth": 0,
              "ticks": ""
             }
            },
            "type": "scattercarpet"
           }
          ],
          "scattergeo": [
           {
            "marker": {
             "colorbar": {
              "outlinewidth": 0,
              "ticks": ""
             }
            },
            "type": "scattergeo"
           }
          ],
          "scattergl": [
           {
            "marker": {
             "colorbar": {
              "outlinewidth": 0,
              "ticks": ""
             }
            },
            "type": "scattergl"
           }
          ],
          "scattermapbox": [
           {
            "marker": {
             "colorbar": {
              "outlinewidth": 0,
              "ticks": ""
             }
            },
            "type": "scattermapbox"
           }
          ],
          "scatterpolar": [
           {
            "marker": {
             "colorbar": {
              "outlinewidth": 0,
              "ticks": ""
             }
            },
            "type": "scatterpolar"
           }
          ],
          "scatterpolargl": [
           {
            "marker": {
             "colorbar": {
              "outlinewidth": 0,
              "ticks": ""
             }
            },
            "type": "scatterpolargl"
           }
          ],
          "scatterternary": [
           {
            "marker": {
             "colorbar": {
              "outlinewidth": 0,
              "ticks": ""
             }
            },
            "type": "scatterternary"
           }
          ],
          "surface": [
           {
            "colorbar": {
             "outlinewidth": 0,
             "ticks": ""
            },
            "colorscale": [
             [
              0,
              "#0d0887"
             ],
             [
              0.1111111111111111,
              "#46039f"
             ],
             [
              0.2222222222222222,
              "#7201a8"
             ],
             [
              0.3333333333333333,
              "#9c179e"
             ],
             [
              0.4444444444444444,
              "#bd3786"
             ],
             [
              0.5555555555555556,
              "#d8576b"
             ],
             [
              0.6666666666666666,
              "#ed7953"
             ],
             [
              0.7777777777777778,
              "#fb9f3a"
             ],
             [
              0.8888888888888888,
              "#fdca26"
             ],
             [
              1,
              "#f0f921"
             ]
            ],
            "type": "surface"
           }
          ],
          "table": [
           {
            "cells": {
             "fill": {
              "color": "#EBF0F8"
             },
             "line": {
              "color": "white"
             }
            },
            "header": {
             "fill": {
              "color": "#C8D4E3"
             },
             "line": {
              "color": "white"
             }
            },
            "type": "table"
           }
          ]
         },
         "layout": {
          "annotationdefaults": {
           "arrowcolor": "#2a3f5f",
           "arrowhead": 0,
           "arrowwidth": 1
          },
          "autotypenumbers": "strict",
          "coloraxis": {
           "colorbar": {
            "outlinewidth": 0,
            "ticks": ""
           }
          },
          "colorscale": {
           "diverging": [
            [
             0,
             "#8e0152"
            ],
            [
             0.1,
             "#c51b7d"
            ],
            [
             0.2,
             "#de77ae"
            ],
            [
             0.3,
             "#f1b6da"
            ],
            [
             0.4,
             "#fde0ef"
            ],
            [
             0.5,
             "#f7f7f7"
            ],
            [
             0.6,
             "#e6f5d0"
            ],
            [
             0.7,
             "#b8e186"
            ],
            [
             0.8,
             "#7fbc41"
            ],
            [
             0.9,
             "#4d9221"
            ],
            [
             1,
             "#276419"
            ]
           ],
           "sequential": [
            [
             0,
             "#0d0887"
            ],
            [
             0.1111111111111111,
             "#46039f"
            ],
            [
             0.2222222222222222,
             "#7201a8"
            ],
            [
             0.3333333333333333,
             "#9c179e"
            ],
            [
             0.4444444444444444,
             "#bd3786"
            ],
            [
             0.5555555555555556,
             "#d8576b"
            ],
            [
             0.6666666666666666,
             "#ed7953"
            ],
            [
             0.7777777777777778,
             "#fb9f3a"
            ],
            [
             0.8888888888888888,
             "#fdca26"
            ],
            [
             1,
             "#f0f921"
            ]
           ],
           "sequentialminus": [
            [
             0,
             "#0d0887"
            ],
            [
             0.1111111111111111,
             "#46039f"
            ],
            [
             0.2222222222222222,
             "#7201a8"
            ],
            [
             0.3333333333333333,
             "#9c179e"
            ],
            [
             0.4444444444444444,
             "#bd3786"
            ],
            [
             0.5555555555555556,
             "#d8576b"
            ],
            [
             0.6666666666666666,
             "#ed7953"
            ],
            [
             0.7777777777777778,
             "#fb9f3a"
            ],
            [
             0.8888888888888888,
             "#fdca26"
            ],
            [
             1,
             "#f0f921"
            ]
           ]
          },
          "colorway": [
           "#636efa",
           "#EF553B",
           "#00cc96",
           "#ab63fa",
           "#FFA15A",
           "#19d3f3",
           "#FF6692",
           "#B6E880",
           "#FF97FF",
           "#FECB52"
          ],
          "font": {
           "color": "#2a3f5f"
          },
          "geo": {
           "bgcolor": "white",
           "lakecolor": "white",
           "landcolor": "#E5ECF6",
           "showlakes": true,
           "showland": true,
           "subunitcolor": "white"
          },
          "hoverlabel": {
           "align": "left"
          },
          "hovermode": "closest",
          "mapbox": {
           "style": "light"
          },
          "paper_bgcolor": "white",
          "plot_bgcolor": "#E5ECF6",
          "polar": {
           "angularaxis": {
            "gridcolor": "white",
            "linecolor": "white",
            "ticks": ""
           },
           "bgcolor": "#E5ECF6",
           "radialaxis": {
            "gridcolor": "white",
            "linecolor": "white",
            "ticks": ""
           }
          },
          "scene": {
           "xaxis": {
            "backgroundcolor": "#E5ECF6",
            "gridcolor": "white",
            "gridwidth": 2,
            "linecolor": "white",
            "showbackground": true,
            "ticks": "",
            "zerolinecolor": "white"
           },
           "yaxis": {
            "backgroundcolor": "#E5ECF6",
            "gridcolor": "white",
            "gridwidth": 2,
            "linecolor": "white",
            "showbackground": true,
            "ticks": "",
            "zerolinecolor": "white"
           },
           "zaxis": {
            "backgroundcolor": "#E5ECF6",
            "gridcolor": "white",
            "gridwidth": 2,
            "linecolor": "white",
            "showbackground": true,
            "ticks": "",
            "zerolinecolor": "white"
           }
          },
          "shapedefaults": {
           "line": {
            "color": "#2a3f5f"
           }
          },
          "ternary": {
           "aaxis": {
            "gridcolor": "white",
            "linecolor": "white",
            "ticks": ""
           },
           "baxis": {
            "gridcolor": "white",
            "linecolor": "white",
            "ticks": ""
           },
           "bgcolor": "#E5ECF6",
           "caxis": {
            "gridcolor": "white",
            "linecolor": "white",
            "ticks": ""
           }
          },
          "title": {
           "x": 0.05
          },
          "xaxis": {
           "automargin": true,
           "gridcolor": "white",
           "linecolor": "white",
           "ticks": "",
           "title": {
            "standoff": 15
           },
           "zerolinecolor": "white",
           "zerolinewidth": 2
          },
          "yaxis": {
           "automargin": true,
           "gridcolor": "white",
           "linecolor": "white",
           "ticks": "",
           "title": {
            "standoff": 15
           },
           "zerolinecolor": "white",
           "zerolinewidth": 2
          }
         }
        },
        "title": {
         "text": "Private sector savings rate (Germany)"
        },
        "xaxis": {
         "rangeslider": {
          "visible": true
         },
         "title": {
          "text": "Quarter-Year"
         }
        },
        "yaxis": {
         "title": {
          "text": "in % of disposable income"
         }
        }
       }
      },
      "text/html": [
       "<div>                            <div id=\"7baf2d21-ea33-416a-a4c8-b9d58c9d875a\" class=\"plotly-graph-div\" style=\"height:525px; width:100%;\"></div>            <script type=\"text/javascript\">                require([\"plotly\"], function(Plotly) {                    window.PLOTLYENV=window.PLOTLYENV || {};                                    if (document.getElementById(\"7baf2d21-ea33-416a-a4c8-b9d58c9d875a\")) {                    Plotly.newPlot(                        \"7baf2d21-ea33-416a-a4c8-b9d58c9d875a\",                        [{\"name\": \"Private sector savings rate\", \"type\": \"scatter\", \"x\": [\"Q1 91\", \"Q2 91\", \"Q3 91\", \"Q4 91\", \"Q1 92\", \"Q2 92\", \"Q3 92\", \"Q4 92\", \"Q1 93\", \"Q2 93\", \"Q3 93\", \"Q4 93\", \"Q1 94\", \"Q2 94\", \"Q3 94\", \"Q4 94\", \"Q1 95\", \"Q2 95\", \"Q3 95\", \"Q4 95\", \"Q1 96\", \"Q2 96\", \"Q3 96\", \"Q4 96\", \"Q1 97\", \"Q2 97\", \"Q3 97\", \"Q4 97\", \"Q1 98\", \"Q2 98\", \"Q3 98\", \"Q4 98\", \"Q1 99\", \"Q2 99\", \"Q3 99\", \"Q4 99\", \"Q1 00\", \"Q2 00\", \"Q3 00\", \"Q4 00\", \"Q1 01\", \"Q2 01\", \"Q3 01\", \"Q4 01\", \"Q1 02\", \"Q2 02\", \"Q3 02\", \"Q4 02\", \"Q1 03\", \"Q2 03\", \"Q3 03\", \"Q4 03\", \"Q1 04\", \"Q2 04\", \"Q3 04\", \"Q4 04\", \"Q1 05\", \"Q2 05\", \"Q3 05\", \"Q4 05\", \"Q1 06\", \"Q2 06\", \"Q3 06\", \"Q4 06\", \"Q1 07\", \"Q2 07\", \"Q3 07\", \"Q4 07\", \"Q1 08\", \"Q2 08\", \"Q3 08\", \"Q4 08\", \"Q1 09\", \"Q2 09\", \"Q3 09\", \"Q4 09\", \"Q1 10\", \"Q2 10\", \"Q3 10\", \"Q4 10\", \"Q1 11\", \"Q2 11\", \"Q3 11\", \"Q4 11\", \"Q1 12\", \"Q2 12\", \"Q3 12\", \"Q4 12\", \"Q1 13\", \"Q2 13\", \"Q3 13\", \"Q4 13\", \"Q1 14\", \"Q2 14\", \"Q3 14\", \"Q4 14\", \"Q1 15\", \"Q2 15\", \"Q3 15\", \"Q4 15\", \"Q1 16\", \"Q2 16\", \"Q3 16\", \"Q4 16\", \"Q1 17\", \"Q2 17\", \"Q3 17\", \"Q4 17\", \"Q1 18\", \"Q2 18\", \"Q3 18\", \"Q4 18\", \"Q1 19\", \"Q2 19\", \"Q3 19\", \"Q4 19\", \"Q1 20\", \"Q2 20\", \"Q3 20\", \"Q4 20\"], \"y\": [12.6, 13.6, 12.7, 12.7, 12.9, 13, 13.1, 12.5, 12.4, 12.9, 12, 12.2, 11.5, 11.8, 11.8, 11.8, 11.5, 11.5, 11.4, 11.1, 11.1, 11.2, 10.8, 10.5, 10.7, 10.5, 10.6, 10.5, 10.8, 10.6, 10.2, 10, 9.7, 9.7, 9.9, 10, 10.1, 9.3, 8.9, 9.1, 9.9, 9.9, 10, 10.2, 9.8, 10, 10.3, 10.2, 10.8, 10.5, 10.8, 10.2, 10.6, 10.7, 10.8, 10.4, 10.3, 10.2, 10.6, 11.1, 10.3, 10.6, 10.6, 11, 10.8, 10.6, 10.5, 10.9, 10.9, 11.5, 11.4, 9.8, 10.4, 10.5, 10.4, 10.2, 10.5, 10.4, 10.2, 10.1, 10, 10.1, 10.1, 9.9, 10, 9.9, 9.7, 9, 9.4, 9.5, 9.2, 9.1, 9.8, 9.9, 9.8, 9.8, 9.8, 10.3, 10, 10.2, 10.2, 10.1, 10.3, 10.2, 10.5, 10.5, 10.5, 10.8, 10.8, 10.8, 11.1, 11.1, 10.7, 10.7, 10.9, 11.1, 11.7, 20.3, 15.3, 17.7]}],                        {\"template\": {\"data\": {\"bar\": [{\"error_x\": {\"color\": \"#2a3f5f\"}, \"error_y\": {\"color\": \"#2a3f5f\"}, \"marker\": {\"line\": {\"color\": \"#E5ECF6\", \"width\": 0.5}}, \"type\": \"bar\"}], \"barpolar\": [{\"marker\": {\"line\": {\"color\": \"#E5ECF6\", \"width\": 0.5}}, \"type\": \"barpolar\"}], \"carpet\": [{\"aaxis\": {\"endlinecolor\": \"#2a3f5f\", \"gridcolor\": \"white\", \"linecolor\": \"white\", \"minorgridcolor\": \"white\", \"startlinecolor\": \"#2a3f5f\"}, \"baxis\": {\"endlinecolor\": \"#2a3f5f\", \"gridcolor\": \"white\", \"linecolor\": \"white\", \"minorgridcolor\": \"white\", \"startlinecolor\": \"#2a3f5f\"}, \"type\": \"carpet\"}], \"choropleth\": [{\"colorbar\": {\"outlinewidth\": 0, \"ticks\": \"\"}, \"type\": \"choropleth\"}], \"contour\": [{\"colorbar\": {\"outlinewidth\": 0, \"ticks\": \"\"}, \"colorscale\": [[0.0, \"#0d0887\"], [0.1111111111111111, \"#46039f\"], [0.2222222222222222, \"#7201a8\"], [0.3333333333333333, \"#9c179e\"], [0.4444444444444444, \"#bd3786\"], [0.5555555555555556, \"#d8576b\"], [0.6666666666666666, \"#ed7953\"], [0.7777777777777778, \"#fb9f3a\"], [0.8888888888888888, \"#fdca26\"], [1.0, \"#f0f921\"]], \"type\": \"contour\"}], \"contourcarpet\": [{\"colorbar\": {\"outlinewidth\": 0, \"ticks\": \"\"}, \"type\": \"contourcarpet\"}], \"heatmap\": [{\"colorbar\": {\"outlinewidth\": 0, \"ticks\": \"\"}, \"colorscale\": [[0.0, \"#0d0887\"], [0.1111111111111111, \"#46039f\"], [0.2222222222222222, \"#7201a8\"], [0.3333333333333333, \"#9c179e\"], [0.4444444444444444, \"#bd3786\"], [0.5555555555555556, \"#d8576b\"], [0.6666666666666666, \"#ed7953\"], [0.7777777777777778, \"#fb9f3a\"], [0.8888888888888888, \"#fdca26\"], [1.0, \"#f0f921\"]], \"type\": \"heatmap\"}], \"heatmapgl\": [{\"colorbar\": {\"outlinewidth\": 0, \"ticks\": \"\"}, \"colorscale\": [[0.0, \"#0d0887\"], [0.1111111111111111, \"#46039f\"], [0.2222222222222222, \"#7201a8\"], [0.3333333333333333, \"#9c179e\"], [0.4444444444444444, \"#bd3786\"], [0.5555555555555556, \"#d8576b\"], [0.6666666666666666, \"#ed7953\"], [0.7777777777777778, \"#fb9f3a\"], [0.8888888888888888, \"#fdca26\"], [1.0, \"#f0f921\"]], \"type\": \"heatmapgl\"}], \"histogram\": [{\"marker\": {\"colorbar\": {\"outlinewidth\": 0, \"ticks\": \"\"}}, \"type\": \"histogram\"}], \"histogram2d\": [{\"colorbar\": {\"outlinewidth\": 0, \"ticks\": \"\"}, \"colorscale\": [[0.0, \"#0d0887\"], [0.1111111111111111, \"#46039f\"], [0.2222222222222222, \"#7201a8\"], [0.3333333333333333, \"#9c179e\"], [0.4444444444444444, \"#bd3786\"], [0.5555555555555556, \"#d8576b\"], [0.6666666666666666, \"#ed7953\"], [0.7777777777777778, \"#fb9f3a\"], [0.8888888888888888, \"#fdca26\"], [1.0, \"#f0f921\"]], \"type\": \"histogram2d\"}], \"histogram2dcontour\": [{\"colorbar\": {\"outlinewidth\": 0, \"ticks\": \"\"}, \"colorscale\": [[0.0, \"#0d0887\"], [0.1111111111111111, \"#46039f\"], [0.2222222222222222, \"#7201a8\"], [0.3333333333333333, \"#9c179e\"], [0.4444444444444444, \"#bd3786\"], [0.5555555555555556, \"#d8576b\"], [0.6666666666666666, \"#ed7953\"], [0.7777777777777778, \"#fb9f3a\"], [0.8888888888888888, \"#fdca26\"], [1.0, \"#f0f921\"]], \"type\": \"histogram2dcontour\"}], \"mesh3d\": [{\"colorbar\": {\"outlinewidth\": 0, \"ticks\": \"\"}, \"type\": \"mesh3d\"}], \"parcoords\": [{\"line\": {\"colorbar\": {\"outlinewidth\": 0, \"ticks\": \"\"}}, \"type\": \"parcoords\"}], \"pie\": [{\"automargin\": true, \"type\": \"pie\"}], \"scatter\": [{\"marker\": {\"colorbar\": {\"outlinewidth\": 0, \"ticks\": \"\"}}, \"type\": \"scatter\"}], \"scatter3d\": [{\"line\": {\"colorbar\": {\"outlinewidth\": 0, \"ticks\": \"\"}}, \"marker\": {\"colorbar\": {\"outlinewidth\": 0, \"ticks\": \"\"}}, \"type\": \"scatter3d\"}], \"scattercarpet\": [{\"marker\": {\"colorbar\": {\"outlinewidth\": 0, \"ticks\": \"\"}}, \"type\": \"scattercarpet\"}], \"scattergeo\": [{\"marker\": {\"colorbar\": {\"outlinewidth\": 0, \"ticks\": \"\"}}, \"type\": \"scattergeo\"}], \"scattergl\": [{\"marker\": {\"colorbar\": {\"outlinewidth\": 0, \"ticks\": \"\"}}, \"type\": \"scattergl\"}], \"scattermapbox\": [{\"marker\": {\"colorbar\": {\"outlinewidth\": 0, \"ticks\": \"\"}}, \"type\": \"scattermapbox\"}], \"scatterpolar\": [{\"marker\": {\"colorbar\": {\"outlinewidth\": 0, \"ticks\": \"\"}}, \"type\": \"scatterpolar\"}], \"scatterpolargl\": [{\"marker\": {\"colorbar\": {\"outlinewidth\": 0, \"ticks\": \"\"}}, \"type\": \"scatterpolargl\"}], \"scatterternary\": [{\"marker\": {\"colorbar\": {\"outlinewidth\": 0, \"ticks\": \"\"}}, \"type\": \"scatterternary\"}], \"surface\": [{\"colorbar\": {\"outlinewidth\": 0, \"ticks\": \"\"}, \"colorscale\": [[0.0, \"#0d0887\"], [0.1111111111111111, \"#46039f\"], [0.2222222222222222, \"#7201a8\"], [0.3333333333333333, \"#9c179e\"], [0.4444444444444444, \"#bd3786\"], [0.5555555555555556, \"#d8576b\"], [0.6666666666666666, \"#ed7953\"], [0.7777777777777778, \"#fb9f3a\"], [0.8888888888888888, \"#fdca26\"], [1.0, \"#f0f921\"]], \"type\": \"surface\"}], \"table\": [{\"cells\": {\"fill\": {\"color\": \"#EBF0F8\"}, \"line\": {\"color\": \"white\"}}, \"header\": {\"fill\": {\"color\": \"#C8D4E3\"}, \"line\": {\"color\": \"white\"}}, \"type\": \"table\"}]}, \"layout\": {\"annotationdefaults\": {\"arrowcolor\": \"#2a3f5f\", \"arrowhead\": 0, \"arrowwidth\": 1}, \"autotypenumbers\": \"strict\", \"coloraxis\": {\"colorbar\": {\"outlinewidth\": 0, \"ticks\": \"\"}}, \"colorscale\": {\"diverging\": [[0, \"#8e0152\"], [0.1, \"#c51b7d\"], [0.2, \"#de77ae\"], [0.3, \"#f1b6da\"], [0.4, \"#fde0ef\"], [0.5, \"#f7f7f7\"], [0.6, \"#e6f5d0\"], [0.7, \"#b8e186\"], [0.8, \"#7fbc41\"], [0.9, \"#4d9221\"], [1, \"#276419\"]], \"sequential\": [[0.0, \"#0d0887\"], [0.1111111111111111, \"#46039f\"], [0.2222222222222222, \"#7201a8\"], [0.3333333333333333, \"#9c179e\"], [0.4444444444444444, \"#bd3786\"], [0.5555555555555556, \"#d8576b\"], [0.6666666666666666, \"#ed7953\"], [0.7777777777777778, \"#fb9f3a\"], [0.8888888888888888, \"#fdca26\"], [1.0, \"#f0f921\"]], \"sequentialminus\": [[0.0, \"#0d0887\"], [0.1111111111111111, \"#46039f\"], [0.2222222222222222, \"#7201a8\"], [0.3333333333333333, \"#9c179e\"], [0.4444444444444444, \"#bd3786\"], [0.5555555555555556, \"#d8576b\"], [0.6666666666666666, \"#ed7953\"], [0.7777777777777778, \"#fb9f3a\"], [0.8888888888888888, \"#fdca26\"], [1.0, \"#f0f921\"]]}, \"colorway\": [\"#636efa\", \"#EF553B\", \"#00cc96\", \"#ab63fa\", \"#FFA15A\", \"#19d3f3\", \"#FF6692\", \"#B6E880\", \"#FF97FF\", \"#FECB52\"], \"font\": {\"color\": \"#2a3f5f\"}, \"geo\": {\"bgcolor\": \"white\", \"lakecolor\": \"white\", \"landcolor\": \"#E5ECF6\", \"showlakes\": true, \"showland\": true, \"subunitcolor\": \"white\"}, \"hoverlabel\": {\"align\": \"left\"}, \"hovermode\": \"closest\", \"mapbox\": {\"style\": \"light\"}, \"paper_bgcolor\": \"white\", \"plot_bgcolor\": \"#E5ECF6\", \"polar\": {\"angularaxis\": {\"gridcolor\": \"white\", \"linecolor\": \"white\", \"ticks\": \"\"}, \"bgcolor\": \"#E5ECF6\", \"radialaxis\": {\"gridcolor\": \"white\", \"linecolor\": \"white\", \"ticks\": \"\"}}, \"scene\": {\"xaxis\": {\"backgroundcolor\": \"#E5ECF6\", \"gridcolor\": \"white\", \"gridwidth\": 2, \"linecolor\": \"white\", \"showbackground\": true, \"ticks\": \"\", \"zerolinecolor\": \"white\"}, \"yaxis\": {\"backgroundcolor\": \"#E5ECF6\", \"gridcolor\": \"white\", \"gridwidth\": 2, \"linecolor\": \"white\", \"showbackground\": true, \"ticks\": \"\", \"zerolinecolor\": \"white\"}, \"zaxis\": {\"backgroundcolor\": \"#E5ECF6\", \"gridcolor\": \"white\", \"gridwidth\": 2, \"linecolor\": \"white\", \"showbackground\": true, \"ticks\": \"\", \"zerolinecolor\": \"white\"}}, \"shapedefaults\": {\"line\": {\"color\": \"#2a3f5f\"}}, \"ternary\": {\"aaxis\": {\"gridcolor\": \"white\", \"linecolor\": \"white\", \"ticks\": \"\"}, \"baxis\": {\"gridcolor\": \"white\", \"linecolor\": \"white\", \"ticks\": \"\"}, \"bgcolor\": \"#E5ECF6\", \"caxis\": {\"gridcolor\": \"white\", \"linecolor\": \"white\", \"ticks\": \"\"}}, \"title\": {\"x\": 0.05}, \"xaxis\": {\"automargin\": true, \"gridcolor\": \"white\", \"linecolor\": \"white\", \"ticks\": \"\", \"title\": {\"standoff\": 15}, \"zerolinecolor\": \"white\", \"zerolinewidth\": 2}, \"yaxis\": {\"automargin\": true, \"gridcolor\": \"white\", \"linecolor\": \"white\", \"ticks\": \"\", \"title\": {\"standoff\": 15}, \"zerolinecolor\": \"white\", \"zerolinewidth\": 2}}}, \"title\": {\"text\": \"Private sector savings rate (Germany)\"}, \"xaxis\": {\"rangeslider\": {\"visible\": true}, \"title\": {\"text\": \"Quarter-Year\"}}, \"yaxis\": {\"title\": {\"text\": \"in % of disposable income\"}}},                        {\"responsive\": true}                    ).then(function(){\n",
       "                            \n",
       "var gd = document.getElementById('7baf2d21-ea33-416a-a4c8-b9d58c9d875a');\n",
       "var x = new MutationObserver(function (mutations, observer) {{\n",
       "        var display = window.getComputedStyle(gd).display;\n",
       "        if (!display || display === 'none') {{\n",
       "            console.log([gd, 'removed!']);\n",
       "            Plotly.purge(gd);\n",
       "            observer.disconnect();\n",
       "        }}\n",
       "}});\n",
       "\n",
       "// Listen for the removal of the full notebook cells\n",
       "var notebookContainer = gd.closest('#notebook-container');\n",
       "if (notebookContainer) {{\n",
       "    x.observe(notebookContainer, {childList: true});\n",
       "}}\n",
       "\n",
       "// Listen for the clearing of the current output cell\n",
       "var outputEl = gd.closest('.output');\n",
       "if (outputEl) {{\n",
       "    x.observe(outputEl, {childList: true});\n",
       "}}\n",
       "\n",
       "                        })                };                });            </script>        </div>"
      ]
     },
     "metadata": {},
     "output_type": "display_data"
    }
   ],
   "source": [
    "fig = go.Figure(data=[\n",
    "    \n",
    "    go.Scatter(name='Private sector savings rate', x = list(df.index),\n",
    "    y = list(df['Rate']))\n",
    "    \n",
    "])\n",
    "\n",
    "fig.layout.update(title = go.layout.Title(\n",
    "                        text='Private sector savings rate (Germany)'))\n",
    "\n",
    "fig.layout.update(yaxis= go.layout.YAxis(title=go.layout.yaxis.Title(\n",
    "                        text='in % of disposable income')))\n",
    "\n",
    "fig.layout.update(xaxis = go.layout.XAxis(title = go.layout.xaxis.Title(text = 'Quarter-Year'), rangeslider = dict(visible = True)));\n",
    "\n",
    "iplot(fig, filename = 'savings_rate')"
   ]
  },
  {
   "cell_type": "code",
   "execution_count": null,
   "id": "73e1497a",
   "metadata": {},
   "outputs": [],
   "source": []
  }
 ],
 "metadata": {
  "kernelspec": {
   "display_name": "Webscraping Workshop",
   "language": "python",
   "name": "webscraping"
  },
  "language_info": {
   "codemirror_mode": {
    "name": "ipython",
    "version": 3
   },
   "file_extension": ".py",
   "mimetype": "text/x-python",
   "name": "python",
   "nbconvert_exporter": "python",
   "pygments_lexer": "ipython3",
   "version": "3.8.8"
  }
 },
 "nbformat": 4,
 "nbformat_minor": 5
}
